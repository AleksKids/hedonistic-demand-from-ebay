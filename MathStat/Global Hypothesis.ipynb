{
 "cells": [
  {
   "cell_type": "markdown",
   "source": [
    "# Проверка гипотез"
   ],
   "metadata": {
    "collapsed": false
   }
  },
  {
   "cell_type": "markdown",
   "source": [
    "При визуализации у вас возникли гипотезы о закономерностях, которые есть в ваших данных. Проверьте эти гипотезы с помощью математической статистики. Итоговый балл зависит от того, насколько интересные находки вы сделаете и насколько корректно вы подберёте для проверки критерий/процедуру. Это может быть что угодно от непараметрических тестов и z-статистики до бутстрапа и теста отношения правдоподобий."
   ],
   "metadata": {
    "collapsed": false
   }
  },
  {
   "cell_type": "code",
   "execution_count": 62,
   "outputs": [],
   "source": [
    "import pandas as pd\n",
    "import numpy as np\n",
    "import scipy.stats as sts\n",
    "from math import ceil\n",
    "import matplotlib.pyplot as plt\n",
    "import seaborn as sns\n",
    "from scipy.stats import mannwhitneyu, bartlett, ttest_ind, shapiro, ks_2samp, ttest_1samp, chi2_contingency, ttest_rel\n",
    "from collections import defaultdict"
   ],
   "metadata": {
    "collapsed": false,
    "pycharm": {
     "name": "#%%\n"
    }
   }
  },
  {
   "cell_type": "code",
   "execution_count": 63,
   "metadata": {
    "collapsed": true
   },
   "outputs": [
    {
     "data": {
      "text/plain": "                                               Title   Price  Shipping_cost  \\\n0  Apple iPhone 11 64GB Factory Unlocked 4G LTE S...  337.59           0.00   \n1  Apple iPhone XR 64GB Factory Unlocked Smartpho...  266.28           0.00   \n2  Apple iPhone 11 64GB Unlocked Smartphone - Ver...  359.11          16.93   \n3  Apple iPhone X 64GB Factory Unlocked Phone - V...  231.98          16.50   \n4  Apple iPhone X 256GB Unlocked Smartphone - Ver...  263.59          15.34   \n\n   Sales_Count  Sales_Value  \\\n0      19787.0   6679958.00   \n1      12440.0   3312560.60   \n2      12224.0   4389742.37   \n3      11781.0   2732899.88   \n4      10020.0   2641203.85   \n\n                                                Link                Condition  \\\n0  https://www.ebay.com/itm/254604777645?nordt=tr...  Very Good - Refurbished   \n1  https://www.ebay.com/itm/254187678666?nordt=tr...  Very Good - Refurbished   \n2  https://www.ebay.com/itm/363183815277?nordt=tr...  Very Good - Refurbished   \n3  https://www.ebay.com/itm/382605209867?nordt=tr...  Very Good - Refurbished   \n4  https://www.ebay.com/itm/382446518910?nordt=tr...  Very Good - Refurbished   \n\n                                        Seller Notes  Brand            Model  \\\n0  “This iPhone 11 is in Very Good condition and ...  apple        iPhone 11   \n1  “This Apple iPhone XR 64GB Factory Unlocked Sm...  apple        iPhone XR   \n2  “This is a B+ Stock item, meaning unit is in v...  apple  Apple iPhone 11   \n3  “This is a B+ Stock item, meaning unit is in v...  apple   Apple iPhone X   \n4  “This is a B+ Stock item, meaning unit is in v...  apple   Apple iPhone X   \n\n   ...  OTG Infrared  Lightning  Quad-Band Tri-Band  Wireless charging WAP  \\\n0  ...  0.0        0        0.0          0        0                0.0   0   \n1  ...  0.0        0        0.0          0        0                0.0   0   \n2  ...  0.0        0        0.0          0        0                0.0   0   \n3  ...  1.0        1        1.0          1        1                1.0   1   \n4  ...  0.0        0        0.0          0        0                0.0   0   \n\n  WCDMA            Last_Sale Is_Target  \n0     0  2023-06-14 00:00:00         0  \n1     0  2023-06-14 00:00:00         0  \n2     0  2023-06-14 00:00:00         0  \n3     1  2023-06-14 00:00:00         0  \n4     0  2023-06-14 00:00:00         0  \n\n[5 rows x 65 columns]",
      "text/html": "<div>\n<style scoped>\n    .dataframe tbody tr th:only-of-type {\n        vertical-align: middle;\n    }\n\n    .dataframe tbody tr th {\n        vertical-align: top;\n    }\n\n    .dataframe thead th {\n        text-align: right;\n    }\n</style>\n<table border=\"1\" class=\"dataframe\">\n  <thead>\n    <tr style=\"text-align: right;\">\n      <th></th>\n      <th>Title</th>\n      <th>Price</th>\n      <th>Shipping_cost</th>\n      <th>Sales_Count</th>\n      <th>Sales_Value</th>\n      <th>Link</th>\n      <th>Condition</th>\n      <th>Seller Notes</th>\n      <th>Brand</th>\n      <th>Model</th>\n      <th>...</th>\n      <th>OTG</th>\n      <th>Infrared</th>\n      <th>Lightning</th>\n      <th>Quad-Band</th>\n      <th>Tri-Band</th>\n      <th>Wireless charging</th>\n      <th>WAP</th>\n      <th>WCDMA</th>\n      <th>Last_Sale</th>\n      <th>Is_Target</th>\n    </tr>\n  </thead>\n  <tbody>\n    <tr>\n      <th>0</th>\n      <td>Apple iPhone 11 64GB Factory Unlocked 4G LTE S...</td>\n      <td>337.59</td>\n      <td>0.00</td>\n      <td>19787.0</td>\n      <td>6679958.00</td>\n      <td>https://www.ebay.com/itm/254604777645?nordt=tr...</td>\n      <td>Very Good - Refurbished</td>\n      <td>“This iPhone 11 is in Very Good condition and ...</td>\n      <td>apple</td>\n      <td>iPhone 11</td>\n      <td>...</td>\n      <td>0.0</td>\n      <td>0</td>\n      <td>0.0</td>\n      <td>0</td>\n      <td>0</td>\n      <td>0.0</td>\n      <td>0</td>\n      <td>0</td>\n      <td>2023-06-14 00:00:00</td>\n      <td>0</td>\n    </tr>\n    <tr>\n      <th>1</th>\n      <td>Apple iPhone XR 64GB Factory Unlocked Smartpho...</td>\n      <td>266.28</td>\n      <td>0.00</td>\n      <td>12440.0</td>\n      <td>3312560.60</td>\n      <td>https://www.ebay.com/itm/254187678666?nordt=tr...</td>\n      <td>Very Good - Refurbished</td>\n      <td>“This Apple iPhone XR 64GB Factory Unlocked Sm...</td>\n      <td>apple</td>\n      <td>iPhone XR</td>\n      <td>...</td>\n      <td>0.0</td>\n      <td>0</td>\n      <td>0.0</td>\n      <td>0</td>\n      <td>0</td>\n      <td>0.0</td>\n      <td>0</td>\n      <td>0</td>\n      <td>2023-06-14 00:00:00</td>\n      <td>0</td>\n    </tr>\n    <tr>\n      <th>2</th>\n      <td>Apple iPhone 11 64GB Unlocked Smartphone - Ver...</td>\n      <td>359.11</td>\n      <td>16.93</td>\n      <td>12224.0</td>\n      <td>4389742.37</td>\n      <td>https://www.ebay.com/itm/363183815277?nordt=tr...</td>\n      <td>Very Good - Refurbished</td>\n      <td>“This is a B+ Stock item, meaning unit is in v...</td>\n      <td>apple</td>\n      <td>Apple iPhone 11</td>\n      <td>...</td>\n      <td>0.0</td>\n      <td>0</td>\n      <td>0.0</td>\n      <td>0</td>\n      <td>0</td>\n      <td>0.0</td>\n      <td>0</td>\n      <td>0</td>\n      <td>2023-06-14 00:00:00</td>\n      <td>0</td>\n    </tr>\n    <tr>\n      <th>3</th>\n      <td>Apple iPhone X 64GB Factory Unlocked Phone - V...</td>\n      <td>231.98</td>\n      <td>16.50</td>\n      <td>11781.0</td>\n      <td>2732899.88</td>\n      <td>https://www.ebay.com/itm/382605209867?nordt=tr...</td>\n      <td>Very Good - Refurbished</td>\n      <td>“This is a B+ Stock item, meaning unit is in v...</td>\n      <td>apple</td>\n      <td>Apple iPhone X</td>\n      <td>...</td>\n      <td>1.0</td>\n      <td>1</td>\n      <td>1.0</td>\n      <td>1</td>\n      <td>1</td>\n      <td>1.0</td>\n      <td>1</td>\n      <td>1</td>\n      <td>2023-06-14 00:00:00</td>\n      <td>0</td>\n    </tr>\n    <tr>\n      <th>4</th>\n      <td>Apple iPhone X 256GB Unlocked Smartphone - Ver...</td>\n      <td>263.59</td>\n      <td>15.34</td>\n      <td>10020.0</td>\n      <td>2641203.85</td>\n      <td>https://www.ebay.com/itm/382446518910?nordt=tr...</td>\n      <td>Very Good - Refurbished</td>\n      <td>“This is a B+ Stock item, meaning unit is in v...</td>\n      <td>apple</td>\n      <td>Apple iPhone X</td>\n      <td>...</td>\n      <td>0.0</td>\n      <td>0</td>\n      <td>0.0</td>\n      <td>0</td>\n      <td>0</td>\n      <td>0.0</td>\n      <td>0</td>\n      <td>0</td>\n      <td>2023-06-14 00:00:00</td>\n      <td>0</td>\n    </tr>\n  </tbody>\n</table>\n<p>5 rows × 65 columns</p>\n</div>"
     },
     "execution_count": 61,
     "metadata": {},
     "output_type": "execute_result"
    },
    {
     "data": {
      "text/plain": "                                               Title   Price  Shipping_cost  \\\n0  Apple iPhone 11 64GB Factory Unlocked 4G LTE S...  337.59           0.00   \n1  Apple iPhone XR 64GB Factory Unlocked Smartpho...  266.28           0.00   \n2  Apple iPhone 11 64GB Unlocked Smartphone - Ver...  359.11          16.93   \n3  Apple iPhone X 64GB Factory Unlocked Phone - V...  231.98          16.50   \n4  Apple iPhone X 256GB Unlocked Smartphone - Ver...  263.59          15.34   \n\n   Sales_Count  Sales_Value  \\\n0      19787.0   6679958.00   \n1      12440.0   3312560.60   \n2      12224.0   4389742.37   \n3      11781.0   2732899.88   \n4      10020.0   2641203.85   \n\n                                                Link                Condition  \\\n0  https://www.ebay.com/itm/254604777645?nordt=tr...  Very Good - Refurbished   \n1  https://www.ebay.com/itm/254187678666?nordt=tr...  Very Good - Refurbished   \n2  https://www.ebay.com/itm/363183815277?nordt=tr...  Very Good - Refurbished   \n3  https://www.ebay.com/itm/382605209867?nordt=tr...  Very Good - Refurbished   \n4  https://www.ebay.com/itm/382446518910?nordt=tr...  Very Good - Refurbished   \n\n                                        Seller Notes  Brand            Model  \\\n0  “This iPhone 11 is in Very Good condition and ...  apple        iPhone 11   \n1  “This Apple iPhone XR 64GB Factory Unlocked Sm...  apple        iPhone XR   \n2  “This is a B+ Stock item, meaning unit is in v...  apple  Apple iPhone 11   \n3  “This is a B+ Stock item, meaning unit is in v...  apple   Apple iPhone X   \n4  “This is a B+ Stock item, meaning unit is in v...  apple   Apple iPhone X   \n\n   ...  OTG Infrared  Lightning  Quad-Band Tri-Band  Wireless charging WAP  \\\n0  ...  0.0        0        0.0          0        0                0.0   0   \n1  ...  0.0        0        0.0          0        0                0.0   0   \n2  ...  0.0        0        0.0          0        0                0.0   0   \n3  ...  1.0        1        1.0          1        1                1.0   1   \n4  ...  0.0        0        0.0          0        0                0.0   0   \n\n  WCDMA            Last_Sale Is_Target  \n0     0  2023-06-14 00:00:00         0  \n1     0  2023-06-14 00:00:00         0  \n2     0  2023-06-14 00:00:00         0  \n3     1  2023-06-14 00:00:00         0  \n4     0  2023-06-14 00:00:00         0  \n\n[5 rows x 65 columns]",
      "text/html": "<div>\n<style scoped>\n    .dataframe tbody tr th:only-of-type {\n        vertical-align: middle;\n    }\n\n    .dataframe tbody tr th {\n        vertical-align: top;\n    }\n\n    .dataframe thead th {\n        text-align: right;\n    }\n</style>\n<table border=\"1\" class=\"dataframe\">\n  <thead>\n    <tr style=\"text-align: right;\">\n      <th></th>\n      <th>Title</th>\n      <th>Price</th>\n      <th>Shipping_cost</th>\n      <th>Sales_Count</th>\n      <th>Sales_Value</th>\n      <th>Link</th>\n      <th>Condition</th>\n      <th>Seller Notes</th>\n      <th>Brand</th>\n      <th>Model</th>\n      <th>...</th>\n      <th>OTG</th>\n      <th>Infrared</th>\n      <th>Lightning</th>\n      <th>Quad-Band</th>\n      <th>Tri-Band</th>\n      <th>Wireless charging</th>\n      <th>WAP</th>\n      <th>WCDMA</th>\n      <th>Last_Sale</th>\n      <th>Is_Target</th>\n    </tr>\n  </thead>\n  <tbody>\n    <tr>\n      <th>0</th>\n      <td>Apple iPhone 11 64GB Factory Unlocked 4G LTE S...</td>\n      <td>337.59</td>\n      <td>0.00</td>\n      <td>19787.0</td>\n      <td>6679958.00</td>\n      <td>https://www.ebay.com/itm/254604777645?nordt=tr...</td>\n      <td>Very Good - Refurbished</td>\n      <td>“This iPhone 11 is in Very Good condition and ...</td>\n      <td>apple</td>\n      <td>iPhone 11</td>\n      <td>...</td>\n      <td>0.0</td>\n      <td>0</td>\n      <td>0.0</td>\n      <td>0</td>\n      <td>0</td>\n      <td>0.0</td>\n      <td>0</td>\n      <td>0</td>\n      <td>2023-06-14 00:00:00</td>\n      <td>0</td>\n    </tr>\n    <tr>\n      <th>1</th>\n      <td>Apple iPhone XR 64GB Factory Unlocked Smartpho...</td>\n      <td>266.28</td>\n      <td>0.00</td>\n      <td>12440.0</td>\n      <td>3312560.60</td>\n      <td>https://www.ebay.com/itm/254187678666?nordt=tr...</td>\n      <td>Very Good - Refurbished</td>\n      <td>“This Apple iPhone XR 64GB Factory Unlocked Sm...</td>\n      <td>apple</td>\n      <td>iPhone XR</td>\n      <td>...</td>\n      <td>0.0</td>\n      <td>0</td>\n      <td>0.0</td>\n      <td>0</td>\n      <td>0</td>\n      <td>0.0</td>\n      <td>0</td>\n      <td>0</td>\n      <td>2023-06-14 00:00:00</td>\n      <td>0</td>\n    </tr>\n    <tr>\n      <th>2</th>\n      <td>Apple iPhone 11 64GB Unlocked Smartphone - Ver...</td>\n      <td>359.11</td>\n      <td>16.93</td>\n      <td>12224.0</td>\n      <td>4389742.37</td>\n      <td>https://www.ebay.com/itm/363183815277?nordt=tr...</td>\n      <td>Very Good - Refurbished</td>\n      <td>“This is a B+ Stock item, meaning unit is in v...</td>\n      <td>apple</td>\n      <td>Apple iPhone 11</td>\n      <td>...</td>\n      <td>0.0</td>\n      <td>0</td>\n      <td>0.0</td>\n      <td>0</td>\n      <td>0</td>\n      <td>0.0</td>\n      <td>0</td>\n      <td>0</td>\n      <td>2023-06-14 00:00:00</td>\n      <td>0</td>\n    </tr>\n    <tr>\n      <th>3</th>\n      <td>Apple iPhone X 64GB Factory Unlocked Phone - V...</td>\n      <td>231.98</td>\n      <td>16.50</td>\n      <td>11781.0</td>\n      <td>2732899.88</td>\n      <td>https://www.ebay.com/itm/382605209867?nordt=tr...</td>\n      <td>Very Good - Refurbished</td>\n      <td>“This is a B+ Stock item, meaning unit is in v...</td>\n      <td>apple</td>\n      <td>Apple iPhone X</td>\n      <td>...</td>\n      <td>1.0</td>\n      <td>1</td>\n      <td>1.0</td>\n      <td>1</td>\n      <td>1</td>\n      <td>1.0</td>\n      <td>1</td>\n      <td>1</td>\n      <td>2023-06-14 00:00:00</td>\n      <td>0</td>\n    </tr>\n    <tr>\n      <th>4</th>\n      <td>Apple iPhone X 256GB Unlocked Smartphone - Ver...</td>\n      <td>263.59</td>\n      <td>15.34</td>\n      <td>10020.0</td>\n      <td>2641203.85</td>\n      <td>https://www.ebay.com/itm/382446518910?nordt=tr...</td>\n      <td>Very Good - Refurbished</td>\n      <td>“This is a B+ Stock item, meaning unit is in v...</td>\n      <td>apple</td>\n      <td>Apple iPhone X</td>\n      <td>...</td>\n      <td>0.0</td>\n      <td>0</td>\n      <td>0.0</td>\n      <td>0</td>\n      <td>0</td>\n      <td>0.0</td>\n      <td>0</td>\n      <td>0</td>\n      <td>2023-06-14 00:00:00</td>\n      <td>0</td>\n    </tr>\n  </tbody>\n</table>\n<p>5 rows × 65 columns</p>\n</div>"
     },
     "execution_count": 63,
     "metadata": {},
     "output_type": "execute_result"
    }
   ],
   "source": [
    "data = pd.read_csv('https://raw.githubusercontent.com/AleksKids/hedonistic-demand-from-ebay/main/Preprocessing/Great_BD.tsv', delimiter = \"\\t\")\n",
    "data.head()"
   ]
  },
  {
   "cell_type": "markdown",
   "source": [
    "## Проверка гипотезы о лог-нормальности распределения цен"
   ],
   "metadata": {
    "collapsed": false
   }
  },
  {
   "cell_type": "markdown",
   "source": [
    "Далее мы рассматриваем выборку из независимых случайных величин, таких как цены смартфонов. Естественно, стоимость начинается с 0 (\"покупаю за бесплатно!\"). Цена представлена в долларах за один гаджет."
   ],
   "metadata": {
    "collapsed": false
   }
  },
  {
   "cell_type": "code",
   "execution_count": 64,
   "outputs": [
    {
     "data": {
      "text/plain": "<Figure size 640x480 with 1 Axes>",
      "image/png": "[encoded data removed]"
     },
     "metadata": {},
     "output_type": "display_data"
    }
   ],
   "source": [
    "# Гистограмма распределения цен\n",
    "sns.histplot(data[data.Is_Target==0]['Price'], bins=20)\n",
    "plt.title('Distribution of Prices')\n",
    "plt.xlabel('Price')\n",
    "plt.ylabel('Count')\n",
    "plt.show()"
   ],
   "metadata": {
    "collapsed": false,
    "pycharm": {
     "name": "#%%\n"
    }
   }
  },
  {
   "cell_type": "markdown",
   "source": [
    "Визуально распределение цен напомнило нам логнормальное распределение, поэтому далее мы захотели проверить нашу гипотезу."
   ],
   "metadata": {
    "collapsed": false
   }
  },
  {
   "cell_type": "code",
   "execution_count": 65,
   "outputs": [
    {
     "data": {
      "text/plain": "<Figure size 640x480 with 1 Axes>",
      "image/png": "[encoded data removed]"
     },
     "metadata": {},
     "output_type": "display_data"
    }
   ],
   "source": [
    "# Гистограмма распределения логарифма цен\n",
    "sns.histplot(np.log(data[data.Is_Target==0]['Price']), bins=30)\n",
    "plt.title('Distribution of Log Prices')\n",
    "plt.xlabel('Price')\n",
    "plt.ylabel('Count')\n",
    "plt.show()"
   ],
   "metadata": {
    "collapsed": false,
    "pycharm": {
     "name": "#%%\n"
    }
   }
  },
  {
   "cell_type": "markdown",
   "source": [
    "На гистограмме изображено распределение логарифма цен, и вот оно как раз совсем напоминает нормальное (визуально с мат.ожиданием 5 и стандартным отклонением 0,5)"
   ],
   "metadata": {
    "collapsed": false
   }
  },
  {
   "cell_type": "markdown",
   "source": [
    "Для проверки нормальности распределения данных можно использовать различные статистические тесты. Некоторые из наиболее распространенных тестов включают в себя:\n",
    "\n",
    "Критерий Шапиро-Уилка (Shapiro-Wilk test): Этот тест проверяет гипотезу о нормальности распределения. Он вычисляет статистику W и выдает соответствующее p-значение. Если p-значение меньше заданного уровня значимости, то гипотеза о нормальности отвергается.\n",
    "\n",
    "Колмогорова-Смирнова тест (Kolmogorov-Smirnov test): Этот тест используется для сравнения эмпирической функции распределения с теоретической функцией распределения. Он вычисляет статистику Колмогорова-Смирнова и p-значение. Если p-значение меньше заданного уровня значимости, то гипотеза о нормальности отвергается.\n",
    "\n",
    "Андерсона-Дарлинга тест (Anderson-Darling test): Этот тест также основан на сравнении эмпирической функции распределения с теоретической функцией распределения, но в отличие от Колмогорова-Смирнова теста, он накладывает больший учет на значения, находящиеся в хвостах распределения. Он вычисляет статистику Андерсона-Дарлинга и p-значение, и если p-значение меньше заданного уровня значимости, то гипотеза о нормальности отвергается."
   ],
   "metadata": {
    "collapsed": false
   }
  },
  {
   "cell_type": "code",
   "execution_count": 14,
   "outputs": [
    {
     "name": "stdout",
     "output_type": "stream",
     "text": [
      "Shapiro-Wilk test:\n",
      "Test statistic: 0.8259972929954529\n",
      "p-value: 0.0\n",
      "\n",
      "Kolmogorov-Smirnov test:\n",
      "Test statistic: 0.9999998697567705\n",
      "p-value: 0.0\n",
      "\n",
      "Anderson-Darling test:\n",
      "Test statistic: 146.063810053844\n",
      "Critical values: [0.575 0.655 0.786 0.917 1.091]\n",
      "Significance levels: [15.  10.   5.   2.5  1. ]\n"
     ]
    }
   ],
   "source": [
    "price_data = data[data['Is_Target'] == 0]['Price']\n",
    "\n",
    "# Критерий Шапиро-Уилка\n",
    "shapiro_test = sts.shapiro(price_data)\n",
    "print('Shapiro-Wilk test:')\n",
    "print('Test statistic:', shapiro_test.statistic)\n",
    "print('p-value:', shapiro_test.pvalue)\n",
    "\n",
    "# Колмогорова-Смирнова тест\n",
    "kstest = sts.kstest(price_data, 'norm')\n",
    "print('\\nKolmogorov-Smirnov test:')\n",
    "print('Test statistic:', kstest.statistic)\n",
    "print('p-value:', kstest.pvalue)\n",
    "\n",
    "# Андерсона-Дарлинга тест\n",
    "anderson_test = sts.anderson(price_data, dist='norm')\n",
    "print('\\nAnderson-Darling test:')\n",
    "print('Test statistic:', anderson_test.statistic)\n",
    "print('Critical values:', anderson_test.critical_values)\n",
    "print('Significance levels:', anderson_test.significance_level)"
   ],
   "metadata": {
    "collapsed": false,
    "pycharm": {
     "name": "#%%\n"
    }
   }
  },
  {
   "cell_type": "code",
   "execution_count": 67,
   "outputs": [
    {
     "name": "stdout",
     "output_type": "stream",
     "text": [
      "Shapiro-Wilk test:\n",
      "Test statistic: 0.9964608550071716\n",
      "p-value: 1.202107796416385e-06\n",
      "\n",
      "Kolmogorov-Smirnov test:\n",
      "Test statistic: 0.9936527696884732\n",
      "p-value: 0.0\n",
      "\n",
      "Anderson-Darling test:\n",
      "Test statistic: 1.1827941891442606\n",
      "Critical values: [0.575 0.655 0.786 0.917 1.091]\n",
      "Significance levels: [15.  10.   5.   2.5  1. ]\n"
     ]
    }
   ],
   "source": [
    "price_data = np.log(data[data['Is_Target'] == 0]['Price'])\n",
    "\n",
    "# Критерий Шапиро-Уилка\n",
    "shapiro_test = sts.shapiro(price_data)\n",
    "print('Shapiro-Wilk test:')\n",
    "print('Test statistic:', shapiro_test.statistic)\n",
    "print('p-value:', shapiro_test.pvalue)\n",
    "\n",
    "# Колмогорова-Смирнова тест\n",
    "kstest = sts.kstest(price_data, 'norm')\n",
    "print('\\nKolmogorov-Smirnov test:')\n",
    "print('Test statistic:', kstest.statistic)\n",
    "print('p-value:', kstest.pvalue)\n",
    "\n",
    "# Андерсона-Дарлинга тест\n",
    "anderson_test = sts.anderson(price_data, dist='norm')\n",
    "print('\\nAnderson-Darling test:')\n",
    "print('Test statistic:', anderson_test.statistic)\n",
    "print('Critical values:', anderson_test.critical_values)\n",
    "print('Significance levels:', anderson_test.significance_level)"
   ],
   "metadata": {
    "collapsed": false,
    "pycharm": {
     "name": "#%%\n"
    }
   }
  },
  {
   "cell_type": "markdown",
   "source": [
    "Итого, проведя 'эти тесты, мы можем отвергнуть гипотезу о том, что логарифмы цен имеют нормальное распределение, а значит, можем отвергнуть гипотезу о логнормальном распределении цен на смартфоны. Что весьма парадоксально. Вероятно, это вызвано высокой чувствительностью теста."
   ],
   "metadata": {
    "collapsed": false
   }
  },
  {
   "cell_type": "markdown",
   "source": [
    "## Проверка однородности распределений для Nokia и Redmi"
   ],
   "metadata": {
    "collapsed": false
   }
  },
  {
   "cell_type": "markdown",
   "source": [
    "Для проверки одинаковости распределений двух случайных величин можно использовать различные статистические тесты. Некоторые из наиболее распространенных тестов включают в себя:\n",
    "\n",
    "Тест Вилкоксона-Манна-Уитни (Wilcoxon-Mann-Whitney test): Этот тест используется для сравнения двух выборок независимых наблюдений. Он вычисляет статистику Уилкоксона-Манна-Уитни и p-значение. Если p-значение больше заданного уровня значимости, то гипотеза о равенстве распределений не отвергается.\n",
    "\n",
    "Тест Колмогорова-Смирнова двухвыборочный (Two-sample Kolmogorov-Smirnov test): Этот тест также используется для сравнения двух выборок. Он вычисляет статистику Колмогорова-Смирнова и p-значение. Если p-значение больше заданного уровня значимости, то гипотеза о равенстве распределений не отвергается."
   ],
   "metadata": {
    "collapsed": false
   }
  },
  {
   "cell_type": "code",
   "execution_count": 50,
   "outputs": [
    {
     "name": "stdout",
     "output_type": "stream",
     "text": [
      "\n",
      "Wilcoxon-Mann-Whitney test:\n",
      "Test statistic: 421772.5\n",
      "p-value: 1.601723360301852e-294\n",
      "\n",
      "Two-sample Kolmogorov-Smirnov test:\n",
      "Test statistic: 0.6476774698303019\n",
      "p-value: 1.0591172570416635e-293\n"
     ]
    }
   ],
   "source": [
    "nokia = data[(data['Is_Target'] == 1) & (data['Brand'] == 'nokia')]['Price']\n",
    "redmi = data[(data['Is_Target'] == 1) & (data['Brand'] == 'redmi')]['Price']\n",
    "\n",
    "# Тест Вилкоксона-Манна-Уитни\n",
    "mannwhitneyu_test = sts.mannwhitneyu(nokia, redmi)\n",
    "print('\\nWilcoxon-Mann-Whitney test:')\n",
    "print('Test statistic:', mannwhitneyu_test.statistic)\n",
    "print('p-value:', mannwhitneyu_test.pvalue)\n",
    "\n",
    "# Тест Колмогорова-Смирнова двухвыборочный\n",
    "two_sample_ks_test = sts.ks_2samp(nokia, redmi)\n",
    "print('\\nTwo-sample Kolmogorov-Smirnov test:')\n",
    "print('Test statistic:', two_sample_ks_test.statistic)\n",
    "print('p-value:', two_sample_ks_test.pvalue)"
   ],
   "metadata": {
    "collapsed": false,
    "pycharm": {
     "name": "#%%\n"
    }
   }
  },
  {
   "cell_type": "code",
   "execution_count": 51,
   "outputs": [
    {
     "name": "stdout",
     "output_type": "stream",
     "text": [
      "\n",
      "Wilcoxon-Mann-Whitney test:\n",
      "Test statistic: 421772.5\n",
      "p-value: 1.601723360301852e-294\n",
      "\n",
      "Two-sample Kolmogorov-Smirnov test:\n",
      "Test statistic: 0.6476774698303019\n",
      "p-value: 1.0591172570416635e-293\n"
     ]
    }
   ],
   "source": [
    "nokia = np.log(data[(data['Is_Target'] == 1) & (data['Brand'] == 'nokia')]['Price'])\n",
    "redmi = np.log(data[(data['Is_Target'] == 1) & (data['Brand'] == 'redmi')]['Price'])\n",
    "\n",
    "# Тест Вилкоксона-Манна-Уитни\n",
    "mannwhitneyu_test = sts.mannwhitneyu(nokia, redmi)\n",
    "print('\\nWilcoxon-Mann-Whitney test:')\n",
    "print('Test statistic:', mannwhitneyu_test.statistic)\n",
    "print('p-value:', mannwhitneyu_test.pvalue)\n",
    "\n",
    "# Тест Колмогорова-Смирнова двухвыборочный\n",
    "two_sample_ks_test = sts.ks_2samp(nokia, redmi)\n",
    "print('\\nTwo-sample Kolmogorov-Smirnov test:')\n",
    "print('Test statistic:', two_sample_ks_test.statistic)\n",
    "print('p-value:', two_sample_ks_test.pvalue)"
   ],
   "metadata": {
    "collapsed": false,
    "pycharm": {
     "name": "#%%\n"
    }
   }
  },
  {
   "cell_type": "markdown",
   "source": [
    "## Проверка корреляции"
   ],
   "metadata": {
    "collapsed": false
   }
  },
  {
   "cell_type": "markdown",
   "source": [
    "### Цена и количество продаж"
   ],
   "metadata": {
    "collapsed": false
   }
  },
  {
   "cell_type": "code",
   "execution_count": 52,
   "outputs": [
    {
     "name": "stdout",
     "output_type": "stream",
     "text": [
      "Коэффициент корреляции Пирсона: -0.009647133392949456\n",
      "p-значение: 0.5925189639939266\n"
     ]
    }
   ],
   "source": [
    "# Вычисление коэффициента корреляции Пирсона и p-значения\n",
    "correlation, p_value = sts.pearsonr(data[data.Is_Target==0]['Price'], data[data.Is_Target==0][\"Sales_Count\"])\n",
    "\n",
    "# Вывод результатов\n",
    "print(\"Коэффициент корреляции Пирсона:\", correlation)\n",
    "print(\"p-значение:\", p_value)"
   ],
   "metadata": {
    "collapsed": false,
    "pycharm": {
     "name": "#%%\n"
    }
   }
  },
  {
   "cell_type": "markdown",
   "source": [
    "### Цена и количество фичей"
   ],
   "metadata": {
    "collapsed": false
   }
  },
  {
   "cell_type": "code",
   "execution_count": 59,
   "outputs": [
    {
     "name": "stdout",
     "output_type": "stream",
     "text": [
      "Коэффициент корреляции Пирсона: -0.031828557545070205\n",
      "p-значение: 0.07737174702365003\n"
     ]
    },
    {
     "name": "stderr",
     "output_type": "stream",
     "text": [
      "C:\\Users\\druny\\AppData\\Local\\Temp\\ipykernel_19988\\2329668319.py:8: FutureWarning: Dropping of nuisance columns in DataFrame reductions (with 'numeric_only=None') is deprecated; in a future version this will raise TypeError.  Select only valid columns before calling the reduction.\n",
      "  features_sum = features.sum(axis=1)\n"
     ]
    }
   ],
   "source": [
    "features = data[data.Is_Target==0][['2G', '3G', '4G', '5G', 'Bluetooth', 'GSM',\n",
    "       'WI-FI', 'Micro USB', 'USB', 'Type-C', 'Fast_usb', 'NFC', 'Dual-Band',\n",
    "       'ANT+', 'Android Beam', 'Beidou', 'Cellular', 'FM', 'DLNA', 'EDGE',\n",
    "       'Fast Charge', 'GPS', 'Galileo', 'Global Version', 'HDMI Micro',\n",
    "       'Glonass', 'Headphone Jack', 'OTA', 'OTG', 'Infrared', 'Lightning',\n",
    "       'Quad-Band', 'Tri-Band', 'Wireless charging', 'WAP', 'WCDMA',\n",
    "       'Last_Sale']]\n",
    "features_sum = features.sum(axis=1)\n",
    "price = data[data.Is_Target==0].Price\n",
    "\n",
    "# Вычисление коэффициента корреляции Пирсона и p-значения\n",
    "correlation, p_value = sts.pearsonr(features_sum, price)\n",
    "\n",
    "# Вывод результатов\n",
    "print(\"Коэффициент корреляции Пирсона:\", correlation)\n",
    "print(\"p-значение:\", p_value)"
   ],
   "metadata": {
    "collapsed": false,
    "pycharm": {
     "name": "#%%\n"
    }
   }
  },
  {
   "cell_type": "code",
   "execution_count": 58,
   "outputs": [
    {
     "name": "stderr",
     "output_type": "stream",
     "text": [
      "C:\\Users\\druny\\AppData\\Local\\Temp\\ipykernel_19988\\3389409334.py:7: FutureWarning: The default value of numeric_only in DataFrame.corr is deprecated. In a future version, it will default to False. Select only valid columns or specify the value of numeric_only to silence this warning.\n",
      "  'Last_Sale']].corr()[\"Price\"]\n"
     ]
    },
    {
     "data": {
      "text/plain": "Price                1.000000\n2G                  -0.119060\n3G                  -0.149001\n4G                  -0.050196\n5G                   0.228307\nBluetooth            0.154572\nGSM                 -0.060058\nWI-FI                0.114249\nMicro USB           -0.103529\nUSB                 -0.067013\nType-C              -0.053815\nFast_usb            -0.059493\nNFC                  0.207656\nDual-Band           -0.055960\nANT+                -0.061359\nAndroid Beam        -0.060661\nBeidou              -0.059076\nCellular            -0.056110\nFM                  -0.059270\nDLNA                -0.061265\nEDGE                -0.059384\nFast Charge         -0.059384\nGPS                 -0.023290\nGalileo             -0.059384\nGlobal Version      -0.059270\nHDMI Micro          -0.059914\nGlonass             -0.059076\nHeadphone Jack      -0.059602\nOTA                 -0.059270\nOTG                 -0.059270\nInfrared            -0.059529\nLightning            0.192643\nQuad-Band           -0.063047\nTri-Band            -0.059360\nWireless charging   -0.059384\nWAP                 -0.061368\nWCDMA               -0.059384\nName: Price, dtype: float64"
     },
     "execution_count": 58,
     "metadata": {},
     "output_type": "execute_result"
    }
   ],
   "source": [
    "data[data.Is_Target==0][[\"Price\", '2G', '3G', '4G', '5G', 'Bluetooth', 'GSM',\n",
    "       'WI-FI', 'Micro USB', 'USB', 'Type-C', 'Fast_usb', 'NFC', 'Dual-Band',\n",
    "       'ANT+', 'Android Beam', 'Beidou', 'Cellular', 'FM', 'DLNA', 'EDGE',\n",
    "       'Fast Charge', 'GPS', 'Galileo', 'Global Version', 'HDMI Micro',\n",
    "       'Glonass', 'Headphone Jack', 'OTA', 'OTG', 'Infrared', 'Lightning',\n",
    "       'Quad-Band', 'Tri-Band', 'Wireless charging', 'WAP', 'WCDMA',\n",
    "       'Last_Sale']].corr()[\"Price\"]"
   ],
   "metadata": {
    "collapsed": false,
    "pycharm": {
     "name": "#%%\n"
    }
   }
  },
  {
   "cell_type": "markdown",
   "source": [
    "### Объём продаж и количество фичей"
   ],
   "metadata": {
    "collapsed": false
   }
  },
  {
   "cell_type": "code",
   "execution_count": 57,
   "outputs": [
    {
     "name": "stdout",
     "output_type": "stream",
     "text": [
      "Коэффициент корреляции Пирсона: 0.010438646241466775\n",
      "p-значение: 0.5625203683005744\n"
     ]
    },
    {
     "name": "stderr",
     "output_type": "stream",
     "text": [
      "C:\\Users\\druny\\AppData\\Local\\Temp\\ipykernel_19988\\2655371639.py:8: FutureWarning: Dropping of nuisance columns in DataFrame reductions (with 'numeric_only=None') is deprecated; in a future version this will raise TypeError.  Select only valid columns before calling the reduction.\n",
      "  features_sum = features.sum(axis=1)\n"
     ]
    }
   ],
   "source": [
    "features = data[data.Is_Target==0][['2G', '3G', '4G', '5G', 'Bluetooth', 'GSM',\n",
    "       'WI-FI', 'Micro USB', 'USB', 'Type-C', 'Fast_usb', 'NFC', 'Dual-Band',\n",
    "       'ANT+', 'Android Beam', 'Beidou', 'Cellular', 'FM', 'DLNA', 'EDGE',\n",
    "       'Fast Charge', 'GPS', 'Galileo', 'Global Version', 'HDMI Micro',\n",
    "       'Glonass', 'Headphone Jack', 'OTA', 'OTG', 'Infrared', 'Lightning',\n",
    "       'Quad-Band', 'Tri-Band', 'Wireless charging', 'WAP', 'WCDMA',\n",
    "       'Last_Sale']]\n",
    "features_sum = features.sum(axis=1)\n",
    "Sales_Count = data[data.Is_Target==0].Sales_Count\n",
    "\n",
    "# Вычисление коэффициента корреляции Пирсона и p-значения\n",
    "correlation, p_value = sts.pearsonr(features_sum, Sales_Count)\n",
    "\n",
    "# Вывод результатов\n",
    "print(\"Коэффициент корреляции Пирсона:\", correlation)\n",
    "print(\"p-значение:\", p_value)"
   ],
   "metadata": {
    "collapsed": false,
    "pycharm": {
     "name": "#%%\n"
    }
   }
  },
  {
   "cell_type": "code",
   "execution_count": 56,
   "outputs": [
    {
     "name": "stderr",
     "output_type": "stream",
     "text": [
      "C:\\Users\\druny\\AppData\\Local\\Temp\\ipykernel_19988\\1888951886.py:7: FutureWarning: The default value of numeric_only in DataFrame.corr is deprecated. In a future version, it will default to False. Select only valid columns or specify the value of numeric_only to silence this warning.\n",
      "  'Last_Sale', 'Is_Target']].corr()[\"Sales_Count\"]\n"
     ]
    },
    {
     "data": {
      "text/plain": "Sales_Count          1.000000\n2G                  -0.001752\n3G                  -0.011142\n4G                  -0.010631\n5G                  -0.013597\nBluetooth           -0.030858\nGSM                  0.020177\nWI-FI               -0.049602\nMicro USB            0.011388\nUSB                  0.019569\nType-C              -0.007059\nFast_usb             0.020022\nNFC                 -0.038702\nDual-Band            0.019397\nANT+                 0.020965\nAndroid Beam         0.020079\nBeidou               0.019728\nCellular             0.024870\nFM                   0.020100\nDLNA                 0.019844\nEDGE                 0.020321\nFast Charge          0.020321\nGPS                  0.020077\nGalileo              0.020321\nGlobal Version       0.020100\nHDMI Micro           0.020270\nGlonass              0.019728\nHeadphone Jack       0.020105\nOTA                  0.020100\nOTG                  0.020100\nInfrared             0.020057\nLightning           -0.015264\nQuad-Band            0.019335\nTri-Band             0.020115\nWireless charging    0.020321\nWAP                  0.021170\nWCDMA                0.020321\nIs_Target                 NaN\nName: Sales_Count, dtype: float64"
     },
     "execution_count": 56,
     "metadata": {},
     "output_type": "execute_result"
    }
   ],
   "source": [
    "data[data.Is_Target==0][[\"Sales_Count\", '2G', '3G', '4G', '5G', 'Bluetooth', 'GSM',\n",
    "       'WI-FI', 'Micro USB', 'USB', 'Type-C', 'Fast_usb', 'NFC', 'Dual-Band',\n",
    "       'ANT+', 'Android Beam', 'Beidou', 'Cellular', 'FM', 'DLNA', 'EDGE',\n",
    "       'Fast Charge', 'GPS', 'Galileo', 'Global Version', 'HDMI Micro',\n",
    "       'Glonass', 'Headphone Jack', 'OTA', 'OTG', 'Infrared', 'Lightning',\n",
    "       'Quad-Band', 'Tri-Band', 'Wireless charging', 'WAP', 'WCDMA',\n",
    "       'Last_Sale', 'Is_Target']].corr()[\"Sales_Count\"]"
   ],
   "metadata": {
    "collapsed": false,
    "pycharm": {
     "name": "#%%\n"
    }
   }
  },
  {
   "cell_type": "markdown",
   "source": [],
   "metadata": {
    "collapsed": false,
    "pycharm": {
     "name": "#%% md\n"
    }
   }
  }
 ],
 "metadata": {
  "kernelspec": {
   "display_name": "Python 3",
   "language": "python",
   "name": "python3"
  },
  "language_info": {
   "codemirror_mode": {
    "name": "ipython",
    "version": 2
   },
   "file_extension": ".py",
   "mimetype": "text/x-python",
   "name": "python",
   "nbconvert_exporter": "python",
   "pygments_lexer": "ipython2",
   "version": "2.7.6"
  }
 },
 "nbformat": 4,
 "nbformat_minor": 0
}