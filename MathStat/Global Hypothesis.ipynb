{
 "cells": [
  {
   "cell_type": "markdown",
   "source": [
    "# Проверка гипотез"
   ],
   "metadata": {
    "collapsed": false
   }
  },
  {
   "cell_type": "markdown",
   "source": [
    "При визуализации у вас возникли гипотезы о закономерностях, которые есть в ваших данных. Проверьте эти гипотезы с помощью математической статистики. Итоговый балл зависит от того, насколько интересные находки вы сделаете и насколько корректно вы подберёте для проверки критерий/процедуру. Это может быть что угодно от непараметрических тестов и z-статистики до бутстрапа и теста отношения правдоподобий."
   ],
   "metadata": {
    "collapsed": false
   }
  },
  {
   "cell_type": "code",
   "execution_count": 7,
   "outputs": [],
   "source": [
    "import pandas as pd\n",
    "import numpy as np\n",
    "import scipy.stats as sts\n",
    "from math import ceil\n",
    "import matplotlib.pyplot as plt\n",
    "import seaborn as sns\n",
    "from scipy.stats import mannwhitneyu, bartlett, ttest_ind, shapiro, ks_2samp, ttest_1samp, chi2_contingency, ttest_rel\n",
    "from collections import defaultdict"
   ],
   "metadata": {
    "collapsed": false,
    "pycharm": {
     "name": "#%%\n"
    }
   }
  },
  {
   "cell_type": "code",
   "execution_count": 3,
   "metadata": {
    "collapsed": true
   },
   "outputs": [
    {
     "data": {
      "text/plain": "                                               Title   Price  Shipping_cost  \\\n0  Apple iPhone 11 64GB Factory Unlocked 4G LTE S...  337.59           0.00   \n1  Apple iPhone XR 64GB Factory Unlocked Smartpho...  266.28           0.00   \n2  Apple iPhone 11 64GB Unlocked Smartphone - Ver...  359.11          16.93   \n3  Apple iPhone X 64GB Factory Unlocked Phone - V...  231.98          16.50   \n4  Apple iPhone X 256GB Unlocked Smartphone - Ver...  263.59          15.34   \n\n   Sales_Count  Sales_Value  \\\n0      19787.0   6679958.00   \n1      12440.0   3312560.60   \n2      12224.0   4389742.37   \n3      11781.0   2732899.88   \n4      10020.0   2641203.85   \n\n                                                Link                Condition  \\\n0  https://www.ebay.com/itm/254604777645?nordt=tr...  Very Good - Refurbished   \n1  https://www.ebay.com/itm/254187678666?nordt=tr...  Very Good - Refurbished   \n2  https://www.ebay.com/itm/363183815277?nordt=tr...  Very Good - Refurbished   \n3  https://www.ebay.com/itm/382605209867?nordt=tr...  Very Good - Refurbished   \n4  https://www.ebay.com/itm/382446518910?nordt=tr...  Very Good - Refurbished   \n\n                                        Seller Notes  Brand            Model  \\\n0  “This iPhone 11 is in Very Good condition and ...  apple        iPhone 11   \n1  “This Apple iPhone XR 64GB Factory Unlocked Sm...  apple        iPhone XR   \n2  “This is a B+ Stock item, meaning unit is in v...  apple  Apple iPhone 11   \n3  “This is a B+ Stock item, meaning unit is in v...  apple   Apple iPhone X   \n4  “This is a B+ Stock item, meaning unit is in v...  apple   Apple iPhone X   \n\n   ...  OTG Infrared  Lightning  Quad-Band Tri-Band  Wireless charging WAP  \\\n0  ...  0.0        0        0.0          0        0                0.0   0   \n1  ...  0.0        0        0.0          0        0                0.0   0   \n2  ...  0.0        0        0.0          0        0                0.0   0   \n3  ...  1.0        1        1.0          1        1                1.0   1   \n4  ...  0.0        0        0.0          0        0                0.0   0   \n\n  WCDMA            Last_Sale Is_Target  \n0     0  2023-06-14 00:00:00         0  \n1     0  2023-06-14 00:00:00         0  \n2     0  2023-06-14 00:00:00         0  \n3     1  2023-06-14 00:00:00         0  \n4     0  2023-06-14 00:00:00         0  \n\n[5 rows x 65 columns]",
      "text/html": "<div>\n<style scoped>\n    .dataframe tbody tr th:only-of-type {\n        vertical-align: middle;\n    }\n\n    .dataframe tbody tr th {\n        vertical-align: top;\n    }\n\n    .dataframe thead th {\n        text-align: right;\n    }\n</style>\n<table border=\"1\" class=\"dataframe\">\n  <thead>\n    <tr style=\"text-align: right;\">\n      <th></th>\n      <th>Title</th>\n      <th>Price</th>\n      <th>Shipping_cost</th>\n      <th>Sales_Count</th>\n      <th>Sales_Value</th>\n      <th>Link</th>\n      <th>Condition</th>\n      <th>Seller Notes</th>\n      <th>Brand</th>\n      <th>Model</th>\n      <th>...</th>\n      <th>OTG</th>\n      <th>Infrared</th>\n      <th>Lightning</th>\n      <th>Quad-Band</th>\n      <th>Tri-Band</th>\n      <th>Wireless charging</th>\n      <th>WAP</th>\n      <th>WCDMA</th>\n      <th>Last_Sale</th>\n      <th>Is_Target</th>\n    </tr>\n  </thead>\n  <tbody>\n    <tr>\n      <th>0</th>\n      <td>Apple iPhone 11 64GB Factory Unlocked 4G LTE S...</td>\n      <td>337.59</td>\n      <td>0.00</td>\n      <td>19787.0</td>\n      <td>6679958.00</td>\n      <td>https://www.ebay.com/itm/254604777645?nordt=tr...</td>\n      <td>Very Good - Refurbished</td>\n      <td>“This iPhone 11 is in Very Good condition and ...</td>\n      <td>apple</td>\n      <td>iPhone 11</td>\n      <td>...</td>\n      <td>0.0</td>\n      <td>0</td>\n      <td>0.0</td>\n      <td>0</td>\n      <td>0</td>\n      <td>0.0</td>\n      <td>0</td>\n      <td>0</td>\n      <td>2023-06-14 00:00:00</td>\n      <td>0</td>\n    </tr>\n    <tr>\n      <th>1</th>\n      <td>Apple iPhone XR 64GB Factory Unlocked Smartpho...</td>\n      <td>266.28</td>\n      <td>0.00</td>\n      <td>12440.0</td>\n      <td>3312560.60</td>\n      <td>https://www.ebay.com/itm/254187678666?nordt=tr...</td>\n      <td>Very Good - Refurbished</td>\n      <td>“This Apple iPhone XR 64GB Factory Unlocked Sm...</td>\n      <td>apple</td>\n      <td>iPhone XR</td>\n      <td>...</td>\n      <td>0.0</td>\n      <td>0</td>\n      <td>0.0</td>\n      <td>0</td>\n      <td>0</td>\n      <td>0.0</td>\n      <td>0</td>\n      <td>0</td>\n      <td>2023-06-14 00:00:00</td>\n      <td>0</td>\n    </tr>\n    <tr>\n      <th>2</th>\n      <td>Apple iPhone 11 64GB Unlocked Smartphone - Ver...</td>\n      <td>359.11</td>\n      <td>16.93</td>\n      <td>12224.0</td>\n      <td>4389742.37</td>\n      <td>https://www.ebay.com/itm/363183815277?nordt=tr...</td>\n      <td>Very Good - Refurbished</td>\n      <td>“This is a B+ Stock item, meaning unit is in v...</td>\n      <td>apple</td>\n      <td>Apple iPhone 11</td>\n      <td>...</td>\n      <td>0.0</td>\n      <td>0</td>\n      <td>0.0</td>\n      <td>0</td>\n      <td>0</td>\n      <td>0.0</td>\n      <td>0</td>\n      <td>0</td>\n      <td>2023-06-14 00:00:00</td>\n      <td>0</td>\n    </tr>\n    <tr>\n      <th>3</th>\n      <td>Apple iPhone X 64GB Factory Unlocked Phone - V...</td>\n      <td>231.98</td>\n      <td>16.50</td>\n      <td>11781.0</td>\n      <td>2732899.88</td>\n      <td>https://www.ebay.com/itm/382605209867?nordt=tr...</td>\n      <td>Very Good - Refurbished</td>\n      <td>“This is a B+ Stock item, meaning unit is in v...</td>\n      <td>apple</td>\n      <td>Apple iPhone X</td>\n      <td>...</td>\n      <td>1.0</td>\n      <td>1</td>\n      <td>1.0</td>\n      <td>1</td>\n      <td>1</td>\n      <td>1.0</td>\n      <td>1</td>\n      <td>1</td>\n      <td>2023-06-14 00:00:00</td>\n      <td>0</td>\n    </tr>\n    <tr>\n      <th>4</th>\n      <td>Apple iPhone X 256GB Unlocked Smartphone - Ver...</td>\n      <td>263.59</td>\n      <td>15.34</td>\n      <td>10020.0</td>\n      <td>2641203.85</td>\n      <td>https://www.ebay.com/itm/382446518910?nordt=tr...</td>\n      <td>Very Good - Refurbished</td>\n      <td>“This is a B+ Stock item, meaning unit is in v...</td>\n      <td>apple</td>\n      <td>Apple iPhone X</td>\n      <td>...</td>\n      <td>0.0</td>\n      <td>0</td>\n      <td>0.0</td>\n      <td>0</td>\n      <td>0</td>\n      <td>0.0</td>\n      <td>0</td>\n      <td>0</td>\n      <td>2023-06-14 00:00:00</td>\n      <td>0</td>\n    </tr>\n  </tbody>\n</table>\n<p>5 rows × 65 columns</p>\n</div>"
     },
     "execution_count": 3,
     "metadata": {},
     "output_type": "execute_result"
    }
   ],
   "source": [
    "data = pd.read_csv('https://raw.githubusercontent.com/AleksKids/hedonistic-demand-from-ebay/main/Preprocessing/Great_BD.tsv', delimiter = \"\\t\")\n",
    "data.head()"
   ]
  },
  {
   "cell_type": "markdown",
   "source": [
    "## Проверка гипотезы о лог-нормальности распределения цен"
   ],
   "metadata": {
    "collapsed": false
   }
  },
  {
   "cell_type": "code",
   "execution_count": 4,
   "outputs": [
    {
     "data": {
      "text/plain": "<Figure size 640x480 with 1 Axes>",
      "image/png": "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\n"
     },
     "metadata": {},
     "output_type": "display_data"
    }
   ],
   "source": [
    "# Гистограмма распределения цен\n",
    "sns.histplot(data[data.Is_Target==0]['Price'], bins=20)\n",
    "plt.title('Distribution of Prices')\n",
    "plt.xlabel('Price')\n",
    "plt.ylabel('Count')\n",
    "plt.show()"
   ],
   "metadata": {
    "collapsed": false,
    "pycharm": {
     "name": "#%%\n"
    }
   }
  },
  {
   "cell_type": "code",
   "execution_count": 5,
   "outputs": [
    {
     "data": {
      "text/plain": "<Figure size 640x480 with 1 Axes>",
      "image/png": "iVBORw0KGgoAAAANSUhEUgAAAjsAAAHHCAYAAABZbpmkAAAAOXRFWHRTb2Z0d2FyZQBNYXRwbG90bGliIHZlcnNpb24zLjcuMCwgaHR0cHM6Ly9tYXRwbG90bGliLm9yZy88F64QAAAACXBIWXMAAA9hAAAPYQGoP6dpAAA/sUlEQVR4nO3deVxWdf7//yfKIoIXiMiWgpgmoqKmZqSZOypZTjbT4oLm0jhgqdU4OJZbRd9mUqshrZlSZ8ysnCwz943GRFMaywVN/WhQsogFuCAInN8f/bimK3HDC66L4+N+u51bnHPe1+u8ziXls3Pe57pcDMMwBAAAYFJ1HN0AAABAdSLsAAAAUyPsAAAAUyPsAAAAUyPsAAAAUyPsAAAAUyPsAAAAUyPsAAAAUyPsAAAAUyPsAA40c+ZMubi41MixevbsqZ49e1rXt23bJhcXF61YsaJGjj9q1Cg1a9asRo5VVWfPntXYsWMVFBQkFxcXTZo0ydEt1YiK34Vt27Y5uhWgWhB2ADtZvHixXFxcrEu9evUUEhKimJgYvfbaazpz5oxdjnPy5EnNnDlTe/futUs9e3Lm3q7Fiy++qMWLF2vChAn617/+pREjRlx2bLNmzXTvvffWYHeX98vfuzp16igkJET9+/cnvAD/P1dHNwCYzezZsxUeHq6LFy8qOztb27Zt06RJkzR37lytWrVKUVFR1rHTp0/Xn/70p+uqf/LkSc2aNUvNmjVThw4drvl1GzZsuK7jVMWVevv73/+u8vLyau/hRmzZskV33nmnZsyY4ehWrlu/fv00cuRIGYah48eP64033lDv3r312WefaeDAgVd8bY8ePVRUVCR3d/ca6haoWYQdwM4GDhyozp07W9cTExO1ZcsW3XvvvbrvvvuUnp4uT09PSZKrq6tcXav3X8Pz58+rfv36Dv+LzM3NzaHHvxa5ubmKjIx0dBtVctttt2n48OHW9d/85jeKiorS/PnzLxt2Lly4IHd3d9WpU0f16tWrqVaBGsdtLKAG9O7dW88++6y+++47LV261Lq9sjk7GzduVPfu3eXr6ytvb2+1atVK06ZNk/Tz3IouXbpIkkaPHm29dbF48WJJP8/Ladu2rdLS0tSjRw/Vr1/f+tpfz9mpUFZWpmnTpikoKEheXl667777lJmZaTOmWbNmGjVq1CWv/WXNq/VW2Zydc+fO6amnnlLTpk3l4eGhVq1a6a9//asMw7AZ5+LiooSEBH388cdq27atPDw81KZNG61bt67yN/xXcnNzNWbMGAUGBqpevXpq3769lixZYt1fMWfl+PHj+uyzz6y9nzhx4prqX05paanmzJmjW2+9VR4eHmrWrJmmTZum4uJim3Hl5eWaOXOmQkJCVL9+ffXq1UsHDx687Pt+Ldq1ayd/f38dP37c5hyXL1+u6dOn65ZbblH9+vVVWFh42Tk7u3bt0qBBg9SwYUN5eXkpKipKr776qs2YQ4cO6cEHH5Sfn5/q1aunzp07a9WqVTZjLl68qFmzZqlly5aqV6+eGjVqpO7du2vjxo1VOjfgenFlB6ghI0aM0LRp07RhwwaNGzeu0jEHDhzQvffeq6ioKM2ePVseHh46evSovvjiC0lS69atNXv2bD333HMaP3687r77bknSXXfdZa1x+vRpDRw4UA8//LCGDx+uwMDAK/b1wgsvyMXFRVOnTlVubq7mz5+vvn37au/evdYrUNfiWnr7JcMwdN9992nr1q0aM2aMOnTooPXr1+uZZ57RDz/8oHnz5tmM3759uz766CP94Q9/UIMGDfTaa69p6NChysjIUKNGjS7bV1FRkXr27KmjR48qISFB4eHh+vDDDzVq1Cjl5+frySefVOvWrfWvf/1LkydPVpMmTfTUU09Jkho3bnzN51+ZsWPHasmSJXrwwQf11FNPadeuXUpKSlJ6erpWrlxpHZeYmKiXX35ZgwcPVkxMjL7++mvFxMTowoULVT72Tz/9pJ9++kktWrSw2T5nzhy5u7vr6aefVnFx8WWv+G3cuFH33nuvgoOD9eSTTyooKEjp6elavXq1nnzySUk//75269ZNt9xyi/70pz/Jy8tLH3zwgYYMGaJ///vf+s1vfiPp51CflJSksWPH6o477lBhYaH27Nmjr776Sv369avyOQLXzABgF4sWLTIkGbt3777sGB8fH6Njx47W9RkzZhi//Ndw3rx5hiTj1KlTl62xe/duQ5KxaNGiS/bdc889hiRj4cKFle675557rOtbt241JBm33HKLUVhYaN3+wQcfGJKMV1991botLCzMiIuLu2rNK/UWFxdnhIWFWdc//vhjQ5Lx/PPP24x78MEHDRcXF+Po0aPWbZIMd3d3m21ff/21Icl4/fXXLznWL82fP9+QZCxdutS6raSkxIiOjja8vb1tzj0sLMyIjY29Yr1rHbt3715DkjF27Fib7U8//bQhydiyZYthGIaRnZ1tuLq6GkOGDLEZN3PmTENSpe/7r0kyxowZY5w6dcrIzc01du3aZfTp08eQZLzyyiuGYfzvz7t58+bG+fPnbV5fsW/r1q2GYRhGaWmpER4eboSFhRk//fSTzdjy8nLrz3369DHatWtnXLhwwWb/XXfdZbRs2dK6rX379tf8vgLVgdtYQA3y9va+4lNZvr6+kqRPPvmkypN5PTw8NHr06GseP3LkSDVo0MC6/uCDDyo4OFhr1qyp0vGv1Zo1a1S3bl098cQTNtufeuopGYahtWvX2mzv27evbr31Vut6VFSULBaL/u///u+qxwkKCtIjjzxi3ebm5qYnnnhCZ8+eVUpKih3OpvLjStKUKVNstldcNfrss88kSZs3b1Zpaan+8Ic/2IybOHHidR3v7bffVuPGjRUQEKCuXbvqiy++0JQpUy55fD4uLu6qV+z++9//6vjx45o0aZL1d7JCxW3XH3/8UVu2bNHvfvc7nTlzRnl5ecrLy9Pp06cVExOjI0eO6IcffpD08+/1gQMHdOTIkes6J8BeCDtADTp79qxNsPi1hx56SN26ddPYsWMVGBiohx9+WB988MF1BZ9bbrnluiYjt2zZ0mbdxcVFLVq0uOH5Klfz3XffKSQk5JL3o3Xr1tb9vxQaGnpJjYYNG+qnn3666nFatmypOnVs/3N3uePYy3fffac6depcchspKChIvr6+1uNW/PPX4/z8/NSwYcNrPt7999+vjRs3atOmTdq1a5fy8vL0yiuvXHLe4eHhV6117NgxSVLbtm0vO+bo0aMyDEPPPvusGjdubLNUPM2Wm5sr6ecnFPPz83XbbbepXbt2euaZZ/TNN99c87kBN4o5O0AN+f7771VQUHDJX2q/5Onpqc8//1xbt27VZ599pnXr1un9999X7969tWHDBtWtW/eqx7meeTbX6nIffFhWVnZNPdnD5Y5j/Goys7OpqQ+NbNKkifr27XvVcfb6/agI4E8//bRiYmIqHVPxu96jRw8dO3ZMn3zyiTZs2KB//OMfmjdvnhYuXKixY8fapR/gSriyA9SQf/3rX5J02b8YKtSpU0d9+vTR3LlzdfDgQb3wwgvasmWLtm7dKsn+f3n++taCYRg6evSozZNTDRs2VH5+/iWv/fVVkevpLSwsTCdPnrzktt6hQ4es++0hLCxMR44cueTqmL2PU9lxy8vLL3l/c3JylJ+fbz1uxT+PHj1qM+706dNXvWpVXSpuF+7fv/+yY5o3by7p51uCffv2rXT55VU7Pz8/jR49Wu+9954yMzMVFRWlmTNnVut5ABUIO0AN2LJli+bMmaPw8HANGzbssuN+/PHHS7ZVfDhfxePKXl5eklRp+KiKf/7znzaBY8WKFcrKyrL5bJZbb71VO3fuVElJiXXb6tWrL3lE/Xp6GzRokMrKyvS3v/3NZvu8efPk4uJy1Q/Cu1aDBg1Sdna23n//feu20tJSvf766/L29tY999xjl+NUdlxJmj9/vs32uXPnSpJiY2MlSX369JGrq6sWLFhgM+7X70tNuv322xUeHq758+df8mdZcSUtICBAPXv21JtvvqmsrKxLapw6dcr68+nTp232eXt7q0WLFpc8gg9UF25jAXa2du1aHTp0SKWlpcrJydGWLVu0ceNGhYWFadWqVVf88LbZs2fr888/V2xsrMLCwpSbm6s33nhDTZo0Uffu3SX9HDx8fX21cOFCNWjQQF5eXurates1zcWojJ+fn7p3767Ro0crJydH8+fPV4sWLWwejx87dqxWrFihAQMG6He/+52OHTumpUuX2kwYvt7eBg8erF69eunPf/6zTpw4ofbt22vDhg365JNPNGnSpEtqV9X48eP15ptvatSoUUpLS1OzZs20YsUKffHFF5o/f/4V51BdzdGjR/X8889fsr1jx46KjY1VXFyc3nrrLeXn5+uee+7Rl19+qSVLlmjIkCHq1auXJCkwMFBPPvmkXnnlFd13330aMGCAvv76a61du1b+/v41dhvsl+rUqaMFCxZo8ODB6tChg0aPHq3g4GAdOnRIBw4c0Pr16yVJycnJ6t69u9q1a6dx48apefPmysnJUWpqqr7//nt9/fXXkqTIyEj17NlTnTp1kp+fn/bs2aMVK1YoISGhxs8NNymHPgsGmEjFo+cVi7u7uxEUFGT069fPePXVV20eca7w60fPN2/ebNx///1GSEiI4e7uboSEhBiPPPKI8e2339q87pNPPjEiIyMNV1dXm0e977nnHqNNmzaV9ne5R8/fe+89IzEx0QgICDA8PT2N2NhY47vvvrvk9a+88opxyy23GB4eHka3bt2MPXv2XFLzSr39+tFzwzCMM2fOGJMnTzZCQkIMNzc3o2XLlsZf/vIXm8ebDePnR6vj4+Mv6elyj8T/Wk5OjjF69GjD39/fcHd3N9q1a1fp4/HX++j5L/+8f7mMGTPGMAzDuHjxojFr1iwjPDzccHNzM5o2bWokJibaPKptGD8/6v3ss88aQUFBhqenp9G7d28jPT3daNSokfH73//+qr1c7v35pYo/7w8//PCy+yoePa+wfft2o1+/fkaDBg0MLy8vIyoq6pJH/Y8dO2aMHDnSCAoKMtzc3IxbbrnFuPfee40VK1ZYxzz//PPGHXfcYfj6+hqenp5GRESE8cILLxglJSVXPTfAHlwMw8ln9wHATSg/P18NGzbU888/rz//+c+Obgeo1ZizAwAOVlRUdMm2irk+lX3FB4Drw5wdAHCw999/X4sXL9agQYPk7e2t7du367333lP//v3VrVs3R7cH1HqEHQBwsKioKLm6uurll19WYWGhddJyZZOfAVw/5uwAAABTY84OAAAwNcIOAAAwNebs6OfveDl58qQaNGjgkA/wAgAA188wDJ05c0YhISGXfOntLxF2JJ08eVJNmzZ1dBsAAKAKMjMz1aRJk8vuJ+xI1o+Lz8zMlMVicXA3AADgWhQWFqpp06ZX/doXwo7+903NFouFsAMAQC1ztSkoTFAGAACmRtgBAACmRtgBAACmRtgBAACmRtgBAACmRtgBAACmRtgBAACmRtgBAACmRtgBAACmRtgBAACmRtgBAACmRtgBAACmRtgBAACmRtgBAACm5uroBgCgtsrIyFBeXl611Pb391doaGi11AZuNoQdAKiCjIwMRUS0VlHR+Wqp7+lZX4cOpRN4ADsg7ABAFeTl5amo6Ly6PjZDluBmdq1dmHVCu96Zpby8PMIOYAeEHQC4AZbgZvILbeXoNgBcAROUAQCAqRF2AACAqRF2AACAqRF2AACAqRF2AACAqRF2AACAqRF2AACAqRF2AACAqRF2AACAqRF2AACAqRF2AACAqRF2AACAqRF2AACAqRF2AACAqTlN2HnppZfk4uKiSZMmWbdduHBB8fHxatSokby9vTV06FDl5OTYvC4jI0OxsbGqX7++AgIC9Mwzz6i0tLSGuwcAAM7KKcLO7t279eabbyoqKspm++TJk/Xpp5/qww8/VEpKik6ePKkHHnjAur+srEyxsbEqKSnRjh07tGTJEi1evFjPPfdcTZ8CAABwUg4PO2fPntWwYcP097//XQ0bNrRuLygo0Ntvv625c+eqd+/e6tSpkxYtWqQdO3Zo586dkqQNGzbo4MGDWrp0qTp06KCBAwdqzpw5Sk5OVklJiaNOCQAAOBGHh534+HjFxsaqb9++NtvT0tJ08eJFm+0REREKDQ1VamqqJCk1NVXt2rVTYGCgdUxMTIwKCwt14MCByx6zuLhYhYWFNgsAADAnV0cefPny5frqq6+0e/fuS/ZlZ2fL3d1dvr6+NtsDAwOVnZ1tHfPLoFOxv2Lf5SQlJWnWrFk32D0AAKgNHHZlJzMzU08++aTeffdd1atXr0aPnZiYqIKCAuuSmZlZo8cHAAA1x2FhJy0tTbm5ubr99tvl6uoqV1dXpaSk6LXXXpOrq6sCAwNVUlKi/Px8m9fl5OQoKChIkhQUFHTJ01kV6xVjKuPh4SGLxWKzAAAAc3JY2OnTp4/27dunvXv3WpfOnTtr2LBh1p/d3Ny0efNm62sOHz6sjIwMRUdHS5Kio6O1b98+5ebmWsds3LhRFotFkZGRNX5OAADA+Thszk6DBg3Utm1bm21eXl5q1KiRdfuYMWM0ZcoU+fn5yWKxaOLEiYqOjtadd94pSerfv78iIyM1YsQIvfzyy8rOztb06dMVHx8vDw+PGj8nAADgfBw6Qflq5s2bpzp16mjo0KEqLi5WTEyM3njjDev+unXravXq1ZowYYKio6Pl5eWluLg4zZ4924FdAwAAZ+JUYWfbtm026/Xq1VNycrKSk5Mv+5qwsDCtWbOmmjsDAAC1lcM/ZwcAAKA6EXYAAICpEXYAAICpEXYAAICpEXYAAICpEXYAAICpEXYAAICpEXYAAICpEXYAAICpEXYAAICpOdXXRQBAdcjIyFBeXp5da6anp9u1Xk0do7i4uNq+KNnf31+hoaHVUhu4EYQdAKaWkZGhiIjWKio6Xy31LxaX2L1mUcFpSS4aPny43WvLxUUyDPvXleTpWV+HDqUTeOB0CDsATC0vL09FRefV9bEZsgQ3s1vdrH2p2r/qLZWWltqtZoWL589IMtTh0alqHB5ht7oVPdu7riQVZp3QrndmKS8vj7ADp0PYAXBTsAQ3k19oK7vVK8w6Ybdal+MdEFotPdu7LuDsmKAMAABMjbADAABMjbADAABMjbADAABMjbADAABMjbADAABMjbADAABMjbADAABMjbADAABMjbADAABMjbADAABMjbADAABMjbADAABMjbADAABMjbADAABMjbADAABMzaFhZ8GCBYqKipLFYpHFYlF0dLTWrl1r3d+zZ0+5uLjYLL///e9tamRkZCg2Nlb169dXQECAnnnmGZWWltb0qQAAACfl6siDN2nSRC+99JJatmwpwzC0ZMkS3X///frvf/+rNm3aSJLGjRun2bNnW19Tv359689lZWWKjY1VUFCQduzYoaysLI0cOVJubm568cUXa/x8AACA83Fo2Bk8eLDN+gsvvKAFCxZo586d1rBTv359BQUFVfr6DRs26ODBg9q0aZMCAwPVoUMHzZkzR1OnTtXMmTPl7u5e7ecAAACcm9PM2SkrK9Py5ct17tw5RUdHW7e/++678vf3V9u2bZWYmKjz589b96Wmpqpdu3YKDAy0bouJiVFhYaEOHDhQo/0DAADn5NArO5K0b98+RUdH68KFC/L29tbKlSsVGRkpSXr00UcVFhamkJAQffPNN5o6daoOHz6sjz76SJKUnZ1tE3QkWdezs7Mve8zi4mIVFxdb1wsLC+19WgAAwEk4POy0atVKe/fuVUFBgVasWKG4uDilpKQoMjJS48ePt45r166dgoOD1adPHx07dky33nprlY+ZlJSkWbNm2aN9AADg5Bx+G8vd3V0tWrRQp06dlJSUpPbt2+vVV1+tdGzXrl0lSUePHpUkBQUFKScnx2ZMxfrl5vlIUmJiogoKCqxLZmamPU4FAAA4IYeHnV8rLy+3ucX0S3v37pUkBQcHS5Kio6O1b98+5ebmWsds3LhRFovFeiusMh4eHtbH3SsWAABgTg69jZWYmKiBAwcqNDRUZ86c0bJly7Rt2zatX79ex44d07JlyzRo0CA1atRI33zzjSZPnqwePXooKipKktS/f39FRkZqxIgRevnll5Wdna3p06crPj5eHh4ejjw1AADgJBwadnJzczVy5EhlZWXJx8dHUVFRWr9+vfr166fMzExt2rRJ8+fP17lz59S0aVMNHTpU06dPt76+bt26Wr16tSZMmKDo6Gh5eXkpLi7O5nN5AADAzc2hYeftt9++7L6mTZsqJSXlqjXCwsK0Zs0ae7YFAABMxOnm7AAAANgTYQcAAJgaYQcAAJgaYQcAAJgaYQcAAJgaYQcAAJiaw78bCwBgHunp6Xav6e/vr9DQULvXxc2DsAMAuGFFBacluWj48OF2r+3pWV+HDqUTeFBlhB0AwA27eP6MJEMdHp2qxuERdqtbmHVCu96Zpby8PMIOqoywAwCwG++AUPmFtnJ0G4ANJigDAABTI+wAAABTI+wAAABTI+wAAABTI+wAAABTI+wAAABTI+wAAABTI+wAAABTI+wAAABTI+wAAABTI+wAAABTI+wAAABTI+wAAABTI+wAAABTI+wAAABTI+wAAABTI+wAAABTI+wAAABTI+wAAABTI+wAAABTI+wAAABTc2jYWbBggaKiomSxWGSxWBQdHa21a9da91+4cEHx8fFq1KiRvL29NXToUOXk5NjUyMjIUGxsrOrXr6+AgAA988wzKi0trelTAQAATsqhYadJkyZ66aWXlJaWpj179qh37966//77deDAAUnS5MmT9emnn+rDDz9USkqKTp48qQceeMD6+rKyMsXGxqqkpEQ7duzQkiVLtHjxYj333HOOOiUAAOBkXB158MGDB9usv/DCC1qwYIF27typJk2a6O2339ayZcvUu3dvSdKiRYvUunVr7dy5U3feeac2bNiggwcPatOmTQoMDFSHDh00Z84cTZ06VTNnzpS7u7sjTgsAADgRp5mzU1ZWpuXLl+vcuXOKjo5WWlqaLl68qL59+1rHREREKDQ0VKmpqZKk1NRUtWvXToGBgdYxMTExKiwstF4dqkxxcbEKCwttFgAAYE4ODzv79u2Tt7e3PDw89Pvf/14rV65UZGSksrOz5e7uLl9fX5vxgYGBys7OliRlZ2fbBJ2K/RX7LicpKUk+Pj7WpWnTpvY9KQAA4DQcHnZatWqlvXv3ateuXZowYYLi4uJ08ODBaj1mYmKiCgoKrEtmZma1Hg8AADiOQ+fsSJK7u7tatGghSerUqZN2796tV199VQ899JBKSkqUn59vc3UnJydHQUFBkqSgoCB9+eWXNvUqntaqGFMZDw8PeXh42PlMAACAM3L4lZ1fKy8vV3FxsTp16iQ3Nzdt3rzZuu/w4cPKyMhQdHS0JCk6Olr79u1Tbm6udczGjRtlsVgUGRlZ470DAADn49ArO4mJiRo4cKBCQ0N15swZLVu2TNu2bdP69evl4+OjMWPGaMqUKfLz85PFYtHEiRMVHR2tO++8U5LUv39/RUZGasSIEXr55ZeVnZ2t6dOnKz4+nis3AABAkoPDTm5urkaOHKmsrCz5+PgoKipK69evV79+/SRJ8+bNU506dTR06FAVFxcrJiZGb7zxhvX1devW1erVqzVhwgRFR0fLy8tLcXFxmj17tqNOCQAAOBmHhp233377ivvr1aun5ORkJScnX3ZMWFiY1qxZY+/WAACASTjdnB0AAAB7IuwAAABTI+wAAABTI+wAAABTI+wAAABTI+wAAABTI+wAAABTI+wAAABTI+wAAABTI+wAAABTI+wAAABTI+wAAABTI+wAAABTI+wAAABTI+wAAABTI+wAAABTI+wAAABTI+wAAABTI+wAAABTI+wAAABTI+wAAABTI+wAAABTI+wAAABTI+wAAABTI+wAAABTI+wAAABTI+wAAABTc3V0AwAgSRkZGcrLy7N73fT0dLvXBFC7EHYAOFxGRoYiIlqrqOh8tR3jYnFJtdUG4NwIOwAcLi8vT0VF59X1sRmyBDeza+2sfanav+otlZaW2rUugNrDoWEnKSlJH330kQ4dOiRPT0/ddddd+n//7/+pVatW1jE9e/ZUSkqKzesef/xxLVy40LqekZGhCRMmaOvWrfL29lZcXJySkpLk6kqWA2oTS3Az+YW2uvrA61CYdcKu9QDUPg5NAykpKYqPj1eXLl1UWlqqadOmqX///jp48KC8vLys48aNG6fZs2db1+vXr2/9uaysTLGxsQoKCtKOHTuUlZWlkSNHys3NTS+++GKNng8AAHA+Dg0769ats1lfvHixAgIClJaWph49eli3169fX0FBQZXW2LBhgw4ePKhNmzYpMDBQHTp00Jw5czR16lTNnDlT7u7u1XoOAADAuTnVo+cFBQWSJD8/P5vt7777rvz9/dW2bVslJibq/Pn/TWJMTU1Vu3btFBgYaN0WExOjwsJCHThwoNLjFBcXq7Cw0GYBAADm5DSTWsrLyzVp0iR169ZNbdu2tW5/9NFHFRYWppCQEH3zzTeaOnWqDh8+rI8++kiSlJ2dbRN0JFnXs7OzKz1WUlKSZs2aVU1nAgAAnInThJ34+Hjt379f27dvt9k+fvx468/t2rVTcHCw+vTpo2PHjunWW2+t0rESExM1ZcoU63phYaGaNm1atcYBAIBTc4rbWAkJCVq9erW2bt2qJk2aXHFs165dJUlHjx6VJAUFBSknJ8dmTMX65eb5eHh4yGKx2CwAAMCcHBp2DMNQQkKCVq5cqS1btig8PPyqr9m7d68kKTg4WJIUHR2tffv2KTc31zpm48aNslgsioyMrJa+AQBA7VGlsNO8eXOdPn36ku35+flq3rz5NdeJj4/X0qVLtWzZMjVo0EDZ2dnKzs5WUVGRJOnYsWOaM2eO0tLSdOLECa1atUojR45Ujx49FBUVJUnq37+/IiMjNWLECH399ddav369pk+frvj4eHl4eFTl9AAAgIlUKeycOHFCZWVll2wvLi7WDz/8cM11FixYoIKCAvXs2VPBwcHW5f3335ckubu7a9OmTerfv78iIiL01FNPaejQofr000+tNerWravVq1erbt26io6O1vDhwzVy5Eibz+UBAAA3r+uaoLxq1Srrz+vXr5ePj491vaysTJs3b1azZs2uuZ5hGFfc37Rp00s+PbkyYWFhWrNmzTUfFwAA3DyuK+wMGTJEkuTi4qK4uDibfW5ubmrWrJleeeUVuzUHAABwo64r7JSXl0uSwsPDtXv3bvn7+1dLUwAAAPZSpc/ZOX78uL37AAAAqBZV/lDBzZs3a/PmzcrNzbVe8anwzjvv3HBjAAAA9lClsDNr1izNnj1bnTt3VnBwsFxcXOzdFwAAgF1UKewsXLhQixcv1ogRI+zdDwAAgF1V6XN2SkpKdNddd9m7FwAAALurUtgZO3asli1bZu9eAAAA7K5Kt7EuXLigt956S5s2bVJUVJTc3Nxs9s+dO9cuzQEAANyoKoWdb775Rh06dJAk7d+/32Yfk5UBAIAzqVLY2bp1q737AAAAqBZVmrMDAABQW1Tpyk6vXr2ueLtqy5YtVW4IAADAnqoUdirm61S4ePGi9u7dq/3791/yBaEAAACOVKWwM2/evEq3z5w5U2fPnr2hhgAAAOzJrnN2hg8fzvdiAQAAp2LXsJOamqp69erZsyQAAMANqdJtrAceeMBm3TAMZWVlac+ePXr22Wft0hgAAIA9VCns+Pj42KzXqVNHrVq10uzZs9W/f3+7NAYAAGAPVQo7ixYtsncfAABcVnp6erXU9ff3V2hoaLXUhvOoUtipkJaWZv0FbNOmjTp27GiXpgAAkKSigtOSXDR8+PBqqe/pWV+HDqUTeEyuSmEnNzdXDz/8sLZt2yZfX19JUn5+vnr16qXly5ercePG9uwRAHCTunj+jCRDHR6dqsbhEXatXZh1QrvemaW8vDzCjslVKexMnDhRZ86c0YEDB9S6dWtJ0sGDBxUXF6cnnnhC7733nl2bBADc3LwDQuUX2srRbaCWqlLYWbdunTZt2mQNOpIUGRmp5ORkJigDAACnUqWwU15eLjc3t0u2u7m5qby8/IabAuC8MjIylJeXZ9ea1TX5FACkKoad3r1768knn9R7772nkJAQSdIPP/ygyZMnq0+fPnZtEIDzyMjIUEREaxUVna+W+heLS6qlLoCbW5XCzt/+9jfdd999atasmZo2bSpJyszMVNu2bbV06VK7NgjAeeTl5amo6Ly6PjZDluBmdqubtS9V+1e9pdLSUrvVBIAKVQo7TZs21VdffaVNmzbp0KFDkqTWrVurb9++dm0OgHOyBDez62TRwqwTdqsFAL92Xd+NtWXLFkVGRqqwsFAuLi7q16+fJk6cqIkTJ6pLly5q06aN/vOf/1RXrwAAANftusLO/PnzNW7cOFkslkv2+fj46PHHH9fcuXPt1hwAAMCNuq6w8/XXX2vAgAGX3d+/f3+lpaVdc72kpCR16dJFDRo0UEBAgIYMGaLDhw/bjLlw4YLi4+PVqFEjeXt7a+jQocrJybEZk5GRodjYWNWvX18BAQF65plnuPcPAAAkXWfYycnJqfSR8wqurq46derUNddLSUlRfHy8du7cqY0bN+rixYvq37+/zp07Zx0zefJkffrpp/rwww+VkpKikydP2nzrellZmWJjY1VSUqIdO3ZoyZIlWrx4sZ577rnrOTUAAGBS1zVB+ZZbbtH+/fvVokWLSvd/8803Cg4OvuZ669ats1lfvHixAgIClJaWph49eqigoEBvv/22li1bpt69e0v6+UtIW7durZ07d+rOO+/Uhg0bdPDgQW3atEmBgYHq0KGD5syZo6lTp2rmzJlyd3e/nlMEAAAmc11XdgYNGqRnn31WFy5cuGRfUVGRZsyYoXvvvbfKzRQUFEiS/Pz8JP38RaMXL160ecorIiJCoaGhSk1NlSSlpqaqXbt2CgwMtI6JiYlRYWGhDhw4UOlxiouLVVhYaLMAAABzuq4rO9OnT9dHH32k2267TQkJCWrV6udHTw8dOqTk5GSVlZXpz3/+c5UaKS8v16RJk9StWze1bdtWkpSdnS13d3frl41WCAwMVHZ2tnXML4NOxf6KfZVJSkrSrFmzqtQnAACoXa4r7AQGBmrHjh2aMGGCEhMTZRiGJMnFxUUxMTFKTk6+JHhcq/j4eO3fv1/bt2+v0uuvR2JioqZMmWJdLywstH44IgAAMJfr/lDBsLAwrVmzRj/99JOOHj0qwzDUsmVLNWzYsMpNJCQkaPXq1fr888/VpEkT6/agoCCVlJQoPz/f5upOTk6OgoKCrGO+/PJLm3oVT2tVjPk1Dw8PeXh4VLlfAABQe1zXnJ1fatiwobp06aI77rijykHHMAwlJCRo5cqV2rJli8LDw232d+rUSW5ubtq8ebN12+HDh5WRkaHo6GhJUnR0tPbt26fc3FzrmI0bN8pisSgyMrJKfQEAAPOo0tdF2Et8fLyWLVumTz75RA0aNLDOsfHx8ZGnp6d8fHw0ZswYTZkyRX5+frJYLJo4caKio6N15513Svr5s30iIyM1YsQIvfzyy8rOztb06dMVHx/P1RsAAODYsLNgwQJJUs+ePW22L1q0SKNGjZIkzZs3T3Xq1NHQoUNVXFysmJgYvfHGG9axdevW1erVqzVhwgRFR0fLy8tLcXFxmj17dk2dBgAAcGIODTsVE5yvpF69ekpOTlZycvJlx1TMIwIAAPi1Ks/ZAQAAqA0IOwAAwNQIOwAAwNQIOwAAwNQIOwAAwNQIOwAAwNQIOwAAwNQIOwAAwNQIOwAAwNQIOwAAwNQIOwAAwNQIOwAAwNQIOwAAwNQIOwAAwNQIOwAAwNQIOwAAwNQIOwAAwNQIOwAAwNQIOwAAwNQIOwAAwNQIOwAAwNQIOwAAwNQIOwAAwNQIOwAAwNQIOwAAwNRcHd0AAACOlJ6ebvea/v7+Cg0NtXtdVA1hBwBwUyoqOC3JRcOHD7d7bU/P+jp0KJ3A4yQIOwCAm9LF82ckGerw6FQ1Do+wW93CrBPa9c4s5eXlEXacBGEHAHBT8w4IlV9oK0e3gWrEBGUAAGBqDg07n3/+uQYPHqyQkBC5uLjo448/ttk/atQoubi42CwDBgywGfPjjz9q2LBhslgs8vX11ZgxY3T27NkaPAsAAODMHBp2zp07p/bt2ys5OfmyYwYMGKCsrCzr8t5779nsHzZsmA4cOKCNGzdq9erV+vzzzzV+/Pjqbh0AANQSDp2zM3DgQA0cOPCKYzw8PBQUFFTpvvT0dK1bt067d+9W586dJUmvv/66Bg0apL/+9a8KCQmxe88AAKB2cfo5O9u2bVNAQIBatWqlCRMm6PTp09Z9qamp8vX1tQYdSerbt6/q1KmjXbt2OaJdAADgZJz6aawBAwbogQceUHh4uI4dO6Zp06Zp4MCBSk1NVd26dZWdna2AgACb17i6usrPz0/Z2dmXrVtcXKzi4mLremFhYbWdAwAAcCynDjsPP/yw9ed27dopKipKt956q7Zt26Y+ffpUuW5SUpJmzZpljxYBAICTc/rbWL/UvHlz+fv76+jRo5KkoKAg5ebm2owpLS3Vjz/+eNl5PpKUmJiogoIC65KZmVmtfQMAAMepVWHn+++/1+nTpxUcHCxJio6OVn5+vtLS0qxjtmzZovLycnXt2vWydTw8PGSxWGwWAABgTg69jXX27FnrVRpJOn78uPbu3Ss/Pz/5+flp1qxZGjp0qIKCgnTs2DH98Y9/VIsWLRQTEyNJat26tQYMGKBx48Zp4cKFunjxohISEvTwww/zJBYAAJDk4Cs7e/bsUceOHdWxY0dJ0pQpU9SxY0c999xzqlu3rr755hvdd999uu222zRmzBh16tRJ//nPf+Th4WGt8e677yoiIkJ9+vTRoEGD1L17d7311luOOiUAAOBkHHplp2fPnjIM47L7169ff9Uafn5+WrZsmT3bAgAAJlKr5uwAAABcL8IOAAAwNcIOAAAwNcIOAAAwNcIOAAAwNcIOAAAwNcIOAAAwNcIOAAAwNcIOAAAwNcIOAAAwNcIOAAAwNcIOAAAwNcIOAAAwNcIOAAAwNcIOAAAwNcIOAAAwNcIOAAAwNcIOAAAwNcIOAAAwNcIOAAAwNcIOAAAwNcIOAAAwNcIOAAAwNcIOAAAwNcIOAAAwNcIOAAAwNcIOAAAwNcIOAAAwNcIOAAAwNcIOAAAwNcIOAAAwNYeGnc8//1yDBw9WSEiIXFxc9PHHH9vsNwxDzz33nIKDg+Xp6am+ffvqyJEjNmN+/PFHDRs2TBaLRb6+vhozZozOnj1bg2cBAACcmUPDzrlz59S+fXslJydXuv/ll1/Wa6+9poULF2rXrl3y8vJSTEyMLly4YB0zbNgwHThwQBs3btTq1av1+eefa/z48TV1CgAAwMm5OvLgAwcO1MCBAyvdZxiG5s+fr+nTp+v++++XJP3zn/9UYGCgPv74Yz388MNKT0/XunXrtHv3bnXu3FmS9Prrr2vQoEH661//qpCQkBo7FwAA4Jycds7O8ePHlZ2drb59+1q3+fj4qGvXrkpNTZUkpaamytfX1xp0JKlv376qU6eOdu3addnaxcXFKiwstFkAAIA5OW3Yyc7OliQFBgbabA8MDLTuy87OVkBAgM1+V1dX+fn5WcdUJikpST4+PtaladOmdu4eAAA4C6cNO9UpMTFRBQUF1iUzM9PRLQEAgGritGEnKChIkpSTk2OzPScnx7ovKChIubm5NvtLS0v1448/WsdUxsPDQxaLxWYBAADm5LRhJzw8XEFBQdq8ebN1W2FhoXbt2qXo6GhJUnR0tPLz85WWlmYds2XLFpWXl6tr16413jMAAHA+Dn0a6+zZszp69Kh1/fjx49q7d6/8/PwUGhqqSZMm6fnnn1fLli0VHh6uZ599ViEhIRoyZIgkqXXr1howYIDGjRunhQsX6uLFi0pISNDDDz/Mk1i4qWVkZCgvL8/uddPT0+1eEwCqm0PDzp49e9SrVy/r+pQpUyRJcXFxWrx4sf74xz/q3LlzGj9+vPLz89W9e3etW7dO9erVs77m3XffVUJCgvr06aM6depo6NCheu2112r8XABnkZGRoYiI1ioqOl9tx7hYXFJttQHA3hwadnr27CnDMC6738XFRbNnz9bs2bMvO8bPz0/Lli2rjvaAWikvL09FRefV9bEZsgQ3s2vtrH2p2r/qLZWWltq1LgBUJ4eGHQDVxxLcTH6hrexaszDrhF3rAUBNcNoJygAAAPZA2AEAAKZG2AEAAKZG2AEAAKZG2AEAAKbG01gAAFSD6voQTn9/f4WGhlZLbbMi7AAAYEdFBacluWj48OHVUt/Ts74OHUon8FwHwg4AAHZ08fwZSYY6PDpVjcMj7Fq7MOuEdr0zS3l5eYSd60DYAQCgGngHhNr9gz1RNUxQBgAApkbYAQAApsZtLMBBMjIylJeXZ/e61fUECADUVoQdwAEyMjIUEdFaRUXnq+0YF4tLqq02ANQmhB3AAfLy8lRUdF5dH5shS3Azu9bO2peq/aveUmlpqV3rAkBtRdgBHMgS3MzuT2sUZp2waz0AqO2YoAwAAEyNsAMAAEyNsAMAAEyNsAMAAEyNsAMAAEyNsAMAAEyNsAMAAEyNsAMAAEyNsAMAAEyNsAMAAEyNsAMAAEyNsAMAAEyNsAMAAEyNsAMAAEzNqcPOzJkz5eLiYrNERERY91+4cEHx8fFq1KiRvL29NXToUOXk5DiwYwAA4GycOuxIUps2bZSVlWVdtm/fbt03efJkffrpp/rwww+VkpKikydP6oEHHnBgtwAAwNm4OrqBq3F1dVVQUNAl2wsKCvT2229r2bJl6t27tyRp0aJFat26tXbu3Kk777yzplsFAABOyOmv7Bw5ckQhISFq3ry5hg0bpoyMDElSWlqaLl68qL59+1rHRkREKDQ0VKmpqVesWVxcrMLCQpsFAACYk1OHna5du2rx4sVat26dFixYoOPHj+vuu+/WmTNnlJ2dLXd3d/n6+tq8JjAwUNnZ2Vesm5SUJB8fH+vStGnTajwLAADgSE59G2vgwIHWn6OiotS1a1eFhYXpgw8+kKenZ5XrJiYmasqUKdb1wsJCAg8AACbl1Fd2fs3X11e33Xabjh49qqCgIJWUlCg/P99mTE5OTqVzfH7Jw8NDFovFZgEAAOZUq8LO2bNndezYMQUHB6tTp05yc3PT5s2brfsPHz6sjIwMRUdHO7BLAADgTJz6NtbTTz+twYMHKywsTCdPntSMGTNUt25dPfLII/Lx8dGYMWM0ZcoU+fn5yWKxaOLEiYqOjuZJLAAAYOXUYef777/XI488otOnT6tx48bq3r27du7cqcaNG0uS5s2bpzp16mjo0KEqLi5WTEyM3njjDQd3DQAAnIlTh53ly5dfcX+9evWUnJys5OTkGuoIAADUNrVqzg4AAMD1IuwAAABTI+wAAABTc+o5OwAA4FLp6enVUtff31+hoaHVUtuRCDsAANQSRQWnJblo+PDh1VLf07O+Dh1KN13gIewAAFBLXDx/RpKhDo9OVePwCLvWLsw6oV3vzFJeXh5hBwAAOJZ3QKj8Qls5uo1agwnKAADA1Ag7AADA1Ag7AADA1Ag7AADA1Ag7AADA1Ag7AADA1Hj0HLiKjIwM5eXl2bVmdX36KQDgUoQd4AoyMjIUEdFaRUXnq6X+xeKSaqkLAPgfwg5wBXl5eSoqOq+uj82QJbiZ3epm7UvV/lVvqbS01G41AQCVI+wA18AS3Myun1ZamHXCbrUAAFfGBGUAAGBqhB0AAGBqhB0AAGBqhB0AAGBqhB0AAGBqhB0AAGBqhB0AAGBqhB0AAGBqhB0AAGBqhB0AAGBqfF0ETKE6vplc4tvJAcAMCDuo9ar7m8klvp0cAGozwg5qver6ZnKJbycHADMwTdhJTk7WX/7yF2VnZ6t9+/Z6/fXXdccddzi6rVqpum4JSVJxcbE8PDzsWrPiVpO9v5lc4tvJAcAMTBF23n//fU2ZMkULFy5U165dNX/+fMXExOjw4cMKCAhwdHu1SrXfEnJxkQyjWkpzqwkAblx1zFX09/dXaGio3eteK1OEnblz52rcuHEaPXq0JGnhwoX67LPP9M477+hPf/qTg7urPtVxBSY9Pb3abwl1eHSqGodH2L0ut5oAoOqKCk5LctHw4cPtXtvTs74OHUp3WOCp9WGnpKREaWlpSkxMtG6rU6eO+vbtq9TUVAd29rPquiWUlZWlBx/8rS5cKLJ7bUny9AuptltC3gGhdq3NrSYAuHEXz5+RZNj9f0gLs05o1zuzlJeXR9ipqry8PJWVlSkwMNBme2BgoA4dOlTpa4qLi1VcXGxdLygokCQVFhbatbfMzEx17tyl2gKJJN3a+yFZGofYrd6PJ9L13a51Ov1dulxUZre6klSY9Z0kqeCHI3JzdXH6utVZuzb2XJ216blmatNzzdSujT3/snbZxWKVFtvv763Skp//vj179qzd/56tqGdcbXqEUcv98MMPhiRjx44dNtufeeYZ44477qj0NTNmzDAksbCwsLCwsJhgyczMvGJWqPVXdvz9/VW3bl3l5OTYbM/JyVFQUFClr0lMTNSUKVOs6+Xl5frxxx/VqFEjubjYNynXtMLCQjVt2lSZmZmyWCyObqdW4b27Mbx/Vcd7d2N4/25MbX7/DMPQmTNnFBJy5TsctT7suLu7q1OnTtq8ebOGDBki6efwsnnzZiUkJFT6Gg8Pj0sef/b19a3mTmuWxWKpdb+0zoL37sbw/lUd792N4f27MbX1/fPx8bnqmFofdiRpypQpiouLU+fOnXXHHXdo/vz5OnfunPXpLAAAcPMyRdh56KGHdOrUKT333HPKzs5Whw4dtG7duksmLQMAgJuPKcKOJCUkJFz2ttXNxMPDQzNmzLD7pxTfDHjvbgzvX9Xx3t0Y3r8bczO8fy6GUU0fZwsAAOAE6ji6AQAAgOpE2AEAAKZG2AEAAKZG2AEAAKZG2DGJpKQkdenSRQ0aNFBAQICGDBmiw4cPO7qtWmHBggWKioqyfqBWdHS01q5d6+i2aqWXXnpJLi4umjRpkqNbqRVmzpwpFxcXmyUiwn5fwHgz+OGHHzR8+HA1atRInp6eateunfbs2ePotpxes2bNLvndc3FxUXx8vKNbqxamefT8ZpeSkqL4+Hh16dJFpaWlmjZtmvr376+DBw/Ky8vL0e05tSZNmuill15Sy5YtZRiGlixZovvvv1///e9/1aZNG0e3V2vs3r1bb775pqKiohzdSq3Spk0bbdq0ybru6sp/lq/VTz/9pG7duqlXr15au3atGjdurCNHjqhhw4aObs3p7d69W2Vl//uy5/3796tfv3767W9/68Cuqg+PnpvUqVOnFBAQoJSUFPXo0cPR7dQ6fn5++stf/qIxY8Y4upVa4ezZs7r99tv1xhtv6Pnnn1eHDh00f/58R7fl9GbOnKmPP/5Ye/fudXQrtdKf/vQnffHFF/rPf/7j6FZqvUmTJmn16tU6cuRIrf+OyMpwG8ukCgoKJP38lzauXVlZmZYvX65z584pOjra0e3UGvHx8YqNjVXfvn0d3Uqtc+TIEYWEhKh58+YaNmyYMjIyHN1SrbFq1Sp17txZv/3tbxUQEKCOHTvq73//u6PbqnVKSkq0dOlSPfbYY6YMOhK3sUypvLxckyZNUrdu3dS2bVtHt1Mr7Nu3T9HR0bpw4YK8vb21cuVKRUZGOrqtWmH58uX66quvtHv3bke3Uut07dpVixcvVqtWrZSVlaVZs2bp7rvv1v79+9WgQQNHt+f0/u///k8LFizQlClTNG3aNO3evVtPPPGE3N3dFRcX5+j2ao2PP/5Y+fn5GjVqlKNbqTbcxjKhCRMmaO3atdq+fbuaNGni6HZqhZKSEmVkZKigoEArVqzQP/7xD6WkpBB4riIzM1OdO3fWxo0brXN1evbsyW2sKsrPz1dYWJjmzp3LLdRr4O7urs6dO2vHjh3WbU888YR2796t1NRUB3ZWu8TExMjd3V2ffvqpo1upNtzGMpmEhAStXr1aW7duJehcB3d3d7Vo0UKdOnVSUlKS2rdvr1dffdXRbTm9tLQ05ebm6vbbb5erq6tcXV2VkpKi1157Ta6urjYTIHF1vr6+uu2223T06FFHt1IrBAcHX/I/JK1bt+ZW4HX47rvvtGnTJo0dO9bRrVQrbmOZhGEYmjhxolauXKlt27YpPDzc0S3VauXl5SouLnZ0G06vT58+2rdvn8220aNHKyIiQlOnTlXdunUd1FntdPbsWR07dkwjRoxwdCu1Qrdu3S75iI1vv/1WYWFhDuqo9lm0aJECAgIUGxvr6FaqFWHHJOLj47Vs2TJ98sknatCggbKzsyVJPj4+8vT0dHB3zi0xMVEDBw5UaGiozpw5o2XLlmnbtm1av369o1tzeg0aNLhkXpiXl5caNWrEfLFr8PTTT2vw4MEKCwvTyZMnNWPGDNWtW1ePPPKIo1urFSZPnqy77rpLL774on73u9/pyy+/1FtvvaW33nrL0a3VCuXl5Vq0aJHi4uJM/5EH5j67m8iCBQsk/Txf4pcWLVpk6kln9pCbm6uRI0cqKytLPj4+ioqK0vr169WvXz9HtwaT+/777/XII4/o9OnTaty4sbp3766dO3eqcePGjm6tVujSpYtWrlypxMREzZ49W+Hh4Zo/f76GDRvm6NZqhU2bNikjI0OPPfaYo1updkxQBgAApsYEZQAAYGqEHQAAYGqEHQAAYGqEHQAAYGqEHQAAYGqEHQAAYGqEHQAAYGqEHQCm1KxZM76MFIAkwg6AWmDUqFFycXGRi4uL9UtbZ8+erdLS0su+Zvfu3Ro/fnwNdgnAWfF1EQBqhQEDBmjRokUqLi7WmjVrFB8fLzc3NyUmJtqMKykpkbu7O1+5AMCKKzsAagUPDw8FBQUpLCxMEyZMUN++fbVq1SqNGjVKQ4YM0QsvvKCQkBC1atVK0qW3sfLz8/X4448rMDBQ9erVU9u2bbV69Wrr/u3bt+vuu++Wp6enmjZtqieeeELnzp2r6dMEUA24sgOgVvL09NTp06clSZs3b5bFYtHGjRsrHVteXq6BAwfqzJkzWrp0qW699VYdPHhQdevWlSQdO3ZMAwYM0PPPP6933nlHp06dUkJCghISErRo0aIaOycA1YOwA6BWMQxDmzdv1vr16zVx4kSdOnVKXl5e+sc//iF3d/dKX7Np0yZ9+eWXSk9P12233SZJat68uXV/UlKShg0bpkmTJkmSWrZsqddee0333HOPFixYoHr16lX7eQGoPtzGAlArrF69Wt7e3qpXr54GDhyohx56SDNnzpQktWvX7rJBR5L27t2rJk2aWIPOr3399ddavHixvL29rUtMTIzKy8t1/Pjx6jgdADWIKzsAaoVevXppwYIFcnd3V0hIiFxd//efLy8vryu+1tPT84r7z549q8cff1xPPPHEJftCQ0Or1jAAp0HYAVAreHl5qUWLFlV6bVRUlL7//nt9++23lV7duf3223Xw4MEq1wfg3LiNBcD07rnnHvXo0UNDhw7Vxo0bdfz4ca1du1br1q2TJE2dOlU7duxQQkKC9u7dqyNHjuiTTz5RQkKCgzsHYA+EHQA3hX//+9/q0qWLHnnkEUVGRuqPf/yjysrKJP185SclJUXffvut7r77bnXs2FHPPfecQkJCHNw1AHtwMQzDcHQTAAAA1YUrOwAAwNQIOwAAwNQIOwAAwNQIOwAAwNQIOwAAwNQIOwAAwNQIOwAAwNQIOwAAwNQIOwAAwNQIOwAAwNQIOwAAwNQIOwAAwNT+Py/jYf2r/AHGAAAAAElFTkSuQmCC\n"
     },
     "metadata": {},
     "output_type": "display_data"
    }
   ],
   "source": [
    "# Гистограмма распределения логарифма цен\n",
    "sns.histplot(np.log(data[data.Is_Target==0]['Price']), bins=20)\n",
    "plt.title('Distribution of Log Prices')\n",
    "plt.xlabel('Price')\n",
    "plt.ylabel('Count')\n",
    "plt.show()"
   ],
   "metadata": {
    "collapsed": false,
    "pycharm": {
     "name": "#%%\n"
    }
   }
  },
  {
   "cell_type": "markdown",
   "source": [
    "Далее мы рассматриваем выборку из независимых случайных величин, таких как цены смартфонов. Естественно, стоимость начинается с 0 (покупаю за бесплатно!). Цена представлена в долларах за один гаджет.\n",
    "Визуально распределение цен напомнило нам логнормальное распределение, поэтому далее мы захотели проверить нашу гипотезу.\n",
    "\n",
    "На гистограмме изображено распределение логарифма цен, и вот оно как раз совсем напоминает нормальное (визуально с мат.ожиданием 5 и стандартным отклонением 0,5).\n",
    "\n",
    "Для проверки нормальности распределения данных можно использовать различные статистические тесты. Некоторые из наиболее распространенных тестов включают в себя:\n",
    "\n",
    "Критерий Шапиро-Уилка (Shapiro-Wilk test): Этот тест проверяет гипотезу о нормальности распределения. Он вычисляет статистику W и выдает соответствующее p-значение. Если p-значение меньше заданного уровня значимости, то гипотеза о нормальности отвергается.\n",
    "\n",
    "Колмогорова-Смирнова тест (Kolmogorov-Smirnov test): Этот тест используется для сравнения эмпирической функции распределения с теоретической функцией распределения. Он вычисляет статистику Колмогорова-Смирнова и p-значение. Если p-значение меньше заданного уровня значимости, то гипотеза о нормальности отвергается.\n",
    "\n",
    "Андерсона-Дарлинга тест (Anderson-Darling test): Этот тест также основан на сравнении эмпирической функции распределения с теоретической функцией распределения, но в отличие от Колмогорова-Смирнова теста, он накладывает больший учет на значения, находящиеся в хвостах распределения. Он вычисляет статистику Андерсона-Дарлинга и p-значение, и если p-значение меньше заданного уровня значимости, то гипотеза о нормальности отвергается."
   ],
   "metadata": {
    "collapsed": false
   }
  },
  {
   "cell_type": "code",
   "execution_count": 14,
   "outputs": [
    {
     "name": "stdout",
     "output_type": "stream",
     "text": [
      "Shapiro-Wilk test:\n",
      "Test statistic: 0.8259972929954529\n",
      "p-value: 0.0\n",
      "\n",
      "Kolmogorov-Smirnov test:\n",
      "Test statistic: 0.9999998697567705\n",
      "p-value: 0.0\n",
      "\n",
      "Anderson-Darling test:\n",
      "Test statistic: 146.063810053844\n",
      "Critical values: [0.575 0.655 0.786 0.917 1.091]\n",
      "Significance levels: [15.  10.   5.   2.5  1. ]\n"
     ]
    }
   ],
   "source": [
    "price_data = data[data['Is_Target'] == 0]['Price']\n",
    "\n",
    "# Критерий Шапиро-Уилка\n",
    "shapiro_test = sts.shapiro(price_data)\n",
    "print('Shapiro-Wilk test:')\n",
    "print('Test statistic:', shapiro_test.statistic)\n",
    "print('p-value:', shapiro_test.pvalue)\n",
    "\n",
    "# Колмогорова-Смирнова тест\n",
    "kstest = sts.kstest(price_data, 'norm')\n",
    "print('\\nKolmogorov-Smirnov test:')\n",
    "print('Test statistic:', kstest.statistic)\n",
    "print('p-value:', kstest.pvalue)\n",
    "\n",
    "# Андерсона-Дарлинга тест\n",
    "anderson_test = sts.anderson(price_data, dist='norm')\n",
    "print('\\nAnderson-Darling test:')\n",
    "print('Test statistic:', anderson_test.statistic)\n",
    "print('Critical values:', anderson_test.critical_values)\n",
    "print('Significance levels:', anderson_test.significance_level)"
   ],
   "metadata": {
    "collapsed": false,
    "pycharm": {
     "name": "#%%\n"
    }
   }
   {
   "cell_type": "markdown",
   "source": [
    "Итого, проведя эти тесты, мы не можем отвергнуть гипотезу о том, что логарифмы цен имеют нормальное распределение, а значит, не можем отвергнуть гипотезу о логнормальном распределении цен на смартфоны.\n"
   ],
   "metadata": {
    "collapsed": false
   }
  },
  {
   "cell_type": "code",
   "execution_count": 13,
   "outputs": [
    {
     "name": "stdout",
     "output_type": "stream",
     "text": [
      "Shapiro-Wilk test:\n",
      "Test statistic: 0.9964608550071716\n",
      "p-value: 1.202107796416385e-06\n",
      "\n",
      "Kolmogorov-Smirnov test:\n",
      "Test statistic: 0.9936527696884732\n",
      "p-value: 0.0\n",
      "\n",
      "Anderson-Darling test:\n",
      "Test statistic: 1.1827941891442606\n",
      "Critical values: [0.575 0.655 0.786 0.917 1.091]\n",
      "Significance levels: [15.  10.   5.   2.5  1. ]\n"
     ]
    }
   ],
   "source": [
    "price_data = np.log(data[data['Is_Target'] == 0]['Price'])\n",
    "\n",
    "# Критерий Шапиро-Уилка\n",
    "shapiro_test = sts.shapiro(price_data)\n",
    "print('Shapiro-Wilk test:')\n",
    "print('Test statistic:', shapiro_test.statistic)\n",
    "print('p-value:', shapiro_test.pvalue)\n",
    "\n",
    "# Колмогорова-Смирнова тест\n",
    "kstest = sts.kstest(price_data, 'norm')\n",
    "print('\\nKolmogorov-Smirnov test:')\n",
    "print('Test statistic:', kstest.statistic)\n",
    "print('p-value:', kstest.pvalue)\n",
    "\n",
    "# Андерсона-Дарлинга тест\n",
    "anderson_test = sts.anderson(price_data, dist='norm')\n",
    "print('\\nAnderson-Darling test:')\n",
    "print('Test statistic:', anderson_test.statistic)\n",
    "print('Critical values:', anderson_test.critical_values)\n",
    "print('Significance levels:', anderson_test.significance_level)"
   ],
   "metadata": {
    "collapsed": false,
    "pycharm": {
     "name": "#%%\n"
    }
   }
  },
  {
   "cell_type": "markdown",
   "source": [],
   "metadata": {
    "collapsed": false
   }
  },
  {
   "cell_type": "markdown",
   "source": [
    "Для проверки одинаковости распределений двух случайных величин можно использовать различные статистические тесты. Некоторые из наиболее распространенных тестов включают в себя:\n",
    "\n",
    "Тест Вилкоксона-Манна-Уитни (Wilcoxon-Mann-Whitney test): Этот тест используется для сравнения двух выборок независимых наблюдений. Он вычисляет статистику Уилкоксона-Манна-Уитни и p-значение. Если p-значение больше заданного уровня значимости, то гипотеза о равенстве распределений не отвергается.\n",
    "\n",
    "Тест Колмогорова-Смирнова двухвыборочный (Two-sample Kolmogorov-Smirnov test): Этот тест также используется для сравнения двух выборок. Он вычисляет статистику Колмогорова-Смирнова и p-значение. Если p-значение больше заданного уровня значимости, то гипотеза о равенстве распределений не отвергается."
   ],
   "metadata": {
    "collapsed": false
   }
  },
  {
   "cell_type": "code",
   "execution_count": 50,
   "outputs": [
    {
     "name": "stdout",
     "output_type": "stream",
     "text": [
      "\n",
      "Wilcoxon-Mann-Whitney test:\n",
      "Test statistic: 421772.5\n",
      "p-value: 1.601723360301852e-294\n",
      "\n",
      "Two-sample Kolmogorov-Smirnov test:\n",
      "Test statistic: 0.6476774698303019\n",
      "p-value: 1.0591172570416635e-293\n"
     ]
    }
   ],
   "source": [
    "nokia = data[(data['Is_Target'] == 1) & (data['Brand'] == 'nokia')]['Price']\n",
    "redmi = data[(data['Is_Target'] == 1) & (data['Brand'] == 'redmi')]['Price']\n",
    "\n",
    "# Тест Вилкоксона-Манна-Уитни\n",
    "mannwhitneyu_test = sts.mannwhitneyu(nokia, redmi)\n",
    "print('\\nWilcoxon-Mann-Whitney test:')\n",
    "print('Test statistic:', mannwhitneyu_test.statistic)\n",
    "print('p-value:', mannwhitneyu_test.pvalue)\n",
    "\n",
    "# Тест Колмогорова-Смирнова двухвыборочный\n",
    "two_sample_ks_test = sts.ks_2samp(nokia, redmi)\n",
    "print('\\nTwo-sample Kolmogorov-Smirnov test:')\n",
    "print('Test statistic:', two_sample_ks_test.statistic)\n",
    "print('p-value:', two_sample_ks_test.pvalue)"
   ],
   "metadata": {
    "collapsed": false,
    "pycharm": {
     "name": "#%%\n"
    }
   }
  },
  {
   "cell_type": "code",
   "execution_count": 51,
   "outputs": [
    {
     "name": "stdout",
     "output_type": "stream",
     "text": [
      "\n",
      "Wilcoxon-Mann-Whitney test:\n",
      "Test statistic: 421772.5\n",
      "p-value: 1.601723360301852e-294\n",
      "\n",
      "Two-sample Kolmogorov-Smirnov test:\n",
      "Test statistic: 0.6476774698303019\n",
      "p-value: 1.0591172570416635e-293\n"
     ]
    }
   ],
   "source": [
    "nokia = np.log(data[(data['Is_Target'] == 1) & (data['Brand'] == 'nokia')]['Price'])\n",
    "redmi = np.log(data[(data['Is_Target'] == 1) & (data['Brand'] == 'redmi')]['Price'])\n",
    "\n",
    "# Тест Вилкоксона-Манна-Уитни\n",
    "mannwhitneyu_test = sts.mannwhitneyu(nokia, redmi)\n",
    "print('\\nWilcoxon-Mann-Whitney test:')\n",
    "print('Test statistic:', mannwhitneyu_test.statistic)\n",
    "print('p-value:', mannwhitneyu_test.pvalue)\n",
    "\n",
    "# Тест Колмогорова-Смирнова двухвыборочный\n",
    "two_sample_ks_test = sts.ks_2samp(nokia, redmi)\n",
    "print('\\nTwo-sample Kolmogorov-Smirnov test:')\n",
    "print('Test statistic:', two_sample_ks_test.statistic)\n",
    "print('p-value:', two_sample_ks_test.pvalue)"
   ],
   "metadata": {
    "collapsed": false,
    "pycharm": {
     "name": "#%%\n"
    }
   }
  },
  {
   "cell_type": "markdown",
   "source": [
    "## Проверка корреляции"
   ],
   "metadata": {
    "collapsed": false
   }
  },
  {
   "cell_type": "markdown",
   "source": [
    "### Цена и количество продаж"
   ],
   "metadata": {
    "collapsed": false
   }
  },
  {
   "cell_type": "code",
   "execution_count": 52,
   "outputs": [
    {
     "name": "stdout",
     "output_type": "stream",
     "text": [
      "Коэффициент корреляции Пирсона: -0.009647133392949456\n",
      "p-значение: 0.5925189639939266\n"
     ]
    }
   ],
   "source": [
    "# Вычисление коэффициента корреляции Пирсона и p-значения\n",
    "correlation, p_value = sts.pearsonr(data[data.Is_Target==0]['Price'], data[data.Is_Target==0][\"Sales_Count\"])\n",
    "\n",
    "# Вывод результатов\n",
    "print(\"Коэффициент корреляции Пирсона:\", correlation)\n",
    "print(\"p-значение:\", p_value)"
   ],
   "metadata": {
    "collapsed": false,
    "pycharm": {
     "name": "#%%\n"
    }
   }
  },
  {
   "cell_type": "markdown",
   "source": [
    "### Цена и количество фичей"
   ],
   "metadata": {
    "collapsed": false
   }
  },
  {
   "cell_type": "code",
   "execution_count": 59,
   "outputs": [
    {
     "name": "stdout",
     "output_type": "stream",
     "text": [
      "Коэффициент корреляции Пирсона: -0.031828557545070205\n",
      "p-значение: 0.07737174702365003\n"
     ]
    },
    {
     "name": "stderr",
     "output_type": "stream",
     "text": [
      "C:\\Users\\druny\\AppData\\Local\\Temp\\ipykernel_19988\\2329668319.py:8: FutureWarning: Dropping of nuisance columns in DataFrame reductions (with 'numeric_only=None') is deprecated; in a future version this will raise TypeError.  Select only valid columns before calling the reduction.\n",
      "  features_sum = features.sum(axis=1)\n"
     ]
    }
   ],
   "source": [
    "features = data[data.Is_Target==0][['2G', '3G', '4G', '5G', 'Bluetooth', 'GSM',\n",
    "       'WI-FI', 'Micro USB', 'USB', 'Type-C', 'Fast_usb', 'NFC', 'Dual-Band',\n",
    "       'ANT+', 'Android Beam', 'Beidou', 'Cellular', 'FM', 'DLNA', 'EDGE',\n",
    "       'Fast Charge', 'GPS', 'Galileo', 'Global Version', 'HDMI Micro',\n",
    "       'Glonass', 'Headphone Jack', 'OTA', 'OTG', 'Infrared', 'Lightning',\n",
    "       'Quad-Band', 'Tri-Band', 'Wireless charging', 'WAP', 'WCDMA',\n",
    "       'Last_Sale']]\n",
    "features_sum = features.sum(axis=1)\n",
    "price = data[data.Is_Target==0].Price\n",
    "\n",
    "# Вычисление коэффициента корреляции Пирсона и p-значения\n",
    "correlation, p_value = sts.pearsonr(features_sum, price)\n",
    "\n",
    "# Вывод результатов\n",
    "print(\"Коэффициент корреляции Пирсона:\", correlation)\n",
    "print(\"p-значение:\", p_value)"
   ],
   "metadata": {
    "collapsed": false,
    "pycharm": {
     "name": "#%%\n"
    }
   }
  },
  {
   "cell_type": "code",
   "execution_count": 58,
   "outputs": [
    {
     "name": "stderr",
     "output_type": "stream",
     "text": [
      "C:\\Users\\druny\\AppData\\Local\\Temp\\ipykernel_19988\\3389409334.py:7: FutureWarning: The default value of numeric_only in DataFrame.corr is deprecated. In a future version, it will default to False. Select only valid columns or specify the value of numeric_only to silence this warning.\n",
      "  'Last_Sale']].corr()[\"Price\"]\n"
     ]
    },
    {
     "data": {
      "text/plain": "Price                1.000000\n2G                  -0.119060\n3G                  -0.149001\n4G                  -0.050196\n5G                   0.228307\nBluetooth            0.154572\nGSM                 -0.060058\nWI-FI                0.114249\nMicro USB           -0.103529\nUSB                 -0.067013\nType-C              -0.053815\nFast_usb            -0.059493\nNFC                  0.207656\nDual-Band           -0.055960\nANT+                -0.061359\nAndroid Beam        -0.060661\nBeidou              -0.059076\nCellular            -0.056110\nFM                  -0.059270\nDLNA                -0.061265\nEDGE                -0.059384\nFast Charge         -0.059384\nGPS                 -0.023290\nGalileo             -0.059384\nGlobal Version      -0.059270\nHDMI Micro          -0.059914\nGlonass             -0.059076\nHeadphone Jack      -0.059602\nOTA                 -0.059270\nOTG                 -0.059270\nInfrared            -0.059529\nLightning            0.192643\nQuad-Band           -0.063047\nTri-Band            -0.059360\nWireless charging   -0.059384\nWAP                 -0.061368\nWCDMA               -0.059384\nName: Price, dtype: float64"
     },
     "execution_count": 58,
     "metadata": {},
     "output_type": "execute_result"
    }
   ],
   "source": [
    "data[data.Is_Target==0][[\"Price\", '2G', '3G', '4G', '5G', 'Bluetooth', 'GSM',\n",
    "       'WI-FI', 'Micro USB', 'USB', 'Type-C', 'Fast_usb', 'NFC', 'Dual-Band',\n",
    "       'ANT+', 'Android Beam', 'Beidou', 'Cellular', 'FM', 'DLNA', 'EDGE',\n",
    "       'Fast Charge', 'GPS', 'Galileo', 'Global Version', 'HDMI Micro',\n",
    "       'Glonass', 'Headphone Jack', 'OTA', 'OTG', 'Infrared', 'Lightning',\n",
    "       'Quad-Band', 'Tri-Band', 'Wireless charging', 'WAP', 'WCDMA',\n",
    "       'Last_Sale']].corr()[\"Price\"]"
   ],
   "metadata": {
    "collapsed": false,
    "pycharm": {
     "name": "#%%\n"
    }
   }
  },
  {
   "cell_type": "markdown",
   "source": [
    "### Объём продаж и количество фичей"
   ],
   "metadata": {
    "collapsed": false
   }
  },
  {
   "cell_type": "code",
   "execution_count": 57,
   "outputs": [
    {
     "name": "stdout",
     "output_type": "stream",
     "text": [
      "Коэффициент корреляции Пирсона: 0.010438646241466775\n",
      "p-значение: 0.5625203683005744\n"
     ]
    },
    {
     "name": "stderr",
     "output_type": "stream",
     "text": [
      "C:\\Users\\druny\\AppData\\Local\\Temp\\ipykernel_19988\\2655371639.py:8: FutureWarning: Dropping of nuisance columns in DataFrame reductions (with 'numeric_only=None') is deprecated; in a future version this will raise TypeError.  Select only valid columns before calling the reduction.\n",
      "  features_sum = features.sum(axis=1)\n"
     ]
    }
   ],
   "source": [
    "features = data[data.Is_Target==0][['2G', '3G', '4G', '5G', 'Bluetooth', 'GSM',\n",
    "       'WI-FI', 'Micro USB', 'USB', 'Type-C', 'Fast_usb', 'NFC', 'Dual-Band',\n",
    "       'ANT+', 'Android Beam', 'Beidou', 'Cellular', 'FM', 'DLNA', 'EDGE',\n",
    "       'Fast Charge', 'GPS', 'Galileo', 'Global Version', 'HDMI Micro',\n",
    "       'Glonass', 'Headphone Jack', 'OTA', 'OTG', 'Infrared', 'Lightning',\n",
    "       'Quad-Band', 'Tri-Band', 'Wireless charging', 'WAP', 'WCDMA',\n",
    "       'Last_Sale']]\n",
    "features_sum = features.sum(axis=1)\n",
    "Sales_Count = data[data.Is_Target==0].Sales_Count\n",
    "\n",
    "# Вычисление коэффициента корреляции Пирсона и p-значения\n",
    "correlation, p_value = sts.pearsonr(features_sum, Sales_Count)\n",
    "\n",
    "# Вывод результатов\n",
    "print(\"Коэффициент корреляции Пирсона:\", correlation)\n",
    "print(\"p-значение:\", p_value)"
   ],
   "metadata": {
    "collapsed": false,
    "pycharm": {
     "name": "#%%\n"
    }
   }
  },
  {
   "cell_type": "code",
   "execution_count": 56,
   "outputs": [
    {
     "name": "stderr",
     "output_type": "stream",
     "text": [
      "C:\\Users\\druny\\AppData\\Local\\Temp\\ipykernel_19988\\1888951886.py:7: FutureWarning: The default value of numeric_only in DataFrame.corr is deprecated. In a future version, it will default to False. Select only valid columns or specify the value of numeric_only to silence this warning.\n",
      "  'Last_Sale', 'Is_Target']].corr()[\"Sales_Count\"]\n"
     ]
    },
    {
     "data": {
      "text/plain": "Sales_Count          1.000000\n2G                  -0.001752\n3G                  -0.011142\n4G                  -0.010631\n5G                  -0.013597\nBluetooth           -0.030858\nGSM                  0.020177\nWI-FI               -0.049602\nMicro USB            0.011388\nUSB                  0.019569\nType-C              -0.007059\nFast_usb             0.020022\nNFC                 -0.038702\nDual-Band            0.019397\nANT+                 0.020965\nAndroid Beam         0.020079\nBeidou               0.019728\nCellular             0.024870\nFM                   0.020100\nDLNA                 0.019844\nEDGE                 0.020321\nFast Charge          0.020321\nGPS                  0.020077\nGalileo              0.020321\nGlobal Version       0.020100\nHDMI Micro           0.020270\nGlonass              0.019728\nHeadphone Jack       0.020105\nOTA                  0.020100\nOTG                  0.020100\nInfrared             0.020057\nLightning           -0.015264\nQuad-Band            0.019335\nTri-Band             0.020115\nWireless charging    0.020321\nWAP                  0.021170\nWCDMA                0.020321\nIs_Target                 NaN\nName: Sales_Count, dtype: float64"
     },
     "execution_count": 56,
     "metadata": {},
     "output_type": "execute_result"
    }
   ],
   "source": [
    "data[data.Is_Target==0][[\"Sales_Count\", '2G', '3G', '4G', '5G', 'Bluetooth', 'GSM',\n",
    "       'WI-FI', 'Micro USB', 'USB', 'Type-C', 'Fast_usb', 'NFC', 'Dual-Band',\n",
    "       'ANT+', 'Android Beam', 'Beidou', 'Cellular', 'FM', 'DLNA', 'EDGE',\n",
    "       'Fast Charge', 'GPS', 'Galileo', 'Global Version', 'HDMI Micro',\n",
    "       'Glonass', 'Headphone Jack', 'OTA', 'OTG', 'Infrared', 'Lightning',\n",
    "       'Quad-Band', 'Tri-Band', 'Wireless charging', 'WAP', 'WCDMA',\n",
    "       'Last_Sale', 'Is_Target']].corr()[\"Sales_Count\"]"
   ],
   "metadata": {
    "collapsed": false,
    "pycharm": {
     "name": "#%%\n"
    }
   }
  },
  {
   "cell_type": "markdown",
   "source": [],
   "metadata": {
    "collapsed": false,
    "pycharm": {
     "name": "#%% md\n"
    }
   }
  }
 ],
 "metadata": {
  "kernelspec": {
   "display_name": "Python 3",
   "language": "python",
   "name": "python3"
  },
  "language_info": {
   "codemirror_mode": {
    "name": "ipython",
    "version": 2
   },
   "file_extension": ".py",
   "mimetype": "text/x-python",
   "name": "python",
   "nbconvert_exporter": "python",
   "pygments_lexer": "ipython2",
   "version": "2.7.6"
  }
 },
 "nbformat": 4,
 "nbformat_minor": 0
}
