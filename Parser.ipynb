{
 "cells": [
  {
   "cell_type": "markdown",
   "source": [
    "# В этом файле когда-то будет парсер\n",
    "\n",
    "Необходимо спарсить: https://www.ebay.com/sh/research?marketplace=EBAY-US&keywords=Smartphones&dayRange=730&endDate=1684051559220&startDate=1620979559220&categoryId=9355&offset=0&limit=50&tabName=SOLD&tz=Europe%2FMoscow"
   ],
   "metadata": {
    "collapsed": false
   }
  },
  {
   "cell_type": "code",
   "execution_count": 60,
   "outputs": [],
   "source": [
    "import pandas as pd\n",
    "import requests\n",
    "from bs4 import BeautifulSoup\n",
    "from random import randint\n",
    "from selenium import webdriver\n",
    "from selenium.webdriver.chrome.options import Options\n",
    "from selenium.webdriver.support.ui import WebDriverWait\n",
    "from selenium.webdriver.common.by import By\n",
    "import time\n",
    "from tqdm import tqdm\n",
    "import warnings\n",
    "warnings.filterwarnings('ignore', message='The frame.append method is deprecated and will be removed from pandas in a future version.')"
   ],
   "metadata": {
    "collapsed": false,
    "pycharm": {
     "name": "#%%\n"
    }
   }
  },
  {
   "cell_type": "code",
   "execution_count": 72,
   "outputs": [
    {
     "name": "stderr",
     "output_type": "stream",
     "text": [
      "C:\\Users\\druny\\AppData\\Local\\Temp\\ipykernel_15656\\60259596.py:3: DeprecationWarning: headless property is deprecated, instead use add_argument('--headless') or add_argument('--headless=new')\n",
      "  options.headless = True  # hide GUI\n",
      "C:\\Users\\druny\\AppData\\Local\\Temp\\ipykernel_15656\\60259596.py:9: DeprecationWarning: use options instead of chrome_options\n",
      "  driver = webdriver.Chrome(options=options, chrome_options=chrome_options)\n"
     ]
    }
   ],
   "source": [
    "# настраиваем драйвер\n",
    "options = Options()\n",
    "options.headless = True  # hide GUI\n",
    "options.add_argument(\"--window-size=1920,1080\")  # set window size to native GUI size\n",
    "options.add_argument(\"start-maximized\")  # ensure window is full-screen\n",
    "\n",
    "# Настраиваем браузер, чтобы он не грузил Java и картинки\n",
    "chrome_options = webdriver.ChromeOptions()\n",
    "driver = webdriver.Chrome(options=options, chrome_options=chrome_options)\n",
    "\n",
    "# Делаем запрос\n",
    "driver.get(\"https://www.ebay.com/sh/research?marketplace=EBAY-US&keywords=Smartphones&dayRange=730&endDate=1684051559220&startDate=1620979559220&categoryId=9355&offset=0&limit=50&tabName=SOLD&tz=Europe%2FMoscow\")\n",
    "\n",
    "#Атдыхаем, ждём загрузку\n",
    "time.sleep(5)"
   ],
   "metadata": {
    "collapsed": false,
    "pycharm": {
     "name": "#%%\n"
    }
   }
  },
  {
   "cell_type": "markdown",
   "source": [
    "Тут мы ручками авторизируемся и заходим"
   ],
   "metadata": {
    "collapsed": false
   }
  },
  {
   "cell_type": "markdown",
   "source": [
    "Парсим названия и числовые характеристики (Цены, продажи)"
   ],
   "metadata": {
    "collapsed": false
   }
  },
  {
   "cell_type": "code",
   "execution_count": 15,
   "outputs": [],
   "source": [
    "df = pd.DataFrame()"
   ],
   "metadata": {
    "collapsed": false,
    "pycharm": {
     "name": "#%%\n"
    }
   }
  },
  {
   "cell_type": "code",
   "execution_count": 27,
   "outputs": [],
   "source": [
    "def table_parser(soup: BeautifulSoup):\n",
    "    for product in soup.find_all('tr', class_='research-table-row'):\n",
    "        title = product.find('span', attrs={'data-item-id': True}).text\n",
    "        price = product.find('td', class_='research-table-row__item research-table-row__avgSoldPrice').div.find_all('div')[0].text.strip()\n",
    "        shipping = product.find('td', class_='research-table-row__item research-table-row__avgShippingCost').div.find_all('div')[0].text.strip()\n",
    "        sales_count = product.find('td', class_='research-table-row__item research-table-row__totalSoldCount').div.find_all('div')[0].text.strip()\n",
    "        sales_value = product.find('td', class_='research-table-row__item research-table-row__totalSalesValue').div.find_all('div')[0].text.strip()\n",
    "        try:\n",
    "            link = product.find('a', class_='research-table-row__link-row-anchor', attrs={'href': True})['href']\n",
    "        except:\n",
    "            link = None\n",
    "\n",
    "        data = {\"Title\": title, \"Price\": price, \"Shipping_cost\": shipping, \"Sales_Count\": sales_count, \"Sales_Value\": sales_value, \"Link\": link}\n",
    "\n",
    "        global df\n",
    "        df = df.append(data, ignore_index=True)"
   ],
   "metadata": {
    "collapsed": false,
    "pycharm": {
     "name": "#%%\n"
    }
   }
  },
  {
   "cell_type": "code",
   "execution_count": 28,
   "outputs": [
    {
     "name": "stderr",
     "output_type": "stream",
     "text": [
      " 55%|█████▌    | 55/100 [10:21<08:28, 11.30s/it]\n"
     ]
    },
    {
     "ename": "WebDriverException",
     "evalue": "Message: disconnected: Unable to receive message from renderer\n  (failed to check if window was closed: disconnected: not connected to DevTools)\n  (Session info: chrome=113.0.5672.93)\nStacktrace:\nBacktrace:\n\tGetHandleVerifier [0x00988893+48451]\n\t(No symbol) [0x0091B8A1]\n\t(No symbol) [0x00825058]\n\t(No symbol) [0x00818205]\n\t(No symbol) [0x0081810C]\n\t(No symbol) [0x00816D46]\n\t(No symbol) [0x008175CA]\n\t(No symbol) [0x0082E8A9]\n\t(No symbol) [0x008291EA]\n\t(No symbol) [0x00828FC7]\n\t(No symbol) [0x0087DD16]\n\t(No symbol) [0x0086A2BC]\n\t(No symbol) [0x0087C482]\n\t(No symbol) [0x0086A0B6]\n\t(No symbol) [0x00847E08]\n\t(No symbol) [0x00848F2D]\n\tGetHandleVerifier [0x00BE8E3A+2540266]\n\tGetHandleVerifier [0x00C28959+2801161]\n\tGetHandleVerifier [0x00C2295C+2776588]\n\tGetHandleVerifier [0x00A12280+612144]\n\t(No symbol) [0x00924F6C]\n\t(No symbol) [0x009211D8]\n\t(No symbol) [0x009212BB]\n\t(No symbol) [0x00914857]\n\tBaseThreadInitThunk [0x76F47D59+25]\n\tRtlInitializeExceptionChain [0x77A1B74B+107]\n\tRtlClearBits [0x77A1B6CF+191]\n",
     "output_type": "error",
     "traceback": [
      "\u001B[1;31m---------------------------------------------------------------------------\u001B[0m",
      "\u001B[1;31mWebDriverException\u001B[0m                        Traceback (most recent call last)",
      "Cell \u001B[1;32mIn [28], line 3\u001B[0m\n\u001B[0;32m      1\u001B[0m \u001B[38;5;28;01mfor\u001B[39;00m _ \u001B[38;5;129;01min\u001B[39;00m tqdm(\u001B[38;5;28mrange\u001B[39m(\u001B[38;5;241m100\u001B[39m)):\n\u001B[0;32m      2\u001B[0m     driver\u001B[38;5;241m.\u001B[39mexecute_script(\u001B[38;5;124m\"\u001B[39m\u001B[38;5;124mwindow.scrollTo(0, document.body.scrollHeight);\u001B[39m\u001B[38;5;124m\"\u001B[39m)\n\u001B[1;32m----> 3\u001B[0m     html \u001B[38;5;241m=\u001B[39m \u001B[43mdriver\u001B[49m\u001B[38;5;241;43m.\u001B[39;49m\u001B[43mpage_source\u001B[49m\n\u001B[0;32m      4\u001B[0m     soup \u001B[38;5;241m=\u001B[39m BeautifulSoup(html, \u001B[38;5;124m'\u001B[39m\u001B[38;5;124mhtml.parser\u001B[39m\u001B[38;5;124m'\u001B[39m)\n\u001B[0;32m      5\u001B[0m     table_parser(soup)\n",
      "File \u001B[1;32m~\\AppData\\Local\\Programs\\Python\\Python311\\Lib\\site-packages\\selenium\\webdriver\\remote\\webdriver.py:541\u001B[0m, in \u001B[0;36mWebDriver.page_source\u001B[1;34m(self)\u001B[0m\n\u001B[0;32m    532\u001B[0m \u001B[38;5;129m@property\u001B[39m\n\u001B[0;32m    533\u001B[0m \u001B[38;5;28;01mdef\u001B[39;00m \u001B[38;5;21mpage_source\u001B[39m(\u001B[38;5;28mself\u001B[39m) \u001B[38;5;241m-\u001B[39m\u001B[38;5;241m>\u001B[39m \u001B[38;5;28mstr\u001B[39m:\n\u001B[0;32m    534\u001B[0m     \u001B[38;5;124;03m\"\"\"Gets the source of the current page.\u001B[39;00m\n\u001B[0;32m    535\u001B[0m \n\u001B[0;32m    536\u001B[0m \u001B[38;5;124;03m    :Usage:\u001B[39;00m\n\u001B[1;32m   (...)\u001B[0m\n\u001B[0;32m    539\u001B[0m \u001B[38;5;124;03m            driver.page_source\u001B[39;00m\n\u001B[0;32m    540\u001B[0m \u001B[38;5;124;03m    \"\"\"\u001B[39;00m\n\u001B[1;32m--> 541\u001B[0m     \u001B[38;5;28;01mreturn\u001B[39;00m \u001B[38;5;28;43mself\u001B[39;49m\u001B[38;5;241;43m.\u001B[39;49m\u001B[43mexecute\u001B[49m\u001B[43m(\u001B[49m\u001B[43mCommand\u001B[49m\u001B[38;5;241;43m.\u001B[39;49m\u001B[43mGET_PAGE_SOURCE\u001B[49m\u001B[43m)\u001B[49m[\u001B[38;5;124m\"\u001B[39m\u001B[38;5;124mvalue\u001B[39m\u001B[38;5;124m\"\u001B[39m]\n",
      "File \u001B[1;32m~\\AppData\\Local\\Programs\\Python\\Python311\\Lib\\site-packages\\selenium\\webdriver\\remote\\webdriver.py:440\u001B[0m, in \u001B[0;36mWebDriver.execute\u001B[1;34m(self, driver_command, params)\u001B[0m\n\u001B[0;32m    438\u001B[0m response \u001B[38;5;241m=\u001B[39m \u001B[38;5;28mself\u001B[39m\u001B[38;5;241m.\u001B[39mcommand_executor\u001B[38;5;241m.\u001B[39mexecute(driver_command, params)\n\u001B[0;32m    439\u001B[0m \u001B[38;5;28;01mif\u001B[39;00m response:\n\u001B[1;32m--> 440\u001B[0m     \u001B[38;5;28;43mself\u001B[39;49m\u001B[38;5;241;43m.\u001B[39;49m\u001B[43merror_handler\u001B[49m\u001B[38;5;241;43m.\u001B[39;49m\u001B[43mcheck_response\u001B[49m\u001B[43m(\u001B[49m\u001B[43mresponse\u001B[49m\u001B[43m)\u001B[49m\n\u001B[0;32m    441\u001B[0m     response[\u001B[38;5;124m\"\u001B[39m\u001B[38;5;124mvalue\u001B[39m\u001B[38;5;124m\"\u001B[39m] \u001B[38;5;241m=\u001B[39m \u001B[38;5;28mself\u001B[39m\u001B[38;5;241m.\u001B[39m_unwrap_value(response\u001B[38;5;241m.\u001B[39mget(\u001B[38;5;124m\"\u001B[39m\u001B[38;5;124mvalue\u001B[39m\u001B[38;5;124m\"\u001B[39m, \u001B[38;5;28;01mNone\u001B[39;00m))\n\u001B[0;32m    442\u001B[0m     \u001B[38;5;28;01mreturn\u001B[39;00m response\n",
      "File \u001B[1;32m~\\AppData\\Local\\Programs\\Python\\Python311\\Lib\\site-packages\\selenium\\webdriver\\remote\\errorhandler.py:245\u001B[0m, in \u001B[0;36mErrorHandler.check_response\u001B[1;34m(self, response)\u001B[0m\n\u001B[0;32m    243\u001B[0m         alert_text \u001B[38;5;241m=\u001B[39m value[\u001B[38;5;124m\"\u001B[39m\u001B[38;5;124malert\u001B[39m\u001B[38;5;124m\"\u001B[39m]\u001B[38;5;241m.\u001B[39mget(\u001B[38;5;124m\"\u001B[39m\u001B[38;5;124mtext\u001B[39m\u001B[38;5;124m\"\u001B[39m)\n\u001B[0;32m    244\u001B[0m     \u001B[38;5;28;01mraise\u001B[39;00m exception_class(message, screen, stacktrace, alert_text)  \u001B[38;5;66;03m# type: ignore[call-arg]  # mypy is not smart enough here\u001B[39;00m\n\u001B[1;32m--> 245\u001B[0m \u001B[38;5;28;01mraise\u001B[39;00m exception_class(message, screen, stacktrace)\n",
      "\u001B[1;31mWebDriverException\u001B[0m: Message: disconnected: Unable to receive message from renderer\n  (failed to check if window was closed: disconnected: not connected to DevTools)\n  (Session info: chrome=113.0.5672.93)\nStacktrace:\nBacktrace:\n\tGetHandleVerifier [0x00988893+48451]\n\t(No symbol) [0x0091B8A1]\n\t(No symbol) [0x00825058]\n\t(No symbol) [0x00818205]\n\t(No symbol) [0x0081810C]\n\t(No symbol) [0x00816D46]\n\t(No symbol) [0x008175CA]\n\t(No symbol) [0x0082E8A9]\n\t(No symbol) [0x008291EA]\n\t(No symbol) [0x00828FC7]\n\t(No symbol) [0x0087DD16]\n\t(No symbol) [0x0086A2BC]\n\t(No symbol) [0x0087C482]\n\t(No symbol) [0x0086A0B6]\n\t(No symbol) [0x00847E08]\n\t(No symbol) [0x00848F2D]\n\tGetHandleVerifier [0x00BE8E3A+2540266]\n\tGetHandleVerifier [0x00C28959+2801161]\n\tGetHandleVerifier [0x00C2295C+2776588]\n\tGetHandleVerifier [0x00A12280+612144]\n\t(No symbol) [0x00924F6C]\n\t(No symbol) [0x009211D8]\n\t(No symbol) [0x009212BB]\n\t(No symbol) [0x00914857]\n\tBaseThreadInitThunk [0x76F47D59+25]\n\tRtlInitializeExceptionChain [0x77A1B74B+107]\n\tRtlClearBits [0x77A1B6CF+191]\n"
     ]
    }
   ],
   "source": [
    "for _ in tqdm(range(100)):\n",
    "    driver.execute_script(\"window.scrollTo(0, document.body.scrollHeight);\")\n",
    "    html = driver.page_source\n",
    "    soup = BeautifulSoup(html, 'html.parser')\n",
    "    table_parser(soup)\n",
    "    next_button = driver.find_element(By.XPATH, '//button[@class=\"pagination__next\"]')\n",
    "    next_button.click()\n",
    "    time.sleep(randint(5, 15))\n",
    "    pass"
   ],
   "metadata": {
    "collapsed": false,
    "pycharm": {
     "name": "#%%\n"
    }
   }
  },
  {
   "cell_type": "code",
   "execution_count": null,
   "outputs": [],
   "source": [
    "df.to_csv(\"Names.csv\")"
   ],
   "metadata": {
    "collapsed": false,
    "pycharm": {
     "name": "#%%\n"
    }
   }
  },
  {
   "cell_type": "markdown",
   "source": [],
   "metadata": {
    "collapsed": false
   }
  },
  {
   "cell_type": "markdown",
   "source": [
    "Парсим характеристики моделей"
   ],
   "metadata": {
    "collapsed": false
   }
  },
  {
   "cell_type": "code",
   "execution_count": 38,
   "outputs": [],
   "source": [
    "Links = df.Link.tolist()"
   ],
   "metadata": {
    "collapsed": false,
    "pycharm": {
     "name": "#%%\n"
    }
   }
  },
  {
   "cell_type": "code",
   "execution_count": 55,
   "outputs": [
    {
     "data": {
      "text/plain": "False"
     },
     "execution_count": 55,
     "metadata": {},
     "output_type": "execute_result"
    }
   ],
   "source": [
    "while None in Links:\n",
    "    Links.remove(None)\n",
    "None in Links"
   ],
   "metadata": {
    "collapsed": false,
    "pycharm": {
     "name": "#%%\n"
    }
   }
  },
  {
   "cell_type": "code",
   "execution_count": 56,
   "outputs": [
    {
     "data": {
      "text/plain": "1755"
     },
     "execution_count": 56,
     "metadata": {},
     "output_type": "execute_result"
    }
   ],
   "source": [
    "len(Links)"
   ],
   "metadata": {
    "collapsed": false,
    "pycharm": {
     "name": "#%%\n"
    }
   }
  },
  {
   "cell_type": "code",
   "execution_count": 71,
   "outputs": [],
   "source": [
    "characteristics_df = pd.DataFrame()"
   ],
   "metadata": {
    "collapsed": false,
    "pycharm": {
     "name": "#%%\n"
    }
   }
  },
  {
   "cell_type": "code",
   "execution_count": 73,
   "outputs": [
    {
     "name": "stderr",
     "output_type": "stream",
     "text": [
      "  1%|          | 20/1755 [02:56<3:02:36,  6.31s/it]"
     ]
    },
    {
     "name": "stdout",
     "output_type": "stream",
     "text": [
      "Сорян, не полусилось: https://www.ebay.com/itm/224743929590?nordt=true&orig_cvip=true&rt=nc\n"
     ]
    },
    {
     "name": "stderr",
     "output_type": "stream",
     "text": [
      "  2%|▏         | 31/1755 [04:04<2:48:12,  5.85s/it]"
     ]
    },
    {
     "name": "stdout",
     "output_type": "stream",
     "text": [
      "Сорян, не полусилось: https://www.ebay.com/itm/254587833287?nordt=true&orig_cvip=true&rt=nc\n"
     ]
    },
    {
     "name": "stderr",
     "output_type": "stream",
     "text": [
      "  8%|▊         | 142/1755 [19:26<9:16:06, 20.69s/it]"
     ]
    },
    {
     "name": "stdout",
     "output_type": "stream",
     "text": [
      "Сорян, не полусилось: https://www.ebay.com/itm/163466112708?nordt=true&orig_cvip=true&rt=nc\n"
     ]
    },
    {
     "name": "stderr",
     "output_type": "stream",
     "text": [
      " 12%|█▏        | 213/1755 [30:45<2:35:12,  6.04s/it]"
     ]
    },
    {
     "name": "stdout",
     "output_type": "stream",
     "text": [
      "Сорян, не полусилось: https://www.ebay.com/itm/255405276945?nordt=true&orig_cvip=true&rt=nc\n"
     ]
    },
    {
     "name": "stderr",
     "output_type": "stream",
     "text": [
      " 26%|██▌       | 450/1755 [1:08:50<4:51:58, 13.42s/it]"
     ]
    },
    {
     "name": "stdout",
     "output_type": "stream",
     "text": [
      "Сорян, не полусилось: https://www.ebay.com/itm/194969873264?nordt=true&orig_cvip=true&rt=nc\n"
     ]
    },
    {
     "name": "stderr",
     "output_type": "stream",
     "text": [
      " 28%|██▊       | 494/1755 [1:15:03<3:06:08,  8.86s/it]"
     ]
    },
    {
     "name": "stdout",
     "output_type": "stream",
     "text": [
      "Сорян, не полусилось: https://www.ebay.com/itm/294381041990?nordt=true&orig_cvip=true&rt=nc\n"
     ]
    },
    {
     "name": "stderr",
     "output_type": "stream",
     "text": [
      " 40%|████      | 708/1755 [1:45:53<2:47:08,  9.58s/it]"
     ]
    },
    {
     "name": "stdout",
     "output_type": "stream",
     "text": [
      "Сорян, не полусилось: https://www.ebay.com/itm/185482778635?nordt=true&orig_cvip=true&rt=nc\n"
     ]
    },
    {
     "name": "stderr",
     "output_type": "stream",
     "text": [
      " 63%|██████▎   | 1097/1755 [2:39:06<1:52:30, 10.26s/it]"
     ]
    },
    {
     "name": "stdout",
     "output_type": "stream",
     "text": [
      "Сорян, не полусилось: https://www.ebay.com/itm/363743635409?nordt=true&orig_cvip=true&rt=nc\n"
     ]
    },
    {
     "name": "stderr",
     "output_type": "stream",
     "text": [
      " 67%|██████▋   | 1175/1755 [2:39:19<02:28,  3.89it/s]  "
     ]
    },
    {
     "name": "stdout",
     "output_type": "stream",
     "text": [
      "Сорян, не полусилось: https://www.ebay.com/itm/402072065818?nordt=true&orig_cvip=true&rt=nc\n",
      "Сорян, не полусилось: https://www.ebay.com/itm/403080485756?nordt=true&orig_cvip=true&rt=nc\n",
      "Сорян, не полусилось: https://www.ebay.com/itm/114892703561?nordt=true&orig_cvip=true&rt=nc\n",
      "Сорян, не полусилось: https://www.ebay.com/itm/144475670475?nordt=true&orig_cvip=true&rt=nc\n",
      "Сорян, не полусилось: https://www.ebay.com/itm/154238962066?nordt=true&orig_cvip=true&rt=nc\n",
      "Сорян, не полусилось: https://www.ebay.com/itm/165702703413?nordt=true&orig_cvip=true&rt=nc\n",
      "Сорян, не полусилось: https://www.ebay.com/itm/234745404004?nordt=true&orig_cvip=true&rt=nc\n",
      "Сорян, не полусилось: https://www.ebay.com/itm/255678612384?nordt=true&orig_cvip=true&rt=nc\n",
      "Сорян, не полусилось: https://www.ebay.com/itm/265457605024?nordt=true&orig_cvip=true&rt=nc\n",
      "Сорян, не полусилось: https://www.ebay.com/itm/382367229821?nordt=true&orig_cvip=true&rt=nc\n",
      "Сорян, не полусилось: https://www.ebay.com/itm/394060523913?nordt=true&orig_cvip=true&rt=nc\n",
      "Сорян, не полусилось: https://www.ebay.com/itm/125323647095?nordt=true&orig_cvip=true&rt=nc\n",
      "Сорян, не полусилось: https://www.ebay.com/itm/153965010492?nordt=true&orig_cvip=true&rt=nc\n",
      "Сорян, не полусилось: https://www.ebay.com/itm/194299747351?nordt=true&orig_cvip=true&rt=nc\n",
      "Сорян, не полусилось: https://www.ebay.com/itm/304473480304?nordt=true&orig_cvip=true&rt=nc\n",
      "Сорян, не полусилось: https://www.ebay.com/itm/314044417974?nordt=true&orig_cvip=true&rt=nc\n",
      "Сорян, не полусилось: https://www.ebay.com/itm/364000858404?nordt=true&orig_cvip=true&rt=nc\n",
      "Сорян, не полусилось: https://www.ebay.com/itm/401404468909?nordt=true&orig_cvip=true&rt=nc\n",
      "Сорян, не полусилось: https://www.ebay.com/itm/402551465309?nordt=true&orig_cvip=true&rt=nc\n",
      "Сорян, не полусилось: https://www.ebay.com/itm/403097129306?nordt=true&orig_cvip=true&rt=nc\n",
      "Сорян, не полусилось: https://www.ebay.com/itm/125788139923?nordt=true&orig_cvip=true&rt=nc\n",
      "Сорян, не полусилось: https://www.ebay.com/itm/353467268849?nordt=true&orig_cvip=true&rt=nc\n",
      "Сорян, не полусилось: https://www.ebay.com/itm/382745126298?nordt=true&orig_cvip=true&rt=nc\n",
      "Сорян, не полусилось: https://www.ebay.com/itm/144588553467?nordt=true&orig_cvip=true&rt=nc\n",
      "Сорян, не полусилось: https://www.ebay.com/itm/175154045623?nordt=true&orig_cvip=true&rt=nc\n",
      "Сорян, не полусилось: https://www.ebay.com/itm/234631995295?nordt=true&orig_cvip=true&rt=nc\n",
      "Сорян, не полусилось: https://www.ebay.com/itm/255771270924?nordt=true&orig_cvip=true&rt=nc\n",
      "Сорян, не полусилось: https://www.ebay.com/itm/275410660364?nordt=true&orig_cvip=true&rt=nc\n",
      "Сорян, не полусилось: https://www.ebay.com/itm/362303294965?nordt=true&orig_cvip=true&rt=nc\n",
      "Сорян, не полусилось: https://www.ebay.com/itm/363862683643?nordt=true&orig_cvip=true&rt=nc\n",
      "Сорян, не полусилось: https://www.ebay.com/itm/402039477001?nordt=true&orig_cvip=true&rt=nc\n",
      "Сорян, не полусилось: https://www.ebay.com/itm/143944697039?nordt=true&orig_cvip=true&rt=nc\n",
      "Сорян, не полусилось: https://www.ebay.com/itm/193349064535?nordt=true&orig_cvip=true&rt=nc\n",
      "Сорян, не полусилось: https://www.ebay.com/itm/223229354204?nordt=true&orig_cvip=true&rt=nc\n",
      "Сорян, не полусилось: https://www.ebay.com/itm/224742446414?nordt=true&orig_cvip=true&rt=nc\n",
      "Сорян, не полусилось: https://www.ebay.com/itm/255033896186?nordt=true&orig_cvip=true&rt=nc\n",
      "Сорян, не полусилось: https://www.ebay.com/itm/274733780286?nordt=true&orig_cvip=true&rt=nc\n",
      "Сорян, не полусилось: https://www.ebay.com/itm/294298324448?nordt=true&orig_cvip=true&rt=nc\n",
      "Сорян, не полусилось: https://www.ebay.com/itm/363677104778?nordt=true&orig_cvip=true&rt=nc\n",
      "Сорян, не полусилось: https://www.ebay.com/itm/381884985709?nordt=true&orig_cvip=true&rt=nc\n",
      "Сорян, не полусилось: https://www.ebay.com/itm/124568716416?nordt=true&orig_cvip=true&rt=nc\n",
      "Сорян, не полусилось: https://www.ebay.com/itm/125167171743?nordt=true&orig_cvip=true&rt=nc\n",
      "Сорян, не полусилось: https://www.ebay.com/itm/133858871994?nordt=true&orig_cvip=true&rt=nc\n",
      "Сорян, не полусилось: https://www.ebay.com/itm/133966309993?nordt=true&orig_cvip=true&rt=nc\n",
      "Сорян, не полусилось: https://www.ebay.com/itm/143951718155?nordt=true&orig_cvip=true&rt=nc\n",
      "Сорян, не полусилось: https://www.ebay.com/itm/144051140836?nordt=true&orig_cvip=true&rt=nc\n",
      "Сорян, не полусилось: https://www.ebay.com/itm/144680528927?nordt=true&orig_cvip=true&rt=nc\n",
      "Сорян, не полусилось: https://www.ebay.com/itm/174167349723?nordt=true&orig_cvip=true&rt=nc\n",
      "Сорян, не полусилось: https://www.ebay.com/itm/185399280570?nordt=true&orig_cvip=true&rt=nc\n",
      "Сорян, не полусилось: https://www.ebay.com/itm/324351324939?nordt=true&orig_cvip=true&rt=nc\n",
      "Сорян, не полусилось: https://www.ebay.com/itm/325475096612?nordt=true&orig_cvip=true&rt=nc\n",
      "Сорян, не полусилось: https://www.ebay.com/itm/354301911508?nordt=true&orig_cvip=true&rt=nc\n",
      "Сорян, не полусилось: https://www.ebay.com/itm/134117788370?nordt=true&orig_cvip=true&rt=nc\n",
      "Сорян, не полусилось: https://www.ebay.com/itm/173983091413?nordt=true&orig_cvip=true&rt=nc\n",
      "Сорян, не полусилось: https://www.ebay.com/itm/174552100380?nordt=true&orig_cvip=true&rt=nc\n",
      "Сорян, не полусилось: https://www.ebay.com/itm/194295602602?nordt=true&orig_cvip=true&rt=nc\n",
      "Сорян, не полусилось: https://www.ebay.com/itm/225099803771?nordt=true&orig_cvip=true&rt=nc\n",
      "Сорян, не полусилось: https://www.ebay.com/itm/233537952683?nordt=true&orig_cvip=true&rt=nc\n",
      "Сорян, не полусилось: https://www.ebay.com/itm/255670468220?nordt=true&orig_cvip=true&rt=nc\n",
      "Сорян, не полусилось: https://www.ebay.com/itm/324052534651?nordt=true&orig_cvip=true&rt=nc\n",
      "Сорян, не полусилось: https://www.ebay.com/itm/332982232762?nordt=true&orig_cvip=true&rt=nc\n",
      "Сорян, не полусилось: https://www.ebay.com/itm/333558202696?nordt=true&orig_cvip=true&rt=nc\n",
      "Сорян, не полусилось: https://www.ebay.com/itm/403085876779?nordt=true&orig_cvip=true&rt=nc\n",
      "Сорян, не полусилось: https://www.ebay.com/itm/403708983853?nordt=true&orig_cvip=true&rt=nc\n",
      "Сорян, не полусилось: https://www.ebay.com/itm/125230363574?nordt=true&orig_cvip=true&rt=nc\n",
      "Сорян, не полусилось: https://www.ebay.com/itm/133637761348?nordt=true&orig_cvip=true&rt=nc\n",
      "Сорян, не полусилось: https://www.ebay.com/itm/164082543576?nordt=true&orig_cvip=true&rt=nc\n",
      "Сорян, не полусилось: https://www.ebay.com/itm/185015134201?nordt=true&orig_cvip=true&rt=nc\n",
      "Сорян, не полусилось: https://www.ebay.com/itm/225099446661?nordt=true&orig_cvip=true&rt=nc\n",
      "Сорян, не полусилось: https://www.ebay.com/itm/255107328901?nordt=true&orig_cvip=true&rt=nc\n",
      "Сорян, не полусилось: https://www.ebay.com/itm/255140483505?nordt=true&orig_cvip=true&rt=nc\n",
      "Сорян, не полусилось: https://www.ebay.com/itm/255236260989?nordt=true&orig_cvip=true&rt=nc\n",
      "Сорян, не полусилось: https://www.ebay.com/itm/352555326908?nordt=true&orig_cvip=true&rt=nc\n",
      "Сорян, не полусилось: https://www.ebay.com/itm/363660360454?nordt=true&orig_cvip=true&rt=nc\n",
      "Сорян, не полусилось: https://www.ebay.com/itm/374052710112?nordt=true&orig_cvip=true&rt=nc\n",
      "Сорян, не полусилось: https://www.ebay.com/itm/125416925147?nordt=true&orig_cvip=true&rt=nc\n",
      "Сорян, не полусилось: https://www.ebay.com/itm/144050946236?nordt=true&orig_cvip=true&rt=nc\n",
      "Сорян, не полусилось: https://www.ebay.com/itm/174862462261?nordt=true&orig_cvip=true&rt=nc\n",
      "Сорян, не полусилось: https://www.ebay.com/itm/175232357021?nordt=true&orig_cvip=true&rt=nc\n",
      "Сорян, не полусилось: https://www.ebay.com/itm/313641586946?nordt=true&orig_cvip=true&rt=nc\n",
      "Сорян, не полусилось: https://www.ebay.com/itm/325318007542?nordt=true&orig_cvip=true&rt=nc\n",
      "Сорян, не полусилось: https://www.ebay.com/itm/354434116747?nordt=true&orig_cvip=true&rt=nc\n",
      "Сорян, не полусилось: https://www.ebay.com/itm/402803953734?nordt=true&orig_cvip=true&rt=nc\n",
      "Сорян, не полусилось: https://www.ebay.com/itm/124881676276?nordt=true&orig_cvip=true&rt=nc\n",
      "Сорян, не полусилось: https://www.ebay.com/itm/133623095822?nordt=true&orig_cvip=true&rt=nc\n",
      "Сорян, не полусилось: https://www.ebay.com/itm/133965316159?nordt=true&orig_cvip=true&rt=nc\n",
      "Сорян, не полусилось: https://www.ebay.com/itm/174109471001?nordt=true&orig_cvip=true&rt=nc\n",
      "Сорян, не полусилось: https://www.ebay.com/itm/184752427995?nordt=true&orig_cvip=true&rt=nc\n",
      "Сорян, не полусилось: https://www.ebay.com/itm/362691694983?nordt=true&orig_cvip=true&rt=nc\n",
      "Сорян, не полусилось: https://www.ebay.com/itm/363705408262?nordt=true&orig_cvip=true&rt=nc\n",
      "Сорян, не полусилось: https://www.ebay.com/itm/133995139792?nordt=true&orig_cvip=true&rt=nc\n",
      "Сорян, не полусилось: https://www.ebay.com/itm/174833362599?nordt=true&orig_cvip=true&rt=nc\n",
      "Сорян, не полусилось: https://www.ebay.com/itm/185106894089?nordt=true&orig_cvip=true&rt=nc\n",
      "Сорян, не полусилось: https://www.ebay.com/itm/255617704536?nordt=true&orig_cvip=true&rt=nc\n",
      "Сорян, не полусилось: https://www.ebay.com/itm/265673907264?nordt=true&orig_cvip=true&rt=nc\n",
      "Сорян, не полусилось: https://www.ebay.com/itm/313643844119?nordt=true&orig_cvip=true&rt=nc\n",
      "Сорян, не полусилось: https://www.ebay.com/itm/362665300878?nordt=true&orig_cvip=true&rt=nc\n",
      "Сорян, не полусилось: https://www.ebay.com/itm/363276104416?nordt=true&orig_cvip=true&rt=nc\n",
      "Сорян, не полусилось: https://www.ebay.com/itm/363677104015?nordt=true&orig_cvip=true&rt=nc\n",
      "Сорян, не полусилось: https://www.ebay.com/itm/383032047154?nordt=true&orig_cvip=true&rt=nc\n",
      "Сорян, не полусилось: https://www.ebay.com/itm/384408313662?nordt=true&orig_cvip=true&rt=nc\n",
      "Сорян, не полусилось: https://www.ebay.com/itm/402670781534?nordt=true&orig_cvip=true&rt=nc\n",
      "Сорян, не полусилось: https://www.ebay.com/itm/133967467113?nordt=true&orig_cvip=true&rt=nc\n",
      "Сорян, не полусилось: https://www.ebay.com/itm/144863808735?nordt=true&orig_cvip=true&rt=nc\n",
      "Сорян, не полусилось: https://www.ebay.com/itm/225212683666?nordt=true&orig_cvip=true&rt=nc\n",
      "Сорян, не полусилось: https://www.ebay.com/itm/225361418252?nordt=true&orig_cvip=true&rt=nc\n",
      "Сорян, не полусилось: https://www.ebay.com/itm/313645430074?nordt=true&orig_cvip=true&rt=nc\n",
      "Сорян, не полусилось: https://www.ebay.com/itm/362716740556?nordt=true&orig_cvip=true&rt=nc\n",
      "Сорян, не полусилось: https://www.ebay.com/itm/384662191338?nordt=true&orig_cvip=true&rt=nc\n",
      "Сорян, не полусилось: https://www.ebay.com/itm/394504750182?nordt=true&orig_cvip=true&rt=nc\n",
      "Сорян, не полусилось: https://www.ebay.com/itm/403739976825?nordt=true&orig_cvip=true&rt=nc\n",
      "Сорян, не полусилось: https://www.ebay.com/itm/143427416823?nordt=true&orig_cvip=true&rt=nc\n",
      "Сорян, не полусилось: https://www.ebay.com/itm/143944719707?nordt=true&orig_cvip=true&rt=nc\n",
      "Сорян, не полусилось: https://www.ebay.com/itm/194960342167?nordt=true&orig_cvip=true&rt=nc\n",
      "Сорян, не полусилось: https://www.ebay.com/itm/255661603786?nordt=true&orig_cvip=true&rt=nc\n",
      "Сорян, не полусилось: https://www.ebay.com/itm/255817830285?nordt=true&orig_cvip=true&rt=nc\n",
      "Сорян, не полусилось: https://www.ebay.com/itm/266014269917?nordt=true&orig_cvip=true&rt=nc\n",
      "Сорян, не полусилось: https://www.ebay.com/itm/284578791885?nordt=true&orig_cvip=true&rt=nc\n",
      "Сорян, не полусилось: https://www.ebay.com/itm/285036337203?nordt=true&orig_cvip=true&rt=nc\n",
      "Сорян, не полусилось: https://www.ebay.com/itm/325104527565?nordt=true&orig_cvip=true&rt=nc\n",
      "Сорян, не полусилось: https://www.ebay.com/itm/353490165495?nordt=true&orig_cvip=true&rt=nc\n",
      "Сорян, не полусилось: https://www.ebay.com/itm/354288484446?nordt=true&orig_cvip=true&rt=nc\n",
      "Сорян, не полусилось: https://www.ebay.com/itm/385056772941?nordt=true&orig_cvip=true&rt=nc\n",
      "Сорян, не полусилось: https://www.ebay.com/itm/402056626393?nordt=true&orig_cvip=true&rt=nc\n",
      "Сорян, не полусилось: https://www.ebay.com/itm/403348340832?nordt=true&orig_cvip=true&rt=nc\n",
      "Сорян, не полусилось: https://www.ebay.com/itm/124883154519?nordt=true&orig_cvip=true&rt=nc\n",
      "Сорян, не полусилось: https://www.ebay.com/itm/124915927950?nordt=true&orig_cvip=true&rt=nc\n",
      "Сорян, не полусилось: https://www.ebay.com/itm/193664359596?nordt=true&orig_cvip=true&rt=nc\n",
      "Сорян, не полусилось: https://www.ebay.com/itm/224999430844?nordt=true&orig_cvip=true&rt=nc\n",
      "Сорян, не полусилось: https://www.ebay.com/itm/255922916705?nordt=true&orig_cvip=true&rt=nc\n",
      "Сорян, не полусилось: https://www.ebay.com/itm/274948209120?nordt=true&orig_cvip=true&rt=nc\n"
     ]
    },
    {
     "name": "stderr",
     "output_type": "stream",
     "text": [
      " 73%|███████▎  | 1286/1755 [2:39:19<00:35, 13.22it/s]"
     ]
    },
    {
     "name": "stdout",
     "output_type": "stream",
     "text": [
      "Сорян, не полусилось: https://www.ebay.com/itm/313645422185?nordt=true&orig_cvip=true&rt=nc\n",
      "Сорян, не полусилось: https://www.ebay.com/itm/333557338767?nordt=true&orig_cvip=true&rt=nc\n",
      "Сорян, не полусилось: https://www.ebay.com/itm/384510072249?nordt=true&orig_cvip=true&rt=nc\n",
      "Сорян, не полусилось: https://www.ebay.com/itm/403586049348?nordt=true&orig_cvip=true&rt=nc\n",
      "Сорян, не полусилось: https://www.ebay.com/itm/125054035059?nordt=true&orig_cvip=true&rt=nc\n",
      "Сорян, не полусилось: https://www.ebay.com/itm/125054035059?nordt=true&orig_cvip=true&rt=nc\n",
      "Сорян, не полусилось: https://www.ebay.com/itm/134171517421?nordt=true&orig_cvip=true&rt=nc\n",
      "Сорян, не полусилось: https://www.ebay.com/itm/174167480209?nordt=true&orig_cvip=true&rt=nc\n",
      "Сорян, не полусилось: https://www.ebay.com/itm/265180456496?nordt=true&orig_cvip=true&rt=nc\n",
      "Сорян, не полусилось: https://www.ebay.com/itm/265562606937?nordt=true&orig_cvip=true&rt=nc\n",
      "Сорян, не полусилось: https://www.ebay.com/itm/265568732233?nordt=true&orig_cvip=true&rt=nc\n",
      "Сорян, не полусилось: https://www.ebay.com/itm/284836979903?nordt=true&orig_cvip=true&rt=nc\n",
      "Сорян, не полусилось: https://www.ebay.com/itm/333597227677?nordt=true&orig_cvip=true&rt=nc\n",
      "Сорян, не полусилось: https://www.ebay.com/itm/374116192682?nordt=true&orig_cvip=true&rt=nc\n",
      "Сорян, не полусилось: https://www.ebay.com/itm/403793360830?nordt=true&orig_cvip=true&rt=nc\n",
      "Сорян, не полусилось: https://www.ebay.com/itm/403925142309?nordt=true&orig_cvip=true&rt=nc\n",
      "Сорян, не полусилось: https://www.ebay.com/itm/144303322994?nordt=true&orig_cvip=true&rt=nc\n",
      "Сорян, не полусилось: https://www.ebay.com/itm/193369445595?nordt=true&orig_cvip=true&rt=nc\n",
      "Сорян, не полусилось: https://www.ebay.com/itm/194295609002?nordt=true&orig_cvip=true&rt=nc\n",
      "Сорян, не полусилось: https://www.ebay.com/itm/194956743007?nordt=true&orig_cvip=true&rt=nc\n",
      "Сорян, не полусилось: https://www.ebay.com/itm/255366310528?nordt=true&orig_cvip=true&rt=nc\n",
      "Сорян, не полусилось: https://www.ebay.com/itm/374200060027?nordt=true&orig_cvip=true&rt=nc\n",
      "Сорян, не полусилось: https://www.ebay.com/itm/385377166540?nordt=true&orig_cvip=true&rt=nc\n",
      "Сорян, не полусилось: https://www.ebay.com/itm/402261378628?nordt=true&orig_cvip=true&rt=nc\n",
      "Сорян, не полусилось: https://www.ebay.com/itm/133938625679?nordt=true&orig_cvip=true&rt=nc\n",
      "Сорян, не полусилось: https://www.ebay.com/itm/133960540062?nordt=true&orig_cvip=true&rt=nc\n",
      "Сорян, не полусилось: https://www.ebay.com/itm/154007572640?nordt=true&orig_cvip=true&rt=nc\n",
      "Сорян, не полусилось: https://www.ebay.com/itm/175054909226?nordt=true&orig_cvip=true&rt=nc\n",
      "Сорян, не полусилось: https://www.ebay.com/itm/373672156635?nordt=true&orig_cvip=true&rt=nc\n",
      "Сорян, не полусилось: https://www.ebay.com/itm/382564721938?nordt=true&orig_cvip=true&rt=nc\n",
      "Сорян, не полусилось: https://www.ebay.com/itm/124719673068?nordt=true&orig_cvip=true&rt=nc\n",
      "Сорян, не полусилось: https://www.ebay.com/itm/125461058817?nordt=true&orig_cvip=true&rt=nc\n",
      "Сорян, не полусилось: https://www.ebay.com/itm/194703165601?nordt=true&orig_cvip=true&rt=nc\n",
      "Сорян, не полусилось: https://www.ebay.com/itm/224751846659?nordt=true&orig_cvip=true&rt=nc\n",
      "Сорян, не полусилось: https://www.ebay.com/itm/234232305376?nordt=true&orig_cvip=true&rt=nc\n",
      "Сорян, не полусилось: https://www.ebay.com/itm/255113689581?nordt=true&orig_cvip=true&rt=nc\n",
      "Сорян, не полусилось: https://www.ebay.com/itm/285018114564?nordt=true&orig_cvip=true&rt=nc\n",
      "Сорян, не полусилось: https://www.ebay.com/itm/353329242360?nordt=true&orig_cvip=true&rt=nc\n",
      "Сорян, не полусилось: https://www.ebay.com/itm/373059993125?nordt=true&orig_cvip=true&rt=nc\n",
      "Сорян, не полусилось: https://www.ebay.com/itm/401477782694?nordt=true&orig_cvip=true&rt=nc\n",
      "Сорян, не полусилось: https://www.ebay.com/itm/401941369576?nordt=true&orig_cvip=true&rt=nc\n",
      "Сорян, не полусилось: https://www.ebay.com/itm/403622516577?nordt=true&orig_cvip=true&rt=nc\n",
      "Сорян, не полусилось: https://www.ebay.com/itm/403734552951?nordt=true&orig_cvip=true&rt=nc\n",
      "Сорян, не полусилось: https://www.ebay.com/itm/115442037593?nordt=true&orig_cvip=true&rt=nc\n",
      "Сорян, не полусилось: https://www.ebay.com/itm/133651320746?nordt=true&orig_cvip=true&rt=nc\n",
      "Сорян, не полусилось: https://www.ebay.com/itm/144063062217?nordt=true&orig_cvip=true&rt=nc\n",
      "Сорян, не полусилось: https://www.ebay.com/itm/175021258468?nordt=true&orig_cvip=true&rt=nc\n",
      "Сорян, не полусилось: https://www.ebay.com/itm/185015120136?nordt=true&orig_cvip=true&rt=nc\n",
      "Сорян, не полусилось: https://www.ebay.com/itm/185427606319?nordt=true&orig_cvip=true&rt=nc\n",
      "Сорян, не полусилось: https://www.ebay.com/itm/353871716381?nordt=true&orig_cvip=true&rt=nc\n",
      "Сорян, не полусилось: https://www.ebay.com/itm/393733562357?nordt=true&orig_cvip=true&rt=nc\n",
      "Сорян, не полусилось: https://www.ebay.com/itm/394473425830?nordt=true&orig_cvip=true&rt=nc\n",
      "Сорян, не полусилось: https://www.ebay.com/itm/403143437768?nordt=true&orig_cvip=true&rt=nc\n",
      "Сорян, не полусилось: https://www.ebay.com/itm/115382462404?nordt=true&orig_cvip=true&rt=nc\n",
      "Сорян, не полусилось: https://www.ebay.com/itm/125654726090?nordt=true&orig_cvip=true&rt=nc\n",
      "Сорян, не полусилось: https://www.ebay.com/itm/144834005582?nordt=true&orig_cvip=true&rt=nc\n",
      "Сорян, не полусилось: https://www.ebay.com/itm/164003487933?nordt=true&orig_cvip=true&rt=nc\n",
      "Сорян, не полусилось: https://www.ebay.com/itm/175061962131?nordt=true&orig_cvip=true&rt=nc\n",
      "Сорян, не полусилось: https://www.ebay.com/itm/175231895872?nordt=true&orig_cvip=true&rt=nc\n",
      "Сорян, не полусилось: https://www.ebay.com/itm/194269335698?nordt=true&orig_cvip=true&rt=nc\n",
      "Сорян, не полусилось: https://www.ebay.com/itm/194299543054?nordt=true&orig_cvip=true&rt=nc\n",
      "Сорян, не полусилось: https://www.ebay.com/itm/195153897985?nordt=true&orig_cvip=true&rt=nc\n",
      "Сорян, не полусилось: https://www.ebay.com/itm/203871750442?nordt=true&orig_cvip=true&rt=nc\n",
      "Сорян, не полусилось: https://www.ebay.com/itm/363463023831?nordt=true&orig_cvip=true&rt=nc\n",
      "Сорян, не полусилось: https://www.ebay.com/itm/363842379380?nordt=true&orig_cvip=true&rt=nc\n",
      "Сорян, не полусилось: https://www.ebay.com/itm/402056599071?nordt=true&orig_cvip=true&rt=nc\n",
      "Сорян, не полусилось: https://www.ebay.com/itm/403747000714?nordt=true&orig_cvip=true&rt=nc\n",
      "Сорян, не полусилось: https://www.ebay.com/itm/134079681547?nordt=true&orig_cvip=true&rt=nc\n",
      "Сорян, не полусилось: https://www.ebay.com/itm/143931301160?nordt=true&orig_cvip=true&rt=nc\n",
      "Сорян, не полусилось: https://www.ebay.com/itm/175218736202?nordt=true&orig_cvip=true&rt=nc\n",
      "Сорян, не полусилось: https://www.ebay.com/itm/184940187045?nordt=true&orig_cvip=true&rt=nc\n",
      "Сорян, не полусилось: https://www.ebay.com/itm/193717785962?nordt=true&orig_cvip=true&rt=nc\n",
      "Сорян, не полусилось: https://www.ebay.com/itm/194500535068?nordt=true&orig_cvip=true&rt=nc\n",
      "Сорян, не полусилось: https://www.ebay.com/itm/204173167214?nordt=true&orig_cvip=true&rt=nc\n",
      "Сорян, не полусилось: https://www.ebay.com/itm/254798654852?nordt=true&orig_cvip=true&rt=nc\n",
      "Сорян, не полусилось: https://www.ebay.com/itm/284935415098?nordt=true&orig_cvip=true&rt=nc\n",
      "Сорян, не полусилось: https://www.ebay.com/itm/402359922908?nordt=true&orig_cvip=true&rt=nc\n",
      "Сорян, не полусилось: https://www.ebay.com/itm/403084032924?nordt=true&orig_cvip=true&rt=nc\n",
      "Сорян, не полусилось: https://www.ebay.com/itm/115215172661?nordt=true&orig_cvip=true&rt=nc\n",
      "Сорян, не полусилось: https://www.ebay.com/itm/125338033092?nordt=true&orig_cvip=true&rt=nc\n",
      "Сорян, не полусилось: https://www.ebay.com/itm/224640394267?nordt=true&orig_cvip=true&rt=nc\n",
      "Сорян, не полусилось: https://www.ebay.com/itm/254533461425?nordt=true&orig_cvip=true&rt=nc\n",
      "Сорян, не полусилось: https://www.ebay.com/itm/254688120635?nordt=true&orig_cvip=true&rt=nc\n",
      "Сорян, не полусилось: https://www.ebay.com/itm/254855174867?nordt=true&orig_cvip=true&rt=nc\n",
      "Сорян, не полусилось: https://www.ebay.com/itm/275513935883?nordt=true&orig_cvip=true&rt=nc\n",
      "Сорян, не полусилось: https://www.ebay.com/itm/324422911047?nordt=true&orig_cvip=true&rt=nc\n",
      "Сорян, не полусилось: https://www.ebay.com/itm/354257835761?nordt=true&orig_cvip=true&rt=nc\n",
      "Сорян, не полусилось: https://www.ebay.com/itm/362838878524?nordt=true&orig_cvip=true&rt=nc\n",
      "Сорян, не полусилось: https://www.ebay.com/itm/363310167917?nordt=true&orig_cvip=true&rt=nc\n",
      "Сорян, не полусилось: https://www.ebay.com/itm/114930155989?nordt=true&orig_cvip=true&rt=nc\n",
      "Сорян, не полусилось: https://www.ebay.com/itm/125253651400?nordt=true&orig_cvip=true&rt=nc\n",
      "Сорян, не полусилось: https://www.ebay.com/itm/133963510120?nordt=true&orig_cvip=true&rt=nc\n",
      "Сорян, не полусилось: https://www.ebay.com/itm/153991843515?nordt=true&orig_cvip=true&rt=nc\n",
      "Сорян, не полусилось: https://www.ebay.com/itm/254279016235?nordt=true&orig_cvip=true&rt=nc\n",
      "Сорян, не полусилось: https://www.ebay.com/itm/254904077063?nordt=true&orig_cvip=true&rt=nc\n",
      "Сорян, не полусилось: https://www.ebay.com/itm/255147018124?nordt=true&orig_cvip=true&rt=nc\n",
      "Сорян, не полусилось: https://www.ebay.com/itm/265895451955?nordt=true&orig_cvip=true&rt=nc\n",
      "Сорян, не полусилось: https://www.ebay.com/itm/284983294547?nordt=true&orig_cvip=true&rt=nc\n",
      "Сорян, не полусилось: https://www.ebay.com/itm/304412926955?nordt=true&orig_cvip=true&rt=nc\n",
      "Сорян, не полусилось: https://www.ebay.com/itm/363207244878?nordt=true&orig_cvip=true&rt=nc\n",
      "Сорян, не полусилось: https://www.ebay.com/itm/363276081830?nordt=true&orig_cvip=true&rt=nc\n",
      "Сорян, не полусилось: https://www.ebay.com/itm/402047225913?nordt=true&orig_cvip=true&rt=nc\n",
      "Сорян, не полусилось: https://www.ebay.com/itm/143938773808?nordt=true&orig_cvip=true&rt=nc\n",
      "Сорян, не полусилось: https://www.ebay.com/itm/266031725901?nordt=true&orig_cvip=true&rt=nc\n",
      "Сорян, не полусилось: https://www.ebay.com/itm/353468254434?nordt=true&orig_cvip=true&rt=nc\n",
      "Сорян, не полусилось: https://www.ebay.com/itm/353655103495?nordt=true&orig_cvip=true&rt=nc\n",
      "Сорян, не полусилось: https://www.ebay.com/itm/362495619840?nordt=true&orig_cvip=true&rt=nc\n",
      "Сорян, не полусилось: https://www.ebay.com/itm/362496348969?nordt=true&orig_cvip=true&rt=nc\n"
     ]
    },
    {
     "name": "stderr",
     "output_type": "stream",
     "text": [
      " 79%|███████▉  | 1384/1755 [2:39:20<00:12, 28.97it/s]"
     ]
    },
    {
     "name": "stdout",
     "output_type": "stream",
     "text": [
      "Сорян, не полусилось: https://www.ebay.com/itm/363475181776?nordt=true&orig_cvip=true&rt=nc\n",
      "Сорян, не полусилось: https://www.ebay.com/itm/363652176607?nordt=true&orig_cvip=true&rt=nc\n",
      "Сорян, не полусилось: https://www.ebay.com/itm/382031240661?nordt=true&orig_cvip=true&rt=nc\n",
      "Сорян, не полусилось: https://www.ebay.com/itm/403041309266?nordt=true&orig_cvip=true&rt=nc\n",
      "Сорян, не полусилось: https://www.ebay.com/itm/115377558781?nordt=true&orig_cvip=true&rt=nc\n",
      "Сорян, не полусилось: https://www.ebay.com/itm/124781451324?nordt=true&orig_cvip=true&rt=nc\n",
      "Сорян, не полусилось: https://www.ebay.com/itm/134141893954?nordt=true&orig_cvip=true&rt=nc\n",
      "Сорян, не полусилось: https://www.ebay.com/itm/134289912060?nordt=true&orig_cvip=true&rt=nc\n",
      "Сорян, не полусилось: https://www.ebay.com/itm/143723838896?nordt=true&orig_cvip=true&rt=nc\n",
      "Сорян, не полусилось: https://www.ebay.com/itm/164078444582?nordt=true&orig_cvip=true&rt=nc\n",
      "Сорян, не полусилось: https://www.ebay.com/itm/165875468220?nordt=true&orig_cvip=true&rt=nc\n",
      "Сорян, не полусилось: https://www.ebay.com/itm/175001581505?nordt=true&orig_cvip=true&rt=nc\n",
      "Сорян, не полусилось: https://www.ebay.com/itm/195370735476?nordt=true&orig_cvip=true&rt=nc\n",
      "Сорян, не полусилось: https://www.ebay.com/itm/225105866814?nordt=true&orig_cvip=true&rt=nc\n",
      "Сорян, не полусилось: https://www.ebay.com/itm/284813673988?nordt=true&orig_cvip=true&rt=nc\n",
      "Сорян, не полусилось: https://www.ebay.com/itm/313642060537?nordt=true&orig_cvip=true&rt=nc\n",
      "Сорян, не полусилось: https://www.ebay.com/itm/334637884437?nordt=true&orig_cvip=true&rt=nc\n",
      "Сорян, не полусилось: https://www.ebay.com/itm/383415415507?nordt=true&orig_cvip=true&rt=nc\n",
      "Сорян, не полусилось: https://www.ebay.com/itm/401466374236?nordt=true&orig_cvip=true&rt=nc\n",
      "Сорян, не полусилось: https://www.ebay.com/itm/401521017761?nordt=true&orig_cvip=true&rt=nc\n",
      "Сорян, не полусилось: https://www.ebay.com/itm/174168172802?nordt=true&orig_cvip=true&rt=nc\n",
      "Сорян, не полусилось: https://www.ebay.com/itm/185187378928?nordt=true&orig_cvip=true&rt=nc\n",
      "Сорян, не полусилось: https://www.ebay.com/itm/194105641278?nordt=true&orig_cvip=true&rt=nc\n",
      "Сорян, не полусилось: https://www.ebay.com/itm/195030865991?nordt=true&orig_cvip=true&rt=nc\n",
      "Сорян, не полусилось: https://www.ebay.com/itm/255540584601?nordt=true&orig_cvip=true&rt=nc\n",
      "Сорян, не полусилось: https://www.ebay.com/itm/263522301811?nordt=true&orig_cvip=true&rt=nc\n",
      "Сорян, не полусилось: https://www.ebay.com/itm/284935400973?nordt=true&orig_cvip=true&rt=nc\n",
      "Сорян, не полусилось: https://www.ebay.com/itm/304685173621?nordt=true&orig_cvip=true&rt=nc\n",
      "Сорян, не полусилось: https://www.ebay.com/itm/313643744706?nordt=true&orig_cvip=true&rt=nc\n",
      "Сорян, не полусилось: https://www.ebay.com/itm/325204427404?nordt=true&orig_cvip=true&rt=nc\n",
      "Сорян, не полусилось: https://www.ebay.com/itm/325247351849?nordt=true&orig_cvip=true&rt=nc\n",
      "Сорян, не полусилось: https://www.ebay.com/itm/334377532232?nordt=true&orig_cvip=true&rt=nc\n",
      "Сорян, не полусилось: https://www.ebay.com/itm/362131166778?nordt=true&orig_cvip=true&rt=nc\n",
      "Сорян, не полусилось: https://www.ebay.com/itm/363993149573?nordt=true&orig_cvip=true&rt=nc\n",
      "Сорян, не полусилось: https://www.ebay.com/itm/403790986721?nordt=true&orig_cvip=true&rt=nc\n",
      "Сорян, не полусилось: https://www.ebay.com/itm/125288117060?nordt=true&orig_cvip=true&rt=nc\n",
      "Сорян, не полусилось: https://www.ebay.com/itm/134127459913?nordt=true&orig_cvip=true&rt=nc\n",
      "Сорян, не полусилось: https://www.ebay.com/itm/165180042579?nordt=true&orig_cvip=true&rt=nc\n",
      "Сорян, не полусилось: https://www.ebay.com/itm/185015177906?nordt=true&orig_cvip=true&rt=nc\n",
      "Сорян, не полусилось: https://www.ebay.com/itm/193314501585?nordt=true&orig_cvip=true&rt=nc\n",
      "Сорян, не полусилось: https://www.ebay.com/itm/225460653971?nordt=true&orig_cvip=true&rt=nc\n",
      "Сорян, не полусилось: https://www.ebay.com/itm/255147018619?nordt=true&orig_cvip=true&rt=nc\n",
      "Сорян, не полусилось: https://www.ebay.com/itm/255628398548?nordt=true&orig_cvip=true&rt=nc\n",
      "Сорян, не полусилось: https://www.ebay.com/itm/283935841338?nordt=true&orig_cvip=true&rt=nc\n",
      "Сорян, не полусилось: https://www.ebay.com/itm/284523117993?nordt=true&orig_cvip=true&rt=nc\n",
      "Сорян, не полусилось: https://www.ebay.com/itm/284638801008?nordt=true&orig_cvip=true&rt=nc\n",
      "Сорян, не полусилось: https://www.ebay.com/itm/323203465214?nordt=true&orig_cvip=true&rt=nc\n",
      "Сорян, не полусилось: https://www.ebay.com/itm/362063944970?nordt=true&orig_cvip=true&rt=nc\n",
      "Сорян, не полусилось: https://www.ebay.com/itm/363313825025?nordt=true&orig_cvip=true&rt=nc\n",
      "Сорян, не полусилось: https://www.ebay.com/itm/114976454310?nordt=true&orig_cvip=true&rt=nc\n",
      "Сорян, не полусилось: https://www.ebay.com/itm/114982462737?nordt=true&orig_cvip=true&rt=nc\n",
      "Сорян, не полусилось: https://www.ebay.com/itm/115373485590?nordt=true&orig_cvip=true&rt=nc\n",
      "Сорян, не полусилось: https://www.ebay.com/itm/134160433201?nordt=true&orig_cvip=true&rt=nc\n",
      "Сорян, не полусилось: https://www.ebay.com/itm/134171038375?nordt=true&orig_cvip=true&rt=nc\n",
      "Сорян, не полусилось: https://www.ebay.com/itm/144769878476?nordt=true&orig_cvip=true&rt=nc\n",
      "Сорян, не полусилось: https://www.ebay.com/itm/175311948978?nordt=true&orig_cvip=true&rt=nc\n",
      "Сорян, не полусилось: https://www.ebay.com/itm/325174641209?nordt=true&orig_cvip=true&rt=nc\n",
      "Сорян, не полусилось: https://www.ebay.com/itm/354484956204?nordt=true&orig_cvip=true&rt=nc\n",
      "Сорян, не полусилось: https://www.ebay.com/itm/401492404028?nordt=true&orig_cvip=true&rt=nc\n",
      "Сорян, не полусилось: https://www.ebay.com/itm/402622554950?nordt=true&orig_cvip=true&rt=nc\n",
      "Сорян, не полусилось: https://www.ebay.com/itm/115132754167?nordt=true&orig_cvip=true&rt=nc\n",
      "Сорян, не полусилось: https://www.ebay.com/itm/124664600958?nordt=true&orig_cvip=true&rt=nc\n",
      "Сорян, не полусилось: https://www.ebay.com/itm/165819346463?nordt=true&orig_cvip=true&rt=nc\n",
      "Сорян, не полусилось: https://www.ebay.com/itm/175104282984?nordt=true&orig_cvip=true&rt=nc\n",
      "Сорян, не полусилось: https://www.ebay.com/itm/184638928679?nordt=true&orig_cvip=true&rt=nc\n",
      "Сорян, не полусилось: https://www.ebay.com/itm/224697402168?nordt=true&orig_cvip=true&rt=nc\n",
      "Сорян, не полусилось: https://www.ebay.com/itm/225240886939?nordt=true&orig_cvip=true&rt=nc\n",
      "Сорян, не полусилось: https://www.ebay.com/itm/265728205822?nordt=true&orig_cvip=true&rt=nc\n",
      "Сорян, не полусилось: https://www.ebay.com/itm/313869861569?nordt=true&orig_cvip=true&rt=nc\n",
      "Сорян, не полусилось: https://www.ebay.com/itm/354270877543?nordt=true&orig_cvip=true&rt=nc\n",
      "Сорян, не полусилось: https://www.ebay.com/itm/124999460348?nordt=true&orig_cvip=true&rt=nc\n",
      "Сорян, не полусилось: https://www.ebay.com/itm/133811221769?nordt=true&orig_cvip=true&rt=nc\n",
      "Сорян, не полусилось: https://www.ebay.com/itm/133873609750?nordt=true&orig_cvip=true&rt=nc\n",
      "Сорян, не полусилось: https://www.ebay.com/itm/144330181632?nordt=true&orig_cvip=true&rt=nc\n",
      "Сорян, не полусилось: https://www.ebay.com/itm/185427609197?nordt=true&orig_cvip=true&rt=nc\n",
      "Сорян, не полусилось: https://www.ebay.com/itm/194269495626?nordt=true&orig_cvip=true&rt=nc\n",
      "Сорян, не полусилось: https://www.ebay.com/itm/194300352783?nordt=true&orig_cvip=true&rt=nc\n",
      "Сорян, не полусилось: https://www.ebay.com/itm/266082216133?nordt=true&orig_cvip=true&rt=nc\n",
      "Сорян, не полусилось: https://www.ebay.com/itm/284566530704?nordt=true&orig_cvip=true&rt=nc\n",
      "Сорян, не полусилось: https://www.ebay.com/itm/284999381865?nordt=true&orig_cvip=true&rt=nc\n",
      "Сорян, не полусилось: https://www.ebay.com/itm/383660398074?nordt=true&orig_cvip=true&rt=nc\n",
      "Сорян, не полусилось: https://www.ebay.com/itm/404194790229?nordt=true&orig_cvip=true&rt=nc\n",
      "Сорян, не полусилось: https://www.ebay.com/itm/123524681259?nordt=true&orig_cvip=true&rt=nc\n",
      "Сорян, не полусилось: https://www.ebay.com/itm/133603930223?nordt=true&orig_cvip=true&rt=nc\n",
      "Сорян, не полусилось: https://www.ebay.com/itm/144083041861?nordt=true&orig_cvip=true&rt=nc\n",
      "Сорян, не полусилось: https://www.ebay.com/itm/185233206983?nordt=true&orig_cvip=true&rt=nc\n",
      "Сорян, не полусилось: https://www.ebay.com/itm/192584164713?nordt=true&orig_cvip=true&rt=nc\n",
      "Сорян, не полусилось: https://www.ebay.com/itm/224972901721?nordt=true&orig_cvip=true&rt=nc\n",
      "Сорян, не полусилось: https://www.ebay.com/itm/225213934477?nordt=true&orig_cvip=true&rt=nc\n",
      "Сорян, не полусилось: https://www.ebay.com/itm/254905487614?nordt=true&orig_cvip=true&rt=nc\n",
      "Сорян, не полусилось: https://www.ebay.com/itm/254987296820?nordt=true&orig_cvip=true&rt=nc\n",
      "Сорян, не полусилось: https://www.ebay.com/itm/255095962105?nordt=true&orig_cvip=true&rt=nc\n",
      "Сорян, не полусилось: https://www.ebay.com/itm/255750739980?nordt=true&orig_cvip=true&rt=nc\n",
      "Сорян, не полусилось: https://www.ebay.com/itm/275631317937?nordt=true&orig_cvip=true&rt=nc\n"
     ]
    },
    {
     "name": "stderr",
     "output_type": "stream",
     "text": [
      " 84%|████████▍ | 1480/1755 [2:39:20<00:04, 57.86it/s]"
     ]
    },
    {
     "name": "stdout",
     "output_type": "stream",
     "text": [
      "Сорян, не полусилось: https://www.ebay.com/itm/323456821294?nordt=true&orig_cvip=true&rt=nc\n",
      "Сорян, не полусилось: https://www.ebay.com/itm/354007671279?nordt=true&orig_cvip=true&rt=nc\n",
      "Сорян, не полусилось: https://www.ebay.com/itm/363283770029?nordt=true&orig_cvip=true&rt=nc\n",
      "Сорян, не полусилось: https://www.ebay.com/itm/364068762157?nordt=true&orig_cvip=true&rt=nc\n",
      "Сорян, не полусилось: https://www.ebay.com/itm/385355754031?nordt=true&orig_cvip=true&rt=nc\n",
      "Сорян, не полусилось: https://www.ebay.com/itm/402047231618?nordt=true&orig_cvip=true&rt=nc\n",
      "Сорян, не полусилось: https://www.ebay.com/itm/403571077561?nordt=true&orig_cvip=true&rt=nc\n",
      "Сорян, не полусилось: https://www.ebay.com/itm/403790986878?nordt=true&orig_cvip=true&rt=nc\n",
      "Сорян, не полусилось: https://www.ebay.com/itm/124568713773?nordt=true&orig_cvip=true&rt=nc\n",
      "Сорян, не полусилось: https://www.ebay.com/itm/124989959657?nordt=true&orig_cvip=true&rt=nc\n",
      "Сорян, не полусилось: https://www.ebay.com/itm/125099752249?nordt=true&orig_cvip=true&rt=nc\n",
      "Сорян, не полусилось: https://www.ebay.com/itm/144127901503?nordt=true&orig_cvip=true&rt=nc\n",
      "Сорян, не полусилось: https://www.ebay.com/itm/144299275641?nordt=true&orig_cvip=true&rt=nc\n",
      "Сорян, не полусилось: https://www.ebay.com/itm/152003162746?nordt=true&orig_cvip=true&rt=nc\n",
      "Сорян, не полусилось: https://www.ebay.com/itm/194206823980?nordt=true&orig_cvip=true&rt=nc\n",
      "Сорян, не полусилось: https://www.ebay.com/itm/224836708585?nordt=true&orig_cvip=true&rt=nc\n",
      "Сорян, не полусилось: https://www.ebay.com/itm/255140484734?nordt=true&orig_cvip=true&rt=nc\n",
      "Сорян, не полусилось: https://www.ebay.com/itm/255570759589?nordt=true&orig_cvip=true&rt=nc\n",
      "Сорян, не полусилось: https://www.ebay.com/itm/284524847059?nordt=true&orig_cvip=true&rt=nc\n",
      "Сорян, не полусилось: https://www.ebay.com/itm/284950446100?nordt=true&orig_cvip=true&rt=nc\n",
      "Сорян, не полусилось: https://www.ebay.com/itm/363283415309?nordt=true&orig_cvip=true&rt=nc\n",
      "Сорян, не полусилось: https://www.ebay.com/itm/373586479016?nordt=true&orig_cvip=true&rt=nc\n",
      "Сорян, не полусилось: https://www.ebay.com/itm/402793032592?nordt=true&orig_cvip=true&rt=nc\n",
      "Сорян, не полусилось: https://www.ebay.com/itm/403999455082?nordt=true&orig_cvip=true&rt=nc\n",
      "Сорян, не полусилось: https://www.ebay.com/itm/131369349556?nordt=true&orig_cvip=true&rt=nc\n",
      "Сорян, не полусилось: https://www.ebay.com/itm/131812023501?nordt=true&orig_cvip=true&rt=nc\n",
      "Сорян, не полусилось: https://www.ebay.com/itm/134120079611?nordt=true&orig_cvip=true&rt=nc\n",
      "Сорян, не полусилось: https://www.ebay.com/itm/183478384967?nordt=true&orig_cvip=true&rt=nc\n",
      "Сорян, не полусилось: https://www.ebay.com/itm/183863129409?nordt=true&orig_cvip=true&rt=nc\n",
      "Сорян, не полусилось: https://www.ebay.com/itm/185101678662?nordt=true&orig_cvip=true&rt=nc\n",
      "Сорян, не полусилось: https://www.ebay.com/itm/193453470457?nordt=true&orig_cvip=true&rt=nc\n",
      "Сорян, не полусилось: https://www.ebay.com/itm/194364830257?nordt=true&orig_cvip=true&rt=nc\n",
      "Сорян, не полусилось: https://www.ebay.com/itm/255667175042?nordt=true&orig_cvip=true&rt=nc\n",
      "Сорян, не полусилось: https://www.ebay.com/itm/265468599408?nordt=true&orig_cvip=true&rt=nc\n",
      "Сорян, не полусилось: https://www.ebay.com/itm/284911676071?nordt=true&orig_cvip=true&rt=nc\n",
      "Сорян, не полусилось: https://www.ebay.com/itm/313647819145?nordt=true&orig_cvip=true&rt=nc\n",
      "Сорян, не полусилось: https://www.ebay.com/itm/313647819145?nordt=true&orig_cvip=true&rt=nc\n",
      "Сорян, не полусилось: https://www.ebay.com/itm/325050257716?nordt=true&orig_cvip=true&rt=nc\n",
      "Сорян, не полусилось: https://www.ebay.com/itm/363780332969?nordt=true&orig_cvip=true&rt=nc\n",
      "Сорян, не полусилось: https://www.ebay.com/itm/125018872164?nordt=true&orig_cvip=true&rt=nc\n",
      "Сорян, не полусилось: https://www.ebay.com/itm/125727541412?nordt=true&orig_cvip=true&rt=nc\n",
      "Сорян, не полусилось: https://www.ebay.com/itm/133867069132?nordt=true&orig_cvip=true&rt=nc\n",
      "Сорян, не полусилось: https://www.ebay.com/itm/144342585720?nordt=true&orig_cvip=true&rt=nc\n",
      "Сорян, не полусилось: https://www.ebay.com/itm/154365249618?nordt=true&orig_cvip=true&rt=nc\n",
      "Сорян, не полусилось: https://www.ebay.com/itm/164363173210?nordt=true&orig_cvip=true&rt=nc\n",
      "Сорян, не полусилось: https://www.ebay.com/itm/184968272560?nordt=true&orig_cvip=true&rt=nc\n",
      "Сорян, не полусилось: https://www.ebay.com/itm/185402875504?nordt=true&orig_cvip=true&rt=nc\n",
      "Сорян, не полусилось: https://www.ebay.com/itm/185518064303?nordt=true&orig_cvip=true&rt=nc\n",
      "Сорян, не полусилось: https://www.ebay.com/itm/224915836336?nordt=true&orig_cvip=true&rt=nc\n",
      "Сорян, не полусилось: https://www.ebay.com/itm/274294668012?nordt=true&orig_cvip=true&rt=nc\n",
      "Сорян, не полусилось: https://www.ebay.com/itm/284293964277?nordt=true&orig_cvip=true&rt=nc\n",
      "Сорян, не полусилось: https://www.ebay.com/itm/284353536505?nordt=true&orig_cvip=true&rt=nc\n",
      "Сорян, не полусилось: https://www.ebay.com/itm/304185296067?nordt=true&orig_cvip=true&rt=nc\n",
      "Сорян, не полусилось: https://www.ebay.com/itm/363628785086?nordt=true&orig_cvip=true&rt=nc\n",
      "Сорян, не полусилось: https://www.ebay.com/itm/393546807846?nordt=true&orig_cvip=true&rt=nc\n",
      "Сорян, не полусилось: https://www.ebay.com/itm/124413803405?nordt=true&orig_cvip=true&rt=nc\n",
      "Сорян, не полусилось: https://www.ebay.com/itm/125805996274?nordt=true&orig_cvip=true&rt=nc\n",
      "Сорян, не полусилось: https://www.ebay.com/itm/175239305441?nordt=true&orig_cvip=true&rt=nc\n",
      "Сорян, не полусилось: https://www.ebay.com/itm/185704680489?nordt=true&orig_cvip=true&rt=nc\n",
      "Сорян, не полусилось: https://www.ebay.com/itm/195123134531?nordt=true&orig_cvip=true&rt=nc\n",
      "Сорян, не полусилось: https://www.ebay.com/itm/254719887072?nordt=true&orig_cvip=true&rt=nc\n",
      "Сорян, не полусилось: https://www.ebay.com/itm/255994255976?nordt=true&orig_cvip=true&rt=nc\n",
      "Сорян, не полусилось: https://www.ebay.com/itm/283771260537?nordt=true&orig_cvip=true&rt=nc\n",
      "Сорян, не полусилось: https://www.ebay.com/itm/313643749914?nordt=true&orig_cvip=true&rt=nc\n",
      "Сорян, не полусилось: https://www.ebay.com/itm/324687275841?nordt=true&orig_cvip=true&rt=nc\n",
      "Сорян, не полусилось: https://www.ebay.com/itm/353457792392?nordt=true&orig_cvip=true&rt=nc\n",
      "Сорян, не полусилось: https://www.ebay.com/itm/362109222841?nordt=true&orig_cvip=true&rt=nc\n",
      "Сорян, не полусилось: https://www.ebay.com/itm/363273665575?nordt=true&orig_cvip=true&rt=nc\n",
      "Сорян, не полусилось: https://www.ebay.com/itm/363422141309?nordt=true&orig_cvip=true&rt=nc\n",
      "Сорян, не полусилось: https://www.ebay.com/itm/402578702563?nordt=true&orig_cvip=true&rt=nc\n",
      "Сорян, не полусилось: https://www.ebay.com/itm/124482697700?nordt=true&orig_cvip=true&rt=nc\n",
      "Сорян, не полусилось: https://www.ebay.com/itm/125242953494?nordt=true&orig_cvip=true&rt=nc\n",
      "Сорян, не полусилось: https://www.ebay.com/itm/174182943544?nordt=true&orig_cvip=true&rt=nc\n",
      "Сорян, не полусилось: https://www.ebay.com/itm/175249236322?nordt=true&orig_cvip=true&rt=nc\n",
      "Сорян, не полусилось: https://www.ebay.com/itm/185484927442?nordt=true&orig_cvip=true&rt=nc\n",
      "Сорян, не полусилось: https://www.ebay.com/itm/234166441150?nordt=true&orig_cvip=true&rt=nc\n",
      "Сорян, не полусилось: https://www.ebay.com/itm/255199854847?nordt=true&orig_cvip=true&rt=nc\n",
      "Сорян, не полусилось: https://www.ebay.com/itm/255661684935?nordt=true&orig_cvip=true&rt=nc\n",
      "Сорян, не полусилось: https://www.ebay.com/itm/274560210780?nordt=true&orig_cvip=true&rt=nc\n",
      "Сорян, не полусилось: https://www.ebay.com/itm/275369328023?nordt=true&orig_cvip=true&rt=nc\n",
      "Сорян, не полусилось: https://www.ebay.com/itm/284362718920?nordt=true&orig_cvip=true&rt=nc\n",
      "Сорян, не полусилось: https://www.ebay.com/itm/284656259088?nordt=true&orig_cvip=true&rt=nc\n",
      "Сорян, не полусилось: https://www.ebay.com/itm/304529597857?nordt=true&orig_cvip=true&rt=nc\n",
      "Сорян, не полусилось: https://www.ebay.com/itm/333556175740?nordt=true&orig_cvip=true&rt=nc\n",
      "Сорян, не полусилось: https://www.ebay.com/itm/363677101019?nordt=true&orig_cvip=true&rt=nc\n"
     ]
    },
    {
     "name": "stderr",
     "output_type": "stream",
     "text": [
      " 89%|████████▉ | 1569/1755 [2:39:20<00:01, 100.72it/s]"
     ]
    },
    {
     "name": "stdout",
     "output_type": "stream",
     "text": [
      "Сорян, не полусилось: https://www.ebay.com/itm/363677104248?nordt=true&orig_cvip=true&rt=nc\n",
      "Сорян, не полусилось: https://www.ebay.com/itm/374287098313?nordt=true&orig_cvip=true&rt=nc\n",
      "Сорян, не полусилось: https://www.ebay.com/itm/403945567002?nordt=true&orig_cvip=true&rt=nc\n",
      "Сорян, не полусилось: https://www.ebay.com/itm/133470401416?nordt=true&orig_cvip=true&rt=nc\n",
      "Сорян, не полусилось: https://www.ebay.com/itm/134289962940?nordt=true&orig_cvip=true&rt=nc\n",
      "Сорян, не полусилось: https://www.ebay.com/itm/194299273450?nordt=true&orig_cvip=true&rt=nc\n",
      "Сорян, не полусилось: https://www.ebay.com/itm/194402982597?nordt=true&orig_cvip=true&rt=nc\n",
      "Сорян, не полусилось: https://www.ebay.com/itm/195161738684?nordt=true&orig_cvip=true&rt=nc\n",
      "Сорян, не полусилось: https://www.ebay.com/itm/204145982875?nordt=true&orig_cvip=true&rt=nc\n",
      "Сорян, не полусилось: https://www.ebay.com/itm/224922807975?nordt=true&orig_cvip=true&rt=nc\n",
      "Сорян, не полусилось: https://www.ebay.com/itm/225003556256?nordt=true&orig_cvip=true&rt=nc\n",
      "Сорян, не полусилось: https://www.ebay.com/itm/255112193635?nordt=true&orig_cvip=true&rt=nc\n",
      "Сорян, не полусилось: https://www.ebay.com/itm/255129689294?nordt=true&orig_cvip=true&rt=nc\n",
      "Сорян, не полусилось: https://www.ebay.com/itm/334440868760?nordt=true&orig_cvip=true&rt=nc\n",
      "Сорян, не полусилось: https://www.ebay.com/itm/353866086814?nordt=true&orig_cvip=true&rt=nc\n",
      "Сорян, не полусилось: https://www.ebay.com/itm/363677102642?nordt=true&orig_cvip=true&rt=nc\n",
      "Сорян, не полусилось: https://www.ebay.com/itm/134056406681?nordt=true&orig_cvip=true&rt=nc\n",
      "Сорян, не полусилось: https://www.ebay.com/itm/134120078562?nordt=true&orig_cvip=true&rt=nc\n",
      "Сорян, не полусилось: https://www.ebay.com/itm/142867874281?nordt=true&orig_cvip=true&rt=nc\n",
      "Сорян, не полусилось: https://www.ebay.com/itm/175055946467?nordt=true&orig_cvip=true&rt=nc\n",
      "Сорян, не полусилось: https://www.ebay.com/itm/175321389693?nordt=true&orig_cvip=true&rt=nc\n",
      "Сорян, не полусилось: https://www.ebay.com/itm/203489599203?nordt=true&orig_cvip=true&rt=nc\n",
      "Сорян, не полусилось: https://www.ebay.com/itm/225470685473?nordt=true&orig_cvip=true&rt=nc\n",
      "Сорян, не полусилось: https://www.ebay.com/itm/284976295771?nordt=true&orig_cvip=true&rt=nc\n",
      "Сорян, не полусилось: https://www.ebay.com/itm/332982035645?nordt=true&orig_cvip=true&rt=nc\n",
      "Сорян, не полусилось: https://www.ebay.com/itm/352527836323?nordt=true&orig_cvip=true&rt=nc\n",
      "Сорян, не полусилось: https://www.ebay.com/itm/353023309385?nordt=true&orig_cvip=true&rt=nc\n",
      "Сорян, не полусилось: https://www.ebay.com/itm/353640377703?nordt=true&orig_cvip=true&rt=nc\n",
      "Сорян, не полусилось: https://www.ebay.com/itm/354582083883?nordt=true&orig_cvip=true&rt=nc\n",
      "Сорян, не полусилось: https://www.ebay.com/itm/363677102898?nordt=true&orig_cvip=true&rt=nc\n",
      "Сорян, не полусилось: https://www.ebay.com/itm/114931696971?nordt=true&orig_cvip=true&rt=nc\n",
      "Сорян, не полусилось: https://www.ebay.com/itm/115068584272?nordt=true&orig_cvip=true&rt=nc\n",
      "Сорян, не полусилось: https://www.ebay.com/itm/133885462237?nordt=true&orig_cvip=true&rt=nc\n",
      "Сорян, не полусилось: https://www.ebay.com/itm/143021049911?nordt=true&orig_cvip=true&rt=nc\n",
      "Сорян, не полусилось: https://www.ebay.com/itm/224980712253?nordt=true&orig_cvip=true&rt=nc\n",
      "Сорян, не полусилось: https://www.ebay.com/itm/233117924896?nordt=true&orig_cvip=true&rt=nc\n",
      "Сорян, не полусилось: https://www.ebay.com/itm/265897125313?nordt=true&orig_cvip=true&rt=nc\n",
      "Сорян, не полусилось: https://www.ebay.com/itm/266153140658?nordt=true&orig_cvip=true&rt=nc\n",
      "Сорян, не полусилось: https://www.ebay.com/itm/274724738995?nordt=true&orig_cvip=true&rt=nc\n",
      "Сорян, не полусилось: https://www.ebay.com/itm/304156381139?nordt=true&orig_cvip=true&rt=nc\n",
      "Сорян, не полусилось: https://www.ebay.com/itm/324768981960?nordt=true&orig_cvip=true&rt=nc\n",
      "Сорян, не полусилось: https://www.ebay.com/itm/324880743737?nordt=true&orig_cvip=true&rt=nc\n",
      "Сорян, не полусилось: https://www.ebay.com/itm/363685541904?nordt=true&orig_cvip=true&rt=nc\n",
      "Сорян, не полусилось: https://www.ebay.com/itm/402040385092?nordt=true&orig_cvip=true&rt=nc\n",
      "Сорян, не полусилось: https://www.ebay.com/itm/403041205707?nordt=true&orig_cvip=true&rt=nc\n",
      "Сорян, не полусилось: https://www.ebay.com/itm/404100321500?nordt=true&orig_cvip=true&rt=nc\n",
      "Сорян, не полусилось: https://www.ebay.com/itm/404203040170?nordt=true&orig_cvip=true&rt=nc\n",
      "Сорян, не полусилось: https://www.ebay.com/itm/124882496073?nordt=true&orig_cvip=true&rt=nc\n",
      "Сорян, не полусилось: https://www.ebay.com/itm/133448976353?nordt=true&orig_cvip=true&rt=nc\n",
      "Сорян, не полусилось: https://www.ebay.com/itm/133884939196?nordt=true&orig_cvip=true&rt=nc\n",
      "Сорян, не полусилось: https://www.ebay.com/itm/144350604362?nordt=true&orig_cvip=true&rt=nc\n",
      "Сорян, не полусилось: https://www.ebay.com/itm/144945208173?nordt=true&orig_cvip=true&rt=nc\n",
      "Сорян, не полусилось: https://www.ebay.com/itm/193303777502?nordt=true&orig_cvip=true&rt=nc\n",
      "Сорян, не полусилось: https://www.ebay.com/itm/193333669116?nordt=true&orig_cvip=true&rt=nc\n",
      "Сорян, не полусилось: https://www.ebay.com/itm/195645532421?nordt=true&orig_cvip=true&rt=nc\n",
      "Сорян, не полусилось: https://www.ebay.com/itm/224055790622?nordt=true&orig_cvip=true&rt=nc\n",
      "Сорян, не полусилось: https://www.ebay.com/itm/254497146719?nordt=true&orig_cvip=true&rt=nc\n",
      "Сорян, не полусилось: https://www.ebay.com/itm/254948181863?nordt=true&orig_cvip=true&rt=nc\n",
      "Сорян, не полусилось: https://www.ebay.com/itm/255201682673?nordt=true&orig_cvip=true&rt=nc\n",
      "Сорян, не полусилось: https://www.ebay.com/itm/313642158313?nordt=true&orig_cvip=true&rt=nc\n",
      "Сорян, не полусилось: https://www.ebay.com/itm/334436747340?nordt=true&orig_cvip=true&rt=nc\n",
      "Сорян, не полусилось: https://www.ebay.com/itm/363677108586?nordt=true&orig_cvip=true&rt=nc\n",
      "Сорян, не полусилось: https://www.ebay.com/itm/124872095708?nordt=true&orig_cvip=true&rt=nc\n",
      "Сорян, не полусилось: https://www.ebay.com/itm/144330082612?nordt=true&orig_cvip=true&rt=nc\n",
      "Сорян, не полусилось: https://www.ebay.com/itm/174470129755?nordt=true&orig_cvip=true&rt=nc\n",
      "Сорян, не полусилось: https://www.ebay.com/itm/175099799228?nordt=true&orig_cvip=true&rt=nc\n",
      "Сорян, не полусилось: https://www.ebay.com/itm/175207599741?nordt=true&orig_cvip=true&rt=nc\n",
      "Сорян, не полусилось: https://www.ebay.com/itm/185078877349?nordt=true&orig_cvip=true&rt=nc\n",
      "Сорян, не полусилось: https://www.ebay.com/itm/185457935066?nordt=true&orig_cvip=true&rt=nc\n",
      "Сорян, не полусилось: https://www.ebay.com/itm/185675583683?nordt=true&orig_cvip=true&rt=nc\n",
      "Сорян, не полусилось: https://www.ebay.com/itm/185733906606?nordt=true&orig_cvip=true&rt=nc\n",
      "Сорян, не полусилось: https://www.ebay.com/itm/233540674791?nordt=true&orig_cvip=true&rt=nc\n",
      "Сорян, не полусилось: https://www.ebay.com/itm/255959109952?nordt=true&orig_cvip=true&rt=nc\n",
      "Сорян, не полусилось: https://www.ebay.com/itm/284836980797?nordt=true&orig_cvip=true&rt=nc\n",
      "Сорян, не полусилось: https://www.ebay.com/itm/364007273533?nordt=true&orig_cvip=true&rt=nc\n",
      "Сорян, не полусилось: https://www.ebay.com/itm/402677154269?nordt=true&orig_cvip=true&rt=nc\n",
      "Сорян, не полусилось: https://www.ebay.com/itm/403219620602?nordt=true&orig_cvip=true&rt=nc\n",
      "Сорян, не полусилось: https://www.ebay.com/itm/403756695944?nordt=true&orig_cvip=true&rt=nc\n",
      "Сорян, не полусилось: https://www.ebay.com/itm/124828728913?nordt=true&orig_cvip=true&rt=nc\n",
      "Сорян, не полусилось: https://www.ebay.com/itm/125094140014?nordt=true&orig_cvip=true&rt=nc\n",
      "Сорян, не полусилось: https://www.ebay.com/itm/133859686542?nordt=true&orig_cvip=true&rt=nc\n",
      "Сорян, не полусилось: https://www.ebay.com/itm/143402716111?nordt=true&orig_cvip=true&rt=nc\n",
      "Сорян, не полусилось: https://www.ebay.com/itm/144106798984?nordt=true&orig_cvip=true&rt=nc\n",
      "Сорян, не полусилось: https://www.ebay.com/itm/174604365650?nordt=true&orig_cvip=true&rt=nc\n"
     ]
    },
    {
     "name": "stderr",
     "output_type": "stream",
     "text": [
      " 94%|█████████▍| 1654/1755 [2:39:20<00:00, 156.42it/s]"
     ]
    },
    {
     "name": "stdout",
     "output_type": "stream",
     "text": [
      "Сорян, не полусилось: https://www.ebay.com/itm/183335555955?nordt=true&orig_cvip=true&rt=nc\n",
      "Сорян, не полусилось: https://www.ebay.com/itm/193629460245?nordt=true&orig_cvip=true&rt=nc\n",
      "Сорян, не полусилось: https://www.ebay.com/itm/284426022288?nordt=true&orig_cvip=true&rt=nc\n",
      "Сорян, не полусилось: https://www.ebay.com/itm/285136036696?nordt=true&orig_cvip=true&rt=nc\n",
      "Сорян, не полусилось: https://www.ebay.com/itm/353023276525?nordt=true&orig_cvip=true&rt=nc\n",
      "Сорян, не полусилось: https://www.ebay.com/itm/363712905150?nordt=true&orig_cvip=true&rt=nc\n",
      "Сорян, не полусилось: https://www.ebay.com/itm/385120003212?nordt=true&orig_cvip=true&rt=nc\n",
      "Сорян, не полусилось: https://www.ebay.com/itm/403058490423?nordt=true&orig_cvip=true&rt=nc\n",
      "Сорян, не полусилось: https://www.ebay.com/itm/403300018608?nordt=true&orig_cvip=true&rt=nc\n",
      "Сорян, не полусилось: https://www.ebay.com/itm/403531799127?nordt=true&orig_cvip=true&rt=nc\n",
      "Сорян, не полусилось: https://www.ebay.com/itm/403583492402?nordt=true&orig_cvip=true&rt=nc\n",
      "Сорян, не полусилось: https://www.ebay.com/itm/124927685100?nordt=true&orig_cvip=true&rt=nc\n",
      "Сорян, не полусилось: https://www.ebay.com/itm/134012925903?nordt=true&orig_cvip=true&rt=nc\n",
      "Сорян, не полусилось: https://www.ebay.com/itm/134225276763?nordt=true&orig_cvip=true&rt=nc\n",
      "Сорян, не полусилось: https://www.ebay.com/itm/144299274731?nordt=true&orig_cvip=true&rt=nc\n",
      "Сорян, не полусилось: https://www.ebay.com/itm/144380355389?nordt=true&orig_cvip=true&rt=nc\n",
      "Сорян, не полусилось: https://www.ebay.com/itm/144611130205?nordt=true&orig_cvip=true&rt=nc\n",
      "Сорян, не полусилось: https://www.ebay.com/itm/185015150032?nordt=true&orig_cvip=true&rt=nc\n",
      "Сорян, не полусилось: https://www.ebay.com/itm/185363187419?nordt=true&orig_cvip=true&rt=nc\n",
      "Сорян, не полусилось: https://www.ebay.com/itm/185691798698?nordt=true&orig_cvip=true&rt=nc\n",
      "Сорян, не полусилось: https://www.ebay.com/itm/193455574783?nordt=true&orig_cvip=true&rt=nc\n",
      "Сорян, не полусилось: https://www.ebay.com/itm/194317315425?nordt=true&orig_cvip=true&rt=nc\n",
      "Сорян, не полусилось: https://www.ebay.com/itm/203592856895?nordt=true&orig_cvip=true&rt=nc\n",
      "Сорян, не полусилось: https://www.ebay.com/itm/234569346586?nordt=true&orig_cvip=true&rt=nc\n",
      "Сорян, не полусилось: https://www.ebay.com/itm/255059263534?nordt=true&orig_cvip=true&rt=nc\n",
      "Сорян, не полусилось: https://www.ebay.com/itm/255867926746?nordt=true&orig_cvip=true&rt=nc\n",
      "Сорян, не полусилось: https://www.ebay.com/itm/265147251740?nordt=true&orig_cvip=true&rt=nc\n",
      "Сорян, не полусилось: https://www.ebay.com/itm/313951843333?nordt=true&orig_cvip=true&rt=nc\n",
      "Сорян, не полусилось: https://www.ebay.com/itm/354436064739?nordt=true&orig_cvip=true&rt=nc\n",
      "Сорян, не полусилось: https://www.ebay.com/itm/362798072287?nordt=true&orig_cvip=true&rt=nc\n",
      "Сорян, не полусилось: https://www.ebay.com/itm/373572183052?nordt=true&orig_cvip=true&rt=nc\n",
      "Сорян, не полусилось: https://www.ebay.com/itm/124761976241?nordt=true&orig_cvip=true&rt=nc\n",
      "Сорян, не полусилось: https://www.ebay.com/itm/144223355154?nordt=true&orig_cvip=true&rt=nc\n",
      "Сорян, не полусилось: https://www.ebay.com/itm/185705049318?nordt=true&orig_cvip=true&rt=nc\n",
      "Сорян, не полусилось: https://www.ebay.com/itm/193344111075?nordt=true&orig_cvip=true&rt=nc\n",
      "Сорян, не полусилось: https://www.ebay.com/itm/194943195188?nordt=true&orig_cvip=true&rt=nc\n",
      "Сорян, не полусилось: https://www.ebay.com/itm/254598151545?nordt=true&orig_cvip=true&rt=nc\n",
      "Сорян, не полусилось: https://www.ebay.com/itm/255147018397?nordt=true&orig_cvip=true&rt=nc\n",
      "Сорян, не полусилось: https://www.ebay.com/itm/255208002475?nordt=true&orig_cvip=true&rt=nc\n",
      "Сорян, не полусилось: https://www.ebay.com/itm/255581179968?nordt=true&orig_cvip=true&rt=nc\n",
      "Сорян, не полусилось: https://www.ebay.com/itm/255683440884?nordt=true&orig_cvip=true&rt=nc\n",
      "Сорян, не полусилось: https://www.ebay.com/itm/255858598163?nordt=true&orig_cvip=true&rt=nc\n",
      "Сорян, не полусилось: https://www.ebay.com/itm/265291872824?nordt=true&orig_cvip=true&rt=nc\n",
      "Сорян, не полусилось: https://www.ebay.com/itm/265920913888?nordt=true&orig_cvip=true&rt=nc\n",
      "Сорян, не полусилось: https://www.ebay.com/itm/275410657821?nordt=true&orig_cvip=true&rt=nc\n",
      "Сорян, не полусилось: https://www.ebay.com/itm/284432906891?nordt=true&orig_cvip=true&rt=nc\n",
      "Сорян, не полусилось: https://www.ebay.com/itm/284524832953?nordt=true&orig_cvip=true&rt=nc\n",
      "Сорян, не полусилось: https://www.ebay.com/itm/304371848685?nordt=true&orig_cvip=true&rt=nc\n",
      "Сорян, не полусилось: https://www.ebay.com/itm/363714480298?nordt=true&orig_cvip=true&rt=nc\n",
      "Сорян, не полусилось: https://www.ebay.com/itm/382250656683?nordt=true&orig_cvip=true&rt=nc\n",
      "Сорян, не полусилось: https://www.ebay.com/itm/403481502377?nordt=true&orig_cvip=true&rt=nc\n",
      "Сорян, не полусилось: https://www.ebay.com/itm/114690031471?nordt=true&orig_cvip=true&rt=nc\n",
      "Сорян, не полусилось: https://www.ebay.com/itm/193865801811?nordt=true&orig_cvip=true&rt=nc\n",
      "Сорян, не полусилось: https://www.ebay.com/itm/224388596696?nordt=true&orig_cvip=true&rt=nc\n",
      "Сорян, не полусилось: https://www.ebay.com/itm/225022644361?nordt=true&orig_cvip=true&rt=nc\n",
      "Сорян, не полусилось: https://www.ebay.com/itm/255112978033?nordt=true&orig_cvip=true&rt=nc\n",
      "Сорян, не полусилось: https://www.ebay.com/itm/265014799715?nordt=true&orig_cvip=true&rt=nc\n",
      "Сорян, не полусилось: https://www.ebay.com/itm/304118375197?nordt=true&orig_cvip=true&rt=nc\n",
      "Сорян, не полусилось: https://www.ebay.com/itm/334629616207?nordt=true&orig_cvip=true&rt=nc\n",
      "Сорян, не полусилось: https://www.ebay.com/itm/364000708622?nordt=true&orig_cvip=true&rt=nc\n",
      "Сорян, не полусилось: https://www.ebay.com/itm/373703695751?nordt=true&orig_cvip=true&rt=nc\n",
      "Сорян, не полусилось: https://www.ebay.com/itm/384714055298?nordt=true&orig_cvip=true&rt=nc\n",
      "Сорян, не полусилось: https://www.ebay.com/itm/384910061556?nordt=true&orig_cvip=true&rt=nc\n",
      "Сорян, не полусилось: https://www.ebay.com/itm/403739976768?nordt=true&orig_cvip=true&rt=nc\n",
      "Сорян, не полусилось: https://www.ebay.com/itm/124987178579?nordt=true&orig_cvip=true&rt=nc\n",
      "Сорян, не полусилось: https://www.ebay.com/itm/144855632650?nordt=true&orig_cvip=true&rt=nc\n",
      "Сорян, не полусилось: https://www.ebay.com/itm/165486677391?nordt=true&orig_cvip=true&rt=nc\n",
      "Сорян, не полусилось: https://www.ebay.com/itm/175602535602?nordt=true&orig_cvip=true&rt=nc\n",
      "Сорян, не полусилось: https://www.ebay.com/itm/185018495872?nordt=true&orig_cvip=true&rt=nc\n",
      "Сорян, не полусилось: https://www.ebay.com/itm/233586936528?nordt=true&orig_cvip=true&rt=nc\n",
      "Сорян, не полусилось: https://www.ebay.com/itm/255473411525?nordt=true&orig_cvip=true&rt=nc\n",
      "Сорян, не полусилось: https://www.ebay.com/itm/304473480152?nordt=true&orig_cvip=true&rt=nc\n",
      "Сорян, не полусилось: https://www.ebay.com/itm/325317983216?nordt=true&orig_cvip=true&rt=nc\n",
      "Сорян, не полусилось: https://www.ebay.com/itm/353536994414?nordt=true&orig_cvip=true&rt=nc\n",
      "Сорян, не полусилось: https://www.ebay.com/itm/362109849088?nordt=true&orig_cvip=true&rt=nc\n"
     ]
    },
    {
     "name": "stderr",
     "output_type": "stream",
     "text": [
      " 99%|█████████▊| 1732/1755 [2:39:21<00:00, 211.75it/s]"
     ]
    },
    {
     "name": "stdout",
     "output_type": "stream",
     "text": [
      "Сорян, не полусилось: https://www.ebay.com/itm/363590174921?nordt=true&orig_cvip=true&rt=nc\n",
      "Сорян, не полусилось: https://www.ebay.com/itm/393332595744?nordt=true&orig_cvip=true&rt=nc\n",
      "Сорян, не полусилось: https://www.ebay.com/itm/401763854259?nordt=true&orig_cvip=true&rt=nc\n",
      "Сорян, не полусилось: https://www.ebay.com/itm/402622410381?nordt=true&orig_cvip=true&rt=nc\n",
      "Сорян, не полусилось: https://www.ebay.com/itm/403589623396?nordt=true&orig_cvip=true&rt=nc\n",
      "Сорян, не полусилось: https://www.ebay.com/itm/124889985422?nordt=true&orig_cvip=true&rt=nc\n",
      "Сорян, не полусилось: https://www.ebay.com/itm/125018556322?nordt=true&orig_cvip=true&rt=nc\n",
      "Сорян, не полусилось: https://www.ebay.com/itm/125121622176?nordt=true&orig_cvip=true&rt=nc\n",
      "Сорян, не полусилось: https://www.ebay.com/itm/143951723451?nordt=true&orig_cvip=true&rt=nc\n",
      "Сорян, не полусилось: https://www.ebay.com/itm/144334024547?nordt=true&orig_cvip=true&rt=nc\n",
      "Сорян, не полусилось: https://www.ebay.com/itm/144650611511?nordt=true&orig_cvip=true&rt=nc\n",
      "Сорян, не полусилось: https://www.ebay.com/itm/144810703512?nordt=true&orig_cvip=true&rt=nc\n",
      "Сорян, не полусилось: https://www.ebay.com/itm/165511080301?nordt=true&orig_cvip=true&rt=nc\n",
      "Сорян, не полусилось: https://www.ebay.com/itm/165619386285?nordt=true&orig_cvip=true&rt=nc\n",
      "Сорян, не полусилось: https://www.ebay.com/itm/174911430802?nordt=true&orig_cvip=true&rt=nc\n",
      "Сорян, не полусилось: https://www.ebay.com/itm/175380625635?nordt=true&orig_cvip=true&rt=nc\n",
      "Сорян, не полусилось: https://www.ebay.com/itm/185286006403?nordt=true&orig_cvip=true&rt=nc\n",
      "Сорян, не полусилось: https://www.ebay.com/itm/224644924730?nordt=true&orig_cvip=true&rt=nc\n",
      "Сорян, не полусилось: https://www.ebay.com/itm/233106720881?nordt=true&orig_cvip=true&rt=nc\n",
      "Сорян, не полусилось: https://www.ebay.com/itm/233585707339?nordt=true&orig_cvip=true&rt=nc\n",
      "Сорян, не полусилось: https://www.ebay.com/itm/234380621307?nordt=true&orig_cvip=true&rt=nc\n",
      "Сорян, не полусилось: https://www.ebay.com/itm/255668588084?nordt=true&orig_cvip=true&rt=nc\n",
      "Сорян, не полусилось: https://www.ebay.com/itm/265770080428?nordt=true&orig_cvip=true&rt=nc\n",
      "Сорян, не полусилось: https://www.ebay.com/itm/285069051292?nordt=true&orig_cvip=true&rt=nc\n",
      "Сорян, не полусилось: https://www.ebay.com/itm/353446101945?nordt=true&orig_cvip=true&rt=nc\n",
      "Сорян, не полусилось: https://www.ebay.com/itm/362905427255?nordt=true&orig_cvip=true&rt=nc\n",
      "Сорян, не полусилось: https://www.ebay.com/itm/363677103135?nordt=true&orig_cvip=true&rt=nc\n",
      "Сорян, не полусилось: https://www.ebay.com/itm/363677104397?nordt=true&orig_cvip=true&rt=nc\n",
      "Сорян, не полусилось: https://www.ebay.com/itm/382247905717?nordt=true&orig_cvip=true&rt=nc\n",
      "Сорян, не полусилось: https://www.ebay.com/itm/383938536651?nordt=true&orig_cvip=true&rt=nc\n",
      "Сорян, не полусилось: https://www.ebay.com/itm/393637601558?nordt=true&orig_cvip=true&rt=nc\n",
      "Сорян, не полусилось: https://www.ebay.com/itm/403014746383?nordt=true&orig_cvip=true&rt=nc\n",
      "Сорян, не полусилось: https://www.ebay.com/itm/403599707387?nordt=true&orig_cvip=true&rt=nc\n",
      "Сорян, не полусилось: https://www.ebay.com/itm/114704337700?nordt=true&orig_cvip=true&rt=nc\n",
      "Сорян, не полусилось: https://www.ebay.com/itm/114939034889?nordt=true&orig_cvip=true&rt=nc\n",
      "Сорян, не полусилось: https://www.ebay.com/itm/133662696578?nordt=true&orig_cvip=true&rt=nc\n",
      "Сорян, не полусилось: https://www.ebay.com/itm/133693914838?nordt=true&orig_cvip=true&rt=nc\n",
      "Сорян, не полусилось: https://www.ebay.com/itm/155022667361?nordt=true&orig_cvip=true&rt=nc\n",
      "Сорян, не полусилось: https://www.ebay.com/itm/175095093961?nordt=true&orig_cvip=true&rt=nc\n",
      "Сорян, не полусилось: https://www.ebay.com/itm/175501092957?nordt=true&orig_cvip=true&rt=nc\n",
      "Сорян, не полусилось: https://www.ebay.com/itm/185165339537?nordt=true&orig_cvip=true&rt=nc\n",
      "Сорян, не полусилось: https://www.ebay.com/itm/185325542650?nordt=true&orig_cvip=true&rt=nc\n",
      "Сорян, не полусилось: https://www.ebay.com/itm/195226289941?nordt=true&orig_cvip=true&rt=nc\n",
      "Сорян, не полусилось: https://www.ebay.com/itm/195325130186?nordt=true&orig_cvip=true&rt=nc\n",
      "Сорян, не полусилось: https://www.ebay.com/itm/195580920427?nordt=true&orig_cvip=true&rt=nc\n",
      "Сорян, не полусилось: https://www.ebay.com/itm/204187226911?nordt=true&orig_cvip=true&rt=nc\n",
      "Сорян, не полусилось: https://www.ebay.com/itm/225221356914?nordt=true&orig_cvip=true&rt=nc\n",
      "Сорян, не полусилось: https://www.ebay.com/itm/255200540387?nordt=true&orig_cvip=true&rt=nc\n",
      "Сорян, не полусилось: https://www.ebay.com/itm/255610756543?nordt=true&orig_cvip=true&rt=nc\n",
      "Сорян, не полусилось: https://www.ebay.com/itm/265158004350?nordt=true&orig_cvip=true&rt=nc\n",
      "Сорян, не полусилось: https://www.ebay.com/itm/284846014250?nordt=true&orig_cvip=true&rt=nc\n",
      "Сорян, не полусилось: https://www.ebay.com/itm/284984369579?nordt=true&orig_cvip=true&rt=nc\n",
      "Сорян, не полусилось: https://www.ebay.com/itm/285013881203?nordt=true&orig_cvip=true&rt=nc\n",
      "Сорян, не полусилось: https://www.ebay.com/itm/284984369579?nordt=true&orig_cvip=true&rt=nc\n",
      "Сорян, не полусилось: https://www.ebay.com/itm/285013881203?nordt=true&orig_cvip=true&rt=nc\n",
      "Сорян, не полусилось: https://www.ebay.com/itm/314155195998?nordt=true&orig_cvip=true&rt=nc\n",
      "Сорян, не полусилось: https://www.ebay.com/itm/314214120610?nordt=true&orig_cvip=true&rt=nc\n",
      "Сорян, не полусилось: https://www.ebay.com/itm/353912093497?nordt=true&orig_cvip=true&rt=nc\n",
      "Сорян, не полусилось: https://www.ebay.com/itm/364106336636?nordt=true&orig_cvip=true&rt=nc\n",
      "Сорян, не полусилось: https://www.ebay.com/itm/384677268931?nordt=true&orig_cvip=true&rt=nc\n",
      "Сорян, не полусилось: https://www.ebay.com/itm/403921470945?nordt=true&orig_cvip=true&rt=nc\n",
      "Сорян, не полусилось: https://www.ebay.com/itm/403999379317?nordt=true&orig_cvip=true&rt=nc\n",
      "Сорян, не полусилось: https://www.ebay.com/itm/114769575489?nordt=true&orig_cvip=true&rt=nc\n",
      "Сорян, не полусилось: https://www.ebay.com/itm/125054156566?nordt=true&orig_cvip=true&rt=nc\n",
      "Сорян, не полусилось: https://www.ebay.com/itm/125416976116?nordt=true&orig_cvip=true&rt=nc\n",
      "Сорян, не полусилось: https://www.ebay.com/itm/164003499741?nordt=true&orig_cvip=true&rt=nc\n",
      "Сорян, не полусилось: https://www.ebay.com/itm/185551392301?nordt=true&orig_cvip=true&rt=nc\n",
      "Сорян, не полусилось: https://www.ebay.com/itm/193399346764?nordt=true&orig_cvip=true&rt=nc\n",
      "Сорян, не полусилось: https://www.ebay.com/itm/203512773213?nordt=true&orig_cvip=true&rt=nc\n"
     ]
    },
    {
     "name": "stderr",
     "output_type": "stream",
     "text": [
      "100%|██████████| 1755/1755 [2:39:21<00:00,  5.45s/it] \n"
     ]
    },
    {
     "name": "stdout",
     "output_type": "stream",
     "text": [
      "Сорян, не полусилось: https://www.ebay.com/itm/224398959240?nordt=true&orig_cvip=true&rt=nc\n",
      "Сорян, не полусилось: https://www.ebay.com/itm/255581011033?nordt=true&orig_cvip=true&rt=nc\n",
      "Сорян, не полусилось: https://www.ebay.com/itm/265600401017?nordt=true&orig_cvip=true&rt=nc\n",
      "Сорян, не полусилось: https://www.ebay.com/itm/284104102999?nordt=true&orig_cvip=true&rt=nc\n",
      "Сорян, не полусилось: https://www.ebay.com/itm/284800928063?nordt=true&orig_cvip=true&rt=nc\n",
      "Сорян, не полусилось: https://www.ebay.com/itm/313987410998?nordt=true&orig_cvip=true&rt=nc\n",
      "Сорян, не полусилось: https://www.ebay.com/itm/324700579327?nordt=true&orig_cvip=true&rt=nc\n",
      "Сорян, не полусилось: https://www.ebay.com/itm/325275689582?nordt=true&orig_cvip=true&rt=nc\n",
      "Сорян, не полусилось: https://www.ebay.com/itm/401985990556?nordt=true&orig_cvip=true&rt=nc\n",
      "Сорян, не полусилось: https://www.ebay.com/itm/402750536683?nordt=true&orig_cvip=true&rt=nc\n",
      "Сорян, не полусилось: https://www.ebay.com/itm/403793359382?nordt=true&orig_cvip=true&rt=nc\n"
     ]
    }
   ],
   "source": [
    "unavaible = []\n",
    "for cur_link in tqdm(Links):\n",
    "        if cur_link!= None:\n",
    "            try:\n",
    "                driver.get(cur_link)\n",
    "                driver.execute_script(\"window.scrollTo(0, document.body.scrollHeight);\")\n",
    "                time.sleep(randint(1, 5))\n",
    "                html = driver.page_source\n",
    "                soup2 = BeautifulSoup(html, 'html.parser')\n",
    "                title_tag = soup2.find('h1', {'class': 'x-item-title__mainTitle'})\n",
    "                title_text = title_tag.text.strip()\n",
    "                parent_element = driver.find_element(By.CLASS_NAME, 'ux-layout-section--features')\n",
    "                characteristics = parent_element.text.split(\"\\n\")\n",
    "                characteristics_data = {\"Title\": title_text}\n",
    "                for i in range(len(characteristics)):\n",
    "                    if i%2==0:\n",
    "                        name = characteristics[i]\n",
    "                    else:\n",
    "                        value = characteristics[i]\n",
    "                        characteristics_data[name] = value\n",
    "\n",
    "                characteristics_df = characteristics_df.append(characteristics_data, ignore_index=True)\n",
    "            except:\n",
    "                print(\"Сорян, не полусилось:\", cur_link)\n",
    "                unavaible.append(cur_link)\n",
    "        pass\n",
    "\n",
    "characteristics_df.to_csv(\"characteristics_df\")"
   ],
   "metadata": {
    "collapsed": false,
    "pycharm": {
     "name": "#%%\n"
    }
   }
  },
  {
   "cell_type": "code",
   "execution_count": 74,
   "outputs": [
    {
     "data": {
      "text/plain": "                                                  Title  \\\n0     Apple iPhone 11 64GB Factory Unlocked 4G LTE S...   \n1     Apple iPhone XR 64 ГБ заводской разблокированн...   \n2     Apple iPhone 11 64 ГБ разблокированный смартфо...   \n3     Apple iPhone X 64 ГБ заводской разблокированны...   \n4     Apple iPhone X 256 ГБ разблокированный смартфо...   \n...                                                 ...   \n1085  Apple iPhone 8 GSM, разблокированный, 64 ГБ, 1...   \n1086  🌟 🌟 совершенно новый Samsung Galaxy S9+ Plus -...   \n1087  Смартфон AGM H3 4G тонкий прочный 5,7 дюйма но...   \n1088  Apple iPhone 8 64 ГБ серебро Verizon T-Mobile ...   \n1089  Apple iPhone SE 2nd Gen 64 ГБ разблокированный...   \n\n                            Состояние товара  Brand  \\\n0     Очень хорошее состояние - восстановлен  Apple   \n1     Очень хорошее состояние - восстановлен  Apple   \n2     Очень хорошее состояние - восстановлен  Apple   \n3     Очень хорошее состояние - восстановлен  Apple   \n4     Очень хорошее состояние - восстановлен  Apple   \n...                                      ...    ...   \n1085        Хорошее состояние - восстановлен  Apple   \n1086                                     NaN    NaN   \n1087                                     NaN    NaN   \n1088        Хорошее состояние - восстановлен  Apple   \n1089        Хорошее состояние - восстановлен  Apple   \n\n                                 Model Storage Capacity           Network  \\\n0                            iPhone 11             64GB  Factory Unlocked   \n1                            iPhone XR             64GB  Factory Unlocked   \n2                      Apple iPhone 11            64 GB          Unlocked   \n3                       Apple iPhone X             64GB  Factory Unlocked   \n4                       Apple iPhone X            256GB  Factory Unlocked   \n...                                ...              ...               ...   \n1085                    Apple iPhone 8              NaN    AT&T, T-Mobile   \n1086                               NaN              NaN               NaN   \n1087                               NaN              NaN               NaN   \n1088                    Apple iPhone 8            64 GB          Unlocked   \n1089  Apple iPhone SE (2nd Generation)            64 GB          Unlocked   \n\n              Camera Resolution Screen Size       Lock Status   RAM  ...  \\\n0                          12MP        6.1\"  Network Unlocked   4GB  ...   \n1                          12MP        6.1\"  Network Unlocked   3GB  ...   \n2                       12.0 MP      6.1 in  Factory Unlocked  4 GB  ...   \n3                       12.0 MP      5.8 in  Factory Unlocked  3 GB  ...   \n4                       12.0 MP      5.8 in  Factory Unlocked  3 GB  ...   \n...                         ...         ...               ...   ...  ...   \n1085  1334 x 750 pixels(12.0MP)      4.7 in  Network Unlocked  2 GB  ...   \n1086                        NaN         NaN               NaN   NaN  ...   \n1087                        NaN         NaN               NaN   NaN  ...   \n1088                    12.0 MP      4.7 in  Network Unlocked  2 GB  ...   \n1089                    12.0 MP         4.7  Factory Unlocked  3 GB  ...   \n\n     ANT+, Bluetooth Enabled, Dust-Resistant, Facial Recognition, Camera, Front Camera, GPS, FM Radio, Nano SIM, Push to Talk, Touch Screen, Global Ready, Night Mode, NFC Connectivity, Rear Camera, Rugged, Sim Free, Speakerphone, Water-Resistant, Wi-Fi Capable  \\\n0                                                   NaN                                                                                                                                                                                                                \n1                                                   NaN                                                                                                                                                                                                                \n2                                                   NaN                                                                                                                                                                                                                \n3                                                   NaN                                                                                                                                                                                                                \n4                                                   NaN                                                                                                                                                                                                                \n...                                                 ...                                                                                                                                                                                                                \n1085                                                NaN                                                                                                                                                                                                                \n1086                                                NaN                                                                                                                                                                                                                \n1087                                        Lock Status                                                                                                                                                                                                                \n1088                                                NaN                                                                                                                                                                                                                \n1089                                                NaN                                                                                                                                                                                                                \n\n     4G(LTE) 3G(WCDMA) and 2G(GSM) IP68/IP69k/MIL-STD-810H,CE/FCC/Reach/ROHS  \\\n0                              NaN                                       NaN   \n1                              NaN                                       NaN   \n2                              NaN                                       NaN   \n3                              NaN                                       NaN   \n4                              NaN                                       NaN   \n...                            ...                                       ...   \n1085                           NaN                                       NaN   \n1086                           NaN                                       NaN   \n1087                 Certification                                    Weight   \n1088                           NaN                                       NaN   \n1089                           NaN                                       NaN   \n\n         248g        5400mAh               8M FF  \\\n0         NaN            NaN                 NaN   \n1         NaN            NaN                 NaN   \n2         NaN            NaN                 NaN   \n3         NaN            NaN                 NaN   \n4         NaN            NaN                 NaN   \n...       ...            ...                 ...   \n1085      NaN            NaN                 NaN   \n1086      NaN            NaN                 NaN   \n1087  Battery  Chipset Model  Back Camera(Pixel)   \n1088      NaN            NaN                 NaN   \n1089      NaN            NaN                 NaN   \n\n     12M AF + 2M Macro Camera with flash light Bluetooth 5.0   Support  \\\n0                                          NaN           NaN       NaN   \n1                                          NaN           NaN       NaN   \n2                                          NaN           NaN       NaN   \n3                                          NaN           NaN       NaN   \n4                                          NaN           NaN       NaN   \n...                                        ...           ...       ...   \n1085                                       NaN           NaN       NaN   \n1086                                       NaN           NaN       NaN   \n1087                                 Processor           NFC  Contract   \n1088                                       NaN           NaN       NaN   \n1089                                       NaN           NaN       NaN   \n\n     2.0W Waterproof speaker (Front placed)  \n0                                       NaN  \n1                                       NaN  \n2                                       NaN  \n3                                       NaN  \n4                                       NaN  \n...                                     ...  \n1085                                    NaN  \n1086                                    NaN  \n1087                    Acceleration Sensor  \n1088                                    NaN  \n1089                                    NaN  \n\n[1090 rows x 1098 columns]",
      "text/html": "<div>\n<style scoped>\n    .dataframe tbody tr th:only-of-type {\n        vertical-align: middle;\n    }\n\n    .dataframe tbody tr th {\n        vertical-align: top;\n    }\n\n    .dataframe thead th {\n        text-align: right;\n    }\n</style>\n<table border=\"1\" class=\"dataframe\">\n  <thead>\n    <tr style=\"text-align: right;\">\n      <th></th>\n      <th>Title</th>\n      <th>Состояние товара</th>\n      <th>Brand</th>\n      <th>Model</th>\n      <th>Storage Capacity</th>\n      <th>Network</th>\n      <th>Camera Resolution</th>\n      <th>Screen Size</th>\n      <th>Lock Status</th>\n      <th>RAM</th>\n      <th>...</th>\n      <th>ANT+, Bluetooth Enabled, Dust-Resistant, Facial Recognition, Camera, Front Camera, GPS, FM Radio, Nano SIM, Push to Talk, Touch Screen, Global Ready, Night Mode, NFC Connectivity, Rear Camera, Rugged, Sim Free, Speakerphone, Water-Resistant, Wi-Fi Capable</th>\n      <th>4G(LTE) 3G(WCDMA) and 2G(GSM)</th>\n      <th>IP68/IP69k/MIL-STD-810H,CE/FCC/Reach/ROHS</th>\n      <th>248g</th>\n      <th>5400mAh</th>\n      <th>8M FF</th>\n      <th>12M AF + 2M Macro Camera with flash light</th>\n      <th>Bluetooth 5.0</th>\n      <th>Support</th>\n      <th>2.0W Waterproof speaker (Front placed)</th>\n    </tr>\n  </thead>\n  <tbody>\n    <tr>\n      <th>0</th>\n      <td>Apple iPhone 11 64GB Factory Unlocked 4G LTE S...</td>\n      <td>Очень хорошее состояние - восстановлен</td>\n      <td>Apple</td>\n      <td>iPhone 11</td>\n      <td>64GB</td>\n      <td>Factory Unlocked</td>\n      <td>12MP</td>\n      <td>6.1\"</td>\n      <td>Network Unlocked</td>\n      <td>4GB</td>\n      <td>...</td>\n      <td>NaN</td>\n      <td>NaN</td>\n      <td>NaN</td>\n      <td>NaN</td>\n      <td>NaN</td>\n      <td>NaN</td>\n      <td>NaN</td>\n      <td>NaN</td>\n      <td>NaN</td>\n      <td>NaN</td>\n    </tr>\n    <tr>\n      <th>1</th>\n      <td>Apple iPhone XR 64 ГБ заводской разблокированн...</td>\n      <td>Очень хорошее состояние - восстановлен</td>\n      <td>Apple</td>\n      <td>iPhone XR</td>\n      <td>64GB</td>\n      <td>Factory Unlocked</td>\n      <td>12MP</td>\n      <td>6.1\"</td>\n      <td>Network Unlocked</td>\n      <td>3GB</td>\n      <td>...</td>\n      <td>NaN</td>\n      <td>NaN</td>\n      <td>NaN</td>\n      <td>NaN</td>\n      <td>NaN</td>\n      <td>NaN</td>\n      <td>NaN</td>\n      <td>NaN</td>\n      <td>NaN</td>\n      <td>NaN</td>\n    </tr>\n    <tr>\n      <th>2</th>\n      <td>Apple iPhone 11 64 ГБ разблокированный смартфо...</td>\n      <td>Очень хорошее состояние - восстановлен</td>\n      <td>Apple</td>\n      <td>Apple iPhone 11</td>\n      <td>64 GB</td>\n      <td>Unlocked</td>\n      <td>12.0 MP</td>\n      <td>6.1 in</td>\n      <td>Factory Unlocked</td>\n      <td>4 GB</td>\n      <td>...</td>\n      <td>NaN</td>\n      <td>NaN</td>\n      <td>NaN</td>\n      <td>NaN</td>\n      <td>NaN</td>\n      <td>NaN</td>\n      <td>NaN</td>\n      <td>NaN</td>\n      <td>NaN</td>\n      <td>NaN</td>\n    </tr>\n    <tr>\n      <th>3</th>\n      <td>Apple iPhone X 64 ГБ заводской разблокированны...</td>\n      <td>Очень хорошее состояние - восстановлен</td>\n      <td>Apple</td>\n      <td>Apple iPhone X</td>\n      <td>64GB</td>\n      <td>Factory Unlocked</td>\n      <td>12.0 MP</td>\n      <td>5.8 in</td>\n      <td>Factory Unlocked</td>\n      <td>3 GB</td>\n      <td>...</td>\n      <td>NaN</td>\n      <td>NaN</td>\n      <td>NaN</td>\n      <td>NaN</td>\n      <td>NaN</td>\n      <td>NaN</td>\n      <td>NaN</td>\n      <td>NaN</td>\n      <td>NaN</td>\n      <td>NaN</td>\n    </tr>\n    <tr>\n      <th>4</th>\n      <td>Apple iPhone X 256 ГБ разблокированный смартфо...</td>\n      <td>Очень хорошее состояние - восстановлен</td>\n      <td>Apple</td>\n      <td>Apple iPhone X</td>\n      <td>256GB</td>\n      <td>Factory Unlocked</td>\n      <td>12.0 MP</td>\n      <td>5.8 in</td>\n      <td>Factory Unlocked</td>\n      <td>3 GB</td>\n      <td>...</td>\n      <td>NaN</td>\n      <td>NaN</td>\n      <td>NaN</td>\n      <td>NaN</td>\n      <td>NaN</td>\n      <td>NaN</td>\n      <td>NaN</td>\n      <td>NaN</td>\n      <td>NaN</td>\n      <td>NaN</td>\n    </tr>\n    <tr>\n      <th>...</th>\n      <td>...</td>\n      <td>...</td>\n      <td>...</td>\n      <td>...</td>\n      <td>...</td>\n      <td>...</td>\n      <td>...</td>\n      <td>...</td>\n      <td>...</td>\n      <td>...</td>\n      <td>...</td>\n      <td>...</td>\n      <td>...</td>\n      <td>...</td>\n      <td>...</td>\n      <td>...</td>\n      <td>...</td>\n      <td>...</td>\n      <td>...</td>\n      <td>...</td>\n      <td>...</td>\n    </tr>\n    <tr>\n      <th>1085</th>\n      <td>Apple iPhone 8 GSM, разблокированный, 64 ГБ, 1...</td>\n      <td>Хорошее состояние - восстановлен</td>\n      <td>Apple</td>\n      <td>Apple iPhone 8</td>\n      <td>NaN</td>\n      <td>AT&amp;T, T-Mobile</td>\n      <td>1334 x 750 pixels(12.0MP)</td>\n      <td>4.7 in</td>\n      <td>Network Unlocked</td>\n      <td>2 GB</td>\n      <td>...</td>\n      <td>NaN</td>\n      <td>NaN</td>\n      <td>NaN</td>\n      <td>NaN</td>\n      <td>NaN</td>\n      <td>NaN</td>\n      <td>NaN</td>\n      <td>NaN</td>\n      <td>NaN</td>\n      <td>NaN</td>\n    </tr>\n    <tr>\n      <th>1086</th>\n      <td>🌟 🌟 совершенно новый Samsung Galaxy S9+ Plus -...</td>\n      <td>NaN</td>\n      <td>NaN</td>\n      <td>NaN</td>\n      <td>NaN</td>\n      <td>NaN</td>\n      <td>NaN</td>\n      <td>NaN</td>\n      <td>NaN</td>\n      <td>NaN</td>\n      <td>...</td>\n      <td>NaN</td>\n      <td>NaN</td>\n      <td>NaN</td>\n      <td>NaN</td>\n      <td>NaN</td>\n      <td>NaN</td>\n      <td>NaN</td>\n      <td>NaN</td>\n      <td>NaN</td>\n      <td>NaN</td>\n    </tr>\n    <tr>\n      <th>1087</th>\n      <td>Смартфон AGM H3 4G тонкий прочный 5,7 дюйма но...</td>\n      <td>NaN</td>\n      <td>NaN</td>\n      <td>NaN</td>\n      <td>NaN</td>\n      <td>NaN</td>\n      <td>NaN</td>\n      <td>NaN</td>\n      <td>NaN</td>\n      <td>NaN</td>\n      <td>...</td>\n      <td>Lock Status</td>\n      <td>Certification</td>\n      <td>Weight</td>\n      <td>Battery</td>\n      <td>Chipset Model</td>\n      <td>Back Camera(Pixel)</td>\n      <td>Processor</td>\n      <td>NFC</td>\n      <td>Contract</td>\n      <td>Acceleration Sensor</td>\n    </tr>\n    <tr>\n      <th>1088</th>\n      <td>Apple iPhone 8 64 ГБ серебро Verizon T-Mobile ...</td>\n      <td>Хорошее состояние - восстановлен</td>\n      <td>Apple</td>\n      <td>Apple iPhone 8</td>\n      <td>64 GB</td>\n      <td>Unlocked</td>\n      <td>12.0 MP</td>\n      <td>4.7 in</td>\n      <td>Network Unlocked</td>\n      <td>2 GB</td>\n      <td>...</td>\n      <td>NaN</td>\n      <td>NaN</td>\n      <td>NaN</td>\n      <td>NaN</td>\n      <td>NaN</td>\n      <td>NaN</td>\n      <td>NaN</td>\n      <td>NaN</td>\n      <td>NaN</td>\n      <td>NaN</td>\n    </tr>\n    <tr>\n      <th>1089</th>\n      <td>Apple iPhone SE 2nd Gen 64 ГБ разблокированный...</td>\n      <td>Хорошее состояние - восстановлен</td>\n      <td>Apple</td>\n      <td>Apple iPhone SE (2nd Generation)</td>\n      <td>64 GB</td>\n      <td>Unlocked</td>\n      <td>12.0 MP</td>\n      <td>4.7</td>\n      <td>Factory Unlocked</td>\n      <td>3 GB</td>\n      <td>...</td>\n      <td>NaN</td>\n      <td>NaN</td>\n      <td>NaN</td>\n      <td>NaN</td>\n      <td>NaN</td>\n      <td>NaN</td>\n      <td>NaN</td>\n      <td>NaN</td>\n      <td>NaN</td>\n      <td>NaN</td>\n    </tr>\n  </tbody>\n</table>\n<p>1090 rows × 1098 columns</p>\n</div>"
     },
     "execution_count": 74,
     "metadata": {},
     "output_type": "execute_result"
    }
   ],
   "source": [
    "characteristics_df"
   ],
   "metadata": {
    "collapsed": false,
    "pycharm": {
     "name": "#%%\n"
    }
   }
  },
  {
   "cell_type": "code",
   "execution_count": 75,
   "outputs": [],
   "source": [
    "characteristics_df.to_csv(\"characteristics_df.csv\")"
   ],
   "metadata": {
    "collapsed": false,
    "pycharm": {
     "name": "#%%\n"
    }
   }
  },
  {
   "cell_type": "code",
   "execution_count": null,
   "outputs": [],
   "source": [],
   "metadata": {
    "collapsed": false,
    "pycharm": {
     "name": "#%%\n"
    }
   }
  }
 ],
 "metadata": {
  "kernelspec": {
   "display_name": "Python 3",
   "language": "python",
   "name": "python3"
  },
  "language_info": {
   "codemirror_mode": {
    "name": "ipython",
    "version": 2
   },
   "file_extension": ".py",
   "mimetype": "text/x-python",
   "name": "python",
   "nbconvert_exporter": "python",
   "pygments_lexer": "ipython2",
   "version": "2.7.6"
  }
 },
 "nbformat": 4,
 "nbformat_minor": 0
}