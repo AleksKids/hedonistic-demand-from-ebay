{
 "cells": [
  {
   "cell_type": "markdown",
   "source": [
    "# Это тетрадка с Кринж-парсером\n",
    "\n",
    "Цель тетради: запарсить данные с сайта ebay по характеристикам товаров.\n",
    "В резульате должны получиться 2 дадафрейма:\n",
    "* Names содержит названия товаров, а также статистику продаж (цены, общее количество продаж, общая стоимость продаж, ссылки на подробные характеристики.\n",
    "* Characteristics содержит данные о характеристиках товаров (Их много, не перечесть)"
   ],
   "metadata": {
    "collapsed": false
   }
  },
  {
   "cell_type": "markdown",
   "source": [
    "Импортируем библиотеки."
   ],
   "metadata": {
    "collapsed": false
   }
  },
  {
   "cell_type": "code",
   "execution_count": 1,
   "outputs": [],
   "source": [
    "import pandas as pd\n",
    "import numpy as np\n",
    "import requests\n",
    "from bs4 import BeautifulSoup\n",
    "from random import randint\n",
    "from selenium import webdriver\n",
    "from selenium.webdriver.chrome.options import Options\n",
    "from selenium.webdriver.support.ui import WebDriverWait\n",
    "from selenium.webdriver.common.by import By\n",
    "import time\n",
    "from tqdm import tqdm\n",
    "import warnings\n",
    "warnings.filterwarnings('ignore', message='The frame.append method is deprecated and will be removed from pandas in a future version.')"
   ],
   "metadata": {
    "collapsed": false,
    "pycharm": {
     "name": "#%%\n"
    }
   }
  },
  {
   "cell_type": "markdown",
   "source": [
    "___"
   ],
   "metadata": {
    "collapsed": false
   }
  },
  {
   "cell_type": "markdown",
   "source": [
    "# Парсим первый датафрейм - Names"
   ],
   "metadata": {
    "collapsed": false
   }
  },
  {
   "cell_type": "code",
   "execution_count": 18,
   "outputs": [
    {
     "name": "stderr",
     "output_type": "stream",
     "text": [
      "C:\\Users\\druny\\AppData\\Local\\Temp\\ipykernel_1240\\60259596.py:3: DeprecationWarning: headless property is deprecated, instead use add_argument('--headless') or add_argument('--headless=new')\n",
      "  options.headless = True  # hide GUI\n",
      "C:\\Users\\druny\\AppData\\Local\\Temp\\ipykernel_1240\\60259596.py:9: DeprecationWarning: use options instead of chrome_options\n",
      "  driver = webdriver.Chrome(options=options, chrome_options=chrome_options)\n"
     ]
    }
   ],
   "source": [
    "# настраиваем драйвер\n",
    "options = Options()\n",
    "options.headless = True  # hide GUI\n",
    "options.add_argument(\"--window-size=1920,1080\")  # set window size to native GUI size\n",
    "options.add_argument(\"start-maximized\")  # ensure window is full-screen\n",
    "\n",
    "# Настраиваем браузер, чтобы он не грузил Java и картинки\n",
    "chrome_options = webdriver.ChromeOptions()\n",
    "driver = webdriver.Chrome(options=options, chrome_options=chrome_options)\n",
    "\n",
    "# Делаем запрос\n",
    "driver.get(\"https://www.ebay.com/sh/research?marketplace=EBAY-US&keywords=Smartphones&dayRange=730&endDate=1684051559220&startDate=1620979559220&categoryId=9355&offset=0&limit=50&tabName=SOLD&tz=Europe%2FMoscow\")\n",
    "\n",
    "#Атдыхаем, ждём загрузку\n",
    "time.sleep(5)"
   ],
   "metadata": {
    "collapsed": false,
    "pycharm": {
     "name": "#%%\n"
    }
   }
  },
  {
   "cell_type": "markdown",
   "source": [
    "Тут мы ручками авторизируемся и заходим"
   ],
   "metadata": {
    "collapsed": false
   }
  },
  {
   "cell_type": "markdown",
   "source": [
    "Парсим названия и числовые характеристики (Цены, продажи)"
   ],
   "metadata": {
    "collapsed": false
   }
  },
  {
   "cell_type": "code",
   "execution_count": 15,
   "outputs": [],
   "source": [
    "df = pd.DataFrame()"
   ],
   "metadata": {
    "collapsed": false,
    "pycharm": {
     "name": "#%%\n"
    }
   }
  },
  {
   "cell_type": "code",
   "execution_count": 27,
   "outputs": [],
   "source": [
    "def table_parser(soup: BeautifulSoup):\n",
    "    for product in soup.find_all('tr', class_='research-table-row'):\n",
    "        title = product.find('span', attrs={'data-item-id': True}).text\n",
    "        price = product.find('td', class_='research-table-row__item research-table-row__avgSoldPrice').div.find_all('div')[0].text.strip()\n",
    "        shipping = product.find('td', class_='research-table-row__item research-table-row__avgShippingCost').div.find_all('div')[0].text.strip()\n",
    "        sales_count = product.find('td', class_='research-table-row__item research-table-row__totalSoldCount').div.find_all('div')[0].text.strip()\n",
    "        sales_value = product.find('td', class_='research-table-row__item research-table-row__totalSalesValue').div.find_all('div')[0].text.strip()\n",
    "        try:\n",
    "            link = product.find('a', class_='research-table-row__link-row-anchor', attrs={'href': True})['href']\n",
    "        except:\n",
    "            link = None\n",
    "\n",
    "        data = {\"Title\": title, \"Price\": price, \"Shipping_cost\": shipping, \"Sales_Count\": sales_count, \"Sales_Value\": sales_value, \"Link\": link}\n",
    "\n",
    "        global df\n",
    "        df = df.append(data, ignore_index=True)"
   ],
   "metadata": {
    "collapsed": false,
    "pycharm": {
     "name": "#%%\n"
    }
   }
  },
  {
   "cell_type": "code",
   "execution_count": 28,
   "outputs": [
    {
     "name": "stderr",
     "output_type": "stream",
     "text": [
      " 55%|█████▌    | 55/100 [10:21<08:28, 11.30s/it]\n"
     ]
    },
    {
     "ename": "WebDriverException",
     "evalue": "Message: disconnected: Unable to receive message from renderer\n  (failed to check if window was closed: disconnected: not connected to DevTools)\n  (Session info: chrome=113.0.5672.93)\nStacktrace:\nBacktrace:\n\tGetHandleVerifier [0x00988893+48451]\n\t(No symbol) [0x0091B8A1]\n\t(No symbol) [0x00825058]\n\t(No symbol) [0x00818205]\n\t(No symbol) [0x0081810C]\n\t(No symbol) [0x00816D46]\n\t(No symbol) [0x008175CA]\n\t(No symbol) [0x0082E8A9]\n\t(No symbol) [0x008291EA]\n\t(No symbol) [0x00828FC7]\n\t(No symbol) [0x0087DD16]\n\t(No symbol) [0x0086A2BC]\n\t(No symbol) [0x0087C482]\n\t(No symbol) [0x0086A0B6]\n\t(No symbol) [0x00847E08]\n\t(No symbol) [0x00848F2D]\n\tGetHandleVerifier [0x00BE8E3A+2540266]\n\tGetHandleVerifier [0x00C28959+2801161]\n\tGetHandleVerifier [0x00C2295C+2776588]\n\tGetHandleVerifier [0x00A12280+612144]\n\t(No symbol) [0x00924F6C]\n\t(No symbol) [0x009211D8]\n\t(No symbol) [0x009212BB]\n\t(No symbol) [0x00914857]\n\tBaseThreadInitThunk [0x76F47D59+25]\n\tRtlInitializeExceptionChain [0x77A1B74B+107]\n\tRtlClearBits [0x77A1B6CF+191]\n",
     "output_type": "error",
     "traceback": [
      "\u001B[1;31m---------------------------------------------------------------------------\u001B[0m",
      "\u001B[1;31mWebDriverException\u001B[0m                        Traceback (most recent call last)",
      "Cell \u001B[1;32mIn [28], line 3\u001B[0m\n\u001B[0;32m      1\u001B[0m \u001B[38;5;28;01mfor\u001B[39;00m _ \u001B[38;5;129;01min\u001B[39;00m tqdm(\u001B[38;5;28mrange\u001B[39m(\u001B[38;5;241m100\u001B[39m)):\n\u001B[0;32m      2\u001B[0m     driver\u001B[38;5;241m.\u001B[39mexecute_script(\u001B[38;5;124m\"\u001B[39m\u001B[38;5;124mwindow.scrollTo(0, document.body.scrollHeight);\u001B[39m\u001B[38;5;124m\"\u001B[39m)\n\u001B[1;32m----> 3\u001B[0m     html \u001B[38;5;241m=\u001B[39m \u001B[43mdriver\u001B[49m\u001B[38;5;241;43m.\u001B[39;49m\u001B[43mpage_source\u001B[49m\n\u001B[0;32m      4\u001B[0m     soup \u001B[38;5;241m=\u001B[39m BeautifulSoup(html, \u001B[38;5;124m'\u001B[39m\u001B[38;5;124mhtml.parser\u001B[39m\u001B[38;5;124m'\u001B[39m)\n\u001B[0;32m      5\u001B[0m     table_parser(soup)\n",
      "File \u001B[1;32m~\\AppData\\Local\\Programs\\Python\\Python311\\Lib\\site-packages\\selenium\\webdriver\\remote\\webdriver.py:541\u001B[0m, in \u001B[0;36mWebDriver.page_source\u001B[1;34m(self)\u001B[0m\n\u001B[0;32m    532\u001B[0m \u001B[38;5;129m@property\u001B[39m\n\u001B[0;32m    533\u001B[0m \u001B[38;5;28;01mdef\u001B[39;00m \u001B[38;5;21mpage_source\u001B[39m(\u001B[38;5;28mself\u001B[39m) \u001B[38;5;241m-\u001B[39m\u001B[38;5;241m>\u001B[39m \u001B[38;5;28mstr\u001B[39m:\n\u001B[0;32m    534\u001B[0m     \u001B[38;5;124;03m\"\"\"Gets the source of the current page.\u001B[39;00m\n\u001B[0;32m    535\u001B[0m \n\u001B[0;32m    536\u001B[0m \u001B[38;5;124;03m    :Usage:\u001B[39;00m\n\u001B[1;32m   (...)\u001B[0m\n\u001B[0;32m    539\u001B[0m \u001B[38;5;124;03m            driver.page_source\u001B[39;00m\n\u001B[0;32m    540\u001B[0m \u001B[38;5;124;03m    \"\"\"\u001B[39;00m\n\u001B[1;32m--> 541\u001B[0m     \u001B[38;5;28;01mreturn\u001B[39;00m \u001B[38;5;28;43mself\u001B[39;49m\u001B[38;5;241;43m.\u001B[39;49m\u001B[43mexecute\u001B[49m\u001B[43m(\u001B[49m\u001B[43mCommand\u001B[49m\u001B[38;5;241;43m.\u001B[39;49m\u001B[43mGET_PAGE_SOURCE\u001B[49m\u001B[43m)\u001B[49m[\u001B[38;5;124m\"\u001B[39m\u001B[38;5;124mvalue\u001B[39m\u001B[38;5;124m\"\u001B[39m]\n",
      "File \u001B[1;32m~\\AppData\\Local\\Programs\\Python\\Python311\\Lib\\site-packages\\selenium\\webdriver\\remote\\webdriver.py:440\u001B[0m, in \u001B[0;36mWebDriver.execute\u001B[1;34m(self, driver_command, params)\u001B[0m\n\u001B[0;32m    438\u001B[0m response \u001B[38;5;241m=\u001B[39m \u001B[38;5;28mself\u001B[39m\u001B[38;5;241m.\u001B[39mcommand_executor\u001B[38;5;241m.\u001B[39mexecute(driver_command, params)\n\u001B[0;32m    439\u001B[0m \u001B[38;5;28;01mif\u001B[39;00m response:\n\u001B[1;32m--> 440\u001B[0m     \u001B[38;5;28;43mself\u001B[39;49m\u001B[38;5;241;43m.\u001B[39;49m\u001B[43merror_handler\u001B[49m\u001B[38;5;241;43m.\u001B[39;49m\u001B[43mcheck_response\u001B[49m\u001B[43m(\u001B[49m\u001B[43mresponse\u001B[49m\u001B[43m)\u001B[49m\n\u001B[0;32m    441\u001B[0m     response[\u001B[38;5;124m\"\u001B[39m\u001B[38;5;124mvalue\u001B[39m\u001B[38;5;124m\"\u001B[39m] \u001B[38;5;241m=\u001B[39m \u001B[38;5;28mself\u001B[39m\u001B[38;5;241m.\u001B[39m_unwrap_value(response\u001B[38;5;241m.\u001B[39mget(\u001B[38;5;124m\"\u001B[39m\u001B[38;5;124mvalue\u001B[39m\u001B[38;5;124m\"\u001B[39m, \u001B[38;5;28;01mNone\u001B[39;00m))\n\u001B[0;32m    442\u001B[0m     \u001B[38;5;28;01mreturn\u001B[39;00m response\n",
      "File \u001B[1;32m~\\AppData\\Local\\Programs\\Python\\Python311\\Lib\\site-packages\\selenium\\webdriver\\remote\\errorhandler.py:245\u001B[0m, in \u001B[0;36mErrorHandler.check_response\u001B[1;34m(self, response)\u001B[0m\n\u001B[0;32m    243\u001B[0m         alert_text \u001B[38;5;241m=\u001B[39m value[\u001B[38;5;124m\"\u001B[39m\u001B[38;5;124malert\u001B[39m\u001B[38;5;124m\"\u001B[39m]\u001B[38;5;241m.\u001B[39mget(\u001B[38;5;124m\"\u001B[39m\u001B[38;5;124mtext\u001B[39m\u001B[38;5;124m\"\u001B[39m)\n\u001B[0;32m    244\u001B[0m     \u001B[38;5;28;01mraise\u001B[39;00m exception_class(message, screen, stacktrace, alert_text)  \u001B[38;5;66;03m# type: ignore[call-arg]  # mypy is not smart enough here\u001B[39;00m\n\u001B[1;32m--> 245\u001B[0m \u001B[38;5;28;01mraise\u001B[39;00m exception_class(message, screen, stacktrace)\n",
      "\u001B[1;31mWebDriverException\u001B[0m: Message: disconnected: Unable to receive message from renderer\n  (failed to check if window was closed: disconnected: not connected to DevTools)\n  (Session info: chrome=113.0.5672.93)\nStacktrace:\nBacktrace:\n\tGetHandleVerifier [0x00988893+48451]\n\t(No symbol) [0x0091B8A1]\n\t(No symbol) [0x00825058]\n\t(No symbol) [0x00818205]\n\t(No symbol) [0x0081810C]\n\t(No symbol) [0x00816D46]\n\t(No symbol) [0x008175CA]\n\t(No symbol) [0x0082E8A9]\n\t(No symbol) [0x008291EA]\n\t(No symbol) [0x00828FC7]\n\t(No symbol) [0x0087DD16]\n\t(No symbol) [0x0086A2BC]\n\t(No symbol) [0x0087C482]\n\t(No symbol) [0x0086A0B6]\n\t(No symbol) [0x00847E08]\n\t(No symbol) [0x00848F2D]\n\tGetHandleVerifier [0x00BE8E3A+2540266]\n\tGetHandleVerifier [0x00C28959+2801161]\n\tGetHandleVerifier [0x00C2295C+2776588]\n\tGetHandleVerifier [0x00A12280+612144]\n\t(No symbol) [0x00924F6C]\n\t(No symbol) [0x009211D8]\n\t(No symbol) [0x009212BB]\n\t(No symbol) [0x00914857]\n\tBaseThreadInitThunk [0x76F47D59+25]\n\tRtlInitializeExceptionChain [0x77A1B74B+107]\n\tRtlClearBits [0x77A1B6CF+191]\n"
     ]
    }
   ],
   "source": [
    "for _ in tqdm(range(100)): #Решено спарсить 100 страниц\n",
    "    driver.execute_script(\"window.scrollTo(0, document.body.scrollHeight);\")\n",
    "    html = driver.page_source\n",
    "    soup = BeautifulSoup(html, 'html.parser')\n",
    "    table_parser(soup)\n",
    "    next_button = driver.find_element(By.XPATH, '//button[@class=\"pagination__next\"]')\n",
    "    next_button.click()\n",
    "    time.sleep(randint(5, 15))\n",
    "    pass"
   ],
   "metadata": {
    "collapsed": false,
    "pycharm": {
     "name": "#%%\n"
    }
   }
  },
  {
   "cell_type": "code",
   "execution_count": null,
   "outputs": [],
   "source": [
    "df.to_csv(\"Names.tsv\", sep='\\t', index=False)"
   ],
   "metadata": {
    "collapsed": false,
    "pycharm": {
     "name": "#%%\n"
    }
   }
  },
  {
   "cell_type": "markdown",
   "source": [],
   "metadata": {
    "collapsed": false
   }
  },
  {
   "cell_type": "markdown",
   "source": [
    "___"
   ],
   "metadata": {
    "collapsed": false
   }
  },
  {
   "cell_type": "markdown",
   "source": [
    "# Парсим характеристики моделей"
   ],
   "metadata": {
    "collapsed": false
   }
  },
  {
   "cell_type": "code",
   "execution_count": 2,
   "outputs": [],
   "source": [
    "df=pd.read_csv(\"Names.tsv\", delimiter = \"\\t\")"
   ],
   "metadata": {
    "collapsed": false,
    "pycharm": {
     "name": "#%%\n"
    }
   }
  },
  {
   "cell_type": "code",
   "execution_count": 3,
   "outputs": [
    {
     "data": {
      "text/plain": "['https://www.ebay.com/itm/254604777645?nordt=true&orig_cvip=true&rt=nc',\n 'https://www.ebay.com/itm/254187678666?nordt=true&orig_cvip=true&rt=nc',\n 'https://www.ebay.com/itm/363183815277?nordt=true&orig_cvip=true&rt=nc',\n 'https://www.ebay.com/itm/382605209867?nordt=true&orig_cvip=true&rt=nc',\n 'https://www.ebay.com/itm/382446518910?nordt=true&orig_cvip=true&rt=nc',\n 'https://www.ebay.com/itm/401763851775?nordt=true&orig_cvip=true&rt=nc',\n 'https://www.ebay.com/itm/362534145919?nordt=true&orig_cvip=true&rt=nc',\n 'https://www.ebay.com/itm/254733458977?nordt=true&orig_cvip=true&rt=nc',\n 'https://www.ebay.com/itm/254449547850?nordt=true&orig_cvip=true&rt=nc',\n 'https://www.ebay.com/itm/362643917935?nordt=true&orig_cvip=true&rt=nc',\n nan,\n 'https://www.ebay.com/itm/362643928499?nordt=true&orig_cvip=true&rt=nc',\n 'https://www.ebay.com/itm/254343826760?nordt=true&orig_cvip=true&rt=nc',\n 'https://www.ebay.com/itm/383240884447?nordt=true&orig_cvip=true&rt=nc',\n 'https://www.ebay.com/itm/403272229686?nordt=true&orig_cvip=true&rt=nc',\n 'https://www.ebay.com/itm/284035968027?nordt=true&orig_cvip=true&rt=nc',\n 'https://www.ebay.com/itm/254497147383?nordt=true&orig_cvip=true&rt=nc',\n 'https://www.ebay.com/itm/402561477570?nordt=true&orig_cvip=true&rt=nc',\n 'https://www.ebay.com/itm/254726029927?nordt=true&orig_cvip=true&rt=nc',\n 'https://www.ebay.com/itm/193380000263?nordt=true&orig_cvip=true&rt=nc',\n 'https://www.ebay.com/itm/224743929590?nordt=true&orig_cvip=true&rt=nc',\n 'https://www.ebay.com/itm/382980837076?nordt=true&orig_cvip=true&rt=nc',\n 'https://www.ebay.com/itm/254986400075?nordt=true&orig_cvip=true&rt=nc',\n 'https://www.ebay.com/itm/363183789732?nordt=true&orig_cvip=true&rt=nc',\n 'https://www.ebay.com/itm/383859582143?nordt=true&orig_cvip=true&rt=nc',\n 'https://www.ebay.com/itm/254362722440?nordt=true&orig_cvip=true&rt=nc',\n 'https://www.ebay.com/itm/383056866223?nordt=true&orig_cvip=true&rt=nc',\n 'https://www.ebay.com/itm/382248638826?nordt=true&orig_cvip=true&rt=nc',\n 'https://www.ebay.com/itm/362796932744?nordt=true&orig_cvip=true&rt=nc',\n 'https://www.ebay.com/itm/401421944762?nordt=true&orig_cvip=true&rt=nc',\n 'https://www.ebay.com/itm/164893254720?nordt=true&orig_cvip=true&rt=nc',\n 'https://www.ebay.com/itm/254587833287?nordt=true&orig_cvip=true&rt=nc',\n 'https://www.ebay.com/itm/255156294126?nordt=true&orig_cvip=true&rt=nc',\n 'https://www.ebay.com/itm/382231636526?nordt=true&orig_cvip=true&rt=nc',\n 'https://www.ebay.com/itm/253462854618?nordt=true&orig_cvip=true&rt=nc',\n 'https://www.ebay.com/itm/383773335051?nordt=true&orig_cvip=true&rt=nc',\n 'https://www.ebay.com/itm/254699548059?nordt=true&orig_cvip=true&rt=nc',\n 'https://www.ebay.com/itm/193162998553?nordt=true&orig_cvip=true&rt=nc',\n nan,\n 'https://www.ebay.com/itm/254187724827?nordt=true&orig_cvip=true&rt=nc',\n 'https://www.ebay.com/itm/382942879927?nordt=true&orig_cvip=true&rt=nc',\n 'https://www.ebay.com/itm/275527542764?nordt=true&orig_cvip=true&rt=nc',\n 'https://www.ebay.com/itm/362844585265?nordt=true&orig_cvip=true&rt=nc',\n 'https://www.ebay.com/itm/265116884488?nordt=true&orig_cvip=true&rt=nc',\n 'https://www.ebay.com/itm/115160719109?nordt=true&orig_cvip=true&rt=nc',\n 'https://www.ebay.com/itm/254187579586?nordt=true&orig_cvip=true&rt=nc',\n 'https://www.ebay.com/itm/175104539043?nordt=true&orig_cvip=true&rt=nc',\n nan,\n 'https://www.ebay.com/itm/362174598107?nordt=true&orig_cvip=true&rt=nc',\n nan,\n 'https://www.ebay.com/itm/254604777645?nordt=true&orig_cvip=true&rt=nc',\n 'https://www.ebay.com/itm/254187678666?nordt=true&orig_cvip=true&rt=nc',\n 'https://www.ebay.com/itm/363183815277?nordt=true&orig_cvip=true&rt=nc',\n 'https://www.ebay.com/itm/382605209867?nordt=true&orig_cvip=true&rt=nc',\n 'https://www.ebay.com/itm/382446518910?nordt=true&orig_cvip=true&rt=nc',\n 'https://www.ebay.com/itm/401763851775?nordt=true&orig_cvip=true&rt=nc',\n 'https://www.ebay.com/itm/362534145919?nordt=true&orig_cvip=true&rt=nc',\n 'https://www.ebay.com/itm/254733458977?nordt=true&orig_cvip=true&rt=nc',\n 'https://www.ebay.com/itm/254449547850?nordt=true&orig_cvip=true&rt=nc',\n 'https://www.ebay.com/itm/362643917935?nordt=true&orig_cvip=true&rt=nc',\n nan,\n 'https://www.ebay.com/itm/362643928499?nordt=true&orig_cvip=true&rt=nc',\n 'https://www.ebay.com/itm/254343826760?nordt=true&orig_cvip=true&rt=nc',\n 'https://www.ebay.com/itm/383240884447?nordt=true&orig_cvip=true&rt=nc',\n 'https://www.ebay.com/itm/403272229686?nordt=true&orig_cvip=true&rt=nc',\n 'https://www.ebay.com/itm/284035968027?nordt=true&orig_cvip=true&rt=nc',\n 'https://www.ebay.com/itm/254497147383?nordt=true&orig_cvip=true&rt=nc',\n 'https://www.ebay.com/itm/402561477570?nordt=true&orig_cvip=true&rt=nc',\n 'https://www.ebay.com/itm/254726029927?nordt=true&orig_cvip=true&rt=nc',\n 'https://www.ebay.com/itm/193380000263?nordt=true&orig_cvip=true&rt=nc',\n 'https://www.ebay.com/itm/224743929590?nordt=true&orig_cvip=true&rt=nc',\n 'https://www.ebay.com/itm/382980837076?nordt=true&orig_cvip=true&rt=nc',\n 'https://www.ebay.com/itm/254986400075?nordt=true&orig_cvip=true&rt=nc',\n 'https://www.ebay.com/itm/363183789732?nordt=true&orig_cvip=true&rt=nc',\n 'https://www.ebay.com/itm/383859582143?nordt=true&orig_cvip=true&rt=nc',\n 'https://www.ebay.com/itm/254362722440?nordt=true&orig_cvip=true&rt=nc',\n 'https://www.ebay.com/itm/383056866223?nordt=true&orig_cvip=true&rt=nc',\n 'https://www.ebay.com/itm/382248638826?nordt=true&orig_cvip=true&rt=nc',\n 'https://www.ebay.com/itm/362796932744?nordt=true&orig_cvip=true&rt=nc',\n 'https://www.ebay.com/itm/401421944762?nordt=true&orig_cvip=true&rt=nc',\n 'https://www.ebay.com/itm/164893254720?nordt=true&orig_cvip=true&rt=nc',\n 'https://www.ebay.com/itm/254587833287?nordt=true&orig_cvip=true&rt=nc',\n 'https://www.ebay.com/itm/255156294126?nordt=true&orig_cvip=true&rt=nc',\n 'https://www.ebay.com/itm/382231636526?nordt=true&orig_cvip=true&rt=nc',\n 'https://www.ebay.com/itm/253462854618?nordt=true&orig_cvip=true&rt=nc',\n 'https://www.ebay.com/itm/383773335051?nordt=true&orig_cvip=true&rt=nc',\n 'https://www.ebay.com/itm/254699548059?nordt=true&orig_cvip=true&rt=nc',\n 'https://www.ebay.com/itm/193162998553?nordt=true&orig_cvip=true&rt=nc',\n nan,\n 'https://www.ebay.com/itm/254187724827?nordt=true&orig_cvip=true&rt=nc',\n 'https://www.ebay.com/itm/382942879927?nordt=true&orig_cvip=true&rt=nc',\n 'https://www.ebay.com/itm/275527542764?nordt=true&orig_cvip=true&rt=nc',\n 'https://www.ebay.com/itm/362844585265?nordt=true&orig_cvip=true&rt=nc',\n 'https://www.ebay.com/itm/265116884488?nordt=true&orig_cvip=true&rt=nc',\n 'https://www.ebay.com/itm/115160719109?nordt=true&orig_cvip=true&rt=nc',\n 'https://www.ebay.com/itm/254187579586?nordt=true&orig_cvip=true&rt=nc',\n 'https://www.ebay.com/itm/175104539043?nordt=true&orig_cvip=true&rt=nc',\n nan,\n 'https://www.ebay.com/itm/362174598107?nordt=true&orig_cvip=true&rt=nc',\n nan,\n 'https://www.ebay.com/itm/383852092669?nordt=true&orig_cvip=true&rt=nc',\n 'https://www.ebay.com/itm/401421457135?nordt=true&orig_cvip=true&rt=nc',\n 'https://www.ebay.com/itm/383815687874?nordt=true&orig_cvip=true&rt=nc',\n 'https://www.ebay.com/itm/202736101273?nordt=true&orig_cvip=true&rt=nc',\n nan,\n 'https://www.ebay.com/itm/254604774836?nordt=true&orig_cvip=true&rt=nc',\n 'https://www.ebay.com/itm/113940220736?nordt=true&orig_cvip=true&rt=nc',\n 'https://www.ebay.com/itm/362174598107?nordt=true&orig_cvip=true&rt=nc',\n nan,\n 'https://www.ebay.com/itm/401790747983?nordt=true&orig_cvip=true&rt=nc',\n 'https://www.ebay.com/itm/254449549740?nordt=true&orig_cvip=true&rt=nc',\n 'https://www.ebay.com/itm/254259767924?nordt=true&orig_cvip=true&rt=nc',\n 'https://www.ebay.com/itm/401692119966?nordt=true&orig_cvip=true&rt=nc',\n 'https://www.ebay.com/itm/382745068741?nordt=true&orig_cvip=true&rt=nc',\n nan,\n 'https://www.ebay.com/itm/254543445542?nordt=true&orig_cvip=true&rt=nc',\n 'https://www.ebay.com/itm/363183828056?nordt=true&orig_cvip=true&rt=nc',\n 'https://www.ebay.com/itm/363490711983?nordt=true&orig_cvip=true&rt=nc',\n 'https://www.ebay.com/itm/274665780483?nordt=true&orig_cvip=true&rt=nc',\n nan,\n 'https://www.ebay.com/itm/363552187845?nordt=true&orig_cvip=true&rt=nc',\n nan,\n nan,\n nan,\n 'https://www.ebay.com/itm/255229822421?nordt=true&orig_cvip=true&rt=nc',\n 'https://www.ebay.com/itm/363622936966?nordt=true&orig_cvip=true&rt=nc',\n 'https://www.ebay.com/itm/185054035695?nordt=true&orig_cvip=true&rt=nc',\n 'https://www.ebay.com/itm/255158035114?nordt=true&orig_cvip=true&rt=nc',\n 'https://www.ebay.com/itm/254497131840?nordt=true&orig_cvip=true&rt=nc',\n 'https://www.ebay.com/itm/401433628517?nordt=true&orig_cvip=true&rt=nc',\n nan,\n 'https://www.ebay.com/itm/202761223360?nordt=true&orig_cvip=true&rt=nc',\n 'https://www.ebay.com/itm/401343493312?nordt=true&orig_cvip=true&rt=nc',\n 'https://www.ebay.com/itm/254616322083?nordt=true&orig_cvip=true&rt=nc',\n nan,\n nan,\n 'https://www.ebay.com/itm/383199876176?nordt=true&orig_cvip=true&rt=nc',\n 'https://www.ebay.com/itm/154260684946?nordt=true&orig_cvip=true&rt=nc',\n 'https://www.ebay.com/itm/255190396752?nordt=true&orig_cvip=true&rt=nc',\n nan,\n 'https://www.ebay.com/itm/184891803008?nordt=true&orig_cvip=true&rt=nc',\n 'https://www.ebay.com/itm/265620291838?nordt=true&orig_cvip=true&rt=nc',\n nan,\n 'https://www.ebay.com/itm/174910657878?nordt=true&orig_cvip=true&rt=nc',\n 'https://www.ebay.com/itm/284706512069?nordt=true&orig_cvip=true&rt=nc',\n nan,\n nan,\n 'https://www.ebay.com/itm/114530941946?nordt=true&orig_cvip=true&rt=nc',\n 'https://www.ebay.com/itm/163466112708?nordt=true&orig_cvip=true&rt=nc',\n 'https://www.ebay.com/itm/162158935212?nordt=true&orig_cvip=true&rt=nc',\n 'https://www.ebay.com/itm/402738617123?nordt=true&orig_cvip=true&rt=nc',\n 'https://www.ebay.com/itm/383869478537?nordt=true&orig_cvip=true&rt=nc',\n nan,\n nan,\n 'https://www.ebay.com/itm/192666024808?nordt=true&orig_cvip=true&rt=nc',\n 'https://www.ebay.com/itm/184891803008?nordt=true&orig_cvip=true&rt=nc',\n 'https://www.ebay.com/itm/273365425583?nordt=true&orig_cvip=true&rt=nc',\n 'https://www.ebay.com/itm/254497146992?nordt=true&orig_cvip=true&rt=nc',\n 'https://www.ebay.com/itm/254574858548?nordt=true&orig_cvip=true&rt=nc',\n 'https://www.ebay.com/itm/275347195080?nordt=true&orig_cvip=true&rt=nc',\n nan,\n 'https://www.ebay.com/itm/114530941946?nordt=true&orig_cvip=true&rt=nc',\n 'https://www.ebay.com/itm/362776219215?nordt=true&orig_cvip=true&rt=nc',\n 'https://www.ebay.com/itm/174218584095?nordt=true&orig_cvip=true&rt=nc',\n 'https://www.ebay.com/itm/254497144144?nordt=true&orig_cvip=true&rt=nc',\n nan,\n 'https://www.ebay.com/itm/362539249410?nordt=true&orig_cvip=true&rt=nc',\n 'https://www.ebay.com/itm/163466112708?nordt=true&orig_cvip=true&rt=nc',\n 'https://www.ebay.com/itm/162158935212?nordt=true&orig_cvip=true&rt=nc',\n 'https://www.ebay.com/itm/403448574550?nordt=true&orig_cvip=true&rt=nc',\n 'https://www.ebay.com/itm/174871616624?nordt=true&orig_cvip=true&rt=nc',\n nan,\n nan,\n 'https://www.ebay.com/itm/274614344653?nordt=true&orig_cvip=true&rt=nc',\n 'https://www.ebay.com/itm/255036085233?nordt=true&orig_cvip=true&rt=nc',\n 'https://www.ebay.com/itm/401802476294?nordt=true&orig_cvip=true&rt=nc',\n nan,\n 'https://www.ebay.com/itm/382262389997?nordt=true&orig_cvip=true&rt=nc',\n 'https://www.ebay.com/itm/254362724799?nordt=true&orig_cvip=true&rt=nc',\n 'https://www.ebay.com/itm/402561454256?nordt=true&orig_cvip=true&rt=nc',\n 'https://www.ebay.com/itm/254887931564?nordt=true&orig_cvip=true&rt=nc',\n 'https://www.ebay.com/itm/114789287210?nordt=true&orig_cvip=true&rt=nc',\n 'https://www.ebay.com/itm/133748771442?nordt=true&orig_cvip=true&rt=nc',\n nan,\n 'https://www.ebay.com/itm/124808868109?nordt=true&orig_cvip=true&rt=nc',\n 'https://www.ebay.com/itm/254581733254?nordt=true&orig_cvip=true&rt=nc',\n 'https://www.ebay.com/itm/303866151709?nordt=true&orig_cvip=true&rt=nc',\n 'https://www.ebay.com/itm/362796965180?nordt=true&orig_cvip=true&rt=nc',\n nan,\n nan,\n 'https://www.ebay.com/itm/284822804313?nordt=true&orig_cvip=true&rt=nc',\n nan,\n nan,\n nan,\n 'https://www.ebay.com/itm/363755059961?nordt=true&orig_cvip=true&rt=nc',\n nan,\n nan,\n 'https://www.ebay.com/itm/114120899548?nordt=true&orig_cvip=true&rt=nc',\n nan,\n nan,\n 'https://www.ebay.com/itm/254497147339?nordt=true&orig_cvip=true&rt=nc',\n 'https://www.ebay.com/itm/184855483707?nordt=true&orig_cvip=true&rt=nc',\n 'https://www.ebay.com/itm/144025110903?nordt=true&orig_cvip=true&rt=nc',\n 'https://www.ebay.com/itm/401597053678?nordt=true&orig_cvip=true&rt=nc',\n 'https://www.ebay.com/itm/162636672837?nordt=true&orig_cvip=true&rt=nc',\n 'https://www.ebay.com/itm/363755059961?nordt=true&orig_cvip=true&rt=nc',\n 'https://www.ebay.com/itm/401474714088?nordt=true&orig_cvip=true&rt=nc',\n 'https://www.ebay.com/itm/202444662305?nordt=true&orig_cvip=true&rt=nc',\n 'https://www.ebay.com/itm/183823778274?nordt=true&orig_cvip=true&rt=nc',\n 'https://www.ebay.com/itm/402056539484?nordt=true&orig_cvip=true&rt=nc',\n 'https://www.ebay.com/itm/254726032631?nordt=true&orig_cvip=true&rt=nc',\n nan,\n nan,\n 'https://www.ebay.com/itm/254798360339?nordt=true&orig_cvip=true&rt=nc',\n 'https://www.ebay.com/itm/363215088240?nordt=true&orig_cvip=true&rt=nc',\n 'https://www.ebay.com/itm/402372545788?nordt=true&orig_cvip=true&rt=nc',\n 'https://www.ebay.com/itm/203607929494?nordt=true&orig_cvip=true&rt=nc',\n 'https://www.ebay.com/itm/193613564027?nordt=true&orig_cvip=true&rt=nc',\n 'https://www.ebay.com/itm/284813674003?nordt=true&orig_cvip=true&rt=nc',\n 'https://www.ebay.com/itm/363606395261?nordt=true&orig_cvip=true&rt=nc',\n 'https://www.ebay.com/itm/254736177623?nordt=true&orig_cvip=true&rt=nc',\n 'https://www.ebay.com/itm/402048793825?nordt=true&orig_cvip=true&rt=nc',\n 'https://www.ebay.com/itm/174556551199?nordt=true&orig_cvip=true&rt=nc',\n 'https://www.ebay.com/itm/124877612218?nordt=true&orig_cvip=true&rt=nc',\n 'https://www.ebay.com/itm/224961727431?nordt=true&orig_cvip=true&rt=nc',\n 'https://www.ebay.com/itm/175468289545?nordt=true&orig_cvip=true&rt=nc',\n nan,\n 'https://www.ebay.com/itm/195322468471?nordt=true&orig_cvip=true&rt=nc',\n nan,\n 'https://www.ebay.com/itm/144365591844?nordt=true&orig_cvip=true&rt=nc',\n nan,\n nan,\n 'https://www.ebay.com/itm/275427662747?nordt=true&orig_cvip=true&rt=nc',\n 'https://www.ebay.com/itm/294480146529?nordt=true&orig_cvip=true&rt=nc',\n 'https://www.ebay.com/itm/144174211508?nordt=true&orig_cvip=true&rt=nc',\n nan,\n 'https://www.ebay.com/itm/362643862686?nordt=true&orig_cvip=true&rt=nc',\n nan,\n nan,\n 'https://www.ebay.com/itm/114845945758?nordt=true&orig_cvip=true&rt=nc',\n nan,\n 'https://www.ebay.com/itm/254987231741?nordt=true&orig_cvip=true&rt=nc',\n 'https://www.ebay.com/itm/284813674330?nordt=true&orig_cvip=true&rt=nc',\n nan,\n nan,\n nan,\n nan,\n 'https://www.ebay.com/itm/154426022841?nordt=true&orig_cvip=true&rt=nc',\n nan,\n nan,\n 'https://www.ebay.com/itm/363346871915?nordt=true&orig_cvip=true&rt=nc',\n 'https://www.ebay.com/itm/192680493240?nordt=true&orig_cvip=true&rt=nc',\n 'https://www.ebay.com/itm/192919736122?nordt=true&orig_cvip=true&rt=nc',\n 'https://www.ebay.com/itm/402106151567?nordt=true&orig_cvip=true&rt=nc',\n 'https://www.ebay.com/itm/203607994463?nordt=true&orig_cvip=true&rt=nc',\n 'https://www.ebay.com/itm/362643927258?nordt=true&orig_cvip=true&rt=nc',\n 'https://www.ebay.com/itm/174917153823?nordt=true&orig_cvip=true&rt=nc',\n 'https://www.ebay.com/itm/194293909046?nordt=true&orig_cvip=true&rt=nc',\n nan,\n 'https://www.ebay.com/itm/284813674330?nordt=true&orig_cvip=true&rt=nc',\n 'https://www.ebay.com/itm/265673903010?nordt=true&orig_cvip=true&rt=nc',\n 'https://www.ebay.com/itm/233883450713?nordt=true&orig_cvip=true&rt=nc',\n 'https://www.ebay.com/itm/254497144544?nordt=true&orig_cvip=true&rt=nc',\n 'https://www.ebay.com/itm/274984909193?nordt=true&orig_cvip=true&rt=nc',\n 'https://www.ebay.com/itm/255701838986?nordt=true&orig_cvip=true&rt=nc',\n nan,\n nan,\n 'https://www.ebay.com/itm/203795735968?nordt=true&orig_cvip=true&rt=nc',\n nan,\n 'https://www.ebay.com/itm/143480973984?nordt=true&orig_cvip=true&rt=nc',\n 'https://www.ebay.com/itm/274834525829?nordt=true&orig_cvip=true&rt=nc',\n nan,\n 'https://www.ebay.com/itm/255405276945?nordt=true&orig_cvip=true&rt=nc',\n nan,\n 'https://www.ebay.com/itm/284037586794?nordt=true&orig_cvip=true&rt=nc',\n nan,\n 'https://www.ebay.com/itm/203880663418?nordt=true&orig_cvip=true&rt=nc',\n 'https://www.ebay.com/itm/203747687712?nordt=true&orig_cvip=true&rt=nc',\n 'https://www.ebay.com/itm/313646454379?nordt=true&orig_cvip=true&rt=nc',\n nan,\n nan,\n 'https://www.ebay.com/itm/203607993595?nordt=true&orig_cvip=true&rt=nc',\n 'https://www.ebay.com/itm/254587835370?nordt=true&orig_cvip=true&rt=nc',\n 'https://www.ebay.com/itm/134094757201?nordt=true&orig_cvip=true&rt=nc',\n 'https://www.ebay.com/itm/382282567190?nordt=true&orig_cvip=true&rt=nc',\n 'https://www.ebay.com/itm/404124301113?nordt=true&orig_cvip=true&rt=nc',\n 'https://www.ebay.com/itm/162992514349?nordt=true&orig_cvip=true&rt=nc',\n nan,\n nan,\n nan,\n nan,\n 'https://www.ebay.com/itm/284950234610?nordt=true&orig_cvip=true&rt=nc',\n 'https://www.ebay.com/itm/174503388347?nordt=true&orig_cvip=true&rt=nc',\n nan,\n nan,\n nan,\n nan,\n nan,\n 'https://www.ebay.com/itm/401452356520?nordt=true&orig_cvip=true&rt=nc',\n nan,\n 'https://www.ebay.com/itm/265089585102?nordt=true&orig_cvip=true&rt=nc',\n 'https://www.ebay.com/itm/203747687712?nordt=true&orig_cvip=true&rt=nc',\n 'https://www.ebay.com/itm/223182678910?nordt=true&orig_cvip=true&rt=nc',\n 'https://www.ebay.com/itm/254343829175?nordt=true&orig_cvip=true&rt=nc',\n 'https://www.ebay.com/itm/383313502228?nordt=true&orig_cvip=true&rt=nc',\n 'https://www.ebay.com/itm/363318312788?nordt=true&orig_cvip=true&rt=nc',\n 'https://www.ebay.com/itm/362643914994?nordt=true&orig_cvip=true&rt=nc',\n 'https://www.ebay.com/itm/383253410092?nordt=true&orig_cvip=true&rt=nc',\n 'https://www.ebay.com/itm/224018356182?nordt=true&orig_cvip=true&rt=nc',\n 'https://www.ebay.com/itm/401941342884?nordt=true&orig_cvip=true&rt=nc',\n 'https://www.ebay.com/itm/194516792362?nordt=true&orig_cvip=true&rt=nc',\n nan,\n 'https://www.ebay.com/itm/195196850855?nordt=true&orig_cvip=true&rt=nc',\n 'https://www.ebay.com/itm/353721128035?nordt=true&orig_cvip=true&rt=nc',\n 'https://www.ebay.com/itm/194455634348?nordt=true&orig_cvip=true&rt=nc',\n nan,\n nan,\n 'https://www.ebay.com/itm/401466898078?nordt=true&orig_cvip=true&rt=nc',\n 'https://www.ebay.com/itm/143944694279?nordt=true&orig_cvip=true&rt=nc',\n 'https://www.ebay.com/itm/174535086332?nordt=true&orig_cvip=true&rt=nc',\n 'https://www.ebay.com/itm/254590738784?nordt=true&orig_cvip=true&rt=nc',\n nan,\n 'https://www.ebay.com/itm/362643889830?nordt=true&orig_cvip=true&rt=nc',\n 'https://www.ebay.com/itm/174901870299?nordt=true&orig_cvip=true&rt=nc',\n 'https://www.ebay.com/itm/325334675201?nordt=true&orig_cvip=true&rt=nc',\n 'https://www.ebay.com/itm/115057457527?nordt=true&orig_cvip=true&rt=nc',\n 'https://www.ebay.com/itm/174920917642?nordt=true&orig_cvip=true&rt=nc',\n nan,\n nan,\n 'https://www.ebay.com/itm/284945596416?nordt=true&orig_cvip=true&rt=nc',\n nan,\n 'https://www.ebay.com/itm/233303782689?nordt=true&orig_cvip=true&rt=nc',\n 'https://www.ebay.com/itm/195096160016?nordt=true&orig_cvip=true&rt=nc',\n 'https://www.ebay.com/itm/362867831517?nordt=true&orig_cvip=true&rt=nc',\n 'https://www.ebay.com/itm/143532214398?nordt=true&orig_cvip=true&rt=nc',\n nan,\n nan,\n 'https://www.ebay.com/itm/284935400988?nordt=true&orig_cvip=true&rt=nc',\n nan,\n 'https://www.ebay.com/itm/114990453521?nordt=true&orig_cvip=true&rt=nc',\n nan,\n nan,\n nan,\n nan,\n nan,\n 'https://www.ebay.com/itm/124877603899?nordt=true&orig_cvip=true&rt=nc',\n 'https://www.ebay.com/itm/155286042414?nordt=true&orig_cvip=true&rt=nc',\n 'https://www.ebay.com/itm/144232244682?nordt=true&orig_cvip=true&rt=nc',\n nan,\n 'https://www.ebay.com/itm/114690152370?nordt=true&orig_cvip=true&rt=nc',\n 'https://www.ebay.com/itm/362643914994?nordt=true&orig_cvip=true&rt=nc',\n 'https://www.ebay.com/itm/402665813488?nordt=true&orig_cvip=true&rt=nc',\n 'https://www.ebay.com/itm/401687157141?nordt=true&orig_cvip=true&rt=nc',\n 'https://www.ebay.com/itm/203087234583?nordt=true&orig_cvip=true&rt=nc',\n 'https://www.ebay.com/itm/202832944112?nordt=true&orig_cvip=true&rt=nc',\n 'https://www.ebay.com/itm/383894758771?nordt=true&orig_cvip=true&rt=nc',\n 'https://www.ebay.com/itm/402048798163?nordt=true&orig_cvip=true&rt=nc',\n 'https://www.ebay.com/itm/362303761329?nordt=true&orig_cvip=true&rt=nc',\n 'https://www.ebay.com/itm/265510853953?nordt=true&orig_cvip=true&rt=nc',\n 'https://www.ebay.com/itm/402517131944?nordt=true&orig_cvip=true&rt=nc',\n 'https://www.ebay.com/itm/193817201613?nordt=true&orig_cvip=true&rt=nc',\n nan,\n nan,\n 'https://www.ebay.com/itm/353611081594?nordt=true&orig_cvip=true&rt=nc',\n 'https://www.ebay.com/itm/233303782689?nordt=true&orig_cvip=true&rt=nc',\n 'https://www.ebay.com/itm/402290878794?nordt=true&orig_cvip=true&rt=nc',\n 'https://www.ebay.com/itm/381884981763?nordt=true&orig_cvip=true&rt=nc',\n 'https://www.ebay.com/itm/312774622409?nordt=true&orig_cvip=true&rt=nc',\n nan,\n nan,\n 'https://www.ebay.com/itm/194295611636?nordt=true&orig_cvip=true&rt=nc',\n 'https://www.ebay.com/itm/164051768843?nordt=true&orig_cvip=true&rt=nc',\n nan,\n 'https://www.ebay.com/itm/265968892888?nordt=true&orig_cvip=true&rt=nc',\n 'https://www.ebay.com/itm/174167428382?nordt=true&orig_cvip=true&rt=nc',\n 'https://www.ebay.com/itm/153746097416?nordt=true&orig_cvip=true&rt=nc',\n nan,\n 'https://www.ebay.com/itm/114690152370?nordt=true&orig_cvip=true&rt=nc',\n 'https://www.ebay.com/itm/194297515141?nordt=true&orig_cvip=true&rt=nc',\n 'https://www.ebay.com/itm/334100133142?nordt=true&orig_cvip=true&rt=nc',\n nan,\n 'https://www.ebay.com/itm/154538155772?nordt=true&orig_cvip=true&rt=nc',\n nan,\n nan,\n nan,\n nan,\n nan,\n 'https://www.ebay.com/itm/125727738582?nordt=true&orig_cvip=true&rt=nc',\n 'https://www.ebay.com/itm/153787765338?nordt=true&orig_cvip=true&rt=nc',\n 'https://www.ebay.com/itm/124887216804?nordt=true&orig_cvip=true&rt=nc',\n nan,\n nan,\n nan,\n 'https://www.ebay.com/itm/144147287648?nordt=true&orig_cvip=true&rt=nc',\n nan,\n 'https://www.ebay.com/itm/114637806356?nordt=true&orig_cvip=true&rt=nc',\n nan,\n 'https://www.ebay.com/itm/125390269972?nordt=true&orig_cvip=true&rt=nc',\n 'https://www.ebay.com/itm/134283561109?nordt=true&orig_cvip=true&rt=nc',\n nan,\n 'https://www.ebay.com/itm/382711860317?nordt=true&orig_cvip=true&rt=nc',\n 'https://www.ebay.com/itm/402058099913?nordt=true&orig_cvip=true&rt=nc',\n 'https://www.ebay.com/itm/363273667452?nordt=true&orig_cvip=true&rt=nc',\n 'https://www.ebay.com/itm/353611081594?nordt=true&orig_cvip=true&rt=nc',\n 'https://www.ebay.com/itm/401819629193?nordt=true&orig_cvip=true&rt=nc',\n 'https://www.ebay.com/itm/383240878026?nordt=true&orig_cvip=true&rt=nc',\n 'https://www.ebay.com/itm/324503186499?nordt=true&orig_cvip=true&rt=nc',\n 'https://www.ebay.com/itm/383938533996?nordt=true&orig_cvip=true&rt=nc',\n 'https://www.ebay.com/itm/402290878794?nordt=true&orig_cvip=true&rt=nc',\n 'https://www.ebay.com/itm/294374557390?nordt=true&orig_cvip=true&rt=nc',\n 'https://www.ebay.com/itm/312774622409?nordt=true&orig_cvip=true&rt=nc',\n nan,\n 'https://www.ebay.com/itm/254497142473?nordt=true&orig_cvip=true&rt=nc',\n 'https://www.ebay.com/itm/363623911145?nordt=true&orig_cvip=true&rt=nc',\n 'https://www.ebay.com/itm/223248816257?nordt=true&orig_cvip=true&rt=nc',\n 'https://www.ebay.com/itm/384714069130?nordt=true&orig_cvip=true&rt=nc',\n 'https://www.ebay.com/itm/254954539997?nordt=true&orig_cvip=true&rt=nc',\n 'https://www.ebay.com/itm/255563726674?nordt=true&orig_cvip=true&rt=nc',\n 'https://www.ebay.com/itm/254699543811?nordt=true&orig_cvip=true&rt=nc',\n 'https://www.ebay.com/itm/362239783947?nordt=true&orig_cvip=true&rt=nc',\n nan,\n 'https://www.ebay.com/itm/402599995493?nordt=true&orig_cvip=true&rt=nc',\n 'https://www.ebay.com/itm/225190606982?nordt=true&orig_cvip=true&rt=nc',\n 'https://www.ebay.com/itm/224697402208?nordt=true&orig_cvip=true&rt=nc',\n 'https://www.ebay.com/itm/325425732974?nordt=true&orig_cvip=true&rt=nc',\n nan,\n 'https://www.ebay.com/itm/325349047528?nordt=true&orig_cvip=true&rt=nc',\n nan,\n nan,\n nan,\n nan,\n 'https://www.ebay.com/itm/125390269972?nordt=true&orig_cvip=true&rt=nc',\n nan,\n 'https://www.ebay.com/itm/134283561109?nordt=true&orig_cvip=true&rt=nc',\n 'https://www.ebay.com/itm/255810804010?nordt=true&orig_cvip=true&rt=nc',\n nan,\n nan,\n 'https://www.ebay.com/itm/144158773762?nordt=true&orig_cvip=true&rt=nc',\n nan,\n nan,\n nan,\n nan,\n 'https://www.ebay.com/itm/143087457380?nordt=true&orig_cvip=true&rt=nc',\n 'https://www.ebay.com/itm/115110372199?nordt=true&orig_cvip=true&rt=nc',\n nan,\n nan,\n 'https://www.ebay.com/itm/144150449212?nordt=true&orig_cvip=true&rt=nc',\n nan,\n nan,\n nan,\n 'https://www.ebay.com/itm/324052569878?nordt=true&orig_cvip=true&rt=nc',\n 'https://www.ebay.com/itm/323431647749?nordt=true&orig_cvip=true&rt=nc',\n 'https://www.ebay.com/itm/383240878026?nordt=true&orig_cvip=true&rt=nc',\n 'https://www.ebay.com/itm/363623911145?nordt=true&orig_cvip=true&rt=nc',\n 'https://www.ebay.com/itm/382980838485?nordt=true&orig_cvip=true&rt=nc',\n 'https://www.ebay.com/itm/354110193084?nordt=true&orig_cvip=true&rt=nc',\n 'https://www.ebay.com/itm/254435076304?nordt=true&orig_cvip=true&rt=nc',\n nan,\n 'https://www.ebay.com/itm/193691646060?nordt=true&orig_cvip=true&rt=nc',\n nan,\n 'https://www.ebay.com/itm/194300315400?nordt=true&orig_cvip=true&rt=nc',\n 'https://www.ebay.com/itm/203658189990?nordt=true&orig_cvip=true&rt=nc',\n 'https://www.ebay.com/itm/234488379739?nordt=true&orig_cvip=true&rt=nc',\n nan,\n 'https://www.ebay.com/itm/174792647252?nordt=true&orig_cvip=true&rt=nc',\n 'https://www.ebay.com/itm/224697402234?nordt=true&orig_cvip=true&rt=nc',\n 'https://www.ebay.com/itm/203584555858?nordt=true&orig_cvip=true&rt=nc',\n 'https://www.ebay.com/itm/334100136428?nordt=true&orig_cvip=true&rt=nc',\n 'https://www.ebay.com/itm/255750740005?nordt=true&orig_cvip=true&rt=nc',\n 'https://www.ebay.com/itm/174535840714?nordt=true&orig_cvip=true&rt=nc',\n nan,\n nan,\n nan,\n 'https://www.ebay.com/itm/154395780765?nordt=true&orig_cvip=true&rt=nc',\n nan,\n 'https://www.ebay.com/itm/162363616288?nordt=true&orig_cvip=true&rt=nc',\n nan,\n nan,\n 'https://www.ebay.com/itm/154468600087?nordt=true&orig_cvip=true&rt=nc',\n 'https://www.ebay.com/itm/401948891983?nordt=true&orig_cvip=true&rt=nc',\n 'https://www.ebay.com/itm/125104945109?nordt=true&orig_cvip=true&rt=nc',\n 'https://www.ebay.com/itm/174918226951?nordt=true&orig_cvip=true&rt=nc',\n nan,\n 'https://www.ebay.com/itm/124824379591?nordt=true&orig_cvip=true&rt=nc',\n nan,\n 'https://www.ebay.com/itm/124997193616?nordt=true&orig_cvip=true&rt=nc',\n nan,\n 'https://www.ebay.com/itm/155398208092?nordt=true&orig_cvip=true&rt=nc',\n nan,\n nan,\n nan,\n 'https://www.ebay.com/itm/124879813752?nordt=true&orig_cvip=true&rt=nc',\n 'https://www.ebay.com/itm/133883518502?nordt=true&orig_cvip=true&rt=nc',\n nan,\n nan,\n 'https://www.ebay.com/itm/144070892239?nordt=true&orig_cvip=true&rt=nc',\n 'https://www.ebay.com/itm/164614386597?nordt=true&orig_cvip=true&rt=nc',\n nan,\n 'https://www.ebay.com/itm/124482698175?nordt=true&orig_cvip=true&rt=nc',\n 'https://www.ebay.com/itm/144556366223?nordt=true&orig_cvip=true&rt=nc',\n 'https://www.ebay.com/itm/362525704286?nordt=true&orig_cvip=true&rt=nc',\n 'https://www.ebay.com/itm/401941360145?nordt=true&orig_cvip=true&rt=nc',\n 'https://www.ebay.com/itm/313646455709?nordt=true&orig_cvip=true&rt=nc',\n nan,\n 'https://www.ebay.com/itm/402437230874?nordt=true&orig_cvip=true&rt=nc',\n 'https://www.ebay.com/itm/403082631594?nordt=true&orig_cvip=true&rt=nc',\n 'https://www.ebay.com/itm/313987548596?nordt=true&orig_cvip=true&rt=nc',\n 'https://www.ebay.com/itm/284087674475?nordt=true&orig_cvip=true&rt=nc',\n 'https://www.ebay.com/itm/325163084226?nordt=true&orig_cvip=true&rt=nc',\n nan,\n 'https://www.ebay.com/itm/203570672970?nordt=true&orig_cvip=true&rt=nc',\n 'https://www.ebay.com/itm/254736176500?nordt=true&orig_cvip=true&rt=nc',\n nan,\n nan,\n 'https://www.ebay.com/itm/402729169888?nordt=true&orig_cvip=true&rt=nc',\n 'https://www.ebay.com/itm/394205954469?nordt=true&orig_cvip=true&rt=nc',\n nan,\n 'https://www.ebay.com/itm/184820483037?nordt=true&orig_cvip=true&rt=nc',\n 'https://www.ebay.com/itm/224321755014?nordt=true&orig_cvip=true&rt=nc',\n 'https://www.ebay.com/itm/334100142838?nordt=true&orig_cvip=true&rt=nc',\n 'https://www.ebay.com/itm/174730599521?nordt=true&orig_cvip=true&rt=nc',\n 'https://www.ebay.com/itm/183742597352?nordt=true&orig_cvip=true&rt=nc',\n nan,\n nan,\n 'https://www.ebay.com/itm/144070892239?nordt=true&orig_cvip=true&rt=nc',\n 'https://www.ebay.com/itm/164614386597?nordt=true&orig_cvip=true&rt=nc',\n nan,\n 'https://www.ebay.com/itm/255580754718?nordt=true&orig_cvip=true&rt=nc',\n 'https://www.ebay.com/itm/202673610780?nordt=true&orig_cvip=true&rt=nc',\n 'https://www.ebay.com/itm/124482698175?nordt=true&orig_cvip=true&rt=nc',\n 'https://www.ebay.com/itm/144556366223?nordt=true&orig_cvip=true&rt=nc',\n 'https://www.ebay.com/itm/194306621863?nordt=true&orig_cvip=true&rt=nc',\n nan,\n nan,\n 'https://www.ebay.com/itm/194297332292?nordt=true&orig_cvip=true&rt=nc',\n 'https://www.ebay.com/itm/194299762708?nordt=true&orig_cvip=true&rt=nc',\n 'https://www.ebay.com/itm/224751863357?nordt=true&orig_cvip=true&rt=nc',\n nan,\n 'https://www.ebay.com/itm/185103351687?nordt=true&orig_cvip=true&rt=nc',\n 'https://www.ebay.com/itm/174571907158?nordt=true&orig_cvip=true&rt=nc',\n 'https://www.ebay.com/itm/193312812960?nordt=true&orig_cvip=true&rt=nc',\n nan,\n nan,\n 'https://www.ebay.com/itm/165723948455?nordt=true&orig_cvip=true&rt=nc',\n 'https://www.ebay.com/itm/165656727161?nordt=true&orig_cvip=true&rt=nc',\n 'https://www.ebay.com/itm/134281877123?nordt=true&orig_cvip=true&rt=nc',\n 'https://www.ebay.com/itm/133788565829?nordt=true&orig_cvip=true&rt=nc',\n 'https://www.ebay.com/itm/115240858132?nordt=true&orig_cvip=true&rt=nc',\n 'https://www.ebay.com/itm/225283012200?nordt=true&orig_cvip=true&rt=nc',\n nan,\n 'https://www.ebay.com/itm/323431647262?nordt=true&orig_cvip=true&rt=nc',\n 'https://www.ebay.com/itm/294175845363?nordt=true&orig_cvip=true&rt=nc',\n 'https://www.ebay.com/itm/383858323328?nordt=true&orig_cvip=true&rt=nc',\n nan,\n 'https://www.ebay.com/itm/265026754048?nordt=true&orig_cvip=true&rt=nc',\n 'https://www.ebay.com/itm/313646353339?nordt=true&orig_cvip=true&rt=nc',\n 'https://www.ebay.com/itm/362108949221?nordt=true&orig_cvip=true&rt=nc',\n nan,\n 'https://www.ebay.com/itm/254279015307?nordt=true&orig_cvip=true&rt=nc',\n nan,\n 'https://www.ebay.com/itm/362435884735?nordt=true&orig_cvip=true&rt=nc',\n 'https://www.ebay.com/itm/363712909918?nordt=true&orig_cvip=true&rt=nc',\n nan,\n 'https://www.ebay.com/itm/363712923708?nordt=true&orig_cvip=true&rt=nc',\n nan,\n 'https://www.ebay.com/itm/255107348793?nordt=true&orig_cvip=true&rt=nc',\n nan,\n nan,\n nan,\n 'https://www.ebay.com/itm/115240858132?nordt=true&orig_cvip=true&rt=nc',\n 'https://www.ebay.com/itm/225283012200?nordt=true&orig_cvip=true&rt=nc',\n nan,\n 'https://www.ebay.com/itm/164638937913?nordt=true&orig_cvip=true&rt=nc',\n 'https://www.ebay.com/itm/193786892621?nordt=true&orig_cvip=true&rt=nc',\n 'https://www.ebay.com/itm/193314396783?nordt=true&orig_cvip=true&rt=nc',\n 'https://www.ebay.com/itm/203551297190?nordt=true&orig_cvip=true&rt=nc',\n nan,\n 'https://www.ebay.com/itm/233416795867?nordt=true&orig_cvip=true&rt=nc',\n nan,\n nan,\n 'https://www.ebay.com/itm/195032808393?nordt=true&orig_cvip=true&rt=nc',\n 'https://www.ebay.com/itm/255670467920?nordt=true&orig_cvip=true&rt=nc',\n nan,\n nan,\n 'https://www.ebay.com/itm/115111822719?nordt=true&orig_cvip=true&rt=nc',\n nan,\n nan,\n nan,\n 'https://www.ebay.com/itm/134283349943?nordt=true&orig_cvip=true&rt=nc',\n nan,\n nan,\n 'https://www.ebay.com/itm/184879443244?nordt=true&orig_cvip=true&rt=nc',\n nan,\n 'https://www.ebay.com/itm/143744442378?nordt=true&orig_cvip=true&rt=nc',\n 'https://www.ebay.com/itm/125121599533?nordt=true&orig_cvip=true&rt=nc',\n 'https://www.ebay.com/itm/125464947357?nordt=true&orig_cvip=true&rt=nc',\n nan,\n 'https://www.ebay.com/itm/124888960267?nordt=true&orig_cvip=true&rt=nc',\n 'https://www.ebay.com/itm/144148545114?nordt=true&orig_cvip=true&rt=nc',\n nan,\n 'https://www.ebay.com/itm/284254311182?nordt=true&orig_cvip=true&rt=nc',\n 'https://www.ebay.com/itm/353640445665?nordt=true&orig_cvip=true&rt=nc',\n 'https://www.ebay.com/itm/274126087083?nordt=true&orig_cvip=true&rt=nc',\n 'https://www.ebay.com/itm/362435884735?nordt=true&orig_cvip=true&rt=nc',\n 'https://www.ebay.com/itm/324864256625?nordt=true&orig_cvip=true&rt=nc',\n 'https://www.ebay.com/itm/383913077364?nordt=true&orig_cvip=true&rt=nc',\n 'https://www.ebay.com/itm/274057682303?nordt=true&orig_cvip=true&rt=nc',\n nan,\n nan,\n 'https://www.ebay.com/itm/324890008231?nordt=true&orig_cvip=true&rt=nc',\n 'https://www.ebay.com/itm/393990691267?nordt=true&orig_cvip=true&rt=nc',\n nan,\n 'https://www.ebay.com/itm/255026904658?nordt=true&orig_cvip=true&rt=nc',\n nan,\n 'https://www.ebay.com/itm/313647898154?nordt=true&orig_cvip=true&rt=nc',\n 'https://www.ebay.com/itm/254038842493?nordt=true&orig_cvip=true&rt=nc',\n nan,\n 'https://www.ebay.com/itm/254922014572?nordt=true&orig_cvip=true&rt=nc',\n 'https://www.ebay.com/itm/401773239907?nordt=true&orig_cvip=true&rt=nc',\n nan,\n 'https://www.ebay.com/itm/125464947357?nordt=true&orig_cvip=true&rt=nc',\n nan,\n 'https://www.ebay.com/itm/124888960267?nordt=true&orig_cvip=true&rt=nc',\n 'https://www.ebay.com/itm/144148545114?nordt=true&orig_cvip=true&rt=nc',\n nan,\n 'https://www.ebay.com/itm/154302216230?nordt=true&orig_cvip=true&rt=nc',\n 'https://www.ebay.com/itm/183523799688?nordt=true&orig_cvip=true&rt=nc',\n 'https://www.ebay.com/itm/125053760063?nordt=true&orig_cvip=true&rt=nc',\n 'https://www.ebay.com/itm/183852179004?nordt=true&orig_cvip=true&rt=nc',\n nan,\n nan,\n 'https://www.ebay.com/itm/385371055183?nordt=true&orig_cvip=true&rt=nc',\n 'https://www.ebay.com/itm/194944680102?nordt=true&orig_cvip=true&rt=nc',\n nan,\n 'https://www.ebay.com/itm/254775601930?nordt=true&orig_cvip=true&rt=nc',\n 'https://www.ebay.com/itm/115159778984?nordt=true&orig_cvip=true&rt=nc',\n nan,\n nan,\n 'https://www.ebay.com/itm/144086301742?nordt=true&orig_cvip=true&rt=nc',\n nan,\n 'https://www.ebay.com/itm/202795461959?nordt=true&orig_cvip=true&rt=nc',\n 'https://www.ebay.com/itm/114690153019?nordt=true&orig_cvip=true&rt=nc',\n 'https://www.ebay.com/itm/175037333955?nordt=true&orig_cvip=true&rt=nc',\n 'https://www.ebay.com/itm/266102396154?nordt=true&orig_cvip=true&rt=nc',\n nan,\n nan,\n 'https://www.ebay.com/itm/194969873264?nordt=true&orig_cvip=true&rt=nc',\n 'https://www.ebay.com/itm/203607016547?nordt=true&orig_cvip=true&rt=nc',\n nan,\n nan,\n 'https://www.ebay.com/itm/383851942103?nordt=true&orig_cvip=true&rt=nc',\n nan,\n 'https://www.ebay.com/itm/384672996491?nordt=true&orig_cvip=true&rt=nc',\n nan,\n 'https://www.ebay.com/itm/401303606213?nordt=true&orig_cvip=true&rt=nc',\n 'https://www.ebay.com/itm/254995427714?nordt=true&orig_cvip=true&rt=nc',\n nan,\n 'https://www.ebay.com/itm/264854434421?nordt=true&orig_cvip=true&rt=nc',\n 'https://www.ebay.com/itm/313643804598?nordt=true&orig_cvip=true&rt=nc',\n nan,\n 'https://www.ebay.com/itm/402927669238?nordt=true&orig_cvip=true&rt=nc',\n 'https://www.ebay.com/itm/264393988484?nordt=true&orig_cvip=true&rt=nc',\n 'https://www.ebay.com/itm/193600718431?nordt=true&orig_cvip=true&rt=nc',\n nan,\n nan,\n 'https://www.ebay.com/itm/325462044268?nordt=true&orig_cvip=true&rt=nc',\n nan,\n nan,\n 'https://www.ebay.com/itm/194969873264?nordt=true&orig_cvip=true&rt=nc',\n 'https://www.ebay.com/itm/193303778538?nordt=true&orig_cvip=true&rt=nc',\n 'https://www.ebay.com/itm/203509905883?nordt=true&orig_cvip=true&rt=nc',\n 'https://www.ebay.com/itm/203607016547?nordt=true&orig_cvip=true&rt=nc',\n nan,\n 'https://www.ebay.com/itm/254976818945?nordt=true&orig_cvip=true&rt=nc',\n nan,\n 'https://www.ebay.com/itm/175060181744?nordt=true&orig_cvip=true&rt=nc',\n nan,\n 'https://www.ebay.com/itm/225041509407?nordt=true&orig_cvip=true&rt=nc',\n nan,\n 'https://www.ebay.com/itm/144275329295?nordt=true&orig_cvip=true&rt=nc',\n 'https://www.ebay.com/itm/194302277016?nordt=true&orig_cvip=true&rt=nc',\n 'https://www.ebay.com/itm/254835926946?nordt=true&orig_cvip=true&rt=nc',\n nan,\n 'https://www.ebay.com/itm/144041616501?nordt=true&orig_cvip=true&rt=nc',\n 'https://www.ebay.com/itm/224167168071?nordt=true&orig_cvip=true&rt=nc',\n 'https://www.ebay.com/itm/225253024927?nordt=true&orig_cvip=true&rt=nc',\n 'https://www.ebay.com/itm/203341001926?nordt=true&orig_cvip=true&rt=nc',\n 'https://www.ebay.com/itm/255863999753?nordt=true&orig_cvip=true&rt=nc',\n nan,\n 'https://www.ebay.com/itm/202831488627?nordt=true&orig_cvip=true&rt=nc',\n nan,\n 'https://www.ebay.com/itm/275564109930?nordt=true&orig_cvip=true&rt=nc',\n 'https://www.ebay.com/itm/234698929607?nordt=true&orig_cvip=true&rt=nc',\n 'https://www.ebay.com/itm/125187581973?nordt=true&orig_cvip=true&rt=nc',\n nan,\n 'https://www.ebay.com/itm/193320369297?nordt=true&orig_cvip=true&rt=nc',\n 'https://www.ebay.com/itm/194456218904?nordt=true&orig_cvip=true&rt=nc',\n 'https://www.ebay.com/itm/125065477214?nordt=true&orig_cvip=true&rt=nc',\n 'https://www.ebay.com/itm/125062140809?nordt=true&orig_cvip=true&rt=nc',\n nan,\n 'https://www.ebay.com/itm/383242901068?nordt=true&orig_cvip=true&rt=nc',\n 'https://www.ebay.com/itm/403570859319?nordt=true&orig_cvip=true&rt=nc',\n nan,\n nan,\n nan,\n nan,\n nan,\n nan,\n 'https://www.ebay.com/itm/402679012581?nordt=true&orig_cvip=true&rt=nc',\n 'https://www.ebay.com/itm/364013107027?nordt=true&orig_cvip=true&rt=nc',\n nan,\n nan,\n 'https://www.ebay.com/itm/255062634927?nordt=true&orig_cvip=true&rt=nc',\n nan,\n 'https://www.ebay.com/itm/125065477214?nordt=true&orig_cvip=true&rt=nc',\n 'https://www.ebay.com/itm/125062140809?nordt=true&orig_cvip=true&rt=nc',\n nan,\n nan,\n nan,\n 'https://www.ebay.com/itm/143932906791?nordt=true&orig_cvip=true&rt=nc',\n 'https://www.ebay.com/itm/113701518148?nordt=true&orig_cvip=true&rt=nc',\n 'https://www.ebay.com/itm/294381041990?nordt=true&orig_cvip=true&rt=nc',\n 'https://www.ebay.com/itm/164856267246?nordt=true&orig_cvip=true&rt=nc',\n nan,\n nan,\n nan,\n 'https://www.ebay.com/itm/233961691528?nordt=true&orig_cvip=true&rt=nc',\n nan,\n nan,\n 'https://www.ebay.com/itm/194297528016?nordt=true&orig_cvip=true&rt=nc',\n nan,\n 'https://www.ebay.com/itm/254467604626?nordt=true&orig_cvip=true&rt=nc',\n 'https://www.ebay.com/itm/175218809985?nordt=true&orig_cvip=true&rt=nc',\n 'https://www.ebay.com/itm/275436164404?nordt=true&orig_cvip=true&rt=nc',\n 'https://www.ebay.com/itm/114975211521?nordt=true&orig_cvip=true&rt=nc',\n 'https://www.ebay.com/itm/164691966277?nordt=true&orig_cvip=true&rt=nc',\n 'https://www.ebay.com/itm/174218584845?nordt=true&orig_cvip=true&rt=nc',\n nan,\n 'https://www.ebay.com/itm/195352648229?nordt=true&orig_cvip=true&rt=nc',\n nan,\n 'https://www.ebay.com/itm/174726618385?nordt=true&orig_cvip=true&rt=nc',\n nan,\n 'https://www.ebay.com/itm/124777535962?nordt=true&orig_cvip=true&rt=nc',\n nan,\n 'https://www.ebay.com/itm/154513019808?nordt=true&orig_cvip=true&rt=nc',\n nan,\n nan,\n 'https://www.ebay.com/itm/184660868051?nordt=true&orig_cvip=true&rt=nc',\n 'https://www.ebay.com/itm/223750746914?nordt=true&orig_cvip=true&rt=nc',\n 'https://www.ebay.com/itm/144032652820?nordt=true&orig_cvip=true&rt=nc',\n 'https://www.ebay.com/itm/401692084110?nordt=true&orig_cvip=true&rt=nc',\n 'https://www.ebay.com/itm/403043868287?nordt=true&orig_cvip=true&rt=nc',\n 'https://www.ebay.com/itm/382167562570?nordt=true&orig_cvip=true&rt=nc',\n 'https://www.ebay.com/itm/403088185249?nordt=true&orig_cvip=true&rt=nc',\n 'https://www.ebay.com/itm/373074170996?nordt=true&orig_cvip=true&rt=nc',\n 'https://www.ebay.com/itm/363606310689?nordt=true&orig_cvip=true&rt=nc',\n 'https://www.ebay.com/itm/284149683024?nordt=true&orig_cvip=true&rt=nc',\n 'https://www.ebay.com/itm/363789183414?nordt=true&orig_cvip=true&rt=nc',\n 'https://www.ebay.com/itm/402679018259?nordt=true&orig_cvip=true&rt=nc',\n nan,\n 'https://www.ebay.com/itm/313643815855?nordt=true&orig_cvip=true&rt=nc',\n nan,\n nan,\n 'https://www.ebay.com/itm/184660868051?nordt=true&orig_cvip=true&rt=nc',\n 'https://www.ebay.com/itm/254574854591?nordt=true&orig_cvip=true&rt=nc',\n 'https://www.ebay.com/itm/404124939335?nordt=true&orig_cvip=true&rt=nc',\n 'https://www.ebay.com/itm/223750746914?nordt=true&orig_cvip=true&rt=nc',\n 'https://www.ebay.com/itm/144032652820?nordt=true&orig_cvip=true&rt=nc',\n 'https://www.ebay.com/itm/174165785618?nordt=true&orig_cvip=true&rt=nc',\n nan,\n nan,\n 'https://www.ebay.com/itm/183820210929?nordt=true&orig_cvip=true&rt=nc',\n nan,\n 'https://www.ebay.com/itm/184593315202?nordt=true&orig_cvip=true&rt=nc',\n 'https://www.ebay.com/itm/194994080190?nordt=true&orig_cvip=true&rt=nc',\n 'https://www.ebay.com/itm/255534549715?nordt=true&orig_cvip=true&rt=nc',\n 'https://www.ebay.com/itm/192999206009?nordt=true&orig_cvip=true&rt=nc',\n 'https://www.ebay.com/itm/275042951886?nordt=true&orig_cvip=true&rt=nc',\n 'https://www.ebay.com/itm/193602425391?nordt=true&orig_cvip=true&rt=nc',\n 'https://www.ebay.com/itm/225071975827?nordt=true&orig_cvip=true&rt=nc',\n 'https://www.ebay.com/itm/284649559069?nordt=true&orig_cvip=true&rt=nc',\n 'https://www.ebay.com/itm/324764852548?nordt=true&orig_cvip=true&rt=nc',\n 'https://www.ebay.com/itm/265502968194?nordt=true&orig_cvip=true&rt=nc',\n 'https://www.ebay.com/itm/114934562488?nordt=true&orig_cvip=true&rt=nc',\n 'https://www.ebay.com/itm/225022975405?nordt=true&orig_cvip=true&rt=nc',\n 'https://www.ebay.com/itm/114661257076?nordt=true&orig_cvip=true&rt=nc',\n 'https://www.ebay.com/itm/255059081459?nordt=true&orig_cvip=true&rt=nc',\n nan,\n 'https://www.ebay.com/itm/174901360301?nordt=true&orig_cvip=true&rt=nc',\n 'https://www.ebay.com/itm/255702598592?nordt=true&orig_cvip=true&rt=nc',\n 'https://www.ebay.com/itm/124519586330?nordt=true&orig_cvip=true&rt=nc',\n nan,\n 'https://www.ebay.com/itm/254470000211?nordt=true&orig_cvip=true&rt=nc',\n 'https://www.ebay.com/itm/194306624490?nordt=true&orig_cvip=true&rt=nc',\n nan,\n 'https://www.ebay.com/itm/144967883306?nordt=true&orig_cvip=true&rt=nc',\n 'https://www.ebay.com/itm/194299771051?nordt=true&orig_cvip=true&rt=nc',\n nan,\n 'https://www.ebay.com/itm/184531956434?nordt=true&orig_cvip=true&rt=nc',\n 'https://www.ebay.com/itm/185397719298?nordt=true&orig_cvip=true&rt=nc',\n 'https://www.ebay.com/itm/402599933951?nordt=true&orig_cvip=true&rt=nc',\n 'https://www.ebay.com/itm/403246244244?nordt=true&orig_cvip=true&rt=nc',\n 'https://www.ebay.com/itm/384308530199?nordt=true&orig_cvip=true&rt=nc',\n nan,\n nan,\n 'https://www.ebay.com/itm/294175876495?nordt=true&orig_cvip=true&rt=nc',\n 'https://www.ebay.com/itm/324764852548?nordt=true&orig_cvip=true&rt=nc',\n nan,\n nan,\n nan,\n 'https://www.ebay.com/itm/124519586330?nordt=true&orig_cvip=true&rt=nc',\n nan,\n 'https://www.ebay.com/itm/254470000211?nordt=true&orig_cvip=true&rt=nc',\n 'https://www.ebay.com/itm/194306624490?nordt=true&orig_cvip=true&rt=nc',\n nan,\n 'https://www.ebay.com/itm/312259316341?nordt=true&orig_cvip=true&rt=nc',\n 'https://www.ebay.com/itm/144967883306?nordt=true&orig_cvip=true&rt=nc',\n 'https://www.ebay.com/itm/194299771051?nordt=true&orig_cvip=true&rt=nc',\n 'https://www.ebay.com/itm/284171810620?nordt=true&orig_cvip=true&rt=nc',\n nan,\n 'https://www.ebay.com/itm/184531956434?nordt=true&orig_cvip=true&rt=nc',\n 'https://www.ebay.com/itm/185397719298?nordt=true&orig_cvip=true&rt=nc',\n 'https://www.ebay.com/itm/185532570273?nordt=true&orig_cvip=true&rt=nc',\n 'https://www.ebay.com/itm/225460643275?nordt=true&orig_cvip=true&rt=nc',\n 'https://www.ebay.com/itm/255374972423?nordt=true&orig_cvip=true&rt=nc',\n nan,\n nan,\n 'https://www.ebay.com/itm/114930431481?nordt=true&orig_cvip=true&rt=nc',\n nan,\n 'https://www.ebay.com/itm/174911584500?nordt=true&orig_cvip=true&rt=nc',\n nan,\n nan,\n 'https://www.ebay.com/itm/224532681180?nordt=true&orig_cvip=true&rt=nc',\n nan,\n nan,\n nan,\n 'https://www.ebay.com/itm/313643795539?nordt=true&orig_cvip=true&rt=nc',\n nan,\n 'https://www.ebay.com/itm/204036663040?nordt=true&orig_cvip=true&rt=nc',\n nan,\n nan,\n nan,\n 'https://www.ebay.com/itm/254497137103?nordt=true&orig_cvip=true&rt=nc',\n 'https://www.ebay.com/itm/113848481976?nordt=true&orig_cvip=true&rt=nc',\n nan,\n 'https://www.ebay.com/itm/255178803420?nordt=true&orig_cvip=true&rt=nc',\n nan,\n 'https://www.ebay.com/itm/134116496174?nordt=true&orig_cvip=true&rt=nc',\n 'https://www.ebay.com/itm/255662915528?nordt=true&orig_cvip=true&rt=nc',\n nan,\n 'https://www.ebay.com/itm/402599921279?nordt=true&orig_cvip=true&rt=nc',\n 'https://www.ebay.com/itm/382745110337?nordt=true&orig_cvip=true&rt=nc',\n 'https://www.ebay.com/itm/383679977774?nordt=true&orig_cvip=true&rt=nc',\n 'https://www.ebay.com/itm/393387662614?nordt=true&orig_cvip=true&rt=nc',\n 'https://www.ebay.com/itm/333556258715?nordt=true&orig_cvip=true&rt=nc',\n 'https://www.ebay.com/itm/113848481976?nordt=true&orig_cvip=true&rt=nc',\n nan,\n 'https://www.ebay.com/itm/255178803420?nordt=true&orig_cvip=true&rt=nc',\n 'https://www.ebay.com/itm/284207196862?nordt=true&orig_cvip=true&rt=nc',\n nan,\n nan,\n 'https://www.ebay.com/itm/134116496174?nordt=true&orig_cvip=true&rt=nc',\n 'https://www.ebay.com/itm/255662915528?nordt=true&orig_cvip=true&rt=nc',\n nan,\n 'https://www.ebay.com/itm/174673676839?nordt=true&orig_cvip=true&rt=nc',\n 'https://www.ebay.com/itm/174798673790?nordt=true&orig_cvip=true&rt=nc',\n 'https://www.ebay.com/itm/203600323300?nordt=true&orig_cvip=true&rt=nc',\n nan,\n 'https://www.ebay.com/itm/374118931119?nordt=true&orig_cvip=true&rt=nc',\n 'https://www.ebay.com/itm/114782470119?nordt=true&orig_cvip=true&rt=nc',\n nan,\n nan,\n 'https://www.ebay.com/itm/203975027812?nordt=true&orig_cvip=true&rt=nc',\n 'https://www.ebay.com/itm/204087985733?nordt=true&orig_cvip=true&rt=nc',\n 'https://www.ebay.com/itm/254434966762?nordt=true&orig_cvip=true&rt=nc',\n nan,\n nan,\n 'https://www.ebay.com/itm/363994799020?nordt=true&orig_cvip=true&rt=nc',\n nan,\n nan,\n 'https://www.ebay.com/itm/193700766436?nordt=true&orig_cvip=true&rt=nc',\n nan,\n nan,\n 'https://www.ebay.com/itm/115296789546?nordt=true&orig_cvip=true&rt=nc',\n nan,\n 'https://www.ebay.com/itm/134406545912?nordt=true&orig_cvip=true&rt=nc',\n nan,\n 'https://www.ebay.com/itm/174955432545?nordt=true&orig_cvip=true&rt=nc',\n 'https://www.ebay.com/itm/223182807250?nordt=true&orig_cvip=true&rt=nc',\n nan,\n 'https://www.ebay.com/itm/254737765290?nordt=true&orig_cvip=true&rt=nc',\n 'https://www.ebay.com/itm/254740560062?nordt=true&orig_cvip=true&rt=nc',\n nan,\n 'https://www.ebay.com/itm/255001408706?nordt=true&orig_cvip=true&rt=nc',\n 'https://www.ebay.com/itm/124822746274?nordt=true&orig_cvip=true&rt=nc',\n 'https://www.ebay.com/itm/364051127926?nordt=true&orig_cvip=true&rt=nc',\n nan,\n nan,\n 'https://www.ebay.com/itm/193176249358?nordt=true&orig_cvip=true&rt=nc',\n 'https://www.ebay.com/itm/314154440299?nordt=true&orig_cvip=true&rt=nc',\n 'https://www.ebay.com/itm/401701520722?nordt=true&orig_cvip=true&rt=nc',\n 'https://www.ebay.com/itm/402050081302?nordt=true&orig_cvip=true&rt=nc',\n 'https://www.ebay.com/itm/403083766385?nordt=true&orig_cvip=true&rt=nc',\n 'https://www.ebay.com/itm/382031276885?nordt=true&orig_cvip=true&rt=nc',\n 'https://www.ebay.com/itm/402071722493?nordt=true&orig_cvip=true&rt=nc',\n 'https://www.ebay.com/itm/324569603115?nordt=true&orig_cvip=true&rt=nc',\n 'https://www.ebay.com/itm/363318325397?nordt=true&orig_cvip=true&rt=nc',\n 'https://www.ebay.com/itm/124822746274?nordt=true&orig_cvip=true&rt=nc',\n 'https://www.ebay.com/itm/364051127926?nordt=true&orig_cvip=true&rt=nc',\n nan,\n nan,\n 'https://www.ebay.com/itm/193176249358?nordt=true&orig_cvip=true&rt=nc',\n nan,\n 'https://www.ebay.com/itm/314154440299?nordt=true&orig_cvip=true&rt=nc',\n 'https://www.ebay.com/itm/403448551891?nordt=true&orig_cvip=true&rt=nc',\n nan,\n 'https://www.ebay.com/itm/254189911318?nordt=true&orig_cvip=true&rt=nc',\n 'https://www.ebay.com/itm/364016785976?nordt=true&orig_cvip=true&rt=nc',\n nan,\n 'https://www.ebay.com/itm/225152256686?nordt=true&orig_cvip=true&rt=nc',\n nan,\n nan,\n nan,\n 'https://www.ebay.com/itm/284864504402?nordt=true&orig_cvip=true&rt=nc',\n 'https://www.ebay.com/itm/144342584986?nordt=true&orig_cvip=true&rt=nc',\n nan,\n 'https://www.ebay.com/itm/254719885222?nordt=true&orig_cvip=true&rt=nc',\n 'https://www.ebay.com/itm/363884191049?nordt=true&orig_cvip=true&rt=nc',\n nan,\n nan,\n nan,\n nan,\n 'https://www.ebay.com/itm/175219758127?nordt=true&orig_cvip=true&rt=nc',\n 'https://www.ebay.com/itm/334300581934?nordt=true&orig_cvip=true&rt=nc',\n nan,\n 'https://www.ebay.com/itm/193322614988?nordt=true&orig_cvip=true&rt=nc',\n nan,\n nan,\n 'https://www.ebay.com/itm/363946692318?nordt=true&orig_cvip=true&rt=nc',\n 'https://www.ebay.com/itm/385437700621?nordt=true&orig_cvip=true&rt=nc',\n nan,\n 'https://www.ebay.com/itm/284127186553?nordt=true&orig_cvip=true&rt=nc',\n 'https://www.ebay.com/itm/203795713410?nordt=true&orig_cvip=true&rt=nc',\n 'https://www.ebay.com/itm/164363187824?nordt=true&orig_cvip=true&rt=nc',\n nan,\n 'https://www.ebay.com/itm/193347946564?nordt=true&orig_cvip=true&rt=nc',\n 'https://www.ebay.com/itm/255113699970?nordt=true&orig_cvip=true&rt=nc',\n 'https://www.ebay.com/itm/284564753905?nordt=true&orig_cvip=true&rt=nc',\n 'https://www.ebay.com/itm/183906942725?nordt=true&orig_cvip=true&rt=nc',\n 'https://www.ebay.com/itm/202490325359?nordt=true&orig_cvip=true&rt=nc',\n 'https://www.ebay.com/itm/402890925051?nordt=true&orig_cvip=true&rt=nc',\n 'https://www.ebay.com/itm/401802475382?nordt=true&orig_cvip=true&rt=nc',\n 'https://www.ebay.com/itm/363132933932?nordt=true&orig_cvip=true&rt=nc',\n 'https://www.ebay.com/itm/401993810310?nordt=true&orig_cvip=true&rt=nc',\n 'https://www.ebay.com/itm/402909477224?nordt=true&orig_cvip=true&rt=nc',\n 'https://www.ebay.com/itm/401711934789?nordt=true&orig_cvip=true&rt=nc',\n 'https://www.ebay.com/itm/352615843654?nordt=true&orig_cvip=true&rt=nc',\n 'https://www.ebay.com/itm/363276125904?nordt=true&orig_cvip=true&rt=nc',\n 'https://www.ebay.com/itm/383253407889?nordt=true&orig_cvip=true&rt=nc',\n 'https://www.ebay.com/itm/383852094252?nordt=true&orig_cvip=true&rt=nc',\n nan,\n 'https://www.ebay.com/itm/203795713410?nordt=true&orig_cvip=true&rt=nc',\n 'https://www.ebay.com/itm/164363187824?nordt=true&orig_cvip=true&rt=nc',\n nan,\n 'https://www.ebay.com/itm/193347946564?nordt=true&orig_cvip=true&rt=nc',\n 'https://www.ebay.com/itm/255113699970?nordt=true&orig_cvip=true&rt=nc',\n 'https://www.ebay.com/itm/284564753905?nordt=true&orig_cvip=true&rt=nc',\n nan,\n 'https://www.ebay.com/itm/183906942725?nordt=true&orig_cvip=true&rt=nc',\n 'https://www.ebay.com/itm/202490325359?nordt=true&orig_cvip=true&rt=nc',\n nan,\n 'https://www.ebay.com/itm/124883068921?nordt=true&orig_cvip=true&rt=nc',\n nan,\n 'https://www.ebay.com/itm/185015120081?nordt=true&orig_cvip=true&rt=nc',\n nan,\n nan,\n 'https://www.ebay.com/itm/403091026124?nordt=true&orig_cvip=true&rt=nc',\n nan,\n 'https://www.ebay.com/itm/194516793782?nordt=true&orig_cvip=true&rt=nc',\n nan,\n 'https://www.ebay.com/itm/274651619607?nordt=true&orig_cvip=true&rt=nc',\n nan,\n 'https://www.ebay.com/itm/115201037759?nordt=true&orig_cvip=true&rt=nc',\n nan,\n 'https://www.ebay.com/itm/193344075876?nordt=true&orig_cvip=true&rt=nc',\n nan,\n 'https://www.ebay.com/itm/114690140441?nordt=true&orig_cvip=true&rt=nc',\n 'https://www.ebay.com/itm/144747997919?nordt=true&orig_cvip=true&rt=nc',\n 'https://www.ebay.com/itm/193322607001?nordt=true&orig_cvip=true&rt=nc',\n 'https://www.ebay.com/itm/274076439585?nordt=true&orig_cvip=true&rt=nc',\n 'https://www.ebay.com/itm/313646460341?nordt=true&orig_cvip=true&rt=nc',\n nan,\n 'https://www.ebay.com/itm/174168225624?nordt=true&orig_cvip=true&rt=nc',\n 'https://www.ebay.com/itm/203600333653?nordt=true&orig_cvip=true&rt=nc',\n nan,\n nan,\n 'https://www.ebay.com/itm/134011051443?nordt=true&orig_cvip=true&rt=nc',\n 'https://www.ebay.com/itm/164961612797?nordt=true&orig_cvip=true&rt=nc',\n 'https://www.ebay.com/itm/194194277964?nordt=true&orig_cvip=true&rt=nc',\n 'https://www.ebay.com/itm/225223714792?nordt=true&orig_cvip=true&rt=nc',\n ...]"
     },
     "execution_count": 3,
     "metadata": {},
     "output_type": "execute_result"
    }
   ],
   "source": [
    "Links = df.Link.tolist()\n",
    "Links"
   ],
   "metadata": {
    "collapsed": false,
    "pycharm": {
     "name": "#%%\n"
    }
   }
  },
  {
   "cell_type": "code",
   "execution_count": 4,
   "outputs": [
    {
     "data": {
      "text/plain": "False"
     },
     "execution_count": 4,
     "metadata": {},
     "output_type": "execute_result"
    }
   ],
   "source": [
    "while np.nan in Links:\n",
    "    Links.remove(np.nan)\n",
    "None in Links"
   ],
   "metadata": {
    "collapsed": false,
    "pycharm": {
     "name": "#%%\n"
    }
   }
  },
  {
   "cell_type": "code",
   "execution_count": 5,
   "outputs": [
    {
     "data": {
      "text/plain": "1755"
     },
     "execution_count": 5,
     "metadata": {},
     "output_type": "execute_result"
    }
   ],
   "source": [
    "len(Links)"
   ],
   "metadata": {
    "collapsed": false,
    "pycharm": {
     "name": "#%%\n"
    }
   }
  },
  {
   "cell_type": "code",
   "execution_count": null,
   "outputs": [],
   "source": [
    "# настраиваем драйвер\n",
    "options = Options()\n",
    "options.headless = True  # hide GUI\n",
    "options.add_argument(\"--window-size=1920,1080\")  # set window size to native GUI size\n",
    "options.add_argument(\"start-maximized\")  # ensure window is full-screen\n",
    "\n",
    "# Настраиваем браузер, чтобы он не грузил Java и картинки\n",
    "chrome_options = webdriver.ChromeOptions()\n",
    "driver = webdriver.Chrome(options=options, chrome_options=chrome_options)\n",
    "\n",
    "# Делаем запрос\n",
    "driver.get(\"https://www.ebay.com/sh/research?marketplace=EBAY-US&keywords=Smartphones&dayRange=730&endDate=1684051559220&startDate=1620979559220&categoryId=9355&offset=0&limit=50&tabName=SOLD&tz=Europe%2FMoscow\")\n",
    "\n",
    "#Атдыхаем, ждём загрузку\n",
    "time.sleep(5)"
   ],
   "metadata": {
    "collapsed": false,
    "pycharm": {
     "name": "#%%\n"
    }
   }
  },
  {
   "cell_type": "code",
   "execution_count": 16,
   "outputs": [],
   "source": [
    "characteristics_df = pd.DataFrame()"
   ],
   "metadata": {
    "collapsed": false,
    "pycharm": {
     "name": "#%%\n"
    }
   }
  },
  {
   "cell_type": "code",
   "execution_count": null,
   "outputs": [
    {
     "name": "stderr",
     "output_type": "stream",
     "text": [
      "  0%|          | 0/1200 [00:00<?, ?it/s]"
     ]
    }
   ],
   "source": [
    "unavaible = []\n",
    "for cur_link in tqdm(Links[0:1200]):\n",
    "        if cur_link!= None:\n",
    "            try:\n",
    "                driver.get(cur_link)\n",
    "                driver.execute_script(\"window.scrollTo(0, document.body.scrollHeight);\")\n",
    "                time.sleep(randint(1, 5))\n",
    "                html = driver.page_source\n",
    "                soup2 = BeautifulSoup(html, 'html.parser')\n",
    "                title_tag = soup2.find('h1', {'class': 'x-item-title__mainTitle'})\n",
    "                title_text = title_tag.text.strip()\n",
    "                parent_element = driver.find_element(By.CLASS_NAME, 'ux-layout-section--features')\n",
    "                characteristics = parent_element.text.split(\"\\n\")\n",
    "                characteristics_data = {\"Title\": title_text, \"Link\": cur_link}\n",
    "                for i in range(len(characteristics)):\n",
    "                    if i%2==0:\n",
    "                        name = characteristics[i]\n",
    "                    else:\n",
    "                        value = characteristics[i]\n",
    "                        characteristics_data[name] = value\n",
    "\n",
    "                characteristics_df = characteristics_df.append(characteristics_data, ignore_index=True)\n",
    "            except:\n",
    "                print(\"Сорян, не полусилось:\", cur_link)\n",
    "                unavaible.append(cur_link)\n",
    "        pass\n",
    "\n",
    "characteristics_df.to_csv(\"characteristics_df.tsv\", sep='\\t', index=False)"
   ],
   "metadata": {
    "collapsed": false,
    "pycharm": {
     "name": "#%%\n",
     "is_executing": true
    }
   }
  },
  {
   "cell_type": "code",
   "execution_count": 20,
   "outputs": [
    {
     "data": {
      "text/plain": "                                                Title  \\\n0   Apple iPhone 11 64GB Factory Unlocked 4G LTE S...   \n1   Apple iPhone XR 64GB Factory Unlocked Smartpho...   \n2   Apple iPhone 11 64GB Unlocked Smartphone - Ver...   \n3   Apple iPhone X 64GB Factory Unlocked Phone - V...   \n4   Apple iPhone X 256GB Unlocked Smartphone - Ver...   \n5   Samsung G960 Galaxy S9 64GB Factory Unlocked S...   \n6   Apple iPhone 8 Plus 64GB Unlocked Smartphone -...   \n7   Apple iPhone 11 64GB Factory Unlocked 4G LTE S...   \n8   Samsung Galaxy S10 G973U 128GB Factory Unlocke...   \n9   Samsung G965 Galaxy S9+ Plus 64GB Factory Unlo...   \n10  Samsung N960 Galaxy Note 9 128GB Factory Unloc...   \n11  Apple iPhone XS 64GB Factory Unlocked 4G LTE i...   \n12  Apple iPhone XR 64GB Factory Unlocked Smartpho...   \n13  Samsung G975 Galaxy S10+ Plus 128GB Factory Un...   \n14  Samsung Galaxy S9 Unlocked | T-Mobile AT&T Ver...   \n15  Samsung Galaxy S10+ G975U 128GB Unlocked - Ver...   \n16  Apple iPhone 11 Pro Max 64GB Unlocked Smartpho...   \n17  Apple iPhone 11 128GB Factory Unlocked 4G LTE ...   \n18  Apple iPhone 7 32GB GSM Factory Unlocked 4G LT...   \n19  Google Pixel 5 5G Factory Unlocked 128GB Smart...   \n20  Samsung G970 Galaxy S10e 128GB Factory Unlocke...   \n21  Samsung  Galaxy S21 5G 128GB G991U Fully Unloc...   \n22  Apple iPhone 11 Pro Max 256GB Unlocked Smartph...   \n23  Samsung N975 Galaxy Note 10+ Plus 256GB Unlock...   \n24  Samsung Galaxy S10e G970U 128GB Factory Unlock...   \n25  Samsung G973 Galaxy S10 128GB Factory Unlocked...   \n26  Apple iPhone 7 Plus 128GB Unlocked Smartphone ...   \n\n                                                 Link  \\\n0   https://www.ebay.com/itm/254604777645?nordt=tr...   \n1   https://www.ebay.com/itm/254187678666?nordt=tr...   \n2   https://www.ebay.com/itm/363183815277?nordt=tr...   \n3   https://www.ebay.com/itm/382605209867?nordt=tr...   \n4   https://www.ebay.com/itm/382446518910?nordt=tr...   \n5   https://www.ebay.com/itm/401763851775?nordt=tr...   \n6   https://www.ebay.com/itm/362534145919?nordt=tr...   \n7   https://www.ebay.com/itm/254733458977?nordt=tr...   \n8   https://www.ebay.com/itm/254449547850?nordt=tr...   \n9   https://www.ebay.com/itm/362643917935?nordt=tr...   \n10  https://www.ebay.com/itm/362643928499?nordt=tr...   \n11  https://www.ebay.com/itm/254343826760?nordt=tr...   \n12  https://www.ebay.com/itm/383240884447?nordt=tr...   \n13  https://www.ebay.com/itm/403272229686?nordt=tr...   \n14  https://www.ebay.com/itm/284035968027?nordt=tr...   \n15  https://www.ebay.com/itm/254497147383?nordt=tr...   \n16  https://www.ebay.com/itm/402561477570?nordt=tr...   \n17  https://www.ebay.com/itm/254726029927?nordt=tr...   \n18  https://www.ebay.com/itm/193380000263?nordt=tr...   \n19  https://www.ebay.com/itm/224743929590?nordt=tr...   \n20  https://www.ebay.com/itm/382980837076?nordt=tr...   \n21  https://www.ebay.com/itm/254986400075?nordt=tr...   \n22  https://www.ebay.com/itm/363183789732?nordt=tr...   \n23  https://www.ebay.com/itm/383859582143?nordt=tr...   \n24  https://www.ebay.com/itm/254362722440?nordt=tr...   \n25  https://www.ebay.com/itm/383056866223?nordt=tr...   \n26  https://www.ebay.com/itm/382248638826?nordt=tr...   \n\n                  Condition  \\\n0   Very Good - Refurbished   \n1   Very Good - Refurbished   \n2   Very Good - Refurbished   \n3   Very Good - Refurbished   \n4   Very Good - Refurbished   \n5   Very Good - Refurbished   \n6   Very Good - Refurbished   \n7        Good - Refurbished   \n8   Very Good - Refurbished   \n9   Very Good - Refurbished   \n10  Very Good - Refurbished   \n11  Very Good - Refurbished   \n12  Very Good - Refurbished   \n13  Very Good - Refurbished   \n14       Good - Refurbished   \n15  Very Good - Refurbished   \n16  Very Good - Refurbished   \n17  Very Good - Refurbished   \n18                     Used   \n19       Good - Refurbished   \n20  Very Good - Refurbished   \n21  Very Good - Refurbished   \n22  Very Good - Refurbished   \n23  Very Good - Refurbished   \n24  Very Good - Refurbished   \n25  Very Good - Refurbished   \n26  Very Good - Refurbished   \n\n                                         Seller Notes about the seller notes  \\\n0   “This iPhone 11 is in Very Good condition and ...                  Brand   \n1   “This Apple iPhone XR 64GB Factory Unlocked Sm...                  Brand   \n2   “This is a B+ Stock item, meaning unit is in v...      Camera Resolution   \n3   “This is a B+ Stock item, meaning unit is in v...      Camera Resolution   \n4   “This is a B+ Stock item, meaning unit is in v...      Camera Resolution   \n5   “This is a B+ Stock item, meaning unit is in v...      Camera Resolution   \n6   “This is a B+ Stock item, meaning unit is in v...      Camera Resolution   \n7   “This iPhone 11 is 100% functional in Good con...                  Brand   \n8   “This Galaxy S10 is in Very Good condition and...                  Brand   \n9   “This is a B+ Stock item, meaning unit is in v...      Camera Resolution   \n10  “This is a B+ Stock item, meaning unit is in v...      Camera Resolution   \n11  “This Apple iPhone XS 64GB Factory Unlocked 4G...                  Brand   \n12  “This is a B+ Stock item, meaning unit is in v...      Camera Resolution   \n13  “This is a B+ Stock item, meaning unit is in v...      Camera Resolution   \n14  “This item is in Good Condition and will show ...                  Brand   \n15  “This Galaxy S10 Plus is in Very Good conditio...                  Brand   \n16  “This is a B+ Stock item, meaning unit is in v...      Camera Resolution   \n17  “This iPhone 11 is in Very Good condition and ...                  Brand   \n18  “Overall good working condition and will have ...                    NaN   \n19  “1 year warranty included. Bootloader can NOT ...      Camera Resolution   \n20  “This is a B+ Stock item, meaning unit is in v...      Camera Resolution   \n21  “This Samsung Galaxy S21 5G is in Very Good co...                  Brand   \n22  “This is a B+ Stock item, meaning unit is in v...      Camera Resolution   \n23  “This is a B+ Stock item, meaning unit is in v...      Camera Resolution   \n24  “This Galaxy S10e is in Very Good condition an...                  Brand   \n25  “This is a B+ Stock item, meaning unit is in v...      Camera Resolution   \n26  “This is a B+ Stock item, meaning unit is in v...      Camera Resolution   \n\n               Apple         iPhone 11           64GB    Factory Unlocked  \\\n0              Model  Storage Capacity        Network   Camera Resolution   \n1              Model               NaN        Network   Camera Resolution   \n2   Memory Card Type               NaN            NaN                 MPN   \n3   Memory Card Type               NaN  SIM Card Slot  Network Technology   \n4   Memory Card Type               NaN            NaN  Network Technology   \n5                NaN               NaN  SIM Card Slot  Manufacturer Color   \n6   Memory Card Type               NaN  SIM Card Slot  Network Technology   \n7              Model  Storage Capacity        Network   Camera Resolution   \n8                NaN               NaN            NaN   Camera Resolution   \n9                NaN               NaN  SIM Card Slot  Manufacturer Color   \n10               NaN               NaN            NaN  Manufacturer Color   \n11             Model               NaN        Network   Camera Resolution   \n12  Memory Card Type               NaN  SIM Card Slot  Network Technology   \n13               NaN               NaN            NaN  Manufacturer Color   \n14               NaN               NaN            NaN                 NaN   \n15               NaN               NaN            NaN   Camera Resolution   \n16  Memory Card Type               NaN            NaN                 MPN   \n17             Model  Storage Capacity            NaN   Camera Resolution   \n18               NaN               NaN            NaN                 NaN   \n19               NaN               NaN            NaN                 MPN   \n20               NaN               NaN            NaN  Manufacturer Color   \n21               NaN               NaN            NaN                 NaN   \n22  Memory Card Type               NaN            NaN                 MPN   \n23               NaN               NaN            NaN                 MPN   \n24               NaN               NaN            NaN   Camera Resolution   \n25               NaN               NaN            NaN  Manufacturer Color   \n26  Memory Card Type               NaN            NaN                Note   \n\n           12MP  ... 12.0MP     iPhone 7 Plus iOS - Apple  \\\n0   Screen Size  ...    NaN               NaN         NaN   \n1   Screen Size  ...    NaN               NaN         NaN   \n2           NaN  ...    NaN               NaN         NaN   \n3           NaN  ...    NaN               NaN         NaN   \n4           NaN  ...    NaN               NaN         NaN   \n5           NaN  ...    NaN               NaN         NaN   \n6           NaN  ...    NaN               NaN         NaN   \n7   Screen Size  ...    NaN               NaN         NaN   \n8   Screen Size  ...    NaN               NaN         NaN   \n9           NaN  ...    NaN               NaN         NaN   \n10          NaN  ...    NaN               NaN         NaN   \n11  Screen Size  ...    NaN               NaN         NaN   \n12          NaN  ...    NaN               NaN         NaN   \n13          NaN  ...    NaN               NaN         NaN   \n14          NaN  ...    NaN               NaN         NaN   \n15  Screen Size  ...    NaN               NaN         NaN   \n16          NaN  ...    NaN               NaN         NaN   \n17  Screen Size  ...    NaN               NaN         NaN   \n18          NaN  ...    NaN               NaN         NaN   \n19          NaN  ...    NaN               NaN         NaN   \n20          NaN  ...    NaN               NaN         NaN   \n21          NaN  ...    NaN               NaN         NaN   \n22          NaN  ...    NaN               NaN         NaN   \n23          NaN  ...    NaN               NaN         NaN   \n24  Screen Size  ...    NaN               NaN         NaN   \n25          NaN  ...    NaN               NaN         NaN   \n26          NaN  ...  Model  Operating System    Contract   \n\n   4G, Bluetooth, GPS, Wi-Fi  \\\n0                        NaN   \n1                        NaN   \n2                        NaN   \n3                        NaN   \n4                        NaN   \n5                        NaN   \n6                        NaN   \n7                        NaN   \n8                        NaN   \n9                        NaN   \n10                       NaN   \n11                       NaN   \n12                       NaN   \n13                       NaN   \n14                       NaN   \n15                       NaN   \n16                       NaN   \n17                       NaN   \n18                       NaN   \n19                       NaN   \n20                       NaN   \n21                       NaN   \n22                       NaN   \n23                       NaN   \n24                       NaN   \n25                       NaN   \n26                  Features   \n\n   Internet Browser, 4G Data Capable, Touchscreen, 4K Video Recording, Bluetooth Enabled, GPS, Music Player, Speakerphone  \\\n0                                                 NaN                                                                       \n1                                                 NaN                                                                       \n2                                                 NaN                                                                       \n3                                                 NaN                                                                       \n4                                                 NaN                                                                       \n5                                                 NaN                                                                       \n6                                                 NaN                                                                       \n7                                                 NaN                                                                       \n8                                                 NaN                                                                       \n9                                                 NaN                                                                       \n10                                                NaN                                                                       \n11                                                NaN                                                                       \n12                                                NaN                                                                       \n13                                                NaN                                                                       \n14                                                NaN                                                                       \n15                                                NaN                                                                       \n16                                                NaN                                                                       \n17                                                NaN                                                                       \n18                                                NaN                                                                       \n19                                                NaN                                                                       \n20                                                NaN                                                                       \n21                                                NaN                                                                       \n22                                                NaN                                                                       \n23                                                NaN                                                                       \n24                                                NaN                                                                       \n25                                                NaN                                                                       \n26                                       Model Number                                                                       \n\n   A1784 MN572LL/A, MN522LL/A, MN562LL/A, MN532LL/A  \\\n0    NaN                                        NaN   \n1    NaN                                        NaN   \n2    NaN                                        NaN   \n3    NaN                                        NaN   \n4    NaN                                        NaN   \n5    NaN                                        NaN   \n6    NaN                                        NaN   \n7    NaN                                        NaN   \n8    NaN                                        NaN   \n9    NaN                                        NaN   \n10   NaN                                        NaN   \n11   NaN                                        NaN   \n12   NaN                                        NaN   \n13   NaN                                        NaN   \n14   NaN                                        NaN   \n15   NaN                                        NaN   \n16   NaN                                        NaN   \n17   NaN                                        NaN   \n18   NaN                                        NaN   \n19   NaN                                        NaN   \n20   NaN                                        NaN   \n21   NaN                                        NaN   \n22   NaN                                        NaN   \n23   NaN                                        NaN   \n24   NaN                                        NaN   \n25   NaN                                        NaN   \n26   RAM                                    Network   \n\n   4G SIM Card Required - NOT included  \\\n0                                  NaN   \n1                                  NaN   \n2                                  NaN   \n3                                  NaN   \n4                                  NaN   \n5                                  NaN   \n6                                  NaN   \n7                                  NaN   \n8                                  NaN   \n9                                  NaN   \n10                                 NaN   \n11                                 NaN   \n12                                 NaN   \n13                                 NaN   \n14                                 NaN   \n15                                 NaN   \n16                                 NaN   \n17                                 NaN   \n18                                 NaN   \n19                                 NaN   \n20                                 NaN   \n21                                 NaN   \n22                                 NaN   \n23                                 NaN   \n24                                 NaN   \n25                                 NaN   \n26                  Manufacturer Color   \n\n   Gold, Rose Gold, Silver, Black, Jet Black, Red    Quad Core  \n0                                             NaN          NaN  \n1                                             NaN          NaN  \n2                                             NaN          NaN  \n3                                             NaN          NaN  \n4                                             NaN          NaN  \n5                                             NaN          NaN  \n6                                             NaN          NaN  \n7                                             NaN          NaN  \n8                                             NaN          NaN  \n9                                             NaN          NaN  \n10                                            NaN          NaN  \n11                                            NaN          NaN  \n12                                            NaN          NaN  \n13                                            NaN          NaN  \n14                                            NaN          NaN  \n15                                            NaN          NaN  \n16                                            NaN          NaN  \n17                                            NaN          NaN  \n18                                            NaN          NaN  \n19                                            NaN          NaN  \n20                                            NaN          NaN  \n21                                            NaN          NaN  \n22                                            NaN          NaN  \n23                                            NaN          NaN  \n24                                            NaN          NaN  \n25                                            NaN          NaN  \n26                               Storage Capacity  Screen Size  \n\n[27 rows x 168 columns]",
      "text/html": "<div>\n<style scoped>\n    .dataframe tbody tr th:only-of-type {\n        vertical-align: middle;\n    }\n\n    .dataframe tbody tr th {\n        vertical-align: top;\n    }\n\n    .dataframe thead th {\n        text-align: right;\n    }\n</style>\n<table border=\"1\" class=\"dataframe\">\n  <thead>\n    <tr style=\"text-align: right;\">\n      <th></th>\n      <th>Title</th>\n      <th>Link</th>\n      <th>Condition</th>\n      <th>Seller Notes</th>\n      <th>about the seller notes</th>\n      <th>Apple</th>\n      <th>iPhone 11</th>\n      <th>64GB</th>\n      <th>Factory Unlocked</th>\n      <th>12MP</th>\n      <th>...</th>\n      <th>12.0MP</th>\n      <th>iPhone 7 Plus</th>\n      <th>iOS - Apple</th>\n      <th>4G, Bluetooth, GPS, Wi-Fi</th>\n      <th>Internet Browser, 4G Data Capable, Touchscreen, 4K Video Recording, Bluetooth Enabled, GPS, Music Player, Speakerphone</th>\n      <th>A1784</th>\n      <th>MN572LL/A, MN522LL/A, MN562LL/A, MN532LL/A</th>\n      <th>4G SIM Card Required - NOT included</th>\n      <th>Gold, Rose Gold, Silver, Black, Jet Black, Red</th>\n      <th>Quad Core</th>\n    </tr>\n  </thead>\n  <tbody>\n    <tr>\n      <th>0</th>\n      <td>Apple iPhone 11 64GB Factory Unlocked 4G LTE S...</td>\n      <td>https://www.ebay.com/itm/254604777645?nordt=tr...</td>\n      <td>Very Good - Refurbished</td>\n      <td>“This iPhone 11 is in Very Good condition and ...</td>\n      <td>Brand</td>\n      <td>Model</td>\n      <td>Storage Capacity</td>\n      <td>Network</td>\n      <td>Camera Resolution</td>\n      <td>Screen Size</td>\n      <td>...</td>\n      <td>NaN</td>\n      <td>NaN</td>\n      <td>NaN</td>\n      <td>NaN</td>\n      <td>NaN</td>\n      <td>NaN</td>\n      <td>NaN</td>\n      <td>NaN</td>\n      <td>NaN</td>\n      <td>NaN</td>\n    </tr>\n    <tr>\n      <th>1</th>\n      <td>Apple iPhone XR 64GB Factory Unlocked Smartpho...</td>\n      <td>https://www.ebay.com/itm/254187678666?nordt=tr...</td>\n      <td>Very Good - Refurbished</td>\n      <td>“This Apple iPhone XR 64GB Factory Unlocked Sm...</td>\n      <td>Brand</td>\n      <td>Model</td>\n      <td>NaN</td>\n      <td>Network</td>\n      <td>Camera Resolution</td>\n      <td>Screen Size</td>\n      <td>...</td>\n      <td>NaN</td>\n      <td>NaN</td>\n      <td>NaN</td>\n      <td>NaN</td>\n      <td>NaN</td>\n      <td>NaN</td>\n      <td>NaN</td>\n      <td>NaN</td>\n      <td>NaN</td>\n      <td>NaN</td>\n    </tr>\n    <tr>\n      <th>2</th>\n      <td>Apple iPhone 11 64GB Unlocked Smartphone - Ver...</td>\n      <td>https://www.ebay.com/itm/363183815277?nordt=tr...</td>\n      <td>Very Good - Refurbished</td>\n      <td>“This is a B+ Stock item, meaning unit is in v...</td>\n      <td>Camera Resolution</td>\n      <td>Memory Card Type</td>\n      <td>NaN</td>\n      <td>NaN</td>\n      <td>MPN</td>\n      <td>NaN</td>\n      <td>...</td>\n      <td>NaN</td>\n      <td>NaN</td>\n      <td>NaN</td>\n      <td>NaN</td>\n      <td>NaN</td>\n      <td>NaN</td>\n      <td>NaN</td>\n      <td>NaN</td>\n      <td>NaN</td>\n      <td>NaN</td>\n    </tr>\n    <tr>\n      <th>3</th>\n      <td>Apple iPhone X 64GB Factory Unlocked Phone - V...</td>\n      <td>https://www.ebay.com/itm/382605209867?nordt=tr...</td>\n      <td>Very Good - Refurbished</td>\n      <td>“This is a B+ Stock item, meaning unit is in v...</td>\n      <td>Camera Resolution</td>\n      <td>Memory Card Type</td>\n      <td>NaN</td>\n      <td>SIM Card Slot</td>\n      <td>Network Technology</td>\n      <td>NaN</td>\n      <td>...</td>\n      <td>NaN</td>\n      <td>NaN</td>\n      <td>NaN</td>\n      <td>NaN</td>\n      <td>NaN</td>\n      <td>NaN</td>\n      <td>NaN</td>\n      <td>NaN</td>\n      <td>NaN</td>\n      <td>NaN</td>\n    </tr>\n    <tr>\n      <th>4</th>\n      <td>Apple iPhone X 256GB Unlocked Smartphone - Ver...</td>\n      <td>https://www.ebay.com/itm/382446518910?nordt=tr...</td>\n      <td>Very Good - Refurbished</td>\n      <td>“This is a B+ Stock item, meaning unit is in v...</td>\n      <td>Camera Resolution</td>\n      <td>Memory Card Type</td>\n      <td>NaN</td>\n      <td>NaN</td>\n      <td>Network Technology</td>\n      <td>NaN</td>\n      <td>...</td>\n      <td>NaN</td>\n      <td>NaN</td>\n      <td>NaN</td>\n      <td>NaN</td>\n      <td>NaN</td>\n      <td>NaN</td>\n      <td>NaN</td>\n      <td>NaN</td>\n      <td>NaN</td>\n      <td>NaN</td>\n    </tr>\n    <tr>\n      <th>5</th>\n      <td>Samsung G960 Galaxy S9 64GB Factory Unlocked S...</td>\n      <td>https://www.ebay.com/itm/401763851775?nordt=tr...</td>\n      <td>Very Good - Refurbished</td>\n      <td>“This is a B+ Stock item, meaning unit is in v...</td>\n      <td>Camera Resolution</td>\n      <td>NaN</td>\n      <td>NaN</td>\n      <td>SIM Card Slot</td>\n      <td>Manufacturer Color</td>\n      <td>NaN</td>\n      <td>...</td>\n      <td>NaN</td>\n      <td>NaN</td>\n      <td>NaN</td>\n      <td>NaN</td>\n      <td>NaN</td>\n      <td>NaN</td>\n      <td>NaN</td>\n      <td>NaN</td>\n      <td>NaN</td>\n      <td>NaN</td>\n    </tr>\n    <tr>\n      <th>6</th>\n      <td>Apple iPhone 8 Plus 64GB Unlocked Smartphone -...</td>\n      <td>https://www.ebay.com/itm/362534145919?nordt=tr...</td>\n      <td>Very Good - Refurbished</td>\n      <td>“This is a B+ Stock item, meaning unit is in v...</td>\n      <td>Camera Resolution</td>\n      <td>Memory Card Type</td>\n      <td>NaN</td>\n      <td>SIM Card Slot</td>\n      <td>Network Technology</td>\n      <td>NaN</td>\n      <td>...</td>\n      <td>NaN</td>\n      <td>NaN</td>\n      <td>NaN</td>\n      <td>NaN</td>\n      <td>NaN</td>\n      <td>NaN</td>\n      <td>NaN</td>\n      <td>NaN</td>\n      <td>NaN</td>\n      <td>NaN</td>\n    </tr>\n    <tr>\n      <th>7</th>\n      <td>Apple iPhone 11 64GB Factory Unlocked 4G LTE S...</td>\n      <td>https://www.ebay.com/itm/254733458977?nordt=tr...</td>\n      <td>Good - Refurbished</td>\n      <td>“This iPhone 11 is 100% functional in Good con...</td>\n      <td>Brand</td>\n      <td>Model</td>\n      <td>Storage Capacity</td>\n      <td>Network</td>\n      <td>Camera Resolution</td>\n      <td>Screen Size</td>\n      <td>...</td>\n      <td>NaN</td>\n      <td>NaN</td>\n      <td>NaN</td>\n      <td>NaN</td>\n      <td>NaN</td>\n      <td>NaN</td>\n      <td>NaN</td>\n      <td>NaN</td>\n      <td>NaN</td>\n      <td>NaN</td>\n    </tr>\n    <tr>\n      <th>8</th>\n      <td>Samsung Galaxy S10 G973U 128GB Factory Unlocke...</td>\n      <td>https://www.ebay.com/itm/254449547850?nordt=tr...</td>\n      <td>Very Good - Refurbished</td>\n      <td>“This Galaxy S10 is in Very Good condition and...</td>\n      <td>Brand</td>\n      <td>NaN</td>\n      <td>NaN</td>\n      <td>NaN</td>\n      <td>Camera Resolution</td>\n      <td>Screen Size</td>\n      <td>...</td>\n      <td>NaN</td>\n      <td>NaN</td>\n      <td>NaN</td>\n      <td>NaN</td>\n      <td>NaN</td>\n      <td>NaN</td>\n      <td>NaN</td>\n      <td>NaN</td>\n      <td>NaN</td>\n      <td>NaN</td>\n    </tr>\n    <tr>\n      <th>9</th>\n      <td>Samsung G965 Galaxy S9+ Plus 64GB Factory Unlo...</td>\n      <td>https://www.ebay.com/itm/362643917935?nordt=tr...</td>\n      <td>Very Good - Refurbished</td>\n      <td>“This is a B+ Stock item, meaning unit is in v...</td>\n      <td>Camera Resolution</td>\n      <td>NaN</td>\n      <td>NaN</td>\n      <td>SIM Card Slot</td>\n      <td>Manufacturer Color</td>\n      <td>NaN</td>\n      <td>...</td>\n      <td>NaN</td>\n      <td>NaN</td>\n      <td>NaN</td>\n      <td>NaN</td>\n      <td>NaN</td>\n      <td>NaN</td>\n      <td>NaN</td>\n      <td>NaN</td>\n      <td>NaN</td>\n      <td>NaN</td>\n    </tr>\n    <tr>\n      <th>10</th>\n      <td>Samsung N960 Galaxy Note 9 128GB Factory Unloc...</td>\n      <td>https://www.ebay.com/itm/362643928499?nordt=tr...</td>\n      <td>Very Good - Refurbished</td>\n      <td>“This is a B+ Stock item, meaning unit is in v...</td>\n      <td>Camera Resolution</td>\n      <td>NaN</td>\n      <td>NaN</td>\n      <td>NaN</td>\n      <td>Manufacturer Color</td>\n      <td>NaN</td>\n      <td>...</td>\n      <td>NaN</td>\n      <td>NaN</td>\n      <td>NaN</td>\n      <td>NaN</td>\n      <td>NaN</td>\n      <td>NaN</td>\n      <td>NaN</td>\n      <td>NaN</td>\n      <td>NaN</td>\n      <td>NaN</td>\n    </tr>\n    <tr>\n      <th>11</th>\n      <td>Apple iPhone XS 64GB Factory Unlocked 4G LTE i...</td>\n      <td>https://www.ebay.com/itm/254343826760?nordt=tr...</td>\n      <td>Very Good - Refurbished</td>\n      <td>“This Apple iPhone XS 64GB Factory Unlocked 4G...</td>\n      <td>Brand</td>\n      <td>Model</td>\n      <td>NaN</td>\n      <td>Network</td>\n      <td>Camera Resolution</td>\n      <td>Screen Size</td>\n      <td>...</td>\n      <td>NaN</td>\n      <td>NaN</td>\n      <td>NaN</td>\n      <td>NaN</td>\n      <td>NaN</td>\n      <td>NaN</td>\n      <td>NaN</td>\n      <td>NaN</td>\n      <td>NaN</td>\n      <td>NaN</td>\n    </tr>\n    <tr>\n      <th>12</th>\n      <td>Apple iPhone XR 64GB Factory Unlocked Smartpho...</td>\n      <td>https://www.ebay.com/itm/383240884447?nordt=tr...</td>\n      <td>Very Good - Refurbished</td>\n      <td>“This is a B+ Stock item, meaning unit is in v...</td>\n      <td>Camera Resolution</td>\n      <td>Memory Card Type</td>\n      <td>NaN</td>\n      <td>SIM Card Slot</td>\n      <td>Network Technology</td>\n      <td>NaN</td>\n      <td>...</td>\n      <td>NaN</td>\n      <td>NaN</td>\n      <td>NaN</td>\n      <td>NaN</td>\n      <td>NaN</td>\n      <td>NaN</td>\n      <td>NaN</td>\n      <td>NaN</td>\n      <td>NaN</td>\n      <td>NaN</td>\n    </tr>\n    <tr>\n      <th>13</th>\n      <td>Samsung G975 Galaxy S10+ Plus 128GB Factory Un...</td>\n      <td>https://www.ebay.com/itm/403272229686?nordt=tr...</td>\n      <td>Very Good - Refurbished</td>\n      <td>“This is a B+ Stock item, meaning unit is in v...</td>\n      <td>Camera Resolution</td>\n      <td>NaN</td>\n      <td>NaN</td>\n      <td>NaN</td>\n      <td>Manufacturer Color</td>\n      <td>NaN</td>\n      <td>...</td>\n      <td>NaN</td>\n      <td>NaN</td>\n      <td>NaN</td>\n      <td>NaN</td>\n      <td>NaN</td>\n      <td>NaN</td>\n      <td>NaN</td>\n      <td>NaN</td>\n      <td>NaN</td>\n      <td>NaN</td>\n    </tr>\n    <tr>\n      <th>14</th>\n      <td>Samsung Galaxy S9 Unlocked | T-Mobile AT&amp;T Ver...</td>\n      <td>https://www.ebay.com/itm/284035968027?nordt=tr...</td>\n      <td>Good - Refurbished</td>\n      <td>“This item is in Good Condition and will show ...</td>\n      <td>Brand</td>\n      <td>NaN</td>\n      <td>NaN</td>\n      <td>NaN</td>\n      <td>NaN</td>\n      <td>NaN</td>\n      <td>...</td>\n      <td>NaN</td>\n      <td>NaN</td>\n      <td>NaN</td>\n      <td>NaN</td>\n      <td>NaN</td>\n      <td>NaN</td>\n      <td>NaN</td>\n      <td>NaN</td>\n      <td>NaN</td>\n      <td>NaN</td>\n    </tr>\n    <tr>\n      <th>15</th>\n      <td>Samsung Galaxy S10+ G975U 128GB Unlocked - Ver...</td>\n      <td>https://www.ebay.com/itm/254497147383?nordt=tr...</td>\n      <td>Very Good - Refurbished</td>\n      <td>“This Galaxy S10 Plus is in Very Good conditio...</td>\n      <td>Brand</td>\n      <td>NaN</td>\n      <td>NaN</td>\n      <td>NaN</td>\n      <td>Camera Resolution</td>\n      <td>Screen Size</td>\n      <td>...</td>\n      <td>NaN</td>\n      <td>NaN</td>\n      <td>NaN</td>\n      <td>NaN</td>\n      <td>NaN</td>\n      <td>NaN</td>\n      <td>NaN</td>\n      <td>NaN</td>\n      <td>NaN</td>\n      <td>NaN</td>\n    </tr>\n    <tr>\n      <th>16</th>\n      <td>Apple iPhone 11 Pro Max 64GB Unlocked Smartpho...</td>\n      <td>https://www.ebay.com/itm/402561477570?nordt=tr...</td>\n      <td>Very Good - Refurbished</td>\n      <td>“This is a B+ Stock item, meaning unit is in v...</td>\n      <td>Camera Resolution</td>\n      <td>Memory Card Type</td>\n      <td>NaN</td>\n      <td>NaN</td>\n      <td>MPN</td>\n      <td>NaN</td>\n      <td>...</td>\n      <td>NaN</td>\n      <td>NaN</td>\n      <td>NaN</td>\n      <td>NaN</td>\n      <td>NaN</td>\n      <td>NaN</td>\n      <td>NaN</td>\n      <td>NaN</td>\n      <td>NaN</td>\n      <td>NaN</td>\n    </tr>\n    <tr>\n      <th>17</th>\n      <td>Apple iPhone 11 128GB Factory Unlocked 4G LTE ...</td>\n      <td>https://www.ebay.com/itm/254726029927?nordt=tr...</td>\n      <td>Very Good - Refurbished</td>\n      <td>“This iPhone 11 is in Very Good condition and ...</td>\n      <td>Brand</td>\n      <td>Model</td>\n      <td>Storage Capacity</td>\n      <td>NaN</td>\n      <td>Camera Resolution</td>\n      <td>Screen Size</td>\n      <td>...</td>\n      <td>NaN</td>\n      <td>NaN</td>\n      <td>NaN</td>\n      <td>NaN</td>\n      <td>NaN</td>\n      <td>NaN</td>\n      <td>NaN</td>\n      <td>NaN</td>\n      <td>NaN</td>\n      <td>NaN</td>\n    </tr>\n    <tr>\n      <th>18</th>\n      <td>Apple iPhone 7 32GB GSM Factory Unlocked 4G LT...</td>\n      <td>https://www.ebay.com/itm/193380000263?nordt=tr...</td>\n      <td>Used</td>\n      <td>“Overall good working condition and will have ...</td>\n      <td>NaN</td>\n      <td>NaN</td>\n      <td>NaN</td>\n      <td>NaN</td>\n      <td>NaN</td>\n      <td>NaN</td>\n      <td>...</td>\n      <td>NaN</td>\n      <td>NaN</td>\n      <td>NaN</td>\n      <td>NaN</td>\n      <td>NaN</td>\n      <td>NaN</td>\n      <td>NaN</td>\n      <td>NaN</td>\n      <td>NaN</td>\n      <td>NaN</td>\n    </tr>\n    <tr>\n      <th>19</th>\n      <td>Google Pixel 5 5G Factory Unlocked 128GB Smart...</td>\n      <td>https://www.ebay.com/itm/224743929590?nordt=tr...</td>\n      <td>Good - Refurbished</td>\n      <td>“1 year warranty included. Bootloader can NOT ...</td>\n      <td>Camera Resolution</td>\n      <td>NaN</td>\n      <td>NaN</td>\n      <td>NaN</td>\n      <td>MPN</td>\n      <td>NaN</td>\n      <td>...</td>\n      <td>NaN</td>\n      <td>NaN</td>\n      <td>NaN</td>\n      <td>NaN</td>\n      <td>NaN</td>\n      <td>NaN</td>\n      <td>NaN</td>\n      <td>NaN</td>\n      <td>NaN</td>\n      <td>NaN</td>\n    </tr>\n    <tr>\n      <th>20</th>\n      <td>Samsung G970 Galaxy S10e 128GB Factory Unlocke...</td>\n      <td>https://www.ebay.com/itm/382980837076?nordt=tr...</td>\n      <td>Very Good - Refurbished</td>\n      <td>“This is a B+ Stock item, meaning unit is in v...</td>\n      <td>Camera Resolution</td>\n      <td>NaN</td>\n      <td>NaN</td>\n      <td>NaN</td>\n      <td>Manufacturer Color</td>\n      <td>NaN</td>\n      <td>...</td>\n      <td>NaN</td>\n      <td>NaN</td>\n      <td>NaN</td>\n      <td>NaN</td>\n      <td>NaN</td>\n      <td>NaN</td>\n      <td>NaN</td>\n      <td>NaN</td>\n      <td>NaN</td>\n      <td>NaN</td>\n    </tr>\n    <tr>\n      <th>21</th>\n      <td>Samsung  Galaxy S21 5G 128GB G991U Fully Unloc...</td>\n      <td>https://www.ebay.com/itm/254986400075?nordt=tr...</td>\n      <td>Very Good - Refurbished</td>\n      <td>“This Samsung Galaxy S21 5G is in Very Good co...</td>\n      <td>Brand</td>\n      <td>NaN</td>\n      <td>NaN</td>\n      <td>NaN</td>\n      <td>NaN</td>\n      <td>NaN</td>\n      <td>...</td>\n      <td>NaN</td>\n      <td>NaN</td>\n      <td>NaN</td>\n      <td>NaN</td>\n      <td>NaN</td>\n      <td>NaN</td>\n      <td>NaN</td>\n      <td>NaN</td>\n      <td>NaN</td>\n      <td>NaN</td>\n    </tr>\n    <tr>\n      <th>22</th>\n      <td>Apple iPhone 11 Pro Max 256GB Unlocked Smartph...</td>\n      <td>https://www.ebay.com/itm/363183789732?nordt=tr...</td>\n      <td>Very Good - Refurbished</td>\n      <td>“This is a B+ Stock item, meaning unit is in v...</td>\n      <td>Camera Resolution</td>\n      <td>Memory Card Type</td>\n      <td>NaN</td>\n      <td>NaN</td>\n      <td>MPN</td>\n      <td>NaN</td>\n      <td>...</td>\n      <td>NaN</td>\n      <td>NaN</td>\n      <td>NaN</td>\n      <td>NaN</td>\n      <td>NaN</td>\n      <td>NaN</td>\n      <td>NaN</td>\n      <td>NaN</td>\n      <td>NaN</td>\n      <td>NaN</td>\n    </tr>\n    <tr>\n      <th>23</th>\n      <td>Samsung N975 Galaxy Note 10+ Plus 256GB Unlock...</td>\n      <td>https://www.ebay.com/itm/383859582143?nordt=tr...</td>\n      <td>Very Good - Refurbished</td>\n      <td>“This is a B+ Stock item, meaning unit is in v...</td>\n      <td>Camera Resolution</td>\n      <td>NaN</td>\n      <td>NaN</td>\n      <td>NaN</td>\n      <td>MPN</td>\n      <td>NaN</td>\n      <td>...</td>\n      <td>NaN</td>\n      <td>NaN</td>\n      <td>NaN</td>\n      <td>NaN</td>\n      <td>NaN</td>\n      <td>NaN</td>\n      <td>NaN</td>\n      <td>NaN</td>\n      <td>NaN</td>\n      <td>NaN</td>\n    </tr>\n    <tr>\n      <th>24</th>\n      <td>Samsung Galaxy S10e G970U 128GB Factory Unlock...</td>\n      <td>https://www.ebay.com/itm/254362722440?nordt=tr...</td>\n      <td>Very Good - Refurbished</td>\n      <td>“This Galaxy S10e is in Very Good condition an...</td>\n      <td>Brand</td>\n      <td>NaN</td>\n      <td>NaN</td>\n      <td>NaN</td>\n      <td>Camera Resolution</td>\n      <td>Screen Size</td>\n      <td>...</td>\n      <td>NaN</td>\n      <td>NaN</td>\n      <td>NaN</td>\n      <td>NaN</td>\n      <td>NaN</td>\n      <td>NaN</td>\n      <td>NaN</td>\n      <td>NaN</td>\n      <td>NaN</td>\n      <td>NaN</td>\n    </tr>\n    <tr>\n      <th>25</th>\n      <td>Samsung G973 Galaxy S10 128GB Factory Unlocked...</td>\n      <td>https://www.ebay.com/itm/383056866223?nordt=tr...</td>\n      <td>Very Good - Refurbished</td>\n      <td>“This is a B+ Stock item, meaning unit is in v...</td>\n      <td>Camera Resolution</td>\n      <td>NaN</td>\n      <td>NaN</td>\n      <td>NaN</td>\n      <td>Manufacturer Color</td>\n      <td>NaN</td>\n      <td>...</td>\n      <td>NaN</td>\n      <td>NaN</td>\n      <td>NaN</td>\n      <td>NaN</td>\n      <td>NaN</td>\n      <td>NaN</td>\n      <td>NaN</td>\n      <td>NaN</td>\n      <td>NaN</td>\n      <td>NaN</td>\n    </tr>\n    <tr>\n      <th>26</th>\n      <td>Apple iPhone 7 Plus 128GB Unlocked Smartphone ...</td>\n      <td>https://www.ebay.com/itm/382248638826?nordt=tr...</td>\n      <td>Very Good - Refurbished</td>\n      <td>“This is a B+ Stock item, meaning unit is in v...</td>\n      <td>Camera Resolution</td>\n      <td>Memory Card Type</td>\n      <td>NaN</td>\n      <td>NaN</td>\n      <td>Note</td>\n      <td>NaN</td>\n      <td>...</td>\n      <td>Model</td>\n      <td>Operating System</td>\n      <td>Contract</td>\n      <td>Features</td>\n      <td>Model Number</td>\n      <td>RAM</td>\n      <td>Network</td>\n      <td>Manufacturer Color</td>\n      <td>Storage Capacity</td>\n      <td>Screen Size</td>\n    </tr>\n  </tbody>\n</table>\n<p>27 rows × 168 columns</p>\n</div>"
     },
     "execution_count": 20,
     "metadata": {},
     "output_type": "execute_result"
    }
   ],
   "source": [
    "characteristics_df"
   ],
   "metadata": {
    "collapsed": false,
    "pycharm": {
     "name": "#%%\n"
    }
   }
  },
  {
   "cell_type": "code",
   "execution_count": 95,
   "outputs": [],
   "source": [
    "characteristics_df.to_csv(\"characteristics_df.tsv\", sep='\\t', index=False)"
   ],
   "metadata": {
    "collapsed": false,
    "pycharm": {
     "name": "#%%\n"
    }
   }
  },
  {
   "cell_type": "markdown",
   "source": [
    "Пытаемся сделать многопоточность, но, кажется, не получилось("
   ],
   "metadata": {
    "collapsed": false,
    "pycharm": {
     "name": "#%% md\n"
    }
   }
  },
  {
   "cell_type": "code",
   "execution_count": null,
   "outputs": [],
   "source": [
    "import concurrent.futures\n",
    "\n",
    "def parser(x):\n",
    "    characteristics_df = pd.DataFrame()\n",
    "\n",
    "    # настраиваем драйвер\n",
    "    options = Options()\n",
    "    options.headless = True  # hide GUI\n",
    "    options.add_argument(\"--window-size=1920,1080\")  # set window size to native GUI size\n",
    "    options.add_argument(\"start-maximized\")  # ensure window is full-screen\n",
    "\n",
    "    # Настраиваем браузер, чтобы он не грузил Java и картинки\n",
    "    chrome_options = webdriver.ChromeOptions()\n",
    "    driver = webdriver.Chrome(options=options, chrome_options=chrome_options)\n",
    "\n",
    "    time.sleep(5)\n",
    "\n",
    "    unavaible = []\n",
    "    start = int((1200*x)/3)\n",
    "    stop = int(1200*(1+x)/3)\n",
    "\n",
    "    for cur_link in tqdm(Links[start:stop]):\n",
    "        if cur_link!= None:\n",
    "            try:\n",
    "                driver.get(cur_link)\n",
    "                driver.execute_script(\"window.scrollTo(0, document.body.scrollHeight);\")\n",
    "                time.sleep(randint(1, 5))\n",
    "                html = driver.page_source\n",
    "                soup2 = BeautifulSoup(html, 'html.parser')\n",
    "                title_tag = soup2.find('h1', {'class': 'x-item-title__mainTitle'})\n",
    "                title_text = title_tag.text.strip()\n",
    "                parent_element = driver.find_element(By.CLASS_NAME, 'ux-layout-section--features')\n",
    "                characteristics = parent_element.text.split(\"\\n\")\n",
    "                characteristics_data = {\"Title\": title_text, \"Link\": cur_link}\n",
    "                for i in range(len(characteristics)):\n",
    "                    if i%2==0:\n",
    "                        name = characteristics[i]\n",
    "                    else:\n",
    "                        value = characteristics[i]\n",
    "                        characteristics_data[name] = value\n",
    "\n",
    "                characteristics_df = characteristics_df.append(characteristics_data, ignore_index=True)\n",
    "            except:\n",
    "                print(\"Сорян, не полусилось:\", cur_link)\n",
    "                unavaible.append(cur_link)\n",
    "        pass\n",
    "    driver.quit()\n",
    "    characteristics_df.to_csv(f\"characteristics_df {x}.tsv\", sep='\\t', index=False)\n",
    "\n",
    "# создаем пул потоков\n",
    "with concurrent.futures.ThreadPoolExecutor(max_workers=3) as executor:\n",
    "    # запускаем функцию run_selenium() в каждом потоке\n",
    "    futures = [executor.submit(parser(i)) for i in range(3)]\n",
    "    # дожидаемся завершения всех потоков\n",
    "    concurrent.futures.wait(futures)"
   ],
   "metadata": {
    "collapsed": false,
    "pycharm": {
     "name": "#%%\n",
     "is_executing": true
    }
   }
  }
 ],
 "metadata": {
  "kernelspec": {
   "display_name": "Python 3",
   "language": "python",
   "name": "python3"
  },
  "language_info": {
   "codemirror_mode": {
    "name": "ipython",
    "version": 2
   },
   "file_extension": ".py",
   "mimetype": "text/x-python",
   "name": "python",
   "nbconvert_exporter": "python",
   "pygments_lexer": "ipython2",
   "version": "2.7.6"
  }
 },
 "nbformat": 4,
 "nbformat_minor": 0
}