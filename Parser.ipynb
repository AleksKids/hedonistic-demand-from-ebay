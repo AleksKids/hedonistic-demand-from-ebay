{
 "cells": [
  {
   "cell_type": "markdown",
   "source": [
    "# В этом файле когда-то будет парсер\n",
    "\n",
    "Необходимо спарсить: https://www.ebay.com/sh/research?marketplace=EBAY-US&keywords=Smartphones&dayRange=730&endDate=1684051559220&startDate=1620979559220&categoryId=9355&offset=0&limit=50&tabName=SOLD&tz=Europe%2FMoscow"
   ],
   "metadata": {
    "collapsed": false
   }
  },
  {
   "cell_type": "code",
   "execution_count": 40,
   "outputs": [],
   "source": [
    "import pandas as pd\n",
    "import requests\n",
    "from bs4 import BeautifulSoup\n",
    "from random import randint\n",
    "from selenium import webdriver\n",
    "from selenium.webdriver.chrome.options import Options\n",
    "from selenium.webdriver.support.ui import WebDriverWait\n",
    "from selenium.webdriver.common.by import By\n",
    "import time\n",
    "from tqdm import tqdm\n",
    "import warnings\n",
    "warnings.filterwarnings('ignore', message='The frame.append method is deprecated and will be removed from pandas in a future version.')"
   ],
   "metadata": {
    "collapsed": false,
    "pycharm": {
     "name": "#%%\n"
    }
   }
  },
  {
   "cell_type": "code",
   "execution_count": 41,
   "outputs": [
    {
     "name": "stderr",
     "output_type": "stream",
     "text": [
      "C:\\Users\\druny\\AppData\\Local\\Temp\\ipykernel_15656\\60259596.py:3: DeprecationWarning: headless property is deprecated, instead use add_argument('--headless') or add_argument('--headless=new')\n",
      "  options.headless = True  # hide GUI\n",
      "C:\\Users\\druny\\AppData\\Local\\Temp\\ipykernel_15656\\60259596.py:9: DeprecationWarning: use options instead of chrome_options\n",
      "  driver = webdriver.Chrome(options=options, chrome_options=chrome_options)\n"
     ]
    }
   ],
   "source": [
    "# настраиваем драйвер\n",
    "options = Options()\n",
    "options.headless = True  # hide GUI\n",
    "options.add_argument(\"--window-size=1920,1080\")  # set window size to native GUI size\n",
    "options.add_argument(\"start-maximized\")  # ensure window is full-screen\n",
    "\n",
    "# Настраиваем браузер, чтобы он не грузил Java и картинки\n",
    "chrome_options = webdriver.ChromeOptions()\n",
    "driver = webdriver.Chrome(options=options, chrome_options=chrome_options)\n",
    "\n",
    "# Делаем запрос\n",
    "driver.get(\"https://www.ebay.com/sh/research?marketplace=EBAY-US&keywords=Smartphones&dayRange=730&endDate=1684051559220&startDate=1620979559220&categoryId=9355&offset=0&limit=50&tabName=SOLD&tz=Europe%2FMoscow\")\n",
    "\n",
    "#Атдыхаем, ждём загрузку\n",
    "time.sleep(5)"
   ],
   "metadata": {
    "collapsed": false,
    "pycharm": {
     "name": "#%%\n"
    }
   }
  },
  {
   "cell_type": "markdown",
   "source": [
    "Тут мы ручками авторизируемся и заходим"
   ],
   "metadata": {
    "collapsed": false
   }
  },
  {
   "cell_type": "code",
   "execution_count": 15,
   "outputs": [],
   "source": [
    "df = pd.DataFrame()"
   ],
   "metadata": {
    "collapsed": false,
    "pycharm": {
     "name": "#%%\n"
    }
   }
  },
  {
   "cell_type": "code",
   "execution_count": 27,
   "outputs": [],
   "source": [
    "def table_parser(soup: BeautifulSoup):\n",
    "    for product in soup.find_all('tr', class_='research-table-row'):\n",
    "        title = product.find('span', attrs={'data-item-id': True}).text\n",
    "        price = product.find('td', class_='research-table-row__item research-table-row__avgSoldPrice').div.find_all('div')[0].text.strip()\n",
    "        shipping = product.find('td', class_='research-table-row__item research-table-row__avgShippingCost').div.find_all('div')[0].text.strip()\n",
    "        sales_count = product.find('td', class_='research-table-row__item research-table-row__totalSoldCount').div.find_all('div')[0].text.strip()\n",
    "        sales_value = product.find('td', class_='research-table-row__item research-table-row__totalSalesValue').div.find_all('div')[0].text.strip()\n",
    "        try:\n",
    "            link = product.find('a', class_='research-table-row__link-row-anchor', attrs={'href': True})['href']\n",
    "        except:\n",
    "            link = None\n",
    "\n",
    "        data = {\"Title\": title, \"Price\": price, \"Shipping_cost\": shipping, \"Sales_Count\": sales_count, \"Sales_Value\": sales_value, \"Link\": link}\n",
    "\n",
    "        global df\n",
    "        df = df.append(data, ignore_index=True)"
   ],
   "metadata": {
    "collapsed": false,
    "pycharm": {
     "name": "#%%\n"
    }
   }
  },
  {
   "cell_type": "code",
   "execution_count": 28,
   "outputs": [
    {
     "name": "stderr",
     "output_type": "stream",
     "text": [
      " 55%|█████▌    | 55/100 [10:21<08:28, 11.30s/it]\n"
     ]
    },
    {
     "ename": "WebDriverException",
     "evalue": "Message: disconnected: Unable to receive message from renderer\n  (failed to check if window was closed: disconnected: not connected to DevTools)\n  (Session info: chrome=113.0.5672.93)\nStacktrace:\nBacktrace:\n\tGetHandleVerifier [0x00988893+48451]\n\t(No symbol) [0x0091B8A1]\n\t(No symbol) [0x00825058]\n\t(No symbol) [0x00818205]\n\t(No symbol) [0x0081810C]\n\t(No symbol) [0x00816D46]\n\t(No symbol) [0x008175CA]\n\t(No symbol) [0x0082E8A9]\n\t(No symbol) [0x008291EA]\n\t(No symbol) [0x00828FC7]\n\t(No symbol) [0x0087DD16]\n\t(No symbol) [0x0086A2BC]\n\t(No symbol) [0x0087C482]\n\t(No symbol) [0x0086A0B6]\n\t(No symbol) [0x00847E08]\n\t(No symbol) [0x00848F2D]\n\tGetHandleVerifier [0x00BE8E3A+2540266]\n\tGetHandleVerifier [0x00C28959+2801161]\n\tGetHandleVerifier [0x00C2295C+2776588]\n\tGetHandleVerifier [0x00A12280+612144]\n\t(No symbol) [0x00924F6C]\n\t(No symbol) [0x009211D8]\n\t(No symbol) [0x009212BB]\n\t(No symbol) [0x00914857]\n\tBaseThreadInitThunk [0x76F47D59+25]\n\tRtlInitializeExceptionChain [0x77A1B74B+107]\n\tRtlClearBits [0x77A1B6CF+191]\n",
     "output_type": "error",
     "traceback": [
      "\u001B[1;31m---------------------------------------------------------------------------\u001B[0m",
      "\u001B[1;31mWebDriverException\u001B[0m                        Traceback (most recent call last)",
      "Cell \u001B[1;32mIn [28], line 3\u001B[0m\n\u001B[0;32m      1\u001B[0m \u001B[38;5;28;01mfor\u001B[39;00m _ \u001B[38;5;129;01min\u001B[39;00m tqdm(\u001B[38;5;28mrange\u001B[39m(\u001B[38;5;241m100\u001B[39m)):\n\u001B[0;32m      2\u001B[0m     driver\u001B[38;5;241m.\u001B[39mexecute_script(\u001B[38;5;124m\"\u001B[39m\u001B[38;5;124mwindow.scrollTo(0, document.body.scrollHeight);\u001B[39m\u001B[38;5;124m\"\u001B[39m)\n\u001B[1;32m----> 3\u001B[0m     html \u001B[38;5;241m=\u001B[39m \u001B[43mdriver\u001B[49m\u001B[38;5;241;43m.\u001B[39;49m\u001B[43mpage_source\u001B[49m\n\u001B[0;32m      4\u001B[0m     soup \u001B[38;5;241m=\u001B[39m BeautifulSoup(html, \u001B[38;5;124m'\u001B[39m\u001B[38;5;124mhtml.parser\u001B[39m\u001B[38;5;124m'\u001B[39m)\n\u001B[0;32m      5\u001B[0m     table_parser(soup)\n",
      "File \u001B[1;32m~\\AppData\\Local\\Programs\\Python\\Python311\\Lib\\site-packages\\selenium\\webdriver\\remote\\webdriver.py:541\u001B[0m, in \u001B[0;36mWebDriver.page_source\u001B[1;34m(self)\u001B[0m\n\u001B[0;32m    532\u001B[0m \u001B[38;5;129m@property\u001B[39m\n\u001B[0;32m    533\u001B[0m \u001B[38;5;28;01mdef\u001B[39;00m \u001B[38;5;21mpage_source\u001B[39m(\u001B[38;5;28mself\u001B[39m) \u001B[38;5;241m-\u001B[39m\u001B[38;5;241m>\u001B[39m \u001B[38;5;28mstr\u001B[39m:\n\u001B[0;32m    534\u001B[0m     \u001B[38;5;124;03m\"\"\"Gets the source of the current page.\u001B[39;00m\n\u001B[0;32m    535\u001B[0m \n\u001B[0;32m    536\u001B[0m \u001B[38;5;124;03m    :Usage:\u001B[39;00m\n\u001B[1;32m   (...)\u001B[0m\n\u001B[0;32m    539\u001B[0m \u001B[38;5;124;03m            driver.page_source\u001B[39;00m\n\u001B[0;32m    540\u001B[0m \u001B[38;5;124;03m    \"\"\"\u001B[39;00m\n\u001B[1;32m--> 541\u001B[0m     \u001B[38;5;28;01mreturn\u001B[39;00m \u001B[38;5;28;43mself\u001B[39;49m\u001B[38;5;241;43m.\u001B[39;49m\u001B[43mexecute\u001B[49m\u001B[43m(\u001B[49m\u001B[43mCommand\u001B[49m\u001B[38;5;241;43m.\u001B[39;49m\u001B[43mGET_PAGE_SOURCE\u001B[49m\u001B[43m)\u001B[49m[\u001B[38;5;124m\"\u001B[39m\u001B[38;5;124mvalue\u001B[39m\u001B[38;5;124m\"\u001B[39m]\n",
      "File \u001B[1;32m~\\AppData\\Local\\Programs\\Python\\Python311\\Lib\\site-packages\\selenium\\webdriver\\remote\\webdriver.py:440\u001B[0m, in \u001B[0;36mWebDriver.execute\u001B[1;34m(self, driver_command, params)\u001B[0m\n\u001B[0;32m    438\u001B[0m response \u001B[38;5;241m=\u001B[39m \u001B[38;5;28mself\u001B[39m\u001B[38;5;241m.\u001B[39mcommand_executor\u001B[38;5;241m.\u001B[39mexecute(driver_command, params)\n\u001B[0;32m    439\u001B[0m \u001B[38;5;28;01mif\u001B[39;00m response:\n\u001B[1;32m--> 440\u001B[0m     \u001B[38;5;28;43mself\u001B[39;49m\u001B[38;5;241;43m.\u001B[39;49m\u001B[43merror_handler\u001B[49m\u001B[38;5;241;43m.\u001B[39;49m\u001B[43mcheck_response\u001B[49m\u001B[43m(\u001B[49m\u001B[43mresponse\u001B[49m\u001B[43m)\u001B[49m\n\u001B[0;32m    441\u001B[0m     response[\u001B[38;5;124m\"\u001B[39m\u001B[38;5;124mvalue\u001B[39m\u001B[38;5;124m\"\u001B[39m] \u001B[38;5;241m=\u001B[39m \u001B[38;5;28mself\u001B[39m\u001B[38;5;241m.\u001B[39m_unwrap_value(response\u001B[38;5;241m.\u001B[39mget(\u001B[38;5;124m\"\u001B[39m\u001B[38;5;124mvalue\u001B[39m\u001B[38;5;124m\"\u001B[39m, \u001B[38;5;28;01mNone\u001B[39;00m))\n\u001B[0;32m    442\u001B[0m     \u001B[38;5;28;01mreturn\u001B[39;00m response\n",
      "File \u001B[1;32m~\\AppData\\Local\\Programs\\Python\\Python311\\Lib\\site-packages\\selenium\\webdriver\\remote\\errorhandler.py:245\u001B[0m, in \u001B[0;36mErrorHandler.check_response\u001B[1;34m(self, response)\u001B[0m\n\u001B[0;32m    243\u001B[0m         alert_text \u001B[38;5;241m=\u001B[39m value[\u001B[38;5;124m\"\u001B[39m\u001B[38;5;124malert\u001B[39m\u001B[38;5;124m\"\u001B[39m]\u001B[38;5;241m.\u001B[39mget(\u001B[38;5;124m\"\u001B[39m\u001B[38;5;124mtext\u001B[39m\u001B[38;5;124m\"\u001B[39m)\n\u001B[0;32m    244\u001B[0m     \u001B[38;5;28;01mraise\u001B[39;00m exception_class(message, screen, stacktrace, alert_text)  \u001B[38;5;66;03m# type: ignore[call-arg]  # mypy is not smart enough here\u001B[39;00m\n\u001B[1;32m--> 245\u001B[0m \u001B[38;5;28;01mraise\u001B[39;00m exception_class(message, screen, stacktrace)\n",
      "\u001B[1;31mWebDriverException\u001B[0m: Message: disconnected: Unable to receive message from renderer\n  (failed to check if window was closed: disconnected: not connected to DevTools)\n  (Session info: chrome=113.0.5672.93)\nStacktrace:\nBacktrace:\n\tGetHandleVerifier [0x00988893+48451]\n\t(No symbol) [0x0091B8A1]\n\t(No symbol) [0x00825058]\n\t(No symbol) [0x00818205]\n\t(No symbol) [0x0081810C]\n\t(No symbol) [0x00816D46]\n\t(No symbol) [0x008175CA]\n\t(No symbol) [0x0082E8A9]\n\t(No symbol) [0x008291EA]\n\t(No symbol) [0x00828FC7]\n\t(No symbol) [0x0087DD16]\n\t(No symbol) [0x0086A2BC]\n\t(No symbol) [0x0087C482]\n\t(No symbol) [0x0086A0B6]\n\t(No symbol) [0x00847E08]\n\t(No symbol) [0x00848F2D]\n\tGetHandleVerifier [0x00BE8E3A+2540266]\n\tGetHandleVerifier [0x00C28959+2801161]\n\tGetHandleVerifier [0x00C2295C+2776588]\n\tGetHandleVerifier [0x00A12280+612144]\n\t(No symbol) [0x00924F6C]\n\t(No symbol) [0x009211D8]\n\t(No symbol) [0x009212BB]\n\t(No symbol) [0x00914857]\n\tBaseThreadInitThunk [0x76F47D59+25]\n\tRtlInitializeExceptionChain [0x77A1B74B+107]\n\tRtlClearBits [0x77A1B6CF+191]\n"
     ]
    }
   ],
   "source": [
    "for _ in tqdm(range(100)):\n",
    "    driver.execute_script(\"window.scrollTo(0, document.body.scrollHeight);\")\n",
    "    html = driver.page_source\n",
    "    soup = BeautifulSoup(html, 'html.parser')\n",
    "    table_parser(soup)\n",
    "    next_button = driver.find_element(By.XPATH, '//button[@class=\"pagination__next\"]')\n",
    "    next_button.click()\n",
    "    time.sleep(randint(5, 15))\n",
    "    pass"
   ],
   "metadata": {
    "collapsed": false,
    "pycharm": {
     "name": "#%%\n"
    }
   }
  },
  {
   "cell_type": "code",
   "execution_count": 35,
   "outputs": [
    {
     "data": {
      "text/plain": "1755"
     },
     "execution_count": 35,
     "metadata": {},
     "output_type": "execute_result"
    }
   ],
   "source": [
    "(~df.Link.isna()).sum()"
   ],
   "metadata": {
    "collapsed": false,
    "pycharm": {
     "name": "#%%\n"
    }
   }
  },
  {
   "cell_type": "code",
   "execution_count": 38,
   "outputs": [],
   "source": [
    "Links = df.Link.tolist()"
   ],
   "metadata": {
    "collapsed": false,
    "pycharm": {
     "name": "#%%\n"
    }
   }
  },
  {
   "cell_type": "code",
   "execution_count": 50,
   "outputs": [],
   "source": [
    "characteristics_df = pd.DataFrame()"
   ],
   "metadata": {
    "collapsed": false,
    "pycharm": {
     "name": "#%%\n"
    }
   }
  },
  {
   "cell_type": "code",
   "execution_count": null,
   "outputs": [
    {
     "name": "stderr",
     "output_type": "stream",
     "text": [
      "  0%|          | 1/2800 [00:07<6:09:41,  7.92s/it]"
     ]
    }
   ],
   "source": [
    "for cur_link in tqdm(Links):\n",
    "        if cur_link!= None:\n",
    "            driver.get(cur_link)\n",
    "            driver.execute_script(\"window.scrollTo(0, document.body.scrollHeight);\")\n",
    "            time.sleep(randint(1, 5))\n",
    "            html = driver.page_source\n",
    "            soup2 = BeautifulSoup(html, 'html.parser')\n",
    "            title_tag = soup2.find('h1', {'class': 'x-item-title__mainTitle'})\n",
    "            title_text = title_tag.text.strip()\n",
    "            parent_element = driver.find_element(By.CLASS_NAME, 'ux-layout-section--features')\n",
    "            characteristics = parent_element.text.split(\"\\n\")\n",
    "            characteristics_data = {\"Title\": title_text}\n",
    "            for i in range(len(characteristics)):\n",
    "                if i%2==0:\n",
    "                    name = characteristics[i]\n",
    "                else:\n",
    "                    value = characteristics[i]\n",
    "                    characteristics_data[name] = value\n",
    "\n",
    "            characteristics_df = characteristics_df.append(characteristics_data, ignore_index=True)\n",
    "        pass"
   ],
   "metadata": {
    "collapsed": false,
    "pycharm": {
     "name": "#%%\n",
     "is_executing": true
    }
   }
  },
  {
   "cell_type": "code",
   "execution_count": null,
   "outputs": [],
   "source": [],
   "metadata": {
    "collapsed": false,
    "pycharm": {
     "name": "#%%\n"
    }
   }
  }
 ],
 "metadata": {
  "kernelspec": {
   "display_name": "Python 3",
   "language": "python",
   "name": "python3"
  },
  "language_info": {
   "codemirror_mode": {
    "name": "ipython",
    "version": 2
   },
   "file_extension": ".py",
   "mimetype": "text/x-python",
   "name": "python",
   "nbconvert_exporter": "python",
   "pygments_lexer": "ipython2",
   "version": "2.7.6"
  }
 },
 "nbformat": 4,
 "nbformat_minor": 0
}