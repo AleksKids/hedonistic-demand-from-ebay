{
 "cells": [
  {
   "cell_type": "markdown",
   "source": [
    "# Exploring data analise"
   ],
   "metadata": {
    "collapsed": false
   }
  },
  {
   "cell_type": "markdown",
   "source": [
    "Сделайте для своих данных разведочный анализ данных, Exploratory Data Analysis (EDA). Выясните, какие в данных есть особенности, визуализируйте их. Ваша задача — откопать в данных интересные закономерности и построить для них красивые, понятные визуализации, на основе которых можно выдвинуть гипотезы и создать для датасета новые переменные.\n",
    "\n",
    "Оценка за этот пункт зависит от сложности графиков и интересных идей, которые можно из них заметить."
   ],
   "metadata": {
    "collapsed": false
   }
  },
  {
   "cell_type": "code",
   "execution_count": 1,
   "outputs": [],
   "source": [
    "import pandas as pd\n",
    "import numpy as np\n",
    "import matplotlib.pyplot as plt"
   ],
   "metadata": {
    "collapsed": false,
    "pycharm": {
     "name": "#%%\n"
    }
   }
  },
  {
   "cell_type": "code",
   "execution_count": 2,
   "outputs": [
    {
     "data": {
      "text/plain": "                                               Title   Price  Shipping_cost  \\\n0  Apple iPhone 11 64GB Factory Unlocked 4G LTE S...  337.59           0.00   \n1  Apple iPhone XR 64GB Factory Unlocked Smartpho...  266.28           0.00   \n2  Apple iPhone 11 64GB Unlocked Smartphone - Ver...  359.11          16.93   \n3  Apple iPhone X 64GB Factory Unlocked Phone - V...  231.98          16.50   \n4  Apple iPhone X 256GB Unlocked Smartphone - Ver...  263.59          15.34   \n\n   Sales_Count  Sales_Value  \\\n0      19787.0   6679958.00   \n1      12440.0   3312560.60   \n2      12224.0   4389742.37   \n3      11781.0   2732899.88   \n4      10020.0   2641203.85   \n\n                                                Link                Condition  \\\n0  https://www.ebay.com/itm/254604777645?nordt=tr...  Very Good - Refurbished   \n1  https://www.ebay.com/itm/254187678666?nordt=tr...  Very Good - Refurbished   \n2  https://www.ebay.com/itm/363183815277?nordt=tr...  Very Good - Refurbished   \n3  https://www.ebay.com/itm/382605209867?nordt=tr...  Very Good - Refurbished   \n4  https://www.ebay.com/itm/382446518910?nordt=tr...  Very Good - Refurbished   \n\n                                        Seller Notes  Brand            Model  \\\n0  “This iPhone 11 is in Very Good condition and ...  apple        iPhone 11   \n1  “This Apple iPhone XR 64GB Factory Unlocked Sm...  apple        iPhone XR   \n2  “This is a B+ Stock item, meaning unit is in v...  apple  Apple iPhone 11   \n3  “This is a B+ Stock item, meaning unit is in v...  apple   Apple iPhone X   \n4  “This is a B+ Stock item, meaning unit is in v...  apple   Apple iPhone X   \n\n   ...  OTG Infrared  Lightning  Quad-Band Tri-Band  Wireless charging WAP  \\\n0  ...  0.0        0        0.0          0        0                0.0   0   \n1  ...  0.0        0        0.0          0        0                0.0   0   \n2  ...  0.0        0        0.0          0        0                0.0   0   \n3  ...  1.0        1        1.0          1        1                1.0   1   \n4  ...  0.0        0        0.0          0        0                0.0   0   \n\n  WCDMA            Last_Sale Is_Target  \n0     0  2023-06-14 00:00:00         0  \n1     0  2023-06-14 00:00:00         0  \n2     0  2023-06-14 00:00:00         0  \n3     1  2023-06-14 00:00:00         0  \n4     0  2023-06-14 00:00:00         0  \n\n[5 rows x 65 columns]",
      "text/html": "<div>\n<style scoped>\n    .dataframe tbody tr th:only-of-type {\n        vertical-align: middle;\n    }\n\n    .dataframe tbody tr th {\n        vertical-align: top;\n    }\n\n    .dataframe thead th {\n        text-align: right;\n    }\n</style>\n<table border=\"1\" class=\"dataframe\">\n  <thead>\n    <tr style=\"text-align: right;\">\n      <th></th>\n      <th>Title</th>\n      <th>Price</th>\n      <th>Shipping_cost</th>\n      <th>Sales_Count</th>\n      <th>Sales_Value</th>\n      <th>Link</th>\n      <th>Condition</th>\n      <th>Seller Notes</th>\n      <th>Brand</th>\n      <th>Model</th>\n      <th>...</th>\n      <th>OTG</th>\n      <th>Infrared</th>\n      <th>Lightning</th>\n      <th>Quad-Band</th>\n      <th>Tri-Band</th>\n      <th>Wireless charging</th>\n      <th>WAP</th>\n      <th>WCDMA</th>\n      <th>Last_Sale</th>\n      <th>Is_Target</th>\n    </tr>\n  </thead>\n  <tbody>\n    <tr>\n      <th>0</th>\n      <td>Apple iPhone 11 64GB Factory Unlocked 4G LTE S...</td>\n      <td>337.59</td>\n      <td>0.00</td>\n      <td>19787.0</td>\n      <td>6679958.00</td>\n      <td>https://www.ebay.com/itm/254604777645?nordt=tr...</td>\n      <td>Very Good - Refurbished</td>\n      <td>“This iPhone 11 is in Very Good condition and ...</td>\n      <td>apple</td>\n      <td>iPhone 11</td>\n      <td>...</td>\n      <td>0.0</td>\n      <td>0</td>\n      <td>0.0</td>\n      <td>0</td>\n      <td>0</td>\n      <td>0.0</td>\n      <td>0</td>\n      <td>0</td>\n      <td>2023-06-14 00:00:00</td>\n      <td>0</td>\n    </tr>\n    <tr>\n      <th>1</th>\n      <td>Apple iPhone XR 64GB Factory Unlocked Smartpho...</td>\n      <td>266.28</td>\n      <td>0.00</td>\n      <td>12440.0</td>\n      <td>3312560.60</td>\n      <td>https://www.ebay.com/itm/254187678666?nordt=tr...</td>\n      <td>Very Good - Refurbished</td>\n      <td>“This Apple iPhone XR 64GB Factory Unlocked Sm...</td>\n      <td>apple</td>\n      <td>iPhone XR</td>\n      <td>...</td>\n      <td>0.0</td>\n      <td>0</td>\n      <td>0.0</td>\n      <td>0</td>\n      <td>0</td>\n      <td>0.0</td>\n      <td>0</td>\n      <td>0</td>\n      <td>2023-06-14 00:00:00</td>\n      <td>0</td>\n    </tr>\n    <tr>\n      <th>2</th>\n      <td>Apple iPhone 11 64GB Unlocked Smartphone - Ver...</td>\n      <td>359.11</td>\n      <td>16.93</td>\n      <td>12224.0</td>\n      <td>4389742.37</td>\n      <td>https://www.ebay.com/itm/363183815277?nordt=tr...</td>\n      <td>Very Good - Refurbished</td>\n      <td>“This is a B+ Stock item, meaning unit is in v...</td>\n      <td>apple</td>\n      <td>Apple iPhone 11</td>\n      <td>...</td>\n      <td>0.0</td>\n      <td>0</td>\n      <td>0.0</td>\n      <td>0</td>\n      <td>0</td>\n      <td>0.0</td>\n      <td>0</td>\n      <td>0</td>\n      <td>2023-06-14 00:00:00</td>\n      <td>0</td>\n    </tr>\n    <tr>\n      <th>3</th>\n      <td>Apple iPhone X 64GB Factory Unlocked Phone - V...</td>\n      <td>231.98</td>\n      <td>16.50</td>\n      <td>11781.0</td>\n      <td>2732899.88</td>\n      <td>https://www.ebay.com/itm/382605209867?nordt=tr...</td>\n      <td>Very Good - Refurbished</td>\n      <td>“This is a B+ Stock item, meaning unit is in v...</td>\n      <td>apple</td>\n      <td>Apple iPhone X</td>\n      <td>...</td>\n      <td>1.0</td>\n      <td>1</td>\n      <td>1.0</td>\n      <td>1</td>\n      <td>1</td>\n      <td>1.0</td>\n      <td>1</td>\n      <td>1</td>\n      <td>2023-06-14 00:00:00</td>\n      <td>0</td>\n    </tr>\n    <tr>\n      <th>4</th>\n      <td>Apple iPhone X 256GB Unlocked Smartphone - Ver...</td>\n      <td>263.59</td>\n      <td>15.34</td>\n      <td>10020.0</td>\n      <td>2641203.85</td>\n      <td>https://www.ebay.com/itm/382446518910?nordt=tr...</td>\n      <td>Very Good - Refurbished</td>\n      <td>“This is a B+ Stock item, meaning unit is in v...</td>\n      <td>apple</td>\n      <td>Apple iPhone X</td>\n      <td>...</td>\n      <td>0.0</td>\n      <td>0</td>\n      <td>0.0</td>\n      <td>0</td>\n      <td>0</td>\n      <td>0.0</td>\n      <td>0</td>\n      <td>0</td>\n      <td>2023-06-14 00:00:00</td>\n      <td>0</td>\n    </tr>\n  </tbody>\n</table>\n<p>5 rows × 65 columns</p>\n</div>"
     },
     "execution_count": 2,
     "metadata": {},
     "output_type": "execute_result"
    }
   ],
   "source": [
    "data = pd.read_csv('https://raw.githubusercontent.com/AleksKids/hedonistic-demand-from-ebay/main/Preprocessing/Great_BD.tsv', delimiter = \"\\t\")\n",
    "data.head()"
   ],
   "metadata": {
    "collapsed": false,
    "pycharm": {
     "name": "#%%\n"
    }
   }
  },
  {
   "cell_type": "markdown",
   "source": [
    "## Описание столбцов:\n",
    "\n",
    "* `Title` - Название устройства\n",
    "* `Price` - Цена устройства\n",
    "* `Shipping_cost` - Стоимость доставки\n",
    "* `Sales_Count` - Количество продаж\n",
    "* `Sales_Value` - Выручка\n",
    "* `Link` - Ссылка на устройство\n",
    "* `Condition` - Состояние устройства\n",
    "* `Seller Notes` - Заметки продавца\n",
    "* `Brand` - Бренд\n",
    "* `Model` - Модель\n",
    "* `Storage Capacity` - Объём встроенной памяти\n",
    "* `Network` - Сети\n",
    "* `Camera Resolution` - Разрешение камеры\n",
    "* `Screen Size` - Размер экрана\n",
    "* `Lock Status` - Смартфон заблокирован оператором\\смартфон разблокирован\n",
    "* `RAM` - Объём оперативной памяти\n",
    "* `Contract` - Контракт, что бы это не значило\n",
    "* `Operating System` - Операционная система\n",
    "* `Model Number` - Номер модели\n",
    "* `Style` - Стиль (Смартфон, раскладушка и т.д.)\n",
    "* `MPN` -\n",
    "* `Connectivity` - Доступные протоколы подключения\n",
    "* `Features` - Доступные функции\n",
    "* `SIM Card Slot` - Слоты симкарт\n",
    "* `Memory Card Type` - Поддержка карт памяти\n",
    "* `Processor` - Процессор\n",
    "* `Color` - Цвет\n",
    "Следующие характеристики закодированы через One-Hot encoding. Их подробное описание не имеет смысла.\n",
    "* `2G` -\n",
    "* `3G` -\n",
    "* `4G` -\n",
    "* `5G` -\n",
    "* `Bluetooth` -\n",
    "* `GSM` -\n",
    "* `WI-FI` -\n",
    "* `Micro USB` -\n",
    "* `USB` -\n",
    "* `Type-C` -\n",
    "* `Fast_usb` -\n",
    "* `NFC` -\n",
    "* `Dual-Band` -\n",
    "* `ANT+` -\n",
    "* `Android Beam` -\n",
    "* `Beidou` -\n",
    "* `Cellular` -\n",
    "* `FM` -\n",
    "* `DLNA` -\n",
    "* `EDGE` -\n",
    "* `Fast Charge` -\n",
    "* `GPS` -\n",
    "* `Galileo` -\n",
    "* `Global Version` -\n",
    "* `HDMI Micro` -\n",
    "* `Glonass` -\n",
    "* `Headphone Jack` -\n",
    "* `OTA` -\n",
    "* `OTG` -\n",
    "* `Infrared` -\n",
    "* `Lightning` -\n",
    "* `Quad-Band` -\n",
    "* `Tri-Band` -\n",
    "* `Wireless charging` -\n",
    "* `WAP` -\n",
    "* `WCDMA` -\n",
    "* `Last_Sale` -\n",
    "\n",
    "* `Is_Target` - 0 - сборная солянка, по которой обучалась модель. 1 - redmi и nokia на которых модель применялась. Флаг для сегрегации."
   ],
   "metadata": {
    "collapsed": false,
    "pycharm": {
     "name": "#%% md\n"
    }
   }
  },
  {
   "cell_type": "code",
   "execution_count": null,
   "outputs": [],
   "source": [],
   "metadata": {
    "collapsed": false,
    "pycharm": {
     "name": "#%%\n"
    }
   }
  }
 ],
 "metadata": {
  "kernelspec": {
   "display_name": "Python 3",
   "language": "python",
   "name": "python3"
  },
  "language_info": {
   "codemirror_mode": {
    "name": "ipython",
    "version": 2
   },
   "file_extension": ".py",
   "mimetype": "text/x-python",
   "name": "python",
   "nbconvert_exporter": "python",
   "pygments_lexer": "ipython2",
   "version": "2.7.6"
  }
 },
 "nbformat": 4,
 "nbformat_minor": 0
}