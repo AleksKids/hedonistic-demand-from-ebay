{
 "cells": [
  {
   "cell_type": "code",
   "execution_count": 1,
   "metadata": {
    "id": "0kaeE1Ifo9hy"
   },
   "outputs": [],
   "source": [
    "import numpy as np\n",
    "import matplotlib.pyplot as plt\n",
    "import pandas as pd\n",
    "import seaborn as sns"
   ]
  },
  {
   "cell_type": "markdown",
   "metadata": {
    "id": "qSmWAX0xfOgh"
   },
   "source": [
    "Для курсовой работы Андрея Кривоносова мы решили спарсить данные с ebay: продаваемые там телефоны, их марки и характеристики. На основне этих данныех Андрей далее будет определять изменение в истинном спросе потребителей на товар после ажиотажа перед началом продаж. \n",
    "\n",
    "Сначала мы спарсили ссылки на страницы, а потом заставили компьютер пройтись по всем ссылкам, вытащить названия телефонов и ссылки на их характеристики, а потом добавить эти характеристики к до этого полученной информации. Далее мы решили привести данные в адекватный вид: обработали названия, выделили марки в отдельную колонку. \n",
    "\n",
    "Потом мы составили несколько гистограммок, на которых показали разные взаимосвязи наших данных. Продолжение работы вы можете увидеть далее:"
   ]
  },
  {
   "cell_type": "code",
   "execution_count": 2,
   "metadata": {
    "id": "wdMfhswmHsXr"
   },
   "outputs": [],
   "source": [
    "# гистограмма (марка телефона, количесво в выбоорке)\n",
    "# гистограмма (цена, количество телефонов)\n",
    "# гистограмма (марка, сумма продаж)\n",
    "# гистограмма (марка, средняя цена)\n",
    "\n",
    "# описание статистики, цель исследования, гипотеза - перед запуском продумкта на рынок создается чрезсреный ажиотаж, за счет которого реальная стоимость товара переоценивается потребителями\n",
    "# полученные данные необходимы для понимания спроса на товары после их запуска"
   ]
  },
  {
   "cell_type": "markdown",
   "metadata": {
    "id": "7HRoEYZWpAbY"
   },
   "source": [
    "_____"
   ]
  },
  {
   "cell_type": "markdown",
   "metadata": {
    "id": "HhWohghh_07m"
   },
   "source": [
    "Предобработка:"
   ]
  },
  {
   "cell_type": "code",
   "execution_count": 4,
   "metadata": {
    "id": "WDhjGxdbpA0l"
   },
   "outputs": [],
   "source": [
    "df_items = pd.read_csv('https://raw.githubusercontent.com/AleksKids/hedonistic-demand-from-ebay/main/Data%20Tables/Global/Sales.tsv', delimiter = \"\\t\")"
   ]
  },
  {
   "cell_type": "code",
   "execution_count": 5,
   "metadata": {
    "id": "_6sJ97O-qHN1",
    "colab": {
     "base_uri": "https://localhost:8080/"
    },
    "outputId": "d4a8eda0-aeff-410e-9303-973ce0ad5226"
   },
   "outputs": [
    {
     "output_type": "execute_result",
     "data": {
      "text/plain": [
       "Title            0\n",
       "Price            0\n",
       "Shipping_cost    0\n",
       "Sales_Count      0\n",
       "Sales_Value      0\n",
       "Link             0\n",
       "dtype: int64"
      ]
     },
     "metadata": {},
     "execution_count": 5
    }
   ],
   "source": [
    "df_items.dropna(subset=['Link'], inplace=True)\n",
    "df_items.reset_index(inplace=True)\n",
    "df_items.drop('index', axis=1, inplace = True)\n",
    "df_items.isna().sum()"
   ]
  },
  {
   "cell_type": "code",
   "execution_count": 6,
   "metadata": {
    "colab": {
     "base_uri": "https://localhost:8080/",
     "height": 641
    },
    "id": "y9hFw1i_uOjV",
    "outputId": "b3f8dc75-9431-4d39-e4e9-a337cc7c910f"
   },
   "outputs": [
    {
     "output_type": "execute_result",
     "data": {
      "text/plain": [
       "                                                  Title    Price  \\\n",
       "0     Apple iPhone 11 64GB Factory Unlocked 4G LTE S...  $337.59   \n",
       "1     Apple iPhone XR 64GB Factory Unlocked Smartpho...  $266.28   \n",
       "2     Apple iPhone 11 64GB Unlocked Smartphone - Ver...  $359.11   \n",
       "3     Apple iPhone X 64GB Factory Unlocked Phone - V...  $231.98   \n",
       "4     Apple iPhone X 256GB Unlocked Smartphone - Ver...  $263.59   \n",
       "...                                                 ...      ...   \n",
       "2919  Samsung Galaxy Note8 SM-N950U - 64GB (Unlocked...  $128.40   \n",
       "2920  Brand New STALA509DCP TCL A3 32GB Storage 3GB ...   $43.13   \n",
       "2921  Apple iPhone 12 Pro Max - 128GB - Fully Unlock...  $554.31   \n",
       "2922  Apple iPhone 13 Mini 128GB - T-Mobile / Metro ...  $380.90   \n",
       "2923  *NEW SEALED* Samsung Galaxy S5 Active G870A - ...   $99.74   \n",
       "\n",
       "     Shipping_cost Sales_Count    Sales_Value  \\\n",
       "0            $0.00      19,787  $6,679,958.00   \n",
       "1            $0.00      12,440  $3,312,560.60   \n",
       "2           $16.93      12,224  $4,389,742.37   \n",
       "3           $16.50      11,781  $2,732,899.88   \n",
       "4           $15.34      10,020  $2,641,203.85   \n",
       "...            ...         ...            ...   \n",
       "2919         $0.00          37      $4,750.91   \n",
       "2920         $0.00          34      $1,466.36   \n",
       "2921         $0.00          37     $20,509.63   \n",
       "2922         $0.00          33     $12,569.67   \n",
       "2923         $5.99          36      $3,590.64   \n",
       "\n",
       "                                                   Link  \n",
       "0     https://www.ebay.com/itm/254604777645?nordt=tr...  \n",
       "1     https://www.ebay.com/itm/254187678666?nordt=tr...  \n",
       "2     https://www.ebay.com/itm/363183815277?nordt=tr...  \n",
       "3     https://www.ebay.com/itm/382605209867?nordt=tr...  \n",
       "4     https://www.ebay.com/itm/382446518910?nordt=tr...  \n",
       "...                                                 ...  \n",
       "2919  https://www.ebay.com/itm/265635248944?nordt=tr...  \n",
       "2920  https://www.ebay.com/itm/265731617536?nordt=tr...  \n",
       "2921  https://www.ebay.com/itm/265936106963?nordt=tr...  \n",
       "2922  https://www.ebay.com/itm/266138817726?nordt=tr...  \n",
       "2923  https://www.ebay.com/itm/284638798917?nordt=tr...  \n",
       "\n",
       "[2924 rows x 6 columns]"
      ],
      "text/html": [
       "\n",
       "  <div id=\"df-ed46559f-46b9-406a-a4ff-655949098a3b\">\n",
       "    <div class=\"colab-df-container\">\n",
       "      <div>\n",
       "<style scoped>\n",
       "    .dataframe tbody tr th:only-of-type {\n",
       "        vertical-align: middle;\n",
       "    }\n",
       "\n",
       "    .dataframe tbody tr th {\n",
       "        vertical-align: top;\n",
       "    }\n",
       "\n",
       "    .dataframe thead th {\n",
       "        text-align: right;\n",
       "    }\n",
       "</style>\n",
       "<table border=\"1\" class=\"dataframe\">\n",
       "  <thead>\n",
       "    <tr style=\"text-align: right;\">\n",
       "      <th></th>\n",
       "      <th>Title</th>\n",
       "      <th>Price</th>\n",
       "      <th>Shipping_cost</th>\n",
       "      <th>Sales_Count</th>\n",
       "      <th>Sales_Value</th>\n",
       "      <th>Link</th>\n",
       "    </tr>\n",
       "  </thead>\n",
       "  <tbody>\n",
       "    <tr>\n",
       "      <th>0</th>\n",
       "      <td>Apple iPhone 11 64GB Factory Unlocked 4G LTE S...</td>\n",
       "      <td>$337.59</td>\n",
       "      <td>$0.00</td>\n",
       "      <td>19,787</td>\n",
       "      <td>$6,679,958.00</td>\n",
       "      <td>https://www.ebay.com/itm/254604777645?nordt=tr...</td>\n",
       "    </tr>\n",
       "    <tr>\n",
       "      <th>1</th>\n",
       "      <td>Apple iPhone XR 64GB Factory Unlocked Smartpho...</td>\n",
       "      <td>$266.28</td>\n",
       "      <td>$0.00</td>\n",
       "      <td>12,440</td>\n",
       "      <td>$3,312,560.60</td>\n",
       "      <td>https://www.ebay.com/itm/254187678666?nordt=tr...</td>\n",
       "    </tr>\n",
       "    <tr>\n",
       "      <th>2</th>\n",
       "      <td>Apple iPhone 11 64GB Unlocked Smartphone - Ver...</td>\n",
       "      <td>$359.11</td>\n",
       "      <td>$16.93</td>\n",
       "      <td>12,224</td>\n",
       "      <td>$4,389,742.37</td>\n",
       "      <td>https://www.ebay.com/itm/363183815277?nordt=tr...</td>\n",
       "    </tr>\n",
       "    <tr>\n",
       "      <th>3</th>\n",
       "      <td>Apple iPhone X 64GB Factory Unlocked Phone - V...</td>\n",
       "      <td>$231.98</td>\n",
       "      <td>$16.50</td>\n",
       "      <td>11,781</td>\n",
       "      <td>$2,732,899.88</td>\n",
       "      <td>https://www.ebay.com/itm/382605209867?nordt=tr...</td>\n",
       "    </tr>\n",
       "    <tr>\n",
       "      <th>4</th>\n",
       "      <td>Apple iPhone X 256GB Unlocked Smartphone - Ver...</td>\n",
       "      <td>$263.59</td>\n",
       "      <td>$15.34</td>\n",
       "      <td>10,020</td>\n",
       "      <td>$2,641,203.85</td>\n",
       "      <td>https://www.ebay.com/itm/382446518910?nordt=tr...</td>\n",
       "    </tr>\n",
       "    <tr>\n",
       "      <th>...</th>\n",
       "      <td>...</td>\n",
       "      <td>...</td>\n",
       "      <td>...</td>\n",
       "      <td>...</td>\n",
       "      <td>...</td>\n",
       "      <td>...</td>\n",
       "    </tr>\n",
       "    <tr>\n",
       "      <th>2919</th>\n",
       "      <td>Samsung Galaxy Note8 SM-N950U - 64GB (Unlocked...</td>\n",
       "      <td>$128.40</td>\n",
       "      <td>$0.00</td>\n",
       "      <td>37</td>\n",
       "      <td>$4,750.91</td>\n",
       "      <td>https://www.ebay.com/itm/265635248944?nordt=tr...</td>\n",
       "    </tr>\n",
       "    <tr>\n",
       "      <th>2920</th>\n",
       "      <td>Brand New STALA509DCP TCL A3 32GB Storage 3GB ...</td>\n",
       "      <td>$43.13</td>\n",
       "      <td>$0.00</td>\n",
       "      <td>34</td>\n",
       "      <td>$1,466.36</td>\n",
       "      <td>https://www.ebay.com/itm/265731617536?nordt=tr...</td>\n",
       "    </tr>\n",
       "    <tr>\n",
       "      <th>2921</th>\n",
       "      <td>Apple iPhone 12 Pro Max - 128GB - Fully Unlock...</td>\n",
       "      <td>$554.31</td>\n",
       "      <td>$0.00</td>\n",
       "      <td>37</td>\n",
       "      <td>$20,509.63</td>\n",
       "      <td>https://www.ebay.com/itm/265936106963?nordt=tr...</td>\n",
       "    </tr>\n",
       "    <tr>\n",
       "      <th>2922</th>\n",
       "      <td>Apple iPhone 13 Mini 128GB - T-Mobile / Metro ...</td>\n",
       "      <td>$380.90</td>\n",
       "      <td>$0.00</td>\n",
       "      <td>33</td>\n",
       "      <td>$12,569.67</td>\n",
       "      <td>https://www.ebay.com/itm/266138817726?nordt=tr...</td>\n",
       "    </tr>\n",
       "    <tr>\n",
       "      <th>2923</th>\n",
       "      <td>*NEW SEALED* Samsung Galaxy S5 Active G870A - ...</td>\n",
       "      <td>$99.74</td>\n",
       "      <td>$5.99</td>\n",
       "      <td>36</td>\n",
       "      <td>$3,590.64</td>\n",
       "      <td>https://www.ebay.com/itm/284638798917?nordt=tr...</td>\n",
       "    </tr>\n",
       "  </tbody>\n",
       "</table>\n",
       "<p>2924 rows × 6 columns</p>\n",
       "</div>\n",
       "      <button class=\"colab-df-convert\" onclick=\"convertToInteractive('df-ed46559f-46b9-406a-a4ff-655949098a3b')\"\n",
       "              title=\"Convert this dataframe to an interactive table.\"\n",
       "              style=\"display:none;\">\n",
       "        \n",
       "  <svg xmlns=\"http://www.w3.org/2000/svg\" height=\"24px\"viewBox=\"0 0 24 24\"\n",
       "       width=\"24px\">\n",
       "    <path d=\"M0 0h24v24H0V0z\" fill=\"none\"/>\n",
       "    <path d=\"M18.56 5.44l.94 2.06.94-2.06 2.06-.94-2.06-.94-.94-2.06-.94 2.06-2.06.94zm-11 1L8.5 8.5l.94-2.06 2.06-.94-2.06-.94L8.5 2.5l-.94 2.06-2.06.94zm10 10l.94 2.06.94-2.06 2.06-.94-2.06-.94-.94-2.06-.94 2.06-2.06.94z\"/><path d=\"M17.41 7.96l-1.37-1.37c-.4-.4-.92-.59-1.43-.59-.52 0-1.04.2-1.43.59L10.3 9.45l-7.72 7.72c-.78.78-.78 2.05 0 2.83L4 21.41c.39.39.9.59 1.41.59.51 0 1.02-.2 1.41-.59l7.78-7.78 2.81-2.81c.8-.78.8-2.07 0-2.86zM5.41 20L4 18.59l7.72-7.72 1.47 1.35L5.41 20z\"/>\n",
       "  </svg>\n",
       "      </button>\n",
       "      \n",
       "  <style>\n",
       "    .colab-df-container {\n",
       "      display:flex;\n",
       "      flex-wrap:wrap;\n",
       "      gap: 12px;\n",
       "    }\n",
       "\n",
       "    .colab-df-convert {\n",
       "      background-color: #E8F0FE;\n",
       "      border: none;\n",
       "      border-radius: 50%;\n",
       "      cursor: pointer;\n",
       "      display: none;\n",
       "      fill: #1967D2;\n",
       "      height: 32px;\n",
       "      padding: 0 0 0 0;\n",
       "      width: 32px;\n",
       "    }\n",
       "\n",
       "    .colab-df-convert:hover {\n",
       "      background-color: #E2EBFA;\n",
       "      box-shadow: 0px 1px 2px rgba(60, 64, 67, 0.3), 0px 1px 3px 1px rgba(60, 64, 67, 0.15);\n",
       "      fill: #174EA6;\n",
       "    }\n",
       "\n",
       "    [theme=dark] .colab-df-convert {\n",
       "      background-color: #3B4455;\n",
       "      fill: #D2E3FC;\n",
       "    }\n",
       "\n",
       "    [theme=dark] .colab-df-convert:hover {\n",
       "      background-color: #434B5C;\n",
       "      box-shadow: 0px 1px 3px 1px rgba(0, 0, 0, 0.15);\n",
       "      filter: drop-shadow(0px 1px 2px rgba(0, 0, 0, 0.3));\n",
       "      fill: #FFFFFF;\n",
       "    }\n",
       "  </style>\n",
       "\n",
       "      <script>\n",
       "        const buttonEl =\n",
       "          document.querySelector('#df-ed46559f-46b9-406a-a4ff-655949098a3b button.colab-df-convert');\n",
       "        buttonEl.style.display =\n",
       "          google.colab.kernel.accessAllowed ? 'block' : 'none';\n",
       "\n",
       "        async function convertToInteractive(key) {\n",
       "          const element = document.querySelector('#df-ed46559f-46b9-406a-a4ff-655949098a3b');\n",
       "          const dataTable =\n",
       "            await google.colab.kernel.invokeFunction('convertToInteractive',\n",
       "                                                     [key], {});\n",
       "          if (!dataTable) return;\n",
       "\n",
       "          const docLinkHtml = 'Like what you see? Visit the ' +\n",
       "            '<a target=\"_blank\" href=https://colab.research.google.com/notebooks/data_table.ipynb>data table notebook</a>'\n",
       "            + ' to learn more about interactive tables.';\n",
       "          element.innerHTML = '';\n",
       "          dataTable['output_type'] = 'display_data';\n",
       "          await google.colab.output.renderOutput(dataTable, element);\n",
       "          const docLink = document.createElement('div');\n",
       "          docLink.innerHTML = docLinkHtml;\n",
       "          element.appendChild(docLink);\n",
       "        }\n",
       "      </script>\n",
       "    </div>\n",
       "  </div>\n",
       "  "
      ]
     },
     "metadata": {},
     "execution_count": 6
    }
   ],
   "source": [
    "df_items"
   ]
  },
  {
   "cell_type": "code",
   "execution_count": 7,
   "metadata": {
    "id": "nRYOFwAG6ami"
   },
   "outputs": [],
   "source": [
    "import re\n",
    "\n",
    "def Sales_Value(value):\n",
    "  pattern = r'\\$|,'\n",
    "  clean_value = re.sub(pattern, '', value)\n",
    "  numeric_value = float(clean_value)\n",
    "  return numeric_value\n",
    "\n",
    "\n",
    "df_items.Price = df_items.Price.apply(lambda x: float(re.sub(r'[^\\d.]', '', x)))\n",
    "df_items.Shipping_cost = df_items.Shipping_cost.apply(lambda x: float(re.sub(r'[^\\d.]', '', x)))\n",
    "df_items.Sales_Count = df_items.Sales_Count.apply(lambda x: float(re.sub(\",\", \"\", x))) \n",
    "df_items.Sales_Value = df_items.Sales_Value.apply(lambda x: Sales_Value(x))"
   ]
  },
  {
   "cell_type": "code",
   "execution_count": 8,
   "metadata": {
    "colab": {
     "base_uri": "https://localhost:8080/",
     "height": 641
    },
    "id": "w5aczPL06zRL",
    "outputId": "4d933bf9-cb82-46d4-e0b8-23ce466c70c0"
   },
   "outputs": [
    {
     "output_type": "execute_result",
     "data": {
      "text/plain": [
       "                                                  Title   Price  \\\n",
       "0     Apple iPhone 11 64GB Factory Unlocked 4G LTE S...  337.59   \n",
       "1     Apple iPhone XR 64GB Factory Unlocked Smartpho...  266.28   \n",
       "2     Apple iPhone 11 64GB Unlocked Smartphone - Ver...  359.11   \n",
       "3     Apple iPhone X 64GB Factory Unlocked Phone - V...  231.98   \n",
       "4     Apple iPhone X 256GB Unlocked Smartphone - Ver...  263.59   \n",
       "...                                                 ...     ...   \n",
       "2919  Samsung Galaxy Note8 SM-N950U - 64GB (Unlocked...  128.40   \n",
       "2920  Brand New STALA509DCP TCL A3 32GB Storage 3GB ...   43.13   \n",
       "2921  Apple iPhone 12 Pro Max - 128GB - Fully Unlock...  554.31   \n",
       "2922  Apple iPhone 13 Mini 128GB - T-Mobile / Metro ...  380.90   \n",
       "2923  *NEW SEALED* Samsung Galaxy S5 Active G870A - ...   99.74   \n",
       "\n",
       "      Shipping_cost  Sales_Count  Sales_Value  \\\n",
       "0              0.00      19787.0   6679958.00   \n",
       "1              0.00      12440.0   3312560.60   \n",
       "2             16.93      12224.0   4389742.37   \n",
       "3             16.50      11781.0   2732899.88   \n",
       "4             15.34      10020.0   2641203.85   \n",
       "...             ...          ...          ...   \n",
       "2919           0.00         37.0      4750.91   \n",
       "2920           0.00         34.0      1466.36   \n",
       "2921           0.00         37.0     20509.63   \n",
       "2922           0.00         33.0     12569.67   \n",
       "2923           5.99         36.0      3590.64   \n",
       "\n",
       "                                                   Link  \n",
       "0     https://www.ebay.com/itm/254604777645?nordt=tr...  \n",
       "1     https://www.ebay.com/itm/254187678666?nordt=tr...  \n",
       "2     https://www.ebay.com/itm/363183815277?nordt=tr...  \n",
       "3     https://www.ebay.com/itm/382605209867?nordt=tr...  \n",
       "4     https://www.ebay.com/itm/382446518910?nordt=tr...  \n",
       "...                                                 ...  \n",
       "2919  https://www.ebay.com/itm/265635248944?nordt=tr...  \n",
       "2920  https://www.ebay.com/itm/265731617536?nordt=tr...  \n",
       "2921  https://www.ebay.com/itm/265936106963?nordt=tr...  \n",
       "2922  https://www.ebay.com/itm/266138817726?nordt=tr...  \n",
       "2923  https://www.ebay.com/itm/284638798917?nordt=tr...  \n",
       "\n",
       "[2924 rows x 6 columns]"
      ],
      "text/html": [
       "\n",
       "  <div id=\"df-95528c00-7e32-413e-94c7-080f8b8250b9\">\n",
       "    <div class=\"colab-df-container\">\n",
       "      <div>\n",
       "<style scoped>\n",
       "    .dataframe tbody tr th:only-of-type {\n",
       "        vertical-align: middle;\n",
       "    }\n",
       "\n",
       "    .dataframe tbody tr th {\n",
       "        vertical-align: top;\n",
       "    }\n",
       "\n",
       "    .dataframe thead th {\n",
       "        text-align: right;\n",
       "    }\n",
       "</style>\n",
       "<table border=\"1\" class=\"dataframe\">\n",
       "  <thead>\n",
       "    <tr style=\"text-align: right;\">\n",
       "      <th></th>\n",
       "      <th>Title</th>\n",
       "      <th>Price</th>\n",
       "      <th>Shipping_cost</th>\n",
       "      <th>Sales_Count</th>\n",
       "      <th>Sales_Value</th>\n",
       "      <th>Link</th>\n",
       "    </tr>\n",
       "  </thead>\n",
       "  <tbody>\n",
       "    <tr>\n",
       "      <th>0</th>\n",
       "      <td>Apple iPhone 11 64GB Factory Unlocked 4G LTE S...</td>\n",
       "      <td>337.59</td>\n",
       "      <td>0.00</td>\n",
       "      <td>19787.0</td>\n",
       "      <td>6679958.00</td>\n",
       "      <td>https://www.ebay.com/itm/254604777645?nordt=tr...</td>\n",
       "    </tr>\n",
       "    <tr>\n",
       "      <th>1</th>\n",
       "      <td>Apple iPhone XR 64GB Factory Unlocked Smartpho...</td>\n",
       "      <td>266.28</td>\n",
       "      <td>0.00</td>\n",
       "      <td>12440.0</td>\n",
       "      <td>3312560.60</td>\n",
       "      <td>https://www.ebay.com/itm/254187678666?nordt=tr...</td>\n",
       "    </tr>\n",
       "    <tr>\n",
       "      <th>2</th>\n",
       "      <td>Apple iPhone 11 64GB Unlocked Smartphone - Ver...</td>\n",
       "      <td>359.11</td>\n",
       "      <td>16.93</td>\n",
       "      <td>12224.0</td>\n",
       "      <td>4389742.37</td>\n",
       "      <td>https://www.ebay.com/itm/363183815277?nordt=tr...</td>\n",
       "    </tr>\n",
       "    <tr>\n",
       "      <th>3</th>\n",
       "      <td>Apple iPhone X 64GB Factory Unlocked Phone - V...</td>\n",
       "      <td>231.98</td>\n",
       "      <td>16.50</td>\n",
       "      <td>11781.0</td>\n",
       "      <td>2732899.88</td>\n",
       "      <td>https://www.ebay.com/itm/382605209867?nordt=tr...</td>\n",
       "    </tr>\n",
       "    <tr>\n",
       "      <th>4</th>\n",
       "      <td>Apple iPhone X 256GB Unlocked Smartphone - Ver...</td>\n",
       "      <td>263.59</td>\n",
       "      <td>15.34</td>\n",
       "      <td>10020.0</td>\n",
       "      <td>2641203.85</td>\n",
       "      <td>https://www.ebay.com/itm/382446518910?nordt=tr...</td>\n",
       "    </tr>\n",
       "    <tr>\n",
       "      <th>...</th>\n",
       "      <td>...</td>\n",
       "      <td>...</td>\n",
       "      <td>...</td>\n",
       "      <td>...</td>\n",
       "      <td>...</td>\n",
       "      <td>...</td>\n",
       "    </tr>\n",
       "    <tr>\n",
       "      <th>2919</th>\n",
       "      <td>Samsung Galaxy Note8 SM-N950U - 64GB (Unlocked...</td>\n",
       "      <td>128.40</td>\n",
       "      <td>0.00</td>\n",
       "      <td>37.0</td>\n",
       "      <td>4750.91</td>\n",
       "      <td>https://www.ebay.com/itm/265635248944?nordt=tr...</td>\n",
       "    </tr>\n",
       "    <tr>\n",
       "      <th>2920</th>\n",
       "      <td>Brand New STALA509DCP TCL A3 32GB Storage 3GB ...</td>\n",
       "      <td>43.13</td>\n",
       "      <td>0.00</td>\n",
       "      <td>34.0</td>\n",
       "      <td>1466.36</td>\n",
       "      <td>https://www.ebay.com/itm/265731617536?nordt=tr...</td>\n",
       "    </tr>\n",
       "    <tr>\n",
       "      <th>2921</th>\n",
       "      <td>Apple iPhone 12 Pro Max - 128GB - Fully Unlock...</td>\n",
       "      <td>554.31</td>\n",
       "      <td>0.00</td>\n",
       "      <td>37.0</td>\n",
       "      <td>20509.63</td>\n",
       "      <td>https://www.ebay.com/itm/265936106963?nordt=tr...</td>\n",
       "    </tr>\n",
       "    <tr>\n",
       "      <th>2922</th>\n",
       "      <td>Apple iPhone 13 Mini 128GB - T-Mobile / Metro ...</td>\n",
       "      <td>380.90</td>\n",
       "      <td>0.00</td>\n",
       "      <td>33.0</td>\n",
       "      <td>12569.67</td>\n",
       "      <td>https://www.ebay.com/itm/266138817726?nordt=tr...</td>\n",
       "    </tr>\n",
       "    <tr>\n",
       "      <th>2923</th>\n",
       "      <td>*NEW SEALED* Samsung Galaxy S5 Active G870A - ...</td>\n",
       "      <td>99.74</td>\n",
       "      <td>5.99</td>\n",
       "      <td>36.0</td>\n",
       "      <td>3590.64</td>\n",
       "      <td>https://www.ebay.com/itm/284638798917?nordt=tr...</td>\n",
       "    </tr>\n",
       "  </tbody>\n",
       "</table>\n",
       "<p>2924 rows × 6 columns</p>\n",
       "</div>\n",
       "      <button class=\"colab-df-convert\" onclick=\"convertToInteractive('df-95528c00-7e32-413e-94c7-080f8b8250b9')\"\n",
       "              title=\"Convert this dataframe to an interactive table.\"\n",
       "              style=\"display:none;\">\n",
       "        \n",
       "  <svg xmlns=\"http://www.w3.org/2000/svg\" height=\"24px\"viewBox=\"0 0 24 24\"\n",
       "       width=\"24px\">\n",
       "    <path d=\"M0 0h24v24H0V0z\" fill=\"none\"/>\n",
       "    <path d=\"M18.56 5.44l.94 2.06.94-2.06 2.06-.94-2.06-.94-.94-2.06-.94 2.06-2.06.94zm-11 1L8.5 8.5l.94-2.06 2.06-.94-2.06-.94L8.5 2.5l-.94 2.06-2.06.94zm10 10l.94 2.06.94-2.06 2.06-.94-2.06-.94-.94-2.06-.94 2.06-2.06.94z\"/><path d=\"M17.41 7.96l-1.37-1.37c-.4-.4-.92-.59-1.43-.59-.52 0-1.04.2-1.43.59L10.3 9.45l-7.72 7.72c-.78.78-.78 2.05 0 2.83L4 21.41c.39.39.9.59 1.41.59.51 0 1.02-.2 1.41-.59l7.78-7.78 2.81-2.81c.8-.78.8-2.07 0-2.86zM5.41 20L4 18.59l7.72-7.72 1.47 1.35L5.41 20z\"/>\n",
       "  </svg>\n",
       "      </button>\n",
       "      \n",
       "  <style>\n",
       "    .colab-df-container {\n",
       "      display:flex;\n",
       "      flex-wrap:wrap;\n",
       "      gap: 12px;\n",
       "    }\n",
       "\n",
       "    .colab-df-convert {\n",
       "      background-color: #E8F0FE;\n",
       "      border: none;\n",
       "      border-radius: 50%;\n",
       "      cursor: pointer;\n",
       "      display: none;\n",
       "      fill: #1967D2;\n",
       "      height: 32px;\n",
       "      padding: 0 0 0 0;\n",
       "      width: 32px;\n",
       "    }\n",
       "\n",
       "    .colab-df-convert:hover {\n",
       "      background-color: #E2EBFA;\n",
       "      box-shadow: 0px 1px 2px rgba(60, 64, 67, 0.3), 0px 1px 3px 1px rgba(60, 64, 67, 0.15);\n",
       "      fill: #174EA6;\n",
       "    }\n",
       "\n",
       "    [theme=dark] .colab-df-convert {\n",
       "      background-color: #3B4455;\n",
       "      fill: #D2E3FC;\n",
       "    }\n",
       "\n",
       "    [theme=dark] .colab-df-convert:hover {\n",
       "      background-color: #434B5C;\n",
       "      box-shadow: 0px 1px 3px 1px rgba(0, 0, 0, 0.15);\n",
       "      filter: drop-shadow(0px 1px 2px rgba(0, 0, 0, 0.3));\n",
       "      fill: #FFFFFF;\n",
       "    }\n",
       "  </style>\n",
       "\n",
       "      <script>\n",
       "        const buttonEl =\n",
       "          document.querySelector('#df-95528c00-7e32-413e-94c7-080f8b8250b9 button.colab-df-convert');\n",
       "        buttonEl.style.display =\n",
       "          google.colab.kernel.accessAllowed ? 'block' : 'none';\n",
       "\n",
       "        async function convertToInteractive(key) {\n",
       "          const element = document.querySelector('#df-95528c00-7e32-413e-94c7-080f8b8250b9');\n",
       "          const dataTable =\n",
       "            await google.colab.kernel.invokeFunction('convertToInteractive',\n",
       "                                                     [key], {});\n",
       "          if (!dataTable) return;\n",
       "\n",
       "          const docLinkHtml = 'Like what you see? Visit the ' +\n",
       "            '<a target=\"_blank\" href=https://colab.research.google.com/notebooks/data_table.ipynb>data table notebook</a>'\n",
       "            + ' to learn more about interactive tables.';\n",
       "          element.innerHTML = '';\n",
       "          dataTable['output_type'] = 'display_data';\n",
       "          await google.colab.output.renderOutput(dataTable, element);\n",
       "          const docLink = document.createElement('div');\n",
       "          docLink.innerHTML = docLinkHtml;\n",
       "          element.appendChild(docLink);\n",
       "        }\n",
       "      </script>\n",
       "    </div>\n",
       "  </div>\n",
       "  "
      ]
     },
     "metadata": {},
     "execution_count": 8
    }
   ],
   "source": [
    "df_items"
   ]
  },
  {
   "cell_type": "code",
   "execution_count": 9,
   "metadata": {
    "colab": {
     "base_uri": "https://localhost:8080/",
     "height": 641
    },
    "id": "meGGft7e9UzW",
    "outputId": "a22ac119-716c-4be3-eb94-621cb4f47a6e"
   },
   "outputs": [
    {
     "output_type": "execute_result",
     "data": {
      "text/plain": [
       "                                                  Title   Price  \\\n",
       "0     Apple iPhone 11 64GB Factory Unlocked 4G LTE S...  337.59   \n",
       "1     Apple iPhone XR 64GB Factory Unlocked Smartpho...  266.28   \n",
       "2     Apple iPhone 11 64GB Unlocked Smartphone - Ver...  359.11   \n",
       "3     Apple iPhone X 64GB Factory Unlocked Phone - V...  231.98   \n",
       "4     Apple iPhone X 256GB Unlocked Smartphone - Ver...  263.59   \n",
       "...                                                 ...     ...   \n",
       "2919  Samsung Galaxy Note8 SM-N950U - 64GB (Unlocked...  128.40   \n",
       "2920  Brand New STALA509DCP TCL A3 32GB Storage 3GB ...   43.13   \n",
       "2921  Apple iPhone 12 Pro Max - 128GB - Fully Unlock...  554.31   \n",
       "2922  Apple iPhone 13 Mini 128GB - T-Mobile / Metro ...  380.90   \n",
       "2923  *NEW SEALED* Samsung Galaxy S5 Active G870A - ...   99.74   \n",
       "\n",
       "      Shipping_cost  Sales_Count  Sales_Value  \\\n",
       "0              0.00      19787.0   6679958.00   \n",
       "1              0.00      12440.0   3312560.60   \n",
       "2             16.93      12224.0   4389742.37   \n",
       "3             16.50      11781.0   2732899.88   \n",
       "4             15.34      10020.0   2641203.85   \n",
       "...             ...          ...          ...   \n",
       "2919           0.00         37.0      4750.91   \n",
       "2920           0.00         34.0      1466.36   \n",
       "2921           0.00         37.0     20509.63   \n",
       "2922           0.00         33.0     12569.67   \n",
       "2923           5.99         36.0      3590.64   \n",
       "\n",
       "                                                   Link    brand  \n",
       "0     https://www.ebay.com/itm/254604777645?nordt=tr...    apple  \n",
       "1     https://www.ebay.com/itm/254187678666?nordt=tr...    apple  \n",
       "2     https://www.ebay.com/itm/363183815277?nordt=tr...    apple  \n",
       "3     https://www.ebay.com/itm/382605209867?nordt=tr...    apple  \n",
       "4     https://www.ebay.com/itm/382446518910?nordt=tr...    apple  \n",
       "...                                                 ...      ...  \n",
       "2919  https://www.ebay.com/itm/265635248944?nordt=tr...  samsung  \n",
       "2920  https://www.ebay.com/itm/265731617536?nordt=tr...      NaN  \n",
       "2921  https://www.ebay.com/itm/265936106963?nordt=tr...    apple  \n",
       "2922  https://www.ebay.com/itm/266138817726?nordt=tr...    apple  \n",
       "2923  https://www.ebay.com/itm/284638798917?nordt=tr...  samsung  \n",
       "\n",
       "[2924 rows x 7 columns]"
      ],
      "text/html": [
       "\n",
       "  <div id=\"df-751d8e0e-4bff-4b88-98ba-72d4645322c3\">\n",
       "    <div class=\"colab-df-container\">\n",
       "      <div>\n",
       "<style scoped>\n",
       "    .dataframe tbody tr th:only-of-type {\n",
       "        vertical-align: middle;\n",
       "    }\n",
       "\n",
       "    .dataframe tbody tr th {\n",
       "        vertical-align: top;\n",
       "    }\n",
       "\n",
       "    .dataframe thead th {\n",
       "        text-align: right;\n",
       "    }\n",
       "</style>\n",
       "<table border=\"1\" class=\"dataframe\">\n",
       "  <thead>\n",
       "    <tr style=\"text-align: right;\">\n",
       "      <th></th>\n",
       "      <th>Title</th>\n",
       "      <th>Price</th>\n",
       "      <th>Shipping_cost</th>\n",
       "      <th>Sales_Count</th>\n",
       "      <th>Sales_Value</th>\n",
       "      <th>Link</th>\n",
       "      <th>brand</th>\n",
       "    </tr>\n",
       "  </thead>\n",
       "  <tbody>\n",
       "    <tr>\n",
       "      <th>0</th>\n",
       "      <td>Apple iPhone 11 64GB Factory Unlocked 4G LTE S...</td>\n",
       "      <td>337.59</td>\n",
       "      <td>0.00</td>\n",
       "      <td>19787.0</td>\n",
       "      <td>6679958.00</td>\n",
       "      <td>https://www.ebay.com/itm/254604777645?nordt=tr...</td>\n",
       "      <td>apple</td>\n",
       "    </tr>\n",
       "    <tr>\n",
       "      <th>1</th>\n",
       "      <td>Apple iPhone XR 64GB Factory Unlocked Smartpho...</td>\n",
       "      <td>266.28</td>\n",
       "      <td>0.00</td>\n",
       "      <td>12440.0</td>\n",
       "      <td>3312560.60</td>\n",
       "      <td>https://www.ebay.com/itm/254187678666?nordt=tr...</td>\n",
       "      <td>apple</td>\n",
       "    </tr>\n",
       "    <tr>\n",
       "      <th>2</th>\n",
       "      <td>Apple iPhone 11 64GB Unlocked Smartphone - Ver...</td>\n",
       "      <td>359.11</td>\n",
       "      <td>16.93</td>\n",
       "      <td>12224.0</td>\n",
       "      <td>4389742.37</td>\n",
       "      <td>https://www.ebay.com/itm/363183815277?nordt=tr...</td>\n",
       "      <td>apple</td>\n",
       "    </tr>\n",
       "    <tr>\n",
       "      <th>3</th>\n",
       "      <td>Apple iPhone X 64GB Factory Unlocked Phone - V...</td>\n",
       "      <td>231.98</td>\n",
       "      <td>16.50</td>\n",
       "      <td>11781.0</td>\n",
       "      <td>2732899.88</td>\n",
       "      <td>https://www.ebay.com/itm/382605209867?nordt=tr...</td>\n",
       "      <td>apple</td>\n",
       "    </tr>\n",
       "    <tr>\n",
       "      <th>4</th>\n",
       "      <td>Apple iPhone X 256GB Unlocked Smartphone - Ver...</td>\n",
       "      <td>263.59</td>\n",
       "      <td>15.34</td>\n",
       "      <td>10020.0</td>\n",
       "      <td>2641203.85</td>\n",
       "      <td>https://www.ebay.com/itm/382446518910?nordt=tr...</td>\n",
       "      <td>apple</td>\n",
       "    </tr>\n",
       "    <tr>\n",
       "      <th>...</th>\n",
       "      <td>...</td>\n",
       "      <td>...</td>\n",
       "      <td>...</td>\n",
       "      <td>...</td>\n",
       "      <td>...</td>\n",
       "      <td>...</td>\n",
       "      <td>...</td>\n",
       "    </tr>\n",
       "    <tr>\n",
       "      <th>2919</th>\n",
       "      <td>Samsung Galaxy Note8 SM-N950U - 64GB (Unlocked...</td>\n",
       "      <td>128.40</td>\n",
       "      <td>0.00</td>\n",
       "      <td>37.0</td>\n",
       "      <td>4750.91</td>\n",
       "      <td>https://www.ebay.com/itm/265635248944?nordt=tr...</td>\n",
       "      <td>samsung</td>\n",
       "    </tr>\n",
       "    <tr>\n",
       "      <th>2920</th>\n",
       "      <td>Brand New STALA509DCP TCL A3 32GB Storage 3GB ...</td>\n",
       "      <td>43.13</td>\n",
       "      <td>0.00</td>\n",
       "      <td>34.0</td>\n",
       "      <td>1466.36</td>\n",
       "      <td>https://www.ebay.com/itm/265731617536?nordt=tr...</td>\n",
       "      <td>NaN</td>\n",
       "    </tr>\n",
       "    <tr>\n",
       "      <th>2921</th>\n",
       "      <td>Apple iPhone 12 Pro Max - 128GB - Fully Unlock...</td>\n",
       "      <td>554.31</td>\n",
       "      <td>0.00</td>\n",
       "      <td>37.0</td>\n",
       "      <td>20509.63</td>\n",
       "      <td>https://www.ebay.com/itm/265936106963?nordt=tr...</td>\n",
       "      <td>apple</td>\n",
       "    </tr>\n",
       "    <tr>\n",
       "      <th>2922</th>\n",
       "      <td>Apple iPhone 13 Mini 128GB - T-Mobile / Metro ...</td>\n",
       "      <td>380.90</td>\n",
       "      <td>0.00</td>\n",
       "      <td>33.0</td>\n",
       "      <td>12569.67</td>\n",
       "      <td>https://www.ebay.com/itm/266138817726?nordt=tr...</td>\n",
       "      <td>apple</td>\n",
       "    </tr>\n",
       "    <tr>\n",
       "      <th>2923</th>\n",
       "      <td>*NEW SEALED* Samsung Galaxy S5 Active G870A - ...</td>\n",
       "      <td>99.74</td>\n",
       "      <td>5.99</td>\n",
       "      <td>36.0</td>\n",
       "      <td>3590.64</td>\n",
       "      <td>https://www.ebay.com/itm/284638798917?nordt=tr...</td>\n",
       "      <td>samsung</td>\n",
       "    </tr>\n",
       "  </tbody>\n",
       "</table>\n",
       "<p>2924 rows × 7 columns</p>\n",
       "</div>\n",
       "      <button class=\"colab-df-convert\" onclick=\"convertToInteractive('df-751d8e0e-4bff-4b88-98ba-72d4645322c3')\"\n",
       "              title=\"Convert this dataframe to an interactive table.\"\n",
       "              style=\"display:none;\">\n",
       "        \n",
       "  <svg xmlns=\"http://www.w3.org/2000/svg\" height=\"24px\"viewBox=\"0 0 24 24\"\n",
       "       width=\"24px\">\n",
       "    <path d=\"M0 0h24v24H0V0z\" fill=\"none\"/>\n",
       "    <path d=\"M18.56 5.44l.94 2.06.94-2.06 2.06-.94-2.06-.94-.94-2.06-.94 2.06-2.06.94zm-11 1L8.5 8.5l.94-2.06 2.06-.94-2.06-.94L8.5 2.5l-.94 2.06-2.06.94zm10 10l.94 2.06.94-2.06 2.06-.94-2.06-.94-.94-2.06-.94 2.06-2.06.94z\"/><path d=\"M17.41 7.96l-1.37-1.37c-.4-.4-.92-.59-1.43-.59-.52 0-1.04.2-1.43.59L10.3 9.45l-7.72 7.72c-.78.78-.78 2.05 0 2.83L4 21.41c.39.39.9.59 1.41.59.51 0 1.02-.2 1.41-.59l7.78-7.78 2.81-2.81c.8-.78.8-2.07 0-2.86zM5.41 20L4 18.59l7.72-7.72 1.47 1.35L5.41 20z\"/>\n",
       "  </svg>\n",
       "      </button>\n",
       "      \n",
       "  <style>\n",
       "    .colab-df-container {\n",
       "      display:flex;\n",
       "      flex-wrap:wrap;\n",
       "      gap: 12px;\n",
       "    }\n",
       "\n",
       "    .colab-df-convert {\n",
       "      background-color: #E8F0FE;\n",
       "      border: none;\n",
       "      border-radius: 50%;\n",
       "      cursor: pointer;\n",
       "      display: none;\n",
       "      fill: #1967D2;\n",
       "      height: 32px;\n",
       "      padding: 0 0 0 0;\n",
       "      width: 32px;\n",
       "    }\n",
       "\n",
       "    .colab-df-convert:hover {\n",
       "      background-color: #E2EBFA;\n",
       "      box-shadow: 0px 1px 2px rgba(60, 64, 67, 0.3), 0px 1px 3px 1px rgba(60, 64, 67, 0.15);\n",
       "      fill: #174EA6;\n",
       "    }\n",
       "\n",
       "    [theme=dark] .colab-df-convert {\n",
       "      background-color: #3B4455;\n",
       "      fill: #D2E3FC;\n",
       "    }\n",
       "\n",
       "    [theme=dark] .colab-df-convert:hover {\n",
       "      background-color: #434B5C;\n",
       "      box-shadow: 0px 1px 3px 1px rgba(0, 0, 0, 0.15);\n",
       "      filter: drop-shadow(0px 1px 2px rgba(0, 0, 0, 0.3));\n",
       "      fill: #FFFFFF;\n",
       "    }\n",
       "  </style>\n",
       "\n",
       "      <script>\n",
       "        const buttonEl =\n",
       "          document.querySelector('#df-751d8e0e-4bff-4b88-98ba-72d4645322c3 button.colab-df-convert');\n",
       "        buttonEl.style.display =\n",
       "          google.colab.kernel.accessAllowed ? 'block' : 'none';\n",
       "\n",
       "        async function convertToInteractive(key) {\n",
       "          const element = document.querySelector('#df-751d8e0e-4bff-4b88-98ba-72d4645322c3');\n",
       "          const dataTable =\n",
       "            await google.colab.kernel.invokeFunction('convertToInteractive',\n",
       "                                                     [key], {});\n",
       "          if (!dataTable) return;\n",
       "\n",
       "          const docLinkHtml = 'Like what you see? Visit the ' +\n",
       "            '<a target=\"_blank\" href=https://colab.research.google.com/notebooks/data_table.ipynb>data table notebook</a>'\n",
       "            + ' to learn more about interactive tables.';\n",
       "          element.innerHTML = '';\n",
       "          dataTable['output_type'] = 'display_data';\n",
       "          await google.colab.output.renderOutput(dataTable, element);\n",
       "          const docLink = document.createElement('div');\n",
       "          docLink.innerHTML = docLinkHtml;\n",
       "          element.appendChild(docLink);\n",
       "        }\n",
       "      </script>\n",
       "    </div>\n",
       "  </div>\n",
       "  "
      ]
     },
     "metadata": {},
     "execution_count": 9
    }
   ],
   "source": [
    "brands_list = ['Apple', 'Samsung', 'Huawei', 'Xiaomi', 'Oppo', 'OnePlus', 'Google', 'Motorola', 'Sony', 'LG', 'HTC', 'Nokia', 'BlackBerry', 'Lenovo', 'Asus', 'ZTE', 'Alcatel', 'Vivo', 'Realme', 'Honor']\n",
    "brands_regex = re.compile('('+ '|'.join(brands_list) + ')', flags=re.IGNORECASE)\n",
    "\n",
    "df_items['brand'] = df_items['Title'].str.extract(brands_regex)\n",
    "df_items['brand'] = df_items['brand'].apply(lambda x: x.lower() if type(x) == str else x)\n",
    "df_items"
   ]
  },
  {
   "cell_type": "markdown",
   "metadata": {
    "id": "N0k3P9Ft_7PB"
   },
   "source": [
    "____"
   ]
  },
  {
   "cell_type": "markdown",
   "metadata": {
    "id": "APb9snHJ_4PT"
   },
   "source": [
    "Предварительный анализ:"
   ]
  },
  {
   "cell_type": "code",
   "execution_count": null,
   "metadata": {
    "colab": {
     "base_uri": "https://localhost:8080/",
     "height": 300
    },
    "id": "6Wt8OM0g73CP",
    "outputId": "54d4b8a3-3b19-4811-87c3-c939749ee1b5"
   },
   "outputs": [
    {
     "output_type": "execute_result",
     "data": {
      "text/plain": [
       "             Price  Shipping_cost   Sales_Count   Sales_Value\n",
       "count  2924.000000    2924.000000   2924.000000  2.924000e+03\n",
       "mean    219.440198       9.679042    276.165869  5.979867e+04\n",
       "std     183.007080      10.442718    816.869807  2.259736e+05\n",
       "min       5.150000       0.000000     33.000000  2.678200e+02\n",
       "25%      93.510000       0.000000     57.000000  8.240230e+03\n",
       "50%     159.875000       9.245000     97.500000  1.737587e+04\n",
       "75%     287.565000      14.990000    216.250000  4.303439e+04\n",
       "max    1493.390000     111.670000  19787.000000  6.679958e+06"
      ],
      "text/html": [
       "\n",
       "  <div id=\"df-07922851-e9b8-4a29-8340-47cf6f09578e\">\n",
       "    <div class=\"colab-df-container\">\n",
       "      <div>\n",
       "<style scoped>\n",
       "    .dataframe tbody tr th:only-of-type {\n",
       "        vertical-align: middle;\n",
       "    }\n",
       "\n",
       "    .dataframe tbody tr th {\n",
       "        vertical-align: top;\n",
       "    }\n",
       "\n",
       "    .dataframe thead th {\n",
       "        text-align: right;\n",
       "    }\n",
       "</style>\n",
       "<table border=\"1\" class=\"dataframe\">\n",
       "  <thead>\n",
       "    <tr style=\"text-align: right;\">\n",
       "      <th></th>\n",
       "      <th>Price</th>\n",
       "      <th>Shipping_cost</th>\n",
       "      <th>Sales_Count</th>\n",
       "      <th>Sales_Value</th>\n",
       "    </tr>\n",
       "  </thead>\n",
       "  <tbody>\n",
       "    <tr>\n",
       "      <th>count</th>\n",
       "      <td>2924.000000</td>\n",
       "      <td>2924.000000</td>\n",
       "      <td>2924.000000</td>\n",
       "      <td>2.924000e+03</td>\n",
       "    </tr>\n",
       "    <tr>\n",
       "      <th>mean</th>\n",
       "      <td>219.440198</td>\n",
       "      <td>9.679042</td>\n",
       "      <td>276.165869</td>\n",
       "      <td>5.979867e+04</td>\n",
       "    </tr>\n",
       "    <tr>\n",
       "      <th>std</th>\n",
       "      <td>183.007080</td>\n",
       "      <td>10.442718</td>\n",
       "      <td>816.869807</td>\n",
       "      <td>2.259736e+05</td>\n",
       "    </tr>\n",
       "    <tr>\n",
       "      <th>min</th>\n",
       "      <td>5.150000</td>\n",
       "      <td>0.000000</td>\n",
       "      <td>33.000000</td>\n",
       "      <td>2.678200e+02</td>\n",
       "    </tr>\n",
       "    <tr>\n",
       "      <th>25%</th>\n",
       "      <td>93.510000</td>\n",
       "      <td>0.000000</td>\n",
       "      <td>57.000000</td>\n",
       "      <td>8.240230e+03</td>\n",
       "    </tr>\n",
       "    <tr>\n",
       "      <th>50%</th>\n",
       "      <td>159.875000</td>\n",
       "      <td>9.245000</td>\n",
       "      <td>97.500000</td>\n",
       "      <td>1.737587e+04</td>\n",
       "    </tr>\n",
       "    <tr>\n",
       "      <th>75%</th>\n",
       "      <td>287.565000</td>\n",
       "      <td>14.990000</td>\n",
       "      <td>216.250000</td>\n",
       "      <td>4.303439e+04</td>\n",
       "    </tr>\n",
       "    <tr>\n",
       "      <th>max</th>\n",
       "      <td>1493.390000</td>\n",
       "      <td>111.670000</td>\n",
       "      <td>19787.000000</td>\n",
       "      <td>6.679958e+06</td>\n",
       "    </tr>\n",
       "  </tbody>\n",
       "</table>\n",
       "</div>\n",
       "      <button class=\"colab-df-convert\" onclick=\"convertToInteractive('df-07922851-e9b8-4a29-8340-47cf6f09578e')\"\n",
       "              title=\"Convert this dataframe to an interactive table.\"\n",
       "              style=\"display:none;\">\n",
       "        \n",
       "  <svg xmlns=\"http://www.w3.org/2000/svg\" height=\"24px\"viewBox=\"0 0 24 24\"\n",
       "       width=\"24px\">\n",
       "    <path d=\"M0 0h24v24H0V0z\" fill=\"none\"/>\n",
       "    <path d=\"M18.56 5.44l.94 2.06.94-2.06 2.06-.94-2.06-.94-.94-2.06-.94 2.06-2.06.94zm-11 1L8.5 8.5l.94-2.06 2.06-.94-2.06-.94L8.5 2.5l-.94 2.06-2.06.94zm10 10l.94 2.06.94-2.06 2.06-.94-2.06-.94-.94-2.06-.94 2.06-2.06.94z\"/><path d=\"M17.41 7.96l-1.37-1.37c-.4-.4-.92-.59-1.43-.59-.52 0-1.04.2-1.43.59L10.3 9.45l-7.72 7.72c-.78.78-.78 2.05 0 2.83L4 21.41c.39.39.9.59 1.41.59.51 0 1.02-.2 1.41-.59l7.78-7.78 2.81-2.81c.8-.78.8-2.07 0-2.86zM5.41 20L4 18.59l7.72-7.72 1.47 1.35L5.41 20z\"/>\n",
       "  </svg>\n",
       "      </button>\n",
       "      \n",
       "  <style>\n",
       "    .colab-df-container {\n",
       "      display:flex;\n",
       "      flex-wrap:wrap;\n",
       "      gap: 12px;\n",
       "    }\n",
       "\n",
       "    .colab-df-convert {\n",
       "      background-color: #E8F0FE;\n",
       "      border: none;\n",
       "      border-radius: 50%;\n",
       "      cursor: pointer;\n",
       "      display: none;\n",
       "      fill: #1967D2;\n",
       "      height: 32px;\n",
       "      padding: 0 0 0 0;\n",
       "      width: 32px;\n",
       "    }\n",
       "\n",
       "    .colab-df-convert:hover {\n",
       "      background-color: #E2EBFA;\n",
       "      box-shadow: 0px 1px 2px rgba(60, 64, 67, 0.3), 0px 1px 3px 1px rgba(60, 64, 67, 0.15);\n",
       "      fill: #174EA6;\n",
       "    }\n",
       "\n",
       "    [theme=dark] .colab-df-convert {\n",
       "      background-color: #3B4455;\n",
       "      fill: #D2E3FC;\n",
       "    }\n",
       "\n",
       "    [theme=dark] .colab-df-convert:hover {\n",
       "      background-color: #434B5C;\n",
       "      box-shadow: 0px 1px 3px 1px rgba(0, 0, 0, 0.15);\n",
       "      filter: drop-shadow(0px 1px 2px rgba(0, 0, 0, 0.3));\n",
       "      fill: #FFFFFF;\n",
       "    }\n",
       "  </style>\n",
       "\n",
       "      <script>\n",
       "        const buttonEl =\n",
       "          document.querySelector('#df-07922851-e9b8-4a29-8340-47cf6f09578e button.colab-df-convert');\n",
       "        buttonEl.style.display =\n",
       "          google.colab.kernel.accessAllowed ? 'block' : 'none';\n",
       "\n",
       "        async function convertToInteractive(key) {\n",
       "          const element = document.querySelector('#df-07922851-e9b8-4a29-8340-47cf6f09578e');\n",
       "          const dataTable =\n",
       "            await google.colab.kernel.invokeFunction('convertToInteractive',\n",
       "                                                     [key], {});\n",
       "          if (!dataTable) return;\n",
       "\n",
       "          const docLinkHtml = 'Like what you see? Visit the ' +\n",
       "            '<a target=\"_blank\" href=https://colab.research.google.com/notebooks/data_table.ipynb>data table notebook</a>'\n",
       "            + ' to learn more about interactive tables.';\n",
       "          element.innerHTML = '';\n",
       "          dataTable['output_type'] = 'display_data';\n",
       "          await google.colab.output.renderOutput(dataTable, element);\n",
       "          const docLink = document.createElement('div');\n",
       "          docLink.innerHTML = docLinkHtml;\n",
       "          element.appendChild(docLink);\n",
       "        }\n",
       "      </script>\n",
       "    </div>\n",
       "  </div>\n",
       "  "
      ]
     },
     "metadata": {},
     "execution_count": 20
    }
   ],
   "source": [
    "df_items.describe()"
   ]
  },
  {
   "cell_type": "code",
   "execution_count": null,
   "metadata": {
    "colab": {
     "base_uri": "https://localhost:8080/",
     "height": 229
    },
    "id": "QsArzp_YA2mE",
    "outputId": "6eecfdb2-ff14-4c03-c6aa-6772e756c38b"
   },
   "outputs": [
    {
     "output_type": "stream",
     "name": "stderr",
     "text": [
      "<ipython-input-21-05b9cc63d60f>:1: FutureWarning: The default value of numeric_only in DataFrame.corr is deprecated. In a future version, it will default to False. Select only valid columns or specify the value of numeric_only to silence this warning.\n",
      "  df_items.corr()\n"
     ]
    },
    {
     "output_type": "execute_result",
     "data": {
      "text/plain": [
       "                  Price  Shipping_cost  Sales_Count  Sales_Value\n",
       "Price          1.000000       0.036724    -0.005375     0.140800\n",
       "Shipping_cost  0.036724       1.000000     0.031657     0.022001\n",
       "Sales_Count   -0.005375       0.031657     1.000000     0.925535\n",
       "Sales_Value    0.140800       0.022001     0.925535     1.000000"
      ],
      "text/html": [
       "\n",
       "  <div id=\"df-f86002af-c08d-479a-9893-3909976e21a4\">\n",
       "    <div class=\"colab-df-container\">\n",
       "      <div>\n",
       "<style scoped>\n",
       "    .dataframe tbody tr th:only-of-type {\n",
       "        vertical-align: middle;\n",
       "    }\n",
       "\n",
       "    .dataframe tbody tr th {\n",
       "        vertical-align: top;\n",
       "    }\n",
       "\n",
       "    .dataframe thead th {\n",
       "        text-align: right;\n",
       "    }\n",
       "</style>\n",
       "<table border=\"1\" class=\"dataframe\">\n",
       "  <thead>\n",
       "    <tr style=\"text-align: right;\">\n",
       "      <th></th>\n",
       "      <th>Price</th>\n",
       "      <th>Shipping_cost</th>\n",
       "      <th>Sales_Count</th>\n",
       "      <th>Sales_Value</th>\n",
       "    </tr>\n",
       "  </thead>\n",
       "  <tbody>\n",
       "    <tr>\n",
       "      <th>Price</th>\n",
       "      <td>1.000000</td>\n",
       "      <td>0.036724</td>\n",
       "      <td>-0.005375</td>\n",
       "      <td>0.140800</td>\n",
       "    </tr>\n",
       "    <tr>\n",
       "      <th>Shipping_cost</th>\n",
       "      <td>0.036724</td>\n",
       "      <td>1.000000</td>\n",
       "      <td>0.031657</td>\n",
       "      <td>0.022001</td>\n",
       "    </tr>\n",
       "    <tr>\n",
       "      <th>Sales_Count</th>\n",
       "      <td>-0.005375</td>\n",
       "      <td>0.031657</td>\n",
       "      <td>1.000000</td>\n",
       "      <td>0.925535</td>\n",
       "    </tr>\n",
       "    <tr>\n",
       "      <th>Sales_Value</th>\n",
       "      <td>0.140800</td>\n",
       "      <td>0.022001</td>\n",
       "      <td>0.925535</td>\n",
       "      <td>1.000000</td>\n",
       "    </tr>\n",
       "  </tbody>\n",
       "</table>\n",
       "</div>\n",
       "      <button class=\"colab-df-convert\" onclick=\"convertToInteractive('df-f86002af-c08d-479a-9893-3909976e21a4')\"\n",
       "              title=\"Convert this dataframe to an interactive table.\"\n",
       "              style=\"display:none;\">\n",
       "        \n",
       "  <svg xmlns=\"http://www.w3.org/2000/svg\" height=\"24px\"viewBox=\"0 0 24 24\"\n",
       "       width=\"24px\">\n",
       "    <path d=\"M0 0h24v24H0V0z\" fill=\"none\"/>\n",
       "    <path d=\"M18.56 5.44l.94 2.06.94-2.06 2.06-.94-2.06-.94-.94-2.06-.94 2.06-2.06.94zm-11 1L8.5 8.5l.94-2.06 2.06-.94-2.06-.94L8.5 2.5l-.94 2.06-2.06.94zm10 10l.94 2.06.94-2.06 2.06-.94-2.06-.94-.94-2.06-.94 2.06-2.06.94z\"/><path d=\"M17.41 7.96l-1.37-1.37c-.4-.4-.92-.59-1.43-.59-.52 0-1.04.2-1.43.59L10.3 9.45l-7.72 7.72c-.78.78-.78 2.05 0 2.83L4 21.41c.39.39.9.59 1.41.59.51 0 1.02-.2 1.41-.59l7.78-7.78 2.81-2.81c.8-.78.8-2.07 0-2.86zM5.41 20L4 18.59l7.72-7.72 1.47 1.35L5.41 20z\"/>\n",
       "  </svg>\n",
       "      </button>\n",
       "      \n",
       "  <style>\n",
       "    .colab-df-container {\n",
       "      display:flex;\n",
       "      flex-wrap:wrap;\n",
       "      gap: 12px;\n",
       "    }\n",
       "\n",
       "    .colab-df-convert {\n",
       "      background-color: #E8F0FE;\n",
       "      border: none;\n",
       "      border-radius: 50%;\n",
       "      cursor: pointer;\n",
       "      display: none;\n",
       "      fill: #1967D2;\n",
       "      height: 32px;\n",
       "      padding: 0 0 0 0;\n",
       "      width: 32px;\n",
       "    }\n",
       "\n",
       "    .colab-df-convert:hover {\n",
       "      background-color: #E2EBFA;\n",
       "      box-shadow: 0px 1px 2px rgba(60, 64, 67, 0.3), 0px 1px 3px 1px rgba(60, 64, 67, 0.15);\n",
       "      fill: #174EA6;\n",
       "    }\n",
       "\n",
       "    [theme=dark] .colab-df-convert {\n",
       "      background-color: #3B4455;\n",
       "      fill: #D2E3FC;\n",
       "    }\n",
       "\n",
       "    [theme=dark] .colab-df-convert:hover {\n",
       "      background-color: #434B5C;\n",
       "      box-shadow: 0px 1px 3px 1px rgba(0, 0, 0, 0.15);\n",
       "      filter: drop-shadow(0px 1px 2px rgba(0, 0, 0, 0.3));\n",
       "      fill: #FFFFFF;\n",
       "    }\n",
       "  </style>\n",
       "\n",
       "      <script>\n",
       "        const buttonEl =\n",
       "          document.querySelector('#df-f86002af-c08d-479a-9893-3909976e21a4 button.colab-df-convert');\n",
       "        buttonEl.style.display =\n",
       "          google.colab.kernel.accessAllowed ? 'block' : 'none';\n",
       "\n",
       "        async function convertToInteractive(key) {\n",
       "          const element = document.querySelector('#df-f86002af-c08d-479a-9893-3909976e21a4');\n",
       "          const dataTable =\n",
       "            await google.colab.kernel.invokeFunction('convertToInteractive',\n",
       "                                                     [key], {});\n",
       "          if (!dataTable) return;\n",
       "\n",
       "          const docLinkHtml = 'Like what you see? Visit the ' +\n",
       "            '<a target=\"_blank\" href=https://colab.research.google.com/notebooks/data_table.ipynb>data table notebook</a>'\n",
       "            + ' to learn more about interactive tables.';\n",
       "          element.innerHTML = '';\n",
       "          dataTable['output_type'] = 'display_data';\n",
       "          await google.colab.output.renderOutput(dataTable, element);\n",
       "          const docLink = document.createElement('div');\n",
       "          docLink.innerHTML = docLinkHtml;\n",
       "          element.appendChild(docLink);\n",
       "        }\n",
       "      </script>\n",
       "    </div>\n",
       "  </div>\n",
       "  "
      ]
     },
     "metadata": {},
     "execution_count": 21
    }
   ],
   "source": [
    "df_items.corr()"
   ]
  },
  {
   "cell_type": "code",
   "execution_count": null,
   "metadata": {
    "colab": {
     "base_uri": "https://localhost:8080/",
     "height": 624
    },
    "id": "CCxoQHrlEOVS",
    "outputId": "f7e904e7-fa45-456d-ec24-6372d26b2e2c"
   },
   "outputs": [
    {
     "output_type": "display_data",
     "data": {
      "text/plain": [
       "<Figure size 1000x600 with 1 Axes>"
      ],
      "image/png": "[encoded data removed]"
     },
     "metadata": {}
    }
   ],
   "source": [
    "# Гистограмма распределения брендов\n",
    "brands = df_items.brand.value_counts()\n",
    "plt.figure(figsize=(10,6))\n",
    "brands.plot(kind='bar', color='b')\n",
    "plt.title('Brends distribution')\n",
    "plt.xlabel('Brend')\n",
    "plt.ylabel('Count')\n",
    "plt.show()"
   ]
  },
  {
   "cell_type": "markdown",
   "metadata": {
    "id": "KvgJHaY9IywO"
   },
   "source": [
    "Как мы видим с спарсенных данных самыми популярными марками являются Samsung и Apple, во вторую по популярности можно объеденить группу LG, Google и Motorola, остальные бренды не так распространены по количеству продаж. "
   ]
  },
  {
   "cell_type": "code",
   "execution_count": null,
   "metadata": {
    "colab": {
     "base_uri": "https://localhost:8080/",
     "height": 472
    },
    "id": "DZt02yB9_-10",
    "outputId": "a1b1ce28-7da2-41e8-c95d-e1cf9d42020e"
   },
   "outputs": [
    {
     "output_type": "display_data",
     "data": {
      "text/plain": [
       "<Figure size 640x480 with 1 Axes>"
      ],
      "image/png": "[encoded data removed]"
     },
     "metadata": {}
    }
   ],
   "source": [
    "# Гистограмма распределения цен\n",
    "sns.histplot(df_items['Price'], bins=20)\n",
    "plt.title('Distribution of Prices')\n",
    "plt.xlabel('Price')\n",
    "plt.ylabel('Count')\n",
    "plt.show()"
   ]
  },
  {
   "cell_type": "markdown",
   "metadata": {
    "id": "zBFSX-lAI19Y"
   },
   "source": [
    "Распределение цен марок телефонов похоже на нормальное и имеет моду около 100 долларов. "
   ]
  },
  {
   "cell_type": "code",
   "execution_count": null,
   "metadata": {
    "colab": {
     "base_uri": "https://localhost:8080/",
     "height": 472
    },
    "id": "7S3tkQEDAxmi",
    "outputId": "3ea196d9-c296-4429-c10c-e4fa4f9d5612"
   },
   "outputs": [
    {
     "output_type": "display_data",
     "data": {
      "text/plain": [
       "<Figure size 640x480 with 1 Axes>"
      ],
      "image/png": "[encoded data removed]"
     },
     "metadata": {}
    }
   ],
   "source": [
    "# Диаграмма рассеяния количества продаж и стоимости товаров\n",
    "sns.scatterplot(x='Price', y='Sales_Count', data=df_items)\n",
    "plt.title('Relationship between Price and Sales Count')\n",
    "plt.xlabel('Price')\n",
    "plt.ylabel('Sales Count')\n",
    "plt.show()"
   ]
  },
  {
   "cell_type": "markdown",
   "metadata": {
    "id": "aiOzgCjKK9_P"
   },
   "source": [
    "Тут мы решили посмотреть на взаимосвязь между ценой и количеством продаж. Ожидаемо, что наибольшие продажи видны у смартфонов среднего сегмента, средней ценовой категории. Дорогие модели продаются в гораздо меньших объемах"
   ]
  },
  {
   "cell_type": "code",
   "execution_count": null,
   "metadata": {
    "colab": {
     "base_uri": "https://localhost:8080/",
     "height": 472
    },
    "id": "2_vDwDoKAzUm",
    "outputId": "2f386bed-3f08-4fca-89ab-1465b05d581d"
   },
   "outputs": [
    {
     "output_type": "display_data",
     "data": {
      "text/plain": [
       "<Figure size 640x480 with 1 Axes>"
      ],
      "image/png": "[encoded data removed]"
     },
     "metadata": {}
    }
   ],
   "source": [
    "# График зависимости стоимости товара от его количества продаж\n",
    "sns.regplot(x='Sales_Count', y='Price', data=df_items)\n",
    "plt.title('Relationship between Sales Count and Price')\n",
    "plt.xlabel('Sales Count')\n",
    "plt.ylabel('Price')\n",
    "plt.show()"
   ]
  },
  {
   "cell_type": "markdown",
   "metadata": {
    "id": "yM8oy6xGLuIS"
   },
   "source": [
    "График идентичен предыдущему, так как идейно повторяет его смысл. Однако выполнение задания разными способами иногда позволяет посмотреть на задачу под новым углом и прийти к гениальным выводам."
   ]
  },
  {
   "cell_type": "code",
   "execution_count": null,
   "metadata": {
    "colab": {
     "base_uri": "https://localhost:8080/",
     "height": 472
    },
    "id": "wWEPnT03A04p",
    "outputId": "bab169c9-a77d-46f5-afe6-aba2f2a9eb9a"
   },
   "outputs": [
    {
     "output_type": "display_data",
     "data": {
      "text/plain": [
       "<Figure size 640x480 with 1 Axes>"
      ],
      "image/png": "[encoded data removed]"
     },
     "metadata": {}
    }
   ],
   "source": [
    "# Диаграмма рассеяния между стоимостью товара и стоимостью доставки\n",
    "sns.scatterplot(x='Price', y='Shipping_cost', data=df_items)\n",
    "plt.title('Relationship between Price and Shipping Cost')\n",
    "plt.xlabel('Price')\n",
    "plt.ylabel('Shipping Cost')\n",
    "plt.show()"
   ]
  },
  {
   "cell_type": "code",
   "execution_count": null,
   "metadata": {
    "colab": {
     "base_uri": "https://localhost:8080/",
     "height": 612
    },
    "id": "NYiwaTP3GfDL",
    "outputId": "11474109-37d9-427d-d8ef-7ce2025718d2"
   },
   "outputs": [
    {
     "output_type": "display_data",
     "data": {
      "text/plain": [
       "<Figure size 1200x600 with 1 Axes>"
      ],
      "image/png": "[encoded data removed]"
     },
     "metadata": {}
    }
   ],
   "source": [
    "# Диаграмма распределения брендов и  средних цен\n",
    "brand_prices = df_items.groupby('brand').agg({'Price': 'median'}).sort_values(by='Price', ascending=False)\n",
    "\n",
    "fig, ax = plt.subplots(figsize=(12, 6))\n",
    "ax.bar(brand_prices.index, brand_prices['Price'])\n",
    "\n",
    "ax.set_xlabel('Brand')\n",
    "ax.set_ylabel('Median price, $')\n",
    "ax.set_title('Relationship between brand and price')\n",
    "\n",
    "plt.xticks(rotation=45, ha='right')\n",
    "\n",
    "plt.show()"
   ]
  },
  {
   "cell_type": "markdown",
   "metadata": {
    "id": "s_uZ6BM0sZfz"
   },
   "source": [
    "____"
   ]
  },
  {
   "cell_type": "code",
   "execution_count": 52,
   "metadata": {
    "id": "qmCKJF7EsZ6Q",
    "colab": {
     "base_uri": "https://localhost:8080/"
    },
    "outputId": "1d848b45-989d-46ee-d334-264adda2e2ea"
   },
   "outputs": [
    {
     "output_type": "stream",
     "name": "stderr",
     "text": [
      "<ipython-input-52-35c7587dbe32>:1: DtypeWarning: Columns (27,28,32,35,36,39,45,46,55,56,59,65,68,69,70,74,77,78,89,95,99,101,106,107,113,116,122,134,138,139,140,146,152,153,154,156,159,162,163,166,167,168,171,173,175,176,180,181,182,187,188,189,190,192,193,194,198,199,201,202,206,208,209,210,211,212,213,214,215,216,217,218,219,221,222,223,226,229,233,235,236,238,240,241,244,245,246,247,248,251,252,254,257,259,261,265,266,267,272,273,274,276,277,278,279,280,281,282,283,284,285,286,287,288,289,290,291,292,293,294,295,296,297,298,299,300,301,302,303,304,307,314,315,316,317,318,319,320,321,322,323,324,325,326,327,328,329,330,331,332,333,334,335,336,337,338,339,340,341,342,343,345,346,347,348,349,350,351,352) have mixed types. Specify dtype option on import or set low_memory=False.\n",
      "  characteristics_df = pd.read_csv(\"characteristics_df.tsv\", delimiter = \"\\t\")\n"
     ]
    }
   ],
   "source": [
    "characteristics_df = pd.read_csv(\"https://raw.githubusercontent.com/AleksKids/hedonistic-demand-from-ebay/main/Data%20Tables/Global/Characteristics.tsv\", delimiter = \"\\t\")"
   ]
  },
  {
   "cell_type": "code",
   "execution_count": 53,
   "metadata": {
    "colab": {
     "base_uri": "https://localhost:8080/"
    },
    "id": "dvba-62xJ2iN",
    "outputId": "1ac50d2d-e091-494c-85ba-f938552a5411"
   },
   "outputs": [
    {
     "output_type": "execute_result",
     "data": {
      "text/plain": [
       "['Link',\n",
       " 'Condition',\n",
       " 'Seller Notes',\n",
       " 'Brand',\n",
       " 'Model',\n",
       " 'Storage Capacity',\n",
       " 'Network',\n",
       " 'Camera Resolution',\n",
       " 'Screen Size',\n",
       " 'Lock Status',\n",
       " 'RAM',\n",
       " 'Contract',\n",
       " 'Operating System',\n",
       " 'Model Number',\n",
       " 'Style',\n",
       " 'MPN',\n",
       " 'Connectivity',\n",
       " 'Features',\n",
       " 'SIM Card Slot',\n",
       " 'Memory Card Type',\n",
       " 'Processor',\n",
       " 'Color']"
      ]
     },
     "metadata": {},
     "execution_count": 53
    }
   ],
   "source": [
    "cols = list(characteristics_df.count()[(characteristics_df.count()>(1000))].index)\n",
    "cols"
   ]
  },
  {
   "cell_type": "code",
   "source": [
    "characteristics_df = characteristics_df[cols]"
   ],
   "metadata": {
    "id": "IfbBnf_lTXzD"
   },
   "execution_count": 54,
   "outputs": []
  },
  {
   "cell_type": "code",
   "execution_count": 55,
   "metadata": {
    "colab": {
     "base_uri": "https://localhost:8080/"
    },
    "id": "X8Qx2tdBtSo4",
    "outputId": "e4656408-58c6-48e4-d9b8-0c1a18a9e3dd"
   },
   "outputs": [
    {
     "output_type": "execute_result",
     "data": {
      "text/plain": [
       "Link                    0\n",
       "Condition               0\n",
       "Brand                  20\n",
       "Model                 166\n",
       "Operating System      380\n",
       "Storage Capacity      425\n",
       "Network               508\n",
       "Camera Resolution     511\n",
       "Screen Size           511\n",
       "MPN                   685\n",
       "Processor             697\n",
       "Connectivity          721\n",
       "Lock Status           724\n",
       "RAM                   726\n",
       "Contract              758\n",
       "Features              827\n",
       "Seller Notes          853\n",
       "Style                 956\n",
       "SIM Card Slot         991\n",
       "Model Number         1058\n",
       "Memory Card Type     1397\n",
       "Color                1787\n",
       "dtype: int64"
      ]
     },
     "metadata": {},
     "execution_count": 55
    }
   ],
   "source": [
    "characteristics_df.isna().sum().sort_values()"
   ]
  },
  {
   "cell_type": "code",
   "execution_count": 56,
   "metadata": {
    "id": "Jg5Q7SG4uY5r"
   },
   "outputs": [],
   "source": [
    "merged_df = df_items.merge(characteristics_df, on='Link', how='inner')"
   ]
  },
  {
   "cell_type": "code",
   "execution_count": 57,
   "metadata": {
    "colab": {
     "base_uri": "https://localhost:8080/"
    },
    "id": "tyrW2kOMJh7p",
    "outputId": "fd319869-eb25-415d-814c-7ec5ebd908c3"
   },
   "outputs": [
    {
     "output_type": "stream",
     "name": "stderr",
     "text": [
      "<ipython-input-57-8f6b08965f76>:1: SettingWithCopyWarning: \n",
      "A value is trying to be set on a copy of a slice from a DataFrame\n",
      "\n",
      "See the caveats in the documentation: https://pandas.pydata.org/pandas-docs/stable/user_guide/indexing.html#returning-a-view-versus-a-copy\n",
      "  merged_df[\"Brand\"][merged_df[\"Brand\"].isna()] = merged_df[\"brand\"].apply(lambda x: x.title() if type(x)==str else x)\n"
     ]
    }
   ],
   "source": [
    "merged_df[\"Brand\"][merged_df[\"Brand\"].isna()] = merged_df[\"brand\"].apply(lambda x: x.title() if type(x)==str else x)"
   ]
  },
  {
   "cell_type": "code",
   "source": [
    "(~merged_df.isna()).sum()"
   ],
   "metadata": {
    "colab": {
     "base_uri": "https://localhost:8080/"
    },
    "id": "8hpZhnR5AF47",
    "outputId": "43e6967c-c4da-4c21-acc3-0f48c74240c7"
   },
   "execution_count": 64,
   "outputs": [
    {
     "output_type": "execute_result",
     "data": {
      "text/plain": [
       "Title                3081\n",
       "Price                3081\n",
       "Shipping_cost        3081\n",
       "Sales_Count          3081\n",
       "Sales_Value          3081\n",
       "Link                 3081\n",
       "Condition            3081\n",
       "Seller Notes         2200\n",
       "Brand                3073\n",
       "Model                2911\n",
       "Storage Capacity     2630\n",
       "Network              2541\n",
       "Camera Resolution    2560\n",
       "Screen Size          2556\n",
       "Lock Status          2325\n",
       "RAM                  2335\n",
       "Contract             2289\n",
       "Operating System     2689\n",
       "Model Number         1961\n",
       "Style                2067\n",
       "MPN                  2356\n",
       "Connectivity         2330\n",
       "Features             2216\n",
       "SIM Card Slot        2044\n",
       "Memory Card Type     1612\n",
       "Processor            2358\n",
       "Color                1204\n",
       "dtype: int64"
      ]
     },
     "metadata": {},
     "execution_count": 64
    }
   ]
  },
  {
   "cell_type": "code",
   "execution_count": 58,
   "metadata": {
    "id": "3ST-T735Jlmx",
    "colab": {
     "base_uri": "https://localhost:8080/"
    },
    "outputId": "a810092d-e3ef-456d-8f88-04d688e23021"
   },
   "outputs": [
    {
     "output_type": "execute_result",
     "data": {
      "text/plain": [
       "Title                Motorola Moto G Stylus 5G XT2131-3 GSM Unlocke...\n",
       "Price                                                           199.56\n",
       "Shipping_cost                                                    10.39\n",
       "Sales_Count                                                      673.0\n",
       "Sales_Value                                                  134304.65\n",
       "Link                 https://www.ebay.com/itm/203747687712?nordt=tr...\n",
       "brand                                                         motorola\n",
       "Condition                                                     Open box\n",
       "Seller Notes         “Unlocked and compatible with any GSM Carrier ...\n",
       "Brand                                                         Motorola\n",
       "Model                                                      G stylus 5G\n",
       "Storage Capacity                                                128 GB\n",
       "Network                                                  AT&T Unlocked\n",
       "Camera Resolution                                              48.0 MP\n",
       "Screen Size                                                     6.8 in\n",
       "Lock Status                                           Network Unlocked\n",
       "RAM                                                               4 GB\n",
       "Contract                                              Without Contract\n",
       "Operating System                                            Android 11\n",
       "Model Number                                                  XT2131-3\n",
       "Style                                                              NaN\n",
       "MPN                                                   Moto G Stylus 5G\n",
       "Connectivity                                                        5G\n",
       "Features                                                           NaN\n",
       "SIM Card Slot                                               Single SIM\n",
       "Memory Card Type                                               MicroSD\n",
       "Processor                                                          NaN\n",
       "Color                                           Cosmic Emerald (Green)\n",
       "Name: 182, dtype: object"
      ]
     },
     "metadata": {},
     "execution_count": 58
    }
   ],
   "source": [
    "merged_df.iloc[182]"
   ]
  },
  {
   "cell_type": "code",
   "source": [
    "merged_df.drop('brand', axis=1, inplace = True)"
   ],
   "metadata": {
    "id": "iaDMCUba1sQO"
   },
   "execution_count": 60,
   "outputs": []
  },
  {
   "cell_type": "code",
   "source": [
    "merged_df.to_csv(\"great_bd.tsv\", sep=\"\\t\")"
   ],
   "metadata": {
    "id": "RDpnPlyyAPAp"
   },
   "execution_count": 61,
   "outputs": []
  },
  {
   "cell_type": "code",
   "source": [
    "merged_df.shape"
   ],
   "metadata": {
    "colab": {
     "base_uri": "https://localhost:8080/"
    },
    "id": "3wQK8XSPBNX7",
    "outputId": "a4df2330-6d1c-4eb7-e6f6-31fe88010c8a",
    "pycharm": {
     "name": "#%%\n"
    }
   },
   "execution_count": 63,
   "outputs": [
    {
     "output_type": "execute_result",
     "data": {
      "text/plain": [
       "(3081, 27)"
      ]
     },
     "metadata": {},
     "execution_count": 63
    }
   ]
  }
 ],
 "metadata": {
  "colab": {
   "provenance": []
  },
  "kernelspec": {
   "display_name": "Python 3",
   "name": "python3"
  },
  "language_info": {
   "name": "python"
  }
 },
 "nbformat": 4,
 "nbformat_minor": 0
}