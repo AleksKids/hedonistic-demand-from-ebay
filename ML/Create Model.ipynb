{
 "cells": [
  {
   "cell_type": "markdown",
   "source": [
    "# Случайный лес для прогнозирования цены на основе характеристик"
   ],
   "metadata": {
    "collapsed": false
   }
  },
  {
   "cell_type": "code",
   "execution_count": 3,
   "metadata": {
    "collapsed": true
   },
   "outputs": [],
   "source": [
    "import pandas as pd\n",
    "import numpy as np\n",
    "from sklearn.model_selection import train_test_split\n",
    "from sklearn.preprocessing import OneHotEncoder\n",
    "from sklearn.preprocessing import StandardScaler\n",
    "from sklearn.compose import ColumnTransformer\n",
    "from sklearn.pipeline import Pipeline\n",
    "from sklearn.ensemble import RandomForestRegressor\n",
    "from sklearn.metrics import mean_squared_error, mean_absolute_error, mean_absolute_percentage_error\n",
    "from sklearn.linear_model import LinearRegression\n",
    "import matplotlib.pyplot as plt\n",
    "import pickle"
   ]
  },
  {
   "cell_type": "code",
   "execution_count": 4,
   "outputs": [],
   "source": [
    "data = pd.read_csv(\"https://raw.githubusercontent.com/AleksKids/hedonistic-demand-from-ebay/main/Preprocessing/Great_BD.tsv\", delimiter = '\\t')"
   ],
   "metadata": {
    "collapsed": false,
    "pycharm": {
     "name": "#%%\n"
    }
   }
  },
  {
   "cell_type": "code",
   "execution_count": 5,
   "outputs": [
    {
     "data": {
      "text/plain": "                                                  Title   Price  \\\n0     Apple iPhone 11 64GB Factory Unlocked 4G LTE S...  337.59   \n1     Apple iPhone XR 64GB Factory Unlocked Smartpho...  266.28   \n2     Apple iPhone 11 64GB Unlocked Smartphone - Ver...  359.11   \n3     Apple iPhone X 64GB Factory Unlocked Phone - V...  231.98   \n4     Apple iPhone X 256GB Unlocked Smartphone - Ver...  263.59   \n...                                                 ...     ...   \n3075  Samsung Galaxy Note8 SM-N950U - 64GB (Unlocked...  128.40   \n3076  Brand New STALA509DCP TCL A3 32GB Storage 3GB ...   43.13   \n3077  Apple iPhone 12 Pro Max - 128GB - Fully Unlock...  554.31   \n3078  Apple iPhone 13 Mini 128GB - T-Mobile / Metro ...  380.90   \n3079  *NEW SEALED* Samsung Galaxy S5 Active G870A - ...   99.74   \n\n      Shipping_cost  Sales_Count  Sales_Value  \\\n0              0.00      19787.0   6679958.00   \n1              0.00      12440.0   3312560.60   \n2             16.93      12224.0   4389742.37   \n3             16.50      11781.0   2732899.88   \n4             15.34      10020.0   2641203.85   \n...             ...          ...          ...   \n3075           0.00         37.0      4750.91   \n3076           0.00         34.0      1466.36   \n3077           0.00         37.0     20509.63   \n3078           0.00         33.0     12569.67   \n3079           5.99         36.0      3590.64   \n\n                                                   Link  \\\n0     https://www.ebay.com/itm/254604777645?nordt=tr...   \n1     https://www.ebay.com/itm/254187678666?nordt=tr...   \n2     https://www.ebay.com/itm/363183815277?nordt=tr...   \n3     https://www.ebay.com/itm/382605209867?nordt=tr...   \n4     https://www.ebay.com/itm/382446518910?nordt=tr...   \n...                                                 ...   \n3075  https://www.ebay.com/itm/265635248944?nordt=tr...   \n3076  https://www.ebay.com/itm/265731617536?nordt=tr...   \n3077  https://www.ebay.com/itm/265936106963?nordt=tr...   \n3078  https://www.ebay.com/itm/266138817726?nordt=tr...   \n3079  https://www.ebay.com/itm/284638798917?nordt=tr...   \n\n                    Condition  \\\n0     Very Good - Refurbished   \n1     Very Good - Refurbished   \n2     Very Good - Refurbished   \n3     Very Good - Refurbished   \n4     Very Good - Refurbished   \n...                       ...   \n3075                     Used   \n3076                      New   \n3077                     Used   \n3078       Good - Refurbished   \n3079                      New   \n\n                                           Seller Notes    Brand  \\\n0     “This iPhone 11 is in Very Good condition and ...    apple   \n1     “This Apple iPhone XR 64GB Factory Unlocked Sm...    apple   \n2     “This is a B+ Stock item, meaning unit is in v...    apple   \n3     “This is a B+ Stock item, meaning unit is in v...    apple   \n4     “This is a B+ Stock item, meaning unit is in v...    apple   \n...                                                 ...      ...   \n3075  “These devices contain a SPOT on the display. ...  samsung   \n3076  “This is a B+ Stock item, meaning unit is in v...      tcl   \n3077  “Phones Have Been Certified By Our Industry-Le...    apple   \n3078  “LOCKED TO T-MOBILE Network - Fully tested 100...    apple   \n3079  “This is a B+ Stock item, meaning unit is in v...  samsung   \n\n                        Model  ...  OTG Infrared  Lightning  Quad-Band  \\\n0                   iPhone 11  ...  0.0        0        0.0          0   \n1                   iPhone XR  ...  0.0        0        0.0          0   \n2             Apple iPhone 11  ...  0.0        0        0.0          0   \n3              Apple iPhone X  ...  1.0        1        1.0          1   \n4              Apple iPhone X  ...  0.0        0        0.0          0   \n...                       ...  ...  ...      ...        ...        ...   \n3075     Samsung Galaxy Note8  ...  0.0        0        0.0          0   \n3076                   TCL A3  ...  0.0        0        0.0          0   \n3077  Apple iPhone 12 Pro Max  ...  0.0        0        1.0          0   \n3078     Apple iPhone 13 mini  ...  0.0        0        0.0          0   \n3079     S5 Active G870A 16GB  ...  0.0        0        0.0          0   \n\n     Tri-Band  Wireless charging WAP WCDMA            Last_Sale Is_Target  \n0           0                0.0   0     0  2023-06-14 00:00:00         0  \n1           0                0.0   0     0  2023-06-14 00:00:00         0  \n2           0                0.0   0     0  2023-06-14 00:00:00         0  \n3           1                1.0   1     1  2023-06-14 00:00:00         0  \n4           0                0.0   0     0  2023-06-14 00:00:00         0  \n...       ...                ...  ..   ...                  ...       ...  \n3075        0                0.0   0     0  2023-06-14 00:00:00         0  \n3076        0                0.0   0     0  2023-06-14 00:00:00         0  \n3077        0                0.0   0     0  2023-06-14 00:00:00         0  \n3078        0                0.0   0     0  2023-06-14 00:00:00         0  \n3079        0                0.0   0     0  2023-06-14 00:00:00         0  \n\n[3080 rows x 65 columns]",
      "text/html": "<div>\n<style scoped>\n    .dataframe tbody tr th:only-of-type {\n        vertical-align: middle;\n    }\n\n    .dataframe tbody tr th {\n        vertical-align: top;\n    }\n\n    .dataframe thead th {\n        text-align: right;\n    }\n</style>\n<table border=\"1\" class=\"dataframe\">\n  <thead>\n    <tr style=\"text-align: right;\">\n      <th></th>\n      <th>Title</th>\n      <th>Price</th>\n      <th>Shipping_cost</th>\n      <th>Sales_Count</th>\n      <th>Sales_Value</th>\n      <th>Link</th>\n      <th>Condition</th>\n      <th>Seller Notes</th>\n      <th>Brand</th>\n      <th>Model</th>\n      <th>...</th>\n      <th>OTG</th>\n      <th>Infrared</th>\n      <th>Lightning</th>\n      <th>Quad-Band</th>\n      <th>Tri-Band</th>\n      <th>Wireless charging</th>\n      <th>WAP</th>\n      <th>WCDMA</th>\n      <th>Last_Sale</th>\n      <th>Is_Target</th>\n    </tr>\n  </thead>\n  <tbody>\n    <tr>\n      <th>0</th>\n      <td>Apple iPhone 11 64GB Factory Unlocked 4G LTE S...</td>\n      <td>337.59</td>\n      <td>0.00</td>\n      <td>19787.0</td>\n      <td>6679958.00</td>\n      <td>https://www.ebay.com/itm/254604777645?nordt=tr...</td>\n      <td>Very Good - Refurbished</td>\n      <td>“This iPhone 11 is in Very Good condition and ...</td>\n      <td>apple</td>\n      <td>iPhone 11</td>\n      <td>...</td>\n      <td>0.0</td>\n      <td>0</td>\n      <td>0.0</td>\n      <td>0</td>\n      <td>0</td>\n      <td>0.0</td>\n      <td>0</td>\n      <td>0</td>\n      <td>2023-06-14 00:00:00</td>\n      <td>0</td>\n    </tr>\n    <tr>\n      <th>1</th>\n      <td>Apple iPhone XR 64GB Factory Unlocked Smartpho...</td>\n      <td>266.28</td>\n      <td>0.00</td>\n      <td>12440.0</td>\n      <td>3312560.60</td>\n      <td>https://www.ebay.com/itm/254187678666?nordt=tr...</td>\n      <td>Very Good - Refurbished</td>\n      <td>“This Apple iPhone XR 64GB Factory Unlocked Sm...</td>\n      <td>apple</td>\n      <td>iPhone XR</td>\n      <td>...</td>\n      <td>0.0</td>\n      <td>0</td>\n      <td>0.0</td>\n      <td>0</td>\n      <td>0</td>\n      <td>0.0</td>\n      <td>0</td>\n      <td>0</td>\n      <td>2023-06-14 00:00:00</td>\n      <td>0</td>\n    </tr>\n    <tr>\n      <th>2</th>\n      <td>Apple iPhone 11 64GB Unlocked Smartphone - Ver...</td>\n      <td>359.11</td>\n      <td>16.93</td>\n      <td>12224.0</td>\n      <td>4389742.37</td>\n      <td>https://www.ebay.com/itm/363183815277?nordt=tr...</td>\n      <td>Very Good - Refurbished</td>\n      <td>“This is a B+ Stock item, meaning unit is in v...</td>\n      <td>apple</td>\n      <td>Apple iPhone 11</td>\n      <td>...</td>\n      <td>0.0</td>\n      <td>0</td>\n      <td>0.0</td>\n      <td>0</td>\n      <td>0</td>\n      <td>0.0</td>\n      <td>0</td>\n      <td>0</td>\n      <td>2023-06-14 00:00:00</td>\n      <td>0</td>\n    </tr>\n    <tr>\n      <th>3</th>\n      <td>Apple iPhone X 64GB Factory Unlocked Phone - V...</td>\n      <td>231.98</td>\n      <td>16.50</td>\n      <td>11781.0</td>\n      <td>2732899.88</td>\n      <td>https://www.ebay.com/itm/382605209867?nordt=tr...</td>\n      <td>Very Good - Refurbished</td>\n      <td>“This is a B+ Stock item, meaning unit is in v...</td>\n      <td>apple</td>\n      <td>Apple iPhone X</td>\n      <td>...</td>\n      <td>1.0</td>\n      <td>1</td>\n      <td>1.0</td>\n      <td>1</td>\n      <td>1</td>\n      <td>1.0</td>\n      <td>1</td>\n      <td>1</td>\n      <td>2023-06-14 00:00:00</td>\n      <td>0</td>\n    </tr>\n    <tr>\n      <th>4</th>\n      <td>Apple iPhone X 256GB Unlocked Smartphone - Ver...</td>\n      <td>263.59</td>\n      <td>15.34</td>\n      <td>10020.0</td>\n      <td>2641203.85</td>\n      <td>https://www.ebay.com/itm/382446518910?nordt=tr...</td>\n      <td>Very Good - Refurbished</td>\n      <td>“This is a B+ Stock item, meaning unit is in v...</td>\n      <td>apple</td>\n      <td>Apple iPhone X</td>\n      <td>...</td>\n      <td>0.0</td>\n      <td>0</td>\n      <td>0.0</td>\n      <td>0</td>\n      <td>0</td>\n      <td>0.0</td>\n      <td>0</td>\n      <td>0</td>\n      <td>2023-06-14 00:00:00</td>\n      <td>0</td>\n    </tr>\n    <tr>\n      <th>...</th>\n      <td>...</td>\n      <td>...</td>\n      <td>...</td>\n      <td>...</td>\n      <td>...</td>\n      <td>...</td>\n      <td>...</td>\n      <td>...</td>\n      <td>...</td>\n      <td>...</td>\n      <td>...</td>\n      <td>...</td>\n      <td>...</td>\n      <td>...</td>\n      <td>...</td>\n      <td>...</td>\n      <td>...</td>\n      <td>...</td>\n      <td>...</td>\n      <td>...</td>\n      <td>...</td>\n    </tr>\n    <tr>\n      <th>3075</th>\n      <td>Samsung Galaxy Note8 SM-N950U - 64GB (Unlocked...</td>\n      <td>128.40</td>\n      <td>0.00</td>\n      <td>37.0</td>\n      <td>4750.91</td>\n      <td>https://www.ebay.com/itm/265635248944?nordt=tr...</td>\n      <td>Used</td>\n      <td>“These devices contain a SPOT on the display. ...</td>\n      <td>samsung</td>\n      <td>Samsung Galaxy Note8</td>\n      <td>...</td>\n      <td>0.0</td>\n      <td>0</td>\n      <td>0.0</td>\n      <td>0</td>\n      <td>0</td>\n      <td>0.0</td>\n      <td>0</td>\n      <td>0</td>\n      <td>2023-06-14 00:00:00</td>\n      <td>0</td>\n    </tr>\n    <tr>\n      <th>3076</th>\n      <td>Brand New STALA509DCP TCL A3 32GB Storage 3GB ...</td>\n      <td>43.13</td>\n      <td>0.00</td>\n      <td>34.0</td>\n      <td>1466.36</td>\n      <td>https://www.ebay.com/itm/265731617536?nordt=tr...</td>\n      <td>New</td>\n      <td>“This is a B+ Stock item, meaning unit is in v...</td>\n      <td>tcl</td>\n      <td>TCL A3</td>\n      <td>...</td>\n      <td>0.0</td>\n      <td>0</td>\n      <td>0.0</td>\n      <td>0</td>\n      <td>0</td>\n      <td>0.0</td>\n      <td>0</td>\n      <td>0</td>\n      <td>2023-06-14 00:00:00</td>\n      <td>0</td>\n    </tr>\n    <tr>\n      <th>3077</th>\n      <td>Apple iPhone 12 Pro Max - 128GB - Fully Unlock...</td>\n      <td>554.31</td>\n      <td>0.00</td>\n      <td>37.0</td>\n      <td>20509.63</td>\n      <td>https://www.ebay.com/itm/265936106963?nordt=tr...</td>\n      <td>Used</td>\n      <td>“Phones Have Been Certified By Our Industry-Le...</td>\n      <td>apple</td>\n      <td>Apple iPhone 12 Pro Max</td>\n      <td>...</td>\n      <td>0.0</td>\n      <td>0</td>\n      <td>1.0</td>\n      <td>0</td>\n      <td>0</td>\n      <td>0.0</td>\n      <td>0</td>\n      <td>0</td>\n      <td>2023-06-14 00:00:00</td>\n      <td>0</td>\n    </tr>\n    <tr>\n      <th>3078</th>\n      <td>Apple iPhone 13 Mini 128GB - T-Mobile / Metro ...</td>\n      <td>380.90</td>\n      <td>0.00</td>\n      <td>33.0</td>\n      <td>12569.67</td>\n      <td>https://www.ebay.com/itm/266138817726?nordt=tr...</td>\n      <td>Good - Refurbished</td>\n      <td>“LOCKED TO T-MOBILE Network - Fully tested 100...</td>\n      <td>apple</td>\n      <td>Apple iPhone 13 mini</td>\n      <td>...</td>\n      <td>0.0</td>\n      <td>0</td>\n      <td>0.0</td>\n      <td>0</td>\n      <td>0</td>\n      <td>0.0</td>\n      <td>0</td>\n      <td>0</td>\n      <td>2023-06-14 00:00:00</td>\n      <td>0</td>\n    </tr>\n    <tr>\n      <th>3079</th>\n      <td>*NEW SEALED* Samsung Galaxy S5 Active G870A - ...</td>\n      <td>99.74</td>\n      <td>5.99</td>\n      <td>36.0</td>\n      <td>3590.64</td>\n      <td>https://www.ebay.com/itm/284638798917?nordt=tr...</td>\n      <td>New</td>\n      <td>“This is a B+ Stock item, meaning unit is in v...</td>\n      <td>samsung</td>\n      <td>S5 Active G870A 16GB</td>\n      <td>...</td>\n      <td>0.0</td>\n      <td>0</td>\n      <td>0.0</td>\n      <td>0</td>\n      <td>0</td>\n      <td>0.0</td>\n      <td>0</td>\n      <td>0</td>\n      <td>2023-06-14 00:00:00</td>\n      <td>0</td>\n    </tr>\n  </tbody>\n</table>\n<p>3080 rows × 65 columns</p>\n</div>"
     },
     "execution_count": 5,
     "metadata": {},
     "output_type": "execute_result"
    }
   ],
   "source": [
    "target = data[data[\"Is_Target\"]==1]\n",
    "target.reset_index(drop=True, inplace=True)\n",
    "data = data[data[\"Is_Target\"]==0]\n",
    "data"
   ],
   "metadata": {
    "collapsed": false,
    "pycharm": {
     "name": "#%%\n"
    }
   }
  },
  {
   "cell_type": "code",
   "execution_count": 6,
   "outputs": [
    {
     "data": {
      "text/plain": "                                                  Title   Price  \\\n0     Nokia 3.1 C (TA1141) 32GB (Cricket) Smartphone...   31.59   \n1     Nokia 6 Dual SIM 5.5\" 4GB RAM 16MP Wi-Fi GPS B...  103.50   \n2     NEW Nokia 8 V 5G UW TA1257 Verizon Unlocked LT...  161.24   \n3     Original Nokia N8 N8-00 3G WIFI GPS 12MP Touch...   42.95   \n4     Nokia G50 5G | Android 11| Unlocked Smartphone...   87.00   \n...                                                 ...     ...   \n5355  Xiaomi Redmi K60 5G Snapdragon Gen 8+ 67W Fast...  562.24   \n5356  Samsung Galaxy A20- Black (T-Mobile) (Locked) ...  299.00   \n5357                Xiaomi Redmi Note 11 4G Volte 128GB  180.00   \n5358  Redmi Note 8 Pro 64gb CRACKED BACK (GSM Unlock...   70.00   \n5359  Xiaomi Redmi Note 10 Pro 8GB +128GB - Recondit...  190.52   \n\n      Shipping_cost  Sales_Count  Sales_Value  \\\n0              5.00         34.0      1074.14   \n1              0.00          4.0       414.00   \n2              0.00          8.0      1289.92   \n3              5.50         26.0      1116.79   \n4              8.22          1.0        87.00   \n...             ...          ...          ...   \n5355           0.00          1.0       562.24   \n5356           0.00          1.0       299.00   \n5357           9.65          1.0       180.00   \n5358          10.20          1.0        70.00   \n5359           0.00          1.0       190.52   \n\n                                                   Link  \\\n0     https://www.ebay.com/itm/275016352540?nordt=tr...   \n1     https://www.ebay.com/itm/203145222261?nordt=tr...   \n2     https://www.ebay.com/itm/295688872962?nordt=tr...   \n3     https://www.ebay.com/itm/164928279178?nordt=tr...   \n4     https://www.ebay.com/itm/145123725321?nordt=tr...   \n...                                                 ...   \n5355  https://www.ebay.com/itm/295575470723?nordt=tr...   \n5356  https://www.ebay.com/itm/295576987139?nordt=tr...   \n5357  https://www.ebay.com/itm/295588396316?nordt=tr...   \n5358  https://www.ebay.com/itm/295603254066?nordt=tr...   \n5359  https://www.ebay.com/itm/295618421838?nordt=tr...   \n\n                     Condition  \\\n0                         Used   \n1                     Open box   \n2                          New   \n3                         Used   \n4                         Used   \n...                        ...   \n5355                       New   \n5356                      Used   \n5357                       New   \n5358  For parts or not working   \n5359                      Used   \n\n                                           Seller Notes    Brand  \\\n0     “Refurbished to flawless new condition, 100% G...    nokia   \n1     “The phone is in good condition. without earph...    nokia   \n2     “Refurbished to flawless new condition, 100% G...    nokia   \n3     “1 year warranty, refurbished to a flawless ne...    nokia   \n4                                “Excellent Condition.”    nokia   \n...                                                 ...      ...   \n5355  “The item was used, and been restored to 100% ...    redmi   \n5356  “The item was used, and been restored to 100% ...  samsung   \n5357  “The item was used, and been restored to 100% ...    redmi   \n5358  “The item was used, and been restored to 100% ...    redmi   \n5359  “The item was used, and been restored to 100% ...    redmi   \n\n                     Model  ...  OTG Infrared  Lightning  Quad-Band Tri-Band  \\\n0              Nokia 3.1 C  ...  0.0        0        0.0          0        0   \n1                  Nokia 6  ...  0.0        0        0.0          0        0   \n2                  Nokia 8  ...  0.0        0        0.0          0        0   \n3                 Nokia N8  ...  0.0        0        0.0          0        0   \n4                Nokia G50  ...  0.0        0        0.0          0        0   \n...                    ...  ...  ...      ...        ...        ...      ...   \n5355             Redmi K60  ...  0.0        1        0.0          1        1   \n5356    Samsung Galaxy A20  ...  0.0        0        0.0          0        0   \n5357  Xiaomi Redmi Note 11  ...  0.0        0        0.0          0        0   \n5358      Redmi Note 8 Pro  ...  0.0        0        0.0          0        0   \n5359     Xiaomi Redmi Note  ...  0.0        0        0.0          0        0   \n\n      Wireless charging WAP WCDMA   Last_Sale Is_Target  \n0                   0.0   0     0  2023-06-13         1  \n1                   0.0   0     0  2023-06-13         1  \n2                   0.0   0     0  2023-06-13         1  \n3                   0.0   0     0  2023-06-13         1  \n4                   0.0   0     0  2023-06-13         1  \n...                 ...  ..   ...         ...       ...  \n5355                0.0   1     1  2023-03-31         1  \n5356                0.0   0     0  2023-03-27         1  \n5357                0.0   0     0  2023-04-01         1  \n5358                0.0   0     0  2023-04-28         1  \n5359                0.0   0     0  2023-05-07         1  \n\n[5360 rows x 65 columns]",
      "text/html": "<div>\n<style scoped>\n    .dataframe tbody tr th:only-of-type {\n        vertical-align: middle;\n    }\n\n    .dataframe tbody tr th {\n        vertical-align: top;\n    }\n\n    .dataframe thead th {\n        text-align: right;\n    }\n</style>\n<table border=\"1\" class=\"dataframe\">\n  <thead>\n    <tr style=\"text-align: right;\">\n      <th></th>\n      <th>Title</th>\n      <th>Price</th>\n      <th>Shipping_cost</th>\n      <th>Sales_Count</th>\n      <th>Sales_Value</th>\n      <th>Link</th>\n      <th>Condition</th>\n      <th>Seller Notes</th>\n      <th>Brand</th>\n      <th>Model</th>\n      <th>...</th>\n      <th>OTG</th>\n      <th>Infrared</th>\n      <th>Lightning</th>\n      <th>Quad-Band</th>\n      <th>Tri-Band</th>\n      <th>Wireless charging</th>\n      <th>WAP</th>\n      <th>WCDMA</th>\n      <th>Last_Sale</th>\n      <th>Is_Target</th>\n    </tr>\n  </thead>\n  <tbody>\n    <tr>\n      <th>0</th>\n      <td>Nokia 3.1 C (TA1141) 32GB (Cricket) Smartphone...</td>\n      <td>31.59</td>\n      <td>5.00</td>\n      <td>34.0</td>\n      <td>1074.14</td>\n      <td>https://www.ebay.com/itm/275016352540?nordt=tr...</td>\n      <td>Used</td>\n      <td>“Refurbished to flawless new condition, 100% G...</td>\n      <td>nokia</td>\n      <td>Nokia 3.1 C</td>\n      <td>...</td>\n      <td>0.0</td>\n      <td>0</td>\n      <td>0.0</td>\n      <td>0</td>\n      <td>0</td>\n      <td>0.0</td>\n      <td>0</td>\n      <td>0</td>\n      <td>2023-06-13</td>\n      <td>1</td>\n    </tr>\n    <tr>\n      <th>1</th>\n      <td>Nokia 6 Dual SIM 5.5\" 4GB RAM 16MP Wi-Fi GPS B...</td>\n      <td>103.50</td>\n      <td>0.00</td>\n      <td>4.0</td>\n      <td>414.00</td>\n      <td>https://www.ebay.com/itm/203145222261?nordt=tr...</td>\n      <td>Open box</td>\n      <td>“The phone is in good condition. without earph...</td>\n      <td>nokia</td>\n      <td>Nokia 6</td>\n      <td>...</td>\n      <td>0.0</td>\n      <td>0</td>\n      <td>0.0</td>\n      <td>0</td>\n      <td>0</td>\n      <td>0.0</td>\n      <td>0</td>\n      <td>0</td>\n      <td>2023-06-13</td>\n      <td>1</td>\n    </tr>\n    <tr>\n      <th>2</th>\n      <td>NEW Nokia 8 V 5G UW TA1257 Verizon Unlocked LT...</td>\n      <td>161.24</td>\n      <td>0.00</td>\n      <td>8.0</td>\n      <td>1289.92</td>\n      <td>https://www.ebay.com/itm/295688872962?nordt=tr...</td>\n      <td>New</td>\n      <td>“Refurbished to flawless new condition, 100% G...</td>\n      <td>nokia</td>\n      <td>Nokia 8</td>\n      <td>...</td>\n      <td>0.0</td>\n      <td>0</td>\n      <td>0.0</td>\n      <td>0</td>\n      <td>0</td>\n      <td>0.0</td>\n      <td>0</td>\n      <td>0</td>\n      <td>2023-06-13</td>\n      <td>1</td>\n    </tr>\n    <tr>\n      <th>3</th>\n      <td>Original Nokia N8 N8-00 3G WIFI GPS 12MP Touch...</td>\n      <td>42.95</td>\n      <td>5.50</td>\n      <td>26.0</td>\n      <td>1116.79</td>\n      <td>https://www.ebay.com/itm/164928279178?nordt=tr...</td>\n      <td>Used</td>\n      <td>“1 year warranty, refurbished to a flawless ne...</td>\n      <td>nokia</td>\n      <td>Nokia N8</td>\n      <td>...</td>\n      <td>0.0</td>\n      <td>0</td>\n      <td>0.0</td>\n      <td>0</td>\n      <td>0</td>\n      <td>0.0</td>\n      <td>0</td>\n      <td>0</td>\n      <td>2023-06-13</td>\n      <td>1</td>\n    </tr>\n    <tr>\n      <th>4</th>\n      <td>Nokia G50 5G | Android 11| Unlocked Smartphone...</td>\n      <td>87.00</td>\n      <td>8.22</td>\n      <td>1.0</td>\n      <td>87.00</td>\n      <td>https://www.ebay.com/itm/145123725321?nordt=tr...</td>\n      <td>Used</td>\n      <td>“Excellent Condition.”</td>\n      <td>nokia</td>\n      <td>Nokia G50</td>\n      <td>...</td>\n      <td>0.0</td>\n      <td>0</td>\n      <td>0.0</td>\n      <td>0</td>\n      <td>0</td>\n      <td>0.0</td>\n      <td>0</td>\n      <td>0</td>\n      <td>2023-06-13</td>\n      <td>1</td>\n    </tr>\n    <tr>\n      <th>...</th>\n      <td>...</td>\n      <td>...</td>\n      <td>...</td>\n      <td>...</td>\n      <td>...</td>\n      <td>...</td>\n      <td>...</td>\n      <td>...</td>\n      <td>...</td>\n      <td>...</td>\n      <td>...</td>\n      <td>...</td>\n      <td>...</td>\n      <td>...</td>\n      <td>...</td>\n      <td>...</td>\n      <td>...</td>\n      <td>...</td>\n      <td>...</td>\n      <td>...</td>\n      <td>...</td>\n    </tr>\n    <tr>\n      <th>5355</th>\n      <td>Xiaomi Redmi K60 5G Snapdragon Gen 8+ 67W Fast...</td>\n      <td>562.24</td>\n      <td>0.00</td>\n      <td>1.0</td>\n      <td>562.24</td>\n      <td>https://www.ebay.com/itm/295575470723?nordt=tr...</td>\n      <td>New</td>\n      <td>“The item was used, and been restored to 100% ...</td>\n      <td>redmi</td>\n      <td>Redmi K60</td>\n      <td>...</td>\n      <td>0.0</td>\n      <td>1</td>\n      <td>0.0</td>\n      <td>1</td>\n      <td>1</td>\n      <td>0.0</td>\n      <td>1</td>\n      <td>1</td>\n      <td>2023-03-31</td>\n      <td>1</td>\n    </tr>\n    <tr>\n      <th>5356</th>\n      <td>Samsung Galaxy A20- Black (T-Mobile) (Locked) ...</td>\n      <td>299.00</td>\n      <td>0.00</td>\n      <td>1.0</td>\n      <td>299.00</td>\n      <td>https://www.ebay.com/itm/295576987139?nordt=tr...</td>\n      <td>Used</td>\n      <td>“The item was used, and been restored to 100% ...</td>\n      <td>samsung</td>\n      <td>Samsung Galaxy A20</td>\n      <td>...</td>\n      <td>0.0</td>\n      <td>0</td>\n      <td>0.0</td>\n      <td>0</td>\n      <td>0</td>\n      <td>0.0</td>\n      <td>0</td>\n      <td>0</td>\n      <td>2023-03-27</td>\n      <td>1</td>\n    </tr>\n    <tr>\n      <th>5357</th>\n      <td>Xiaomi Redmi Note 11 4G Volte 128GB</td>\n      <td>180.00</td>\n      <td>9.65</td>\n      <td>1.0</td>\n      <td>180.00</td>\n      <td>https://www.ebay.com/itm/295588396316?nordt=tr...</td>\n      <td>New</td>\n      <td>“The item was used, and been restored to 100% ...</td>\n      <td>redmi</td>\n      <td>Xiaomi Redmi Note 11</td>\n      <td>...</td>\n      <td>0.0</td>\n      <td>0</td>\n      <td>0.0</td>\n      <td>0</td>\n      <td>0</td>\n      <td>0.0</td>\n      <td>0</td>\n      <td>0</td>\n      <td>2023-04-01</td>\n      <td>1</td>\n    </tr>\n    <tr>\n      <th>5358</th>\n      <td>Redmi Note 8 Pro 64gb CRACKED BACK (GSM Unlock...</td>\n      <td>70.00</td>\n      <td>10.20</td>\n      <td>1.0</td>\n      <td>70.00</td>\n      <td>https://www.ebay.com/itm/295603254066?nordt=tr...</td>\n      <td>For parts or not working</td>\n      <td>“The item was used, and been restored to 100% ...</td>\n      <td>redmi</td>\n      <td>Redmi Note 8 Pro</td>\n      <td>...</td>\n      <td>0.0</td>\n      <td>0</td>\n      <td>0.0</td>\n      <td>0</td>\n      <td>0</td>\n      <td>0.0</td>\n      <td>0</td>\n      <td>0</td>\n      <td>2023-04-28</td>\n      <td>1</td>\n    </tr>\n    <tr>\n      <th>5359</th>\n      <td>Xiaomi Redmi Note 10 Pro 8GB +128GB - Recondit...</td>\n      <td>190.52</td>\n      <td>0.00</td>\n      <td>1.0</td>\n      <td>190.52</td>\n      <td>https://www.ebay.com/itm/295618421838?nordt=tr...</td>\n      <td>Used</td>\n      <td>“The item was used, and been restored to 100% ...</td>\n      <td>redmi</td>\n      <td>Xiaomi Redmi Note</td>\n      <td>...</td>\n      <td>0.0</td>\n      <td>0</td>\n      <td>0.0</td>\n      <td>0</td>\n      <td>0</td>\n      <td>0.0</td>\n      <td>0</td>\n      <td>0</td>\n      <td>2023-05-07</td>\n      <td>1</td>\n    </tr>\n  </tbody>\n</table>\n<p>5360 rows × 65 columns</p>\n</div>"
     },
     "execution_count": 6,
     "metadata": {},
     "output_type": "execute_result"
    }
   ],
   "source": [
    "target"
   ],
   "metadata": {
    "collapsed": false,
    "pycharm": {
     "name": "#%%\n"
    }
   }
  },
  {
   "cell_type": "markdown",
   "source": [
    "## Предсказание цены по характеристикам (Гедонистическая цена)"
   ],
   "metadata": {
    "collapsed": false
   }
  },
  {
   "cell_type": "code",
   "execution_count": 7,
   "outputs": [],
   "source": [
    "y = data['Price']\n",
    "X = data.drop(columns = ['Title', 'Price', 'Shipping_cost', 'Sales_Count', 'Sales_Value', 'Link', 'Seller Notes', 'Model','Lock Status', 'Contract', 'Model Number', 'Style', 'MPN', 'Connectivity', 'Features', 'Memory Card Type', 'Color'])"
   ],
   "metadata": {
    "collapsed": false,
    "pycharm": {
     "name": "#%%\n"
    }
   }
  },
  {
   "cell_type": "code",
   "execution_count": 8,
   "outputs": [],
   "source": [
    "X_train, X_test, y_train, y_test = train_test_split(X, y, test_size=0.2, random_state=10)"
   ],
   "metadata": {
    "collapsed": false,
    "pycharm": {
     "name": "#%%\n"
    }
   }
  },
  {
   "cell_type": "code",
   "execution_count": 9,
   "outputs": [],
   "source": [
    "categorical = list(X_train.dtypes[X_train.dtypes == \"object\"].index)\n",
    "numeric = list(X_train.dtypes[X_train.dtypes == np.number].index)\n",
    "X_train[categorical] = X_train[categorical]\n",
    "X_test[categorical] = X_test[categorical]"
   ],
   "metadata": {
    "collapsed": false,
    "pycharm": {
     "name": "#%%\n"
    }
   }
  },
  {
   "cell_type": "code",
   "execution_count": 10,
   "outputs": [],
   "source": [
    "column_transformer = ColumnTransformer([\n",
    "    ('ohe', OneHotEncoder(handle_unknown=\"ignore\"), categorical),\n",
    "    ('scaling', StandardScaler(), numeric)\n",
    "])\n",
    "\n",
    "pipeline = Pipeline(steps=[\n",
    "    ('ohe_and_scaling', column_transformer),\n",
    "    ('regression', RandomForestRegressor())\n",
    "])"
   ],
   "metadata": {
    "collapsed": false,
    "pycharm": {
     "name": "#%%\n"
    }
   }
  },
  {
   "cell_type": "code",
   "execution_count": 11,
   "outputs": [
    {
     "name": "stdout",
     "output_type": "stream",
     "text": [
      "Test RMSE = 68.2357\n",
      "Test MAE = 41.4174\n",
      "Test MAPE = 0.2831\n"
     ]
    }
   ],
   "source": [
    "price_model = pipeline.fit(X_train, y_train)\n",
    "y_pred = price_model.predict(X_test)\n",
    "print(\"Test RMSE = %.4f\" % mean_squared_error(y_test, y_pred, squared=False))\n",
    "print(\"Test MAE = %.4f\" % mean_absolute_error(y_test, y_pred))\n",
    "print(\"Test MAPE = %.4f\" % mean_absolute_percentage_error(y_test, y_pred))"
   ],
   "metadata": {
    "collapsed": false,
    "pycharm": {
     "name": "#%%\n"
    }
   }
  },
  {
   "cell_type": "code",
   "execution_count": 12,
   "outputs": [],
   "source": [
    "with open('Price Model.pkl','wb') as f:\n",
    "    pickle.dump(price_model,f)"
   ],
   "metadata": {
    "collapsed": false,
    "pycharm": {
     "name": "#%%\n"
    }
   }
  },
  {
   "cell_type": "markdown",
   "source": [
    "# Предсказывание объёма продаж в качестве аппроксимации общественной оценки"
   ],
   "metadata": {
    "collapsed": false
   }
  },
  {
   "cell_type": "code",
   "execution_count": null,
   "outputs": [],
   "source": [],
   "metadata": {
    "collapsed": false,
    "pycharm": {
     "name": "#%%\n"
    }
   }
  },
  {
   "cell_type": "code",
   "execution_count": 13,
   "outputs": [],
   "source": [
    "y2 = data['Sales_Value']\n",
    "X2 = data.drop(columns = ['Title', 'Price', 'Shipping_cost', 'Sales_Count', 'Sales_Value', 'Link', 'Seller Notes', 'Model','Lock Status', 'Contract', 'Model Number', 'Style', 'MPN', 'Connectivity', 'Features', 'Memory Card Type', 'Color'])"
   ],
   "metadata": {
    "collapsed": false,
    "pycharm": {
     "name": "#%%\n"
    }
   }
  },
  {
   "cell_type": "code",
   "execution_count": 14,
   "outputs": [],
   "source": [
    "X_train2, X_test2, y_train2, y_test2 = train_test_split(X2, y2, test_size=0.2, random_state=10)"
   ],
   "metadata": {
    "collapsed": false,
    "pycharm": {
     "name": "#%%\n"
    }
   }
  },
  {
   "cell_type": "code",
   "execution_count": 15,
   "outputs": [],
   "source": [
    "categorical2 = list(X_train2.dtypes[X_train2.dtypes == \"object\"].index)\n",
    "numeric2 = list(X_train2.dtypes[X_train2.dtypes == np.number].index)\n",
    "X_train2[categorical2] = X_train2[categorical2]\n",
    "X_test2[categorical2] = X_test2[categorical2]"
   ],
   "metadata": {
    "collapsed": false,
    "pycharm": {
     "name": "#%%\n"
    }
   }
  },
  {
   "cell_type": "code",
   "execution_count": 16,
   "outputs": [],
   "source": [
    "column_transformer2 = ColumnTransformer([\n",
    "    ('ohe', OneHotEncoder(handle_unknown=\"ignore\"), categorical2),\n",
    "    ('scaling', StandardScaler(), numeric2)\n",
    "])\n",
    "\n",
    "pipeline2 = Pipeline(steps=[\n",
    "    ('ohe_and_scaling', column_transformer2),\n",
    "    ('regression', RandomForestRegressor())\n",
    "])"
   ],
   "metadata": {
    "collapsed": false,
    "pycharm": {
     "name": "#%%\n"
    }
   }
  },
  {
   "cell_type": "code",
   "execution_count": 17,
   "outputs": [
    {
     "name": "stdout",
     "output_type": "stream",
     "text": [
      "Test RMSE = 255102.4041\n",
      "Test MAE = 65299.3159\n",
      "Test MAPE = 2.2281\n"
     ]
    }
   ],
   "source": [
    "value_model = pipeline2.fit(X_train2, y_train2)\n",
    "y_pred2 = value_model.predict(X_test2)\n",
    "print(\"Test RMSE = %.4f\" % mean_squared_error(y_test2, y_pred2, squared=False))\n",
    "print(\"Test MAE = %.4f\" % mean_absolute_error(y_test2, y_pred2))\n",
    "print(\"Test MAPE = %.4f\" % mean_absolute_percentage_error(y_test2, y_pred2))"
   ],
   "metadata": {
    "collapsed": false,
    "pycharm": {
     "name": "#%%\n"
    }
   }
  },
  {
   "cell_type": "code",
   "execution_count": 18,
   "outputs": [],
   "source": [
    "with open('Sales Value Model.pkl','wb') as f:\n",
    "    pickle.dump(value_model,f)"
   ],
   "metadata": {
    "collapsed": false,
    "pycharm": {
     "name": "#%%\n"
    }
   }
  }
 ],
 "metadata": {
  "kernelspec": {
   "display_name": "Python 3",
   "language": "python",
   "name": "python3"
  },
  "language_info": {
   "codemirror_mode": {
    "name": "ipython",
    "version": 2
   },
   "file_extension": ".py",
   "mimetype": "text/x-python",
   "name": "python",
   "nbconvert_exporter": "python",
   "pygments_lexer": "ipython2",
   "version": "2.7.6"
  }
 },
 "nbformat": 4,
 "nbformat_minor": 0
}