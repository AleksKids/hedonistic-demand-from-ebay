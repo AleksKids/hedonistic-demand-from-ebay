{
 "cells": [
  {
   "cell_type": "markdown",
   "source": [
    "# Случайный лес для прогнозирования цены на основе характеристик"
   ],
   "metadata": {
    "collapsed": false
   }
  },
  {
   "cell_type": "code",
   "execution_count": 41,
   "metadata": {
    "collapsed": true
   },
   "outputs": [],
   "source": [
    "import pandas as pd\n",
    "import numpy as np\n",
    "from sklearn.model_selection import train_test_split\n",
    "from sklearn.preprocessing import OneHotEncoder\n",
    "from sklearn.preprocessing import StandardScaler\n",
    "from sklearn.compose import ColumnTransformer\n",
    "from sklearn.pipeline import Pipeline\n",
    "from sklearn.ensemble import RandomForestRegressor\n",
    "from sklearn.metrics import mean_squared_error, mean_absolute_error\n",
    "from sklearn.linear_model import LinearRegression"
   ]
  },
  {
   "cell_type": "code",
   "execution_count": 19,
   "outputs": [],
   "source": [
    "data = pd.read_csv(\"https://raw.githubusercontent.com/AleksKids/hedonistic-demand-from-ebay/main/preprocessed.tsv\", delimiter = '\\t')"
   ],
   "metadata": {
    "collapsed": false,
    "pycharm": {
     "name": "#%%\n"
    }
   }
  },
  {
   "cell_type": "code",
   "execution_count": 20,
   "outputs": [
    {
     "data": {
      "text/plain": "                                                  Title   Price  \\\n0     Apple iPhone 11 64GB Factory Unlocked 4G LTE S...  337.59   \n1     Apple iPhone XR 64GB Factory Unlocked Smartpho...  266.28   \n2     Apple iPhone 11 64GB Unlocked Smartphone - Ver...  359.11   \n3     Apple iPhone X 64GB Factory Unlocked Phone - V...  231.98   \n4     Apple iPhone X 256GB Unlocked Smartphone - Ver...  263.59   \n...                                                 ...     ...   \n3076  Samsung Galaxy Note8 SM-N950U - 64GB (Unlocked...  128.40   \n3077  Brand New STALA509DCP TCL A3 32GB Storage 3GB ...   43.13   \n3078  Apple iPhone 12 Pro Max - 128GB - Fully Unlock...  554.31   \n3079  Apple iPhone 13 Mini 128GB - T-Mobile / Metro ...  380.90   \n3080  *NEW SEALED* Samsung Galaxy S5 Active G870A - ...   99.74   \n\n      Shipping_cost  Sales_Count  Sales_Value  \\\n0              0.00      19787.0   6679958.00   \n1              0.00      12440.0   3312560.60   \n2             16.93      12224.0   4389742.37   \n3             16.50      11781.0   2732899.88   \n4             15.34      10020.0   2641203.85   \n...             ...          ...          ...   \n3076           0.00         37.0      4750.91   \n3077           0.00         34.0      1466.36   \n3078           0.00         37.0     20509.63   \n3079           0.00         33.0     12569.67   \n3080           5.99         36.0      3590.64   \n\n                                                   Link  \\\n0     https://www.ebay.com/itm/254604777645?nordt=tr...   \n1     https://www.ebay.com/itm/254187678666?nordt=tr...   \n2     https://www.ebay.com/itm/363183815277?nordt=tr...   \n3     https://www.ebay.com/itm/382605209867?nordt=tr...   \n4     https://www.ebay.com/itm/382446518910?nordt=tr...   \n...                                                 ...   \n3076  https://www.ebay.com/itm/265635248944?nordt=tr...   \n3077  https://www.ebay.com/itm/265731617536?nordt=tr...   \n3078  https://www.ebay.com/itm/265936106963?nordt=tr...   \n3079  https://www.ebay.com/itm/266138817726?nordt=tr...   \n3080  https://www.ebay.com/itm/284638798917?nordt=tr...   \n\n                    Condition  \\\n0     Very Good - Refurbished   \n1     Very Good - Refurbished   \n2     Very Good - Refurbished   \n3     Very Good - Refurbished   \n4     Very Good - Refurbished   \n...                       ...   \n3076                     Used   \n3077                      New   \n3078                     Used   \n3079       Good - Refurbished   \n3080                      New   \n\n                                           Seller Notes    Brand  \\\n0     “This iPhone 11 is in Very Good condition and ...    apple   \n1     “This Apple iPhone XR 64GB Factory Unlocked Sm...    apple   \n2     “This is a B+ Stock item, meaning unit is in v...    apple   \n3     “This is a B+ Stock item, meaning unit is in v...    apple   \n4     “This is a B+ Stock item, meaning unit is in v...    apple   \n...                                                 ...      ...   \n3076  “These devices contain a SPOT on the display. ...  samsung   \n3077  “This is a B+ Stock item, meaning unit is in v...      tcl   \n3078  “Phones Have Been Certified By Our Industry-Le...    apple   \n3079  “LOCKED TO T-MOBILE Network - Fully tested 100...    apple   \n3080  “This is a B+ Stock item, meaning unit is in v...  samsung   \n\n                        Model  ...  Dual-Band FM  Global Version  HDMI Micro  \\\n0                   iPhone 11  ...          0  0               0           0   \n1                   iPhone XR  ...          0  0               0           0   \n2             Apple iPhone 11  ...          0  0               0           0   \n3              Apple iPhone X  ...          1  1               1           1   \n4              Apple iPhone X  ...          0  0               0           0   \n...                       ...  ...        ... ..             ...         ...   \n3076     Samsung Galaxy Note8  ...          0  0               0           0   \n3077                   TCL A3  ...          0  0               0           0   \n3078  Apple iPhone 12 Pro Max  ...          0  0               0           0   \n3079     Apple iPhone 13 mini  ...          0  0               0           0   \n3080     S5 Active G870A 16GB  ...          0  0               0           0   \n\n     Headphone Jack  Infrared Lightning Quad-Band Tri-Band Wireless charging  \n0                 0         0         0         0        0                 0  \n1                 0         0         0         0        0                 0  \n2                 0         0         0         0        0                 0  \n3                 1         1         1         1        1                 1  \n4                 0         0         0         0        0                 0  \n...             ...       ...       ...       ...      ...               ...  \n3076              0         0         0         0        0                 0  \n3077              0         0         0         0        0                 0  \n3078              0         0         1         0        0                 0  \n3079              0         0         0         0        0                 0  \n3080              0         0         0         0        0                 0  \n\n[3081 rows x 42 columns]",
      "text/html": "<div>\n<style scoped>\n    .dataframe tbody tr th:only-of-type {\n        vertical-align: middle;\n    }\n\n    .dataframe tbody tr th {\n        vertical-align: top;\n    }\n\n    .dataframe thead th {\n        text-align: right;\n    }\n</style>\n<table border=\"1\" class=\"dataframe\">\n  <thead>\n    <tr style=\"text-align: right;\">\n      <th></th>\n      <th>Title</th>\n      <th>Price</th>\n      <th>Shipping_cost</th>\n      <th>Sales_Count</th>\n      <th>Sales_Value</th>\n      <th>Link</th>\n      <th>Condition</th>\n      <th>Seller Notes</th>\n      <th>Brand</th>\n      <th>Model</th>\n      <th>...</th>\n      <th>Dual-Band</th>\n      <th>FM</th>\n      <th>Global Version</th>\n      <th>HDMI Micro</th>\n      <th>Headphone Jack</th>\n      <th>Infrared</th>\n      <th>Lightning</th>\n      <th>Quad-Band</th>\n      <th>Tri-Band</th>\n      <th>Wireless charging</th>\n    </tr>\n  </thead>\n  <tbody>\n    <tr>\n      <th>0</th>\n      <td>Apple iPhone 11 64GB Factory Unlocked 4G LTE S...</td>\n      <td>337.59</td>\n      <td>0.00</td>\n      <td>19787.0</td>\n      <td>6679958.00</td>\n      <td>https://www.ebay.com/itm/254604777645?nordt=tr...</td>\n      <td>Very Good - Refurbished</td>\n      <td>“This iPhone 11 is in Very Good condition and ...</td>\n      <td>apple</td>\n      <td>iPhone 11</td>\n      <td>...</td>\n      <td>0</td>\n      <td>0</td>\n      <td>0</td>\n      <td>0</td>\n      <td>0</td>\n      <td>0</td>\n      <td>0</td>\n      <td>0</td>\n      <td>0</td>\n      <td>0</td>\n    </tr>\n    <tr>\n      <th>1</th>\n      <td>Apple iPhone XR 64GB Factory Unlocked Smartpho...</td>\n      <td>266.28</td>\n      <td>0.00</td>\n      <td>12440.0</td>\n      <td>3312560.60</td>\n      <td>https://www.ebay.com/itm/254187678666?nordt=tr...</td>\n      <td>Very Good - Refurbished</td>\n      <td>“This Apple iPhone XR 64GB Factory Unlocked Sm...</td>\n      <td>apple</td>\n      <td>iPhone XR</td>\n      <td>...</td>\n      <td>0</td>\n      <td>0</td>\n      <td>0</td>\n      <td>0</td>\n      <td>0</td>\n      <td>0</td>\n      <td>0</td>\n      <td>0</td>\n      <td>0</td>\n      <td>0</td>\n    </tr>\n    <tr>\n      <th>2</th>\n      <td>Apple iPhone 11 64GB Unlocked Smartphone - Ver...</td>\n      <td>359.11</td>\n      <td>16.93</td>\n      <td>12224.0</td>\n      <td>4389742.37</td>\n      <td>https://www.ebay.com/itm/363183815277?nordt=tr...</td>\n      <td>Very Good - Refurbished</td>\n      <td>“This is a B+ Stock item, meaning unit is in v...</td>\n      <td>apple</td>\n      <td>Apple iPhone 11</td>\n      <td>...</td>\n      <td>0</td>\n      <td>0</td>\n      <td>0</td>\n      <td>0</td>\n      <td>0</td>\n      <td>0</td>\n      <td>0</td>\n      <td>0</td>\n      <td>0</td>\n      <td>0</td>\n    </tr>\n    <tr>\n      <th>3</th>\n      <td>Apple iPhone X 64GB Factory Unlocked Phone - V...</td>\n      <td>231.98</td>\n      <td>16.50</td>\n      <td>11781.0</td>\n      <td>2732899.88</td>\n      <td>https://www.ebay.com/itm/382605209867?nordt=tr...</td>\n      <td>Very Good - Refurbished</td>\n      <td>“This is a B+ Stock item, meaning unit is in v...</td>\n      <td>apple</td>\n      <td>Apple iPhone X</td>\n      <td>...</td>\n      <td>1</td>\n      <td>1</td>\n      <td>1</td>\n      <td>1</td>\n      <td>1</td>\n      <td>1</td>\n      <td>1</td>\n      <td>1</td>\n      <td>1</td>\n      <td>1</td>\n    </tr>\n    <tr>\n      <th>4</th>\n      <td>Apple iPhone X 256GB Unlocked Smartphone - Ver...</td>\n      <td>263.59</td>\n      <td>15.34</td>\n      <td>10020.0</td>\n      <td>2641203.85</td>\n      <td>https://www.ebay.com/itm/382446518910?nordt=tr...</td>\n      <td>Very Good - Refurbished</td>\n      <td>“This is a B+ Stock item, meaning unit is in v...</td>\n      <td>apple</td>\n      <td>Apple iPhone X</td>\n      <td>...</td>\n      <td>0</td>\n      <td>0</td>\n      <td>0</td>\n      <td>0</td>\n      <td>0</td>\n      <td>0</td>\n      <td>0</td>\n      <td>0</td>\n      <td>0</td>\n      <td>0</td>\n    </tr>\n    <tr>\n      <th>...</th>\n      <td>...</td>\n      <td>...</td>\n      <td>...</td>\n      <td>...</td>\n      <td>...</td>\n      <td>...</td>\n      <td>...</td>\n      <td>...</td>\n      <td>...</td>\n      <td>...</td>\n      <td>...</td>\n      <td>...</td>\n      <td>...</td>\n      <td>...</td>\n      <td>...</td>\n      <td>...</td>\n      <td>...</td>\n      <td>...</td>\n      <td>...</td>\n      <td>...</td>\n      <td>...</td>\n    </tr>\n    <tr>\n      <th>3076</th>\n      <td>Samsung Galaxy Note8 SM-N950U - 64GB (Unlocked...</td>\n      <td>128.40</td>\n      <td>0.00</td>\n      <td>37.0</td>\n      <td>4750.91</td>\n      <td>https://www.ebay.com/itm/265635248944?nordt=tr...</td>\n      <td>Used</td>\n      <td>“These devices contain a SPOT on the display. ...</td>\n      <td>samsung</td>\n      <td>Samsung Galaxy Note8</td>\n      <td>...</td>\n      <td>0</td>\n      <td>0</td>\n      <td>0</td>\n      <td>0</td>\n      <td>0</td>\n      <td>0</td>\n      <td>0</td>\n      <td>0</td>\n      <td>0</td>\n      <td>0</td>\n    </tr>\n    <tr>\n      <th>3077</th>\n      <td>Brand New STALA509DCP TCL A3 32GB Storage 3GB ...</td>\n      <td>43.13</td>\n      <td>0.00</td>\n      <td>34.0</td>\n      <td>1466.36</td>\n      <td>https://www.ebay.com/itm/265731617536?nordt=tr...</td>\n      <td>New</td>\n      <td>“This is a B+ Stock item, meaning unit is in v...</td>\n      <td>tcl</td>\n      <td>TCL A3</td>\n      <td>...</td>\n      <td>0</td>\n      <td>0</td>\n      <td>0</td>\n      <td>0</td>\n      <td>0</td>\n      <td>0</td>\n      <td>0</td>\n      <td>0</td>\n      <td>0</td>\n      <td>0</td>\n    </tr>\n    <tr>\n      <th>3078</th>\n      <td>Apple iPhone 12 Pro Max - 128GB - Fully Unlock...</td>\n      <td>554.31</td>\n      <td>0.00</td>\n      <td>37.0</td>\n      <td>20509.63</td>\n      <td>https://www.ebay.com/itm/265936106963?nordt=tr...</td>\n      <td>Used</td>\n      <td>“Phones Have Been Certified By Our Industry-Le...</td>\n      <td>apple</td>\n      <td>Apple iPhone 12 Pro Max</td>\n      <td>...</td>\n      <td>0</td>\n      <td>0</td>\n      <td>0</td>\n      <td>0</td>\n      <td>0</td>\n      <td>0</td>\n      <td>1</td>\n      <td>0</td>\n      <td>0</td>\n      <td>0</td>\n    </tr>\n    <tr>\n      <th>3079</th>\n      <td>Apple iPhone 13 Mini 128GB - T-Mobile / Metro ...</td>\n      <td>380.90</td>\n      <td>0.00</td>\n      <td>33.0</td>\n      <td>12569.67</td>\n      <td>https://www.ebay.com/itm/266138817726?nordt=tr...</td>\n      <td>Good - Refurbished</td>\n      <td>“LOCKED TO T-MOBILE Network - Fully tested 100...</td>\n      <td>apple</td>\n      <td>Apple iPhone 13 mini</td>\n      <td>...</td>\n      <td>0</td>\n      <td>0</td>\n      <td>0</td>\n      <td>0</td>\n      <td>0</td>\n      <td>0</td>\n      <td>0</td>\n      <td>0</td>\n      <td>0</td>\n      <td>0</td>\n    </tr>\n    <tr>\n      <th>3080</th>\n      <td>*NEW SEALED* Samsung Galaxy S5 Active G870A - ...</td>\n      <td>99.74</td>\n      <td>5.99</td>\n      <td>36.0</td>\n      <td>3590.64</td>\n      <td>https://www.ebay.com/itm/284638798917?nordt=tr...</td>\n      <td>New</td>\n      <td>“This is a B+ Stock item, meaning unit is in v...</td>\n      <td>samsung</td>\n      <td>S5 Active G870A 16GB</td>\n      <td>...</td>\n      <td>0</td>\n      <td>0</td>\n      <td>0</td>\n      <td>0</td>\n      <td>0</td>\n      <td>0</td>\n      <td>0</td>\n      <td>0</td>\n      <td>0</td>\n      <td>0</td>\n    </tr>\n  </tbody>\n</table>\n<p>3081 rows × 42 columns</p>\n</div>"
     },
     "execution_count": 20,
     "metadata": {},
     "output_type": "execute_result"
    }
   ],
   "source": [
    "data"
   ],
   "metadata": {
    "collapsed": false,
    "pycharm": {
     "name": "#%%\n"
    }
   }
  },
  {
   "cell_type": "code",
   "execution_count": 68,
   "outputs": [],
   "source": [
    "y = data['Price']\n",
    "X = data.drop(columns = ['Title', 'Price', 'Sales_Value', 'Link', 'Seller Notes', 'Model','Lock Status', 'Contract', 'Model Number', 'Style', 'MPN', 'Connectivity', 'Features', 'Memory Card Type', 'Processor', 'Color'])"
   ],
   "metadata": {
    "collapsed": false,
    "pycharm": {
     "name": "#%%\n"
    }
   }
  },
  {
   "cell_type": "code",
   "execution_count": 69,
   "outputs": [],
   "source": [
    "X_train, X_test, y_train, y_test = train_test_split(X, y, test_size=0.3, random_state=10)"
   ],
   "metadata": {
    "collapsed": false,
    "pycharm": {
     "name": "#%%\n"
    }
   }
  },
  {
   "cell_type": "code",
   "execution_count": 70,
   "outputs": [],
   "source": [
    "categorical = list(X_train.dtypes[X_train.dtypes == \"object\"].index)\n",
    "numeric = list(X_train.dtypes[X_train.dtypes == np.number].index)\n",
    "X_train[categorical] = X_train[categorical]\n",
    "X_test[categorical] = X_test[categorical]"
   ],
   "metadata": {
    "collapsed": false,
    "pycharm": {
     "name": "#%%\n"
    }
   }
  },
  {
   "cell_type": "code",
   "execution_count": 71,
   "outputs": [],
   "source": [
    "column_transformer = ColumnTransformer([\n",
    "    ('ohe', OneHotEncoder(handle_unknown=\"ignore\"), categorical),\n",
    "    ('scaling', StandardScaler(), numeric)\n",
    "])\n",
    "\n",
    "pipeline = Pipeline(steps=[\n",
    "    ('ohe_and_scaling', column_transformer),\n",
    "    ('regression', RandomForestRegressor())\n",
    "])"
   ],
   "metadata": {
    "collapsed": false,
    "pycharm": {
     "name": "#%%\n"
    }
   }
  },
  {
   "cell_type": "code",
   "execution_count": 72,
   "outputs": [
    {
     "name": "stdout",
     "output_type": "stream",
     "text": [
      "Test RMSE = 80.1074\n"
     ]
    }
   ],
   "source": [
    "model = pipeline.fit(X_train, y_train)\n",
    "y_pred = model.predict(X_test)\n",
    "print(\"Test RMSE = %.4f\" % mean_squared_error(y_test, y_pred, squared=False))"
   ],
   "metadata": {
    "collapsed": false,
    "pycharm": {
     "name": "#%%\n"
    }
   }
  },
  {
   "cell_type": "markdown",
   "source": [
    "# Линейная регрессия для прогнозирования спроса на основе характеристик и цены"
   ],
   "metadata": {
    "collapsed": false
   }
  },
  {
   "cell_type": "code",
   "execution_count": 135,
   "outputs": [],
   "source": [
    "y2 = data['Sales_Count']\n",
    "X2 = data.drop(columns = ['Title', 'Sales_Value', 'Sales_Count', 'Link', 'Seller Notes', 'Model','Lock Status', 'Contract', 'Model Number', 'Style', 'MPN', 'Connectivity', 'Features', 'Memory Card Type', 'Processor', 'Color'])"
   ],
   "metadata": {
    "collapsed": false,
    "pycharm": {
     "name": "#%%\n"
    }
   }
  },
  {
   "cell_type": "code",
   "execution_count": 136,
   "outputs": [],
   "source": [
    "X_train2, X_test2, y_train2, y_test2 = train_test_split(X2, y2, test_size=0.3, random_state=10)"
   ],
   "metadata": {
    "collapsed": false,
    "pycharm": {
     "name": "#%%\n"
    }
   }
  },
  {
   "cell_type": "code",
   "execution_count": 137,
   "outputs": [
    {
     "data": {
      "text/plain": "       Price  Shipping_cost                Condition     Brand  \\\n1995   57.62           6.99                     Used   samsung   \n825   696.98           0.00  Excellent - Refurbished   samsung   \n3057   58.09           4.67                     Used   samsung   \n370   216.81          14.16                 Open box   samsung   \n608   296.14           0.00  Excellent - Refurbished     apple   \n...      ...            ...                      ...       ...   \n2009   77.37           0.00                     Used   samsung   \n1180  193.80           7.74       Good - Refurbished     apple   \n1344  252.62           0.00                      New     apple   \n527    61.43          25.00                      New  motorola   \n1289  110.65          13.32                     Used   samsung   \n\n      Storage Capacity   Network  Camera Resolution  Screen Size        RAM  \\\n1995              32.0  Operator               12.0     5.100000   4.000000   \n825              128.0  Operator               32.0     6.800000  12.000000   \n3057              32.0  Operator               12.0     5.100000   4.000000   \n370              128.0  Unlocked               12.0     6.900000  12.000000   \n608               64.0  Operator               12.0     5.800000   3.000000   \n...                ...       ...                ...          ...        ...   \n2009             128.0  Unlocked               48.0     6.500000   6.000000   \n1180              64.0  Unlocked               12.0     4.700000   2.000000   \n1344              16.0  Operator               12.0     4.700000   2.000000   \n527               16.0  Operator                8.0     5.916407   2.000000   \n1289              32.0  Unlocked               12.0     5.916407   4.979015   \n\n     Operating System  ... Dual-Band  FM  Global Version  HDMI Micro  \\\n1995          Android  ...         0   0               0           0   \n825           Android  ...         0   0               0           0   \n3057          Android  ...         0   0               0           0   \n370           Android  ...         0   0               0           0   \n608               IOS  ...         0   0               0           0   \n...               ...  ...       ...  ..             ...         ...   \n2009            Other  ...         0   0               0           0   \n1180              IOS  ...         0   0               0           0   \n1344              IOS  ...         1   1               1           1   \n527           Android  ...         0   0               0           0   \n1289          Android  ...         0   0               0           0   \n\n      Headphone Jack  Infrared  Lightning  Quad-Band  Tri-Band  \\\n1995               0         0          0          0         0   \n825                0         0          0          0         0   \n3057               0         0          0          0         0   \n370                0         0          0          0         0   \n608                0         0          0          0         0   \n...              ...       ...        ...        ...       ...   \n2009               0         0          0          0         0   \n1180               0         0          1          0         0   \n1344               1         1          1          1         1   \n527                0         0          0          0         0   \n1289               0         0          0          0         0   \n\n      Wireless charging  \n1995                  0  \n825                   0  \n3057                  0  \n370                   0  \n608                   0  \n...                 ...  \n2009                  0  \n1180                  0  \n1344                  1  \n527                   0  \n1289                  0  \n\n[2156 rows x 26 columns]",
      "text/html": "<div>\n<style scoped>\n    .dataframe tbody tr th:only-of-type {\n        vertical-align: middle;\n    }\n\n    .dataframe tbody tr th {\n        vertical-align: top;\n    }\n\n    .dataframe thead th {\n        text-align: right;\n    }\n</style>\n<table border=\"1\" class=\"dataframe\">\n  <thead>\n    <tr style=\"text-align: right;\">\n      <th></th>\n      <th>Price</th>\n      <th>Shipping_cost</th>\n      <th>Condition</th>\n      <th>Brand</th>\n      <th>Storage Capacity</th>\n      <th>Network</th>\n      <th>Camera Resolution</th>\n      <th>Screen Size</th>\n      <th>RAM</th>\n      <th>Operating System</th>\n      <th>...</th>\n      <th>Dual-Band</th>\n      <th>FM</th>\n      <th>Global Version</th>\n      <th>HDMI Micro</th>\n      <th>Headphone Jack</th>\n      <th>Infrared</th>\n      <th>Lightning</th>\n      <th>Quad-Band</th>\n      <th>Tri-Band</th>\n      <th>Wireless charging</th>\n    </tr>\n  </thead>\n  <tbody>\n    <tr>\n      <th>1995</th>\n      <td>57.62</td>\n      <td>6.99</td>\n      <td>Used</td>\n      <td>samsung</td>\n      <td>32.0</td>\n      <td>Operator</td>\n      <td>12.0</td>\n      <td>5.100000</td>\n      <td>4.000000</td>\n      <td>Android</td>\n      <td>...</td>\n      <td>0</td>\n      <td>0</td>\n      <td>0</td>\n      <td>0</td>\n      <td>0</td>\n      <td>0</td>\n      <td>0</td>\n      <td>0</td>\n      <td>0</td>\n      <td>0</td>\n    </tr>\n    <tr>\n      <th>825</th>\n      <td>696.98</td>\n      <td>0.00</td>\n      <td>Excellent - Refurbished</td>\n      <td>samsung</td>\n      <td>128.0</td>\n      <td>Operator</td>\n      <td>32.0</td>\n      <td>6.800000</td>\n      <td>12.000000</td>\n      <td>Android</td>\n      <td>...</td>\n      <td>0</td>\n      <td>0</td>\n      <td>0</td>\n      <td>0</td>\n      <td>0</td>\n      <td>0</td>\n      <td>0</td>\n      <td>0</td>\n      <td>0</td>\n      <td>0</td>\n    </tr>\n    <tr>\n      <th>3057</th>\n      <td>58.09</td>\n      <td>4.67</td>\n      <td>Used</td>\n      <td>samsung</td>\n      <td>32.0</td>\n      <td>Operator</td>\n      <td>12.0</td>\n      <td>5.100000</td>\n      <td>4.000000</td>\n      <td>Android</td>\n      <td>...</td>\n      <td>0</td>\n      <td>0</td>\n      <td>0</td>\n      <td>0</td>\n      <td>0</td>\n      <td>0</td>\n      <td>0</td>\n      <td>0</td>\n      <td>0</td>\n      <td>0</td>\n    </tr>\n    <tr>\n      <th>370</th>\n      <td>216.81</td>\n      <td>14.16</td>\n      <td>Open box</td>\n      <td>samsung</td>\n      <td>128.0</td>\n      <td>Unlocked</td>\n      <td>12.0</td>\n      <td>6.900000</td>\n      <td>12.000000</td>\n      <td>Android</td>\n      <td>...</td>\n      <td>0</td>\n      <td>0</td>\n      <td>0</td>\n      <td>0</td>\n      <td>0</td>\n      <td>0</td>\n      <td>0</td>\n      <td>0</td>\n      <td>0</td>\n      <td>0</td>\n    </tr>\n    <tr>\n      <th>608</th>\n      <td>296.14</td>\n      <td>0.00</td>\n      <td>Excellent - Refurbished</td>\n      <td>apple</td>\n      <td>64.0</td>\n      <td>Operator</td>\n      <td>12.0</td>\n      <td>5.800000</td>\n      <td>3.000000</td>\n      <td>IOS</td>\n      <td>...</td>\n      <td>0</td>\n      <td>0</td>\n      <td>0</td>\n      <td>0</td>\n      <td>0</td>\n      <td>0</td>\n      <td>0</td>\n      <td>0</td>\n      <td>0</td>\n      <td>0</td>\n    </tr>\n    <tr>\n      <th>...</th>\n      <td>...</td>\n      <td>...</td>\n      <td>...</td>\n      <td>...</td>\n      <td>...</td>\n      <td>...</td>\n      <td>...</td>\n      <td>...</td>\n      <td>...</td>\n      <td>...</td>\n      <td>...</td>\n      <td>...</td>\n      <td>...</td>\n      <td>...</td>\n      <td>...</td>\n      <td>...</td>\n      <td>...</td>\n      <td>...</td>\n      <td>...</td>\n      <td>...</td>\n      <td>...</td>\n    </tr>\n    <tr>\n      <th>2009</th>\n      <td>77.37</td>\n      <td>0.00</td>\n      <td>Used</td>\n      <td>samsung</td>\n      <td>128.0</td>\n      <td>Unlocked</td>\n      <td>48.0</td>\n      <td>6.500000</td>\n      <td>6.000000</td>\n      <td>Other</td>\n      <td>...</td>\n      <td>0</td>\n      <td>0</td>\n      <td>0</td>\n      <td>0</td>\n      <td>0</td>\n      <td>0</td>\n      <td>0</td>\n      <td>0</td>\n      <td>0</td>\n      <td>0</td>\n    </tr>\n    <tr>\n      <th>1180</th>\n      <td>193.80</td>\n      <td>7.74</td>\n      <td>Good - Refurbished</td>\n      <td>apple</td>\n      <td>64.0</td>\n      <td>Unlocked</td>\n      <td>12.0</td>\n      <td>4.700000</td>\n      <td>2.000000</td>\n      <td>IOS</td>\n      <td>...</td>\n      <td>0</td>\n      <td>0</td>\n      <td>0</td>\n      <td>0</td>\n      <td>0</td>\n      <td>0</td>\n      <td>1</td>\n      <td>0</td>\n      <td>0</td>\n      <td>0</td>\n    </tr>\n    <tr>\n      <th>1344</th>\n      <td>252.62</td>\n      <td>0.00</td>\n      <td>New</td>\n      <td>apple</td>\n      <td>16.0</td>\n      <td>Operator</td>\n      <td>12.0</td>\n      <td>4.700000</td>\n      <td>2.000000</td>\n      <td>IOS</td>\n      <td>...</td>\n      <td>1</td>\n      <td>1</td>\n      <td>1</td>\n      <td>1</td>\n      <td>1</td>\n      <td>1</td>\n      <td>1</td>\n      <td>1</td>\n      <td>1</td>\n      <td>1</td>\n    </tr>\n    <tr>\n      <th>527</th>\n      <td>61.43</td>\n      <td>25.00</td>\n      <td>New</td>\n      <td>motorola</td>\n      <td>16.0</td>\n      <td>Operator</td>\n      <td>8.0</td>\n      <td>5.916407</td>\n      <td>2.000000</td>\n      <td>Android</td>\n      <td>...</td>\n      <td>0</td>\n      <td>0</td>\n      <td>0</td>\n      <td>0</td>\n      <td>0</td>\n      <td>0</td>\n      <td>0</td>\n      <td>0</td>\n      <td>0</td>\n      <td>0</td>\n    </tr>\n    <tr>\n      <th>1289</th>\n      <td>110.65</td>\n      <td>13.32</td>\n      <td>Used</td>\n      <td>samsung</td>\n      <td>32.0</td>\n      <td>Unlocked</td>\n      <td>12.0</td>\n      <td>5.916407</td>\n      <td>4.979015</td>\n      <td>Android</td>\n      <td>...</td>\n      <td>0</td>\n      <td>0</td>\n      <td>0</td>\n      <td>0</td>\n      <td>0</td>\n      <td>0</td>\n      <td>0</td>\n      <td>0</td>\n      <td>0</td>\n      <td>0</td>\n    </tr>\n  </tbody>\n</table>\n<p>2156 rows × 26 columns</p>\n</div>"
     },
     "execution_count": 137,
     "metadata": {},
     "output_type": "execute_result"
    }
   ],
   "source": [
    "X_train2"
   ],
   "metadata": {
    "collapsed": false,
    "pycharm": {
     "name": "#%%\n"
    }
   }
  },
  {
   "cell_type": "code",
   "execution_count": 138,
   "outputs": [
    {
     "data": {
      "text/plain": "1995     79.0\n825     196.0\n3057     45.0\n370     389.0\n608     247.0\n        ...  \n2009     81.0\n1180    119.0\n1344     98.0\n527     351.0\n1289    115.0\nName: Sales_Count, Length: 2156, dtype: float64"
     },
     "execution_count": 138,
     "metadata": {},
     "output_type": "execute_result"
    }
   ],
   "source": [
    "y_train2"
   ],
   "metadata": {
    "collapsed": false,
    "pycharm": {
     "name": "#%%\n"
    }
   }
  },
  {
   "cell_type": "code",
   "execution_count": 139,
   "outputs": [],
   "source": [
    "categorical2 = list(X_train2.dtypes[X_train2.dtypes == \"object\"].index)\n",
    "numeric2 = list(X_train2.dtypes[X_train2.dtypes == np.number].index)\n",
    "X_train2[categorical2] = X_train2[categorical2]\n",
    "X_test2[categorical2] = X_test2[categorical2]"
   ],
   "metadata": {
    "collapsed": false,
    "pycharm": {
     "name": "#%%\n"
    }
   }
  },
  {
   "cell_type": "code",
   "execution_count": 140,
   "outputs": [],
   "source": [
    "column_transformer2 = ColumnTransformer([\n",
    "    ('ohe', OneHotEncoder(handle_unknown=\"ignore\"), categorical2),\n",
    "    ('scaling', StandardScaler(), numeric2)\n",
    "])\n",
    "\n",
    "pipeline2 = Pipeline(steps=[\n",
    "    ('ohe_and_scaling', column_transformer2),\n",
    "    ('regression', LinearRegression())\n",
    "])"
   ],
   "metadata": {
    "collapsed": false,
    "pycharm": {
     "name": "#%%\n"
    }
   }
  },
  {
   "cell_type": "code",
   "execution_count": 141,
   "outputs": [
    {
     "name": "stdout",
     "output_type": "stream",
     "text": [
      "Test RMSE = 710.2118\n",
      "Test MAE = 285.2663\n"
     ]
    }
   ],
   "source": [
    "model2 = pipeline2.fit(X_train2, y_train2)\n",
    "y_pred2 = model2.predict(X_test2)\n",
    "print(\"Test RMSE = %.4f\" % mean_squared_error(y_test2, y_pred2, squared=False))\n",
    "print(\"Test MAE = %.4f\" % mean_absolute_error(y_test2, y_pred2))"
   ],
   "metadata": {
    "collapsed": false,
    "pycharm": {
     "name": "#%%\n"
    }
   }
  }
 ],
 "metadata": {
  "kernelspec": {
   "display_name": "Python 3",
   "language": "python",
   "name": "python3"
  },
  "language_info": {
   "codemirror_mode": {
    "name": "ipython",
    "version": 2
   },
   "file_extension": ".py",
   "mimetype": "text/x-python",
   "name": "python",
   "nbconvert_exporter": "python",
   "pygments_lexer": "ipython2",
   "version": "2.7.6"
  }
 },
 "nbformat": 4,
 "nbformat_minor": 0
}