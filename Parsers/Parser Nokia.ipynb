{
 "cells": [
  {
   "cell_type": "markdown",
   "source": [
    "# Парсер характеристик 2 линеек: одной - успешной, другой - провальной\n",
    "Цель тетради: собрать информацию по 2-м линейкам смартфонов:\n",
    "1. Redmi - популярная в России и за рубежом линейка смартфонов от крупного китайского производителя Xiaomi. Начал рост популярности с 2016 года. Сейчас имеет значительный успех на рынках различных стран.\n",
    "2. Nokia - популярный бренд смартфонов в 90-х, 2000-х. С 2016 года популярность Nokia начала значительно сокращаться. В настоящий момент предпринимались попытки реанимировать бренд, но они не увенчались успехом.\n",
    "\n",
    "В резульате должны получиться 2 дадафрейма:\n",
    "* Redmi - Датафрейм с характеристиками смартфоном Xiaomi Redmi\n",
    "* Nokia - Датафрейм с характеристиками смартфонов бренда Nokia"
   ],
   "metadata": {
    "collapsed": false
   }
  },
  {
   "cell_type": "markdown",
   "source": [
    "Данные надо откуда-то взять.\n",
    "\n",
    "За парсинг датасета из любого источника на ваш вкус вы получаете 20 баллов\n",
    "За сбор датасета из разных источников (несколько готовых датасетов, но собранных из разных источников и объединенные общей логикой) вы получаете 10 баллов\n",
    "За просто готовый датасет – 5 баллов\n",
    "Если вы взяли готовый датасет и обогатили его, спарсив что-то, вы получаете 20 баллов. Тут важно спарсить что-то полезное, обогащающее датасет. За парсинг book to scrape ради галочки, вы баллов не получите. Не забудьте вставить ссылки на всё, что используете в итоговый блокнот и подробно описать свои действия.\n",
    "\n",
    "Рекомендация к парсингу: Данное условие не является строгим и обязательным, а скорее рекомендация для вас. Если вы решили парсить данные, рекомендуем убедиться, что вы сможете собрать хотя бы 4-5 числовых признаков и несколько категориальных для вашей модели (если вы собираетесь что-то предсказывать). При этом также рекомендуем собрать хотя бы 1000 наблюдений для модели."
   ],
   "metadata": {
    "collapsed": false
   }
  },
  {
   "cell_type": "markdown",
   "source": [
    "Импортируем библиотеки."
   ],
   "metadata": {
    "collapsed": false
   }
  },
  {
   "cell_type": "code",
   "execution_count": 1,
   "outputs": [],
   "source": [
    "import pandas as pd\n",
    "import numpy as np\n",
    "import requests\n",
    "from bs4 import BeautifulSoup\n",
    "from random import randint\n",
    "from selenium import webdriver\n",
    "from selenium.webdriver.chrome.options import Options\n",
    "from selenium.webdriver.support.ui import WebDriverWait\n",
    "from selenium.webdriver.common.by import By\n",
    "import time\n",
    "from tqdm import tqdm\n",
    "import warnings\n",
    "warnings.filterwarnings('ignore', message='The frame.append method is deprecated and will be removed from pandas in a future version.')"
   ],
   "metadata": {
    "collapsed": false,
    "pycharm": {
     "name": "#%%\n"
    }
   }
  },
  {
   "cell_type": "markdown",
   "source": [
    "___"
   ],
   "metadata": {
    "collapsed": false
   }
  },
  {
   "cell_type": "markdown",
   "source": [
    "# Nokia"
   ],
   "metadata": {
    "collapsed": false
   }
  },
  {
   "cell_type": "markdown",
   "source": [
    "## Парсим первый датафрейм - Redmi Sales"
   ],
   "metadata": {
    "collapsed": false
   }
  },
  {
   "cell_type": "code",
   "execution_count": 3,
   "outputs": [
    {
     "name": "stderr",
     "output_type": "stream",
     "text": [
      "C:\\Users\\druny\\AppData\\Local\\Temp\\ipykernel_8404\\3108897971.py:3: DeprecationWarning: headless property is deprecated, instead use add_argument('--headless') or add_argument('--headless=new')\n",
      "  options.headless = True  # hide GUI\n",
      "C:\\Users\\druny\\AppData\\Local\\Temp\\ipykernel_8404\\3108897971.py:9: DeprecationWarning: use options instead of chrome_options\n",
      "  driver = webdriver.Chrome(options=options, chrome_options=chrome_options)\n"
     ]
    }
   ],
   "source": [
    "# настраиваем драйвер\n",
    "options = Options()\n",
    "options.headless = True  # hide GUI\n",
    "options.add_argument(\"--window-size=1920,1080\")  # set window size to native GUI size\n",
    "options.add_argument(\"start-maximized\")  # ensure window is full-screen\n",
    "\n",
    "# Настраиваем браузер, чтобы он не грузил Java и картинки\n",
    "chrome_options = webdriver.ChromeOptions()\n",
    "driver = webdriver.Chrome(options=options, chrome_options=chrome_options)\n",
    "\n",
    "# Делаем запрос\n",
    "driver.get(\"https://www.ebay.com/sh/research?marketplace=EBAY-US&keywords=Nokia&dayRange=730&endDate=1686678585480&startDate=1623606585480&categoryId=9355&offset=0&limit=50&sorting=-datelastsold&tabName=SOLD&tz=Europe%2FMoscow\")\n",
    "\n",
    "#Ждём загрузку\n",
    "time.sleep(5)"
   ],
   "metadata": {
    "collapsed": false,
    "pycharm": {
     "name": "#%%\n"
    }
   }
  },
  {
   "cell_type": "markdown",
   "source": [
    "Тут мы ручками авторизируемся и заходим"
   ],
   "metadata": {
    "collapsed": false
   }
  },
  {
   "cell_type": "markdown",
   "source": [
    "Парсим названия и числовые характеристики (Цены, продажи)"
   ],
   "metadata": {
    "collapsed": false
   }
  },
  {
   "cell_type": "code",
   "execution_count": 4,
   "outputs": [],
   "source": [
    "def table_parser(soup: BeautifulSoup):\n",
    "    page_data = pd.DataFrame()\n",
    "    for product in soup.find_all('tr', class_='research-table-row'):\n",
    "        title = product.find('span', attrs={'data-item-id': True}).text\n",
    "        price = product.find('td', class_='research-table-row__item research-table-row__avgSoldPrice').div.find_all('div')[0].text.strip()\n",
    "        shipping = product.find('td', class_='research-table-row__item research-table-row__avgShippingCost').div.find_all('div')[0].text.strip()\n",
    "        sales_count = product.find('td', class_='research-table-row__item research-table-row__totalSoldCount').div.find_all('div')[0].text.strip()\n",
    "        sales_value = product.find('td', class_='research-table-row__item research-table-row__totalSalesValue').div.find_all('div')[0].text.strip()\n",
    "        last_sale = product.find('td', class_='research-table-row__item research-table-row__dateLastSold').div.find_all('div')[0].text.strip()\n",
    "        try:\n",
    "            link = product.find('a', class_='research-table-row__link-row-anchor', attrs={'href': True})['href']\n",
    "        except:\n",
    "            link = None\n",
    "\n",
    "        data = {\"Title\": title, \"Price\": price, \"Shipping_cost\": shipping, \"Sales_Count\": sales_count, \"Sales_Value\": sales_value, \"Link\": link, \"Last_Sale\": last_sale}\n",
    "        page_data = page_data.append(data, ignore_index=True)\n",
    "    return page_data"
   ],
   "metadata": {
    "collapsed": false,
    "pycharm": {
     "name": "#%%\n"
    }
   }
  },
  {
   "cell_type": "code",
   "execution_count": 6,
   "outputs": [
    {
     "name": "stderr",
     "output_type": "stream",
     "text": [
      "100%|██████████| 100/100 [20:26<00:00, 12.26s/it]\n"
     ]
    }
   ],
   "source": [
    "df = pd.DataFrame()\n",
    "for _ in tqdm(range(100)): #Решено спарсить 100 страниц\n",
    "    driver.execute_script(\"window.scrollTo(0, document.body.scrollHeight);\")\n",
    "    html = driver.page_source\n",
    "    soup = BeautifulSoup(html, 'html.parser')\n",
    "    data = table_parser(soup)\n",
    "    df = pd.concat([df, data], ignore_index=True)\n",
    "    next_button = driver.find_element(By.XPATH, '//button[@class=\"pagination__next\"]')\n",
    "    next_button.click()\n",
    "    time.sleep(randint(5, 15))\n",
    "    pass"
   ],
   "metadata": {
    "collapsed": false,
    "pycharm": {
     "name": "#%%\n"
    }
   }
  },
  {
   "cell_type": "code",
   "execution_count": 7,
   "outputs": [
    {
     "data": {
      "text/plain": "                                               Title    Price Shipping_cost  \\\n0  Nokia 3.1 C (TA1141) 32GB (Cricket) Smartphone...   $31.59         $5.00   \n1  Nokia 6 Dual SIM 5.5\" 4GB RAM 16MP Wi-Fi GPS B...  $103.50         $0.00   \n2  NEW Nokia 8 V 5G UW TA1257 Verizon Unlocked LT...  $161.24         $0.00   \n3  Original Nokia N8 N8-00 3G WIFI GPS 12MP Touch...   $42.95         $5.50   \n4  Nokia G50 5G | Android 11| Unlocked Smartphone...   $87.00         $8.22   \n\n  Sales_Count Sales_Value                                               Link  \\\n0          34   $1,074.14  https://www.ebay.com/itm/275016352540?nordt=tr...   \n1           4     $414.00  https://www.ebay.com/itm/203145222261?nordt=tr...   \n2           8   $1,289.92  https://www.ebay.com/itm/295688872962?nordt=tr...   \n3          26   $1,116.79  https://www.ebay.com/itm/164928279178?nordt=tr...   \n4           1      $87.00  https://www.ebay.com/itm/145123725321?nordt=tr...   \n\n      Last_Sale  \n0  Jun 13, 2023  \n1  Jun 13, 2023  \n2  Jun 13, 2023  \n3  Jun 13, 2023  \n4  Jun 13, 2023  ",
      "text/html": "<div>\n<style scoped>\n    .dataframe tbody tr th:only-of-type {\n        vertical-align: middle;\n    }\n\n    .dataframe tbody tr th {\n        vertical-align: top;\n    }\n\n    .dataframe thead th {\n        text-align: right;\n    }\n</style>\n<table border=\"1\" class=\"dataframe\">\n  <thead>\n    <tr style=\"text-align: right;\">\n      <th></th>\n      <th>Title</th>\n      <th>Price</th>\n      <th>Shipping_cost</th>\n      <th>Sales_Count</th>\n      <th>Sales_Value</th>\n      <th>Link</th>\n      <th>Last_Sale</th>\n    </tr>\n  </thead>\n  <tbody>\n    <tr>\n      <th>0</th>\n      <td>Nokia 3.1 C (TA1141) 32GB (Cricket) Smartphone...</td>\n      <td>$31.59</td>\n      <td>$5.00</td>\n      <td>34</td>\n      <td>$1,074.14</td>\n      <td>https://www.ebay.com/itm/275016352540?nordt=tr...</td>\n      <td>Jun 13, 2023</td>\n    </tr>\n    <tr>\n      <th>1</th>\n      <td>Nokia 6 Dual SIM 5.5\" 4GB RAM 16MP Wi-Fi GPS B...</td>\n      <td>$103.50</td>\n      <td>$0.00</td>\n      <td>4</td>\n      <td>$414.00</td>\n      <td>https://www.ebay.com/itm/203145222261?nordt=tr...</td>\n      <td>Jun 13, 2023</td>\n    </tr>\n    <tr>\n      <th>2</th>\n      <td>NEW Nokia 8 V 5G UW TA1257 Verizon Unlocked LT...</td>\n      <td>$161.24</td>\n      <td>$0.00</td>\n      <td>8</td>\n      <td>$1,289.92</td>\n      <td>https://www.ebay.com/itm/295688872962?nordt=tr...</td>\n      <td>Jun 13, 2023</td>\n    </tr>\n    <tr>\n      <th>3</th>\n      <td>Original Nokia N8 N8-00 3G WIFI GPS 12MP Touch...</td>\n      <td>$42.95</td>\n      <td>$5.50</td>\n      <td>26</td>\n      <td>$1,116.79</td>\n      <td>https://www.ebay.com/itm/164928279178?nordt=tr...</td>\n      <td>Jun 13, 2023</td>\n    </tr>\n    <tr>\n      <th>4</th>\n      <td>Nokia G50 5G | Android 11| Unlocked Smartphone...</td>\n      <td>$87.00</td>\n      <td>$8.22</td>\n      <td>1</td>\n      <td>$87.00</td>\n      <td>https://www.ebay.com/itm/145123725321?nordt=tr...</td>\n      <td>Jun 13, 2023</td>\n    </tr>\n  </tbody>\n</table>\n</div>"
     },
     "execution_count": 7,
     "metadata": {},
     "output_type": "execute_result"
    }
   ],
   "source": [
    "df.head()"
   ],
   "metadata": {
    "collapsed": false,
    "pycharm": {
     "name": "#%%\n"
    }
   }
  },
  {
   "cell_type": "code",
   "execution_count": 9,
   "outputs": [],
   "source": [
    "df.to_csv(\"Nokia Sales.tsv\", sep='\\t', index=False)"
   ],
   "metadata": {
    "collapsed": false,
    "pycharm": {
     "name": "#%%\n"
    }
   }
  },
  {
   "cell_type": "markdown",
   "source": [
    "___"
   ],
   "metadata": {
    "collapsed": false
   }
  },
  {
   "cell_type": "markdown",
   "source": [
    "## Парсим характеристики моделей"
   ],
   "metadata": {
    "collapsed": false
   }
  },
  {
   "cell_type": "code",
   "execution_count": 10,
   "outputs": [],
   "source": [
    "df=pd.read_csv(\"Nokia Sales.tsv\", delimiter = \"\\t\")"
   ],
   "metadata": {
    "collapsed": false,
    "pycharm": {
     "name": "#%%\n"
    }
   }
  },
  {
   "cell_type": "code",
   "execution_count": 11,
   "outputs": [
    {
     "data": {
      "text/plain": "['https://www.ebay.com/itm/275016352540?nordt=true&orig_cvip=true&rt=nc',\n 'https://www.ebay.com/itm/203145222261?nordt=true&orig_cvip=true&rt=nc',\n 'https://www.ebay.com/itm/295688872962?nordt=true&orig_cvip=true&rt=nc',\n 'https://www.ebay.com/itm/164928279178?nordt=true&orig_cvip=true&rt=nc',\n 'https://www.ebay.com/itm/145123725321?nordt=true&orig_cvip=true&rt=nc',\n 'https://www.ebay.com/itm/166168230447?nordt=true&orig_cvip=true&rt=nc',\n 'https://www.ebay.com/itm/403640590392?nordt=true&orig_cvip=true&rt=nc',\n 'https://www.ebay.com/itm/404078507679?nordt=true&orig_cvip=true&rt=nc',\n 'https://www.ebay.com/itm/204363476374?nordt=true&orig_cvip=true&rt=nc',\n 'https://www.ebay.com/itm/225615294208?nordt=true&orig_cvip=true&rt=nc']"
     },
     "execution_count": 11,
     "metadata": {},
     "output_type": "execute_result"
    }
   ],
   "source": [
    "Links = df.Link.tolist()\n",
    "Links[0:10]"
   ],
   "metadata": {
    "collapsed": false,
    "pycharm": {
     "name": "#%%\n"
    }
   }
  },
  {
   "cell_type": "code",
   "execution_count": 12,
   "outputs": [
    {
     "data": {
      "text/plain": "False"
     },
     "execution_count": 12,
     "metadata": {},
     "output_type": "execute_result"
    }
   ],
   "source": [
    "while np.nan in Links:\n",
    "    Links.remove(np.nan)\n",
    "None in Links"
   ],
   "metadata": {
    "collapsed": false,
    "pycharm": {
     "name": "#%%\n"
    }
   }
  },
  {
   "cell_type": "code",
   "execution_count": 13,
   "outputs": [
    {
     "data": {
      "text/plain": "4747"
     },
     "execution_count": 13,
     "metadata": {},
     "output_type": "execute_result"
    }
   ],
   "source": [
    "len(Links)"
   ],
   "metadata": {
    "collapsed": false,
    "pycharm": {
     "name": "#%%\n"
    }
   }
  },
  {
   "cell_type": "code",
   "execution_count": 14,
   "outputs": [
    {
     "name": "stderr",
     "output_type": "stream",
     "text": [
      " 44%|████▍     | 2085/4747 [2:48:30<2:48:12,  3.79s/it]"
     ]
    },
    {
     "name": "stdout",
     "output_type": "stream",
     "text": [
      "Нащальника, не получилось: https://www.ebay.com/itm/225557179140?nordt=true&orig_cvip=true&rt=nc\n"
     ]
    },
    {
     "name": "stderr",
     "output_type": "stream",
     "text": [
      " 48%|████▊     | 2255/4747 [3:02:32<4:08:46,  5.99s/it]"
     ]
    },
    {
     "name": "stdout",
     "output_type": "stream",
     "text": [
      "Нащальника, не получилось: https://www.ebay.com/itm/373866317508?nordt=true&orig_cvip=true&rt=nc\n"
     ]
    },
    {
     "name": "stderr",
     "output_type": "stream",
     "text": [
      " 59%|█████▉    | 2815/4747 [3:46:50<2:03:24,  3.83s/it]"
     ]
    },
    {
     "name": "stdout",
     "output_type": "stream",
     "text": [
      "Нащальника, не получилось: https://www.ebay.com/itm/125885252205?nordt=true&orig_cvip=true&rt=nc\n"
     ]
    },
    {
     "name": "stderr",
     "output_type": "stream",
     "text": [
      " 65%|██████▍   | 3070/4747 [4:06:38<1:49:14,  3.91s/it]"
     ]
    },
    {
     "name": "stdout",
     "output_type": "stream",
     "text": [
      "Нащальника, не получилось: https://www.ebay.com/itm/354699296468?nordt=true&orig_cvip=true&rt=nc\n"
     ]
    },
    {
     "name": "stderr",
     "output_type": "stream",
     "text": [
      " 69%|██████▉   | 3286/4747 [4:23:26<1:38:41,  4.05s/it]"
     ]
    },
    {
     "name": "stdout",
     "output_type": "stream",
     "text": [
      "Нащальника, не получилось: https://www.ebay.com/itm/115767991719?nordt=true&orig_cvip=true&rt=nc\n"
     ]
    },
    {
     "name": "stderr",
     "output_type": "stream",
     "text": [
      " 74%|███████▍  | 3533/4747 [4:43:25<2:31:20,  7.48s/it]"
     ]
    },
    {
     "name": "stdout",
     "output_type": "stream",
     "text": [
      "Нащальника, не получилось: https://www.ebay.com/itm/404230257652?nordt=true&orig_cvip=true&rt=nc\n"
     ]
    },
    {
     "name": "stderr",
     "output_type": "stream",
     "text": [
      " 75%|███████▌  | 3581/4747 [4:47:08<1:23:08,  4.28s/it]"
     ]
    },
    {
     "name": "stdout",
     "output_type": "stream",
     "text": [
      "Нащальника, не получилось: https://www.ebay.com/itm/354689962229?nordt=true&orig_cvip=true&rt=nc\n"
     ]
    },
    {
     "name": "stderr",
     "output_type": "stream",
     "text": [
      " 76%|███████▋  | 3622/4747 [4:50:21<1:10:37,  3.77s/it]"
     ]
    },
    {
     "name": "stdout",
     "output_type": "stream",
     "text": [
      "Нащальника, не получилось: https://www.ebay.com/itm/354670803384?nordt=true&orig_cvip=true&rt=nc\n"
     ]
    },
    {
     "name": "stderr",
     "output_type": "stream",
     "text": [
      " 83%|████████▎ | 3945/4747 [5:15:44<47:31,  3.55s/it]  "
     ]
    },
    {
     "name": "stdout",
     "output_type": "stream",
     "text": [
      "Нащальника, не получилось: https://www.ebay.com/itm/165979167563?nordt=true&orig_cvip=true&rt=nc\n"
     ]
    },
    {
     "name": "stderr",
     "output_type": "stream",
     "text": [
      " 84%|████████▍ | 4004/4747 [5:20:12<46:55,  3.79s/it]  "
     ]
    },
    {
     "name": "stdout",
     "output_type": "stream",
     "text": [
      "Нащальника, не получилось: https://www.ebay.com/itm/364195553215?nordt=true&orig_cvip=true&rt=nc\n"
     ]
    },
    {
     "name": "stderr",
     "output_type": "stream",
     "text": [
      " 86%|████████▌ | 4071/4747 [5:25:55<1:51:29,  9.90s/it]"
     ]
    },
    {
     "name": "stdout",
     "output_type": "stream",
     "text": [
      "Нащальника, не получилось: https://www.ebay.com/itm/195677318589?nordt=true&orig_cvip=true&rt=nc\n"
     ]
    },
    {
     "name": "stderr",
     "output_type": "stream",
     "text": [
      " 90%|████████▉ | 4271/4747 [5:42:06<1:10:37,  8.90s/it]"
     ]
    },
    {
     "name": "stdout",
     "output_type": "stream",
     "text": [
      "Нащальника, не получилось: https://www.ebay.com/itm/334797699963?nordt=true&orig_cvip=true&rt=nc\n"
     ]
    },
    {
     "name": "stderr",
     "output_type": "stream",
     "text": [
      " 90%|█████████ | 4286/4747 [5:43:11<28:09,  3.66s/it]  "
     ]
    },
    {
     "name": "stdout",
     "output_type": "stream",
     "text": [
      "Нащальника, не получилось: https://www.ebay.com/itm/155402670641?nordt=true&orig_cvip=true&rt=nc\n"
     ]
    },
    {
     "name": "stderr",
     "output_type": "stream",
     "text": [
      " 94%|█████████▎| 4446/4747 [5:56:39<35:44,  7.12s/it]"
     ]
    },
    {
     "name": "stdout",
     "output_type": "stream",
     "text": [
      "Нащальника, не получилось: https://www.ebay.com/itm/115736185263?nordt=true&orig_cvip=true&rt=nc\n"
     ]
    },
    {
     "name": "stderr",
     "output_type": "stream",
     "text": [
      " 94%|█████████▍| 4474/4747 [5:58:58<34:21,  7.55s/it]"
     ]
    },
    {
     "name": "stdout",
     "output_type": "stream",
     "text": [
      "Нащальника, не получилось: https://www.ebay.com/itm/275742020887?nordt=true&orig_cvip=true&rt=nc\n"
     ]
    },
    {
     "name": "stderr",
     "output_type": "stream",
     "text": [
      " 94%|█████████▍| 4475/4747 [5:59:12<42:02,  9.27s/it]"
     ]
    },
    {
     "name": "stdout",
     "output_type": "stream",
     "text": [
      "Нащальника, не получилось: https://www.ebay.com/itm/115731860469?nordt=true&orig_cvip=true&rt=nc\n"
     ]
    },
    {
     "name": "stderr",
     "output_type": "stream",
     "text": [
      " 95%|█████████▍| 4493/4747 [6:00:32<14:30,  3.43s/it]"
     ]
    },
    {
     "name": "stdout",
     "output_type": "stream",
     "text": [
      "Нащальника, не получилось: https://www.ebay.com/itm/354661094269?nordt=true&orig_cvip=true&rt=nc\n"
     ]
    },
    {
     "name": "stderr",
     "output_type": "stream",
     "text": [
      " 95%|█████████▍| 4494/4747 [6:00:33<11:57,  2.83s/it]"
     ]
    },
    {
     "name": "stdout",
     "output_type": "stream",
     "text": [
      "Нащальника, не получилось: https://www.ebay.com/itm/354650172585?nordt=true&orig_cvip=true&rt=nc\n"
     ]
    },
    {
     "name": "stderr",
     "output_type": "stream",
     "text": [
      " 97%|█████████▋| 4606/4747 [6:09:14<16:32,  7.04s/it]"
     ]
    },
    {
     "name": "stdout",
     "output_type": "stream",
     "text": [
      "Нащальника, не получилось: https://www.ebay.com/itm/115732087182?nordt=true&orig_cvip=true&rt=nc\n"
     ]
    },
    {
     "name": "stderr",
     "output_type": "stream",
     "text": [
      "100%|██████████| 4747/4747 [6:20:39<00:00,  4.81s/it]\n"
     ]
    }
   ],
   "source": [
    "import time\n",
    "import random\n",
    "\n",
    "characteristics_df = pd.DataFrame()\n",
    "undone = []\n",
    "\n",
    "# Задержка перед каждым запросом\n",
    "def delay():\n",
    "    time.sleep(random.uniform(1, 5))  # Измените значения задержки по своему усмотрению\n",
    "\n",
    "def req_parser(url):\n",
    "    global characteristics_df, undone\n",
    "\n",
    "    try:\n",
    "        # Отправляем GET-запрос и получаем ответ\n",
    "        response = requests.get(url)\n",
    "\n",
    "        # Получаем HTML-код страницы\n",
    "        html = response.text\n",
    "\n",
    "        # Создаем объект BeautifulSoup\n",
    "        soup = BeautifulSoup(html, 'html.parser')\n",
    "\n",
    "        # Находим родительский элемент\n",
    "        parent_element = soup.find('div', class_='ux-layout-section--features')\n",
    "\n",
    "        # Initialize an empty dictionary to store the characteristics\n",
    "        characteristics = {\"Link\": url}\n",
    "        done = []\n",
    "\n",
    "        # Find all the characteristic rows\n",
    "        rows = parent_element.find_all('div', class_='ux-layout-section-evo__row')\n",
    "\n",
    "        # Iterate over each row and extract the characteristic name and value\n",
    "        for row in rows:\n",
    "            name_element = row.find_all('div', class_='ux-labels-values__labels')\n",
    "            value_element = row.find_all('div', class_='ux-labels-values__values-content')\n",
    "\n",
    "            for name, value in zip(name_element, value_element):\n",
    "                if name and value:\n",
    "                    name_text = name.get_text(strip=True)\n",
    "                    value_text = value.get_text(strip=True)\n",
    "                    if name_text not in done and value_text not in done:\n",
    "                        characteristics[name_text] = value_text\n",
    "                        done.append(name_text)\n",
    "                        done.append(value_text)\n",
    "\n",
    "        characteristics_df = characteristics_df.append(characteristics, ignore_index=True)\n",
    "\n",
    "        # Задержка перед следующим запросом\n",
    "        delay()\n",
    "\n",
    "    except:\n",
    "        print(\"Нащальника, не получилось:\", url)\n",
    "        undone.append(url)\n",
    "\n",
    "\n",
    "for url in tqdm(Links):\n",
    "    req_parser(url)\n",
    "\n",
    "characteristics_df.to_csv(\"Nokia Characteristics.tsv\", sep='\\t', index=False)"
   ],
   "metadata": {
    "collapsed": false,
    "pycharm": {
     "name": "#%%\n"
    }
   }
  },
  {
   "cell_type": "code",
   "execution_count": 16,
   "outputs": [],
   "source": [
    "characteristics_df.to_csv(\"Nokia Characteristics.tsv\", sep='\\t', index=False)"
   ],
   "metadata": {
    "collapsed": false,
    "pycharm": {
     "name": "#%%\n"
    }
   }
  },
  {
   "cell_type": "code",
   "execution_count": null,
   "outputs": [],
   "source": [],
   "metadata": {
    "collapsed": false,
    "pycharm": {
     "name": "#%%\n"
    }
   }
  }
 ],
 "metadata": {
  "kernelspec": {
   "display_name": "Python 3",
   "language": "python",
   "name": "python3"
  },
  "language_info": {
   "codemirror_mode": {
    "name": "ipython",
    "version": 2
   },
   "file_extension": ".py",
   "mimetype": "text/x-python",
   "name": "python",
   "nbconvert_exporter": "python",
   "pygments_lexer": "ipython2",
   "version": "2.7.6"
  }
 },
 "nbformat": 4,
 "nbformat_minor": 0
}