{
 "cells": [
  {
   "cell_type": "markdown",
   "source": [
    "# Парсер характеристик 2 линеек: одной - успешной, другой - провальной\n",
    "Цель тетради: собрать информацию по 2-м линейкам смартфонов:\n",
    "1. Redmi - популярная в России и за рубежом линейка смартфонов от крупного китайского производителя Xiaomi. Начал рост популярности с 2016 года. Сейчас имеет значительный успех на рынках различных стран.\n",
    "2. Nokia - популярный бренд смартфонов в 90-х, 2000-х. С 2016 года популярность Nokia начала значительно сокращаться. В настоящий момент предпринимались попытки реанимировать бренд, но они не увенчались успехом.\n",
    "\n",
    "В резульате должны получиться 2 дадафрейма:\n",
    "* Redmi - Датафрейм с характеристиками смартфоном Xiaomi Redmi\n",
    "* Nokia - Датафрейм с характеристиками смартфонов бренда Nokia"
   ],
   "metadata": {
    "collapsed": false
   }
  },
  {
   "cell_type": "markdown",
   "source": [
    "Данные надо откуда-то взять.\n",
    "\n",
    "За парсинг датасета из любого источника на ваш вкус вы получаете 20 баллов\n",
    "За сбор датасета из разных источников (несколько готовых датасетов, но собранных из разных источников и объединенные общей логикой) вы получаете 10 баллов\n",
    "За просто готовый датасет – 5 баллов\n",
    "Если вы взяли готовый датасет и обогатили его, спарсив что-то, вы получаете 20 баллов. Тут важно спарсить что-то полезное, обогащающее датасет. За парсинг book to scrape ради галочки, вы баллов не получите. Не забудьте вставить ссылки на всё, что используете в итоговый блокнот и подробно описать свои действия.\n",
    "\n",
    "Рекомендация к парсингу: Данное условие не является строгим и обязательным, а скорее рекомендация для вас. Если вы решили парсить данные, рекомендуем убедиться, что вы сможете собрать хотя бы 4-5 числовых признаков и несколько категориальных для вашей модели (если вы собираетесь что-то предсказывать). При этом также рекомендуем собрать хотя бы 1000 наблюдений для модели."
   ],
   "metadata": {
    "collapsed": false
   }
  },
  {
   "cell_type": "markdown",
   "source": [
    "Импортируем библиотеки."
   ],
   "metadata": {
    "collapsed": false
   }
  },
  {
   "cell_type": "code",
   "execution_count": 1,
   "outputs": [],
   "source": [
    "import pandas as pd\n",
    "import numpy as np\n",
    "import requests\n",
    "from bs4 import BeautifulSoup\n",
    "from random import randint\n",
    "from selenium import webdriver\n",
    "from selenium.webdriver.chrome.options import Options\n",
    "from selenium.webdriver.support.ui import WebDriverWait\n",
    "from selenium.webdriver.common.by import By\n",
    "import time\n",
    "from tqdm import tqdm\n",
    "import warnings\n",
    "warnings.filterwarnings('ignore', message='The frame.append method is deprecated and will be removed from pandas in a future version.')"
   ],
   "metadata": {
    "collapsed": false,
    "pycharm": {
     "name": "#%%\n"
    }
   }
  },
  {
   "cell_type": "markdown",
   "source": [
    "___"
   ],
   "metadata": {
    "collapsed": false
   }
  },
  {
   "cell_type": "markdown",
   "source": [
    "# Redmi"
   ],
   "metadata": {
    "collapsed": false
   }
  },
  {
   "cell_type": "markdown",
   "source": [
    "## Парсим первый датафрейм - Redmi Sales"
   ],
   "metadata": {
    "collapsed": false
   }
  },
  {
   "cell_type": "code",
   "execution_count": 10,
   "outputs": [
    {
     "name": "stderr",
     "output_type": "stream",
     "text": [
      "C:\\Users\\druny\\AppData\\Local\\Temp\\ipykernel_24992\\1312355097.py:3: DeprecationWarning: headless property is deprecated, instead use add_argument('--headless') or add_argument('--headless=new')\n",
      "  options.headless = True  # hide GUI\n",
      "C:\\Users\\druny\\AppData\\Local\\Temp\\ipykernel_24992\\1312355097.py:9: DeprecationWarning: use options instead of chrome_options\n",
      "  driver = webdriver.Chrome(options=options, chrome_options=chrome_options)\n"
     ]
    }
   ],
   "source": [
    "# настраиваем драйвер\n",
    "options = Options()\n",
    "options.headless = True  # hide GUI\n",
    "options.add_argument(\"--window-size=1920,1080\")  # set window size to native GUI size\n",
    "options.add_argument(\"start-maximized\")  # ensure window is full-screen\n",
    "\n",
    "# Настраиваем браузер, чтобы он не грузил Java и картинки\n",
    "chrome_options = webdriver.ChromeOptions()\n",
    "driver = webdriver.Chrome(options=options, chrome_options=chrome_options)\n",
    "\n",
    "# Делаем запрос\n",
    "driver.get(\"https://www.ebay.com/sh/research?marketplace=EBAY-US&keywords=Redmi&dayRange=730&endDate=1684047600000&startDate=1620975600000&categoryId=9355&offset=0&limit=50&tabName=SOLD&tz=Europe%2FMoscow\")\n",
    "\n",
    "#Ждём загрузку\n",
    "time.sleep(5)"
   ],
   "metadata": {
    "collapsed": false,
    "pycharm": {
     "name": "#%%\n"
    }
   }
  },
  {
   "cell_type": "markdown",
   "source": [
    "Тут мы ручками авторизируемся и заходим"
   ],
   "metadata": {
    "collapsed": false
   }
  },
  {
   "cell_type": "markdown",
   "source": [
    "Парсим названия и числовые характеристики (Цены, продажи)"
   ],
   "metadata": {
    "collapsed": false
   }
  },
  {
   "cell_type": "code",
   "execution_count": 17,
   "outputs": [],
   "source": [
    "def table_parser(soup: BeautifulSoup):\n",
    "    page_data = pd.DataFrame()\n",
    "    for product in soup.find_all('tr', class_='research-table-row'):\n",
    "        title = product.find('span', attrs={'data-item-id': True}).text\n",
    "        price = product.find('td', class_='research-table-row__item research-table-row__avgSoldPrice').div.find_all('div')[0].text.strip()\n",
    "        shipping = product.find('td', class_='research-table-row__item research-table-row__avgShippingCost').div.find_all('div')[0].text.strip()\n",
    "        sales_count = product.find('td', class_='research-table-row__item research-table-row__totalSoldCount').div.find_all('div')[0].text.strip()\n",
    "        sales_value = product.find('td', class_='research-table-row__item research-table-row__totalSalesValue').div.find_all('div')[0].text.strip()\n",
    "        last_sale = product.find('td', class_='research-table-row__item research-table-row__dateLastSold').div.find_all('div')[0].text.strip()\n",
    "        try:\n",
    "            link = product.find('a', class_='research-table-row__link-row-anchor', attrs={'href': True})['href']\n",
    "        except:\n",
    "            link = None\n",
    "\n",
    "        data = {\"Title\": title, \"Price\": price, \"Shipping_cost\": shipping, \"Sales_Count\": sales_count, \"Sales_Value\": sales_value, \"Link\": link, \"Last_Sale\": last_sale}\n",
    "        page_data = page_data.append(data, ignore_index=True)\n",
    "    return page_data"
   ],
   "metadata": {
    "collapsed": false,
    "pycharm": {
     "name": "#%%\n"
    }
   }
  },
  {
   "cell_type": "code",
   "execution_count": 18,
   "outputs": [
    {
     "name": "stderr",
     "output_type": "stream",
     "text": [
      "100%|██████████| 100/100 [19:36<00:00, 11.76s/it]\n"
     ]
    }
   ],
   "source": [
    "df = pd.DataFrame()\n",
    "for _ in tqdm(range(100)): #Решено спарсить 100 страниц\n",
    "    driver.execute_script(\"window.scrollTo(0, document.body.scrollHeight);\")\n",
    "    html = driver.page_source\n",
    "    soup = BeautifulSoup(html, 'html.parser')\n",
    "    data = table_parser(soup)\n",
    "    df = pd.concat([df, data], ignore_index=True)\n",
    "    next_button = driver.find_element(By.XPATH, '//button[@class=\"pagination__next\"]')\n",
    "    next_button.click()\n",
    "    time.sleep(randint(5, 15))\n",
    "    pass"
   ],
   "metadata": {
    "collapsed": false,
    "pycharm": {
     "name": "#%%\n"
    }
   }
  },
  {
   "cell_type": "code",
   "execution_count": 20,
   "outputs": [
    {
     "data": {
      "text/plain": "                                               Title    Price Shipping_cost  \\\n0  Wall Outlet To Triple USB Power Adapter - Wall...    $9.99        $12.91   \n1  Xiaomi Redmi Note 11 128GB 4GB RAM GSM Unlocke...  $187.39         $7.10   \n2  Xiaomi Redmi Note 10 Pro 128GB 6GB RAM GSM FAC...  $282.12        $12.05   \n3  Xiaomi Redmi Note 11 Pro+ 5G Plus 256GB 8GB RA...  $395.19        $12.25   \n4  Xiaomi Redmi Note 10 *5G* 128GB 4GB RAM GSM Un...  $195.45         $8.60   \n\n  Sales_Count  Sales_Value                                               Link  \\\n0         940    $9,388.60  https://www.ebay.com/itm/363346871915?nordt=tr...   \n1         772  $144,668.87  https://www.ebay.com/itm/325013923406?nordt=tr...   \n2         455  $128,364.84  https://www.ebay.com/itm/324648557855?nordt=tr...   \n3         408  $161,235.53  https://www.ebay.com/itm/203898287868?nordt=tr...   \n4         428   $83,654.10  https://www.ebay.com/itm/324618206904?nordt=tr...   \n\n      Last_Sale  \n0  May 11, 2023  \n1  May 14, 2023  \n2   May 5, 2023  \n3  May 10, 2023  \n4  Jan 18, 2023  ",
      "text/html": "<div>\n<style scoped>\n    .dataframe tbody tr th:only-of-type {\n        vertical-align: middle;\n    }\n\n    .dataframe tbody tr th {\n        vertical-align: top;\n    }\n\n    .dataframe thead th {\n        text-align: right;\n    }\n</style>\n<table border=\"1\" class=\"dataframe\">\n  <thead>\n    <tr style=\"text-align: right;\">\n      <th></th>\n      <th>Title</th>\n      <th>Price</th>\n      <th>Shipping_cost</th>\n      <th>Sales_Count</th>\n      <th>Sales_Value</th>\n      <th>Link</th>\n      <th>Last_Sale</th>\n    </tr>\n  </thead>\n  <tbody>\n    <tr>\n      <th>0</th>\n      <td>Wall Outlet To Triple USB Power Adapter - Wall...</td>\n      <td>$9.99</td>\n      <td>$12.91</td>\n      <td>940</td>\n      <td>$9,388.60</td>\n      <td>https://www.ebay.com/itm/363346871915?nordt=tr...</td>\n      <td>May 11, 2023</td>\n    </tr>\n    <tr>\n      <th>1</th>\n      <td>Xiaomi Redmi Note 11 128GB 4GB RAM GSM Unlocke...</td>\n      <td>$187.39</td>\n      <td>$7.10</td>\n      <td>772</td>\n      <td>$144,668.87</td>\n      <td>https://www.ebay.com/itm/325013923406?nordt=tr...</td>\n      <td>May 14, 2023</td>\n    </tr>\n    <tr>\n      <th>2</th>\n      <td>Xiaomi Redmi Note 10 Pro 128GB 6GB RAM GSM FAC...</td>\n      <td>$282.12</td>\n      <td>$12.05</td>\n      <td>455</td>\n      <td>$128,364.84</td>\n      <td>https://www.ebay.com/itm/324648557855?nordt=tr...</td>\n      <td>May 5, 2023</td>\n    </tr>\n    <tr>\n      <th>3</th>\n      <td>Xiaomi Redmi Note 11 Pro+ 5G Plus 256GB 8GB RA...</td>\n      <td>$395.19</td>\n      <td>$12.25</td>\n      <td>408</td>\n      <td>$161,235.53</td>\n      <td>https://www.ebay.com/itm/203898287868?nordt=tr...</td>\n      <td>May 10, 2023</td>\n    </tr>\n    <tr>\n      <th>4</th>\n      <td>Xiaomi Redmi Note 10 *5G* 128GB 4GB RAM GSM Un...</td>\n      <td>$195.45</td>\n      <td>$8.60</td>\n      <td>428</td>\n      <td>$83,654.10</td>\n      <td>https://www.ebay.com/itm/324618206904?nordt=tr...</td>\n      <td>Jan 18, 2023</td>\n    </tr>\n  </tbody>\n</table>\n</div>"
     },
     "execution_count": 20,
     "metadata": {},
     "output_type": "execute_result"
    }
   ],
   "source": [
    "df.head()"
   ],
   "metadata": {
    "collapsed": false,
    "pycharm": {
     "name": "#%%\n"
    }
   }
  },
  {
   "cell_type": "code",
   "execution_count": 21,
   "outputs": [],
   "source": [
    "df.to_csv(\"Redmi Sales.tsv\", sep='\\t', index=False)"
   ],
   "metadata": {
    "collapsed": false,
    "pycharm": {
     "name": "#%%\n"
    }
   }
  },
  {
   "cell_type": "markdown",
   "source": [
    "___"
   ],
   "metadata": {
    "collapsed": false
   }
  },
  {
   "cell_type": "markdown",
   "source": [
    "## Парсим характеристики моделей"
   ],
   "metadata": {
    "collapsed": false
   }
  },
  {
   "cell_type": "code",
   "execution_count": 2,
   "outputs": [],
   "source": [
    "df=pd.read_csv(\"Redmi Sales.tsv\", delimiter = \"\\t\")"
   ],
   "metadata": {
    "collapsed": false,
    "pycharm": {
     "name": "#%%\n"
    }
   }
  },
  {
   "cell_type": "code",
   "execution_count": 3,
   "outputs": [
    {
     "data": {
      "text/plain": "['https://www.ebay.com/itm/363346871915?nordt=true&orig_cvip=true&rt=nc',\n 'https://www.ebay.com/itm/325013923406?nordt=true&orig_cvip=true&rt=nc',\n 'https://www.ebay.com/itm/324648557855?nordt=true&orig_cvip=true&rt=nc',\n 'https://www.ebay.com/itm/203898287868?nordt=true&orig_cvip=true&rt=nc',\n 'https://www.ebay.com/itm/324618206904?nordt=true&orig_cvip=true&rt=nc',\n 'https://www.ebay.com/itm/194060416913?nordt=true&orig_cvip=true&rt=nc',\n 'https://www.ebay.com/itm/304041013742?nordt=true&orig_cvip=true&rt=nc',\n 'https://www.ebay.com/itm/324254026178?nordt=true&orig_cvip=true&rt=nc',\n 'https://www.ebay.com/itm/324610842527?nordt=true&orig_cvip=true&rt=nc',\n 'https://www.ebay.com/itm/144361594762?nordt=true&orig_cvip=true&rt=nc']"
     },
     "execution_count": 3,
     "metadata": {},
     "output_type": "execute_result"
    }
   ],
   "source": [
    "Links = df.Link.tolist()\n",
    "Links[0:10]"
   ],
   "metadata": {
    "collapsed": false,
    "pycharm": {
     "name": "#%%\n"
    }
   }
  },
  {
   "cell_type": "code",
   "execution_count": 4,
   "outputs": [
    {
     "data": {
      "text/plain": "False"
     },
     "execution_count": 4,
     "metadata": {},
     "output_type": "execute_result"
    }
   ],
   "source": [
    "while np.nan in Links:\n",
    "    Links.remove(np.nan)\n",
    "None in Links"
   ],
   "metadata": {
    "collapsed": false,
    "pycharm": {
     "name": "#%%\n"
    }
   }
  },
  {
   "cell_type": "code",
   "execution_count": 5,
   "outputs": [
    {
     "data": {
      "text/plain": "905"
     },
     "execution_count": 5,
     "metadata": {},
     "output_type": "execute_result"
    }
   ],
   "source": [
    "len(Links)"
   ],
   "metadata": {
    "collapsed": false,
    "pycharm": {
     "name": "#%%\n"
    }
   }
  },
  {
   "cell_type": "code",
   "execution_count": 7,
   "outputs": [
    {
     "name": "stderr",
     "output_type": "stream",
     "text": [
      " 13%|█▎        | 121/905 [10:09<1:20:13,  6.14s/it]"
     ]
    },
    {
     "name": "stdout",
     "output_type": "stream",
     "text": [
      "Нащальника, не получилось: https://www.ebay.com/itm/374563147366?nordt=true&orig_cvip=true&rt=nc\n"
     ]
    },
    {
     "name": "stderr",
     "output_type": "stream",
     "text": [
      " 15%|█▍        | 132/905 [10:56<44:11,  3.43s/it]  "
     ]
    },
    {
     "name": "stdout",
     "output_type": "stream",
     "text": [
      "Нащальника, не получилось: https://www.ebay.com/itm/314504650326?nordt=true&orig_cvip=true&rt=nc\n"
     ]
    },
    {
     "name": "stderr",
     "output_type": "stream",
     "text": [
      " 19%|█▉        | 175/905 [14:40<1:06:20,  5.45s/it]"
     ]
    },
    {
     "name": "stdout",
     "output_type": "stream",
     "text": [
      "Нащальника, не получилось: https://www.ebay.com/itm/374563144191?nordt=true&orig_cvip=true&rt=nc\n"
     ]
    },
    {
     "name": "stderr",
     "output_type": "stream",
     "text": [
      " 22%|██▏       | 199/905 [16:50<56:30,  4.80s/it]  "
     ]
    },
    {
     "name": "stdout",
     "output_type": "stream",
     "text": [
      "Нащальника, не получилось: https://www.ebay.com/itm/314504637688?nordt=true&orig_cvip=true&rt=nc\n"
     ]
    },
    {
     "name": "stderr",
     "output_type": "stream",
     "text": [
      " 26%|██▌       | 233/905 [19:21<37:54,  3.38s/it]  "
     ]
    },
    {
     "name": "stdout",
     "output_type": "stream",
     "text": [
      "Нащальника, не получилось: https://www.ebay.com/itm/234940966255?nordt=true&orig_cvip=true&rt=nc\n"
     ]
    },
    {
     "name": "stderr",
     "output_type": "stream",
     "text": [
      " 27%|██▋       | 248/905 [20:30<36:42,  3.35s/it]"
     ]
    },
    {
     "name": "stdout",
     "output_type": "stream",
     "text": [
      "Нащальника, не получилось: https://www.ebay.com/itm/374563144817?nordt=true&orig_cvip=true&rt=nc\n"
     ]
    },
    {
     "name": "stderr",
     "output_type": "stream",
     "text": [
      " 29%|██▊       | 259/905 [21:19<38:40,  3.59s/it]"
     ]
    },
    {
     "name": "stdout",
     "output_type": "stream",
     "text": [
      "Нащальника, не получилось: https://www.ebay.com/itm/234940969777?nordt=true&orig_cvip=true&rt=nc\n"
     ]
    },
    {
     "name": "stderr",
     "output_type": "stream",
     "text": [
      " 33%|███▎      | 297/905 [24:20<32:20,  3.19s/it]  "
     ]
    },
    {
     "name": "stdout",
     "output_type": "stream",
     "text": [
      "Нащальника, не получилось: https://www.ebay.com/itm/404256337206?nordt=true&orig_cvip=true&rt=nc\n"
     ]
    },
    {
     "name": "stderr",
     "output_type": "stream",
     "text": [
      " 37%|███▋      | 334/905 [27:11<37:52,  3.98s/it]"
     ]
    },
    {
     "name": "stdout",
     "output_type": "stream",
     "text": [
      "Нащальника, не получилось: https://www.ebay.com/itm/374563147246?nordt=true&orig_cvip=true&rt=nc\n"
     ]
    },
    {
     "name": "stderr",
     "output_type": "stream",
     "text": [
      " 41%|████      | 370/905 [32:21<36:36,  4.11s/it]  "
     ]
    },
    {
     "name": "stdout",
     "output_type": "stream",
     "text": [
      "Нащальника, не получилось: https://www.ebay.com/itm/234941641250?nordt=true&orig_cvip=true&rt=nc\n"
     ]
    },
    {
     "name": "stderr",
     "output_type": "stream",
     "text": [
      " 44%|████▍     | 399/905 [35:00<40:01,  4.75s/it]"
     ]
    },
    {
     "name": "stdout",
     "output_type": "stream",
     "text": [
      "Нащальника, не получилось: https://www.ebay.com/itm/374563147345?nordt=true&orig_cvip=true&rt=nc\n"
     ]
    },
    {
     "name": "stderr",
     "output_type": "stream",
     "text": [
      " 51%|█████     | 459/905 [40:08<33:56,  4.57s/it]"
     ]
    },
    {
     "name": "stdout",
     "output_type": "stream",
     "text": [
      "Нащальника, не получилось: https://www.ebay.com/itm/234940967597?nordt=true&orig_cvip=true&rt=nc\n"
     ]
    },
    {
     "name": "stderr",
     "output_type": "stream",
     "text": [
      " 89%|████████▉ | 805/905 [1:09:24<08:07,  4.87s/it]"
     ]
    },
    {
     "name": "stdout",
     "output_type": "stream",
     "text": [
      "Нащальника, не получилось: https://www.ebay.com/itm/234940960919?nordt=true&orig_cvip=true&rt=nc\n"
     ]
    },
    {
     "name": "stderr",
     "output_type": "stream",
     "text": [
      " 89%|████████▉ | 806/905 [1:09:26<06:40,  4.05s/it]"
     ]
    },
    {
     "name": "stdout",
     "output_type": "stream",
     "text": [
      "Нащальника, не получилось: https://www.ebay.com/itm/234940966290?nordt=true&orig_cvip=true&rt=nc\n"
     ]
    },
    {
     "name": "stderr",
     "output_type": "stream",
     "text": [
      " 89%|████████▉ | 807/905 [1:09:29<05:48,  3.56s/it]"
     ]
    },
    {
     "name": "stdout",
     "output_type": "stream",
     "text": [
      "Нащальника, не получилось: https://www.ebay.com/itm/234941635444?nordt=true&orig_cvip=true&rt=nc\n"
     ]
    },
    {
     "name": "stderr",
     "output_type": "stream",
     "text": [
      "100%|██████████| 905/905 [1:18:29<00:00,  5.20s/it]\n",
      " 13%|█▎        | 121/905 [10:14<52:44,  4.04s/it]  "
     ]
    },
    {
     "name": "stdout",
     "output_type": "stream",
     "text": [
      "Нащальника, не получилось: https://www.ebay.com/itm/374563147366?nordt=true&orig_cvip=true&rt=nc\n"
     ]
    },
    {
     "name": "stderr",
     "output_type": "stream",
     "text": [
      " 15%|█▍        | 132/905 [11:06<52:24,  4.07s/it]  "
     ]
    },
    {
     "name": "stdout",
     "output_type": "stream",
     "text": [
      "Нащальника, не получилось: https://www.ebay.com/itm/314504650326?nordt=true&orig_cvip=true&rt=nc\n"
     ]
    },
    {
     "name": "stderr",
     "output_type": "stream",
     "text": [
      " 19%|█▉        | 175/905 [14:49<39:39,  3.26s/it]  "
     ]
    },
    {
     "name": "stdout",
     "output_type": "stream",
     "text": [
      "Нащальника, не получилось: https://www.ebay.com/itm/374563144191?nordt=true&orig_cvip=true&rt=nc\n"
     ]
    },
    {
     "name": "stderr",
     "output_type": "stream",
     "text": [
      " 22%|██▏       | 199/905 [16:44<53:19,  4.53s/it]  "
     ]
    },
    {
     "name": "stdout",
     "output_type": "stream",
     "text": [
      "Нащальника, не получилось: https://www.ebay.com/itm/314504637688?nordt=true&orig_cvip=true&rt=nc\n"
     ]
    },
    {
     "name": "stderr",
     "output_type": "stream",
     "text": [
      " 26%|██▌       | 233/905 [19:26<45:51,  4.09s/it]  "
     ]
    },
    {
     "name": "stdout",
     "output_type": "stream",
     "text": [
      "Нащальника, не получилось: https://www.ebay.com/itm/234940966255?nordt=true&orig_cvip=true&rt=nc\n"
     ]
    },
    {
     "name": "stderr",
     "output_type": "stream",
     "text": [
      " 27%|██▋       | 248/905 [20:32<38:14,  3.49s/it]"
     ]
    },
    {
     "name": "stdout",
     "output_type": "stream",
     "text": [
      "Нащальника, не получилось: https://www.ebay.com/itm/374563144817?nordt=true&orig_cvip=true&rt=nc\n"
     ]
    },
    {
     "name": "stderr",
     "output_type": "stream",
     "text": [
      " 29%|██▊       | 259/905 [21:22<39:47,  3.70s/it]  "
     ]
    },
    {
     "name": "stdout",
     "output_type": "stream",
     "text": [
      "Нащальника, не получилось: https://www.ebay.com/itm/234940969777?nordt=true&orig_cvip=true&rt=nc\n"
     ]
    },
    {
     "name": "stderr",
     "output_type": "stream",
     "text": [
      " 33%|███▎      | 297/905 [24:02<30:32,  3.01s/it]"
     ]
    },
    {
     "name": "stdout",
     "output_type": "stream",
     "text": [
      "Нащальника, не получилось: https://www.ebay.com/itm/404256337206?nordt=true&orig_cvip=true&rt=nc\n"
     ]
    },
    {
     "name": "stderr",
     "output_type": "stream",
     "text": [
      " 37%|███▋      | 334/905 [26:55<34:32,  3.63s/it]"
     ]
    },
    {
     "name": "stdout",
     "output_type": "stream",
     "text": [
      "Нащальника, не получилось: https://www.ebay.com/itm/374563147246?nordt=true&orig_cvip=true&rt=nc\n"
     ]
    },
    {
     "name": "stderr",
     "output_type": "stream",
     "text": [
      " 41%|████      | 370/905 [29:35<36:45,  4.12s/it]"
     ]
    },
    {
     "name": "stdout",
     "output_type": "stream",
     "text": [
      "Нащальника, не получилось: https://www.ebay.com/itm/234941641250?nordt=true&orig_cvip=true&rt=nc\n"
     ]
    },
    {
     "name": "stderr",
     "output_type": "stream",
     "text": [
      " 44%|████▍     | 399/905 [31:56<33:44,  4.00s/it]"
     ]
    },
    {
     "name": "stdout",
     "output_type": "stream",
     "text": [
      "Нащальника, не получилось: https://www.ebay.com/itm/374563147345?nordt=true&orig_cvip=true&rt=nc\n"
     ]
    },
    {
     "name": "stderr",
     "output_type": "stream",
     "text": [
      " 51%|█████     | 459/905 [36:40<25:51,  3.48s/it]"
     ]
    },
    {
     "name": "stdout",
     "output_type": "stream",
     "text": [
      "Нащальника, не получилось: https://www.ebay.com/itm/234940967597?nordt=true&orig_cvip=true&rt=nc\n"
     ]
    },
    {
     "name": "stderr",
     "output_type": "stream",
     "text": [
      " 89%|████████▉ | 805/905 [1:02:49<07:06,  4.27s/it]"
     ]
    },
    {
     "name": "stdout",
     "output_type": "stream",
     "text": [
      "Нащальника, не получилось: https://www.ebay.com/itm/234940960919?nordt=true&orig_cvip=true&rt=nc\n"
     ]
    },
    {
     "name": "stderr",
     "output_type": "stream",
     "text": [
      " 89%|████████▉ | 806/905 [1:02:50<05:44,  3.48s/it]"
     ]
    },
    {
     "name": "stdout",
     "output_type": "stream",
     "text": [
      "Нащальника, не получилось: https://www.ebay.com/itm/234940966290?nordt=true&orig_cvip=true&rt=nc\n"
     ]
    },
    {
     "name": "stderr",
     "output_type": "stream",
     "text": [
      " 89%|████████▉ | 807/905 [1:02:52<04:52,  2.99s/it]"
     ]
    },
    {
     "name": "stdout",
     "output_type": "stream",
     "text": [
      "Нащальника, не получилось: https://www.ebay.com/itm/234941635444?nordt=true&orig_cvip=true&rt=nc\n"
     ]
    },
    {
     "name": "stderr",
     "output_type": "stream",
     "text": [
      "100%|██████████| 905/905 [1:10:55<00:00,  4.70s/it]\n"
     ]
    }
   ],
   "source": [
    "import time\n",
    "import random\n",
    "\n",
    "characteristics_df = pd.DataFrame()\n",
    "undone = []\n",
    "\n",
    "# Задержка перед каждым запросом\n",
    "def delay():\n",
    "    time.sleep(random.uniform(1, 5))  # Измените значения задержки по своему усмотрению\n",
    "\n",
    "def req_parser(url):\n",
    "    global characteristics_df, undone\n",
    "\n",
    "    try:\n",
    "        # Отправляем GET-запрос и получаем ответ\n",
    "        response = requests.get(url)\n",
    "\n",
    "        # Получаем HTML-код страницы\n",
    "        html = response.text\n",
    "\n",
    "        # Создаем объект BeautifulSoup\n",
    "        soup = BeautifulSoup(html, 'html.parser')\n",
    "\n",
    "        # Находим родительский элемент\n",
    "        parent_element = soup.find('div', class_='ux-layout-section--features')\n",
    "\n",
    "        # Initialize an empty dictionary to store the characteristics\n",
    "        characteristics = {\"Link\": url}\n",
    "        done = []\n",
    "\n",
    "        # Find all the characteristic rows\n",
    "        rows = parent_element.find_all('div', class_='ux-layout-section-evo__row')\n",
    "\n",
    "        # Iterate over each row and extract the characteristic name and value\n",
    "        for row in rows:\n",
    "            name_element = row.find_all('div', class_='ux-labels-values__labels')\n",
    "            value_element = row.find_all('div', class_='ux-labels-values__values-content')\n",
    "\n",
    "            for name, value in zip(name_element, value_element):\n",
    "                if name and value:\n",
    "                    name_text = name.get_text(strip=True)\n",
    "                    value_text = value.get_text(strip=True)\n",
    "                    if name_text not in done and value_text not in done:\n",
    "                        characteristics[name_text] = value_text\n",
    "                        done.append(name_text)\n",
    "                        done.append(value_text)\n",
    "\n",
    "        characteristics_df = characteristics_df.append(characteristics, ignore_index=True)\n",
    "\n",
    "        # Задержка перед следующим запросом\n",
    "        delay()\n",
    "\n",
    "    except:\n",
    "        print(\"Нащальника, не получилось:\", url)\n",
    "        undone.append(url)\n",
    "\n",
    "\n",
    "for url in tqdm(Links):\n",
    "    req_parser(url)\n",
    "\n",
    "characteristics_df.to_csv(\"Redmi Characteristics.tsv\", sep='\\t', index=False)"
   ],
   "metadata": {
    "collapsed": false,
    "pycharm": {
     "name": "#%%\n"
    }
   }
  },
  {
   "cell_type": "code",
   "execution_count": null,
   "outputs": [],
   "source": [],
   "metadata": {
    "collapsed": false,
    "pycharm": {
     "name": "#%%\n"
    }
   }
  }
 ],
 "metadata": {
  "kernelspec": {
   "display_name": "Python 3",
   "language": "python",
   "name": "python3"
  },
  "language_info": {
   "codemirror_mode": {
    "name": "ipython",
    "version": 2
   },
   "file_extension": ".py",
   "mimetype": "text/x-python",
   "name": "python",
   "nbconvert_exporter": "python",
   "pygments_lexer": "ipython2",
   "version": "2.7.6"
  }
 },
 "nbformat": 4,
 "nbformat_minor": 0
}