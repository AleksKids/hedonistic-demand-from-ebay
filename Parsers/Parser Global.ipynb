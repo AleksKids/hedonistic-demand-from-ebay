{
 "cells": [
  {
   "cell_type": "markdown",
   "source": [
    "# Парсер основного Дата-фрейма с характеристиками всех смартфонов для построения модели\n",
    "Цель тетради: запарсить данные с сайта ebay по характеристикам товаров.\n",
    "В резульате должны получиться 2 дадафрейма:\n",
    "* Sales содержит названия товаров, а также статистику продаж (цены, общее количество продаж, общая стоимость продаж, ссылки на подробные характеристики.\n",
    "* Characteristics содержит данные о характеристиках товаров (Их много, не перечесть)"
   ],
   "metadata": {
    "collapsed": false
   }
  },
  {
   "cell_type": "markdown",
   "source": [
    "Данные надо откуда-то взять.\n",
    "\n",
    "За парсинг датасета из любого источника на ваш вкус вы получаете 20 баллов\n",
    "За сбор датасета из разных источников (несколько готовых датасетов, но собранных из разных источников и объединенные общей логикой) вы получаете 10 баллов\n",
    "За просто готовый датасет – 5 баллов\n",
    "Если вы взяли готовый датасет и обогатили его, спарсив что-то, вы получаете 20 баллов. Тут важно спарсить что-то полезное, обогащающее датасет. За парсинг book to scrape ради галочки, вы баллов не получите. Не забудьте вставить ссылки на всё, что используете в итоговый блокнот и подробно описать свои действия.\n",
    "\n",
    "Рекомендация к парсингу: Данное условие не является строгим и обязательным, а скорее рекомендация для вас. Если вы решили парсить данные, рекомендуем убедиться, что вы сможете собрать хотя бы 4-5 числовых признаков и несколько категориальных для вашей модели (если вы собираетесь что-то предсказывать). При этом также рекомендуем собрать хотя бы 1000 наблюдений для модели."
   ],
   "metadata": {
    "collapsed": false
   }
  },
  {
   "cell_type": "markdown",
   "source": [
    "Импортируем библиотеки."
   ],
   "metadata": {
    "collapsed": false
   }
  },
  {
   "cell_type": "code",
   "execution_count": 1,
   "outputs": [],
   "source": [
    "import pandas as pd\n",
    "import numpy as np\n",
    "import requests\n",
    "from bs4 import BeautifulSoup\n",
    "from random import randint\n",
    "from selenium import webdriver\n",
    "from selenium.webdriver.chrome.options import Options\n",
    "from selenium.webdriver.support.ui import WebDriverWait\n",
    "from selenium.webdriver.common.by import By\n",
    "import time\n",
    "from tqdm import tqdm\n",
    "import warnings\n",
    "warnings.filterwarnings('ignore', message='The frame.append method is deprecated and will be removed from pandas in a future version.')"
   ],
   "metadata": {
    "collapsed": false,
    "pycharm": {
     "name": "#%%\n"
    }
   }
  },
  {
   "cell_type": "markdown",
   "source": [
    "___"
   ],
   "metadata": {
    "collapsed": false
   }
  },
  {
   "cell_type": "markdown",
   "source": [
    "# Парсим первый датафрейм - Sales"
   ],
   "metadata": {
    "collapsed": false
   }
  },
  {
   "cell_type": "code",
   "execution_count": 3,
   "outputs": [
    {
     "name": "stderr",
     "output_type": "stream",
     "text": [
      "C:\\Users\\druny\\AppData\\Local\\Temp\\ipykernel_19872\\60259596.py:3: DeprecationWarning: headless property is deprecated, instead use add_argument('--headless') or add_argument('--headless=new')\n",
      "  options.headless = True  # hide GUI\n",
      "C:\\Users\\druny\\AppData\\Local\\Temp\\ipykernel_19872\\60259596.py:9: DeprecationWarning: use options instead of chrome_options\n",
      "  driver = webdriver.Chrome(options=options, chrome_options=chrome_options)\n"
     ]
    }
   ],
   "source": [
    "# настраиваем драйвер\n",
    "options = Options()\n",
    "options.headless = True  # hide GUI\n",
    "options.add_argument(\"--window-size=1920,1080\")  # set window size to native GUI size\n",
    "options.add_argument(\"start-maximized\")  # ensure window is full-screen\n",
    "\n",
    "# Настраиваем браузер, чтобы он не грузил Java и картинки\n",
    "chrome_options = webdriver.ChromeOptions()\n",
    "driver = webdriver.Chrome(options=options, chrome_options=chrome_options)\n",
    "\n",
    "# Делаем запрос\n",
    "driver.get(\"https://www.ebay.com/sh/research?marketplace=EBAY-US&keywords=Smartphones&dayRange=730&endDate=1684051559220&startDate=1620979559220&categoryId=9355&offset=0&limit=50&tabName=SOLD&tz=Europe%2FMoscow\")\n",
    "\n",
    "#Ждём загрузку\n",
    "time.sleep(5)"
   ],
   "metadata": {
    "collapsed": false,
    "pycharm": {
     "name": "#%%\n"
    }
   }
  },
  {
   "cell_type": "markdown",
   "source": [
    "Тут мы ручками авторизируемся и заходим"
   ],
   "metadata": {
    "collapsed": false
   }
  },
  {
   "cell_type": "markdown",
   "source": [
    "Парсим названия и числовые характеристики (Цены, продажи)"
   ],
   "metadata": {
    "collapsed": false
   }
  },
  {
   "cell_type": "code",
   "execution_count": null,
   "outputs": [],
   "source": [
    "df = pd.DataFrame()"
   ],
   "metadata": {
    "collapsed": false,
    "pycharm": {
     "name": "#%%\n"
    }
   }
  },
  {
   "cell_type": "code",
   "execution_count": 5,
   "outputs": [],
   "source": [
    "def table_parser(soup: BeautifulSoup):\n",
    "    for product in soup.find_all('tr', class_='research-table-row'):\n",
    "        title = product.find('span', attrs={'data-item-id': True}).text\n",
    "        price = product.find('td', class_='research-table-row__item research-table-row__avgSoldPrice').div.find_all('div')[0].text.strip()\n",
    "        shipping = product.find('td', class_='research-table-row__item research-table-row__avgShippingCost').div.find_all('div')[0].text.strip()\n",
    "        sales_count = product.find('td', class_='research-table-row__item research-table-row__totalSoldCount').div.find_all('div')[0].text.strip()\n",
    "        sales_value = product.find('td', class_='research-table-row__item research-table-row__totalSalesValue').div.find_all('div')[0].text.strip()\n",
    "        try:\n",
    "            link = product.find('a', class_='research-table-row__link-row-anchor', attrs={'href': True})['href']\n",
    "        except:\n",
    "            link = None\n",
    "\n",
    "        data = {\"Title\": title, \"Price\": price, \"Shipping_cost\": shipping, \"Sales_Count\": sales_count, \"Sales_Value\": sales_value, \"Link\": link}\n",
    "\n",
    "        global df\n",
    "        df = df.append(data, ignore_index=True)"
   ],
   "metadata": {
    "collapsed": false,
    "pycharm": {
     "name": "#%%\n"
    }
   }
  },
  {
   "cell_type": "code",
   "execution_count": 6,
   "outputs": [
    {
     "name": "stderr",
     "output_type": "stream",
     "text": [
      "100%|██████████| 100/100 [18:25<00:00, 11.05s/it]\n"
     ]
    }
   ],
   "source": [
    "for _ in tqdm(range(100)): #Решено спарсить 100 страниц\n",
    "    driver.execute_script(\"window.scrollTo(0, document.body.scrollHeight);\")\n",
    "    html = driver.page_source\n",
    "    soup = BeautifulSoup(html, 'html.parser')\n",
    "    table_parser(soup)\n",
    "    next_button = driver.find_element(By.XPATH, '//button[@class=\"pagination__next\"]')\n",
    "    next_button.click()\n",
    "    time.sleep(randint(5, 15))\n",
    "    pass"
   ],
   "metadata": {
    "collapsed": false,
    "pycharm": {
     "name": "#%%\n"
    }
   }
  },
  {
   "cell_type": "code",
   "execution_count": 11,
   "outputs": [],
   "source": [
    "df.to_csv(\"Sales.tsv\", sep='\\t', index=False)"
   ],
   "metadata": {
    "collapsed": false,
    "pycharm": {
     "name": "#%%\n"
    }
   }
  },
  {
   "cell_type": "markdown",
   "source": [
    "____\n",
    "# Парсим характеристики - request"
   ],
   "metadata": {
    "collapsed": false
   }
  },
  {
   "cell_type": "code",
   "execution_count": 2,
   "outputs": [],
   "source": [
    "df=pd.read_csv(\"Sales.tsv\", delimiter = \"\\t\")"
   ],
   "metadata": {
    "collapsed": false,
    "pycharm": {
     "name": "#%%\n"
    }
   }
  },
  {
   "cell_type": "code",
   "execution_count": 3,
   "outputs": [
    {
     "data": {
      "text/plain": "['https://www.ebay.com/itm/254604777645?nordt=true&orig_cvip=true&rt=nc',\n 'https://www.ebay.com/itm/254187678666?nordt=true&orig_cvip=true&rt=nc',\n 'https://www.ebay.com/itm/363183815277?nordt=true&orig_cvip=true&rt=nc',\n 'https://www.ebay.com/itm/382605209867?nordt=true&orig_cvip=true&rt=nc',\n 'https://www.ebay.com/itm/382446518910?nordt=true&orig_cvip=true&rt=nc',\n 'https://www.ebay.com/itm/401763851775?nordt=true&orig_cvip=true&rt=nc',\n 'https://www.ebay.com/itm/362534145919?nordt=true&orig_cvip=true&rt=nc',\n 'https://www.ebay.com/itm/254733458977?nordt=true&orig_cvip=true&rt=nc',\n 'https://www.ebay.com/itm/254449547850?nordt=true&orig_cvip=true&rt=nc',\n 'https://www.ebay.com/itm/362643917935?nordt=true&orig_cvip=true&rt=nc',\n nan,\n 'https://www.ebay.com/itm/362643928499?nordt=true&orig_cvip=true&rt=nc',\n 'https://www.ebay.com/itm/254343826760?nordt=true&orig_cvip=true&rt=nc',\n 'https://www.ebay.com/itm/383240884447?nordt=true&orig_cvip=true&rt=nc',\n 'https://www.ebay.com/itm/403272229686?nordt=true&orig_cvip=true&rt=nc',\n 'https://www.ebay.com/itm/284035968027?nordt=true&orig_cvip=true&rt=nc',\n 'https://www.ebay.com/itm/254497147383?nordt=true&orig_cvip=true&rt=nc',\n 'https://www.ebay.com/itm/402561477570?nordt=true&orig_cvip=true&rt=nc',\n 'https://www.ebay.com/itm/254726029927?nordt=true&orig_cvip=true&rt=nc',\n 'https://www.ebay.com/itm/193380000263?nordt=true&orig_cvip=true&rt=nc',\n 'https://www.ebay.com/itm/224743929590?nordt=true&orig_cvip=true&rt=nc',\n 'https://www.ebay.com/itm/382980837076?nordt=true&orig_cvip=true&rt=nc',\n 'https://www.ebay.com/itm/254986400075?nordt=true&orig_cvip=true&rt=nc',\n 'https://www.ebay.com/itm/363183789732?nordt=true&orig_cvip=true&rt=nc',\n 'https://www.ebay.com/itm/383859582143?nordt=true&orig_cvip=true&rt=nc',\n 'https://www.ebay.com/itm/254362722440?nordt=true&orig_cvip=true&rt=nc',\n 'https://www.ebay.com/itm/383056866223?nordt=true&orig_cvip=true&rt=nc',\n 'https://www.ebay.com/itm/382248638826?nordt=true&orig_cvip=true&rt=nc',\n 'https://www.ebay.com/itm/362796932744?nordt=true&orig_cvip=true&rt=nc',\n 'https://www.ebay.com/itm/401421944762?nordt=true&orig_cvip=true&rt=nc',\n 'https://www.ebay.com/itm/164893254720?nordt=true&orig_cvip=true&rt=nc',\n 'https://www.ebay.com/itm/254587833287?nordt=true&orig_cvip=true&rt=nc',\n 'https://www.ebay.com/itm/255156294126?nordt=true&orig_cvip=true&rt=nc',\n 'https://www.ebay.com/itm/382231636526?nordt=true&orig_cvip=true&rt=nc',\n 'https://www.ebay.com/itm/253462854618?nordt=true&orig_cvip=true&rt=nc',\n 'https://www.ebay.com/itm/383773335051?nordt=true&orig_cvip=true&rt=nc',\n 'https://www.ebay.com/itm/254699548059?nordt=true&orig_cvip=true&rt=nc',\n 'https://www.ebay.com/itm/193162998553?nordt=true&orig_cvip=true&rt=nc',\n nan,\n 'https://www.ebay.com/itm/254187724827?nordt=true&orig_cvip=true&rt=nc',\n 'https://www.ebay.com/itm/382942879927?nordt=true&orig_cvip=true&rt=nc',\n 'https://www.ebay.com/itm/275527542764?nordt=true&orig_cvip=true&rt=nc',\n 'https://www.ebay.com/itm/362844585265?nordt=true&orig_cvip=true&rt=nc',\n 'https://www.ebay.com/itm/265116884488?nordt=true&orig_cvip=true&rt=nc',\n 'https://www.ebay.com/itm/115160719109?nordt=true&orig_cvip=true&rt=nc',\n 'https://www.ebay.com/itm/254187579586?nordt=true&orig_cvip=true&rt=nc',\n 'https://www.ebay.com/itm/175104539043?nordt=true&orig_cvip=true&rt=nc',\n nan,\n 'https://www.ebay.com/itm/362174598107?nordt=true&orig_cvip=true&rt=nc',\n nan,\n 'https://www.ebay.com/itm/383852092669?nordt=true&orig_cvip=true&rt=nc',\n 'https://www.ebay.com/itm/401421457135?nordt=true&orig_cvip=true&rt=nc',\n 'https://www.ebay.com/itm/383815687874?nordt=true&orig_cvip=true&rt=nc',\n 'https://www.ebay.com/itm/202736101273?nordt=true&orig_cvip=true&rt=nc',\n nan,\n 'https://www.ebay.com/itm/254604774836?nordt=true&orig_cvip=true&rt=nc',\n 'https://www.ebay.com/itm/113940220736?nordt=true&orig_cvip=true&rt=nc',\n 'https://www.ebay.com/itm/362174598107?nordt=true&orig_cvip=true&rt=nc',\n nan,\n 'https://www.ebay.com/itm/401790747983?nordt=true&orig_cvip=true&rt=nc',\n 'https://www.ebay.com/itm/254449549740?nordt=true&orig_cvip=true&rt=nc',\n 'https://www.ebay.com/itm/254259767924?nordt=true&orig_cvip=true&rt=nc',\n 'https://www.ebay.com/itm/401692119966?nordt=true&orig_cvip=true&rt=nc',\n 'https://www.ebay.com/itm/382745068741?nordt=true&orig_cvip=true&rt=nc',\n nan,\n 'https://www.ebay.com/itm/254543445542?nordt=true&orig_cvip=true&rt=nc',\n 'https://www.ebay.com/itm/363183828056?nordt=true&orig_cvip=true&rt=nc',\n 'https://www.ebay.com/itm/363490711983?nordt=true&orig_cvip=true&rt=nc',\n 'https://www.ebay.com/itm/274665780483?nordt=true&orig_cvip=true&rt=nc',\n nan,\n 'https://www.ebay.com/itm/363552187845?nordt=true&orig_cvip=true&rt=nc',\n nan,\n nan,\n nan,\n 'https://www.ebay.com/itm/255229822421?nordt=true&orig_cvip=true&rt=nc',\n 'https://www.ebay.com/itm/363622936966?nordt=true&orig_cvip=true&rt=nc',\n 'https://www.ebay.com/itm/185054035695?nordt=true&orig_cvip=true&rt=nc',\n 'https://www.ebay.com/itm/255158035114?nordt=true&orig_cvip=true&rt=nc',\n 'https://www.ebay.com/itm/254497131840?nordt=true&orig_cvip=true&rt=nc',\n 'https://www.ebay.com/itm/401433628517?nordt=true&orig_cvip=true&rt=nc',\n nan,\n 'https://www.ebay.com/itm/202761223360?nordt=true&orig_cvip=true&rt=nc',\n 'https://www.ebay.com/itm/401343493312?nordt=true&orig_cvip=true&rt=nc',\n 'https://www.ebay.com/itm/254616322083?nordt=true&orig_cvip=true&rt=nc',\n nan,\n nan,\n 'https://www.ebay.com/itm/383199876176?nordt=true&orig_cvip=true&rt=nc',\n 'https://www.ebay.com/itm/154260684946?nordt=true&orig_cvip=true&rt=nc',\n 'https://www.ebay.com/itm/255190396752?nordt=true&orig_cvip=true&rt=nc',\n nan,\n 'https://www.ebay.com/itm/184891803008?nordt=true&orig_cvip=true&rt=nc',\n 'https://www.ebay.com/itm/265620291838?nordt=true&orig_cvip=true&rt=nc',\n nan,\n 'https://www.ebay.com/itm/174910657878?nordt=true&orig_cvip=true&rt=nc',\n 'https://www.ebay.com/itm/284706512069?nordt=true&orig_cvip=true&rt=nc',\n nan,\n nan,\n 'https://www.ebay.com/itm/114530941946?nordt=true&orig_cvip=true&rt=nc',\n 'https://www.ebay.com/itm/163466112708?nordt=true&orig_cvip=true&rt=nc',\n 'https://www.ebay.com/itm/162158935212?nordt=true&orig_cvip=true&rt=nc',\n 'https://www.ebay.com/itm/402738617123?nordt=true&orig_cvip=true&rt=nc',\n 'https://www.ebay.com/itm/383869478537?nordt=true&orig_cvip=true&rt=nc',\n nan,\n nan,\n 'https://www.ebay.com/itm/192666024808?nordt=true&orig_cvip=true&rt=nc',\n 'https://www.ebay.com/itm/184891803008?nordt=true&orig_cvip=true&rt=nc',\n 'https://www.ebay.com/itm/273365425583?nordt=true&orig_cvip=true&rt=nc',\n 'https://www.ebay.com/itm/254497146992?nordt=true&orig_cvip=true&rt=nc',\n 'https://www.ebay.com/itm/254574858548?nordt=true&orig_cvip=true&rt=nc',\n 'https://www.ebay.com/itm/275347195080?nordt=true&orig_cvip=true&rt=nc',\n nan,\n 'https://www.ebay.com/itm/114530941946?nordt=true&orig_cvip=true&rt=nc',\n 'https://www.ebay.com/itm/362776219215?nordt=true&orig_cvip=true&rt=nc',\n 'https://www.ebay.com/itm/174218584095?nordt=true&orig_cvip=true&rt=nc',\n 'https://www.ebay.com/itm/254497144144?nordt=true&orig_cvip=true&rt=nc',\n nan,\n 'https://www.ebay.com/itm/163466112708?nordt=true&orig_cvip=true&rt=nc',\n 'https://www.ebay.com/itm/362539249410?nordt=true&orig_cvip=true&rt=nc',\n 'https://www.ebay.com/itm/162158935212?nordt=true&orig_cvip=true&rt=nc',\n 'https://www.ebay.com/itm/403448574550?nordt=true&orig_cvip=true&rt=nc',\n 'https://www.ebay.com/itm/174871616624?nordt=true&orig_cvip=true&rt=nc',\n nan,\n nan,\n 'https://www.ebay.com/itm/274614344653?nordt=true&orig_cvip=true&rt=nc',\n 'https://www.ebay.com/itm/255036085233?nordt=true&orig_cvip=true&rt=nc',\n 'https://www.ebay.com/itm/401802476294?nordt=true&orig_cvip=true&rt=nc',\n nan,\n 'https://www.ebay.com/itm/382262389997?nordt=true&orig_cvip=true&rt=nc',\n 'https://www.ebay.com/itm/254362724799?nordt=true&orig_cvip=true&rt=nc',\n 'https://www.ebay.com/itm/402561454256?nordt=true&orig_cvip=true&rt=nc',\n 'https://www.ebay.com/itm/254887931564?nordt=true&orig_cvip=true&rt=nc',\n 'https://www.ebay.com/itm/114789287210?nordt=true&orig_cvip=true&rt=nc',\n 'https://www.ebay.com/itm/133748771442?nordt=true&orig_cvip=true&rt=nc',\n nan,\n 'https://www.ebay.com/itm/124808868109?nordt=true&orig_cvip=true&rt=nc',\n 'https://www.ebay.com/itm/254581733254?nordt=true&orig_cvip=true&rt=nc',\n 'https://www.ebay.com/itm/303866151709?nordt=true&orig_cvip=true&rt=nc',\n 'https://www.ebay.com/itm/362796965180?nordt=true&orig_cvip=true&rt=nc',\n nan,\n nan,\n nan,\n 'https://www.ebay.com/itm/284822804313?nordt=true&orig_cvip=true&rt=nc',\n nan,\n nan,\n 'https://www.ebay.com/itm/363755059961?nordt=true&orig_cvip=true&rt=nc',\n nan,\n nan,\n 'https://www.ebay.com/itm/114120899548?nordt=true&orig_cvip=true&rt=nc',\n nan,\n nan,\n 'https://www.ebay.com/itm/254497147339?nordt=true&orig_cvip=true&rt=nc',\n 'https://www.ebay.com/itm/184855483707?nordt=true&orig_cvip=true&rt=nc',\n 'https://www.ebay.com/itm/144025110903?nordt=true&orig_cvip=true&rt=nc',\n 'https://www.ebay.com/itm/401597053678?nordt=true&orig_cvip=true&rt=nc',\n 'https://www.ebay.com/itm/162636672837?nordt=true&orig_cvip=true&rt=nc',\n 'https://www.ebay.com/itm/363755059961?nordt=true&orig_cvip=true&rt=nc',\n 'https://www.ebay.com/itm/401474714088?nordt=true&orig_cvip=true&rt=nc',\n 'https://www.ebay.com/itm/202444662305?nordt=true&orig_cvip=true&rt=nc',\n 'https://www.ebay.com/itm/183823778274?nordt=true&orig_cvip=true&rt=nc',\n 'https://www.ebay.com/itm/402056539484?nordt=true&orig_cvip=true&rt=nc',\n 'https://www.ebay.com/itm/254726032631?nordt=true&orig_cvip=true&rt=nc',\n nan,\n nan,\n 'https://www.ebay.com/itm/254798360339?nordt=true&orig_cvip=true&rt=nc',\n 'https://www.ebay.com/itm/363215088240?nordt=true&orig_cvip=true&rt=nc',\n 'https://www.ebay.com/itm/402372545788?nordt=true&orig_cvip=true&rt=nc',\n 'https://www.ebay.com/itm/203607929494?nordt=true&orig_cvip=true&rt=nc',\n 'https://www.ebay.com/itm/193613564027?nordt=true&orig_cvip=true&rt=nc',\n 'https://www.ebay.com/itm/284813674003?nordt=true&orig_cvip=true&rt=nc',\n 'https://www.ebay.com/itm/363606395261?nordt=true&orig_cvip=true&rt=nc',\n 'https://www.ebay.com/itm/254736177623?nordt=true&orig_cvip=true&rt=nc',\n 'https://www.ebay.com/itm/402048793825?nordt=true&orig_cvip=true&rt=nc',\n 'https://www.ebay.com/itm/174556551199?nordt=true&orig_cvip=true&rt=nc',\n 'https://www.ebay.com/itm/124877612218?nordt=true&orig_cvip=true&rt=nc',\n 'https://www.ebay.com/itm/224961727431?nordt=true&orig_cvip=true&rt=nc',\n 'https://www.ebay.com/itm/175468289545?nordt=true&orig_cvip=true&rt=nc',\n nan,\n 'https://www.ebay.com/itm/195322468471?nordt=true&orig_cvip=true&rt=nc',\n nan,\n 'https://www.ebay.com/itm/144365591844?nordt=true&orig_cvip=true&rt=nc',\n nan,\n nan,\n 'https://www.ebay.com/itm/275427662747?nordt=true&orig_cvip=true&rt=nc',\n 'https://www.ebay.com/itm/294480146529?nordt=true&orig_cvip=true&rt=nc',\n 'https://www.ebay.com/itm/144174211508?nordt=true&orig_cvip=true&rt=nc',\n nan,\n 'https://www.ebay.com/itm/362643862686?nordt=true&orig_cvip=true&rt=nc',\n nan,\n nan,\n 'https://www.ebay.com/itm/114845945758?nordt=true&orig_cvip=true&rt=nc',\n nan,\n 'https://www.ebay.com/itm/254987231741?nordt=true&orig_cvip=true&rt=nc',\n 'https://www.ebay.com/itm/284813674330?nordt=true&orig_cvip=true&rt=nc',\n nan,\n nan,\n nan,\n nan,\n 'https://www.ebay.com/itm/154426022841?nordt=true&orig_cvip=true&rt=nc',\n nan,\n nan,\n 'https://www.ebay.com/itm/363346871915?nordt=true&orig_cvip=true&rt=nc',\n 'https://www.ebay.com/itm/192680493240?nordt=true&orig_cvip=true&rt=nc',\n 'https://www.ebay.com/itm/192919736122?nordt=true&orig_cvip=true&rt=nc',\n 'https://www.ebay.com/itm/402106151567?nordt=true&orig_cvip=true&rt=nc',\n 'https://www.ebay.com/itm/203607994463?nordt=true&orig_cvip=true&rt=nc',\n 'https://www.ebay.com/itm/362643927258?nordt=true&orig_cvip=true&rt=nc',\n 'https://www.ebay.com/itm/174917153823?nordt=true&orig_cvip=true&rt=nc',\n 'https://www.ebay.com/itm/194293909046?nordt=true&orig_cvip=true&rt=nc',\n nan,\n 'https://www.ebay.com/itm/284813674330?nordt=true&orig_cvip=true&rt=nc',\n 'https://www.ebay.com/itm/265673903010?nordt=true&orig_cvip=true&rt=nc',\n 'https://www.ebay.com/itm/233883450713?nordt=true&orig_cvip=true&rt=nc',\n 'https://www.ebay.com/itm/254497144544?nordt=true&orig_cvip=true&rt=nc',\n 'https://www.ebay.com/itm/274984909193?nordt=true&orig_cvip=true&rt=nc',\n 'https://www.ebay.com/itm/255701838986?nordt=true&orig_cvip=true&rt=nc',\n nan,\n nan,\n 'https://www.ebay.com/itm/203795735968?nordt=true&orig_cvip=true&rt=nc',\n nan,\n nan,\n 'https://www.ebay.com/itm/274834525829?nordt=true&orig_cvip=true&rt=nc',\n nan,\n 'https://www.ebay.com/itm/255405276945?nordt=true&orig_cvip=true&rt=nc',\n nan,\n 'https://www.ebay.com/itm/284037586794?nordt=true&orig_cvip=true&rt=nc',\n nan,\n 'https://www.ebay.com/itm/203880663418?nordt=true&orig_cvip=true&rt=nc',\n 'https://www.ebay.com/itm/203747687712?nordt=true&orig_cvip=true&rt=nc',\n 'https://www.ebay.com/itm/313646454379?nordt=true&orig_cvip=true&rt=nc',\n nan,\n nan,\n 'https://www.ebay.com/itm/203607993595?nordt=true&orig_cvip=true&rt=nc',\n 'https://www.ebay.com/itm/254587835370?nordt=true&orig_cvip=true&rt=nc',\n 'https://www.ebay.com/itm/134094757201?nordt=true&orig_cvip=true&rt=nc',\n 'https://www.ebay.com/itm/382282567190?nordt=true&orig_cvip=true&rt=nc',\n 'https://www.ebay.com/itm/404124301113?nordt=true&orig_cvip=true&rt=nc',\n 'https://www.ebay.com/itm/162992514349?nordt=true&orig_cvip=true&rt=nc',\n nan,\n nan,\n nan,\n nan,\n 'https://www.ebay.com/itm/284950234610?nordt=true&orig_cvip=true&rt=nc',\n 'https://www.ebay.com/itm/174503388347?nordt=true&orig_cvip=true&rt=nc',\n nan,\n nan,\n nan,\n nan,\n nan,\n 'https://www.ebay.com/itm/401452356520?nordt=true&orig_cvip=true&rt=nc',\n nan,\n 'https://www.ebay.com/itm/265089585102?nordt=true&orig_cvip=true&rt=nc',\n 'https://www.ebay.com/itm/203747687712?nordt=true&orig_cvip=true&rt=nc',\n 'https://www.ebay.com/itm/223182678910?nordt=true&orig_cvip=true&rt=nc',\n 'https://www.ebay.com/itm/254343829175?nordt=true&orig_cvip=true&rt=nc',\n 'https://www.ebay.com/itm/383313502228?nordt=true&orig_cvip=true&rt=nc',\n 'https://www.ebay.com/itm/363318312788?nordt=true&orig_cvip=true&rt=nc',\n 'https://www.ebay.com/itm/362643914994?nordt=true&orig_cvip=true&rt=nc',\n 'https://www.ebay.com/itm/383253410092?nordt=true&orig_cvip=true&rt=nc',\n 'https://www.ebay.com/itm/224018356182?nordt=true&orig_cvip=true&rt=nc',\n 'https://www.ebay.com/itm/401941342884?nordt=true&orig_cvip=true&rt=nc',\n 'https://www.ebay.com/itm/194516792362?nordt=true&orig_cvip=true&rt=nc',\n nan,\n 'https://www.ebay.com/itm/195196850855?nordt=true&orig_cvip=true&rt=nc',\n 'https://www.ebay.com/itm/353721128035?nordt=true&orig_cvip=true&rt=nc',\n 'https://www.ebay.com/itm/194455634348?nordt=true&orig_cvip=true&rt=nc',\n nan,\n nan,\n 'https://www.ebay.com/itm/401466898078?nordt=true&orig_cvip=true&rt=nc',\n 'https://www.ebay.com/itm/143944694279?nordt=true&orig_cvip=true&rt=nc',\n 'https://www.ebay.com/itm/174535086332?nordt=true&orig_cvip=true&rt=nc',\n 'https://www.ebay.com/itm/254590738784?nordt=true&orig_cvip=true&rt=nc',\n nan,\n 'https://www.ebay.com/itm/362643889830?nordt=true&orig_cvip=true&rt=nc',\n 'https://www.ebay.com/itm/174901870299?nordt=true&orig_cvip=true&rt=nc',\n 'https://www.ebay.com/itm/325334675201?nordt=true&orig_cvip=true&rt=nc',\n 'https://www.ebay.com/itm/115057457527?nordt=true&orig_cvip=true&rt=nc',\n 'https://www.ebay.com/itm/174920917642?nordt=true&orig_cvip=true&rt=nc',\n nan,\n nan,\n 'https://www.ebay.com/itm/284945596416?nordt=true&orig_cvip=true&rt=nc',\n nan,\n 'https://www.ebay.com/itm/233303782689?nordt=true&orig_cvip=true&rt=nc',\n 'https://www.ebay.com/itm/195096160016?nordt=true&orig_cvip=true&rt=nc',\n 'https://www.ebay.com/itm/362867831517?nordt=true&orig_cvip=true&rt=nc',\n 'https://www.ebay.com/itm/143532214398?nordt=true&orig_cvip=true&rt=nc',\n nan,\n nan,\n 'https://www.ebay.com/itm/284935400988?nordt=true&orig_cvip=true&rt=nc',\n nan,\n 'https://www.ebay.com/itm/114990453521?nordt=true&orig_cvip=true&rt=nc',\n nan,\n nan,\n nan,\n nan,\n nan,\n 'https://www.ebay.com/itm/124877603899?nordt=true&orig_cvip=true&rt=nc',\n 'https://www.ebay.com/itm/155286042414?nordt=true&orig_cvip=true&rt=nc',\n 'https://www.ebay.com/itm/144232244682?nordt=true&orig_cvip=true&rt=nc',\n nan,\n 'https://www.ebay.com/itm/114690152370?nordt=true&orig_cvip=true&rt=nc',\n 'https://www.ebay.com/itm/362643914994?nordt=true&orig_cvip=true&rt=nc',\n 'https://www.ebay.com/itm/402665813488?nordt=true&orig_cvip=true&rt=nc',\n 'https://www.ebay.com/itm/401687157141?nordt=true&orig_cvip=true&rt=nc',\n 'https://www.ebay.com/itm/203087234583?nordt=true&orig_cvip=true&rt=nc',\n 'https://www.ebay.com/itm/202832944112?nordt=true&orig_cvip=true&rt=nc',\n 'https://www.ebay.com/itm/383894758771?nordt=true&orig_cvip=true&rt=nc',\n 'https://www.ebay.com/itm/402048798163?nordt=true&orig_cvip=true&rt=nc',\n 'https://www.ebay.com/itm/362303761329?nordt=true&orig_cvip=true&rt=nc',\n 'https://www.ebay.com/itm/265510853953?nordt=true&orig_cvip=true&rt=nc',\n 'https://www.ebay.com/itm/402517131944?nordt=true&orig_cvip=true&rt=nc',\n 'https://www.ebay.com/itm/193817201613?nordt=true&orig_cvip=true&rt=nc',\n nan,\n nan,\n 'https://www.ebay.com/itm/353611081594?nordt=true&orig_cvip=true&rt=nc',\n 'https://www.ebay.com/itm/233303782689?nordt=true&orig_cvip=true&rt=nc',\n 'https://www.ebay.com/itm/402290878794?nordt=true&orig_cvip=true&rt=nc',\n 'https://www.ebay.com/itm/381884981763?nordt=true&orig_cvip=true&rt=nc',\n 'https://www.ebay.com/itm/312774622409?nordt=true&orig_cvip=true&rt=nc',\n nan,\n nan,\n 'https://www.ebay.com/itm/194295611636?nordt=true&orig_cvip=true&rt=nc',\n 'https://www.ebay.com/itm/164051768843?nordt=true&orig_cvip=true&rt=nc',\n nan,\n 'https://www.ebay.com/itm/265968892888?nordt=true&orig_cvip=true&rt=nc',\n 'https://www.ebay.com/itm/174167428382?nordt=true&orig_cvip=true&rt=nc',\n 'https://www.ebay.com/itm/153746097416?nordt=true&orig_cvip=true&rt=nc',\n nan,\n 'https://www.ebay.com/itm/114690152370?nordt=true&orig_cvip=true&rt=nc',\n 'https://www.ebay.com/itm/194297515141?nordt=true&orig_cvip=true&rt=nc',\n 'https://www.ebay.com/itm/334100133142?nordt=true&orig_cvip=true&rt=nc',\n nan,\n 'https://www.ebay.com/itm/154538155772?nordt=true&orig_cvip=true&rt=nc',\n nan,\n nan,\n nan,\n nan,\n nan,\n 'https://www.ebay.com/itm/125727738582?nordt=true&orig_cvip=true&rt=nc',\n 'https://www.ebay.com/itm/153787765338?nordt=true&orig_cvip=true&rt=nc',\n 'https://www.ebay.com/itm/124887216804?nordt=true&orig_cvip=true&rt=nc',\n nan,\n nan,\n nan,\n 'https://www.ebay.com/itm/144147287648?nordt=true&orig_cvip=true&rt=nc',\n nan,\n 'https://www.ebay.com/itm/114637806356?nordt=true&orig_cvip=true&rt=nc',\n nan,\n 'https://www.ebay.com/itm/125390269972?nordt=true&orig_cvip=true&rt=nc',\n 'https://www.ebay.com/itm/134283561109?nordt=true&orig_cvip=true&rt=nc',\n nan,\n 'https://www.ebay.com/itm/382711860317?nordt=true&orig_cvip=true&rt=nc',\n 'https://www.ebay.com/itm/402058099913?nordt=true&orig_cvip=true&rt=nc',\n 'https://www.ebay.com/itm/363273667452?nordt=true&orig_cvip=true&rt=nc',\n 'https://www.ebay.com/itm/353611081594?nordt=true&orig_cvip=true&rt=nc',\n 'https://www.ebay.com/itm/401819629193?nordt=true&orig_cvip=true&rt=nc',\n 'https://www.ebay.com/itm/383240878026?nordt=true&orig_cvip=true&rt=nc',\n 'https://www.ebay.com/itm/324503186499?nordt=true&orig_cvip=true&rt=nc',\n 'https://www.ebay.com/itm/383938533996?nordt=true&orig_cvip=true&rt=nc',\n 'https://www.ebay.com/itm/402290878794?nordt=true&orig_cvip=true&rt=nc',\n 'https://www.ebay.com/itm/294374557390?nordt=true&orig_cvip=true&rt=nc',\n 'https://www.ebay.com/itm/312774622409?nordt=true&orig_cvip=true&rt=nc',\n nan,\n 'https://www.ebay.com/itm/254497142473?nordt=true&orig_cvip=true&rt=nc',\n 'https://www.ebay.com/itm/363623911145?nordt=true&orig_cvip=true&rt=nc',\n 'https://www.ebay.com/itm/223248816257?nordt=true&orig_cvip=true&rt=nc',\n 'https://www.ebay.com/itm/384714069130?nordt=true&orig_cvip=true&rt=nc',\n 'https://www.ebay.com/itm/254954539997?nordt=true&orig_cvip=true&rt=nc',\n 'https://www.ebay.com/itm/255563726674?nordt=true&orig_cvip=true&rt=nc',\n 'https://www.ebay.com/itm/254699543811?nordt=true&orig_cvip=true&rt=nc',\n 'https://www.ebay.com/itm/362239783947?nordt=true&orig_cvip=true&rt=nc',\n nan,\n 'https://www.ebay.com/itm/402599995493?nordt=true&orig_cvip=true&rt=nc',\n 'https://www.ebay.com/itm/225190606982?nordt=true&orig_cvip=true&rt=nc',\n 'https://www.ebay.com/itm/224697402208?nordt=true&orig_cvip=true&rt=nc',\n 'https://www.ebay.com/itm/325425732974?nordt=true&orig_cvip=true&rt=nc',\n nan,\n 'https://www.ebay.com/itm/325349047528?nordt=true&orig_cvip=true&rt=nc',\n nan,\n nan,\n nan,\n nan,\n 'https://www.ebay.com/itm/125390269972?nordt=true&orig_cvip=true&rt=nc',\n nan,\n 'https://www.ebay.com/itm/134283561109?nordt=true&orig_cvip=true&rt=nc',\n 'https://www.ebay.com/itm/255810804010?nordt=true&orig_cvip=true&rt=nc',\n nan,\n nan,\n 'https://www.ebay.com/itm/144158773762?nordt=true&orig_cvip=true&rt=nc',\n nan,\n nan,\n nan,\n nan,\n 'https://www.ebay.com/itm/143087457380?nordt=true&orig_cvip=true&rt=nc',\n 'https://www.ebay.com/itm/115110372199?nordt=true&orig_cvip=true&rt=nc',\n nan,\n nan,\n 'https://www.ebay.com/itm/144150449212?nordt=true&orig_cvip=true&rt=nc',\n nan,\n nan,\n nan,\n 'https://www.ebay.com/itm/324052569878?nordt=true&orig_cvip=true&rt=nc',\n 'https://www.ebay.com/itm/323431647749?nordt=true&orig_cvip=true&rt=nc',\n 'https://www.ebay.com/itm/383240878026?nordt=true&orig_cvip=true&rt=nc',\n 'https://www.ebay.com/itm/382980838485?nordt=true&orig_cvip=true&rt=nc',\n 'https://www.ebay.com/itm/354110193084?nordt=true&orig_cvip=true&rt=nc',\n 'https://www.ebay.com/itm/254435076304?nordt=true&orig_cvip=true&rt=nc',\n nan,\n 'https://www.ebay.com/itm/193691646060?nordt=true&orig_cvip=true&rt=nc',\n 'https://www.ebay.com/itm/325349047528?nordt=true&orig_cvip=true&rt=nc',\n nan,\n 'https://www.ebay.com/itm/194300315400?nordt=true&orig_cvip=true&rt=nc',\n 'https://www.ebay.com/itm/203658189990?nordt=true&orig_cvip=true&rt=nc',\n 'https://www.ebay.com/itm/234488379739?nordt=true&orig_cvip=true&rt=nc',\n nan,\n 'https://www.ebay.com/itm/174792647252?nordt=true&orig_cvip=true&rt=nc',\n 'https://www.ebay.com/itm/224697402234?nordt=true&orig_cvip=true&rt=nc',\n 'https://www.ebay.com/itm/203584555858?nordt=true&orig_cvip=true&rt=nc',\n 'https://www.ebay.com/itm/334100136428?nordt=true&orig_cvip=true&rt=nc',\n 'https://www.ebay.com/itm/255750740005?nordt=true&orig_cvip=true&rt=nc',\n 'https://www.ebay.com/itm/174535840714?nordt=true&orig_cvip=true&rt=nc',\n nan,\n nan,\n nan,\n 'https://www.ebay.com/itm/154395780765?nordt=true&orig_cvip=true&rt=nc',\n nan,\n 'https://www.ebay.com/itm/162363616288?nordt=true&orig_cvip=true&rt=nc',\n nan,\n 'https://www.ebay.com/itm/154468600087?nordt=true&orig_cvip=true&rt=nc',\n nan,\n 'https://www.ebay.com/itm/401948891983?nordt=true&orig_cvip=true&rt=nc',\n 'https://www.ebay.com/itm/125104945109?nordt=true&orig_cvip=true&rt=nc',\n 'https://www.ebay.com/itm/174918226951?nordt=true&orig_cvip=true&rt=nc',\n nan,\n 'https://www.ebay.com/itm/124824379591?nordt=true&orig_cvip=true&rt=nc',\n nan,\n nan,\n 'https://www.ebay.com/itm/124997193616?nordt=true&orig_cvip=true&rt=nc',\n nan,\n 'https://www.ebay.com/itm/155398208092?nordt=true&orig_cvip=true&rt=nc',\n nan,\n nan,\n nan,\n 'https://www.ebay.com/itm/124879813752?nordt=true&orig_cvip=true&rt=nc',\n 'https://www.ebay.com/itm/133883518502?nordt=true&orig_cvip=true&rt=nc',\n nan,\n 'https://www.ebay.com/itm/144070892239?nordt=true&orig_cvip=true&rt=nc',\n 'https://www.ebay.com/itm/164614386597?nordt=true&orig_cvip=true&rt=nc',\n nan,\n 'https://www.ebay.com/itm/124482698175?nordt=true&orig_cvip=true&rt=nc',\n 'https://www.ebay.com/itm/144556366223?nordt=true&orig_cvip=true&rt=nc',\n 'https://www.ebay.com/itm/362525704286?nordt=true&orig_cvip=true&rt=nc',\n 'https://www.ebay.com/itm/401941360145?nordt=true&orig_cvip=true&rt=nc',\n 'https://www.ebay.com/itm/313646455709?nordt=true&orig_cvip=true&rt=nc',\n nan,\n 'https://www.ebay.com/itm/402437230874?nordt=true&orig_cvip=true&rt=nc',\n 'https://www.ebay.com/itm/403082631594?nordt=true&orig_cvip=true&rt=nc',\n 'https://www.ebay.com/itm/313987548596?nordt=true&orig_cvip=true&rt=nc',\n 'https://www.ebay.com/itm/284087674475?nordt=true&orig_cvip=true&rt=nc',\n 'https://www.ebay.com/itm/325163084226?nordt=true&orig_cvip=true&rt=nc',\n nan,\n 'https://www.ebay.com/itm/203570672970?nordt=true&orig_cvip=true&rt=nc',\n 'https://www.ebay.com/itm/254736176500?nordt=true&orig_cvip=true&rt=nc',\n nan,\n nan,\n 'https://www.ebay.com/itm/402729169888?nordt=true&orig_cvip=true&rt=nc',\n 'https://www.ebay.com/itm/394205954469?nordt=true&orig_cvip=true&rt=nc',\n nan,\n 'https://www.ebay.com/itm/184820483037?nordt=true&orig_cvip=true&rt=nc',\n 'https://www.ebay.com/itm/224321755014?nordt=true&orig_cvip=true&rt=nc',\n 'https://www.ebay.com/itm/334100142838?nordt=true&orig_cvip=true&rt=nc',\n 'https://www.ebay.com/itm/174730599521?nordt=true&orig_cvip=true&rt=nc',\n 'https://www.ebay.com/itm/183742597352?nordt=true&orig_cvip=true&rt=nc',\n nan,\n nan,\n 'https://www.ebay.com/itm/144070892239?nordt=true&orig_cvip=true&rt=nc',\n 'https://www.ebay.com/itm/164614386597?nordt=true&orig_cvip=true&rt=nc',\n nan,\n 'https://www.ebay.com/itm/255580754718?nordt=true&orig_cvip=true&rt=nc',\n 'https://www.ebay.com/itm/202673610780?nordt=true&orig_cvip=true&rt=nc',\n 'https://www.ebay.com/itm/124482698175?nordt=true&orig_cvip=true&rt=nc',\n 'https://www.ebay.com/itm/144556366223?nordt=true&orig_cvip=true&rt=nc',\n 'https://www.ebay.com/itm/194306621863?nordt=true&orig_cvip=true&rt=nc',\n nan,\n nan,\n 'https://www.ebay.com/itm/194297332292?nordt=true&orig_cvip=true&rt=nc',\n 'https://www.ebay.com/itm/194299762708?nordt=true&orig_cvip=true&rt=nc',\n 'https://www.ebay.com/itm/224751863357?nordt=true&orig_cvip=true&rt=nc',\n nan,\n 'https://www.ebay.com/itm/185103351687?nordt=true&orig_cvip=true&rt=nc',\n 'https://www.ebay.com/itm/174571907158?nordt=true&orig_cvip=true&rt=nc',\n 'https://www.ebay.com/itm/193312812960?nordt=true&orig_cvip=true&rt=nc',\n nan,\n nan,\n 'https://www.ebay.com/itm/165723948455?nordt=true&orig_cvip=true&rt=nc',\n 'https://www.ebay.com/itm/165656727161?nordt=true&orig_cvip=true&rt=nc',\n 'https://www.ebay.com/itm/134281877123?nordt=true&orig_cvip=true&rt=nc',\n 'https://www.ebay.com/itm/133788565829?nordt=true&orig_cvip=true&rt=nc',\n 'https://www.ebay.com/itm/115240858132?nordt=true&orig_cvip=true&rt=nc',\n 'https://www.ebay.com/itm/225283012200?nordt=true&orig_cvip=true&rt=nc',\n nan,\n 'https://www.ebay.com/itm/323431647262?nordt=true&orig_cvip=true&rt=nc',\n 'https://www.ebay.com/itm/294175845363?nordt=true&orig_cvip=true&rt=nc',\n 'https://www.ebay.com/itm/383858323328?nordt=true&orig_cvip=true&rt=nc',\n nan,\n 'https://www.ebay.com/itm/265026754048?nordt=true&orig_cvip=true&rt=nc',\n 'https://www.ebay.com/itm/313646353339?nordt=true&orig_cvip=true&rt=nc',\n 'https://www.ebay.com/itm/362108949221?nordt=true&orig_cvip=true&rt=nc',\n nan,\n 'https://www.ebay.com/itm/254279015307?nordt=true&orig_cvip=true&rt=nc',\n nan,\n 'https://www.ebay.com/itm/362435884735?nordt=true&orig_cvip=true&rt=nc',\n 'https://www.ebay.com/itm/363712909918?nordt=true&orig_cvip=true&rt=nc',\n nan,\n 'https://www.ebay.com/itm/363712923708?nordt=true&orig_cvip=true&rt=nc',\n nan,\n 'https://www.ebay.com/itm/255107348793?nordt=true&orig_cvip=true&rt=nc',\n nan,\n nan,\n nan,\n 'https://www.ebay.com/itm/115240858132?nordt=true&orig_cvip=true&rt=nc',\n 'https://www.ebay.com/itm/225283012200?nordt=true&orig_cvip=true&rt=nc',\n nan,\n 'https://www.ebay.com/itm/164638937913?nordt=true&orig_cvip=true&rt=nc',\n 'https://www.ebay.com/itm/193786892621?nordt=true&orig_cvip=true&rt=nc',\n 'https://www.ebay.com/itm/193314396783?nordt=true&orig_cvip=true&rt=nc',\n 'https://www.ebay.com/itm/203551297190?nordt=true&orig_cvip=true&rt=nc',\n nan,\n 'https://www.ebay.com/itm/233416795867?nordt=true&orig_cvip=true&rt=nc',\n nan,\n nan,\n 'https://www.ebay.com/itm/195032808393?nordt=true&orig_cvip=true&rt=nc',\n 'https://www.ebay.com/itm/255670467920?nordt=true&orig_cvip=true&rt=nc',\n nan,\n nan,\n 'https://www.ebay.com/itm/115111822719?nordt=true&orig_cvip=true&rt=nc',\n nan,\n nan,\n nan,\n 'https://www.ebay.com/itm/134283349943?nordt=true&orig_cvip=true&rt=nc',\n nan,\n nan,\n 'https://www.ebay.com/itm/184879443244?nordt=true&orig_cvip=true&rt=nc',\n nan,\n 'https://www.ebay.com/itm/143744442378?nordt=true&orig_cvip=true&rt=nc',\n 'https://www.ebay.com/itm/125121599533?nordt=true&orig_cvip=true&rt=nc',\n 'https://www.ebay.com/itm/125464947357?nordt=true&orig_cvip=true&rt=nc',\n nan,\n 'https://www.ebay.com/itm/124888960267?nordt=true&orig_cvip=true&rt=nc',\n 'https://www.ebay.com/itm/144148545114?nordt=true&orig_cvip=true&rt=nc',\n nan,\n 'https://www.ebay.com/itm/284254311182?nordt=true&orig_cvip=true&rt=nc',\n 'https://www.ebay.com/itm/353640445665?nordt=true&orig_cvip=true&rt=nc',\n 'https://www.ebay.com/itm/274126087083?nordt=true&orig_cvip=true&rt=nc',\n 'https://www.ebay.com/itm/362435884735?nordt=true&orig_cvip=true&rt=nc',\n 'https://www.ebay.com/itm/324864256625?nordt=true&orig_cvip=true&rt=nc',\n 'https://www.ebay.com/itm/383913077364?nordt=true&orig_cvip=true&rt=nc',\n 'https://www.ebay.com/itm/274057682303?nordt=true&orig_cvip=true&rt=nc',\n nan,\n nan,\n 'https://www.ebay.com/itm/324890008231?nordt=true&orig_cvip=true&rt=nc',\n 'https://www.ebay.com/itm/393990691267?nordt=true&orig_cvip=true&rt=nc',\n nan,\n 'https://www.ebay.com/itm/255026904658?nordt=true&orig_cvip=true&rt=nc',\n nan,\n 'https://www.ebay.com/itm/313647898154?nordt=true&orig_cvip=true&rt=nc',\n 'https://www.ebay.com/itm/254038842493?nordt=true&orig_cvip=true&rt=nc',\n nan,\n 'https://www.ebay.com/itm/254922014572?nordt=true&orig_cvip=true&rt=nc',\n 'https://www.ebay.com/itm/401773239907?nordt=true&orig_cvip=true&rt=nc',\n nan,\n 'https://www.ebay.com/itm/125464947357?nordt=true&orig_cvip=true&rt=nc',\n nan,\n 'https://www.ebay.com/itm/124888960267?nordt=true&orig_cvip=true&rt=nc',\n 'https://www.ebay.com/itm/144148545114?nordt=true&orig_cvip=true&rt=nc',\n nan,\n 'https://www.ebay.com/itm/154302216230?nordt=true&orig_cvip=true&rt=nc',\n 'https://www.ebay.com/itm/183523799688?nordt=true&orig_cvip=true&rt=nc',\n 'https://www.ebay.com/itm/125053760063?nordt=true&orig_cvip=true&rt=nc',\n 'https://www.ebay.com/itm/183852179004?nordt=true&orig_cvip=true&rt=nc',\n nan,\n nan,\n 'https://www.ebay.com/itm/385371055183?nordt=true&orig_cvip=true&rt=nc',\n 'https://www.ebay.com/itm/194944680102?nordt=true&orig_cvip=true&rt=nc',\n nan,\n 'https://www.ebay.com/itm/254775601930?nordt=true&orig_cvip=true&rt=nc',\n 'https://www.ebay.com/itm/115159778984?nordt=true&orig_cvip=true&rt=nc',\n nan,\n nan,\n 'https://www.ebay.com/itm/144086301742?nordt=true&orig_cvip=true&rt=nc',\n nan,\n 'https://www.ebay.com/itm/202795461959?nordt=true&orig_cvip=true&rt=nc',\n 'https://www.ebay.com/itm/114690153019?nordt=true&orig_cvip=true&rt=nc',\n 'https://www.ebay.com/itm/175037333955?nordt=true&orig_cvip=true&rt=nc',\n 'https://www.ebay.com/itm/266102396154?nordt=true&orig_cvip=true&rt=nc',\n nan,\n nan,\n 'https://www.ebay.com/itm/194969873264?nordt=true&orig_cvip=true&rt=nc',\n 'https://www.ebay.com/itm/203607016547?nordt=true&orig_cvip=true&rt=nc',\n nan,\n nan,\n 'https://www.ebay.com/itm/383851942103?nordt=true&orig_cvip=true&rt=nc',\n nan,\n 'https://www.ebay.com/itm/384672996491?nordt=true&orig_cvip=true&rt=nc',\n nan,\n 'https://www.ebay.com/itm/401303606213?nordt=true&orig_cvip=true&rt=nc',\n 'https://www.ebay.com/itm/254995427714?nordt=true&orig_cvip=true&rt=nc',\n nan,\n 'https://www.ebay.com/itm/264854434421?nordt=true&orig_cvip=true&rt=nc',\n 'https://www.ebay.com/itm/313643804598?nordt=true&orig_cvip=true&rt=nc',\n nan,\n 'https://www.ebay.com/itm/402927669238?nordt=true&orig_cvip=true&rt=nc',\n 'https://www.ebay.com/itm/264393988484?nordt=true&orig_cvip=true&rt=nc',\n 'https://www.ebay.com/itm/193600718431?nordt=true&orig_cvip=true&rt=nc',\n nan,\n nan,\n 'https://www.ebay.com/itm/325462044268?nordt=true&orig_cvip=true&rt=nc',\n nan,\n nan,\n 'https://www.ebay.com/itm/194969873264?nordt=true&orig_cvip=true&rt=nc',\n 'https://www.ebay.com/itm/193303778538?nordt=true&orig_cvip=true&rt=nc',\n 'https://www.ebay.com/itm/203509905883?nordt=true&orig_cvip=true&rt=nc',\n 'https://www.ebay.com/itm/203607016547?nordt=true&orig_cvip=true&rt=nc',\n nan,\n 'https://www.ebay.com/itm/254976818945?nordt=true&orig_cvip=true&rt=nc',\n nan,\n 'https://www.ebay.com/itm/175060181744?nordt=true&orig_cvip=true&rt=nc',\n nan,\n 'https://www.ebay.com/itm/225041509407?nordt=true&orig_cvip=true&rt=nc',\n nan,\n 'https://www.ebay.com/itm/144275329295?nordt=true&orig_cvip=true&rt=nc',\n 'https://www.ebay.com/itm/194302277016?nordt=true&orig_cvip=true&rt=nc',\n 'https://www.ebay.com/itm/254835926946?nordt=true&orig_cvip=true&rt=nc',\n nan,\n 'https://www.ebay.com/itm/144041616501?nordt=true&orig_cvip=true&rt=nc',\n 'https://www.ebay.com/itm/224167168071?nordt=true&orig_cvip=true&rt=nc',\n 'https://www.ebay.com/itm/225253024927?nordt=true&orig_cvip=true&rt=nc',\n 'https://www.ebay.com/itm/203341001926?nordt=true&orig_cvip=true&rt=nc',\n 'https://www.ebay.com/itm/255863999753?nordt=true&orig_cvip=true&rt=nc',\n nan,\n 'https://www.ebay.com/itm/202831488627?nordt=true&orig_cvip=true&rt=nc',\n nan,\n 'https://www.ebay.com/itm/275564109930?nordt=true&orig_cvip=true&rt=nc',\n 'https://www.ebay.com/itm/234698929607?nordt=true&orig_cvip=true&rt=nc',\n 'https://www.ebay.com/itm/125187581973?nordt=true&orig_cvip=true&rt=nc',\n nan,\n 'https://www.ebay.com/itm/193320369297?nordt=true&orig_cvip=true&rt=nc',\n 'https://www.ebay.com/itm/194456218904?nordt=true&orig_cvip=true&rt=nc',\n 'https://www.ebay.com/itm/125065477214?nordt=true&orig_cvip=true&rt=nc',\n 'https://www.ebay.com/itm/125062140809?nordt=true&orig_cvip=true&rt=nc',\n nan,\n 'https://www.ebay.com/itm/383242901068?nordt=true&orig_cvip=true&rt=nc',\n 'https://www.ebay.com/itm/403570859319?nordt=true&orig_cvip=true&rt=nc',\n nan,\n nan,\n nan,\n nan,\n nan,\n nan,\n 'https://www.ebay.com/itm/402679012581?nordt=true&orig_cvip=true&rt=nc',\n 'https://www.ebay.com/itm/364013107027?nordt=true&orig_cvip=true&rt=nc',\n nan,\n nan,\n 'https://www.ebay.com/itm/255062634927?nordt=true&orig_cvip=true&rt=nc',\n nan,\n 'https://www.ebay.com/itm/125065477214?nordt=true&orig_cvip=true&rt=nc',\n 'https://www.ebay.com/itm/125062140809?nordt=true&orig_cvip=true&rt=nc',\n nan,\n nan,\n nan,\n 'https://www.ebay.com/itm/143932906791?nordt=true&orig_cvip=true&rt=nc',\n 'https://www.ebay.com/itm/113701518148?nordt=true&orig_cvip=true&rt=nc',\n 'https://www.ebay.com/itm/294381041990?nordt=true&orig_cvip=true&rt=nc',\n 'https://www.ebay.com/itm/164856267246?nordt=true&orig_cvip=true&rt=nc',\n nan,\n nan,\n nan,\n 'https://www.ebay.com/itm/233961691528?nordt=true&orig_cvip=true&rt=nc',\n nan,\n nan,\n 'https://www.ebay.com/itm/194297528016?nordt=true&orig_cvip=true&rt=nc',\n nan,\n 'https://www.ebay.com/itm/254467604626?nordt=true&orig_cvip=true&rt=nc',\n 'https://www.ebay.com/itm/174726618385?nordt=true&orig_cvip=true&rt=nc',\n 'https://www.ebay.com/itm/175218809985?nordt=true&orig_cvip=true&rt=nc',\n nan,\n 'https://www.ebay.com/itm/275436164404?nordt=true&orig_cvip=true&rt=nc',\n 'https://www.ebay.com/itm/114975211521?nordt=true&orig_cvip=true&rt=nc',\n 'https://www.ebay.com/itm/154513019808?nordt=true&orig_cvip=true&rt=nc',\n 'https://www.ebay.com/itm/164691966277?nordt=true&orig_cvip=true&rt=nc',\n 'https://www.ebay.com/itm/174218584845?nordt=true&orig_cvip=true&rt=nc',\n 'https://www.ebay.com/itm/195352648229?nordt=true&orig_cvip=true&rt=nc',\n nan,\n nan,\n nan,\n 'https://www.ebay.com/itm/124777535962?nordt=true&orig_cvip=true&rt=nc',\n nan,\n nan,\n 'https://www.ebay.com/itm/184660868051?nordt=true&orig_cvip=true&rt=nc',\n 'https://www.ebay.com/itm/223750746914?nordt=true&orig_cvip=true&rt=nc',\n 'https://www.ebay.com/itm/144032652820?nordt=true&orig_cvip=true&rt=nc',\n 'https://www.ebay.com/itm/401692084110?nordt=true&orig_cvip=true&rt=nc',\n 'https://www.ebay.com/itm/403043868287?nordt=true&orig_cvip=true&rt=nc',\n 'https://www.ebay.com/itm/382167562570?nordt=true&orig_cvip=true&rt=nc',\n 'https://www.ebay.com/itm/403088185249?nordt=true&orig_cvip=true&rt=nc',\n 'https://www.ebay.com/itm/373074170996?nordt=true&orig_cvip=true&rt=nc',\n 'https://www.ebay.com/itm/363606310689?nordt=true&orig_cvip=true&rt=nc',\n 'https://www.ebay.com/itm/284149683024?nordt=true&orig_cvip=true&rt=nc',\n 'https://www.ebay.com/itm/363789183414?nordt=true&orig_cvip=true&rt=nc',\n 'https://www.ebay.com/itm/402679018259?nordt=true&orig_cvip=true&rt=nc',\n nan,\n 'https://www.ebay.com/itm/313643815855?nordt=true&orig_cvip=true&rt=nc',\n nan,\n nan,\n 'https://www.ebay.com/itm/184660868051?nordt=true&orig_cvip=true&rt=nc',\n 'https://www.ebay.com/itm/254574854591?nordt=true&orig_cvip=true&rt=nc',\n 'https://www.ebay.com/itm/404124939335?nordt=true&orig_cvip=true&rt=nc',\n 'https://www.ebay.com/itm/223750746914?nordt=true&orig_cvip=true&rt=nc',\n 'https://www.ebay.com/itm/144032652820?nordt=true&orig_cvip=true&rt=nc',\n 'https://www.ebay.com/itm/174165785618?nordt=true&orig_cvip=true&rt=nc',\n nan,\n nan,\n nan,\n 'https://www.ebay.com/itm/183820210929?nordt=true&orig_cvip=true&rt=nc',\n 'https://www.ebay.com/itm/184593315202?nordt=true&orig_cvip=true&rt=nc',\n 'https://www.ebay.com/itm/194994080190?nordt=true&orig_cvip=true&rt=nc',\n 'https://www.ebay.com/itm/255534549715?nordt=true&orig_cvip=true&rt=nc',\n 'https://www.ebay.com/itm/192999206009?nordt=true&orig_cvip=true&rt=nc',\n 'https://www.ebay.com/itm/275042951886?nordt=true&orig_cvip=true&rt=nc',\n 'https://www.ebay.com/itm/193602425391?nordt=true&orig_cvip=true&rt=nc',\n 'https://www.ebay.com/itm/225071975827?nordt=true&orig_cvip=true&rt=nc',\n 'https://www.ebay.com/itm/284649559069?nordt=true&orig_cvip=true&rt=nc',\n 'https://www.ebay.com/itm/324764852548?nordt=true&orig_cvip=true&rt=nc',\n 'https://www.ebay.com/itm/265502968194?nordt=true&orig_cvip=true&rt=nc',\n 'https://www.ebay.com/itm/114934562488?nordt=true&orig_cvip=true&rt=nc',\n 'https://www.ebay.com/itm/225022975405?nordt=true&orig_cvip=true&rt=nc',\n 'https://www.ebay.com/itm/114661257076?nordt=true&orig_cvip=true&rt=nc',\n 'https://www.ebay.com/itm/255059081459?nordt=true&orig_cvip=true&rt=nc',\n nan,\n 'https://www.ebay.com/itm/174901360301?nordt=true&orig_cvip=true&rt=nc',\n 'https://www.ebay.com/itm/255702598592?nordt=true&orig_cvip=true&rt=nc',\n 'https://www.ebay.com/itm/124519586330?nordt=true&orig_cvip=true&rt=nc',\n nan,\n 'https://www.ebay.com/itm/254470000211?nordt=true&orig_cvip=true&rt=nc',\n 'https://www.ebay.com/itm/194306624490?nordt=true&orig_cvip=true&rt=nc',\n nan,\n nan,\n 'https://www.ebay.com/itm/144967883306?nordt=true&orig_cvip=true&rt=nc',\n nan,\n 'https://www.ebay.com/itm/194299771051?nordt=true&orig_cvip=true&rt=nc',\n 'https://www.ebay.com/itm/184531956434?nordt=true&orig_cvip=true&rt=nc',\n 'https://www.ebay.com/itm/402599933951?nordt=true&orig_cvip=true&rt=nc',\n 'https://www.ebay.com/itm/403246244244?nordt=true&orig_cvip=true&rt=nc',\n 'https://www.ebay.com/itm/384308530199?nordt=true&orig_cvip=true&rt=nc',\n nan,\n nan,\n 'https://www.ebay.com/itm/294175876495?nordt=true&orig_cvip=true&rt=nc',\n 'https://www.ebay.com/itm/324764852548?nordt=true&orig_cvip=true&rt=nc',\n nan,\n nan,\n nan,\n 'https://www.ebay.com/itm/124519586330?nordt=true&orig_cvip=true&rt=nc',\n nan,\n 'https://www.ebay.com/itm/254470000211?nordt=true&orig_cvip=true&rt=nc',\n 'https://www.ebay.com/itm/194306624490?nordt=true&orig_cvip=true&rt=nc',\n nan,\n 'https://www.ebay.com/itm/312259316341?nordt=true&orig_cvip=true&rt=nc',\n 'https://www.ebay.com/itm/144967883306?nordt=true&orig_cvip=true&rt=nc',\n 'https://www.ebay.com/itm/194299771051?nordt=true&orig_cvip=true&rt=nc',\n 'https://www.ebay.com/itm/284171810620?nordt=true&orig_cvip=true&rt=nc',\n nan,\n 'https://www.ebay.com/itm/184531956434?nordt=true&orig_cvip=true&rt=nc',\n 'https://www.ebay.com/itm/185397719298?nordt=true&orig_cvip=true&rt=nc',\n 'https://www.ebay.com/itm/185532570273?nordt=true&orig_cvip=true&rt=nc',\n 'https://www.ebay.com/itm/225460643275?nordt=true&orig_cvip=true&rt=nc',\n 'https://www.ebay.com/itm/255374972423?nordt=true&orig_cvip=true&rt=nc',\n nan,\n nan,\n 'https://www.ebay.com/itm/114930431481?nordt=true&orig_cvip=true&rt=nc',\n nan,\n 'https://www.ebay.com/itm/174911584500?nordt=true&orig_cvip=true&rt=nc',\n nan,\n nan,\n 'https://www.ebay.com/itm/224532681180?nordt=true&orig_cvip=true&rt=nc',\n nan,\n nan,\n nan,\n 'https://www.ebay.com/itm/313643795539?nordt=true&orig_cvip=true&rt=nc',\n nan,\n 'https://www.ebay.com/itm/204036663040?nordt=true&orig_cvip=true&rt=nc',\n nan,\n nan,\n nan,\n 'https://www.ebay.com/itm/254497137103?nordt=true&orig_cvip=true&rt=nc',\n 'https://www.ebay.com/itm/113848481976?nordt=true&orig_cvip=true&rt=nc',\n nan,\n 'https://www.ebay.com/itm/255178803420?nordt=true&orig_cvip=true&rt=nc',\n nan,\n 'https://www.ebay.com/itm/134116496174?nordt=true&orig_cvip=true&rt=nc',\n 'https://www.ebay.com/itm/255662915528?nordt=true&orig_cvip=true&rt=nc',\n nan,\n 'https://www.ebay.com/itm/382745110337?nordt=true&orig_cvip=true&rt=nc',\n 'https://www.ebay.com/itm/383679977774?nordt=true&orig_cvip=true&rt=nc',\n 'https://www.ebay.com/itm/393387662614?nordt=true&orig_cvip=true&rt=nc',\n 'https://www.ebay.com/itm/333556258715?nordt=true&orig_cvip=true&rt=nc',\n 'https://www.ebay.com/itm/113848481976?nordt=true&orig_cvip=true&rt=nc',\n nan,\n 'https://www.ebay.com/itm/255178803420?nordt=true&orig_cvip=true&rt=nc',\n nan,\n 'https://www.ebay.com/itm/284207196862?nordt=true&orig_cvip=true&rt=nc',\n nan,\n 'https://www.ebay.com/itm/134116496174?nordt=true&orig_cvip=true&rt=nc',\n 'https://www.ebay.com/itm/255662915528?nordt=true&orig_cvip=true&rt=nc',\n nan,\n nan,\n 'https://www.ebay.com/itm/174673676839?nordt=true&orig_cvip=true&rt=nc',\n 'https://www.ebay.com/itm/174798673790?nordt=true&orig_cvip=true&rt=nc',\n 'https://www.ebay.com/itm/203600323300?nordt=true&orig_cvip=true&rt=nc',\n nan,\n 'https://www.ebay.com/itm/374118931119?nordt=true&orig_cvip=true&rt=nc',\n 'https://www.ebay.com/itm/114782470119?nordt=true&orig_cvip=true&rt=nc',\n nan,\n nan,\n 'https://www.ebay.com/itm/203975027812?nordt=true&orig_cvip=true&rt=nc',\n 'https://www.ebay.com/itm/204087985733?nordt=true&orig_cvip=true&rt=nc',\n 'https://www.ebay.com/itm/254434966762?nordt=true&orig_cvip=true&rt=nc',\n nan,\n 'https://www.ebay.com/itm/324890008264?nordt=true&orig_cvip=true&rt=nc',\n 'https://www.ebay.com/itm/363994799020?nordt=true&orig_cvip=true&rt=nc',\n nan,\n 'https://www.ebay.com/itm/193700766436?nordt=true&orig_cvip=true&rt=nc',\n nan,\n 'https://www.ebay.com/itm/115296789546?nordt=true&orig_cvip=true&rt=nc',\n nan,\n 'https://www.ebay.com/itm/134406545912?nordt=true&orig_cvip=true&rt=nc',\n nan,\n nan,\n 'https://www.ebay.com/itm/174955432545?nordt=true&orig_cvip=true&rt=nc',\n 'https://www.ebay.com/itm/223182807250?nordt=true&orig_cvip=true&rt=nc',\n nan,\n 'https://www.ebay.com/itm/254737765290?nordt=true&orig_cvip=true&rt=nc',\n 'https://www.ebay.com/itm/254740560062?nordt=true&orig_cvip=true&rt=nc',\n nan,\n nan,\n 'https://www.ebay.com/itm/255001408706?nordt=true&orig_cvip=true&rt=nc',\n 'https://www.ebay.com/itm/124822746274?nordt=true&orig_cvip=true&rt=nc',\n 'https://www.ebay.com/itm/364051127926?nordt=true&orig_cvip=true&rt=nc',\n nan,\n nan,\n 'https://www.ebay.com/itm/193176249358?nordt=true&orig_cvip=true&rt=nc',\n 'https://www.ebay.com/itm/314154440299?nordt=true&orig_cvip=true&rt=nc',\n 'https://www.ebay.com/itm/401701520722?nordt=true&orig_cvip=true&rt=nc',\n 'https://www.ebay.com/itm/402050081302?nordt=true&orig_cvip=true&rt=nc',\n 'https://www.ebay.com/itm/403083766385?nordt=true&orig_cvip=true&rt=nc',\n 'https://www.ebay.com/itm/382031276885?nordt=true&orig_cvip=true&rt=nc',\n 'https://www.ebay.com/itm/402071722493?nordt=true&orig_cvip=true&rt=nc',\n 'https://www.ebay.com/itm/324569603115?nordt=true&orig_cvip=true&rt=nc',\n 'https://www.ebay.com/itm/363318325397?nordt=true&orig_cvip=true&rt=nc',\n 'https://www.ebay.com/itm/124822746274?nordt=true&orig_cvip=true&rt=nc',\n 'https://www.ebay.com/itm/364051127926?nordt=true&orig_cvip=true&rt=nc',\n nan,\n nan,\n 'https://www.ebay.com/itm/193176249358?nordt=true&orig_cvip=true&rt=nc',\n nan,\n 'https://www.ebay.com/itm/314154440299?nordt=true&orig_cvip=true&rt=nc',\n 'https://www.ebay.com/itm/403448551891?nordt=true&orig_cvip=true&rt=nc',\n nan,\n 'https://www.ebay.com/itm/254189911318?nordt=true&orig_cvip=true&rt=nc',\n 'https://www.ebay.com/itm/364016785976?nordt=true&orig_cvip=true&rt=nc',\n nan,\n 'https://www.ebay.com/itm/225152256686?nordt=true&orig_cvip=true&rt=nc',\n nan,\n nan,\n nan,\n 'https://www.ebay.com/itm/284864504402?nordt=true&orig_cvip=true&rt=nc',\n 'https://www.ebay.com/itm/144342584986?nordt=true&orig_cvip=true&rt=nc',\n nan,\n 'https://www.ebay.com/itm/254719885222?nordt=true&orig_cvip=true&rt=nc',\n 'https://www.ebay.com/itm/363884191049?nordt=true&orig_cvip=true&rt=nc',\n nan,\n nan,\n nan,\n nan,\n 'https://www.ebay.com/itm/175219758127?nordt=true&orig_cvip=true&rt=nc',\n 'https://www.ebay.com/itm/334300581934?nordt=true&orig_cvip=true&rt=nc',\n nan,\n 'https://www.ebay.com/itm/193322614988?nordt=true&orig_cvip=true&rt=nc',\n nan,\n nan,\n 'https://www.ebay.com/itm/363946692318?nordt=true&orig_cvip=true&rt=nc',\n 'https://www.ebay.com/itm/385437700621?nordt=true&orig_cvip=true&rt=nc',\n nan,\n 'https://www.ebay.com/itm/284127186553?nordt=true&orig_cvip=true&rt=nc',\n 'https://www.ebay.com/itm/203795713410?nordt=true&orig_cvip=true&rt=nc',\n 'https://www.ebay.com/itm/164363187824?nordt=true&orig_cvip=true&rt=nc',\n nan,\n 'https://www.ebay.com/itm/193347946564?nordt=true&orig_cvip=true&rt=nc',\n 'https://www.ebay.com/itm/255113699970?nordt=true&orig_cvip=true&rt=nc',\n 'https://www.ebay.com/itm/284564753905?nordt=true&orig_cvip=true&rt=nc',\n 'https://www.ebay.com/itm/183906942725?nordt=true&orig_cvip=true&rt=nc',\n 'https://www.ebay.com/itm/202490325359?nordt=true&orig_cvip=true&rt=nc',\n 'https://www.ebay.com/itm/402890925051?nordt=true&orig_cvip=true&rt=nc',\n 'https://www.ebay.com/itm/401802475382?nordt=true&orig_cvip=true&rt=nc',\n 'https://www.ebay.com/itm/363132933932?nordt=true&orig_cvip=true&rt=nc',\n 'https://www.ebay.com/itm/401993810310?nordt=true&orig_cvip=true&rt=nc',\n 'https://www.ebay.com/itm/402909477224?nordt=true&orig_cvip=true&rt=nc',\n 'https://www.ebay.com/itm/401711934789?nordt=true&orig_cvip=true&rt=nc',\n 'https://www.ebay.com/itm/352615843654?nordt=true&orig_cvip=true&rt=nc',\n 'https://www.ebay.com/itm/363276125904?nordt=true&orig_cvip=true&rt=nc',\n 'https://www.ebay.com/itm/382942826227?nordt=true&orig_cvip=true&rt=nc',\n 'https://www.ebay.com/itm/383253407889?nordt=true&orig_cvip=true&rt=nc',\n 'https://www.ebay.com/itm/383852094252?nordt=true&orig_cvip=true&rt=nc',\n nan,\n 'https://www.ebay.com/itm/203795713410?nordt=true&orig_cvip=true&rt=nc',\n 'https://www.ebay.com/itm/164363187824?nordt=true&orig_cvip=true&rt=nc',\n nan,\n 'https://www.ebay.com/itm/193347946564?nordt=true&orig_cvip=true&rt=nc',\n 'https://www.ebay.com/itm/255113699970?nordt=true&orig_cvip=true&rt=nc',\n 'https://www.ebay.com/itm/284564753905?nordt=true&orig_cvip=true&rt=nc',\n nan,\n 'https://www.ebay.com/itm/183906942725?nordt=true&orig_cvip=true&rt=nc',\n 'https://www.ebay.com/itm/202490325359?nordt=true&orig_cvip=true&rt=nc',\n nan,\n 'https://www.ebay.com/itm/124883068921?nordt=true&orig_cvip=true&rt=nc',\n nan,\n 'https://www.ebay.com/itm/185015120081?nordt=true&orig_cvip=true&rt=nc',\n nan,\n nan,\n 'https://www.ebay.com/itm/403091026124?nordt=true&orig_cvip=true&rt=nc',\n nan,\n 'https://www.ebay.com/itm/194516793782?nordt=true&orig_cvip=true&rt=nc',\n nan,\n 'https://www.ebay.com/itm/274651619607?nordt=true&orig_cvip=true&rt=nc',\n nan,\n 'https://www.ebay.com/itm/115201037759?nordt=true&orig_cvip=true&rt=nc',\n nan,\n 'https://www.ebay.com/itm/193344075876?nordt=true&orig_cvip=true&rt=nc',\n nan,\n 'https://www.ebay.com/itm/114690140441?nordt=true&orig_cvip=true&rt=nc',\n 'https://www.ebay.com/itm/144747997919?nordt=true&orig_cvip=true&rt=nc',\n 'https://www.ebay.com/itm/193322607001?nordt=true&orig_cvip=true&rt=nc',\n 'https://www.ebay.com/itm/274076439585?nordt=true&orig_cvip=true&rt=nc',\n nan,\n 'https://www.ebay.com/itm/313646460341?nordt=true&orig_cvip=true&rt=nc',\n nan,\n 'https://www.ebay.com/itm/174168225624?nordt=true&orig_cvip=true&rt=nc',\n 'https://www.ebay.com/itm/203600333653?nordt=true&orig_cvip=true&rt=nc',\n nan,\n 'https://www.ebay.com/itm/134011051443?nordt=true&orig_cvip=true&rt=nc',\n 'https://www.ebay.com/itm/164961612797?nordt=true&orig_cvip=true&rt=nc',\n 'https://www.ebay.com/itm/194194277964?nordt=true&orig_cvip=true&rt=nc',\n 'https://www.ebay.com/itm/383242903131?nordt=true&orig_cvip=true&rt=nc',\n 'https://www.ebay.com/itm/402670805946?nordt=true&orig_cvip=true&rt=nc',\n 'https://www.ebay.com/itm/382231858388?nordt=true&orig_cvip=true&rt=nc',\n 'https://www.ebay.com/itm/401958857410?nordt=true&orig_cvip=true&rt=nc',\n 'https://www.ebay.com/itm/362433038293?nordt=true&orig_cvip=true&rt=nc',\n 'https://www.ebay.com/itm/362519277465?nordt=true&orig_cvip=true&rt=nc',\n nan,\n 'https://www.ebay.com/itm/402050021110?nordt=true&orig_cvip=true&rt=nc',\n 'https://www.ebay.com/itm/363276131710?nordt=true&orig_cvip=true&rt=nc',\n nan,\n 'https://www.ebay.com/itm/174168225624?nordt=true&orig_cvip=true&rt=nc',\n 'https://www.ebay.com/itm/203600333653?nordt=true&orig_cvip=true&rt=nc',\n nan,\n nan,\n 'https://www.ebay.com/itm/134011051443?nordt=true&orig_cvip=true&rt=nc',\n 'https://www.ebay.com/itm/164961612797?nordt=true&orig_cvip=true&rt=nc',\n 'https://www.ebay.com/itm/194194277964?nordt=true&orig_cvip=true&rt=nc',\n 'https://www.ebay.com/itm/225223714792?nordt=true&orig_cvip=true&rt=nc',\n nan,\n 'https://www.ebay.com/itm/384326370216?nordt=true&orig_cvip=true&rt=nc',\n 'https://www.ebay.com/itm/194223952350?nordt=true&orig_cvip=true&rt=nc',\n nan,\n 'https://www.ebay.com/itm/403997427528?nordt=true&orig_cvip=true&rt=nc',\n 'https://www.ebay.com/itm/254932898107?nordt=true&orig_cvip=true&rt=nc',\n nan,\n 'https://www.ebay.com/itm/255140483094?nordt=true&orig_cvip=true&rt=nc',\n 'https://www.ebay.com/itm/185428786937?nordt=true&orig_cvip=true&rt=nc',\n 'https://www.ebay.com/itm/334306042273?nordt=true&orig_cvip=true&rt=nc',\n 'https://www.ebay.com/itm/363732557974?nordt=true&orig_cvip=true&rt=nc',\n 'https://www.ebay.com/itm/114690129178?nordt=true&orig_cvip=true&rt=nc',\n nan,\n nan,\n 'https://www.ebay.com/itm/255391975676?nordt=true&orig_cvip=true&rt=nc',\n 'https://www.ebay.com/itm/284920432756?nordt=true&orig_cvip=true&rt=nc',\n nan,\n nan,\n 'https://www.ebay.com/itm/193313103879?nordt=true&orig_cvip=true&rt=nc',\n 'https://www.ebay.com/itm/255531317878?nordt=true&orig_cvip=true&rt=nc',\n nan,\n 'https://www.ebay.com/itm/364121755388?nordt=true&orig_cvip=true&rt=nc',\n nan,\n 'https://www.ebay.com/itm/184593317085?nordt=true&orig_cvip=true&rt=nc',\n 'https://www.ebay.com/itm/275257433179?nordt=true&orig_cvip=true&rt=nc',\n 'https://www.ebay.com/itm/384343440946?nordt=true&orig_cvip=true&rt=nc',\n 'https://www.ebay.com/itm/394173639247?nordt=true&orig_cvip=true&rt=nc',\n nan,\n 'https://www.ebay.com/itm/124832369687?nordt=true&orig_cvip=true&rt=nc',\n nan,\n 'https://www.ebay.com/itm/185482778635?nordt=true&orig_cvip=true&rt=nc',\n 'https://www.ebay.com/itm/185186865969?nordt=true&orig_cvip=true&rt=nc',\n ...]"
     },
     "execution_count": 3,
     "metadata": {},
     "output_type": "execute_result"
    }
   ],
   "source": [
    "Links = df.Link.tolist()\n",
    "Links[0:10]"
   ],
   "metadata": {
    "collapsed": false,
    "pycharm": {
     "name": "#%%\n"
    }
   }
  },
  {
   "cell_type": "code",
   "execution_count": 4,
   "outputs": [
    {
     "data": {
      "text/plain": "False"
     },
     "execution_count": 4,
     "metadata": {},
     "output_type": "execute_result"
    }
   ],
   "source": [
    "while np.nan in Links:\n",
    "    Links.remove(np.nan)\n",
    "None in Links"
   ],
   "metadata": {
    "collapsed": false,
    "pycharm": {
     "name": "#%%\n"
    }
   }
  },
  {
   "cell_type": "code",
   "execution_count": 5,
   "outputs": [
    {
     "data": {
      "text/plain": "2924"
     },
     "execution_count": 5,
     "metadata": {},
     "output_type": "execute_result"
    }
   ],
   "source": [
    "len(Links)"
   ],
   "metadata": {
    "collapsed": false,
    "pycharm": {
     "name": "#%%\n"
    }
   }
  },
  {
   "cell_type": "code",
   "execution_count": 8,
   "outputs": [
    {
     "name": "stderr",
     "output_type": "stream",
     "text": [
      " 19%|█▊        | 546/2924 [43:47<2:12:32,  3.34s/it]"
     ]
    },
    {
     "name": "stdout",
     "output_type": "stream",
     "text": [
      "Нащальника, не получилось: https://www.ebay.com/itm/254434966762?nordt=true&orig_cvip=true&rt=nc\n"
     ]
    },
    {
     "name": "stderr",
     "output_type": "stream",
     "text": [
      " 36%|███▌      | 1044/2924 [1:21:46<1:55:28,  3.69s/it]"
     ]
    },
    {
     "name": "stdout",
     "output_type": "stream",
     "text": [
      "Нащальника, не получилось: https://www.ebay.com/itm/143883489459?nordt=true&orig_cvip=true&rt=nc\n"
     ]
    },
    {
     "name": "stderr",
     "output_type": "stream",
     "text": [
      " 41%|████      | 1205/2924 [1:33:45<1:26:48,  3.03s/it]"
     ]
    },
    {
     "name": "stdout",
     "output_type": "stream",
     "text": [
      "Нащальника, не получилось: https://www.ebay.com/itm/133960540062?nordt=true&orig_cvip=true&rt=nc\n"
     ]
    },
    {
     "name": "stderr",
     "output_type": "stream",
     "text": [
      " 51%|█████     | 1493/2924 [1:56:15<1:35:48,  4.02s/it]"
     ]
    },
    {
     "name": "stdout",
     "output_type": "stream",
     "text": [
      "Нащальника, не получилось: https://www.ebay.com/itm/354582083883?nordt=true&orig_cvip=true&rt=nc\n"
     ]
    },
    {
     "name": "stderr",
     "output_type": "stream",
     "text": [
      " 65%|██████▍   | 1900/2924 [2:27:11<57:41,  3.38s/it]  "
     ]
    },
    {
     "name": "stdout",
     "output_type": "stream",
     "text": [
      "Нащальника, не получилось: https://www.ebay.com/itm/354618457084?nordt=true&orig_cvip=true&rt=nc\n"
     ]
    },
    {
     "name": "stderr",
     "output_type": "stream",
     "text": [
      " 66%|██████▌   | 1932/2924 [2:29:34<1:01:07,  3.70s/it]"
     ]
    },
    {
     "name": "stdout",
     "output_type": "stream",
     "text": [
      "Нащальника, не получилось: https://www.ebay.com/itm/125489567873?nordt=true&orig_cvip=true&rt=nc\n"
     ]
    },
    {
     "name": "stderr",
     "output_type": "stream",
     "text": [
      " 69%|██████▉   | 2021/2924 [2:36:38<1:00:55,  4.05s/it]"
     ]
    },
    {
     "name": "stdout",
     "output_type": "stream",
     "text": [
      "Нащальника, не получилось: https://www.ebay.com/itm/353022115096?nordt=true&orig_cvip=true&rt=nc\n"
     ]
    },
    {
     "name": "stderr",
     "output_type": "stream",
     "text": [
      "100%|██████████| 2924/2924 [3:48:11<00:00,  4.68s/it]  \n"
     ]
    }
   ],
   "source": [
    "import time\n",
    "import random\n",
    "\n",
    "characteristics_df = pd.DataFrame()\n",
    "undone = []\n",
    "\n",
    "# Задержка перед каждым запросом\n",
    "def delay():\n",
    "    time.sleep(random.uniform(1, 5))  # Измените значения задержки по своему усмотрению\n",
    "\n",
    "def req_parser(url):\n",
    "    global characteristics_df, undone\n",
    "\n",
    "    try:\n",
    "        # Отправляем GET-запрос и получаем ответ\n",
    "        response = requests.get(url)\n",
    "\n",
    "        # Получаем HTML-код страницы\n",
    "        html = response.text\n",
    "\n",
    "        # Создаем объект BeautifulSoup\n",
    "        soup = BeautifulSoup(html, 'html.parser')\n",
    "\n",
    "        # Находим родительский элемент\n",
    "        parent_element = soup.find('div', class_='ux-layout-section--features')\n",
    "\n",
    "        # Initialize an empty dictionary to store the characteristics\n",
    "        characteristics = {\"Link\": url}\n",
    "        done = []\n",
    "\n",
    "        # Find all the characteristic rows\n",
    "        rows = parent_element.find_all('div', class_='ux-layout-section-evo__row')\n",
    "\n",
    "        # Iterate over each row and extract the characteristic name and value\n",
    "        for row in rows:\n",
    "            name_element = row.find_all('div', class_='ux-labels-values__labels')\n",
    "            value_element = row.find_all('div', class_='ux-labels-values__values-content')\n",
    "\n",
    "            for name, value in zip(name_element, value_element):\n",
    "                if name and value:\n",
    "                    name_text = name.get_text(strip=True)\n",
    "                    value_text = value.get_text(strip=True)\n",
    "                    if name_text not in done and value_text not in done:\n",
    "                        characteristics[name_text] = value_text\n",
    "                        done.append(name_text)\n",
    "                        done.append(value_text)\n",
    "\n",
    "        characteristics_df = characteristics_df.append(characteristics, ignore_index=True)\n",
    "\n",
    "        # Задержка перед следующим запросом\n",
    "        delay()\n",
    "\n",
    "    except:\n",
    "        print(\"Нащальника, не получилось:\", url)\n",
    "        undone.append(url)\n",
    "\n",
    "\n",
    "for url in tqdm(Links):\n",
    "    req_parser(url)\n",
    "\n",
    "characteristics_df.to_csv(\"characteristics.tsv\", sep='\\t', index=False)"
   ],
   "metadata": {
    "collapsed": false,
    "pycharm": {
     "name": "#%%\n"
    }
   }
  },
  {
   "cell_type": "code",
   "execution_count": null,
   "outputs": [],
   "source": [],
   "metadata": {
    "collapsed": false,
    "pycharm": {
     "name": "#%%\n"
    }
   }
  }
 ],
 "metadata": {
  "kernelspec": {
   "display_name": "Python 3",
   "language": "python",
   "name": "python3"
  },
  "language_info": {
   "codemirror_mode": {
    "name": "ipython",
    "version": 2
   },
   "file_extension": ".py",
   "mimetype": "text/x-python",
   "name": "python",
   "nbconvert_exporter": "python",
   "pygments_lexer": "ipython2",
   "version": "2.7.6"
  }
 },
 "nbformat": 4,
 "nbformat_minor": 0
}