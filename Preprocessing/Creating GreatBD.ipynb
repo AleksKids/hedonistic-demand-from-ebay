{
 "cells": [
  {
   "cell_type": "markdown",
   "source": [
    "# Объединение всех 3-х таблиц вместе и их обработка для дальнейшего использования в моделях"
   ],
   "metadata": {
    "collapsed": false
   }
  },
  {
   "cell_type": "code",
   "execution_count": 1,
   "outputs": [],
   "source": [
    "import pandas as pd\n",
    "import re\n",
    "import numpy as np"
   ],
   "metadata": {
    "collapsed": false,
    "pycharm": {
     "name": "#%%\n"
    }
   }
  },
  {
   "cell_type": "code",
   "execution_count": 3,
   "metadata": {
    "collapsed": true
   },
   "outputs": [],
   "source": [
    "Global = pd.read_csv('https://raw.githubusercontent.com/AleksKids/hedonistic-demand-from-ebay/main/Preprocessing/Global/Global%20preprocessed.tsv', delimiter = '\\t')\n",
    "Nokia = pd.read_csv('https://raw.githubusercontent.com/AleksKids/hedonistic-demand-from-ebay/main/Preprocessing/Nokia/Nokia%20preprocessed.tsv', delimiter = '\\t')\n",
    "Redmi = pd.read_csv('https://raw.githubusercontent.com/AleksKids/hedonistic-demand-from-ebay/main/Preprocessing/Redmi/Redmi%20preprocessed.tsv', delimiter = '\\t')"
   ]
  },
  {
   "cell_type": "markdown",
   "source": [
    "\"Is_Target\" = 1 -  выборка из Redmi и Nokia для которых будем строить оценки"
   ],
   "metadata": {
    "collapsed": false
   }
  },
  {
   "cell_type": "code",
   "execution_count": 15,
   "outputs": [],
   "source": [
    "Global['Last_Sale'] = pd.to_datetime('2023-06-14')\n",
    "Global[\"Is_Target\"] = 0"
   ],
   "metadata": {
    "collapsed": false,
    "pycharm": {
     "name": "#%%\n"
    }
   }
  },
  {
   "cell_type": "code",
   "execution_count": 16,
   "outputs": [
    {
     "data": {
      "text/plain": "                                               Title   Price  Shipping_cost  \\\n0  Apple iPhone 11 64GB Factory Unlocked 4G LTE S...  337.59           0.00   \n1  Apple iPhone XR 64GB Factory Unlocked Smartpho...  266.28           0.00   \n2  Apple iPhone 11 64GB Unlocked Smartphone - Ver...  359.11          16.93   \n3  Apple iPhone X 64GB Factory Unlocked Phone - V...  231.98          16.50   \n4  Apple iPhone X 256GB Unlocked Smartphone - Ver...  263.59          15.34   \n\n   Sales_Count  Sales_Value  \\\n0      19787.0   6679958.00   \n1      12440.0   3312560.60   \n2      12224.0   4389742.37   \n3      11781.0   2732899.88   \n4      10020.0   2641203.85   \n\n                                                Link                Condition  \\\n0  https://www.ebay.com/itm/254604777645?nordt=tr...  Very Good - Refurbished   \n1  https://www.ebay.com/itm/254187678666?nordt=tr...  Very Good - Refurbished   \n2  https://www.ebay.com/itm/363183815277?nordt=tr...  Very Good - Refurbished   \n3  https://www.ebay.com/itm/382605209867?nordt=tr...  Very Good - Refurbished   \n4  https://www.ebay.com/itm/382446518910?nordt=tr...  Very Good - Refurbished   \n\n                                        Seller Notes  Brand            Model  \\\n0  “This iPhone 11 is in Very Good condition and ...  apple        iPhone 11   \n1  “This Apple iPhone XR 64GB Factory Unlocked Sm...  apple        iPhone XR   \n2  “This is a B+ Stock item, meaning unit is in v...  apple  Apple iPhone 11   \n3  “This is a B+ Stock item, meaning unit is in v...  apple   Apple iPhone X   \n4  “This is a B+ Stock item, meaning unit is in v...  apple   Apple iPhone X   \n\n   ...  OTG Infrared  Lightning  Quad-Band Tri-Band  Wireless charging WAP  \\\n0  ...    0        0          0          0        0                  0   0   \n1  ...    0        0          0          0        0                  0   0   \n2  ...    0        0          0          0        0                  0   0   \n3  ...    1        1          1          1        1                  1   1   \n4  ...    0        0          0          0        0                  0   0   \n\n  WCDMA  Last_Sale Is_Target  \n0     0 2023-06-14         0  \n1     0 2023-06-14         0  \n2     0 2023-06-14         0  \n3     1 2023-06-14         0  \n4     0 2023-06-14         0  \n\n[5 rows x 65 columns]",
      "text/html": "<div>\n<style scoped>\n    .dataframe tbody tr th:only-of-type {\n        vertical-align: middle;\n    }\n\n    .dataframe tbody tr th {\n        vertical-align: top;\n    }\n\n    .dataframe thead th {\n        text-align: right;\n    }\n</style>\n<table border=\"1\" class=\"dataframe\">\n  <thead>\n    <tr style=\"text-align: right;\">\n      <th></th>\n      <th>Title</th>\n      <th>Price</th>\n      <th>Shipping_cost</th>\n      <th>Sales_Count</th>\n      <th>Sales_Value</th>\n      <th>Link</th>\n      <th>Condition</th>\n      <th>Seller Notes</th>\n      <th>Brand</th>\n      <th>Model</th>\n      <th>...</th>\n      <th>OTG</th>\n      <th>Infrared</th>\n      <th>Lightning</th>\n      <th>Quad-Band</th>\n      <th>Tri-Band</th>\n      <th>Wireless charging</th>\n      <th>WAP</th>\n      <th>WCDMA</th>\n      <th>Last_Sale</th>\n      <th>Is_Target</th>\n    </tr>\n  </thead>\n  <tbody>\n    <tr>\n      <th>0</th>\n      <td>Apple iPhone 11 64GB Factory Unlocked 4G LTE S...</td>\n      <td>337.59</td>\n      <td>0.00</td>\n      <td>19787.0</td>\n      <td>6679958.00</td>\n      <td>https://www.ebay.com/itm/254604777645?nordt=tr...</td>\n      <td>Very Good - Refurbished</td>\n      <td>“This iPhone 11 is in Very Good condition and ...</td>\n      <td>apple</td>\n      <td>iPhone 11</td>\n      <td>...</td>\n      <td>0</td>\n      <td>0</td>\n      <td>0</td>\n      <td>0</td>\n      <td>0</td>\n      <td>0</td>\n      <td>0</td>\n      <td>0</td>\n      <td>2023-06-14</td>\n      <td>0</td>\n    </tr>\n    <tr>\n      <th>1</th>\n      <td>Apple iPhone XR 64GB Factory Unlocked Smartpho...</td>\n      <td>266.28</td>\n      <td>0.00</td>\n      <td>12440.0</td>\n      <td>3312560.60</td>\n      <td>https://www.ebay.com/itm/254187678666?nordt=tr...</td>\n      <td>Very Good - Refurbished</td>\n      <td>“This Apple iPhone XR 64GB Factory Unlocked Sm...</td>\n      <td>apple</td>\n      <td>iPhone XR</td>\n      <td>...</td>\n      <td>0</td>\n      <td>0</td>\n      <td>0</td>\n      <td>0</td>\n      <td>0</td>\n      <td>0</td>\n      <td>0</td>\n      <td>0</td>\n      <td>2023-06-14</td>\n      <td>0</td>\n    </tr>\n    <tr>\n      <th>2</th>\n      <td>Apple iPhone 11 64GB Unlocked Smartphone - Ver...</td>\n      <td>359.11</td>\n      <td>16.93</td>\n      <td>12224.0</td>\n      <td>4389742.37</td>\n      <td>https://www.ebay.com/itm/363183815277?nordt=tr...</td>\n      <td>Very Good - Refurbished</td>\n      <td>“This is a B+ Stock item, meaning unit is in v...</td>\n      <td>apple</td>\n      <td>Apple iPhone 11</td>\n      <td>...</td>\n      <td>0</td>\n      <td>0</td>\n      <td>0</td>\n      <td>0</td>\n      <td>0</td>\n      <td>0</td>\n      <td>0</td>\n      <td>0</td>\n      <td>2023-06-14</td>\n      <td>0</td>\n    </tr>\n    <tr>\n      <th>3</th>\n      <td>Apple iPhone X 64GB Factory Unlocked Phone - V...</td>\n      <td>231.98</td>\n      <td>16.50</td>\n      <td>11781.0</td>\n      <td>2732899.88</td>\n      <td>https://www.ebay.com/itm/382605209867?nordt=tr...</td>\n      <td>Very Good - Refurbished</td>\n      <td>“This is a B+ Stock item, meaning unit is in v...</td>\n      <td>apple</td>\n      <td>Apple iPhone X</td>\n      <td>...</td>\n      <td>1</td>\n      <td>1</td>\n      <td>1</td>\n      <td>1</td>\n      <td>1</td>\n      <td>1</td>\n      <td>1</td>\n      <td>1</td>\n      <td>2023-06-14</td>\n      <td>0</td>\n    </tr>\n    <tr>\n      <th>4</th>\n      <td>Apple iPhone X 256GB Unlocked Smartphone - Ver...</td>\n      <td>263.59</td>\n      <td>15.34</td>\n      <td>10020.0</td>\n      <td>2641203.85</td>\n      <td>https://www.ebay.com/itm/382446518910?nordt=tr...</td>\n      <td>Very Good - Refurbished</td>\n      <td>“This is a B+ Stock item, meaning unit is in v...</td>\n      <td>apple</td>\n      <td>Apple iPhone X</td>\n      <td>...</td>\n      <td>0</td>\n      <td>0</td>\n      <td>0</td>\n      <td>0</td>\n      <td>0</td>\n      <td>0</td>\n      <td>0</td>\n      <td>0</td>\n      <td>2023-06-14</td>\n      <td>0</td>\n    </tr>\n  </tbody>\n</table>\n<p>5 rows × 65 columns</p>\n</div>"
     },
     "execution_count": 16,
     "metadata": {},
     "output_type": "execute_result"
    }
   ],
   "source": [
    "Global.head()"
   ],
   "metadata": {
    "collapsed": false,
    "pycharm": {
     "name": "#%%\n"
    }
   }
  },
  {
   "cell_type": "code",
   "execution_count": 17,
   "outputs": [
    {
     "data": {
      "text/plain": "                                               Title   Price  Shipping_cost  \\\n0  Nokia 3.1 C (TA1141) 32GB (Cricket) Smartphone...   31.59           5.00   \n1  Nokia 6 Dual SIM 5.5\" 4GB RAM 16MP Wi-Fi GPS B...  103.50           0.00   \n2  NEW Nokia 8 V 5G UW TA1257 Verizon Unlocked LT...  161.24           0.00   \n3  Original Nokia N8 N8-00 3G WIFI GPS 12MP Touch...   42.95           5.50   \n4  Nokia G50 5G | Android 11| Unlocked Smartphone...   87.00           8.22   \n\n   Sales_Count  Sales_Value  \\\n0           34      1074.14   \n1            4       414.00   \n2            8      1289.92   \n3           26      1116.79   \n4            1        87.00   \n\n                                                Link   Last_Sale Condition  \\\n0  https://www.ebay.com/itm/275016352540?nordt=tr...  2023-06-13      Used   \n1  https://www.ebay.com/itm/203145222261?nordt=tr...  2023-06-13  Open box   \n2  https://www.ebay.com/itm/295688872962?nordt=tr...  2023-06-13       New   \n3  https://www.ebay.com/itm/164928279178?nordt=tr...  2023-06-13      Used   \n4  https://www.ebay.com/itm/145123725321?nordt=tr...  2023-06-13      Used   \n\n   Processor  Screen Size  ... EDGE GPS HDMI Micro Headphone Jack Infrared  \\\n0  Quad Core         5.50  ...    0   0          0              0        0   \n1  Dual Core         5.50  ...    0   0          0              0        0   \n2  Octa Core         6.80  ...    0   0          0              0        0   \n3     Others         3.50  ...    0   0          0              0        0   \n4  Octa Core         6.82  ...    0   1          0              0        0   \n\n  Lightning Quad-Band Tri-Band WAP WCDMA  \n0         0         0        0   0     0  \n1         0         0        0   0     0  \n2         0         0        0   0     0  \n3         0         0        0   0     0  \n4         0         0        0   0     0  \n\n[5 rows x 51 columns]",
      "text/html": "<div>\n<style scoped>\n    .dataframe tbody tr th:only-of-type {\n        vertical-align: middle;\n    }\n\n    .dataframe tbody tr th {\n        vertical-align: top;\n    }\n\n    .dataframe thead th {\n        text-align: right;\n    }\n</style>\n<table border=\"1\" class=\"dataframe\">\n  <thead>\n    <tr style=\"text-align: right;\">\n      <th></th>\n      <th>Title</th>\n      <th>Price</th>\n      <th>Shipping_cost</th>\n      <th>Sales_Count</th>\n      <th>Sales_Value</th>\n      <th>Link</th>\n      <th>Last_Sale</th>\n      <th>Condition</th>\n      <th>Processor</th>\n      <th>Screen Size</th>\n      <th>...</th>\n      <th>EDGE</th>\n      <th>GPS</th>\n      <th>HDMI Micro</th>\n      <th>Headphone Jack</th>\n      <th>Infrared</th>\n      <th>Lightning</th>\n      <th>Quad-Band</th>\n      <th>Tri-Band</th>\n      <th>WAP</th>\n      <th>WCDMA</th>\n    </tr>\n  </thead>\n  <tbody>\n    <tr>\n      <th>0</th>\n      <td>Nokia 3.1 C (TA1141) 32GB (Cricket) Smartphone...</td>\n      <td>31.59</td>\n      <td>5.00</td>\n      <td>34</td>\n      <td>1074.14</td>\n      <td>https://www.ebay.com/itm/275016352540?nordt=tr...</td>\n      <td>2023-06-13</td>\n      <td>Used</td>\n      <td>Quad Core</td>\n      <td>5.50</td>\n      <td>...</td>\n      <td>0</td>\n      <td>0</td>\n      <td>0</td>\n      <td>0</td>\n      <td>0</td>\n      <td>0</td>\n      <td>0</td>\n      <td>0</td>\n      <td>0</td>\n      <td>0</td>\n    </tr>\n    <tr>\n      <th>1</th>\n      <td>Nokia 6 Dual SIM 5.5\" 4GB RAM 16MP Wi-Fi GPS B...</td>\n      <td>103.50</td>\n      <td>0.00</td>\n      <td>4</td>\n      <td>414.00</td>\n      <td>https://www.ebay.com/itm/203145222261?nordt=tr...</td>\n      <td>2023-06-13</td>\n      <td>Open box</td>\n      <td>Dual Core</td>\n      <td>5.50</td>\n      <td>...</td>\n      <td>0</td>\n      <td>0</td>\n      <td>0</td>\n      <td>0</td>\n      <td>0</td>\n      <td>0</td>\n      <td>0</td>\n      <td>0</td>\n      <td>0</td>\n      <td>0</td>\n    </tr>\n    <tr>\n      <th>2</th>\n      <td>NEW Nokia 8 V 5G UW TA1257 Verizon Unlocked LT...</td>\n      <td>161.24</td>\n      <td>0.00</td>\n      <td>8</td>\n      <td>1289.92</td>\n      <td>https://www.ebay.com/itm/295688872962?nordt=tr...</td>\n      <td>2023-06-13</td>\n      <td>New</td>\n      <td>Octa Core</td>\n      <td>6.80</td>\n      <td>...</td>\n      <td>0</td>\n      <td>0</td>\n      <td>0</td>\n      <td>0</td>\n      <td>0</td>\n      <td>0</td>\n      <td>0</td>\n      <td>0</td>\n      <td>0</td>\n      <td>0</td>\n    </tr>\n    <tr>\n      <th>3</th>\n      <td>Original Nokia N8 N8-00 3G WIFI GPS 12MP Touch...</td>\n      <td>42.95</td>\n      <td>5.50</td>\n      <td>26</td>\n      <td>1116.79</td>\n      <td>https://www.ebay.com/itm/164928279178?nordt=tr...</td>\n      <td>2023-06-13</td>\n      <td>Used</td>\n      <td>Others</td>\n      <td>3.50</td>\n      <td>...</td>\n      <td>0</td>\n      <td>0</td>\n      <td>0</td>\n      <td>0</td>\n      <td>0</td>\n      <td>0</td>\n      <td>0</td>\n      <td>0</td>\n      <td>0</td>\n      <td>0</td>\n    </tr>\n    <tr>\n      <th>4</th>\n      <td>Nokia G50 5G | Android 11| Unlocked Smartphone...</td>\n      <td>87.00</td>\n      <td>8.22</td>\n      <td>1</td>\n      <td>87.00</td>\n      <td>https://www.ebay.com/itm/145123725321?nordt=tr...</td>\n      <td>2023-06-13</td>\n      <td>Used</td>\n      <td>Octa Core</td>\n      <td>6.82</td>\n      <td>...</td>\n      <td>0</td>\n      <td>1</td>\n      <td>0</td>\n      <td>0</td>\n      <td>0</td>\n      <td>0</td>\n      <td>0</td>\n      <td>0</td>\n      <td>0</td>\n      <td>0</td>\n    </tr>\n  </tbody>\n</table>\n<p>5 rows × 51 columns</p>\n</div>"
     },
     "execution_count": 17,
     "metadata": {},
     "output_type": "execute_result"
    }
   ],
   "source": [
    "Global[\"Is_Target\"] = 1\n",
    "Nokia.head()"
   ],
   "metadata": {
    "collapsed": false,
    "pycharm": {
     "name": "#%%\n"
    }
   }
  },
  {
   "cell_type": "code",
   "execution_count": 18,
   "outputs": [
    {
     "data": {
      "text/plain": "                                               Title   Price  Shipping_cost  \\\n0  Xiaomi Redmi Note 11 128GB 4GB RAM GSM Unlocke...  187.39           7.10   \n1  Xiaomi Redmi Note 10 Pro 128GB 6GB RAM GSM FAC...  282.12          12.05   \n2  Xiaomi Redmi Note 11 Pro+ 5G Plus 256GB 8GB RA...  395.19          12.25   \n3  Xiaomi Redmi Note 10 *5G* 128GB 4GB RAM GSM Un...  195.45           8.60   \n4  Xiaomi Redmi Note 10 Pro 128GB 6GB RAM (FACTOR...  333.06          18.81   \n\n   Sales_Count  Sales_Value  \\\n0          772    144668.87   \n1          455    128364.84   \n2          408    161235.53   \n3          428     83654.10   \n4          366    121900.18   \n\n                                                Link   Last_Sale Condition  \\\n0  https://www.ebay.com/itm/325013923406?nordt=tr...  2023-05-14       New   \n1  https://www.ebay.com/itm/324648557855?nordt=tr...  2023-05-05       New   \n2  https://www.ebay.com/itm/203898287868?nordt=tr...  2023-05-10       New   \n3  https://www.ebay.com/itm/324618206904?nordt=tr...  2023-01-18       New   \n4  https://www.ebay.com/itm/194060416913?nordt=tr...  2023-05-11       New   \n\n              MPN Model Number  ... Dual-Band DLNA EDGE GPS Headphone Jack  \\\n0  Does Not Apply     M2101K6G  ...         0    0    0   0              0   \n1     Note 10 pro     M2101K6G  ...         0    0    0   0              0   \n2  Does Not Apply   21091116UG  ...         0    0    0   0              0   \n3  Does Not Apply   NOTE 10 5G  ...         1    1    1   1              1   \n4  Does Not Apply     M2101K6G  ...         0    0    0   0              0   \n\n  Infrared  Quad-Band Tri-Band WAP WCDMA  \n0        0          0        0   0     0  \n1        0          0        0   0     0  \n2        0          0        0   0     0  \n3        1          1        1   1     1  \n4        0          0        0   0     0  \n\n[5 rows x 52 columns]",
      "text/html": "<div>\n<style scoped>\n    .dataframe tbody tr th:only-of-type {\n        vertical-align: middle;\n    }\n\n    .dataframe tbody tr th {\n        vertical-align: top;\n    }\n\n    .dataframe thead th {\n        text-align: right;\n    }\n</style>\n<table border=\"1\" class=\"dataframe\">\n  <thead>\n    <tr style=\"text-align: right;\">\n      <th></th>\n      <th>Title</th>\n      <th>Price</th>\n      <th>Shipping_cost</th>\n      <th>Sales_Count</th>\n      <th>Sales_Value</th>\n      <th>Link</th>\n      <th>Last_Sale</th>\n      <th>Condition</th>\n      <th>MPN</th>\n      <th>Model Number</th>\n      <th>...</th>\n      <th>Dual-Band</th>\n      <th>DLNA</th>\n      <th>EDGE</th>\n      <th>GPS</th>\n      <th>Headphone Jack</th>\n      <th>Infrared</th>\n      <th>Quad-Band</th>\n      <th>Tri-Band</th>\n      <th>WAP</th>\n      <th>WCDMA</th>\n    </tr>\n  </thead>\n  <tbody>\n    <tr>\n      <th>0</th>\n      <td>Xiaomi Redmi Note 11 128GB 4GB RAM GSM Unlocke...</td>\n      <td>187.39</td>\n      <td>7.10</td>\n      <td>772</td>\n      <td>144668.87</td>\n      <td>https://www.ebay.com/itm/325013923406?nordt=tr...</td>\n      <td>2023-05-14</td>\n      <td>New</td>\n      <td>Does Not Apply</td>\n      <td>M2101K6G</td>\n      <td>...</td>\n      <td>0</td>\n      <td>0</td>\n      <td>0</td>\n      <td>0</td>\n      <td>0</td>\n      <td>0</td>\n      <td>0</td>\n      <td>0</td>\n      <td>0</td>\n      <td>0</td>\n    </tr>\n    <tr>\n      <th>1</th>\n      <td>Xiaomi Redmi Note 10 Pro 128GB 6GB RAM GSM FAC...</td>\n      <td>282.12</td>\n      <td>12.05</td>\n      <td>455</td>\n      <td>128364.84</td>\n      <td>https://www.ebay.com/itm/324648557855?nordt=tr...</td>\n      <td>2023-05-05</td>\n      <td>New</td>\n      <td>Note 10 pro</td>\n      <td>M2101K6G</td>\n      <td>...</td>\n      <td>0</td>\n      <td>0</td>\n      <td>0</td>\n      <td>0</td>\n      <td>0</td>\n      <td>0</td>\n      <td>0</td>\n      <td>0</td>\n      <td>0</td>\n      <td>0</td>\n    </tr>\n    <tr>\n      <th>2</th>\n      <td>Xiaomi Redmi Note 11 Pro+ 5G Plus 256GB 8GB RA...</td>\n      <td>395.19</td>\n      <td>12.25</td>\n      <td>408</td>\n      <td>161235.53</td>\n      <td>https://www.ebay.com/itm/203898287868?nordt=tr...</td>\n      <td>2023-05-10</td>\n      <td>New</td>\n      <td>Does Not Apply</td>\n      <td>21091116UG</td>\n      <td>...</td>\n      <td>0</td>\n      <td>0</td>\n      <td>0</td>\n      <td>0</td>\n      <td>0</td>\n      <td>0</td>\n      <td>0</td>\n      <td>0</td>\n      <td>0</td>\n      <td>0</td>\n    </tr>\n    <tr>\n      <th>3</th>\n      <td>Xiaomi Redmi Note 10 *5G* 128GB 4GB RAM GSM Un...</td>\n      <td>195.45</td>\n      <td>8.60</td>\n      <td>428</td>\n      <td>83654.10</td>\n      <td>https://www.ebay.com/itm/324618206904?nordt=tr...</td>\n      <td>2023-01-18</td>\n      <td>New</td>\n      <td>Does Not Apply</td>\n      <td>NOTE 10 5G</td>\n      <td>...</td>\n      <td>1</td>\n      <td>1</td>\n      <td>1</td>\n      <td>1</td>\n      <td>1</td>\n      <td>1</td>\n      <td>1</td>\n      <td>1</td>\n      <td>1</td>\n      <td>1</td>\n    </tr>\n    <tr>\n      <th>4</th>\n      <td>Xiaomi Redmi Note 10 Pro 128GB 6GB RAM (FACTOR...</td>\n      <td>333.06</td>\n      <td>18.81</td>\n      <td>366</td>\n      <td>121900.18</td>\n      <td>https://www.ebay.com/itm/194060416913?nordt=tr...</td>\n      <td>2023-05-11</td>\n      <td>New</td>\n      <td>Does Not Apply</td>\n      <td>M2101K6G</td>\n      <td>...</td>\n      <td>0</td>\n      <td>0</td>\n      <td>0</td>\n      <td>0</td>\n      <td>0</td>\n      <td>0</td>\n      <td>0</td>\n      <td>0</td>\n      <td>0</td>\n      <td>0</td>\n    </tr>\n  </tbody>\n</table>\n<p>5 rows × 52 columns</p>\n</div>"
     },
     "execution_count": 18,
     "metadata": {},
     "output_type": "execute_result"
    }
   ],
   "source": [
    "Global[\"Is_Target\"] = 1\n",
    "Redmi.head()"
   ],
   "metadata": {
    "collapsed": false,
    "pycharm": {
     "name": "#%%\n"
    }
   }
  },
  {
   "cell_type": "code",
   "execution_count": 23,
   "outputs": [
    {
     "data": {
      "text/plain": "                                                  Title   Price  \\\n0     Apple iPhone 11 64GB Factory Unlocked 4G LTE S...  337.59   \n1     Apple iPhone XR 64GB Factory Unlocked Smartpho...  266.28   \n2     Apple iPhone 11 64GB Unlocked Smartphone - Ver...  359.11   \n3     Apple iPhone X 64GB Factory Unlocked Phone - V...  231.98   \n4     Apple iPhone X 256GB Unlocked Smartphone - Ver...  263.59   \n...                                                 ...     ...   \n8435  Xiaomi Redmi K60 5G Snapdragon Gen 8+ 67W Fast...  562.24   \n8436  Samsung Galaxy A20- Black (T-Mobile) (Locked) ...  299.00   \n8437                Xiaomi Redmi Note 11 4G Volte 128GB  180.00   \n8438  Redmi Note 8 Pro 64gb CRACKED BACK (GSM Unlock...   70.00   \n8439  Xiaomi Redmi Note 10 Pro 8GB +128GB - Recondit...  190.52   \n\n      Shipping_cost  Sales_Count  Sales_Value  \\\n0              0.00      19787.0   6679958.00   \n1              0.00      12440.0   3312560.60   \n2             16.93      12224.0   4389742.37   \n3             16.50      11781.0   2732899.88   \n4             15.34      10020.0   2641203.85   \n...             ...          ...          ...   \n8435           0.00          1.0       562.24   \n8436           0.00          1.0       299.00   \n8437           9.65          1.0       180.00   \n8438          10.20          1.0        70.00   \n8439           0.00          1.0       190.52   \n\n                                                   Link  \\\n0     https://www.ebay.com/itm/254604777645?nordt=tr...   \n1     https://www.ebay.com/itm/254187678666?nordt=tr...   \n2     https://www.ebay.com/itm/363183815277?nordt=tr...   \n3     https://www.ebay.com/itm/382605209867?nordt=tr...   \n4     https://www.ebay.com/itm/382446518910?nordt=tr...   \n...                                                 ...   \n8435  https://www.ebay.com/itm/295575470723?nordt=tr...   \n8436  https://www.ebay.com/itm/295576987139?nordt=tr...   \n8437  https://www.ebay.com/itm/295588396316?nordt=tr...   \n8438  https://www.ebay.com/itm/295603254066?nordt=tr...   \n8439  https://www.ebay.com/itm/295618421838?nordt=tr...   \n\n                     Condition  \\\n0      Very Good - Refurbished   \n1      Very Good - Refurbished   \n2      Very Good - Refurbished   \n3      Very Good - Refurbished   \n4      Very Good - Refurbished   \n...                        ...   \n8435                       New   \n8436                      Used   \n8437                       New   \n8438  For parts or not working   \n8439                      Used   \n\n                                           Seller Notes    Brand  \\\n0     “This iPhone 11 is in Very Good condition and ...    apple   \n1     “This Apple iPhone XR 64GB Factory Unlocked Sm...    apple   \n2     “This is a B+ Stock item, meaning unit is in v...    apple   \n3     “This is a B+ Stock item, meaning unit is in v...    apple   \n4     “This is a B+ Stock item, meaning unit is in v...    apple   \n...                                                 ...      ...   \n8435  “The item was used, and been restored to 100% ...    redmi   \n8436  “The item was used, and been restored to 100% ...  samsung   \n8437  “The item was used, and been restored to 100% ...    redmi   \n8438  “The item was used, and been restored to 100% ...    redmi   \n8439  “The item was used, and been restored to 100% ...    redmi   \n\n                     Model  ...  OTG Infrared  Lightning  Quad-Band Tri-Band  \\\n0                iPhone 11  ...  0.0        0        0.0          0        0   \n1                iPhone XR  ...  0.0        0        0.0          0        0   \n2          Apple iPhone 11  ...  0.0        0        0.0          0        0   \n3           Apple iPhone X  ...  1.0        1        1.0          1        1   \n4           Apple iPhone X  ...  0.0        0        0.0          0        0   \n...                    ...  ...  ...      ...        ...        ...      ...   \n8435             Redmi K60  ...  NaN        1        NaN          1        1   \n8436    Samsung Galaxy A20  ...  NaN        0        NaN          0        0   \n8437  Xiaomi Redmi Note 11  ...  NaN        0        NaN          0        0   \n8438      Redmi Note 8 Pro  ...  NaN        0        NaN          0        0   \n8439     Xiaomi Redmi Note  ...  NaN        0        NaN          0        0   \n\n      Wireless charging WAP WCDMA            Last_Sale Is_Target  \n0                   0.0   0     0  2023-06-14 00:00:00       1.0  \n1                   0.0   0     0  2023-06-14 00:00:00       1.0  \n2                   0.0   0     0  2023-06-14 00:00:00       1.0  \n3                   1.0   1     1  2023-06-14 00:00:00       1.0  \n4                   0.0   0     0  2023-06-14 00:00:00       1.0  \n...                 ...  ..   ...                  ...       ...  \n8435                NaN   1     1           2023-03-31       NaN  \n8436                NaN   0     0           2023-03-27       NaN  \n8437                NaN   0     0           2023-04-01       NaN  \n8438                NaN   0     0           2023-04-28       NaN  \n8439                NaN   0     0           2023-05-07       NaN  \n\n[8440 rows x 65 columns]",
      "text/html": "<div>\n<style scoped>\n    .dataframe tbody tr th:only-of-type {\n        vertical-align: middle;\n    }\n\n    .dataframe tbody tr th {\n        vertical-align: top;\n    }\n\n    .dataframe thead th {\n        text-align: right;\n    }\n</style>\n<table border=\"1\" class=\"dataframe\">\n  <thead>\n    <tr style=\"text-align: right;\">\n      <th></th>\n      <th>Title</th>\n      <th>Price</th>\n      <th>Shipping_cost</th>\n      <th>Sales_Count</th>\n      <th>Sales_Value</th>\n      <th>Link</th>\n      <th>Condition</th>\n      <th>Seller Notes</th>\n      <th>Brand</th>\n      <th>Model</th>\n      <th>...</th>\n      <th>OTG</th>\n      <th>Infrared</th>\n      <th>Lightning</th>\n      <th>Quad-Band</th>\n      <th>Tri-Band</th>\n      <th>Wireless charging</th>\n      <th>WAP</th>\n      <th>WCDMA</th>\n      <th>Last_Sale</th>\n      <th>Is_Target</th>\n    </tr>\n  </thead>\n  <tbody>\n    <tr>\n      <th>0</th>\n      <td>Apple iPhone 11 64GB Factory Unlocked 4G LTE S...</td>\n      <td>337.59</td>\n      <td>0.00</td>\n      <td>19787.0</td>\n      <td>6679958.00</td>\n      <td>https://www.ebay.com/itm/254604777645?nordt=tr...</td>\n      <td>Very Good - Refurbished</td>\n      <td>“This iPhone 11 is in Very Good condition and ...</td>\n      <td>apple</td>\n      <td>iPhone 11</td>\n      <td>...</td>\n      <td>0.0</td>\n      <td>0</td>\n      <td>0.0</td>\n      <td>0</td>\n      <td>0</td>\n      <td>0.0</td>\n      <td>0</td>\n      <td>0</td>\n      <td>2023-06-14 00:00:00</td>\n      <td>1.0</td>\n    </tr>\n    <tr>\n      <th>1</th>\n      <td>Apple iPhone XR 64GB Factory Unlocked Smartpho...</td>\n      <td>266.28</td>\n      <td>0.00</td>\n      <td>12440.0</td>\n      <td>3312560.60</td>\n      <td>https://www.ebay.com/itm/254187678666?nordt=tr...</td>\n      <td>Very Good - Refurbished</td>\n      <td>“This Apple iPhone XR 64GB Factory Unlocked Sm...</td>\n      <td>apple</td>\n      <td>iPhone XR</td>\n      <td>...</td>\n      <td>0.0</td>\n      <td>0</td>\n      <td>0.0</td>\n      <td>0</td>\n      <td>0</td>\n      <td>0.0</td>\n      <td>0</td>\n      <td>0</td>\n      <td>2023-06-14 00:00:00</td>\n      <td>1.0</td>\n    </tr>\n    <tr>\n      <th>2</th>\n      <td>Apple iPhone 11 64GB Unlocked Smartphone - Ver...</td>\n      <td>359.11</td>\n      <td>16.93</td>\n      <td>12224.0</td>\n      <td>4389742.37</td>\n      <td>https://www.ebay.com/itm/363183815277?nordt=tr...</td>\n      <td>Very Good - Refurbished</td>\n      <td>“This is a B+ Stock item, meaning unit is in v...</td>\n      <td>apple</td>\n      <td>Apple iPhone 11</td>\n      <td>...</td>\n      <td>0.0</td>\n      <td>0</td>\n      <td>0.0</td>\n      <td>0</td>\n      <td>0</td>\n      <td>0.0</td>\n      <td>0</td>\n      <td>0</td>\n      <td>2023-06-14 00:00:00</td>\n      <td>1.0</td>\n    </tr>\n    <tr>\n      <th>3</th>\n      <td>Apple iPhone X 64GB Factory Unlocked Phone - V...</td>\n      <td>231.98</td>\n      <td>16.50</td>\n      <td>11781.0</td>\n      <td>2732899.88</td>\n      <td>https://www.ebay.com/itm/382605209867?nordt=tr...</td>\n      <td>Very Good - Refurbished</td>\n      <td>“This is a B+ Stock item, meaning unit is in v...</td>\n      <td>apple</td>\n      <td>Apple iPhone X</td>\n      <td>...</td>\n      <td>1.0</td>\n      <td>1</td>\n      <td>1.0</td>\n      <td>1</td>\n      <td>1</td>\n      <td>1.0</td>\n      <td>1</td>\n      <td>1</td>\n      <td>2023-06-14 00:00:00</td>\n      <td>1.0</td>\n    </tr>\n    <tr>\n      <th>4</th>\n      <td>Apple iPhone X 256GB Unlocked Smartphone - Ver...</td>\n      <td>263.59</td>\n      <td>15.34</td>\n      <td>10020.0</td>\n      <td>2641203.85</td>\n      <td>https://www.ebay.com/itm/382446518910?nordt=tr...</td>\n      <td>Very Good - Refurbished</td>\n      <td>“This is a B+ Stock item, meaning unit is in v...</td>\n      <td>apple</td>\n      <td>Apple iPhone X</td>\n      <td>...</td>\n      <td>0.0</td>\n      <td>0</td>\n      <td>0.0</td>\n      <td>0</td>\n      <td>0</td>\n      <td>0.0</td>\n      <td>0</td>\n      <td>0</td>\n      <td>2023-06-14 00:00:00</td>\n      <td>1.0</td>\n    </tr>\n    <tr>\n      <th>...</th>\n      <td>...</td>\n      <td>...</td>\n      <td>...</td>\n      <td>...</td>\n      <td>...</td>\n      <td>...</td>\n      <td>...</td>\n      <td>...</td>\n      <td>...</td>\n      <td>...</td>\n      <td>...</td>\n      <td>...</td>\n      <td>...</td>\n      <td>...</td>\n      <td>...</td>\n      <td>...</td>\n      <td>...</td>\n      <td>...</td>\n      <td>...</td>\n      <td>...</td>\n      <td>...</td>\n    </tr>\n    <tr>\n      <th>8435</th>\n      <td>Xiaomi Redmi K60 5G Snapdragon Gen 8+ 67W Fast...</td>\n      <td>562.24</td>\n      <td>0.00</td>\n      <td>1.0</td>\n      <td>562.24</td>\n      <td>https://www.ebay.com/itm/295575470723?nordt=tr...</td>\n      <td>New</td>\n      <td>“The item was used, and been restored to 100% ...</td>\n      <td>redmi</td>\n      <td>Redmi K60</td>\n      <td>...</td>\n      <td>NaN</td>\n      <td>1</td>\n      <td>NaN</td>\n      <td>1</td>\n      <td>1</td>\n      <td>NaN</td>\n      <td>1</td>\n      <td>1</td>\n      <td>2023-03-31</td>\n      <td>NaN</td>\n    </tr>\n    <tr>\n      <th>8436</th>\n      <td>Samsung Galaxy A20- Black (T-Mobile) (Locked) ...</td>\n      <td>299.00</td>\n      <td>0.00</td>\n      <td>1.0</td>\n      <td>299.00</td>\n      <td>https://www.ebay.com/itm/295576987139?nordt=tr...</td>\n      <td>Used</td>\n      <td>“The item was used, and been restored to 100% ...</td>\n      <td>samsung</td>\n      <td>Samsung Galaxy A20</td>\n      <td>...</td>\n      <td>NaN</td>\n      <td>0</td>\n      <td>NaN</td>\n      <td>0</td>\n      <td>0</td>\n      <td>NaN</td>\n      <td>0</td>\n      <td>0</td>\n      <td>2023-03-27</td>\n      <td>NaN</td>\n    </tr>\n    <tr>\n      <th>8437</th>\n      <td>Xiaomi Redmi Note 11 4G Volte 128GB</td>\n      <td>180.00</td>\n      <td>9.65</td>\n      <td>1.0</td>\n      <td>180.00</td>\n      <td>https://www.ebay.com/itm/295588396316?nordt=tr...</td>\n      <td>New</td>\n      <td>“The item was used, and been restored to 100% ...</td>\n      <td>redmi</td>\n      <td>Xiaomi Redmi Note 11</td>\n      <td>...</td>\n      <td>NaN</td>\n      <td>0</td>\n      <td>NaN</td>\n      <td>0</td>\n      <td>0</td>\n      <td>NaN</td>\n      <td>0</td>\n      <td>0</td>\n      <td>2023-04-01</td>\n      <td>NaN</td>\n    </tr>\n    <tr>\n      <th>8438</th>\n      <td>Redmi Note 8 Pro 64gb CRACKED BACK (GSM Unlock...</td>\n      <td>70.00</td>\n      <td>10.20</td>\n      <td>1.0</td>\n      <td>70.00</td>\n      <td>https://www.ebay.com/itm/295603254066?nordt=tr...</td>\n      <td>For parts or not working</td>\n      <td>“The item was used, and been restored to 100% ...</td>\n      <td>redmi</td>\n      <td>Redmi Note 8 Pro</td>\n      <td>...</td>\n      <td>NaN</td>\n      <td>0</td>\n      <td>NaN</td>\n      <td>0</td>\n      <td>0</td>\n      <td>NaN</td>\n      <td>0</td>\n      <td>0</td>\n      <td>2023-04-28</td>\n      <td>NaN</td>\n    </tr>\n    <tr>\n      <th>8439</th>\n      <td>Xiaomi Redmi Note 10 Pro 8GB +128GB - Recondit...</td>\n      <td>190.52</td>\n      <td>0.00</td>\n      <td>1.0</td>\n      <td>190.52</td>\n      <td>https://www.ebay.com/itm/295618421838?nordt=tr...</td>\n      <td>Used</td>\n      <td>“The item was used, and been restored to 100% ...</td>\n      <td>redmi</td>\n      <td>Xiaomi Redmi Note</td>\n      <td>...</td>\n      <td>NaN</td>\n      <td>0</td>\n      <td>NaN</td>\n      <td>0</td>\n      <td>0</td>\n      <td>NaN</td>\n      <td>0</td>\n      <td>0</td>\n      <td>2023-05-07</td>\n      <td>NaN</td>\n    </tr>\n  </tbody>\n</table>\n<p>8440 rows × 65 columns</p>\n</div>"
     },
     "execution_count": 23,
     "metadata": {},
     "output_type": "execute_result"
    }
   ],
   "source": [
    "Great_BD = pd.concat([Global, Nokia, Redmi], ignore_index=True)\n",
    "Great_BD.drop([\"Country/Region of Manufacture\", 'Chipset Model', 'Manufacturer Warranty'], axis=1, inplace=True)\n",
    "Great_BD"
   ],
   "metadata": {
    "collapsed": false,
    "pycharm": {
     "name": "#%%\n"
    }
   }
  },
  {
   "cell_type": "code",
   "execution_count": 26,
   "outputs": [
    {
     "data": {
      "text/plain": "Title                   0\nPrice                   0\nShipping_cost           0\nSales_Count             0\nSales_Value             0\n                     ... \nWireless charging    5360\nWAP                     0\nWCDMA                   0\nLast_Sale               0\nIs_Target            5360\nLength: 65, dtype: int64"
     },
     "execution_count": 26,
     "metadata": {},
     "output_type": "execute_result"
    }
   ],
   "source": [
    "Great_BD.isna().sum()"
   ],
   "metadata": {
    "collapsed": false,
    "pycharm": {
     "name": "#%%\n"
    }
   }
  },
  {
   "cell_type": "code",
   "execution_count": 27,
   "outputs": [],
   "source": [
    "#чистим наны\n",
    "numeric_cols = Great_BD.select_dtypes(include=np.number).columns\n",
    "Great_BD[numeric_cols] = Great_BD[numeric_cols].fillna(Great_BD[numeric_cols].mean())\n",
    "\n",
    "categorical_cols = Great_BD.select_dtypes(include='object').columns\n",
    "Great_BD[categorical_cols] = Great_BD[categorical_cols].fillna(Great_BD[categorical_cols].mode().iloc[0])"
   ],
   "metadata": {
    "collapsed": false,
    "pycharm": {
     "name": "#%%\n"
    }
   }
  },
  {
   "cell_type": "code",
   "execution_count": 28,
   "outputs": [
    {
     "data": {
      "text/plain": "Title                0\nPrice                0\nShipping_cost        0\nSales_Count          0\nSales_Value          0\n                    ..\nWireless charging    0\nWAP                  0\nWCDMA                0\nLast_Sale            0\nIs_Target            0\nLength: 65, dtype: int64"
     },
     "execution_count": 28,
     "metadata": {},
     "output_type": "execute_result"
    }
   ],
   "source": [
    "Great_BD.isna().sum()"
   ],
   "metadata": {
    "collapsed": false,
    "pycharm": {
     "name": "#%%\n"
    }
   }
  },
  {
   "cell_type": "code",
   "execution_count": 29,
   "outputs": [],
   "source": [
    "Great_BD.to_csv('Great_BD.tsv', index = False, sep = '\\t')"
   ],
   "metadata": {
    "collapsed": false,
    "pycharm": {
     "name": "#%%\n"
    }
   }
  }
 ],
 "metadata": {
  "kernelspec": {
   "display_name": "Python 3",
   "language": "python",
   "name": "python3"
  },
  "language_info": {
   "codemirror_mode": {
    "name": "ipython",
    "version": 2
   },
   "file_extension": ".py",
   "mimetype": "text/x-python",
   "name": "python",
   "nbconvert_exporter": "python",
   "pygments_lexer": "ipython2",
   "version": "2.7.6"
  }
 },
 "nbformat": 4,
 "nbformat_minor": 0
}