{
 "cells": [
  {
   "cell_type": "markdown",
   "source": [
    "# Данный файл содержит алгоритм предобработки Redmi DataFrame"
   ],
   "metadata": {
    "collapsed": false
   }
  },
  {
   "cell_type": "markdown",
   "source": [
    "## Первичная очистка и объединение"
   ],
   "metadata": {
    "collapsed": false
   }
  },
  {
   "cell_type": "code",
   "execution_count": 3,
   "outputs": [],
   "source": [
    "import pandas as pd\n",
    "import re\n",
    "import numpy as np"
   ],
   "metadata": {
    "collapsed": false,
    "pycharm": {
     "name": "#%%\n"
    }
   }
  },
  {
   "cell_type": "code",
   "execution_count": 11,
   "outputs": [
    {
     "data": {
      "text/plain": "                                               Title    Price Shipping_cost  \\\n0  Wall Outlet To Triple USB Power Adapter - Wall...    $9.99        $12.91   \n1  Xiaomi Redmi Note 11 128GB 4GB RAM GSM Unlocke...  $187.39         $7.10   \n2  Xiaomi Redmi Note 10 Pro 128GB 6GB RAM GSM FAC...  $282.12        $12.05   \n3  Xiaomi Redmi Note 11 Pro+ 5G Plus 256GB 8GB RA...  $395.19        $12.25   \n4  Xiaomi Redmi Note 10 *5G* 128GB 4GB RAM GSM Un...  $195.45         $8.60   \n\n   Sales_Count  Sales_Value  \\\n0          940    $9,388.60   \n1          772  $144,668.87   \n2          455  $128,364.84   \n3          408  $161,235.53   \n4          428   $83,654.10   \n\n                                                Link     Last_Sale  \n0  https://www.ebay.com/itm/363346871915?nordt=tr...  May 11, 2023  \n1  https://www.ebay.com/itm/325013923406?nordt=tr...  May 14, 2023  \n2  https://www.ebay.com/itm/324648557855?nordt=tr...   May 5, 2023  \n3  https://www.ebay.com/itm/203898287868?nordt=tr...  May 10, 2023  \n4  https://www.ebay.com/itm/324618206904?nordt=tr...  Jan 18, 2023  ",
      "text/html": "<div>\n<style scoped>\n    .dataframe tbody tr th:only-of-type {\n        vertical-align: middle;\n    }\n\n    .dataframe tbody tr th {\n        vertical-align: top;\n    }\n\n    .dataframe thead th {\n        text-align: right;\n    }\n</style>\n<table border=\"1\" class=\"dataframe\">\n  <thead>\n    <tr style=\"text-align: right;\">\n      <th></th>\n      <th>Title</th>\n      <th>Price</th>\n      <th>Shipping_cost</th>\n      <th>Sales_Count</th>\n      <th>Sales_Value</th>\n      <th>Link</th>\n      <th>Last_Sale</th>\n    </tr>\n  </thead>\n  <tbody>\n    <tr>\n      <th>0</th>\n      <td>Wall Outlet To Triple USB Power Adapter - Wall...</td>\n      <td>$9.99</td>\n      <td>$12.91</td>\n      <td>940</td>\n      <td>$9,388.60</td>\n      <td>https://www.ebay.com/itm/363346871915?nordt=tr...</td>\n      <td>May 11, 2023</td>\n    </tr>\n    <tr>\n      <th>1</th>\n      <td>Xiaomi Redmi Note 11 128GB 4GB RAM GSM Unlocke...</td>\n      <td>$187.39</td>\n      <td>$7.10</td>\n      <td>772</td>\n      <td>$144,668.87</td>\n      <td>https://www.ebay.com/itm/325013923406?nordt=tr...</td>\n      <td>May 14, 2023</td>\n    </tr>\n    <tr>\n      <th>2</th>\n      <td>Xiaomi Redmi Note 10 Pro 128GB 6GB RAM GSM FAC...</td>\n      <td>$282.12</td>\n      <td>$12.05</td>\n      <td>455</td>\n      <td>$128,364.84</td>\n      <td>https://www.ebay.com/itm/324648557855?nordt=tr...</td>\n      <td>May 5, 2023</td>\n    </tr>\n    <tr>\n      <th>3</th>\n      <td>Xiaomi Redmi Note 11 Pro+ 5G Plus 256GB 8GB RA...</td>\n      <td>$395.19</td>\n      <td>$12.25</td>\n      <td>408</td>\n      <td>$161,235.53</td>\n      <td>https://www.ebay.com/itm/203898287868?nordt=tr...</td>\n      <td>May 10, 2023</td>\n    </tr>\n    <tr>\n      <th>4</th>\n      <td>Xiaomi Redmi Note 10 *5G* 128GB 4GB RAM GSM Un...</td>\n      <td>$195.45</td>\n      <td>$8.60</td>\n      <td>428</td>\n      <td>$83,654.10</td>\n      <td>https://www.ebay.com/itm/324618206904?nordt=tr...</td>\n      <td>Jan 18, 2023</td>\n    </tr>\n  </tbody>\n</table>\n</div>"
     },
     "execution_count": 11,
     "metadata": {},
     "output_type": "execute_result"
    }
   ],
   "source": [
    "df_items = pd.read_csv('https://raw.githubusercontent.com/AleksKids/hedonistic-demand-from-ebay/main/Data%20Tables/Redmi/Redmi%20Sales.tsv', delimiter = \"\\t\")\n",
    "df_items.head()"
   ],
   "metadata": {
    "collapsed": false,
    "pycharm": {
     "name": "#%%\n"
    }
   }
  },
  {
   "cell_type": "code",
   "execution_count": 12,
   "outputs": [
    {
     "data": {
      "text/plain": "Title            0\nPrice            0\nShipping_cost    0\nSales_Count      0\nSales_Value      0\nLink             0\nLast_Sale        0\ndtype: int64"
     },
     "execution_count": 12,
     "metadata": {},
     "output_type": "execute_result"
    }
   ],
   "source": [
    "df_items.dropna(subset=['Link'], inplace=True)\n",
    "df_items.reset_index(inplace=True)\n",
    "df_items.drop('index', axis=1, inplace = True)\n",
    "df_items.isna().sum()"
   ],
   "metadata": {
    "collapsed": false,
    "pycharm": {
     "name": "#%%\n"
    }
   }
  },
  {
   "cell_type": "code",
   "execution_count": 13,
   "outputs": [
    {
     "data": {
      "text/plain": "                                               Title    Price Shipping_cost  \\\n0  Wall Outlet To Triple USB Power Adapter - Wall...    $9.99        $12.91   \n1  Xiaomi Redmi Note 11 128GB 4GB RAM GSM Unlocke...  $187.39         $7.10   \n2  Xiaomi Redmi Note 10 Pro 128GB 6GB RAM GSM FAC...  $282.12        $12.05   \n3  Xiaomi Redmi Note 11 Pro+ 5G Plus 256GB 8GB RA...  $395.19        $12.25   \n4  Xiaomi Redmi Note 10 *5G* 128GB 4GB RAM GSM Un...  $195.45         $8.60   \n\n   Sales_Count  Sales_Value  \\\n0          940    $9,388.60   \n1          772  $144,668.87   \n2          455  $128,364.84   \n3          408  $161,235.53   \n4          428   $83,654.10   \n\n                                                Link     Last_Sale  \n0  https://www.ebay.com/itm/363346871915?nordt=tr...  May 11, 2023  \n1  https://www.ebay.com/itm/325013923406?nordt=tr...  May 14, 2023  \n2  https://www.ebay.com/itm/324648557855?nordt=tr...   May 5, 2023  \n3  https://www.ebay.com/itm/203898287868?nordt=tr...  May 10, 2023  \n4  https://www.ebay.com/itm/324618206904?nordt=tr...  Jan 18, 2023  ",
      "text/html": "<div>\n<style scoped>\n    .dataframe tbody tr th:only-of-type {\n        vertical-align: middle;\n    }\n\n    .dataframe tbody tr th {\n        vertical-align: top;\n    }\n\n    .dataframe thead th {\n        text-align: right;\n    }\n</style>\n<table border=\"1\" class=\"dataframe\">\n  <thead>\n    <tr style=\"text-align: right;\">\n      <th></th>\n      <th>Title</th>\n      <th>Price</th>\n      <th>Shipping_cost</th>\n      <th>Sales_Count</th>\n      <th>Sales_Value</th>\n      <th>Link</th>\n      <th>Last_Sale</th>\n    </tr>\n  </thead>\n  <tbody>\n    <tr>\n      <th>0</th>\n      <td>Wall Outlet To Triple USB Power Adapter - Wall...</td>\n      <td>$9.99</td>\n      <td>$12.91</td>\n      <td>940</td>\n      <td>$9,388.60</td>\n      <td>https://www.ebay.com/itm/363346871915?nordt=tr...</td>\n      <td>May 11, 2023</td>\n    </tr>\n    <tr>\n      <th>1</th>\n      <td>Xiaomi Redmi Note 11 128GB 4GB RAM GSM Unlocke...</td>\n      <td>$187.39</td>\n      <td>$7.10</td>\n      <td>772</td>\n      <td>$144,668.87</td>\n      <td>https://www.ebay.com/itm/325013923406?nordt=tr...</td>\n      <td>May 14, 2023</td>\n    </tr>\n    <tr>\n      <th>2</th>\n      <td>Xiaomi Redmi Note 10 Pro 128GB 6GB RAM GSM FAC...</td>\n      <td>$282.12</td>\n      <td>$12.05</td>\n      <td>455</td>\n      <td>$128,364.84</td>\n      <td>https://www.ebay.com/itm/324648557855?nordt=tr...</td>\n      <td>May 5, 2023</td>\n    </tr>\n    <tr>\n      <th>3</th>\n      <td>Xiaomi Redmi Note 11 Pro+ 5G Plus 256GB 8GB RA...</td>\n      <td>$395.19</td>\n      <td>$12.25</td>\n      <td>408</td>\n      <td>$161,235.53</td>\n      <td>https://www.ebay.com/itm/203898287868?nordt=tr...</td>\n      <td>May 10, 2023</td>\n    </tr>\n    <tr>\n      <th>4</th>\n      <td>Xiaomi Redmi Note 10 *5G* 128GB 4GB RAM GSM Un...</td>\n      <td>$195.45</td>\n      <td>$8.60</td>\n      <td>428</td>\n      <td>$83,654.10</td>\n      <td>https://www.ebay.com/itm/324618206904?nordt=tr...</td>\n      <td>Jan 18, 2023</td>\n    </tr>\n  </tbody>\n</table>\n</div>"
     },
     "execution_count": 13,
     "metadata": {},
     "output_type": "execute_result"
    }
   ],
   "source": [
    "df_items.head()"
   ],
   "metadata": {
    "collapsed": false,
    "pycharm": {
     "name": "#%%\n"
    }
   }
  },
  {
   "cell_type": "code",
   "execution_count": 14,
   "outputs": [],
   "source": [
    "def Sales_Value(value):\n",
    "  pattern = r'\\$|,'\n",
    "  clean_value = re.sub(pattern, '', value)\n",
    "  numeric_value = float(clean_value)\n",
    "  return numeric_value\n",
    "\n",
    "\n",
    "df_items.Price = df_items.Price.apply(lambda x: float(re.sub(r'[^\\d.]', '', x)))\n",
    "df_items.Shipping_cost = df_items.Shipping_cost.apply(lambda x: float(re.sub(r'[^\\d.]', '', x)))\n",
    "df_items.Sales_Value = df_items.Sales_Value.apply(lambda x: Sales_Value(x))"
   ],
   "metadata": {
    "collapsed": false,
    "pycharm": {
     "name": "#%%\n"
    }
   }
  },
  {
   "cell_type": "code",
   "execution_count": 15,
   "outputs": [
    {
     "data": {
      "text/plain": "                                               Title   Price  Shipping_cost  \\\n0  Wall Outlet To Triple USB Power Adapter - Wall...    9.99          12.91   \n1  Xiaomi Redmi Note 11 128GB 4GB RAM GSM Unlocke...  187.39           7.10   \n2  Xiaomi Redmi Note 10 Pro 128GB 6GB RAM GSM FAC...  282.12          12.05   \n3  Xiaomi Redmi Note 11 Pro+ 5G Plus 256GB 8GB RA...  395.19          12.25   \n4  Xiaomi Redmi Note 10 *5G* 128GB 4GB RAM GSM Un...  195.45           8.60   \n\n   Sales_Count  Sales_Value  \\\n0          940      9388.60   \n1          772    144668.87   \n2          455    128364.84   \n3          408    161235.53   \n4          428     83654.10   \n\n                                                Link     Last_Sale  \n0  https://www.ebay.com/itm/363346871915?nordt=tr...  May 11, 2023  \n1  https://www.ebay.com/itm/325013923406?nordt=tr...  May 14, 2023  \n2  https://www.ebay.com/itm/324648557855?nordt=tr...   May 5, 2023  \n3  https://www.ebay.com/itm/203898287868?nordt=tr...  May 10, 2023  \n4  https://www.ebay.com/itm/324618206904?nordt=tr...  Jan 18, 2023  ",
      "text/html": "<div>\n<style scoped>\n    .dataframe tbody tr th:only-of-type {\n        vertical-align: middle;\n    }\n\n    .dataframe tbody tr th {\n        vertical-align: top;\n    }\n\n    .dataframe thead th {\n        text-align: right;\n    }\n</style>\n<table border=\"1\" class=\"dataframe\">\n  <thead>\n    <tr style=\"text-align: right;\">\n      <th></th>\n      <th>Title</th>\n      <th>Price</th>\n      <th>Shipping_cost</th>\n      <th>Sales_Count</th>\n      <th>Sales_Value</th>\n      <th>Link</th>\n      <th>Last_Sale</th>\n    </tr>\n  </thead>\n  <tbody>\n    <tr>\n      <th>0</th>\n      <td>Wall Outlet To Triple USB Power Adapter - Wall...</td>\n      <td>9.99</td>\n      <td>12.91</td>\n      <td>940</td>\n      <td>9388.60</td>\n      <td>https://www.ebay.com/itm/363346871915?nordt=tr...</td>\n      <td>May 11, 2023</td>\n    </tr>\n    <tr>\n      <th>1</th>\n      <td>Xiaomi Redmi Note 11 128GB 4GB RAM GSM Unlocke...</td>\n      <td>187.39</td>\n      <td>7.10</td>\n      <td>772</td>\n      <td>144668.87</td>\n      <td>https://www.ebay.com/itm/325013923406?nordt=tr...</td>\n      <td>May 14, 2023</td>\n    </tr>\n    <tr>\n      <th>2</th>\n      <td>Xiaomi Redmi Note 10 Pro 128GB 6GB RAM GSM FAC...</td>\n      <td>282.12</td>\n      <td>12.05</td>\n      <td>455</td>\n      <td>128364.84</td>\n      <td>https://www.ebay.com/itm/324648557855?nordt=tr...</td>\n      <td>May 5, 2023</td>\n    </tr>\n    <tr>\n      <th>3</th>\n      <td>Xiaomi Redmi Note 11 Pro+ 5G Plus 256GB 8GB RA...</td>\n      <td>395.19</td>\n      <td>12.25</td>\n      <td>408</td>\n      <td>161235.53</td>\n      <td>https://www.ebay.com/itm/203898287868?nordt=tr...</td>\n      <td>May 10, 2023</td>\n    </tr>\n    <tr>\n      <th>4</th>\n      <td>Xiaomi Redmi Note 10 *5G* 128GB 4GB RAM GSM Un...</td>\n      <td>195.45</td>\n      <td>8.60</td>\n      <td>428</td>\n      <td>83654.10</td>\n      <td>https://www.ebay.com/itm/324618206904?nordt=tr...</td>\n      <td>Jan 18, 2023</td>\n    </tr>\n  </tbody>\n</table>\n</div>"
     },
     "execution_count": 15,
     "metadata": {},
     "output_type": "execute_result"
    }
   ],
   "source": [
    "df_items.head()"
   ],
   "metadata": {
    "collapsed": false,
    "pycharm": {
     "name": "#%%\n"
    }
   }
  },
  {
   "cell_type": "code",
   "execution_count": 17,
   "outputs": [
    {
     "data": {
      "text/plain": "                                               Title   Price  Shipping_cost  \\\n0  Wall Outlet To Triple USB Power Adapter - Wall...    9.99          12.91   \n1  Xiaomi Redmi Note 11 128GB 4GB RAM GSM Unlocke...  187.39           7.10   \n2  Xiaomi Redmi Note 10 Pro 128GB 6GB RAM GSM FAC...  282.12          12.05   \n3  Xiaomi Redmi Note 11 Pro+ 5G Plus 256GB 8GB RA...  395.19          12.25   \n4  Xiaomi Redmi Note 10 *5G* 128GB 4GB RAM GSM Un...  195.45           8.60   \n\n   Sales_Count  Sales_Value  \\\n0          940      9388.60   \n1          772    144668.87   \n2          455    128364.84   \n3          408    161235.53   \n4          428     83654.10   \n\n                                                Link     Last_Sale   brand  \n0  https://www.ebay.com/itm/363346871915?nordt=tr...  May 11, 2023     NaN  \n1  https://www.ebay.com/itm/325013923406?nordt=tr...  May 14, 2023  xiaomi  \n2  https://www.ebay.com/itm/324648557855?nordt=tr...   May 5, 2023  xiaomi  \n3  https://www.ebay.com/itm/203898287868?nordt=tr...  May 10, 2023  xiaomi  \n4  https://www.ebay.com/itm/324618206904?nordt=tr...  Jan 18, 2023  xiaomi  ",
      "text/html": "<div>\n<style scoped>\n    .dataframe tbody tr th:only-of-type {\n        vertical-align: middle;\n    }\n\n    .dataframe tbody tr th {\n        vertical-align: top;\n    }\n\n    .dataframe thead th {\n        text-align: right;\n    }\n</style>\n<table border=\"1\" class=\"dataframe\">\n  <thead>\n    <tr style=\"text-align: right;\">\n      <th></th>\n      <th>Title</th>\n      <th>Price</th>\n      <th>Shipping_cost</th>\n      <th>Sales_Count</th>\n      <th>Sales_Value</th>\n      <th>Link</th>\n      <th>Last_Sale</th>\n      <th>brand</th>\n    </tr>\n  </thead>\n  <tbody>\n    <tr>\n      <th>0</th>\n      <td>Wall Outlet To Triple USB Power Adapter - Wall...</td>\n      <td>9.99</td>\n      <td>12.91</td>\n      <td>940</td>\n      <td>9388.60</td>\n      <td>https://www.ebay.com/itm/363346871915?nordt=tr...</td>\n      <td>May 11, 2023</td>\n      <td>NaN</td>\n    </tr>\n    <tr>\n      <th>1</th>\n      <td>Xiaomi Redmi Note 11 128GB 4GB RAM GSM Unlocke...</td>\n      <td>187.39</td>\n      <td>7.10</td>\n      <td>772</td>\n      <td>144668.87</td>\n      <td>https://www.ebay.com/itm/325013923406?nordt=tr...</td>\n      <td>May 14, 2023</td>\n      <td>xiaomi</td>\n    </tr>\n    <tr>\n      <th>2</th>\n      <td>Xiaomi Redmi Note 10 Pro 128GB 6GB RAM GSM FAC...</td>\n      <td>282.12</td>\n      <td>12.05</td>\n      <td>455</td>\n      <td>128364.84</td>\n      <td>https://www.ebay.com/itm/324648557855?nordt=tr...</td>\n      <td>May 5, 2023</td>\n      <td>xiaomi</td>\n    </tr>\n    <tr>\n      <th>3</th>\n      <td>Xiaomi Redmi Note 11 Pro+ 5G Plus 256GB 8GB RA...</td>\n      <td>395.19</td>\n      <td>12.25</td>\n      <td>408</td>\n      <td>161235.53</td>\n      <td>https://www.ebay.com/itm/203898287868?nordt=tr...</td>\n      <td>May 10, 2023</td>\n      <td>xiaomi</td>\n    </tr>\n    <tr>\n      <th>4</th>\n      <td>Xiaomi Redmi Note 10 *5G* 128GB 4GB RAM GSM Un...</td>\n      <td>195.45</td>\n      <td>8.60</td>\n      <td>428</td>\n      <td>83654.10</td>\n      <td>https://www.ebay.com/itm/324618206904?nordt=tr...</td>\n      <td>Jan 18, 2023</td>\n      <td>xiaomi</td>\n    </tr>\n  </tbody>\n</table>\n</div>"
     },
     "execution_count": 17,
     "metadata": {},
     "output_type": "execute_result"
    }
   ],
   "source": [
    "brands_list = ['Apple', 'Samsung', 'Huawei', 'Xiaomi', 'Oppo', 'OnePlus', 'Google', 'Motorola', 'Sony', 'LG', 'HTC', 'Nokia', 'BlackBerry', 'Lenovo', 'Asus', 'ZTE', 'Alcatel', 'Vivo', 'Realme', 'Honor']\n",
    "brands_regex = re.compile('('+ '|'.join(brands_list) + ')', flags=re.IGNORECASE)\n",
    "\n",
    "df_items['brand'] = df_items['Title'].str.extract(brands_regex)\n",
    "df_items['brand'] = df_items['brand'].apply(lambda x: x.lower() if type(x) == str else x)\n",
    "df_items.head()"
   ],
   "metadata": {
    "collapsed": false,
    "pycharm": {
     "name": "#%%\n"
    }
   }
  },
  {
   "cell_type": "code",
   "execution_count": 18,
   "outputs": [],
   "source": [
    "characteristics_df = pd.read_csv(\"https://raw.githubusercontent.com/AleksKids/hedonistic-demand-from-ebay/main/Data%20Tables/Redmi/Redmi%20Characteristics.tsv\", delimiter = \"\\t\")"
   ],
   "metadata": {
    "collapsed": false,
    "pycharm": {
     "name": "#%%\n"
    }
   }
  },
  {
   "cell_type": "code",
   "execution_count": 24,
   "outputs": [
    {
     "data": {
      "text/plain": "['Link',\n 'Condition',\n 'MPN',\n 'Model Number',\n 'Brand',\n 'Model',\n 'Style',\n 'Connectivity',\n 'Country/Region of Manufacture',\n 'Processor',\n 'Screen Size',\n 'Lock Status',\n 'SIM Card Slot',\n 'Network',\n 'Operating System',\n 'Features',\n 'Storage Capacity',\n 'Contract',\n 'RAM',\n 'Memory Card Type',\n 'Camera Resolution',\n 'Color',\n 'Chipset Model',\n 'Manufacturer Warranty',\n 'Seller Notes']"
     },
     "execution_count": 24,
     "metadata": {},
     "output_type": "execute_result"
    }
   ],
   "source": [
    "cols = list(characteristics_df.count()[(characteristics_df.count()>(len(characteristics_df)*0.2))].index)\n",
    "cols"
   ],
   "metadata": {
    "collapsed": false,
    "pycharm": {
     "name": "#%%\n"
    }
   }
  },
  {
   "cell_type": "code",
   "execution_count": 25,
   "outputs": [],
   "source": [
    "characteristics_df = characteristics_df[cols]"
   ],
   "metadata": {
    "collapsed": false,
    "pycharm": {
     "name": "#%%\n"
    }
   }
  },
  {
   "cell_type": "code",
   "execution_count": 26,
   "outputs": [
    {
     "data": {
      "text/plain": "Link                               0\nCondition                          0\nBrand                              3\nModel                             93\nOperating System                 141\nStorage Capacity                 151\nLock Status                      162\nSIM Card Slot                    171\nScreen Size                      179\nCamera Resolution                198\nProcessor                        201\nNetwork                          209\nContract                         239\nConnectivity                     246\nRAM                              271\nFeatures                         359\nMemory Card Type                 415\nMPN                              425\nColor                            438\nStyle                            497\nModel Number                     590\nCountry/Region of Manufacture    642\nChipset Model                    676\nSeller Notes                     686\nManufacturer Warranty            711\ndtype: int64"
     },
     "execution_count": 26,
     "metadata": {},
     "output_type": "execute_result"
    }
   ],
   "source": [
    "characteristics_df.isna().sum().sort_values()"
   ],
   "metadata": {
    "collapsed": false,
    "pycharm": {
     "name": "#%%\n"
    }
   }
  },
  {
   "cell_type": "code",
   "execution_count": 27,
   "outputs": [],
   "source": [
    "merged_df = df_items.merge(characteristics_df, on='Link', how='inner')"
   ],
   "metadata": {
    "collapsed": false,
    "pycharm": {
     "name": "#%%\n"
    }
   }
  },
  {
   "cell_type": "code",
   "execution_count": 28,
   "outputs": [
    {
     "name": "stderr",
     "output_type": "stream",
     "text": [
      "C:\\Users\\druny\\AppData\\Local\\Temp\\ipykernel_16392\\2412579994.py:1: SettingWithCopyWarning: \n",
      "A value is trying to be set on a copy of a slice from a DataFrame\n",
      "\n",
      "See the caveats in the documentation: https://pandas.pydata.org/pandas-docs/stable/user_guide/indexing.html#returning-a-view-versus-a-copy\n",
      "  merged_df[\"Brand\"][merged_df[\"Brand\"].isna()] = merged_df[\"brand\"].apply(lambda x: x.title() if type(x)==str else x)\n"
     ]
    }
   ],
   "source": [
    "merged_df[\"Brand\"][merged_df[\"Brand\"].isna()] = merged_df[\"brand\"].apply(lambda x: x.title() if type(x)==str else x)"
   ],
   "metadata": {
    "collapsed": false,
    "pycharm": {
     "name": "#%%\n"
    }
   }
  },
  {
   "cell_type": "code",
   "execution_count": 29,
   "outputs": [
    {
     "data": {
      "text/plain": "Title                            894\nPrice                            894\nShipping_cost                    894\nSales_Count                      894\nSales_Value                      894\nLink                             894\nLast_Sale                        894\nbrand                            834\nCondition                        894\nMPN                              469\nModel Number                     304\nBrand                            894\nModel                            799\nStyle                            397\nConnectivity                     648\nCountry/Region of Manufacture    252\nProcessor                        693\nScreen Size                      715\nLock Status                      732\nSIM Card Slot                    723\nNetwork                          685\nOperating System                 753\nFeatures                         535\nStorage Capacity                 741\nContract                         655\nRAM                              621\nMemory Card Type                 477\nCamera Resolution                696\nColor                            452\nChipset Model                    214\nManufacturer Warranty            181\nSeller Notes                     204\ndtype: int64"
     },
     "execution_count": 29,
     "metadata": {},
     "output_type": "execute_result"
    }
   ],
   "source": [
    "(~merged_df.isna()).sum()"
   ],
   "metadata": {
    "collapsed": false,
    "pycharm": {
     "name": "#%%\n"
    }
   }
  },
  {
   "cell_type": "code",
   "execution_count": 31,
   "outputs": [
    {
     "data": {
      "text/plain": "Title                            Xiaomi Redmi Note 10 Pro 256GB 8GB RAM (FACTOR...\nPrice                                                                       269.37\nShipping_cost                                                                34.99\nSales_Count                                                                     24\nSales_Value                                                                6464.76\nLink                             https://www.ebay.com/itm/195460458451?nordt=tr...\nLast_Sale                                                              May 7, 2023\nbrand                                                                       xiaomi\nCondition                        New: A brand-new, unused, unopened, undamaged ...\nMPN                                                                            NaN\nModel Number                                                              M2101K6G\nBrand                                                                       Xiaomi\nModel                                                            Redmi Note 10 Pro\nStyle                                                                          NaN\nConnectivity                                                                   NaN\nCountry/Region of Manufacture                                                  NaN\nProcessor                                                          Snapdragon 732G\nScreen Size                                                                  6.53\"\nLock Status                                                       Factory Unlocked\nSIM Card Slot                                                             Dual SIM\nNetwork                                                                        NaN\nOperating System                                                           Android\nFeatures                                                                       NaN\nStorage Capacity                                                            256 GB\nContract                                                          Without Contract\nRAM                                                                           8 GB\nMemory Card Type                                                               NaN\nCamera Resolution                                                         108.0 MP\nColor                                                                          NaN\nChipset Model                                                                  NaN\nManufacturer Warranty                                                          NaN\nSeller Notes                                                                   NaN\nName: 100, dtype: object"
     },
     "execution_count": 31,
     "metadata": {},
     "output_type": "execute_result"
    }
   ],
   "source": [
    "merged_df.iloc[100]"
   ],
   "metadata": {
    "collapsed": false,
    "pycharm": {
     "name": "#%%\n"
    }
   }
  },
  {
   "cell_type": "code",
   "execution_count": 32,
   "outputs": [],
   "source": [
    "merged_df.drop('brand', axis=1, inplace = True)"
   ],
   "metadata": {
    "collapsed": false,
    "pycharm": {
     "name": "#%%\n"
    }
   }
  },
  {
   "cell_type": "code",
   "execution_count": 33,
   "outputs": [],
   "source": [
    "merged_df.to_csv(\"Redmi Merged.tsv\", sep=\"\\t\")"
   ],
   "metadata": {
    "collapsed": false,
    "pycharm": {
     "name": "#%%\n"
    }
   }
  },
  {
   "cell_type": "code",
   "execution_count": 34,
   "outputs": [
    {
     "data": {
      "text/plain": "(894, 31)"
     },
     "execution_count": 34,
     "metadata": {},
     "output_type": "execute_result"
    }
   ],
   "source": [
    "merged_df.shape"
   ],
   "metadata": {
    "collapsed": false,
    "pycharm": {
     "name": "#%%\n"
    }
   }
  },
  {
   "cell_type": "markdown",
   "source": [
    "## Вторичная предобработка полученных с eBay данных"
   ],
   "metadata": {
    "collapsed": false
   }
  },
  {
   "cell_type": "code",
   "execution_count": 35,
   "outputs": [],
   "source": [
    "df = pd.read_csv('https://raw.githubusercontent.com/AleksKids/hedonistic-demand-from-ebay/main/Preprocessing/Redmi/Redmi%20Merged.tsv', delimiter = '\\t')"
   ],
   "metadata": {
    "collapsed": false,
    "pycharm": {
     "name": "#%%\n"
    }
   }
  },
  {
   "cell_type": "code",
   "execution_count": 36,
   "outputs": [
    {
     "data": {
      "text/plain": "   Unnamed: 0                                              Title   Price  \\\n0           0  Wall Outlet To Triple USB Power Adapter - Wall...    9.99   \n1           1  Xiaomi Redmi Note 11 128GB 4GB RAM GSM Unlocke...  187.39   \n2           2  Xiaomi Redmi Note 10 Pro 128GB 6GB RAM GSM FAC...  282.12   \n3           3  Xiaomi Redmi Note 11 Pro+ 5G Plus 256GB 8GB RA...  395.19   \n4           4  Xiaomi Redmi Note 10 *5G* 128GB 4GB RAM GSM Un...  195.45   \n\n   Shipping_cost  Sales_Count  Sales_Value  \\\n0          12.91          940      9388.60   \n1           7.10          772    144668.87   \n2          12.05          455    128364.84   \n3          12.25          408    161235.53   \n4           8.60          428     83654.10   \n\n                                                Link     Last_Sale  \\\n0  https://www.ebay.com/itm/363346871915?nordt=tr...  May 11, 2023   \n1  https://www.ebay.com/itm/325013923406?nordt=tr...  May 14, 2023   \n2  https://www.ebay.com/itm/324648557855?nordt=tr...   May 5, 2023   \n3  https://www.ebay.com/itm/203898287868?nordt=tr...  May 10, 2023   \n4  https://www.ebay.com/itm/324618206904?nordt=tr...  Jan 18, 2023   \n\n                                           Condition  \\\n0  New: A brand-new, unused, unopened, undamaged ...   \n1  New: A brand-new, unused, unopened, undamaged ...   \n2  New: A brand-new, unused, unopened, undamaged ...   \n3  New: A brand-new, unused, unopened, undamaged ...   \n4  New: A brand-new, unused, unopened, undamaged ...   \n\n                                                 MPN  ...  \\\n0  dual-slot-pc-plug-in-mobile-cell-phone-replace...  ...   \n1                                                NaN  ...   \n2                                        Note 10 pro  ...   \n3                                                NaN  ...   \n4                                                NaN  ...   \n\n                    Features Storage Capacity          Contract   RAM  \\\n0                        NaN              NaN               NaN   NaN   \n1          Bluetooth Enabled           128 GB  Without Contract  4 GB   \n2  Bluetooth Enabled, Camera           128 GB  Without Contract  6 GB   \n3                        NaN           256 GB  Without Contract  8 GB   \n4  Bluetooth Enabled, Camera           128 GB  Without Contract  4 GB   \n\n  Memory Card Type Camera Resolution Color Chipset Model  \\\n0              NaN               NaN   NaN           NaN   \n1              NaN               NaN   NaN           NaN   \n2          MicroSD          108.0 MP   NaN           NaN   \n3              NaN          108.0 MP   NaN           NaN   \n4        microSDXC           48.0 MP   NaN           NaN   \n\n  Manufacturer Warranty Seller Notes  \n0                   NaN          NaN  \n1                   NaN          NaN  \n2                   NaN          NaN  \n3                   NaN          NaN  \n4                   NaN          NaN  \n\n[5 rows x 32 columns]",
      "text/html": "<div>\n<style scoped>\n    .dataframe tbody tr th:only-of-type {\n        vertical-align: middle;\n    }\n\n    .dataframe tbody tr th {\n        vertical-align: top;\n    }\n\n    .dataframe thead th {\n        text-align: right;\n    }\n</style>\n<table border=\"1\" class=\"dataframe\">\n  <thead>\n    <tr style=\"text-align: right;\">\n      <th></th>\n      <th>Unnamed: 0</th>\n      <th>Title</th>\n      <th>Price</th>\n      <th>Shipping_cost</th>\n      <th>Sales_Count</th>\n      <th>Sales_Value</th>\n      <th>Link</th>\n      <th>Last_Sale</th>\n      <th>Condition</th>\n      <th>MPN</th>\n      <th>...</th>\n      <th>Features</th>\n      <th>Storage Capacity</th>\n      <th>Contract</th>\n      <th>RAM</th>\n      <th>Memory Card Type</th>\n      <th>Camera Resolution</th>\n      <th>Color</th>\n      <th>Chipset Model</th>\n      <th>Manufacturer Warranty</th>\n      <th>Seller Notes</th>\n    </tr>\n  </thead>\n  <tbody>\n    <tr>\n      <th>0</th>\n      <td>0</td>\n      <td>Wall Outlet To Triple USB Power Adapter - Wall...</td>\n      <td>9.99</td>\n      <td>12.91</td>\n      <td>940</td>\n      <td>9388.60</td>\n      <td>https://www.ebay.com/itm/363346871915?nordt=tr...</td>\n      <td>May 11, 2023</td>\n      <td>New: A brand-new, unused, unopened, undamaged ...</td>\n      <td>dual-slot-pc-plug-in-mobile-cell-phone-replace...</td>\n      <td>...</td>\n      <td>NaN</td>\n      <td>NaN</td>\n      <td>NaN</td>\n      <td>NaN</td>\n      <td>NaN</td>\n      <td>NaN</td>\n      <td>NaN</td>\n      <td>NaN</td>\n      <td>NaN</td>\n      <td>NaN</td>\n    </tr>\n    <tr>\n      <th>1</th>\n      <td>1</td>\n      <td>Xiaomi Redmi Note 11 128GB 4GB RAM GSM Unlocke...</td>\n      <td>187.39</td>\n      <td>7.10</td>\n      <td>772</td>\n      <td>144668.87</td>\n      <td>https://www.ebay.com/itm/325013923406?nordt=tr...</td>\n      <td>May 14, 2023</td>\n      <td>New: A brand-new, unused, unopened, undamaged ...</td>\n      <td>NaN</td>\n      <td>...</td>\n      <td>Bluetooth Enabled</td>\n      <td>128 GB</td>\n      <td>Without Contract</td>\n      <td>4 GB</td>\n      <td>NaN</td>\n      <td>NaN</td>\n      <td>NaN</td>\n      <td>NaN</td>\n      <td>NaN</td>\n      <td>NaN</td>\n    </tr>\n    <tr>\n      <th>2</th>\n      <td>2</td>\n      <td>Xiaomi Redmi Note 10 Pro 128GB 6GB RAM GSM FAC...</td>\n      <td>282.12</td>\n      <td>12.05</td>\n      <td>455</td>\n      <td>128364.84</td>\n      <td>https://www.ebay.com/itm/324648557855?nordt=tr...</td>\n      <td>May 5, 2023</td>\n      <td>New: A brand-new, unused, unopened, undamaged ...</td>\n      <td>Note 10 pro</td>\n      <td>...</td>\n      <td>Bluetooth Enabled, Camera</td>\n      <td>128 GB</td>\n      <td>Without Contract</td>\n      <td>6 GB</td>\n      <td>MicroSD</td>\n      <td>108.0 MP</td>\n      <td>NaN</td>\n      <td>NaN</td>\n      <td>NaN</td>\n      <td>NaN</td>\n    </tr>\n    <tr>\n      <th>3</th>\n      <td>3</td>\n      <td>Xiaomi Redmi Note 11 Pro+ 5G Plus 256GB 8GB RA...</td>\n      <td>395.19</td>\n      <td>12.25</td>\n      <td>408</td>\n      <td>161235.53</td>\n      <td>https://www.ebay.com/itm/203898287868?nordt=tr...</td>\n      <td>May 10, 2023</td>\n      <td>New: A brand-new, unused, unopened, undamaged ...</td>\n      <td>NaN</td>\n      <td>...</td>\n      <td>NaN</td>\n      <td>256 GB</td>\n      <td>Without Contract</td>\n      <td>8 GB</td>\n      <td>NaN</td>\n      <td>108.0 MP</td>\n      <td>NaN</td>\n      <td>NaN</td>\n      <td>NaN</td>\n      <td>NaN</td>\n    </tr>\n    <tr>\n      <th>4</th>\n      <td>4</td>\n      <td>Xiaomi Redmi Note 10 *5G* 128GB 4GB RAM GSM Un...</td>\n      <td>195.45</td>\n      <td>8.60</td>\n      <td>428</td>\n      <td>83654.10</td>\n      <td>https://www.ebay.com/itm/324618206904?nordt=tr...</td>\n      <td>Jan 18, 2023</td>\n      <td>New: A brand-new, unused, unopened, undamaged ...</td>\n      <td>NaN</td>\n      <td>...</td>\n      <td>Bluetooth Enabled, Camera</td>\n      <td>128 GB</td>\n      <td>Without Contract</td>\n      <td>4 GB</td>\n      <td>microSDXC</td>\n      <td>48.0 MP</td>\n      <td>NaN</td>\n      <td>NaN</td>\n      <td>NaN</td>\n      <td>NaN</td>\n    </tr>\n  </tbody>\n</table>\n<p>5 rows × 32 columns</p>\n</div>"
     },
     "execution_count": 36,
     "metadata": {},
     "output_type": "execute_result"
    }
   ],
   "source": [
    "df.head()"
   ],
   "metadata": {
    "collapsed": false,
    "pycharm": {
     "name": "#%%\n"
    }
   }
  },
  {
   "cell_type": "code",
   "execution_count": 37,
   "outputs": [
    {
     "data": {
      "text/plain": "Index(['Unnamed: 0', 'Title', 'Price', 'Shipping_cost', 'Sales_Count',\n       'Sales_Value', 'Link', 'Last_Sale', 'Condition', 'MPN', 'Model Number',\n       'Brand', 'Model', 'Style', 'Connectivity',\n       'Country/Region of Manufacture', 'Processor', 'Screen Size',\n       'Lock Status', 'SIM Card Slot', 'Network', 'Operating System',\n       'Features', 'Storage Capacity', 'Contract', 'RAM', 'Memory Card Type',\n       'Camera Resolution', 'Color', 'Chipset Model', 'Manufacturer Warranty',\n       'Seller Notes'],\n      dtype='object')"
     },
     "execution_count": 37,
     "metadata": {},
     "output_type": "execute_result"
    }
   ],
   "source": [
    "df.columns"
   ],
   "metadata": {
    "collapsed": false,
    "pycharm": {
     "name": "#%%\n"
    }
   }
  },
  {
   "cell_type": "code",
   "execution_count": 38,
   "outputs": [],
   "source": [
    "df.drop(columns = 'Unnamed: 0', inplace = True)"
   ],
   "metadata": {
    "collapsed": false,
    "pycharm": {
     "name": "#%%\n"
    }
   }
  },
  {
   "cell_type": "code",
   "execution_count": 39,
   "outputs": [
    {
     "data": {
      "text/plain": "<Axes: >"
     },
     "execution_count": 39,
     "metadata": {},
     "output_type": "execute_result"
    },
    {
     "data": {
      "text/plain": "<Figure size 640x480 with 1 Axes>",
      "image/png": "[encoded data removed]"
     },
     "metadata": {},
     "output_type": "display_data"
    }
   ],
   "source": [
    "import seaborn as sns\n",
    "sns.boxplot(df.Price)"
   ],
   "metadata": {
    "collapsed": false,
    "pycharm": {
     "name": "#%%\n"
    }
   }
  },
  {
   "cell_type": "markdown",
   "source": [
    "## Ищем и убираем мусор."
   ],
   "metadata": {
    "collapsed": false
   }
  },
  {
   "cell_type": "code",
   "execution_count": 40,
   "outputs": [
    {
     "data": {
      "text/plain": "                                                 Title   Price  Shipping_cost  \\\n299  Xiaomi Redmi K60 Pro 5G Smartphone Android 13 ...  737.24           0.00   \n330  Xiaomi Redmi Note 12 Turbo Redmi Harry Potter ...  737.50           0.00   \n370  New Xiaomi Redmi K60 Pro Smartphone MIUI 14 Sn...  751.66           0.00   \n383  Redmi K50 Gaming Mercedes AMG F1 Edition 5G 6....  989.91          42.00   \n454  Xiaomi Redmi K40 Pro+ Snapdragon 888 5G AMOLED...  810.00          23.99   \n656  Xiaomi Redmi Note 11T Pro+ 5G 6.6\" 8/256GB Ast...  850.89          42.00   \n677  Xiaomi Redmi Note 12 Turbo Harry Potter Editio...  799.87           0.00   \n752  Xiaomi Redmi K60 Pro 5G Smartphone MIUI 14 Sna...  897.99           0.00   \n763  Xiaomi Redmi K50 Ultra 6.67\"OLED 12/512GB Snap...  940.47           0.00   \n\n     Sales_Count  Sales_Value  \\\n299            4      2948.96   \n330            4      2950.00   \n370            3      2254.97   \n383            3      2969.74   \n454            2      1620.00   \n656            1       850.89   \n677            1       799.87   \n752            1       897.99   \n763            1       940.47   \n\n                                                  Link     Last_Sale  \\\n299  https://www.ebay.com/itm/165860998047?nordt=tr...  Mar 29, 2023   \n330  https://www.ebay.com/itm/394589146641?nordt=tr...  May 11, 2023   \n370  https://www.ebay.com/itm/285093557882?nordt=tr...   May 6, 2023   \n383  https://www.ebay.com/itm/334340689478?nordt=tr...   May 7, 2022   \n454  https://www.ebay.com/itm/274819854632?nordt=tr...  Jul 29, 2021   \n656  https://www.ebay.com/itm/175297461151?nordt=tr...  Aug 20, 2022   \n677  https://www.ebay.com/itm/175671147951?nordt=tr...  May 14, 2023   \n752  https://www.ebay.com/itm/204201393431?nordt=tr...  Feb 22, 2023   \n763  https://www.ebay.com/itm/225125528863?nordt=tr...  Sep 13, 2022   \n\n                                             Condition             MPN  \\\n299  New: A brand-new, unused, unopened, undamaged ...  Does Not Apply   \n330  New: A brand-new, unused, unopened, undamaged ...        Tt684567   \n370  New: A brand-new, unused, unopened, undamaged ...  Does Not Apply   \n383  New: A brand-new, unused, unopened, undamaged ...  Does Not Apply   \n454  New: A brand-new, unused, unopened, undamaged ...             NaN   \n656  New: A brand-new, unused, unopened, undamaged ...  Does Not Apply   \n677  New: A brand-new, unused, unopened, undamaged ...  Does Not Apply   \n752  New: A brand-new, unused, unopened, undamaged ...  Does Not Apply   \n763  New: A brand-new, unused, unopened, undamaged ...  Does Not Apply   \n\n      Model Number  ...                                           Features  \\\n299            NaN  ...  4K Video Recording, Bluetooth Enabled, Camera,...   \n330            NaN  ...                                      Accelerometer   \n370  Redmi K60 Pro  ...  4K Video Recording, Bluetooth Enabled, Camera,...   \n383            NaN  ...  OLED, 1B colors, 120Hz, HDR10+, 4K Video Recor...   \n454            NaN  ...  3D Depth Camera, 4K Video Recording, Accelerom...   \n656            NaN  ...      IPS LCD, 144Hz, HDR10, Dolby Vision, 650 nits   \n677            NaN  ...  OLED, 1B colors, 120Hz, Dolby Vision, HDR10+, ...   \n752            NaN  ...  4K Video Recording, Bluetooth Enabled, Camera,...   \n763            NaN  ...                                 4K Video Recording   \n\n    Storage Capacity          Contract    RAM Memory Card Type  \\\n299              NaN  Without Contract    NaN    No Applicable   \n330       12GB+256GB  Without Contract  12 GB          MicroSD   \n370              NaN  Without Contract    NaN    No Applicable   \n383           256 GB  Without Contract  12 GB    No Applicable   \n454           256 GB  Without Contract  12 GB              NaN   \n656           256 GB               NaN    8GB              NaN   \n677            256GB               NaN  12 GB              NaN   \n752              NaN  Without Contract    NaN    No Applicable   \n763           512 GB  Without Contract  12 GB   Not Applicable   \n\n    Camera Resolution                 Color                Chipset Model  \\\n299             54 MP                   NaN  Qualcomm Snapdragon 8 Gen 2   \n330           64.0 MP  Harry Potter Edition                         Info   \n370             54 MP                   NaN  Qualcomm Snapdragon 8 Gen 2   \n383           64.0 MP                   NaN                          NaN   \n454          108.0 MP                Aurora                          NaN   \n656    64.0 Megapixel                Silver                          NaN   \n677           64.0 MP                   NaN                          NaN   \n752             54 MP                   NaN  Qualcomm Snapdragon 8 Gen 2   \n763          108.0 MP                   NaN                          NaN   \n\n    Manufacturer Warranty Seller Notes  \n299                1 year          NaN  \n330               1 Month          NaN  \n370                1 year          NaN  \n383                   NaN          NaN  \n454                   NaN          NaN  \n656                   NaN          NaN  \n677                   NaN          NaN  \n752                1 year          NaN  \n763                   NaN          NaN  \n\n[9 rows x 31 columns]",
      "text/html": "<div>\n<style scoped>\n    .dataframe tbody tr th:only-of-type {\n        vertical-align: middle;\n    }\n\n    .dataframe tbody tr th {\n        vertical-align: top;\n    }\n\n    .dataframe thead th {\n        text-align: right;\n    }\n</style>\n<table border=\"1\" class=\"dataframe\">\n  <thead>\n    <tr style=\"text-align: right;\">\n      <th></th>\n      <th>Title</th>\n      <th>Price</th>\n      <th>Shipping_cost</th>\n      <th>Sales_Count</th>\n      <th>Sales_Value</th>\n      <th>Link</th>\n      <th>Last_Sale</th>\n      <th>Condition</th>\n      <th>MPN</th>\n      <th>Model Number</th>\n      <th>...</th>\n      <th>Features</th>\n      <th>Storage Capacity</th>\n      <th>Contract</th>\n      <th>RAM</th>\n      <th>Memory Card Type</th>\n      <th>Camera Resolution</th>\n      <th>Color</th>\n      <th>Chipset Model</th>\n      <th>Manufacturer Warranty</th>\n      <th>Seller Notes</th>\n    </tr>\n  </thead>\n  <tbody>\n    <tr>\n      <th>299</th>\n      <td>Xiaomi Redmi K60 Pro 5G Smartphone Android 13 ...</td>\n      <td>737.24</td>\n      <td>0.00</td>\n      <td>4</td>\n      <td>2948.96</td>\n      <td>https://www.ebay.com/itm/165860998047?nordt=tr...</td>\n      <td>Mar 29, 2023</td>\n      <td>New: A brand-new, unused, unopened, undamaged ...</td>\n      <td>Does Not Apply</td>\n      <td>NaN</td>\n      <td>...</td>\n      <td>4K Video Recording, Bluetooth Enabled, Camera,...</td>\n      <td>NaN</td>\n      <td>Without Contract</td>\n      <td>NaN</td>\n      <td>No Applicable</td>\n      <td>54 MP</td>\n      <td>NaN</td>\n      <td>Qualcomm Snapdragon 8 Gen 2</td>\n      <td>1 year</td>\n      <td>NaN</td>\n    </tr>\n    <tr>\n      <th>330</th>\n      <td>Xiaomi Redmi Note 12 Turbo Redmi Harry Potter ...</td>\n      <td>737.50</td>\n      <td>0.00</td>\n      <td>4</td>\n      <td>2950.00</td>\n      <td>https://www.ebay.com/itm/394589146641?nordt=tr...</td>\n      <td>May 11, 2023</td>\n      <td>New: A brand-new, unused, unopened, undamaged ...</td>\n      <td>Tt684567</td>\n      <td>NaN</td>\n      <td>...</td>\n      <td>Accelerometer</td>\n      <td>12GB+256GB</td>\n      <td>Without Contract</td>\n      <td>12 GB</td>\n      <td>MicroSD</td>\n      <td>64.0 MP</td>\n      <td>Harry Potter Edition</td>\n      <td>Info</td>\n      <td>1 Month</td>\n      <td>NaN</td>\n    </tr>\n    <tr>\n      <th>370</th>\n      <td>New Xiaomi Redmi K60 Pro Smartphone MIUI 14 Sn...</td>\n      <td>751.66</td>\n      <td>0.00</td>\n      <td>3</td>\n      <td>2254.97</td>\n      <td>https://www.ebay.com/itm/285093557882?nordt=tr...</td>\n      <td>May 6, 2023</td>\n      <td>New: A brand-new, unused, unopened, undamaged ...</td>\n      <td>Does Not Apply</td>\n      <td>Redmi K60 Pro</td>\n      <td>...</td>\n      <td>4K Video Recording, Bluetooth Enabled, Camera,...</td>\n      <td>NaN</td>\n      <td>Without Contract</td>\n      <td>NaN</td>\n      <td>No Applicable</td>\n      <td>54 MP</td>\n      <td>NaN</td>\n      <td>Qualcomm Snapdragon 8 Gen 2</td>\n      <td>1 year</td>\n      <td>NaN</td>\n    </tr>\n    <tr>\n      <th>383</th>\n      <td>Redmi K50 Gaming Mercedes AMG F1 Edition 5G 6....</td>\n      <td>989.91</td>\n      <td>42.00</td>\n      <td>3</td>\n      <td>2969.74</td>\n      <td>https://www.ebay.com/itm/334340689478?nordt=tr...</td>\n      <td>May 7, 2022</td>\n      <td>New: A brand-new, unused, unopened, undamaged ...</td>\n      <td>Does Not Apply</td>\n      <td>NaN</td>\n      <td>...</td>\n      <td>OLED, 1B colors, 120Hz, HDR10+, 4K Video Recor...</td>\n      <td>256 GB</td>\n      <td>Without Contract</td>\n      <td>12 GB</td>\n      <td>No Applicable</td>\n      <td>64.0 MP</td>\n      <td>NaN</td>\n      <td>NaN</td>\n      <td>NaN</td>\n      <td>NaN</td>\n    </tr>\n    <tr>\n      <th>454</th>\n      <td>Xiaomi Redmi K40 Pro+ Snapdragon 888 5G AMOLED...</td>\n      <td>810.00</td>\n      <td>23.99</td>\n      <td>2</td>\n      <td>1620.00</td>\n      <td>https://www.ebay.com/itm/274819854632?nordt=tr...</td>\n      <td>Jul 29, 2021</td>\n      <td>New: A brand-new, unused, unopened, undamaged ...</td>\n      <td>NaN</td>\n      <td>NaN</td>\n      <td>...</td>\n      <td>3D Depth Camera, 4K Video Recording, Accelerom...</td>\n      <td>256 GB</td>\n      <td>Without Contract</td>\n      <td>12 GB</td>\n      <td>NaN</td>\n      <td>108.0 MP</td>\n      <td>Aurora</td>\n      <td>NaN</td>\n      <td>NaN</td>\n      <td>NaN</td>\n    </tr>\n    <tr>\n      <th>656</th>\n      <td>Xiaomi Redmi Note 11T Pro+ 5G 6.6\" 8/256GB Ast...</td>\n      <td>850.89</td>\n      <td>42.00</td>\n      <td>1</td>\n      <td>850.89</td>\n      <td>https://www.ebay.com/itm/175297461151?nordt=tr...</td>\n      <td>Aug 20, 2022</td>\n      <td>New: A brand-new, unused, unopened, undamaged ...</td>\n      <td>Does Not Apply</td>\n      <td>NaN</td>\n      <td>...</td>\n      <td>IPS LCD, 144Hz, HDR10, Dolby Vision, 650 nits</td>\n      <td>256 GB</td>\n      <td>NaN</td>\n      <td>8GB</td>\n      <td>NaN</td>\n      <td>64.0 Megapixel</td>\n      <td>Silver</td>\n      <td>NaN</td>\n      <td>NaN</td>\n      <td>NaN</td>\n    </tr>\n    <tr>\n      <th>677</th>\n      <td>Xiaomi Redmi Note 12 Turbo Harry Potter Editio...</td>\n      <td>799.87</td>\n      <td>0.00</td>\n      <td>1</td>\n      <td>799.87</td>\n      <td>https://www.ebay.com/itm/175671147951?nordt=tr...</td>\n      <td>May 14, 2023</td>\n      <td>New: A brand-new, unused, unopened, undamaged ...</td>\n      <td>Does Not Apply</td>\n      <td>NaN</td>\n      <td>...</td>\n      <td>OLED, 1B colors, 120Hz, Dolby Vision, HDR10+, ...</td>\n      <td>256GB</td>\n      <td>NaN</td>\n      <td>12 GB</td>\n      <td>NaN</td>\n      <td>64.0 MP</td>\n      <td>NaN</td>\n      <td>NaN</td>\n      <td>NaN</td>\n      <td>NaN</td>\n    </tr>\n    <tr>\n      <th>752</th>\n      <td>Xiaomi Redmi K60 Pro 5G Smartphone MIUI 14 Sna...</td>\n      <td>897.99</td>\n      <td>0.00</td>\n      <td>1</td>\n      <td>897.99</td>\n      <td>https://www.ebay.com/itm/204201393431?nordt=tr...</td>\n      <td>Feb 22, 2023</td>\n      <td>New: A brand-new, unused, unopened, undamaged ...</td>\n      <td>Does Not Apply</td>\n      <td>NaN</td>\n      <td>...</td>\n      <td>4K Video Recording, Bluetooth Enabled, Camera,...</td>\n      <td>NaN</td>\n      <td>Without Contract</td>\n      <td>NaN</td>\n      <td>No Applicable</td>\n      <td>54 MP</td>\n      <td>NaN</td>\n      <td>Qualcomm Snapdragon 8 Gen 2</td>\n      <td>1 year</td>\n      <td>NaN</td>\n    </tr>\n    <tr>\n      <th>763</th>\n      <td>Xiaomi Redmi K50 Ultra 6.67\"OLED 12/512GB Snap...</td>\n      <td>940.47</td>\n      <td>0.00</td>\n      <td>1</td>\n      <td>940.47</td>\n      <td>https://www.ebay.com/itm/225125528863?nordt=tr...</td>\n      <td>Sep 13, 2022</td>\n      <td>New: A brand-new, unused, unopened, undamaged ...</td>\n      <td>Does Not Apply</td>\n      <td>NaN</td>\n      <td>...</td>\n      <td>4K Video Recording</td>\n      <td>512 GB</td>\n      <td>Without Contract</td>\n      <td>12 GB</td>\n      <td>Not Applicable</td>\n      <td>108.0 MP</td>\n      <td>NaN</td>\n      <td>NaN</td>\n      <td>NaN</td>\n      <td>NaN</td>\n    </tr>\n  </tbody>\n</table>\n<p>9 rows × 31 columns</p>\n</div>"
     },
     "execution_count": 40,
     "metadata": {},
     "output_type": "execute_result"
    }
   ],
   "source": [
    "import numpy as np\n",
    "df[df.Price > np.quantile(df.Price, 0.99)]"
   ],
   "metadata": {
    "collapsed": false,
    "pycharm": {
     "name": "#%%\n"
    }
   }
  },
  {
   "cell_type": "code",
   "execution_count": 41,
   "outputs": [
    {
     "data": {
      "text/plain": "                                                 Title  Price  Shipping_cost  \\\n0    Wall Outlet To Triple USB Power Adapter - Wall...   9.99          12.91   \n164  2-Pack for Xiaomi Redmi Note 9S / 9 Pro Privac...  14.32           0.00   \n395  3-Pack For Xiaomi Redmi Note 9 Pro Tempered Gl...  15.34           0.00   \n514  For Xiaomi Redmi Note 9S Case with Tempered Gl...  15.67           0.00   \n525  Xiaomi Redmi 5 (MDG1) 16GB (GSM Unlocked) Dual...   8.00           5.65   \n627  Wool New Zeland pink color 50 g. for felting w...   1.00           5.00   \n774  Xiaomi Redmi Go Smartphone Blue 8GB (Untested)...   9.44          13.99   \n777  Xiaomi Redmi Y1 (Note 5A) Gold MDG6 (Untested)...  10.00          13.99   \n780  Xiaomi Redmi Note 4 Silver (Untested) 32GB And...  10.00           4.00   \n\n     Sales_Count  Sales_Value  \\\n0            940      9388.60   \n164           13       186.11   \n395            2        30.68   \n514            1        15.67   \n525            1         8.00   \n627            1         1.00   \n774            1         9.44   \n777            1        10.00   \n780            1        10.00   \n\n                                                  Link     Last_Sale  \\\n0    https://www.ebay.com/itm/363346871915?nordt=tr...  May 11, 2023   \n164  https://www.ebay.com/itm/383911014382?nordt=tr...  Mar 30, 2023   \n395  https://www.ebay.com/itm/124282710297?nordt=tr...  Nov 21, 2022   \n514  https://www.ebay.com/itm/124348408014?nordt=tr...  May 30, 2021   \n525  https://www.ebay.com/itm/125920750132?nordt=tr...  May 11, 2023   \n627  https://www.ebay.com/itm/165777476624?nordt=tr...  Nov 30, 2022   \n774  https://www.ebay.com/itm/225408831985?nordt=tr...   May 1, 2023   \n777  https://www.ebay.com/itm/225484141873?nordt=tr...  Mar 19, 2023   \n780  https://www.ebay.com/itm/225486774438?nordt=tr...  Mar 19, 2023   \n\n                                             Condition  \\\n0    New: A brand-new, unused, unopened, undamaged ...   \n164  New: A brand-new, unused, unopened, undamaged ...   \n395  New: A brand-new, unused, unopened, undamaged ...   \n514  New: A brand-new, unused, unopened, undamaged ...   \n525  For parts or not working: An item that does no...   \n627                                               Used   \n774                           For parts or not working   \n777  For parts or not working: An item that does no...   \n780  For parts or not working: An item that does no...   \n\n                                                   MPN Model Number  ...  \\\n0    dual-slot-pc-plug-in-mobile-cell-phone-replace...          NaN  ...   \n164                                         UezmG8h06v          NaN  ...   \n395                                                NaN          NaN  ...   \n514                                                NaN          NaN  ...   \n525                                                NaN          NaN  ...   \n627                                                NaN        note3  ...   \n774                                    Xiaomi Redmi Go          NaN  ...   \n777                          Xiaomi Redmi Y1 (Note 5A)          NaN  ...   \n780                                Xiaomi Redmi Note 4          NaN  ...   \n\n                                              Features Storage Capacity  \\\n0                                                  NaN              NaN   \n164                                                NaN   Does Not Apply   \n395                                                NaN              NaN   \n514                                                NaN   Does Not Apply   \n525                                        Dual Screen            16 GB   \n627                                                NaN           128 MB   \n774                    Accelerometer, Proximity Sensor             8 GB   \n777  Accelerometer, Digital Compass, Fingerprint Se...          unknown   \n780  Accelerometer, Digital Compass, Fingerprint Se...            32 GB   \n\n             Contract   RAM Memory Card Type Camera Resolution  \\\n0                 NaN   NaN              NaN               NaN   \n164               NaN   NaN              NaN               NaN   \n395               NaN   NaN              NaN               NaN   \n514               NaN   NaN              NaN               NaN   \n525  Without Contract   NaN              NaN               NaN   \n627  Without Contract   NaN          MicroSD               NaN   \n774               NaN  1 GB               no            8.0 MP   \n777               NaN   NaN        microSDXC           13.0 MP   \n780               NaN  3 GB        microSDXC           13.0 MP   \n\n              Color Chipset Model Manufacturer Warranty  \\\n0               NaN           NaN                   NaN   \n164           Clear           NaN                   NaN   \n395  Does Not Apply           NaN                   NaN   \n514           Black           NaN                   NaN   \n525            Gold           NaN                   NaN   \n627           Black           NaN                   NaN   \n774            Blue           NaN                   NaN   \n777            Gold           NaN                   NaN   \n780          Silver           NaN                   NaN   \n\n                                          Seller Notes  \n0                                                  NaN  \n164                                                NaN  \n395                                                NaN  \n514                                                NaN  \n525                                                NaN  \n627  “Working very fast, but a bad battery I sugges...  \n774         “Please review all photos and description”  \n777                                                NaN  \n780                                                NaN  \n\n[9 rows x 31 columns]",
      "text/html": "<div>\n<style scoped>\n    .dataframe tbody tr th:only-of-type {\n        vertical-align: middle;\n    }\n\n    .dataframe tbody tr th {\n        vertical-align: top;\n    }\n\n    .dataframe thead th {\n        text-align: right;\n    }\n</style>\n<table border=\"1\" class=\"dataframe\">\n  <thead>\n    <tr style=\"text-align: right;\">\n      <th></th>\n      <th>Title</th>\n      <th>Price</th>\n      <th>Shipping_cost</th>\n      <th>Sales_Count</th>\n      <th>Sales_Value</th>\n      <th>Link</th>\n      <th>Last_Sale</th>\n      <th>Condition</th>\n      <th>MPN</th>\n      <th>Model Number</th>\n      <th>...</th>\n      <th>Features</th>\n      <th>Storage Capacity</th>\n      <th>Contract</th>\n      <th>RAM</th>\n      <th>Memory Card Type</th>\n      <th>Camera Resolution</th>\n      <th>Color</th>\n      <th>Chipset Model</th>\n      <th>Manufacturer Warranty</th>\n      <th>Seller Notes</th>\n    </tr>\n  </thead>\n  <tbody>\n    <tr>\n      <th>0</th>\n      <td>Wall Outlet To Triple USB Power Adapter - Wall...</td>\n      <td>9.99</td>\n      <td>12.91</td>\n      <td>940</td>\n      <td>9388.60</td>\n      <td>https://www.ebay.com/itm/363346871915?nordt=tr...</td>\n      <td>May 11, 2023</td>\n      <td>New: A brand-new, unused, unopened, undamaged ...</td>\n      <td>dual-slot-pc-plug-in-mobile-cell-phone-replace...</td>\n      <td>NaN</td>\n      <td>...</td>\n      <td>NaN</td>\n      <td>NaN</td>\n      <td>NaN</td>\n      <td>NaN</td>\n      <td>NaN</td>\n      <td>NaN</td>\n      <td>NaN</td>\n      <td>NaN</td>\n      <td>NaN</td>\n      <td>NaN</td>\n    </tr>\n    <tr>\n      <th>164</th>\n      <td>2-Pack for Xiaomi Redmi Note 9S / 9 Pro Privac...</td>\n      <td>14.32</td>\n      <td>0.00</td>\n      <td>13</td>\n      <td>186.11</td>\n      <td>https://www.ebay.com/itm/383911014382?nordt=tr...</td>\n      <td>Mar 30, 2023</td>\n      <td>New: A brand-new, unused, unopened, undamaged ...</td>\n      <td>UezmG8h06v</td>\n      <td>NaN</td>\n      <td>...</td>\n      <td>NaN</td>\n      <td>Does Not Apply</td>\n      <td>NaN</td>\n      <td>NaN</td>\n      <td>NaN</td>\n      <td>NaN</td>\n      <td>Clear</td>\n      <td>NaN</td>\n      <td>NaN</td>\n      <td>NaN</td>\n    </tr>\n    <tr>\n      <th>395</th>\n      <td>3-Pack For Xiaomi Redmi Note 9 Pro Tempered Gl...</td>\n      <td>15.34</td>\n      <td>0.00</td>\n      <td>2</td>\n      <td>30.68</td>\n      <td>https://www.ebay.com/itm/124282710297?nordt=tr...</td>\n      <td>Nov 21, 2022</td>\n      <td>New: A brand-new, unused, unopened, undamaged ...</td>\n      <td>NaN</td>\n      <td>NaN</td>\n      <td>...</td>\n      <td>NaN</td>\n      <td>NaN</td>\n      <td>NaN</td>\n      <td>NaN</td>\n      <td>NaN</td>\n      <td>NaN</td>\n      <td>Does Not Apply</td>\n      <td>NaN</td>\n      <td>NaN</td>\n      <td>NaN</td>\n    </tr>\n    <tr>\n      <th>514</th>\n      <td>For Xiaomi Redmi Note 9S Case with Tempered Gl...</td>\n      <td>15.67</td>\n      <td>0.00</td>\n      <td>1</td>\n      <td>15.67</td>\n      <td>https://www.ebay.com/itm/124348408014?nordt=tr...</td>\n      <td>May 30, 2021</td>\n      <td>New: A brand-new, unused, unopened, undamaged ...</td>\n      <td>NaN</td>\n      <td>NaN</td>\n      <td>...</td>\n      <td>NaN</td>\n      <td>Does Not Apply</td>\n      <td>NaN</td>\n      <td>NaN</td>\n      <td>NaN</td>\n      <td>NaN</td>\n      <td>Black</td>\n      <td>NaN</td>\n      <td>NaN</td>\n      <td>NaN</td>\n    </tr>\n    <tr>\n      <th>525</th>\n      <td>Xiaomi Redmi 5 (MDG1) 16GB (GSM Unlocked) Dual...</td>\n      <td>8.00</td>\n      <td>5.65</td>\n      <td>1</td>\n      <td>8.00</td>\n      <td>https://www.ebay.com/itm/125920750132?nordt=tr...</td>\n      <td>May 11, 2023</td>\n      <td>For parts or not working: An item that does no...</td>\n      <td>NaN</td>\n      <td>NaN</td>\n      <td>...</td>\n      <td>Dual Screen</td>\n      <td>16 GB</td>\n      <td>Without Contract</td>\n      <td>NaN</td>\n      <td>NaN</td>\n      <td>NaN</td>\n      <td>Gold</td>\n      <td>NaN</td>\n      <td>NaN</td>\n      <td>NaN</td>\n    </tr>\n    <tr>\n      <th>627</th>\n      <td>Wool New Zeland pink color 50 g. for felting w...</td>\n      <td>1.00</td>\n      <td>5.00</td>\n      <td>1</td>\n      <td>1.00</td>\n      <td>https://www.ebay.com/itm/165777476624?nordt=tr...</td>\n      <td>Nov 30, 2022</td>\n      <td>Used</td>\n      <td>NaN</td>\n      <td>note3</td>\n      <td>...</td>\n      <td>NaN</td>\n      <td>128 MB</td>\n      <td>Without Contract</td>\n      <td>NaN</td>\n      <td>MicroSD</td>\n      <td>NaN</td>\n      <td>Black</td>\n      <td>NaN</td>\n      <td>NaN</td>\n      <td>“Working very fast, but a bad battery I sugges...</td>\n    </tr>\n    <tr>\n      <th>774</th>\n      <td>Xiaomi Redmi Go Smartphone Blue 8GB (Untested)...</td>\n      <td>9.44</td>\n      <td>13.99</td>\n      <td>1</td>\n      <td>9.44</td>\n      <td>https://www.ebay.com/itm/225408831985?nordt=tr...</td>\n      <td>May 1, 2023</td>\n      <td>For parts or not working</td>\n      <td>Xiaomi Redmi Go</td>\n      <td>NaN</td>\n      <td>...</td>\n      <td>Accelerometer, Proximity Sensor</td>\n      <td>8 GB</td>\n      <td>NaN</td>\n      <td>1 GB</td>\n      <td>no</td>\n      <td>8.0 MP</td>\n      <td>Blue</td>\n      <td>NaN</td>\n      <td>NaN</td>\n      <td>“Please review all photos and description”</td>\n    </tr>\n    <tr>\n      <th>777</th>\n      <td>Xiaomi Redmi Y1 (Note 5A) Gold MDG6 (Untested)...</td>\n      <td>10.00</td>\n      <td>13.99</td>\n      <td>1</td>\n      <td>10.00</td>\n      <td>https://www.ebay.com/itm/225484141873?nordt=tr...</td>\n      <td>Mar 19, 2023</td>\n      <td>For parts or not working: An item that does no...</td>\n      <td>Xiaomi Redmi Y1 (Note 5A)</td>\n      <td>NaN</td>\n      <td>...</td>\n      <td>Accelerometer, Digital Compass, Fingerprint Se...</td>\n      <td>unknown</td>\n      <td>NaN</td>\n      <td>NaN</td>\n      <td>microSDXC</td>\n      <td>13.0 MP</td>\n      <td>Gold</td>\n      <td>NaN</td>\n      <td>NaN</td>\n      <td>NaN</td>\n    </tr>\n    <tr>\n      <th>780</th>\n      <td>Xiaomi Redmi Note 4 Silver (Untested) 32GB And...</td>\n      <td>10.00</td>\n      <td>4.00</td>\n      <td>1</td>\n      <td>10.00</td>\n      <td>https://www.ebay.com/itm/225486774438?nordt=tr...</td>\n      <td>Mar 19, 2023</td>\n      <td>For parts or not working: An item that does no...</td>\n      <td>Xiaomi Redmi Note 4</td>\n      <td>NaN</td>\n      <td>...</td>\n      <td>Accelerometer, Digital Compass, Fingerprint Se...</td>\n      <td>32 GB</td>\n      <td>NaN</td>\n      <td>3 GB</td>\n      <td>microSDXC</td>\n      <td>13.0 MP</td>\n      <td>Silver</td>\n      <td>NaN</td>\n      <td>NaN</td>\n      <td>NaN</td>\n    </tr>\n  </tbody>\n</table>\n<p>9 rows × 31 columns</p>\n</div>"
     },
     "execution_count": 41,
     "metadata": {},
     "output_type": "execute_result"
    }
   ],
   "source": [
    "df[df.Price < np.quantile(df.Price, 0.01)]"
   ],
   "metadata": {
    "collapsed": false,
    "pycharm": {
     "name": "#%%\n"
    }
   }
  },
  {
   "cell_type": "code",
   "execution_count": 42,
   "outputs": [],
   "source": [
    "df = df.drop(df[df['Title'].str.lower().str.contains(\"charger\")].index)"
   ],
   "metadata": {
    "collapsed": false,
    "pycharm": {
     "name": "#%%\n"
    }
   }
  },
  {
   "cell_type": "code",
   "execution_count": 43,
   "outputs": [
    {
     "data": {
      "text/plain": "Empty DataFrame\nColumns: [Title, Price, Shipping_cost, Sales_Count, Sales_Value, Link, Last_Sale, Condition, MPN, Model Number, Brand, Model, Style, Connectivity, Country/Region of Manufacture, Processor, Screen Size, Lock Status, SIM Card Slot, Network, Operating System, Features, Storage Capacity, Contract, RAM, Memory Card Type, Camera Resolution, Color, Chipset Model, Manufacturer Warranty, Seller Notes]\nIndex: []\n\n[0 rows x 31 columns]",
      "text/html": "<div>\n<style scoped>\n    .dataframe tbody tr th:only-of-type {\n        vertical-align: middle;\n    }\n\n    .dataframe tbody tr th {\n        vertical-align: top;\n    }\n\n    .dataframe thead th {\n        text-align: right;\n    }\n</style>\n<table border=\"1\" class=\"dataframe\">\n  <thead>\n    <tr style=\"text-align: right;\">\n      <th></th>\n      <th>Title</th>\n      <th>Price</th>\n      <th>Shipping_cost</th>\n      <th>Sales_Count</th>\n      <th>Sales_Value</th>\n      <th>Link</th>\n      <th>Last_Sale</th>\n      <th>Condition</th>\n      <th>MPN</th>\n      <th>Model Number</th>\n      <th>...</th>\n      <th>Features</th>\n      <th>Storage Capacity</th>\n      <th>Contract</th>\n      <th>RAM</th>\n      <th>Memory Card Type</th>\n      <th>Camera Resolution</th>\n      <th>Color</th>\n      <th>Chipset Model</th>\n      <th>Manufacturer Warranty</th>\n      <th>Seller Notes</th>\n    </tr>\n  </thead>\n  <tbody>\n  </tbody>\n</table>\n<p>0 rows × 31 columns</p>\n</div>"
     },
     "execution_count": 43,
     "metadata": {},
     "output_type": "execute_result"
    }
   ],
   "source": [
    "df[df['Title'].str.lower().str.contains(\"charger\")]"
   ],
   "metadata": {
    "collapsed": false,
    "pycharm": {
     "name": "#%%\n"
    }
   }
  },
  {
   "cell_type": "markdown",
   "source": [
    "## Рассматриваем характеристики"
   ],
   "metadata": {
    "collapsed": false
   }
  },
  {
   "cell_type": "markdown",
   "source": [
    "### Состояние устройства"
   ],
   "metadata": {
    "collapsed": false
   }
  },
  {
   "cell_type": "code",
   "execution_count": 44,
   "outputs": [
    {
     "data": {
      "text/plain": "New: A brand-new, unused, unopened, undamaged item in its original packaging (where packaging is ...Read moreabout the conditionNew: A brand-new, unused, unopened, undamaged item in its original packaging (where packaging is applicable). Packaging should be the same as what is found in a retail store, unless the item is handmade or was packaged by the manufacturer in non-retail packaging, such as an unprinted box or plastic bag. See the seller's listing for full details.See all condition definitionsopens in a new window or tab    577\nUsed                                                                                                                                                                                                                                                                                                                                                                                                                                                                                                                                                    114\nUsed: An item that has been used previously. The item may have some signs of cosmetic wear, but is ...Read moreabout the conditionUsed: An item that has been used previously. The item may have some signs of cosmetic wear, but is fully operational and functions as intended. This item may be a floor model or store return that has been used. See the seller’s listing for full details and description of any imperfections.See all condition definitionsopens in a new window or tab                                                            69\nOpen box                                                                                                                                                                                                                                                                                                                                                                                                                                                                                                                                                 50\nFor parts or not working                                                                                                                                                                                                                                                                                                                                                                                                                                                                                                                                 38\nOpen box: An item in excellent, new condition with no wear. The item may be missing the original ...Read moreabout the conditionOpen box: An item in excellent, new condition with no wear. The item may be missing the original packaging or protective wrapping, or may be in the original packaging but not sealed. The item includes original accessories. The item may be a factory second. See the seller's listing for full details and description.See all condition definitionsopens in a new window or tab                                     23\nFor parts or not working: An item that does not function as intended and is not fully operational. ...Read moreabout the conditionFor parts or not working: An item that does not function as intended and is not fully operational. This includes items that are defective in ways that render them difficult to use, items that require service or repair, or items missing essential components. See the seller’s listing for full details.See all condition definitionsopens in a new window or tab                                                  20\nExcellent - Refurbished                                                                                                                                                                                                                                                                                                                                                                                                                                                                                                                                   2\nName: Condition, dtype: int64"
     },
     "execution_count": 44,
     "metadata": {},
     "output_type": "execute_result"
    }
   ],
   "source": [
    "df.Condition.value_counts()"
   ],
   "metadata": {
    "collapsed": false,
    "pycharm": {
     "name": "#%%\n"
    }
   }
  },
  {
   "cell_type": "code",
   "execution_count": 45,
   "outputs": [],
   "source": [
    "df['Condition'] = df['Condition'].str.split(':', n=1).str[0]"
   ],
   "metadata": {
    "collapsed": false,
    "pycharm": {
     "name": "#%%\n"
    }
   }
  },
  {
   "cell_type": "code",
   "execution_count": 46,
   "outputs": [
    {
     "data": {
      "text/plain": "New                         577\nUsed                        183\nOpen box                     73\nFor parts or not working     58\nExcellent - Refurbished       2\nName: Condition, dtype: int64"
     },
     "execution_count": 46,
     "metadata": {},
     "output_type": "execute_result"
    }
   ],
   "source": [
    "df.Condition.value_counts()"
   ],
   "metadata": {
    "collapsed": false,
    "pycharm": {
     "name": "#%%\n"
    }
   }
  },
  {
   "cell_type": "markdown",
   "source": [
    "### Бренд"
   ],
   "metadata": {
    "collapsed": false
   }
  },
  {
   "cell_type": "code",
   "execution_count": 50,
   "outputs": [
    {
     "data": {
      "text/plain": "Index(['xiaomi', 'redmi', 'unbranded/generic', 'oneplus', 'does not apply',\n       'unbranded', 'xiaomi / redmi', 'branded', 'xioami', 'bob_island',\n       'motorola', 'samsung', 'poco', 'pro', 'alcatel', 'google', 'fossibot',\n       'mi', 'huawei'],\n      dtype='object')"
     },
     "execution_count": 50,
     "metadata": {},
     "output_type": "execute_result"
    }
   ],
   "source": [
    "df.Brand.value_counts().index"
   ],
   "metadata": {
    "collapsed": false,
    "pycharm": {
     "name": "#%%\n"
    }
   }
  },
  {
   "cell_type": "code",
   "execution_count": 51,
   "outputs": [],
   "source": [
    "df['Brand'] = df['Brand'].str.lower()"
   ],
   "metadata": {
    "collapsed": false,
    "pycharm": {
     "name": "#%%\n"
    }
   }
  },
  {
   "cell_type": "code",
   "execution_count": 53,
   "outputs": [],
   "source": [
    "df.loc[df['Brand'].isin(['xiaomi', 'redmi', 'unbranded/generic', 'does not apply',\n",
    "       'unbranded', 'xiaomi / redmi', 'branded', 'xioami', 'bob_island',\n",
    "       'mi', 'huawei']), 'Brand'] = 'redmi'"
   ],
   "metadata": {
    "collapsed": false,
    "pycharm": {
     "name": "#%%\n"
    }
   }
  },
  {
   "cell_type": "code",
   "execution_count": 54,
   "outputs": [
    {
     "data": {
      "text/plain": "Index(['redmi', 'oneplus', 'motorola', 'samsung', 'alcatel', 'pro', 'poco',\n       'google', 'fossibot'],\n      dtype='object')"
     },
     "execution_count": 54,
     "metadata": {},
     "output_type": "execute_result"
    }
   ],
   "source": [
    "df.Brand.value_counts().index"
   ],
   "metadata": {
    "collapsed": false,
    "pycharm": {
     "name": "#%%\n"
    }
   }
  },
  {
   "cell_type": "markdown",
   "source": [
    "### Модели смартфонов"
   ],
   "metadata": {
    "collapsed": false
   }
  },
  {
   "cell_type": "code",
   "execution_count": 55,
   "outputs": [
    {
     "data": {
      "text/plain": "Index(['Xiaomi Redmi Note', 'Redmi 9A', 'Redmi Note 8', 'Redmi Note 10 Pro',\n       'Xiaomi Redmi Note 9 Pro', 'Redmi Note 8 Pro',\n       'Xiaomi Redmi Note 10 Pro', 'Xiaomi Redmi 9A', 'Xiaomi Redmi Note 9',\n       'Redmi Note 11 Pro',\n       ...\n       'Redmi K50 Gaming AMG F1 Edition', 'Xiaomi Redmi 3S',\n       'Redmi 10X Pro 5G', 'Xiaomi Redmi Note 11 Pro+', 'Accellorize 33110W',\n       'Xiaomi Redmi Note 10 Pro/Note 10 Pro Max', 'A1',\n       'Xiaomi Redmi K50 Gaming', 'Xiaomi Redmi 12C', 'Samsung Galaxy A20'],\n      dtype='object', length=231)"
     },
     "execution_count": 55,
     "metadata": {},
     "output_type": "execute_result"
    }
   ],
   "source": [
    "df['Model'].value_counts().index"
   ],
   "metadata": {
    "collapsed": false,
    "pycharm": {
     "name": "#%%\n"
    }
   }
  },
  {
   "cell_type": "markdown",
   "source": [
    "### Сети"
   ],
   "metadata": {
    "collapsed": false
   }
  },
  {
   "cell_type": "code",
   "execution_count": 56,
   "outputs": [
    {
     "data": {
      "text/plain": "4G                                                                                   76\n5G                                                                                   59\n2G, 3G, 4G                                                                           49\n2G, 3G, 4G, 5G, Bluetooth, GPRS, GPS, Quad-Band, USB Type-C, Wi-Fi                   47\n2G, 3G, 4G, 4G+, 5G, Bluetooth, GPRS, GPS, NFC, Quad-Band, USB Type-C, WAP, Wi-Fi    37\n                                                                                     ..\n5G, Bluetooth, 3G, 4G, 4G+, Wi-Fi                                                     1\n2G, 3G, 4G, 5G, GPS, Infrared                                                         1\n2G, 3G, 4G, 5G, Bluetooth, GPRS, GPS, Quad-Band, T, 5G                                1\nUSB Type-C, Bluetooth, Wi-Fi, NFC                                                     1\n4G, NFC, USB Type-C                                                                   1\nName: Connectivity, Length: 139, dtype: int64"
     },
     "execution_count": 56,
     "metadata": {},
     "output_type": "execute_result"
    }
   ],
   "source": [
    "df.Connectivity.value_counts()"
   ],
   "metadata": {
    "collapsed": false,
    "pycharm": {
     "name": "#%%\n"
    }
   }
  },
  {
   "cell_type": "code",
   "execution_count": 57,
   "outputs": [],
   "source": [
    "def clear(feat:str):\n",
    "    if type(feat)==str:\n",
    "        feat = re.split(r',\\s*', feat)\n",
    "        for i in range(len(feat)):\n",
    "            feat[i] = feat[i].strip(\" \\'\\'\\\"\\\"\")\n",
    "        feat = ', '.join(feat)\n",
    "    return feat"
   ],
   "metadata": {
    "collapsed": false,
    "pycharm": {
     "name": "#%%\n"
    }
   }
  },
  {
   "cell_type": "code",
   "execution_count": 58,
   "outputs": [],
   "source": [
    "Connectivity = df['Connectivity'].str.strip(\" []\").apply(clear)"
   ],
   "metadata": {
    "collapsed": false,
    "pycharm": {
     "name": "#%%\n"
    }
   }
  },
  {
   "cell_type": "code",
   "execution_count": 59,
   "outputs": [
    {
     "data": {
      "text/plain": "4G                                                                                   76\n5G                                                                                   59\n2G, 3G, 4G                                                                           49\n2G, 3G, 4G, 5G, Bluetooth, GPRS, GPS, Quad-Band, USB Type-C, Wi-Fi                   47\n2G, 3G, 4G, 4G+, 5G, Bluetooth, GPRS, GPS, NFC, Quad-Band, USB Type-C, WAP, Wi-Fi    37\n                                                                                     ..\n5G, Bluetooth, 3G, 4G, 4G+, Wi-Fi                                                     1\n2G, 3G, 4G, 5G, GPS, Infrared                                                         1\n2G, 3G, 4G, 5G, Bluetooth, GPRS, GPS, Quad-Band, T, 5G                                1\nUSB Type-C, Bluetooth, Wi-Fi, NFC                                                     1\n4G, NFC, USB Type-C                                                                   1\nName: Connectivity, Length: 138, dtype: int64"
     },
     "execution_count": 59,
     "metadata": {},
     "output_type": "execute_result"
    }
   ],
   "source": [
    "Connectivity.value_counts()"
   ],
   "metadata": {
    "collapsed": false,
    "pycharm": {
     "name": "#%%\n"
    }
   }
  },
  {
   "cell_type": "code",
   "execution_count": 60,
   "outputs": [],
   "source": [
    "Connectivity = Connectivity.str.get_dummies(', ')"
   ],
   "metadata": {
    "collapsed": false,
    "pycharm": {
     "name": "#%%\n"
    }
   }
  },
  {
   "cell_type": "code",
   "execution_count": 61,
   "outputs": [
    {
     "data": {
      "text/plain": "     *(make sure your carrier support the 5G bands)  \\\n1                                                 0   \n2                                                 0   \n3                                                 0   \n4                                                 0   \n5                                                 0   \n..                                              ...   \n889                                               0   \n890                                               0   \n891                                               0   \n892                                               0   \n893                                               0   \n\n     *(make sure your carrier support the phone 5G band  2G  3G  4G  \\\n1                                                    0    0   0   1   \n2                                                    0    1   1   1   \n3                                                    0    0   0   0   \n4                                                    0    1   1   1   \n5                                                    0    0   0   0   \n..                                                 ...   ..  ..  ..   \n889                                                  0    1   1   1   \n890                                                  0    0   0   1   \n891                                                  0    0   0   0   \n892                                                  0    0   0   0   \n893                                                  0    0   0   0   \n\n     4G LTE 5G  4G LTE 5G WiFi Bluetooth  4G VOLTE  4G+  5G  ...  T  Tri-Band  \\\n1            0                         0         0    0   0  ...  0         0   \n2            0                         0         0    0   0  ...  0         0   \n3            0                         0         0    0   0  ...  0         0   \n4            0                         0         0    0   1  ...  0         0   \n5            0                         0         0    0   0  ...  0         0   \n..         ...                       ...       ...  ...  ..  ... ..       ...   \n889          0                         0         0    0   1  ...  0         0   \n890          0                         0         0    0   0  ...  0         0   \n891          0                         0         0    1   0  ...  0         0   \n892          0                         0         0    0   0  ...  0         0   \n893          0                         0         0    0   0  ...  0         0   \n\n     USB  USB 2.0  USB Type-C  Unreal Mobile  WAP  WCDMA  Whitetooth  Wi-Fi  \n1      0        0           0              0    0      0           0      0  \n2      0        0           0              0    0      0           0      0  \n3      0        0           0              0    0      0           0      0  \n4      0        0           0              0    0      0           0      0  \n5      0        0           0              0    0      0           0      0  \n..   ...      ...         ...            ...  ...    ...         ...    ...  \n889    0        0           1              0    0      0           0      1  \n890    0        0           1              0    0      0           0      0  \n891    0        0           0              0    0      0           0      0  \n892    0        0           0              0    0      0           0      0  \n893    0        0           0              0    0      0           0      0  \n\n[893 rows x 35 columns]",
      "text/html": "<div>\n<style scoped>\n    .dataframe tbody tr th:only-of-type {\n        vertical-align: middle;\n    }\n\n    .dataframe tbody tr th {\n        vertical-align: top;\n    }\n\n    .dataframe thead th {\n        text-align: right;\n    }\n</style>\n<table border=\"1\" class=\"dataframe\">\n  <thead>\n    <tr style=\"text-align: right;\">\n      <th></th>\n      <th>*(make sure your carrier support the 5G bands)</th>\n      <th>*(make sure your carrier support the phone 5G band</th>\n      <th>2G</th>\n      <th>3G</th>\n      <th>4G</th>\n      <th>4G LTE 5G</th>\n      <th>4G LTE 5G WiFi Bluetooth</th>\n      <th>4G VOLTE</th>\n      <th>4G+</th>\n      <th>5G</th>\n      <th>...</th>\n      <th>T</th>\n      <th>Tri-Band</th>\n      <th>USB</th>\n      <th>USB 2.0</th>\n      <th>USB Type-C</th>\n      <th>Unreal Mobile</th>\n      <th>WAP</th>\n      <th>WCDMA</th>\n      <th>Whitetooth</th>\n      <th>Wi-Fi</th>\n    </tr>\n  </thead>\n  <tbody>\n    <tr>\n      <th>1</th>\n      <td>0</td>\n      <td>0</td>\n      <td>0</td>\n      <td>0</td>\n      <td>1</td>\n      <td>0</td>\n      <td>0</td>\n      <td>0</td>\n      <td>0</td>\n      <td>0</td>\n      <td>...</td>\n      <td>0</td>\n      <td>0</td>\n      <td>0</td>\n      <td>0</td>\n      <td>0</td>\n      <td>0</td>\n      <td>0</td>\n      <td>0</td>\n      <td>0</td>\n      <td>0</td>\n    </tr>\n    <tr>\n      <th>2</th>\n      <td>0</td>\n      <td>0</td>\n      <td>1</td>\n      <td>1</td>\n      <td>1</td>\n      <td>0</td>\n      <td>0</td>\n      <td>0</td>\n      <td>0</td>\n      <td>0</td>\n      <td>...</td>\n      <td>0</td>\n      <td>0</td>\n      <td>0</td>\n      <td>0</td>\n      <td>0</td>\n      <td>0</td>\n      <td>0</td>\n      <td>0</td>\n      <td>0</td>\n      <td>0</td>\n    </tr>\n    <tr>\n      <th>3</th>\n      <td>0</td>\n      <td>0</td>\n      <td>0</td>\n      <td>0</td>\n      <td>0</td>\n      <td>0</td>\n      <td>0</td>\n      <td>0</td>\n      <td>0</td>\n      <td>0</td>\n      <td>...</td>\n      <td>0</td>\n      <td>0</td>\n      <td>0</td>\n      <td>0</td>\n      <td>0</td>\n      <td>0</td>\n      <td>0</td>\n      <td>0</td>\n      <td>0</td>\n      <td>0</td>\n    </tr>\n    <tr>\n      <th>4</th>\n      <td>0</td>\n      <td>0</td>\n      <td>1</td>\n      <td>1</td>\n      <td>1</td>\n      <td>0</td>\n      <td>0</td>\n      <td>0</td>\n      <td>0</td>\n      <td>1</td>\n      <td>...</td>\n      <td>0</td>\n      <td>0</td>\n      <td>0</td>\n      <td>0</td>\n      <td>0</td>\n      <td>0</td>\n      <td>0</td>\n      <td>0</td>\n      <td>0</td>\n      <td>0</td>\n    </tr>\n    <tr>\n      <th>5</th>\n      <td>0</td>\n      <td>0</td>\n      <td>0</td>\n      <td>0</td>\n      <td>0</td>\n      <td>0</td>\n      <td>0</td>\n      <td>0</td>\n      <td>0</td>\n      <td>0</td>\n      <td>...</td>\n      <td>0</td>\n      <td>0</td>\n      <td>0</td>\n      <td>0</td>\n      <td>0</td>\n      <td>0</td>\n      <td>0</td>\n      <td>0</td>\n      <td>0</td>\n      <td>0</td>\n    </tr>\n    <tr>\n      <th>...</th>\n      <td>...</td>\n      <td>...</td>\n      <td>...</td>\n      <td>...</td>\n      <td>...</td>\n      <td>...</td>\n      <td>...</td>\n      <td>...</td>\n      <td>...</td>\n      <td>...</td>\n      <td>...</td>\n      <td>...</td>\n      <td>...</td>\n      <td>...</td>\n      <td>...</td>\n      <td>...</td>\n      <td>...</td>\n      <td>...</td>\n      <td>...</td>\n      <td>...</td>\n      <td>...</td>\n    </tr>\n    <tr>\n      <th>889</th>\n      <td>0</td>\n      <td>0</td>\n      <td>1</td>\n      <td>1</td>\n      <td>1</td>\n      <td>0</td>\n      <td>0</td>\n      <td>0</td>\n      <td>0</td>\n      <td>1</td>\n      <td>...</td>\n      <td>0</td>\n      <td>0</td>\n      <td>0</td>\n      <td>0</td>\n      <td>1</td>\n      <td>0</td>\n      <td>0</td>\n      <td>0</td>\n      <td>0</td>\n      <td>1</td>\n    </tr>\n    <tr>\n      <th>890</th>\n      <td>0</td>\n      <td>0</td>\n      <td>0</td>\n      <td>0</td>\n      <td>1</td>\n      <td>0</td>\n      <td>0</td>\n      <td>0</td>\n      <td>0</td>\n      <td>0</td>\n      <td>...</td>\n      <td>0</td>\n      <td>0</td>\n      <td>0</td>\n      <td>0</td>\n      <td>1</td>\n      <td>0</td>\n      <td>0</td>\n      <td>0</td>\n      <td>0</td>\n      <td>0</td>\n    </tr>\n    <tr>\n      <th>891</th>\n      <td>0</td>\n      <td>0</td>\n      <td>0</td>\n      <td>0</td>\n      <td>0</td>\n      <td>0</td>\n      <td>0</td>\n      <td>0</td>\n      <td>1</td>\n      <td>0</td>\n      <td>...</td>\n      <td>0</td>\n      <td>0</td>\n      <td>0</td>\n      <td>0</td>\n      <td>0</td>\n      <td>0</td>\n      <td>0</td>\n      <td>0</td>\n      <td>0</td>\n      <td>0</td>\n    </tr>\n    <tr>\n      <th>892</th>\n      <td>0</td>\n      <td>0</td>\n      <td>0</td>\n      <td>0</td>\n      <td>0</td>\n      <td>0</td>\n      <td>0</td>\n      <td>0</td>\n      <td>0</td>\n      <td>0</td>\n      <td>...</td>\n      <td>0</td>\n      <td>0</td>\n      <td>0</td>\n      <td>0</td>\n      <td>0</td>\n      <td>0</td>\n      <td>0</td>\n      <td>0</td>\n      <td>0</td>\n      <td>0</td>\n    </tr>\n    <tr>\n      <th>893</th>\n      <td>0</td>\n      <td>0</td>\n      <td>0</td>\n      <td>0</td>\n      <td>0</td>\n      <td>0</td>\n      <td>0</td>\n      <td>0</td>\n      <td>0</td>\n      <td>0</td>\n      <td>...</td>\n      <td>0</td>\n      <td>0</td>\n      <td>0</td>\n      <td>0</td>\n      <td>0</td>\n      <td>0</td>\n      <td>0</td>\n      <td>0</td>\n      <td>0</td>\n      <td>0</td>\n    </tr>\n  </tbody>\n</table>\n<p>893 rows × 35 columns</p>\n</div>"
     },
     "execution_count": 61,
     "metadata": {},
     "output_type": "execute_result"
    }
   ],
   "source": [
    "Connectivity"
   ],
   "metadata": {
    "collapsed": false,
    "pycharm": {
     "name": "#%%\n"
    }
   }
  },
  {
   "cell_type": "code",
   "execution_count": 62,
   "outputs": [
    {
     "data": {
      "text/plain": "Index(['*(make sure your carrier support the 5G bands)',\n       '*(make sure your carrier support the phone 5G band', '2G', '3G', '4G',\n       '4G LTE 5G', '4G LTE 5G WiFi Bluetooth', '4G VOLTE', '4G+', '5G',\n       'Bluetooth', 'DLNA', 'Dual-Band', 'EDGE', 'GPRS', 'GPS',\n       'GSM / HSPA / LTE', 'Google Fi', 'Headphone Jack', 'Infrared', 'LTE',\n       'Micro USB', 'NFC', 'Quad-Band', 'Red Pocket', 'T', 'Tri-Band', 'USB',\n       'USB 2.0', 'USB Type-C', 'Unreal Mobile', 'WAP', 'WCDMA', 'Whitetooth',\n       'Wi-Fi'],\n      dtype='object')"
     },
     "execution_count": 62,
     "metadata": {},
     "output_type": "execute_result"
    }
   ],
   "source": [
    "Connectivity.columns"
   ],
   "metadata": {
    "collapsed": false,
    "pycharm": {
     "name": "#%%\n"
    }
   }
  },
  {
   "cell_type": "code",
   "execution_count": 64,
   "outputs": [],
   "source": [
    "Connectivity['4G'] = Connectivity['4G'] + Connectivity['4G LTE 5G'] + Connectivity['4G LTE 5G WiFi Bluetooth'] + Connectivity['4G VOLTE'] + Connectivity['4G+'] + Connectivity['GSM / HSPA / LTE'] + Connectivity['LTE']\n",
    "\n",
    "Connectivity['5G'] = Connectivity['5G'] + Connectivity['*(make sure your carrier support the 5G bands)'] + Connectivity['*(make sure your carrier support the phone 5G band'] + Connectivity['4G LTE 5G'] + Connectivity['4G LTE 5G WiFi Bluetooth'] + Connectivity['5G']\n",
    "\n",
    "Connectivity['Bluetooth'] = Connectivity['Bluetooth'] + Connectivity['4G LTE 5G WiFi Bluetooth']\n",
    "\n",
    "Connectivity['GSM'] = Connectivity['GSM / HSPA / LTE']\n",
    "\n",
    "Connectivity['GPS'] = Connectivity['GPS'] + Connectivity['GPRS']\n",
    "\n",
    "Connectivity['WI-FI'] = Connectivity['4G LTE 5G WiFi Bluetooth'] + Connectivity['Wi-Fi']\n",
    "\n",
    "Connectivity['Micro USB'] = Connectivity['Micro USB']\n",
    "\n",
    "Connectivity['USB'] = Connectivity['USB'] + Connectivity['USB 2.0']\n",
    "\n",
    "Connectivity['Type-C'] = Connectivity['USB Type-C']"
   ],
   "metadata": {
    "collapsed": false,
    "pycharm": {
     "name": "#%%\n"
    }
   }
  },
  {
   "cell_type": "code",
   "execution_count": 66,
   "outputs": [
    {
     "data": {
      "text/plain": "Index(['*(make sure your carrier support the 5G bands)',\n       '*(make sure your carrier support the phone 5G band', '2G', '3G', '4G',\n       '4G LTE 5G', '4G LTE 5G WiFi Bluetooth', '4G VOLTE', '4G+', '5G',\n       'Bluetooth', 'DLNA', 'Dual-Band', 'EDGE', 'GPRS', 'GPS',\n       'GSM / HSPA / LTE', 'Google Fi', 'Headphone Jack', 'Infrared', 'LTE',\n       'Micro USB', 'NFC', 'Quad-Band', 'Red Pocket', 'T', 'Tri-Band', 'USB',\n       'USB 2.0', 'USB Type-C', 'Unreal Mobile', 'WAP', 'WCDMA', 'Whitetooth',\n       'Wi-Fi', 'GSM', 'WI-FI', 'Type-C'],\n      dtype='object')"
     },
     "execution_count": 66,
     "metadata": {},
     "output_type": "execute_result"
    }
   ],
   "source": [
    "Connectivity.columns"
   ],
   "metadata": {
    "collapsed": false,
    "pycharm": {
     "name": "#%%\n"
    }
   }
  },
  {
   "cell_type": "code",
   "execution_count": 68,
   "outputs": [],
   "source": [
    "Reasonable = Connectivity[['2G', '3G', '4G', '5G', 'Bluetooth', 'GSM', 'WI-FI', 'Micro USB', 'USB', 'Type-C', 'NFC', 'Dual-Band', 'DLNA', 'EDGE', 'GPS', 'Headphone Jack', 'Infrared', 'Quad-Band', 'Tri-Band', 'WAP', 'WCDMA']]"
   ],
   "metadata": {
    "collapsed": false,
    "pycharm": {
     "name": "#%%\n"
    }
   }
  },
  {
   "cell_type": "code",
   "execution_count": 69,
   "outputs": [
    {
     "name": "stderr",
     "output_type": "stream",
     "text": [
      "C:\\Users\\druny\\AppData\\Local\\Temp\\ipykernel_16392\\76639661.py:1: SettingWithCopyWarning: \n",
      "A value is trying to be set on a copy of a slice from a DataFrame\n",
      "\n",
      "See the caveats in the documentation: https://pandas.pydata.org/pandas-docs/stable/user_guide/indexing.html#returning-a-view-versus-a-copy\n",
      "  Reasonable.loc[Reasonable.values > 1] = 1\n"
     ]
    }
   ],
   "source": [
    "Reasonable.loc[Reasonable.values > 1] = 1"
   ],
   "metadata": {
    "collapsed": false,
    "pycharm": {
     "name": "#%%\n"
    }
   }
  },
  {
   "cell_type": "code",
   "execution_count": 70,
   "outputs": [
    {
     "data": {
      "text/plain": "0"
     },
     "execution_count": 70,
     "metadata": {},
     "output_type": "execute_result"
    }
   ],
   "source": [
    "(Reasonable.values > 1).sum()"
   ],
   "metadata": {
    "collapsed": false,
    "pycharm": {
     "name": "#%%\n"
    }
   }
  },
  {
   "cell_type": "code",
   "execution_count": 71,
   "outputs": [
    {
     "data": {
      "text/plain": "2G                465\n3G                485\n4G                610\n5G                393\nBluetooth         459\nGSM               385\nWI-FI             429\nMicro USB         390\nUSB               386\nType-C            426\nNFC               397\nDual-Band         384\nDLNA              384\nEDGE              384\nGPS               425\nHeadphone Jack    384\nInfrared          384\nQuad-Band         384\nTri-Band          384\nWAP               384\nWCDMA             384\ndtype: int64"
     },
     "execution_count": 71,
     "metadata": {},
     "output_type": "execute_result"
    }
   ],
   "source": [
    "Reasonable.sum()"
   ],
   "metadata": {
    "collapsed": false,
    "pycharm": {
     "name": "#%%\n"
    }
   }
  },
  {
   "cell_type": "markdown",
   "source": [
    "### Объём памяти"
   ],
   "metadata": {
    "collapsed": false
   }
  },
  {
   "cell_type": "code",
   "execution_count": 72,
   "outputs": [
    {
     "data": {
      "text/plain": "128 GB                                           304\n64 GB                                            160\n32 GB                                             72\n256 GB                                            57\n64GB                                              24\n128GB                                             24\n32GB                                              12\n128 GB/256GB                                       6\nDoes not apply                                     5\n128 GB / 256 GB                                    5\n256GB                                              5\n16 GB                                              5\n512 GB                                             4\n16GB                                               4\n12GB+256GB                                         4\n8 GB                                               3\n128                                                3\n64g                                                3\nDoes Not Apply                                     3\n128GB UFS 2.2 storage expandable up to 512GB       2\n64 GB / 128 GB                                     2\n16GB / 32GB                                        2\n128GB 256GB                                        2\n32GB 16GB                                          2\n128GB Internal & Expandable storage up to 1TB      2\n128 GB/256 GB                                      2\n128 MB                                             1\nGray                                               1\n8GB                                                1\n64 MB                                              1\n8GB OR 16GB                                        1\n64 GB ROM | Expandable Upto 512 GB                 1\n64GB storage & Expandable upto 512GB               1\n1                                                  1\nunknown                                            1\n16GB 32GB                                          1\n128GB UFS 2.2                                      1\nDoes Not apply                                     1\n64 GB/128 GB                                       1\n32GB / 64 GB                                       1\n32GB storage & Expandable upto 512GB               1\n4gb                                                1\n32GB / 16GB                                        1\n128 GB / 64 GB                                     1\n32GB + 64GB GIFT                                   1\n128/256GB                                          1\n128GB / 256GB                                      1\n2556GB                                             1\n256GB Internal & Expandable storage up to 1TB      1\n128 GB / 256GB / 512GB                             1\nName: Storage Capacity, dtype: int64"
     },
     "execution_count": 72,
     "metadata": {},
     "output_type": "execute_result"
    }
   ],
   "source": [
    "df['Storage Capacity'].value_counts()\n",
    "#убираем везде гиги за шаги а дальше развлекаемся"
   ],
   "metadata": {
    "collapsed": false,
    "pycharm": {
     "name": "#%%\n"
    }
   }
  },
  {
   "cell_type": "code",
   "execution_count": 73,
   "outputs": [],
   "source": [
    "df['Storage Capacity'] = df['Storage Capacity'].str.extract(r'(\\d+)')\n",
    "df['Storage Capacity'] = pd.to_numeric(df['Storage Capacity'])"
   ],
   "metadata": {
    "collapsed": false,
    "pycharm": {
     "name": "#%%\n"
    }
   }
  },
  {
   "cell_type": "code",
   "execution_count": 74,
   "outputs": [
    {
     "data": {
      "text/plain": "128.0     356\n64.0      193\n32.0       90\n256.0      63\n16.0       12\n8.0         5\n12.0        4\n512.0       4\n4.0         1\n2556.0      1\n1.0         1\nName: Storage Capacity, dtype: int64"
     },
     "execution_count": 74,
     "metadata": {},
     "output_type": "execute_result"
    }
   ],
   "source": [
    "df['Storage Capacity'].value_counts()"
   ],
   "metadata": {
    "collapsed": false,
    "pycharm": {
     "name": "#%%\n"
    }
   }
  },
  {
   "cell_type": "markdown",
   "source": [
    "###  Связь"
   ],
   "metadata": {
    "collapsed": false
   }
  },
  {
   "cell_type": "code",
   "execution_count": 75,
   "outputs": [
    {
     "data": {
      "text/plain": "Unlocked                                                                                                                                                                                                                                                                                 560\nGSM Unlocked                                                                                                                                                                                                                                                                              15\nGSM UNLOCKED                                                                                                                                                                                                                                                                              13\nGSM, Unlocked                                                                                                                                                                                                                                                                             12\nFactory Unlocked, Unlocked                                                                                                                                                                                                                                                                12\n1&1, Unlocked                                                                                                                                                                                                                                                                             10\nTelcel                                                                                                                                                                                                                                                                                     8\n5G: n1/n3/n5/n8/n28A/n38/n41/n77/n78, 4G: FDD-LTE: B1/B3/B5/B8/B19, 4G: TDD-LTE: B34/B38/B39/B40/B41 Note: LTE B41 (2496-2690 194MHz), 3G: WCDMA: B1/B5/B6/B8/B19; CDMA EVDO: BC0, 2G: GSM: B3/B5/B8; CDMA 1X: BC0                                                                         6\n1&1                                                                                                                                                                                                                                                                                        5\n1&1, Black Wireless, Google Fi, Red Pocket Mobile, Unreal Mobile                                                                                                                                                                                                                           4\nGSM                                                                                                                                                                                                                                                                                        4\nFactory Unlocked, 2G: GSM B2/3/5/8, 3G: WCDMA B1/B5/B6/B8/B19, 3G: CDMA BC0, TD-SCDMA B34/39, 4G: TDD-LTE B34/38/39/40/41(120MHz), 4G: FDD-LTE B1/B3/B5/B8/B19, 5G: n1/n3/n5/n8/n28A/n38/n41/n77/n78                                                                                       2\n1&1, Black Wireless, Google Fi, Unreal Mobile                                                                                                                                                                                                                                              2\nT-Mobile                                                                                                                                                                                                                                                                                   2\n5G ：n1 / n3 / n28A / n41 / n77 / n78, 4G：FDD-LTE： B1 / B2 / B3 / B4 / B5 / B7 / B8 / B12, 4G：FDD-LTE： B17 / B18 / B19 / B20 / B26 / B28A, 4G：TDD-LTE：B34 / B38 / B39 / B40 / B41 / B42, 2G：GSM：850 / 900 / 1800 / 1900MHz ; CDMA 1X : BC0, 3G：CDMA EVDO : BC0                              2\nT-Mobile, Unlocked, Metro, PC mobile, AT&T                                                                                                                                                                                                                                                 2\nUnlocked for GSM SIM                                                                                                                                                                                                                                                                       2\nClaro                                                                                                                                                                                                                                                                                      2\nFactory Unlocked                                                                                                                                                                                                                                                                           2\n5G, 4G VOLTE, 4G, 3G, 2G                                                                                                                                                                                                                                                                   1\nMixed Carriers                                                                                                                                                                                                                                                                             1\nuntested                                                                                                                                                                                                                                                                                   1\n5G: n1 / n3 / n28A / n41 / n77 / n78, 2G: GSM:850 / 900 / 1800 / 1900MHz ; CDMA 1X : BC0, 3G: B1 / B2 / B4 / B5 / B6 / B8 / B19, DMA EVDO: BC0, 4G：FDD-LTE: B1 / B2 / B3 / B4 / B5 / B7 / B8, 4G：FDD-LTE: B18 / B19 / B26, 4G：TDD-LTE B34 / B38 / B39 / B40 / B41(2496-2690MHz) / B42      1\n5G：SA：n1/n3/n5/n8/n28A/n41/n77/n78, 5G：NSA：n41/n78, 2G：GSM：B2/B3/B5/B8, 3G：WCDMA：B1/B2/B5/B8, CDMA/EVDO:BC0, 4G：FDD-LTE：B1/B3/B5/B7/B8, 4G：TDD-LTE：B34/B38/B39/B40/B41                                                                                                                     1\nAT&T, T-Mobile, Metro, Cricket, H2O, StraightTalk(GSM), ConsumerCellular, Tracfone(GSM), Global, Unlocked                                                                                                                                                                                  1\n1&1, 1pMobile, 360Coms Telecom, A1 Telekom, AAPT, Access Wireless, ACG Telecom, ACN, ADAC, Adamo, AT&T, Optus, Telstra, T-Mobile, Unlocked, Vodafone, ALL GSM Unlocked, ALL CDMA Unlocked                                                                                                  1\nGSM / HSPA / LTE                                                                                                                                                                                                                                                                           1\nAT&T                                                                                                                                                                                                                                                                                       1\nALL GSM Unlocked, ALL CDMA Unlocked, 1&1, 1pMobile, 360Coms Telecom, A1 Telekom, AAPT, Access Wireless, ACG Telecom, ACN, ADAC, Adamo, AT&T, Optus, Telstra, T-Mobile, Unlocked, Vodafone                                                                                                  1\nAT&T, T-Mobile                                                                                                                                                                                                                                                                             1\nHelio                                                                                                                                                                                                                                                                                      1\nGlobal Gossip                                                                                                                                                                                                                                                                              1\nBlack Wireless, Google Fi, Red Pocket Mobile, Unreal Mobile                                                                                                                                                                                                                                1\nUnlocked for GSM SIM AT&T T-Mobile                                                                                                                                                                                                                                                         1\nHelio, Unlocked, 1&1                                                                                                                                                                                                                                                                       1\n5G: SA: n1/n41/n78, 5G: NSA: n41/n78, 4G: LTE FDD B1/3/5/7/8, 4G: LTE TDD B34/38/39/40/41, 3G: WCDMA B1/2/5/8, 2G: GSM B2/3/5/8                                                                                                                                                            1\nGSM unlocked, Unlocked                                                                                                                                                                                                                                                                     1\nUnlocked, Factory Unlocked                                                                                                                                                                                                                                                                 1\n5G ：n1/ n3/ n5/ n8/ n28a/ n38/ n40/ n41/ n77/ n78, 4G：FDD-LTE ：B1/ B2/ B3/ B4/ B5/ B7/ B8/ B18/ B19/ B26, 4G：TDD-LTE：B34/ B38/ B39/ B40/ B41/ B42, 3G：WCDMA：B1/ B2/ B4/ B5/ B6/ B8/ B19, 2G: GSM: B3/B5/B8; CDMA 1X: BC0                                                                   1\nName: Network, dtype: int64"
     },
     "execution_count": 75,
     "metadata": {},
     "output_type": "execute_result"
    }
   ],
   "source": [
    "#тут есть операторские и не операторские телефоны. сразу разделим их и не будем работать с конкретными операторами\n",
    "df['Network'].value_counts()"
   ],
   "metadata": {
    "collapsed": false,
    "pycharm": {
     "name": "#%%\n"
    }
   }
  },
  {
   "cell_type": "code",
   "execution_count": 76,
   "outputs": [],
   "source": [
    "df.loc[(df['Network'].str.lower().str.contains(\"unlocked\")!=True), 'Network'] = 'Operator'\n",
    "df.loc[(df['Network'].str.lower().str.contains(\"unlocked\")), 'Network'] = 'Unlocked'"
   ],
   "metadata": {
    "collapsed": false,
    "pycharm": {
     "name": "#%%\n"
    }
   }
  },
  {
   "cell_type": "code",
   "execution_count": 77,
   "outputs": [
    {
     "data": {
      "text/plain": "Unlocked    637\nOperator    256\nName: Network, dtype: int64"
     },
     "execution_count": 77,
     "metadata": {},
     "output_type": "execute_result"
    }
   ],
   "source": [
    "df['Network'].value_counts()"
   ],
   "metadata": {
    "collapsed": false,
    "pycharm": {
     "name": "#%%\n"
    }
   }
  },
  {
   "cell_type": "markdown",
   "source": [
    "### Камеры"
   ],
   "metadata": {
    "collapsed": false
   }
  },
  {
   "cell_type": "code",
   "execution_count": 78,
   "outputs": [
    {
     "data": {
      "text/plain": "108.0 MP                                              139\n48.0 MP                                                95\n64.0 MP                                                86\n13.0 MP                                                75\n50.0 MP                                                62\n                                                     ... \n50MP+8MP+2MP+2MP AI Quad Camera | 8MP Front Camera      1\n48MP + 8MP + 2MP + 2MP | 8MP Front Camera               1\n108 MP                                                  1\n24.0 MP                                                 1\n48MP+5MP                                                1\nName: Camera Resolution, Length: 85, dtype: int64"
     },
     "execution_count": 78,
     "metadata": {},
     "output_type": "execute_result"
    }
   ],
   "source": [
    "#в камере есть наблюдения с тройными четверными и т.д. камерами, но мы просто вырезаем мегапиксели оттуда :D\n",
    "df['Camera Resolution'].value_counts()"
   ],
   "metadata": {
    "collapsed": false,
    "pycharm": {
     "name": "#%%\n"
    }
   }
  },
  {
   "cell_type": "code",
   "execution_count": 79,
   "outputs": [],
   "source": [
    "df['Camera Resolution'] = df['Camera Resolution'].str.extract(r'(\\d+)')\n",
    "df['Camera Resolution'] = pd.to_numeric(df['Camera Resolution'])"
   ],
   "metadata": {
    "collapsed": false,
    "pycharm": {
     "name": "#%%\n"
    }
   }
  },
  {
   "cell_type": "code",
   "execution_count": 80,
   "outputs": [
    {
     "data": {
      "text/plain": "108.0    156\n50.0     118\n48.0     117\n64.0     112\n13.0      94\n8.0       26\n200.0     23\n12.0      21\n20.0       9\n54.0       5\n5.0        4\n16.0       3\n1.0        3\n2.0        2\n24.0       1\n100.0      1\n6.0        1\nName: Camera Resolution, dtype: int64"
     },
     "execution_count": 80,
     "metadata": {},
     "output_type": "execute_result"
    }
   ],
   "source": [
    "#в камере есть наблюдения с тройными четверными и т.д. камерами, но мы просто вырезаем мегапиксели оттуда :D\n",
    "df['Camera Resolution'].value_counts()"
   ],
   "metadata": {
    "collapsed": false,
    "pycharm": {
     "name": "#%%\n"
    }
   }
  },
  {
   "cell_type": "code",
   "execution_count": 81,
   "outputs": [],
   "source": [
    "df.loc[df['Camera Resolution'] > 200, 'Camera Resolution'] = 32"
   ],
   "metadata": {
    "collapsed": false,
    "pycharm": {
     "name": "#%%\n"
    }
   }
  },
  {
   "cell_type": "code",
   "execution_count": 82,
   "outputs": [
    {
     "data": {
      "text/plain": "108.0    156\n50.0     118\n48.0     117\n64.0     112\n13.0      94\n8.0       26\n200.0     23\n12.0      21\n20.0       9\n54.0       5\n5.0        4\n16.0       3\n1.0        3\n2.0        2\n24.0       1\n100.0      1\n6.0        1\nName: Camera Resolution, dtype: int64"
     },
     "execution_count": 82,
     "metadata": {},
     "output_type": "execute_result"
    }
   ],
   "source": [
    "df['Camera Resolution'].value_counts()"
   ],
   "metadata": {
    "collapsed": false,
    "pycharm": {
     "name": "#%%\n"
    }
   }
  },
  {
   "cell_type": "markdown",
   "source": [
    "### Разрешение экрана"
   ],
   "metadata": {
    "collapsed": false
   }
  },
  {
   "cell_type": "code",
   "execution_count": 83,
   "outputs": [
    {
     "data": {
      "text/plain": "6.67 in    163\n6.67\"       67\n6.53\"       57\n6.6 in      44\n6.5 in      43\n          ... \n2.8          1\n6.73\"        1\n6.39in       1\n6.44 in      1\n4.7\"         1\nName: Screen Size, Length: 81, dtype: int64"
     },
     "execution_count": 83,
     "metadata": {},
     "output_type": "execute_result"
    }
   ],
   "source": [
    "#все одно и то же, достаем оттуда все-все-все\n",
    "df['Screen Size'].value_counts()"
   ],
   "metadata": {
    "collapsed": false,
    "pycharm": {
     "name": "#%%\n"
    }
   }
  },
  {
   "cell_type": "code",
   "execution_count": 84,
   "outputs": [],
   "source": [
    "df['Screen Size'] = df['Screen Size'].str.extract(r'(\\d+\\.\\d+)')\n",
    "df['Screen Size'] = pd.to_numeric(df['Screen Size'])"
   ],
   "metadata": {
    "collapsed": false,
    "pycharm": {
     "name": "#%%\n"
    }
   }
  },
  {
   "cell_type": "code",
   "execution_count": 85,
   "outputs": [
    {
     "data": {
      "text/plain": "6.67     275\n6.53     114\n6.50      56\n6.43      52\n6.60      50\n6.30      36\n6.71      20\n6.52      15\n6.70      13\n5.50      11\n5.99       8\n6.58       8\n5.00       8\n5.45       7\n6.40       6\n6.22       4\n5.84       3\n4.70       3\n6.26       3\n6.39       3\n5.83       2\n6.57       2\n10.61      2\n5.40       1\n6.73       1\n6.28       1\n2.80       1\n6.44       1\n6.66       1\n5.90       1\n6.10       1\nName: Screen Size, dtype: int64"
     },
     "execution_count": 85,
     "metadata": {},
     "output_type": "execute_result"
    }
   ],
   "source": [
    "df['Screen Size'].value_counts()"
   ],
   "metadata": {
    "collapsed": false,
    "pycharm": {
     "name": "#%%\n"
    }
   }
  },
  {
   "cell_type": "markdown",
   "source": [
    "### Оперативная память"
   ],
   "metadata": {
    "collapsed": false
   }
  },
  {
   "cell_type": "code",
   "execution_count": 86,
   "outputs": [
    {
     "data": {
      "text/plain": "6 GB                    162\n4 GB                    151\n8 GB                     91\n2 GB                     49\n3 GB                     32\n12 GB                    28\n8GB                      13\n4GB                       9\n6GB                       7\n2GB                       5\n8/12 GB                   5\n3GB                       5\n8 GB / 12 GB              5\n6/8GB                     4\n5 GB                      3\n12GB                      3\n8 GB/12GB                 3\n6GB / 8GB                 3\n4 GB / 6 GB / 8 GB        3\n2/3GB                     2\n1 GB                      2\n16 GB                     2\n3GB / 2GB                 2\n3/4GB                     2\n3/4/6GB                   2\n8GB / 12GB                2\n4GB/6GB                   2\n6GB/8GB                   2\n2GB/3GB                   2\n2GB 3GB                   2\n2 GB 3 GB                 1\n512 MB                    1\n1GB OR 2GB                1\nLPDDR3 RAM                1\n8 GB / 6 GB               1\n6 GB / 8GB                1\n6 GB / 8 GB               1\n6GB RAM                   1\n128                       1\n6 GB / 8 GB / 12 GB       1\n6GB / 8GB / 12GB          1\n4/6GB                     1\n4 GB,6GB                  1\n3GB/4GB                   1\n4                         1\n8GB LPDDR4X RAM           1\n6 GB /8GB                 1\n8 GB / 12 GB / 16 GB      1\nName: RAM, dtype: int64"
     },
     "execution_count": 86,
     "metadata": {},
     "output_type": "execute_result"
    }
   ],
   "source": [
    "#все то же самое с оперативкой\n",
    "df['RAM'].value_counts()"
   ],
   "metadata": {
    "collapsed": false,
    "pycharm": {
     "name": "#%%\n"
    }
   }
  },
  {
   "cell_type": "code",
   "execution_count": 87,
   "outputs": [],
   "source": [
    "df['RAM'] = df['RAM'].str.extract(r'(\\d+)')\n",
    "df['RAM'] = pd.to_numeric(df['RAM'])"
   ],
   "metadata": {
    "collapsed": false,
    "pycharm": {
     "name": "#%%\n"
    }
   }
  },
  {
   "cell_type": "code",
   "execution_count": 88,
   "outputs": [
    {
     "data": {
      "text/plain": "6.0      184\n4.0      168\n8.0      122\n2.0       61\n3.0       45\n12.0      31\n1.0        3\n5.0        3\n16.0       2\n512.0      1\n128.0      1\nName: RAM, dtype: int64"
     },
     "execution_count": 88,
     "metadata": {},
     "output_type": "execute_result"
    }
   ],
   "source": [
    "#все то же самое с оперативкой\n",
    "df['RAM'].value_counts()"
   ],
   "metadata": {
    "collapsed": false,
    "pycharm": {
     "name": "#%%\n"
    }
   }
  },
  {
   "cell_type": "code",
   "execution_count": 89,
   "outputs": [],
   "source": [
    "df.loc[df['RAM'] > 16, 'RAM'] = 8"
   ],
   "metadata": {
    "collapsed": false,
    "pycharm": {
     "name": "#%%\n"
    }
   }
  },
  {
   "cell_type": "code",
   "execution_count": 90,
   "outputs": [
    {
     "data": {
      "text/plain": "6.0     184\n4.0     168\n8.0     124\n2.0      61\n3.0      45\n12.0     31\n1.0       3\n5.0       3\n16.0      2\nName: RAM, dtype: int64"
     },
     "execution_count": 90,
     "metadata": {},
     "output_type": "execute_result"
    }
   ],
   "source": [
    "df['RAM'].value_counts()"
   ],
   "metadata": {
    "collapsed": false,
    "pycharm": {
     "name": "#%%\n"
    }
   }
  },
  {
   "cell_type": "markdown",
   "source": [
    "### Contract"
   ],
   "metadata": {
    "collapsed": false
   }
  },
  {
   "cell_type": "code",
   "execution_count": 91,
   "outputs": [
    {
     "data": {
      "text/plain": "Without Contract    652\nNo                    2\nWith Contract         1\nName: Contract, dtype: int64"
     },
     "execution_count": 91,
     "metadata": {},
     "output_type": "execute_result"
    }
   ],
   "source": [
    "df.Contract.value_counts()"
   ],
   "metadata": {
    "collapsed": false,
    "pycharm": {
     "name": "#%%\n"
    }
   }
  },
  {
   "cell_type": "markdown",
   "source": [
    "### Операционная система"
   ],
   "metadata": {
    "collapsed": false
   }
  },
  {
   "cell_type": "code",
   "execution_count": 92,
   "outputs": [
    {
     "data": {
      "text/plain": "Android                            662\nMIUI                                24\nAndroid 10, MIUI 12                 12\nAndroid 12                          12\nAndroid 11                           8\nAndroid 10                           5\nAndroid 11, MIUI 12                  4\nAndroid 11, MIUI 13                  4\nAndroid 12, MIUI 13                  3\nMIUI 10                              2\nAndroid 11, MIUI 12.5                1\nDerpfest OS 12.1                     1\nMIUI 12.5, Android 11.0              1\nFeature Phone                        1\nAndroid 9                            1\nAndroid Nougat 7.1.2                 1\nMIUI 12.5 (Based On Android 11)      1\nMIUI 13, based on Android 11         1\nMIUI 13                              1\nAndroid 12.0                         1\nAndroid 8.0                          1\nMIUI 12                              1\nAndroid Q 10                         1\nAndroid 10, MIUI 11                  1\nAndroid MIUI 10                      1\nMIUI 14                              1\nAndroid 8.1                          1\nName: Operating System, dtype: int64"
     },
     "execution_count": 92,
     "metadata": {},
     "output_type": "execute_result"
    }
   ],
   "source": [
    "df['Operating System'].value_counts()"
   ],
   "metadata": {
    "collapsed": false,
    "pycharm": {
     "name": "#%%\n"
    }
   }
  },
  {
   "cell_type": "code",
   "execution_count": 93,
   "outputs": [
    {
     "name": "stderr",
     "output_type": "stream",
     "text": [
      "C:\\Users\\druny\\AppData\\Local\\Temp\\ipykernel_16392\\48265928.py:1: FutureWarning: The default value of regex will change from True to False in a future version.\n",
      "  df['Operating System'] = df['Operating System'].str.replace(r'(Android|MIUI)\\b.*', 'Android')\n"
     ]
    }
   ],
   "source": [
    "df['Operating System'] = df['Operating System'].str.replace(r'(Android|MIUI)\\b.*', 'Android')"
   ],
   "metadata": {
    "collapsed": false,
    "pycharm": {
     "name": "#%%\n"
    }
   }
  },
  {
   "cell_type": "code",
   "execution_count": 94,
   "outputs": [],
   "source": [
    "df.loc[(df['Operating System'] == 'iOS') | (df['Operating System'] == 'IOS') | (df['Operating System'] == 'iOS - Apple'), 'Operating System'] = 'IOS'"
   ],
   "metadata": {
    "collapsed": false,
    "pycharm": {
     "name": "#%%\n"
    }
   }
  },
  {
   "cell_type": "code",
   "execution_count": 95,
   "outputs": [],
   "source": [
    "df.loc[(df['Operating System'] != 'IOS') & (df['Operating System'] != 'Android'), 'Operating System'] = 'Other'"
   ],
   "metadata": {
    "collapsed": false,
    "pycharm": {
     "name": "#%%\n"
    }
   }
  },
  {
   "cell_type": "code",
   "execution_count": 96,
   "outputs": [
    {
     "data": {
      "text/plain": "Android    751\nOther      142\nName: Operating System, dtype: int64"
     },
     "execution_count": 96,
     "metadata": {},
     "output_type": "execute_result"
    }
   ],
   "source": [
    "df['Operating System'].value_counts()"
   ],
   "metadata": {
    "collapsed": false,
    "pycharm": {
     "name": "#%%\n"
    }
   }
  },
  {
   "cell_type": "markdown",
   "source": [
    "### Форм-Фактор"
   ],
   "metadata": {
    "collapsed": false
   }
  },
  {
   "cell_type": "code",
   "execution_count": 97,
   "outputs": [
    {
     "data": {
      "text/plain": "Bar               366\nSmartphone         18\nSlate               6\nTouch Screen        3\nCELLULAR_PHONE      1\nFlip                1\nCandy Bar           1\nName: Style, dtype: int64"
     },
     "execution_count": 97,
     "metadata": {},
     "output_type": "execute_result"
    }
   ],
   "source": [
    "df['Style'].value_counts() #юслесс"
   ],
   "metadata": {
    "collapsed": false,
    "pycharm": {
     "name": "#%%\n"
    }
   }
  },
  {
   "cell_type": "markdown",
   "source": [
    "### Фичи"
   ],
   "metadata": {
    "collapsed": false
   }
  },
  {
   "cell_type": "code",
   "execution_count": 98,
   "outputs": [
    {
     "data": {
      "text/plain": "Bluetooth Enabled, Camera                                                                                                                                                                                                                                                                                                                                   36\n4K Video Recording, Bluetooth Enabled, Camera, Color Screen, Dual Screen, Email, Web, Email Access, Fast Charging, Fingerprint Sensor, Global Ready, GPRS, GPS, Internet Connectivity, Music Player, Nano SIM, QWERTY Keyboard, Rear Camera, Retina Display, Touch Screen, Video Calling, Video Camera, Wi-Fi Capable                                       21\n4K Video Recording, Bluetooth Enabled, Camera, Color Screen, Email, Web, Fingerprint Sensor, Front Camera, Global Ready, GPRS, Internet Connectivity, MMS (Multimedia Messaging), Nano SIM, QWERTY Keyboard, Touch Screen, Video Calling, Video Camera, Wi-Fi Capable, 4G Data Capable                                                                      21\n4K Video Recording, Bluetooth Enabled, Camera, Color Screen, Email, Web, Fingerprint Sensor, Front Camera, Global Ready, GPRS, Internet Connectivity, MMS (Multimedia Messaging), Nano SIM, NFC Connectivity, QWERTY Keyboard, Touch Screen, Video Calling, Video Camera, Wi-Fi Capable, 4G Data Capable                                                    17\nCamera                                                                                                                                                                                                                                                                                                                                                      14\n                                                                                                                                                                                                                                                                                                                                                            ..\nBluetooth Enabled, Camera, E-compass, Email, Web, Fast Charging, Front Camera, GPS, High Capacity Battery (5000 mAh or More), Internet Connectivity, Music Player, Nano SIM, Rear Camera, Touch Screen, Triple Rear Camera, Vibration, Video Calling, Wide-Angle Camera, Wi-Fi Capable, Colour Screen, 3G Data Capable, 4G Data Capable, 5G Data Capable     1\nAccelerometer, Bluetooth Enabled, Camera, Color Screen                                                                                                                                                                                                                                                                                                       1\n3D Depth Camera, 4K Video Recording, Accelerometer, AMOLED Display, GPRS, GPS                                                                                                                                                                                                                                                                                1\nFingerprint (side-mounted), Accelerometer, OLED Display                                                                                                                                                                                                                                                                                                      1\nAMOLED Display, Fast Charging, Ultra Wide-Angle Camera                                                                                                                                                                                                                                                                                                       1\nName: Features, Length: 205, dtype: int64"
     },
     "execution_count": 98,
     "metadata": {},
     "output_type": "execute_result"
    }
   ],
   "source": [
    "df['Features'].value_counts() #юзлесс"
   ],
   "metadata": {
    "collapsed": false,
    "pycharm": {
     "name": "#%%\n"
    }
   }
  },
  {
   "cell_type": "code",
   "execution_count": 99,
   "outputs": [],
   "source": [
    "def clear(feat:str):\n",
    "    if type(feat)==str:\n",
    "        feat = re.split(r',\\s*', feat)\n",
    "        for i in range(len(feat)):\n",
    "            feat[i] = feat[i].strip(\" \\'\\'\\\"\\\"\")\n",
    "        feat = ', '.join(feat)\n",
    "    return feat"
   ],
   "metadata": {
    "collapsed": false,
    "pycharm": {
     "name": "#%%\n"
    }
   }
  },
  {
   "cell_type": "code",
   "execution_count": 100,
   "outputs": [],
   "source": [
    "Features = df['Features'].str.strip(\" []\").apply(clear)"
   ],
   "metadata": {
    "collapsed": false,
    "pycharm": {
     "name": "#%%\n"
    }
   }
  },
  {
   "cell_type": "code",
   "execution_count": 101,
   "outputs": [
    {
     "data": {
      "text/plain": "Bluetooth Enabled, Camera                                                                                                                                                                                                                                                                                                                                   36\n4K Video Recording, Bluetooth Enabled, Camera, Color Screen, Email, Web, Fingerprint Sensor, Front Camera, Global Ready, GPRS, Internet Connectivity, MMS (Multimedia Messaging), Nano SIM, QWERTY Keyboard, Touch Screen, Video Calling, Video Camera, Wi-Fi Capable, 4G Data Capable                                                                      21\n4K Video Recording, Bluetooth Enabled, Camera, Color Screen, Dual Screen, Email, Web, Email Access, Fast Charging, Fingerprint Sensor, Global Ready, GPRS, GPS, Internet Connectivity, Music Player, Nano SIM, QWERTY Keyboard, Rear Camera, Retina Display, Touch Screen, Video Calling, Video Camera, Wi-Fi Capable                                       21\n4K Video Recording, Bluetooth Enabled, Camera, Color Screen, Email, Web, Fingerprint Sensor, Front Camera, Global Ready, GPRS, Internet Connectivity, MMS (Multimedia Messaging), Nano SIM, NFC Connectivity, QWERTY Keyboard, Touch Screen, Video Calling, Video Camera, Wi-Fi Capable, 4G Data Capable                                                    17\nFingerprint, gyro, proximity, compass, Accelerometer                                                                                                                                                                                                                                                                                                        14\n                                                                                                                                                                                                                                                                                                                                                            ..\nBluetooth Enabled, Camera, E-compass, Email, Web, Fast Charging, Front Camera, GPS, High Capacity Battery (5000 mAh or More), Internet Connectivity, Music Player, Nano SIM, Rear Camera, Touch Screen, Triple Rear Camera, Vibration, Video Calling, Wide-Angle Camera, Wi-Fi Capable, Colour Screen, 3G Data Capable, 4G Data Capable, 5G Data Capable     1\nAccelerometer, Bluetooth Enabled, Camera, Color Screen                                                                                                                                                                                                                                                                                                       1\n3D Depth Camera, 4K Video Recording, Accelerometer, AMOLED Display, GPRS, GPS                                                                                                                                                                                                                                                                                1\nFingerprint (side-mounted), Accelerometer, OLED Display                                                                                                                                                                                                                                                                                                      1\nAMOLED Display, Fast Charging, Ultra Wide-Angle Camera                                                                                                                                                                                                                                                                                                       1\nName: Features, Length: 204, dtype: int64"
     },
     "execution_count": 101,
     "metadata": {},
     "output_type": "execute_result"
    }
   ],
   "source": [
    "Features.value_counts()"
   ],
   "metadata": {
    "collapsed": false,
    "pycharm": {
     "name": "#%%\n"
    }
   }
  },
  {
   "cell_type": "code",
   "execution_count": 102,
   "outputs": [],
   "source": [
    "Features = Features.str.get_dummies(', ')"
   ],
   "metadata": {
    "collapsed": false,
    "pycharm": {
     "name": "#%%\n"
    }
   }
  },
  {
   "cell_type": "code",
   "execution_count": 103,
   "outputs": [
    {
     "data": {
      "text/plain": "Bluetooth Enabled                    297\nCamera                               269\nWi-Fi Capable                        212\n4K Video Recording                   202\nFingerprint Sensor                   191\n                                    ... \nBattery 3070mAh                        4\nFingerprint (under display             4\nGorilla Glass 3 Protected (front)      4\nUSB On-The-Go                          4\nUSB Type-C 2.0                         4\nLength: 100, dtype: int64"
     },
     "execution_count": 103,
     "metadata": {},
     "output_type": "execute_result"
    }
   ],
   "source": [
    "Features.sum().nlargest(100)  #выглядит юслесс и дубликатом"
   ],
   "metadata": {
    "collapsed": false,
    "pycharm": {
     "name": "#%%\n"
    }
   }
  },
  {
   "cell_type": "code",
   "execution_count": 104,
   "outputs": [
    {
     "data": {
      "text/plain": "Index(['10600mAh Large Battery & 18W Fast Charging', '1080p@30/60/120fps',\n       '1080p@30/60fps', '108MP Main Camera System', '1100 nits (peak)',\n       '1200 nits (', '1200 nits peak brightness', '120Hz', '120Hz Display',\n       '120Hz refresh rate display',\n       ...\n       'dust and splash protection', 'dust and splash resistant', 'eSIM',\n       'gyro', 'microSDXC (dedicated slot)', 'optical)', 'panorama',\n       'proximity', 'sensing', 'up to 2.85GHz'],\n      dtype='object', length=231)"
     },
     "execution_count": 104,
     "metadata": {},
     "output_type": "execute_result"
    }
   ],
   "source": [
    "Features.columns"
   ],
   "metadata": {
    "collapsed": false,
    "pycharm": {
     "name": "#%%\n"
    }
   }
  },
  {
   "cell_type": "markdown",
   "source": [
    "### SIM-слот"
   ],
   "metadata": {
    "collapsed": false
   }
  },
  {
   "cell_type": "code",
   "execution_count": 105,
   "outputs": [
    {
     "data": {
      "text/plain": "Dual SIM (SIM + SIM)                  330\nDual SIM                              264\nDual SIM (SIM + SIM + Memory Card)     81\nDual SIM (SIM + SIM/Memory Card)       23\nSingle SIM                             18\nDual SIM (SIM + eSIM)                   7\nName: SIM Card Slot, dtype: int64"
     },
     "execution_count": 105,
     "metadata": {},
     "output_type": "execute_result"
    }
   ],
   "source": [
    "df['SIM Card Slot'].value_counts() #норм"
   ],
   "metadata": {
    "collapsed": false,
    "pycharm": {
     "name": "#%%\n"
    }
   }
  },
  {
   "cell_type": "markdown",
   "source": [
    "### Карта памяти"
   ],
   "metadata": {
    "collapsed": false
   }
  },
  {
   "cell_type": "code",
   "execution_count": 106,
   "outputs": [
    {
     "data": {
      "text/plain": "MicroSD                             155\nmicroSDXC                           154\nNo Applicable                        69\nNot Applicabe                        30\nmicroSDXC (dedicated slot)           22\nmicroSDXC (uses shared SIM slot)     16\nNO                                   13\nmicroSDXC  (dedicated slot)           4\nBuilt-In Memory                       2\nTransFlash Card                       2\nMiniSD                                2\nnot applicable                        1\nSDXC Card                             1\nMicro SDXC                            1\nNot Applicable                        1\nno                                    1\nCompactFlash                          1\nmicroSD                               1\nDual SIM                              1\nName: Memory Card Type, dtype: int64"
     },
     "execution_count": 106,
     "metadata": {},
     "output_type": "execute_result"
    }
   ],
   "source": [
    "#выглядит юзлесс\n",
    "df['Memory Card Type'].value_counts()"
   ],
   "metadata": {
    "collapsed": false,
    "pycharm": {
     "name": "#%%\n"
    }
   }
  },
  {
   "cell_type": "markdown",
   "source": [
    "### Процессор"
   ],
   "metadata": {
    "collapsed": false
   }
  },
  {
   "cell_type": "code",
   "execution_count": 107,
   "outputs": [
    {
     "data": {
      "text/plain": "Octa Core                                             483\nQuad Core                                              25\nSnapdragon 732G                                        16\nMediaTek Helio G25 (12 nm) Octa-core                    7\nDimensity 1080                                          7\n                                                     ... \nQualcomm SM7225 Snapdragon 750G 5G (8 nm)               1\nOcta-core / 8/Core                                      1\nOcta-core (2x2.0 GHz Cortex-A75 & 6x1.8 GHz Cortex      1\nMediaTek Helio G88 (12nm)                               1\nSnapdragon 8 Gen 1                                      1\nName: Processor, Length: 80, dtype: int64"
     },
     "execution_count": 107,
     "metadata": {},
     "output_type": "execute_result"
    }
   ],
   "source": [
    "df['Processor'].value_counts()"
   ],
   "metadata": {
    "collapsed": false,
    "pycharm": {
     "name": "#%%\n"
    }
   }
  },
  {
   "cell_type": "code",
   "execution_count": 108,
   "outputs": [
    {
     "data": {
      "text/plain": "Octa Core    511\nOthers       352\nQuad Core     26\nHexa Core      2\nDual Core      2\nName: Processor, dtype: int64"
     },
     "execution_count": 108,
     "metadata": {},
     "output_type": "execute_result"
    }
   ],
   "source": [
    "def unify_processor(processor):\n",
    "    if type(processor)==str:\n",
    "        processor = processor.lower()\n",
    "        if 'octa' in processor or '8 core' in processor or '8-core' in processor:\n",
    "            return 'Octa Core'\n",
    "        elif 'hexa' in processor or '6 core' in processor or '6-core' in processor:\n",
    "            return 'Hexa Core'\n",
    "        elif 'quad' in processor or '4 core' in processor or '4-core' in processor:\n",
    "            return 'Quad Core'\n",
    "        elif 'dual' in processor or '2 core' in processor or '2-core' in processor:\n",
    "            return 'Dual Core'\n",
    "        else:\n",
    "            return 'Others'\n",
    "    else:\n",
    "        return 'Others'\n",
    "\n",
    "# Применение функции унификации к столбцу \"Processor\"\n",
    "df['Processor'] = df['Processor'].apply(unify_processor)\n",
    "\n",
    "df['Processor'].value_counts()"
   ],
   "metadata": {
    "collapsed": false,
    "pycharm": {
     "name": "#%%\n"
    }
   }
  },
  {
   "cell_type": "markdown",
   "source": [
    "### Объединяем всё вместе"
   ],
   "metadata": {
    "collapsed": false
   }
  },
  {
   "cell_type": "code",
   "execution_count": 109,
   "outputs": [],
   "source": [
    "data = pd.concat([df, Reasonable], axis = 1)"
   ],
   "metadata": {
    "collapsed": false,
    "pycharm": {
     "name": "#%%\n"
    }
   }
  },
  {
   "cell_type": "code",
   "execution_count": 110,
   "outputs": [
    {
     "data": {
      "text/plain": "Index(['Title', 'Price', 'Shipping_cost', 'Sales_Count', 'Sales_Value', 'Link',\n       'Last_Sale', 'Condition', 'MPN', 'Model Number', 'Brand', 'Model',\n       'Style', 'Connectivity', 'Country/Region of Manufacture', 'Processor',\n       'Screen Size', 'Lock Status', 'SIM Card Slot', 'Network',\n       'Operating System', 'Features', 'Storage Capacity', 'Contract', 'RAM',\n       'Memory Card Type', 'Camera Resolution', 'Color', 'Chipset Model',\n       'Manufacturer Warranty', 'Seller Notes', '2G', '3G', '4G', '5G',\n       'Bluetooth', 'GSM', 'WI-FI', 'Micro USB', 'USB', 'Type-C', 'NFC',\n       'Dual-Band', 'DLNA', 'EDGE', 'GPS', 'Headphone Jack', 'Infrared',\n       'Quad-Band', 'Tri-Band', 'WAP', 'WCDMA'],\n      dtype='object')"
     },
     "execution_count": 110,
     "metadata": {},
     "output_type": "execute_result"
    }
   ],
   "source": [
    "data.columns"
   ],
   "metadata": {
    "collapsed": false,
    "pycharm": {
     "name": "#%%\n"
    }
   }
  },
  {
   "cell_type": "code",
   "execution_count": 111,
   "outputs": [
    {
     "data": {
      "text/plain": "Title                              0\nPrice                              0\nShipping_cost                      0\nSales_Count                        0\nSales_Value                        0\nLink                               0\nLast_Sale                          0\nCondition                          0\nMPN                              425\nModel Number                     589\nBrand                              0\nModel                             95\nStyle                            497\nConnectivity                     246\nCountry/Region of Manufacture    642\nProcessor                          0\nScreen Size                      184\nLock Status                      161\nSIM Card Slot                    170\nNetwork                            0\nOperating System                   0\nFeatures                         358\nStorage Capacity                 163\nContract                         238\nRAM                              272\nMemory Card Type                 416\nCamera Resolution                197\nColor                            441\nChipset Model                    679\nManufacturer Warranty            712\nSeller Notes                     689\n2G                                 0\n3G                                 0\n4G                                 0\n5G                                 0\nBluetooth                          0\nGSM                                0\nWI-FI                              0\nMicro USB                          0\nUSB                                0\nType-C                             0\nNFC                                0\nDual-Band                          0\nDLNA                               0\nEDGE                               0\nGPS                                0\nHeadphone Jack                     0\nInfrared                           0\nQuad-Band                          0\nTri-Band                           0\nWAP                                0\nWCDMA                              0\ndtype: int64"
     },
     "execution_count": 111,
     "metadata": {},
     "output_type": "execute_result"
    }
   ],
   "source": [
    "data.isna().sum()"
   ],
   "metadata": {
    "collapsed": false,
    "pycharm": {
     "name": "#%%\n"
    }
   }
  },
  {
   "cell_type": "code",
   "execution_count": 112,
   "outputs": [],
   "source": [
    "#чистим наны\n",
    "numeric_cols = data.select_dtypes(include=np.number).columns\n",
    "data[numeric_cols] = data[numeric_cols].fillna(data[numeric_cols].mean())\n",
    "\n",
    "categorical_cols = data.select_dtypes(include='object').columns\n",
    "data[categorical_cols] = data[categorical_cols].fillna(data[categorical_cols].mode().iloc[0])"
   ],
   "metadata": {
    "collapsed": false,
    "pycharm": {
     "name": "#%%\n"
    }
   }
  },
  {
   "cell_type": "code",
   "execution_count": 113,
   "outputs": [
    {
     "data": {
      "text/plain": "Title                            0\nPrice                            0\nShipping_cost                    0\nSales_Count                      0\nSales_Value                      0\nLink                             0\nLast_Sale                        0\nCondition                        0\nMPN                              0\nModel Number                     0\nBrand                            0\nModel                            0\nStyle                            0\nConnectivity                     0\nCountry/Region of Manufacture    0\nProcessor                        0\nScreen Size                      0\nLock Status                      0\nSIM Card Slot                    0\nNetwork                          0\nOperating System                 0\nFeatures                         0\nStorage Capacity                 0\nContract                         0\nRAM                              0\nMemory Card Type                 0\nCamera Resolution                0\nColor                            0\nChipset Model                    0\nManufacturer Warranty            0\nSeller Notes                     0\n2G                               0\n3G                               0\n4G                               0\n5G                               0\nBluetooth                        0\nGSM                              0\nWI-FI                            0\nMicro USB                        0\nUSB                              0\nType-C                           0\nNFC                              0\nDual-Band                        0\nDLNA                             0\nEDGE                             0\nGPS                              0\nHeadphone Jack                   0\nInfrared                         0\nQuad-Band                        0\nTri-Band                         0\nWAP                              0\nWCDMA                            0\ndtype: int64"
     },
     "execution_count": 113,
     "metadata": {},
     "output_type": "execute_result"
    }
   ],
   "source": [
    "data.isna().sum()"
   ],
   "metadata": {
    "collapsed": false,
    "pycharm": {
     "name": "#%%\n"
    }
   }
  },
  {
   "cell_type": "code",
   "execution_count": 116,
   "outputs": [],
   "source": [
    "data[\"Last_Sale\"] = pd.to_datetime(data[\"Last_Sale\"])"
   ],
   "metadata": {
    "collapsed": false,
    "pycharm": {
     "name": "#%%\n"
    }
   }
  },
  {
   "cell_type": "code",
   "execution_count": 117,
   "outputs": [],
   "source": [
    "data.to_csv('Redmi preprocessed.tsv', index = False, sep = '\\t')"
   ],
   "metadata": {
    "collapsed": false,
    "pycharm": {
     "name": "#%%\n"
    }
   }
  }
 ],
 "metadata": {
  "kernelspec": {
   "display_name": "Python 3",
   "language": "python",
   "name": "python3"
  },
  "language_info": {
   "codemirror_mode": {
    "name": "ipython",
    "version": 2
   },
   "file_extension": ".py",
   "mimetype": "text/x-python",
   "name": "python",
   "nbconvert_exporter": "python",
   "pygments_lexer": "ipython2",
   "version": "2.7.6"
  }
 },
 "nbformat": 4,
 "nbformat_minor": 0
}