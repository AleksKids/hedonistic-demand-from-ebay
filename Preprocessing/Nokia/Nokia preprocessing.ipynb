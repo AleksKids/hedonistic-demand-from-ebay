{
 "cells": [
  {
   "cell_type": "markdown",
   "source": [
    "# Данный файл содержит алгоритм предобработки Global DataFrame - датафрейма, необходимого для построения модели"
   ],
   "metadata": {
    "collapsed": false
   }
  },
  {
   "cell_type": "markdown",
   "source": [
    "Проанализируйте столбцы. Что в них содержится? Опишите переменные. Есть ли в данных пропуски? Обработайте пропуски. Если в какой-то колонке пропусков большинство, то ее можно удалить. Если их не очень много, можно заполнить их медианой/средним или чем-нибудь еще, напишите почему вы выбрали тот или иной вариант."
   ],
   "metadata": {
    "collapsed": false
   }
  },
  {
   "cell_type": "markdown",
   "source": [
    "## Первичная очистка и объединение"
   ],
   "metadata": {
    "collapsed": false
   }
  },
  {
   "cell_type": "code",
   "execution_count": 6,
   "outputs": [],
   "source": [
    "import pandas as pd\n",
    "import re\n",
    "import numpy as np"
   ],
   "metadata": {
    "collapsed": false,
    "pycharm": {
     "name": "#%%\n"
    }
   }
  },
  {
   "cell_type": "code",
   "execution_count": 7,
   "outputs": [
    {
     "data": {
      "text/plain": "                                               Title    Price Shipping_cost  \\\n0  Nokia 3.1 C (TA1141) 32GB (Cricket) Smartphone...   $31.59         $5.00   \n1  Nokia 6 Dual SIM 5.5\" 4GB RAM 16MP Wi-Fi GPS B...  $103.50         $0.00   \n2  NEW Nokia 8 V 5G UW TA1257 Verizon Unlocked LT...  $161.24         $0.00   \n3  Original Nokia N8 N8-00 3G WIFI GPS 12MP Touch...   $42.95         $5.50   \n4  Nokia G50 5G | Android 11| Unlocked Smartphone...   $87.00         $8.22   \n\n   Sales_Count Sales_Value                                               Link  \\\n0           34   $1,074.14  https://www.ebay.com/itm/275016352540?nordt=tr...   \n1            4     $414.00  https://www.ebay.com/itm/203145222261?nordt=tr...   \n2            8   $1,289.92  https://www.ebay.com/itm/295688872962?nordt=tr...   \n3           26   $1,116.79  https://www.ebay.com/itm/164928279178?nordt=tr...   \n4            1      $87.00  https://www.ebay.com/itm/145123725321?nordt=tr...   \n\n      Last_Sale  \n0  Jun 13, 2023  \n1  Jun 13, 2023  \n2  Jun 13, 2023  \n3  Jun 13, 2023  \n4  Jun 13, 2023  ",
      "text/html": "<div>\n<style scoped>\n    .dataframe tbody tr th:only-of-type {\n        vertical-align: middle;\n    }\n\n    .dataframe tbody tr th {\n        vertical-align: top;\n    }\n\n    .dataframe thead th {\n        text-align: right;\n    }\n</style>\n<table border=\"1\" class=\"dataframe\">\n  <thead>\n    <tr style=\"text-align: right;\">\n      <th></th>\n      <th>Title</th>\n      <th>Price</th>\n      <th>Shipping_cost</th>\n      <th>Sales_Count</th>\n      <th>Sales_Value</th>\n      <th>Link</th>\n      <th>Last_Sale</th>\n    </tr>\n  </thead>\n  <tbody>\n    <tr>\n      <th>0</th>\n      <td>Nokia 3.1 C (TA1141) 32GB (Cricket) Smartphone...</td>\n      <td>$31.59</td>\n      <td>$5.00</td>\n      <td>34</td>\n      <td>$1,074.14</td>\n      <td>https://www.ebay.com/itm/275016352540?nordt=tr...</td>\n      <td>Jun 13, 2023</td>\n    </tr>\n    <tr>\n      <th>1</th>\n      <td>Nokia 6 Dual SIM 5.5\" 4GB RAM 16MP Wi-Fi GPS B...</td>\n      <td>$103.50</td>\n      <td>$0.00</td>\n      <td>4</td>\n      <td>$414.00</td>\n      <td>https://www.ebay.com/itm/203145222261?nordt=tr...</td>\n      <td>Jun 13, 2023</td>\n    </tr>\n    <tr>\n      <th>2</th>\n      <td>NEW Nokia 8 V 5G UW TA1257 Verizon Unlocked LT...</td>\n      <td>$161.24</td>\n      <td>$0.00</td>\n      <td>8</td>\n      <td>$1,289.92</td>\n      <td>https://www.ebay.com/itm/295688872962?nordt=tr...</td>\n      <td>Jun 13, 2023</td>\n    </tr>\n    <tr>\n      <th>3</th>\n      <td>Original Nokia N8 N8-00 3G WIFI GPS 12MP Touch...</td>\n      <td>$42.95</td>\n      <td>$5.50</td>\n      <td>26</td>\n      <td>$1,116.79</td>\n      <td>https://www.ebay.com/itm/164928279178?nordt=tr...</td>\n      <td>Jun 13, 2023</td>\n    </tr>\n    <tr>\n      <th>4</th>\n      <td>Nokia G50 5G | Android 11| Unlocked Smartphone...</td>\n      <td>$87.00</td>\n      <td>$8.22</td>\n      <td>1</td>\n      <td>$87.00</td>\n      <td>https://www.ebay.com/itm/145123725321?nordt=tr...</td>\n      <td>Jun 13, 2023</td>\n    </tr>\n  </tbody>\n</table>\n</div>"
     },
     "execution_count": 7,
     "metadata": {},
     "output_type": "execute_result"
    }
   ],
   "source": [
    "df_items = pd.read_csv('https://raw.githubusercontent.com/AleksKids/hedonistic-demand-from-ebay/main/Data%20Tables/Nokia/Nokia%20Sales.tsv', delimiter = \"\\t\")\n",
    "df_items.head()"
   ],
   "metadata": {
    "collapsed": false,
    "pycharm": {
     "name": "#%%\n"
    }
   }
  },
  {
   "cell_type": "code",
   "execution_count": 8,
   "outputs": [
    {
     "data": {
      "text/plain": "Title            0\nPrice            0\nShipping_cost    0\nSales_Count      0\nSales_Value      0\nLink             0\nLast_Sale        0\ndtype: int64"
     },
     "execution_count": 8,
     "metadata": {},
     "output_type": "execute_result"
    }
   ],
   "source": [
    "df_items.dropna(subset=['Link'], inplace=True)\n",
    "df_items.reset_index(inplace=True)\n",
    "df_items.drop('index', axis=1, inplace = True)\n",
    "df_items.isna().sum()"
   ],
   "metadata": {
    "collapsed": false,
    "pycharm": {
     "name": "#%%\n"
    }
   }
  },
  {
   "cell_type": "code",
   "execution_count": 9,
   "outputs": [
    {
     "data": {
      "text/plain": "                                               Title    Price Shipping_cost  \\\n0  Nokia 3.1 C (TA1141) 32GB (Cricket) Smartphone...   $31.59         $5.00   \n1  Nokia 6 Dual SIM 5.5\" 4GB RAM 16MP Wi-Fi GPS B...  $103.50         $0.00   \n2  NEW Nokia 8 V 5G UW TA1257 Verizon Unlocked LT...  $161.24         $0.00   \n3  Original Nokia N8 N8-00 3G WIFI GPS 12MP Touch...   $42.95         $5.50   \n4  Nokia G50 5G | Android 11| Unlocked Smartphone...   $87.00         $8.22   \n\n   Sales_Count Sales_Value                                               Link  \\\n0           34   $1,074.14  https://www.ebay.com/itm/275016352540?nordt=tr...   \n1            4     $414.00  https://www.ebay.com/itm/203145222261?nordt=tr...   \n2            8   $1,289.92  https://www.ebay.com/itm/295688872962?nordt=tr...   \n3           26   $1,116.79  https://www.ebay.com/itm/164928279178?nordt=tr...   \n4            1      $87.00  https://www.ebay.com/itm/145123725321?nordt=tr...   \n\n      Last_Sale  \n0  Jun 13, 2023  \n1  Jun 13, 2023  \n2  Jun 13, 2023  \n3  Jun 13, 2023  \n4  Jun 13, 2023  ",
      "text/html": "<div>\n<style scoped>\n    .dataframe tbody tr th:only-of-type {\n        vertical-align: middle;\n    }\n\n    .dataframe tbody tr th {\n        vertical-align: top;\n    }\n\n    .dataframe thead th {\n        text-align: right;\n    }\n</style>\n<table border=\"1\" class=\"dataframe\">\n  <thead>\n    <tr style=\"text-align: right;\">\n      <th></th>\n      <th>Title</th>\n      <th>Price</th>\n      <th>Shipping_cost</th>\n      <th>Sales_Count</th>\n      <th>Sales_Value</th>\n      <th>Link</th>\n      <th>Last_Sale</th>\n    </tr>\n  </thead>\n  <tbody>\n    <tr>\n      <th>0</th>\n      <td>Nokia 3.1 C (TA1141) 32GB (Cricket) Smartphone...</td>\n      <td>$31.59</td>\n      <td>$5.00</td>\n      <td>34</td>\n      <td>$1,074.14</td>\n      <td>https://www.ebay.com/itm/275016352540?nordt=tr...</td>\n      <td>Jun 13, 2023</td>\n    </tr>\n    <tr>\n      <th>1</th>\n      <td>Nokia 6 Dual SIM 5.5\" 4GB RAM 16MP Wi-Fi GPS B...</td>\n      <td>$103.50</td>\n      <td>$0.00</td>\n      <td>4</td>\n      <td>$414.00</td>\n      <td>https://www.ebay.com/itm/203145222261?nordt=tr...</td>\n      <td>Jun 13, 2023</td>\n    </tr>\n    <tr>\n      <th>2</th>\n      <td>NEW Nokia 8 V 5G UW TA1257 Verizon Unlocked LT...</td>\n      <td>$161.24</td>\n      <td>$0.00</td>\n      <td>8</td>\n      <td>$1,289.92</td>\n      <td>https://www.ebay.com/itm/295688872962?nordt=tr...</td>\n      <td>Jun 13, 2023</td>\n    </tr>\n    <tr>\n      <th>3</th>\n      <td>Original Nokia N8 N8-00 3G WIFI GPS 12MP Touch...</td>\n      <td>$42.95</td>\n      <td>$5.50</td>\n      <td>26</td>\n      <td>$1,116.79</td>\n      <td>https://www.ebay.com/itm/164928279178?nordt=tr...</td>\n      <td>Jun 13, 2023</td>\n    </tr>\n    <tr>\n      <th>4</th>\n      <td>Nokia G50 5G | Android 11| Unlocked Smartphone...</td>\n      <td>$87.00</td>\n      <td>$8.22</td>\n      <td>1</td>\n      <td>$87.00</td>\n      <td>https://www.ebay.com/itm/145123725321?nordt=tr...</td>\n      <td>Jun 13, 2023</td>\n    </tr>\n  </tbody>\n</table>\n</div>"
     },
     "execution_count": 9,
     "metadata": {},
     "output_type": "execute_result"
    }
   ],
   "source": [
    "df_items.head()"
   ],
   "metadata": {
    "collapsed": false,
    "pycharm": {
     "name": "#%%\n"
    }
   }
  },
  {
   "cell_type": "code",
   "execution_count": 10,
   "outputs": [],
   "source": [
    "def Sales_Value(value):\n",
    "  pattern = r'\\$|,'\n",
    "  clean_value = re.sub(pattern, '', value)\n",
    "  numeric_value = float(clean_value)\n",
    "  return numeric_value\n",
    "\n",
    "\n",
    "df_items.Price = df_items.Price.apply(lambda x: float(re.sub(r'[^\\d.]', '', x)))\n",
    "df_items.Shipping_cost = df_items.Shipping_cost.apply(lambda x: float(re.sub(r'[^\\d.]', '', x)))\n",
    "df_items.Sales_Value = df_items.Sales_Value.apply(lambda x: Sales_Value(x))"
   ],
   "metadata": {
    "collapsed": false,
    "pycharm": {
     "name": "#%%\n"
    }
   }
  },
  {
   "cell_type": "code",
   "execution_count": 11,
   "outputs": [
    {
     "data": {
      "text/plain": "                                               Title   Price  Shipping_cost  \\\n0  Nokia 3.1 C (TA1141) 32GB (Cricket) Smartphone...   31.59           5.00   \n1  Nokia 6 Dual SIM 5.5\" 4GB RAM 16MP Wi-Fi GPS B...  103.50           0.00   \n2  NEW Nokia 8 V 5G UW TA1257 Verizon Unlocked LT...  161.24           0.00   \n3  Original Nokia N8 N8-00 3G WIFI GPS 12MP Touch...   42.95           5.50   \n4  Nokia G50 5G | Android 11| Unlocked Smartphone...   87.00           8.22   \n\n   Sales_Count  Sales_Value  \\\n0           34      1074.14   \n1            4       414.00   \n2            8      1289.92   \n3           26      1116.79   \n4            1        87.00   \n\n                                                Link     Last_Sale  \n0  https://www.ebay.com/itm/275016352540?nordt=tr...  Jun 13, 2023  \n1  https://www.ebay.com/itm/203145222261?nordt=tr...  Jun 13, 2023  \n2  https://www.ebay.com/itm/295688872962?nordt=tr...  Jun 13, 2023  \n3  https://www.ebay.com/itm/164928279178?nordt=tr...  Jun 13, 2023  \n4  https://www.ebay.com/itm/145123725321?nordt=tr...  Jun 13, 2023  ",
      "text/html": "<div>\n<style scoped>\n    .dataframe tbody tr th:only-of-type {\n        vertical-align: middle;\n    }\n\n    .dataframe tbody tr th {\n        vertical-align: top;\n    }\n\n    .dataframe thead th {\n        text-align: right;\n    }\n</style>\n<table border=\"1\" class=\"dataframe\">\n  <thead>\n    <tr style=\"text-align: right;\">\n      <th></th>\n      <th>Title</th>\n      <th>Price</th>\n      <th>Shipping_cost</th>\n      <th>Sales_Count</th>\n      <th>Sales_Value</th>\n      <th>Link</th>\n      <th>Last_Sale</th>\n    </tr>\n  </thead>\n  <tbody>\n    <tr>\n      <th>0</th>\n      <td>Nokia 3.1 C (TA1141) 32GB (Cricket) Smartphone...</td>\n      <td>31.59</td>\n      <td>5.00</td>\n      <td>34</td>\n      <td>1074.14</td>\n      <td>https://www.ebay.com/itm/275016352540?nordt=tr...</td>\n      <td>Jun 13, 2023</td>\n    </tr>\n    <tr>\n      <th>1</th>\n      <td>Nokia 6 Dual SIM 5.5\" 4GB RAM 16MP Wi-Fi GPS B...</td>\n      <td>103.50</td>\n      <td>0.00</td>\n      <td>4</td>\n      <td>414.00</td>\n      <td>https://www.ebay.com/itm/203145222261?nordt=tr...</td>\n      <td>Jun 13, 2023</td>\n    </tr>\n    <tr>\n      <th>2</th>\n      <td>NEW Nokia 8 V 5G UW TA1257 Verizon Unlocked LT...</td>\n      <td>161.24</td>\n      <td>0.00</td>\n      <td>8</td>\n      <td>1289.92</td>\n      <td>https://www.ebay.com/itm/295688872962?nordt=tr...</td>\n      <td>Jun 13, 2023</td>\n    </tr>\n    <tr>\n      <th>3</th>\n      <td>Original Nokia N8 N8-00 3G WIFI GPS 12MP Touch...</td>\n      <td>42.95</td>\n      <td>5.50</td>\n      <td>26</td>\n      <td>1116.79</td>\n      <td>https://www.ebay.com/itm/164928279178?nordt=tr...</td>\n      <td>Jun 13, 2023</td>\n    </tr>\n    <tr>\n      <th>4</th>\n      <td>Nokia G50 5G | Android 11| Unlocked Smartphone...</td>\n      <td>87.00</td>\n      <td>8.22</td>\n      <td>1</td>\n      <td>87.00</td>\n      <td>https://www.ebay.com/itm/145123725321?nordt=tr...</td>\n      <td>Jun 13, 2023</td>\n    </tr>\n  </tbody>\n</table>\n</div>"
     },
     "execution_count": 11,
     "metadata": {},
     "output_type": "execute_result"
    }
   ],
   "source": [
    "df_items.head()"
   ],
   "metadata": {
    "collapsed": false,
    "pycharm": {
     "name": "#%%\n"
    }
   }
  },
  {
   "cell_type": "code",
   "execution_count": 12,
   "outputs": [
    {
     "data": {
      "text/plain": "                                               Title   Price  Shipping_cost  \\\n0  Nokia 3.1 C (TA1141) 32GB (Cricket) Smartphone...   31.59           5.00   \n1  Nokia 6 Dual SIM 5.5\" 4GB RAM 16MP Wi-Fi GPS B...  103.50           0.00   \n2  NEW Nokia 8 V 5G UW TA1257 Verizon Unlocked LT...  161.24           0.00   \n3  Original Nokia N8 N8-00 3G WIFI GPS 12MP Touch...   42.95           5.50   \n4  Nokia G50 5G | Android 11| Unlocked Smartphone...   87.00           8.22   \n\n   Sales_Count  Sales_Value  \\\n0           34      1074.14   \n1            4       414.00   \n2            8      1289.92   \n3           26      1116.79   \n4            1        87.00   \n\n                                                Link     Last_Sale  brand  \n0  https://www.ebay.com/itm/275016352540?nordt=tr...  Jun 13, 2023  nokia  \n1  https://www.ebay.com/itm/203145222261?nordt=tr...  Jun 13, 2023  nokia  \n2  https://www.ebay.com/itm/295688872962?nordt=tr...  Jun 13, 2023  nokia  \n3  https://www.ebay.com/itm/164928279178?nordt=tr...  Jun 13, 2023  nokia  \n4  https://www.ebay.com/itm/145123725321?nordt=tr...  Jun 13, 2023  nokia  ",
      "text/html": "<div>\n<style scoped>\n    .dataframe tbody tr th:only-of-type {\n        vertical-align: middle;\n    }\n\n    .dataframe tbody tr th {\n        vertical-align: top;\n    }\n\n    .dataframe thead th {\n        text-align: right;\n    }\n</style>\n<table border=\"1\" class=\"dataframe\">\n  <thead>\n    <tr style=\"text-align: right;\">\n      <th></th>\n      <th>Title</th>\n      <th>Price</th>\n      <th>Shipping_cost</th>\n      <th>Sales_Count</th>\n      <th>Sales_Value</th>\n      <th>Link</th>\n      <th>Last_Sale</th>\n      <th>brand</th>\n    </tr>\n  </thead>\n  <tbody>\n    <tr>\n      <th>0</th>\n      <td>Nokia 3.1 C (TA1141) 32GB (Cricket) Smartphone...</td>\n      <td>31.59</td>\n      <td>5.00</td>\n      <td>34</td>\n      <td>1074.14</td>\n      <td>https://www.ebay.com/itm/275016352540?nordt=tr...</td>\n      <td>Jun 13, 2023</td>\n      <td>nokia</td>\n    </tr>\n    <tr>\n      <th>1</th>\n      <td>Nokia 6 Dual SIM 5.5\" 4GB RAM 16MP Wi-Fi GPS B...</td>\n      <td>103.50</td>\n      <td>0.00</td>\n      <td>4</td>\n      <td>414.00</td>\n      <td>https://www.ebay.com/itm/203145222261?nordt=tr...</td>\n      <td>Jun 13, 2023</td>\n      <td>nokia</td>\n    </tr>\n    <tr>\n      <th>2</th>\n      <td>NEW Nokia 8 V 5G UW TA1257 Verizon Unlocked LT...</td>\n      <td>161.24</td>\n      <td>0.00</td>\n      <td>8</td>\n      <td>1289.92</td>\n      <td>https://www.ebay.com/itm/295688872962?nordt=tr...</td>\n      <td>Jun 13, 2023</td>\n      <td>nokia</td>\n    </tr>\n    <tr>\n      <th>3</th>\n      <td>Original Nokia N8 N8-00 3G WIFI GPS 12MP Touch...</td>\n      <td>42.95</td>\n      <td>5.50</td>\n      <td>26</td>\n      <td>1116.79</td>\n      <td>https://www.ebay.com/itm/164928279178?nordt=tr...</td>\n      <td>Jun 13, 2023</td>\n      <td>nokia</td>\n    </tr>\n    <tr>\n      <th>4</th>\n      <td>Nokia G50 5G | Android 11| Unlocked Smartphone...</td>\n      <td>87.00</td>\n      <td>8.22</td>\n      <td>1</td>\n      <td>87.00</td>\n      <td>https://www.ebay.com/itm/145123725321?nordt=tr...</td>\n      <td>Jun 13, 2023</td>\n      <td>nokia</td>\n    </tr>\n  </tbody>\n</table>\n</div>"
     },
     "execution_count": 12,
     "metadata": {},
     "output_type": "execute_result"
    }
   ],
   "source": [
    "brands_list = ['Apple', 'Samsung', 'Huawei', 'Xiaomi', 'Oppo', 'OnePlus', 'Google', 'Motorola', 'Sony', 'LG', 'HTC', 'Nokia', 'BlackBerry', 'Lenovo', 'Asus', 'ZTE', 'Alcatel', 'Vivo', 'Realme', 'Honor']\n",
    "brands_regex = re.compile('('+ '|'.join(brands_list) + ')', flags=re.IGNORECASE)\n",
    "\n",
    "df_items['brand'] = df_items['Title'].str.extract(brands_regex)\n",
    "df_items['brand'] = df_items['brand'].apply(lambda x: x.lower() if type(x) == str else x)\n",
    "df_items.head()"
   ],
   "metadata": {
    "collapsed": false,
    "pycharm": {
     "name": "#%%\n"
    }
   }
  },
  {
   "cell_type": "code",
   "execution_count": 13,
   "outputs": [
    {
     "name": "stderr",
     "output_type": "stream",
     "text": [
      "C:\\Users\\druny\\AppData\\Local\\Temp\\ipykernel_29720\\2203233837.py:1: DtypeWarning: Columns (31,46,47,48,49,50,51,52,53,54,55,56,57,58,59,60,61,62,63,64,65,66,67,68,69,71,74,75,76,77,87,88,89,90,96,97,98,99,100,101,102,111,112,113,114,115,117,118,119,120,121,122,123,124,125,126,127,128,129,130,131,132,133,134,135,136,137,138,139,140,141,142,143,144,145,146,147,149,150,151,154,161,162,163,164,165,166,167,168,169,170,171,172,173,174,175,176,178,179,180,181,182,183,184,186,187,188,189,190,191,192,193,195,196,197,198,199,200) have mixed types. Specify dtype option on import or set low_memory=False.\n",
      "  characteristics_df = pd.read_csv(\"https://raw.githubusercontent.com/AleksKids/hedonistic-demand-from-ebay/main/Data%20Tables/Nokia/Nokia%20Characteristics.tsv\", delimiter = \"\\t\")\n"
     ]
    }
   ],
   "source": [
    "characteristics_df = pd.read_csv(\"https://raw.githubusercontent.com/AleksKids/hedonistic-demand-from-ebay/main/Data%20Tables/Nokia/Nokia%20Characteristics.tsv\", delimiter = \"\\t\")"
   ],
   "metadata": {
    "collapsed": false,
    "pycharm": {
     "name": "#%%\n"
    }
   }
  },
  {
   "cell_type": "code",
   "execution_count": 18,
   "outputs": [
    {
     "data": {
      "text/plain": "['Link',\n 'Condition',\n 'Processor',\n 'Screen Size',\n 'Color',\n 'Memory Card Type',\n 'Lock Status',\n 'SIM Card Slot',\n 'Brand',\n 'Network',\n 'Model',\n 'Connectivity',\n 'Style',\n 'Operating System',\n 'Features',\n 'Storage Capacity',\n 'Camera Resolution',\n 'RAM',\n 'Seller Notes',\n 'Contract',\n 'MPN']"
     },
     "execution_count": 18,
     "metadata": {},
     "output_type": "execute_result"
    }
   ],
   "source": [
    "cols = list(characteristics_df.count()[(characteristics_df.count()>(len(characteristics_df)*0.3))].index)\n",
    "cols"
   ],
   "metadata": {
    "collapsed": false,
    "pycharm": {
     "name": "#%%\n"
    }
   }
  },
  {
   "cell_type": "code",
   "execution_count": 22,
   "outputs": [],
   "source": [
    "characteristics_df = characteristics_df[cols]"
   ],
   "metadata": {
    "collapsed": false,
    "pycharm": {
     "name": "#%%\n"
    }
   }
  },
  {
   "cell_type": "code",
   "execution_count": 23,
   "outputs": [
    {
     "data": {
      "text/plain": "Link                    0\nCondition               9\nBrand                  30\nStorage Capacity      394\nModel                 425\nColor                 760\nNetwork              1068\nScreen Size          1658\nConnectivity         1751\nCamera Resolution    1816\nStyle                1838\nOperating System     1953\nLock Status          2114\nMPN                  2121\nSIM Card Slot        2268\nSeller Notes         2467\nFeatures             2481\nMemory Card Type     2610\nRAM                  2676\nContract             2701\nProcessor            2786\ndtype: int64"
     },
     "execution_count": 23,
     "metadata": {},
     "output_type": "execute_result"
    }
   ],
   "source": [
    "characteristics_df.isna().sum().sort_values()"
   ],
   "metadata": {
    "collapsed": false,
    "pycharm": {
     "name": "#%%\n"
    }
   }
  },
  {
   "cell_type": "code",
   "execution_count": 24,
   "outputs": [],
   "source": [
    "merged_df = df_items.merge(characteristics_df, on='Link', how='inner')"
   ],
   "metadata": {
    "collapsed": false,
    "pycharm": {
     "name": "#%%\n"
    }
   }
  },
  {
   "cell_type": "code",
   "execution_count": 25,
   "outputs": [
    {
     "name": "stderr",
     "output_type": "stream",
     "text": [
      "C:\\Users\\druny\\AppData\\Local\\Temp\\ipykernel_29720\\2412579994.py:1: SettingWithCopyWarning: \n",
      "A value is trying to be set on a copy of a slice from a DataFrame\n",
      "\n",
      "See the caveats in the documentation: https://pandas.pydata.org/pandas-docs/stable/user_guide/indexing.html#returning-a-view-versus-a-copy\n",
      "  merged_df[\"Brand\"][merged_df[\"Brand\"].isna()] = merged_df[\"brand\"].apply(lambda x: x.title() if type(x)==str else x)\n"
     ]
    }
   ],
   "source": [
    "merged_df[\"Brand\"][merged_df[\"Brand\"].isna()] = merged_df[\"brand\"].apply(lambda x: x.title() if type(x)==str else x)"
   ],
   "metadata": {
    "collapsed": false,
    "pycharm": {
     "name": "#%%\n"
    }
   }
  },
  {
   "cell_type": "code",
   "execution_count": 26,
   "outputs": [
    {
     "data": {
      "text/plain": "Title                4731\nPrice                4731\nShipping_cost        4731\nSales_Count          4731\nSales_Value          4731\nLink                 4731\nLast_Sale            4731\nbrand                4688\nCondition            4722\nProcessor            1945\nScreen Size          3073\nColor                3971\nMemory Card Type     2119\nLock Status          2617\nSIM Card Slot        2463\nBrand                4731\nNetwork              3663\nModel                4306\nConnectivity         2980\nStyle                2893\nOperating System     2778\nFeatures             2250\nStorage Capacity     4337\nCamera Resolution    2915\nRAM                  2055\nSeller Notes         2264\nContract             2030\nMPN                  2610\ndtype: int64"
     },
     "execution_count": 26,
     "metadata": {},
     "output_type": "execute_result"
    }
   ],
   "source": [
    "(~merged_df.isna()).sum()"
   ],
   "metadata": {
    "collapsed": false,
    "pycharm": {
     "name": "#%%\n"
    }
   }
  },
  {
   "cell_type": "code",
   "execution_count": 27,
   "outputs": [
    {
     "data": {
      "text/plain": "Title                Nokia 6300 4G Cell Phone - Cyan (Unlocked) (Du...\nPrice                                                            45.98\nShipping_cost                                                     11.1\nSales_Count                                                          1\nSales_Value                                                      45.98\nLink                 https://www.ebay.com/itm/125970652334?nordt=tr...\nLast_Sale                                                 Jun 10, 2023\nbrand                                                            nokia\nCondition            Open box: An item in excellent, new condition ...\nProcessor                                                          NaN\nScreen Size                                                     2.4 in\nColor                                                             Blue\nMemory Card Type                                             MicroSDHC\nLock Status                                                        NaN\nSIM Card Slot                       Dual SIM (SIM + SIM + Memory Card)\nBrand                                                            Nokia\nNetwork                                                       Unlocked\nModel                                                    Nokia 6300 4G\nConnectivity                           Bluetooth, 4G, Wi-Fi, Micro USB\nStyle                                                              Bar\nOperating System                                                 KaiOS\nFeatures                                         Internet Connectivity\nStorage Capacity                                                  4 GB\nCamera Resolution                                               0.3 MP\nRAM                                                             512 MB\nSeller Notes                                                       NaN\nContract                                                           NaN\nMPN                                                        16LIOB11A03\nName: 182, dtype: object"
     },
     "execution_count": 27,
     "metadata": {},
     "output_type": "execute_result"
    }
   ],
   "source": [
    "merged_df.iloc[182]"
   ],
   "metadata": {
    "collapsed": false,
    "pycharm": {
     "name": "#%%\n"
    }
   }
  },
  {
   "cell_type": "code",
   "execution_count": 28,
   "outputs": [],
   "source": [
    "merged_df.drop('brand', axis=1, inplace = True)"
   ],
   "metadata": {
    "collapsed": false,
    "pycharm": {
     "name": "#%%\n"
    }
   }
  },
  {
   "cell_type": "code",
   "execution_count": 31,
   "outputs": [],
   "source": [
    "merged_df.to_csv(\"Nokia Merged.tsv\", sep=\"\\t\")"
   ],
   "metadata": {
    "collapsed": false,
    "pycharm": {
     "name": "#%%\n"
    }
   }
  },
  {
   "cell_type": "code",
   "execution_count": 30,
   "outputs": [
    {
     "data": {
      "text/plain": "(4731, 27)"
     },
     "execution_count": 30,
     "metadata": {},
     "output_type": "execute_result"
    }
   ],
   "source": [
    "merged_df.shape"
   ],
   "metadata": {
    "collapsed": false,
    "pycharm": {
     "name": "#%%\n"
    }
   }
  },
  {
   "cell_type": "markdown",
   "source": [
    "## Вторичная предобработка полученных с eBay данных"
   ],
   "metadata": {
    "collapsed": false
   }
  },
  {
   "cell_type": "code",
   "execution_count": 90,
   "outputs": [],
   "source": [
    "df = pd.read_csv('https://raw.githubusercontent.com/AleksKids/hedonistic-demand-from-ebay/main/Preprocessing/Nokia/Nokia%20Merged.tsv', delimiter = '\\t')"
   ],
   "metadata": {
    "collapsed": false,
    "pycharm": {
     "name": "#%%\n"
    }
   }
  },
  {
   "cell_type": "code",
   "execution_count": 91,
   "outputs": [
    {
     "data": {
      "text/plain": "   Unnamed: 0                                              Title   Price  \\\n0           0  Nokia 3.1 C (TA1141) 32GB (Cricket) Smartphone...   31.59   \n1           1  Nokia 6 Dual SIM 5.5\" 4GB RAM 16MP Wi-Fi GPS B...  103.50   \n2           2  NEW Nokia 8 V 5G UW TA1257 Verizon Unlocked LT...  161.24   \n3           3  Original Nokia N8 N8-00 3G WIFI GPS 12MP Touch...   42.95   \n4           4  Nokia G50 5G | Android 11| Unlocked Smartphone...   87.00   \n\n   Shipping_cost  Sales_Count  Sales_Value  \\\n0           5.00           34      1074.14   \n1           0.00            4       414.00   \n2           0.00            8      1289.92   \n3           5.50           26      1116.79   \n4           8.22            1        87.00   \n\n                                                Link     Last_Sale  \\\n0  https://www.ebay.com/itm/275016352540?nordt=tr...  Jun 13, 2023   \n1  https://www.ebay.com/itm/203145222261?nordt=tr...  Jun 13, 2023   \n2  https://www.ebay.com/itm/295688872962?nordt=tr...  Jun 13, 2023   \n3  https://www.ebay.com/itm/164928279178?nordt=tr...  Jun 13, 2023   \n4  https://www.ebay.com/itm/145123725321?nordt=tr...  Jun 13, 2023   \n\n                                           Condition    Processor  ...  \\\n0  Used: An item that has been used previously. T...    Quad Core  ...   \n1                                           Open box    Dual Core  ...   \n2  New: A brand-new, unused, unopened, undamaged ...    Octa Core  ...   \n3                                               Used  Single Core  ...   \n4                                               Used    Octa Core  ...   \n\n                            Connectivity Style Operating System  \\\n0                         USB Type-C, 4G   Bar          Android   \n1                                     4G   Bar          Android   \n2                                     5G   Bar          Android   \n3                          3G, Bluetooth   NaN          Android   \n4  USB Type-C, 5G, Bluetooth, Wi-Fi, GPS   Bar          Android   \n\n                                            Features Storage Capacity  \\\n0                                      Fast Charging            32 GB   \n1                                         Email, Web            64 GB   \n2  Fingerprint Sensor, Front Camera, Quad Rear Ca...            64 GB   \n3                                  Bluetooth Enabled            16 GB   \n4  Proximity Sensor, E-compass, Gyro Sensor, Acce...           128 GB   \n\n         Camera Resolution     RAM  \\\n0                   8.0 MP    2 GB   \n1                   8.0 MP    4 GB   \n2                  12.0 MP    6 GB   \n3                  12.0 MP  512 MB   \n4  5.0 MP, 48.0 MP, 2.0 MP    4 GB   \n\n                                        Seller Notes          Contract  \\\n0                                                NaN               NaN   \n1  “The phone is in good condition. without earph...  Without Contract   \n2                                                NaN  Without Contract   \n3  “1 year warranty, refurbished to a flawless ne...  Without Contract   \n4                             “Excellent Condition.”               NaN   \n\n                      MPN  \n0                     NaN  \n1          Does Not Apply  \n2               NOKTA1257  \n3                     NaN  \n4  F16BYA1022007, TA-1390  \n\n[5 rows x 28 columns]",
      "text/html": "<div>\n<style scoped>\n    .dataframe tbody tr th:only-of-type {\n        vertical-align: middle;\n    }\n\n    .dataframe tbody tr th {\n        vertical-align: top;\n    }\n\n    .dataframe thead th {\n        text-align: right;\n    }\n</style>\n<table border=\"1\" class=\"dataframe\">\n  <thead>\n    <tr style=\"text-align: right;\">\n      <th></th>\n      <th>Unnamed: 0</th>\n      <th>Title</th>\n      <th>Price</th>\n      <th>Shipping_cost</th>\n      <th>Sales_Count</th>\n      <th>Sales_Value</th>\n      <th>Link</th>\n      <th>Last_Sale</th>\n      <th>Condition</th>\n      <th>Processor</th>\n      <th>...</th>\n      <th>Connectivity</th>\n      <th>Style</th>\n      <th>Operating System</th>\n      <th>Features</th>\n      <th>Storage Capacity</th>\n      <th>Camera Resolution</th>\n      <th>RAM</th>\n      <th>Seller Notes</th>\n      <th>Contract</th>\n      <th>MPN</th>\n    </tr>\n  </thead>\n  <tbody>\n    <tr>\n      <th>0</th>\n      <td>0</td>\n      <td>Nokia 3.1 C (TA1141) 32GB (Cricket) Smartphone...</td>\n      <td>31.59</td>\n      <td>5.00</td>\n      <td>34</td>\n      <td>1074.14</td>\n      <td>https://www.ebay.com/itm/275016352540?nordt=tr...</td>\n      <td>Jun 13, 2023</td>\n      <td>Used: An item that has been used previously. T...</td>\n      <td>Quad Core</td>\n      <td>...</td>\n      <td>USB Type-C, 4G</td>\n      <td>Bar</td>\n      <td>Android</td>\n      <td>Fast Charging</td>\n      <td>32 GB</td>\n      <td>8.0 MP</td>\n      <td>2 GB</td>\n      <td>NaN</td>\n      <td>NaN</td>\n      <td>NaN</td>\n    </tr>\n    <tr>\n      <th>1</th>\n      <td>1</td>\n      <td>Nokia 6 Dual SIM 5.5\" 4GB RAM 16MP Wi-Fi GPS B...</td>\n      <td>103.50</td>\n      <td>0.00</td>\n      <td>4</td>\n      <td>414.00</td>\n      <td>https://www.ebay.com/itm/203145222261?nordt=tr...</td>\n      <td>Jun 13, 2023</td>\n      <td>Open box</td>\n      <td>Dual Core</td>\n      <td>...</td>\n      <td>4G</td>\n      <td>Bar</td>\n      <td>Android</td>\n      <td>Email, Web</td>\n      <td>64 GB</td>\n      <td>8.0 MP</td>\n      <td>4 GB</td>\n      <td>“The phone is in good condition. without earph...</td>\n      <td>Without Contract</td>\n      <td>Does Not Apply</td>\n    </tr>\n    <tr>\n      <th>2</th>\n      <td>2</td>\n      <td>NEW Nokia 8 V 5G UW TA1257 Verizon Unlocked LT...</td>\n      <td>161.24</td>\n      <td>0.00</td>\n      <td>8</td>\n      <td>1289.92</td>\n      <td>https://www.ebay.com/itm/295688872962?nordt=tr...</td>\n      <td>Jun 13, 2023</td>\n      <td>New: A brand-new, unused, unopened, undamaged ...</td>\n      <td>Octa Core</td>\n      <td>...</td>\n      <td>5G</td>\n      <td>Bar</td>\n      <td>Android</td>\n      <td>Fingerprint Sensor, Front Camera, Quad Rear Ca...</td>\n      <td>64 GB</td>\n      <td>12.0 MP</td>\n      <td>6 GB</td>\n      <td>NaN</td>\n      <td>Without Contract</td>\n      <td>NOKTA1257</td>\n    </tr>\n    <tr>\n      <th>3</th>\n      <td>3</td>\n      <td>Original Nokia N8 N8-00 3G WIFI GPS 12MP Touch...</td>\n      <td>42.95</td>\n      <td>5.50</td>\n      <td>26</td>\n      <td>1116.79</td>\n      <td>https://www.ebay.com/itm/164928279178?nordt=tr...</td>\n      <td>Jun 13, 2023</td>\n      <td>Used</td>\n      <td>Single Core</td>\n      <td>...</td>\n      <td>3G, Bluetooth</td>\n      <td>NaN</td>\n      <td>Android</td>\n      <td>Bluetooth Enabled</td>\n      <td>16 GB</td>\n      <td>12.0 MP</td>\n      <td>512 MB</td>\n      <td>“1 year warranty, refurbished to a flawless ne...</td>\n      <td>Without Contract</td>\n      <td>NaN</td>\n    </tr>\n    <tr>\n      <th>4</th>\n      <td>4</td>\n      <td>Nokia G50 5G | Android 11| Unlocked Smartphone...</td>\n      <td>87.00</td>\n      <td>8.22</td>\n      <td>1</td>\n      <td>87.00</td>\n      <td>https://www.ebay.com/itm/145123725321?nordt=tr...</td>\n      <td>Jun 13, 2023</td>\n      <td>Used</td>\n      <td>Octa Core</td>\n      <td>...</td>\n      <td>USB Type-C, 5G, Bluetooth, Wi-Fi, GPS</td>\n      <td>Bar</td>\n      <td>Android</td>\n      <td>Proximity Sensor, E-compass, Gyro Sensor, Acce...</td>\n      <td>128 GB</td>\n      <td>5.0 MP, 48.0 MP, 2.0 MP</td>\n      <td>4 GB</td>\n      <td>“Excellent Condition.”</td>\n      <td>NaN</td>\n      <td>F16BYA1022007, TA-1390</td>\n    </tr>\n  </tbody>\n</table>\n<p>5 rows × 28 columns</p>\n</div>"
     },
     "execution_count": 91,
     "metadata": {},
     "output_type": "execute_result"
    }
   ],
   "source": [
    "df.head()"
   ],
   "metadata": {
    "collapsed": false,
    "pycharm": {
     "name": "#%%\n"
    }
   }
  },
  {
   "cell_type": "code",
   "execution_count": 92,
   "outputs": [
    {
     "data": {
      "text/plain": "Index(['Unnamed: 0', 'Title', 'Price', 'Shipping_cost', 'Sales_Count',\n       'Sales_Value', 'Link', 'Last_Sale', 'Condition', 'Processor',\n       'Screen Size', 'Color', 'Memory Card Type', 'Lock Status',\n       'SIM Card Slot', 'Brand', 'Network', 'Model', 'Connectivity', 'Style',\n       'Operating System', 'Features', 'Storage Capacity', 'Camera Resolution',\n       'RAM', 'Seller Notes', 'Contract', 'MPN'],\n      dtype='object')"
     },
     "execution_count": 92,
     "metadata": {},
     "output_type": "execute_result"
    }
   ],
   "source": [
    "df.columns"
   ],
   "metadata": {
    "collapsed": false,
    "pycharm": {
     "name": "#%%\n"
    }
   }
  },
  {
   "cell_type": "code",
   "execution_count": 93,
   "outputs": [],
   "source": [
    "df.drop(columns = 'Unnamed: 0', inplace = True)"
   ],
   "metadata": {
    "collapsed": false,
    "pycharm": {
     "name": "#%%\n"
    }
   }
  },
  {
   "cell_type": "code",
   "execution_count": 94,
   "outputs": [
    {
     "data": {
      "text/plain": "<Axes: >"
     },
     "execution_count": 94,
     "metadata": {},
     "output_type": "execute_result"
    },
    {
     "data": {
      "text/plain": "<Figure size 640x480 with 1 Axes>",
      "image/png": "[encoded data removed]"
     },
     "metadata": {},
     "output_type": "display_data"
    }
   ],
   "source": [
    "import seaborn as sns\n",
    "sns.boxplot(df.Price)"
   ],
   "metadata": {
    "collapsed": false,
    "pycharm": {
     "name": "#%%\n"
    }
   }
  },
  {
   "cell_type": "markdown",
   "source": [
    "## Ищем и убираем мусор."
   ],
   "metadata": {
    "collapsed": false
   }
  },
  {
   "cell_type": "code",
   "execution_count": 95,
   "outputs": [
    {
     "data": {
      "text/plain": "                                                  Title    Price  \\\n42    Nokia X30 𝟱𝗚 𝑫𝒖𝒂𝒍 𝑺𝑰𝑴 TA-1450 Blue 8+256GB 📡𝐆𝐒...   463.99   \n93    Nokia N-Gage Game Deck (Unlocked) Smartphone (...   599.00   \n257   Nokia X30 TA-1450 256GB 8GB RAM Dual Sim (FACT...   495.99   \n520   LOT OF 13 PARTS DEVICES STORE DEMOS PARTS APPL...   449.99   \n843   Nokia XR20 5G 6.67\" 128GB /6GB RAM 48MP IP68 M...   439.82   \n857   Nokia X30 TA-1450 DS 256GB 8GB 5G Dual SIM (Gl...   449.99   \n1165  Nokia 8 Sirocco  128GB New 5,5\" 6GB RAM  SS 32...   350.00   \n1332  NOKIA 8.3 5G 6/64gb 8/128gb Octa-Core 6.81\" Fi...   424.99   \n1366  Lot of 120 Untested Nokia Nokia 225 | GSM Unlo...   660.00   \n1553  NOKIA  8800 ASTON MARTIN  Rare Limited Good Co...   430.00   \n2015  Nokia N91 RETRO BRAND NEW  MADE IN FINLAND Ver...   369.00   \n2395  Nokia ion Mini White Cellphone Prototype 2013 ...  1100.00   \n2424      Nokia N-Gage QD - Black (T-Mobile) Smartphone   350.00   \n2524  New Sealed Nokia 9 Pureview 128GB TA-1082 LTE ...   531.04   \n2535  Nokia X30 5G Blue 128GB ROM + 6GB RAM Dual-SIM...   625.00   \n2560  NOKIA 9 PUREVIEW TA-1082/A-1087 6gb 128gb Five...   466.49   \n2642  Nokia X10 Dual SIM 6.67\" 128GB 6GB RAM 48MP Sn...   358.69   \n2645  Original Nokia X30 5G 256GB ROM+8GB RAM Factor...   499.49   \n2713  Sony WT23I BLUE+Nokia X5-00+RM806+Nokia 6316s+...  1150.00   \n2765  BRAND NEW - Nokia XR20 5G 6.67\" Full HD 128GB ...   375.00   \n2945  Nokia G60 5G 6.58\"IPS 128GB /6GB RAM 50MP Snap...   366.39   \n3095  (Lot of 170) Apple, Samsung, Nokia, Cell Phone...   499.95   \n3141  *NEW* ORIGINAL NOKIA 8800 STAINLESS STEEL ***N...   405.00   \n3282  Nokia 8800 Sirocco Gold 18K Sayn Design  Origi...   510.00   \n3336  Nokia X20, 128 GB, Dual SIM , 6 GB RAM, 5G, No...   429.25   \n3499  Nokia 8800 Arte Gold - Brown (Unlocked) 4GB Ge...   595.00   \n3504  Nokia 8800 ARTE CARBON Original Device GSM Fac...   410.00   \n3541  Nokia 8800  Arte Black 1GB Genuine Made in Kor...   360.00   \n3693  Nokia G60 5G, Dual SIM, 128 GB + 6 GB RAM, 6.5...   375.88   \n3710  Nokia N Series N93i -Smartphone MADE IN FINLAN...   499.00   \n3778  Nokia X30 5G DualSIM 6.43\"AMOLED 8/256GB 50MP ...   516.96   \n3796                  Original Nokia 8800 Sapphire Arte  1175.00   \n3876  (Lot of 25) NOKIA C100 Cell Phones for Straigh...   579.99   \n3939  Nokia 8800 ARTE CARBON Original Device GSM Fac...   469.00   \n4065  Nokia XR20 TA-1362 128GB 6GB RAM Dual Sim (FAC...   439.99   \n4074  Unlocked Authentic Original Nokia 8800 Gold Ar...  1789.95   \n4149  Nokia XR20 TA-1368 128GB 6GB RAM Dual Sim (FAC...   439.99   \n4287  LOT OF 39 Nokia A-1295 Flip Phones With Kai OS...   450.00   \n4342  LOT OF 18 TRAC PHONES, 2 APPLE, 3 NOKIA SEE DE...   660.00   \n4347  Nokia 8800 Arte - Gold (Unlocked) Noblesse Swi...  2100.00   \n4420  Nokia 8800 Arte - Gold (Unlocked) Cartier Limi...  1200.00   \n4504  Nokia Prototype 1706+N93i+cdma Proto,  Origina...   550.00   \n4572  Nokia Prototype Microsoft RX-100 Dogphone Orig...   600.00   \n4599  BlackBerry Porsche Design P9981 24k GOLD EDITI...   924.00   \n4621  Nokia 808 PureView 16GB (Unlocked) Smartphone ...   500.00   \n4721  Fairphone 3+ Factory Unlocked Dual Sim 64GB + ...   606.14   \n4725  🆕 Nokia X20 𝟱𝗚 𝑫𝒖𝒂𝒍 𝑺𝑰𝑴 TA-1341 Midnight Sun 8...   351.99   \n4726  Original Nokia G60 128GB ROM + 6GB RAM Factory...   362.99   \n\n      Shipping_cost  Sales_Count  Sales_Value  \\\n42             0.00            1       463.99   \n93             0.00            1       599.00   \n257           27.82           16      7935.84   \n520            0.00            1       449.99   \n843           42.00            1       439.82   \n857            0.00            1       449.99   \n1165           0.00            1       350.00   \n1332           0.00            1       424.99   \n1366          38.13            1       660.00   \n1553          23.00            1       430.00   \n2015           0.00            1       369.00   \n2395          14.50            1      1100.00   \n2424          15.00            1       350.00   \n2524           0.00            1       531.04   \n2535           0.00            1       625.00   \n2560          49.99           17      7930.33   \n2642          42.00            4      1434.77   \n2645           0.00            2       998.98   \n2713          35.00            1      1150.00   \n2765           0.00            1       375.00   \n2945          42.00            7      2564.71   \n3095          25.00            1       499.95   \n3141           9.00            1       405.00   \n3282          22.00            1       510.00   \n3336          16.50            1       429.25   \n3499          20.00            1       595.00   \n3504          22.00            1       410.00   \n3541          20.00            1       360.00   \n3693          16.50            2       751.75   \n3710           0.00            1       499.00   \n3778          42.00            3      1550.87   \n3796          25.00            1      1175.00   \n3876           0.00            1       579.99   \n3939          12.00            1       469.00   \n4065          19.99            1       439.99   \n4074           0.00            1      1789.95   \n4149           0.00            1       439.99   \n4287           0.00            1       450.00   \n4342           0.00            1       660.00   \n4347          60.00            1      2100.00   \n4420          60.00            1      1200.00   \n4504          35.00            1       550.00   \n4572          35.00            1       600.00   \n4599           0.00            2      1848.00   \n4621          89.00            1       500.00   \n4721          23.00           14      8486.00   \n4725           0.00            1       351.99   \n4726           0.00            6      2177.94   \n\n                                                   Link     Last_Sale  \\\n42    https://www.ebay.com/itm/225533311171?nordt=tr...  Jun 12, 2023   \n93    https://www.ebay.com/itm/225093413880?nordt=tr...  Jun 12, 2023   \n257   https://www.ebay.com/itm/225238522190?nordt=tr...   Jun 9, 2023   \n520   https://www.ebay.com/itm/125964687630?nordt=tr...   Jun 5, 2023   \n843   https://www.ebay.com/itm/224652995068?nordt=tr...  May 31, 2023   \n857   https://www.ebay.com/itm/166127120729?nordt=tr...  May 30, 2023   \n1165  https://www.ebay.com/itm/225331262774?nordt=tr...  May 25, 2023   \n1332  https://www.ebay.com/itm/285251542690?nordt=tr...  May 22, 2023   \n1366  https://www.ebay.com/itm/354790195962?nordt=tr...  May 21, 2023   \n1553  https://www.ebay.com/itm/394459205786?nordt=tr...  May 17, 2023   \n2015  https://www.ebay.com/itm/225339497299?nordt=tr...   May 8, 2023   \n2395  https://www.ebay.com/itm/325637698988?nordt=tr...   May 1, 2023   \n2424  https://www.ebay.com/itm/394532436423?nordt=tr...  Apr 30, 2023   \n2524  https://www.ebay.com/itm/175245876884?nordt=tr...  Apr 28, 2023   \n2535  https://www.ebay.com/itm/125524509957?nordt=tr...  Apr 28, 2023   \n2560  https://www.ebay.com/itm/353648586167?nordt=tr...  Apr 28, 2023   \n2642  https://www.ebay.com/itm/224492441143?nordt=tr...  Apr 26, 2023   \n2645  https://www.ebay.com/itm/204160780323?nordt=tr...  Apr 26, 2023   \n2713  https://www.ebay.com/itm/295656698341?nordt=tr...  Apr 25, 2023   \n2765  https://www.ebay.com/itm/166032833426?nordt=tr...  Apr 24, 2023   \n2945  https://www.ebay.com/itm/225203732074?nordt=tr...  Apr 19, 2023   \n3095  https://www.ebay.com/itm/354721856992?nordt=tr...  Apr 16, 2023   \n3141  https://www.ebay.com/itm/155489728611?nordt=tr...  Apr 15, 2023   \n3282  https://www.ebay.com/itm/385532610016?nordt=tr...  Apr 12, 2023   \n3336  https://www.ebay.com/itm/144461273127?nordt=tr...  Apr 11, 2023   \n3499  https://www.ebay.com/itm/374602671502?nordt=tr...   Apr 8, 2023   \n3504  https://www.ebay.com/itm/385521951508?nordt=tr...   Apr 8, 2023   \n3541  https://www.ebay.com/itm/374604868717?nordt=tr...   Apr 7, 2023   \n3693  https://www.ebay.com/itm/144765532460?nordt=tr...   Apr 4, 2023   \n3710  https://www.ebay.com/itm/225391935076?nordt=tr...   Apr 3, 2023   \n3778  https://www.ebay.com/itm/175467635773?nordt=tr...   Apr 2, 2023   \n3796  https://www.ebay.com/itm/175599320995?nordt=tr...   Apr 1, 2023   \n3876  https://www.ebay.com/itm/334675380480?nordt=tr...  Mar 31, 2023   \n3939  https://www.ebay.com/itm/385502471572?nordt=tr...  Mar 30, 2023   \n4065  https://www.ebay.com/itm/225497986239?nordt=tr...  Mar 27, 2023   \n4074  https://www.ebay.com/itm/265943253685?nordt=tr...  Mar 27, 2023   \n4149  https://www.ebay.com/itm/195645849546?nordt=tr...  Mar 26, 2023   \n4287  https://www.ebay.com/itm/295530726008?nordt=tr...  Mar 23, 2023   \n4342  https://www.ebay.com/itm/256011389066?nordt=tr...  Mar 22, 2023   \n4347  https://www.ebay.com/itm/394525654604?nordt=tr...  Mar 22, 2023   \n4420  https://www.ebay.com/itm/394523913982?nordt=tr...  Mar 21, 2023   \n4504  https://www.ebay.com/itm/295574748982?nordt=tr...  Mar 19, 2023   \n4572  https://www.ebay.com/itm/295572507768?nordt=tr...  Mar 18, 2023   \n4599  https://www.ebay.com/itm/354059464749?nordt=tr...  Mar 17, 2023   \n4621  https://www.ebay.com/itm/115571350340?nordt=tr...  Mar 17, 2023   \n4721  https://www.ebay.com/itm/294184963725?nordt=tr...  Mar 11, 2023   \n4725  https://www.ebay.com/itm/225452405101?nordt=tr...  Mar 11, 2023   \n4726  https://www.ebay.com/itm/195445851265?nordt=tr...  Mar 11, 2023   \n\n                                              Condition          Processor  \\\n42    New: A brand-new, unused, unopened, undamaged ...                NaN   \n93    Open box: An item in excellent, new condition ...                NaN   \n257   New: A brand-new, unused, unopened, undamaged ...     Snapdragon 695   \n520                            For parts or not working                NaN   \n843   New: A brand-new, unused, unopened, undamaged ...     Snapdragon 480   \n857                                            Open box          Octa Core   \n1165                                           Open box                NaN   \n1332  New: A brand-new, unused, unopened, undamaged ...          Octa Core   \n1366                           For parts or not working                NaN   \n1553  Used: An item that has been used previously. T...                NaN   \n2015                                           Open box                NaN   \n2395  For parts or not working: An item that does no...                NaN   \n2424  New: A brand-new, unused, unopened, undamaged ...                NaN   \n2524  New: A brand-new, unused, unopened, undamaged ...          Octa Core   \n2535  New: A brand-new, unused, unopened, undamaged ...          Octa Core   \n2560  New: A brand-new, unused, unopened, undamaged ...          Octa Core   \n2642  New: A brand-new, unused, unopened, undamaged ...     Snapdragon 480   \n2645  New: A brand-new, unused, unopened, undamaged ...                NaN   \n2713                                               Used                NaN   \n2765  New: A brand-new, unused, unopened, undamaged ...          Octa Core   \n2945  New: A brand-new, unused, unopened, undamaged ...  Snapdragon 695 5G   \n3095                           For parts or not working                NaN   \n3141  New: A brand-new, unused, unopened, undamaged ...                NaN   \n3282                                               Used                NaN   \n3336  New: A brand-new, unused, unopened, undamaged ...          Octa Core   \n3499                                               Used        Single Core   \n3504                                               Used                NaN   \n3541                                               Used                NaN   \n3693  New: A brand-new, unused, unopened, undamaged ...          Dual Core   \n3710                                           Open box                NaN   \n3778  New: A brand-new, unused, unopened, undamaged ...          Octa Core   \n3796  Used: An item that has been used previously. T...                NaN   \n3876  New: A brand-new, unused, unopened, undamaged ...                NaN   \n3939                                               Used                NaN   \n4065  New: A brand-new, unused, unopened, undamaged ...     Snapdragon 480   \n4074  New: A brand-new, unused, unopened, undamaged ...                NaN   \n4149  New: A brand-new, unused, unopened, undamaged ...     Snapdragon 480   \n4287                                               Used          Qual Comm   \n4342                           For parts or not working                NaN   \n4347                                               Used                NaN   \n4420                                               Used                NaN   \n4504                                               Used                NaN   \n4572                                               Used                NaN   \n4599  Used: An item that has been used previously. T...                NaN   \n4621                                               Used        Single Core   \n4721  New: A brand-new, unused, unopened, undamaged ...          Octa Core   \n4725  New: A brand-new, unused, unopened, undamaged ...                NaN   \n4726  New: A brand-new, unused, unopened, undamaged ...                NaN   \n\n     Screen Size  ...                                       Connectivity  \\\n42           NaN  ...                                                NaN   \n93           NaN  ...                                                NaN   \n257       6.43 \"  ...                                                NaN   \n520          NaN  ...                                                NaN   \n843       6.67in  ...                                                 5G   \n857       6.4 in  ...  USB Type-C, 5G, Bluetooth, 4G, 3G, Wi-Fi, 2G, ...   \n1165      5.5 in  ...                                                NaN   \n1332       6.81\"  ...                                     2G, 3G, 4G, 5G   \n1366      2.4 in  ...                           Bluetooth, 4G, Micro USB   \n1553      1.7 in  ...                                          Micro USB   \n2015      2.1 in  ...                                                NaN   \n2395         NaN  ...                                          Micro USB   \n2424      2.1 in  ...                                                NaN   \n2524        6 in  ...                                            4G, LTE   \n2535     6.43 in  ...                                2G, 3G, 4G, 5G, LTE   \n2560     5.99 in  ...                         2G, 3G, 4G, Bluetooth, GPS   \n2642      6.67in  ...                                                NaN   \n2645   6.43 inch  ...                                                 5G   \n2713         NaN  ...                                                NaN   \n2765     6.67 in  ...         USB Type-C, 5G, Bluetooth, Wi-Fi, NFC, GPS   \n2945       6.58\"  ...                                                 5G   \n3095         NaN  ...                                                NaN   \n3141         NaN  ...                                                NaN   \n3282         NaN  ...                                                NaN   \n3336       6.67″  ...                                                 5G   \n3499        2 in  ...                                          Micro USB   \n3504         NaN  ...                                                NaN   \n3541        2 in  ...                       Bluetooth, 3G, 2G, Micro USB   \n3693        6.59  ...                                                 5G   \n3710         NaN  ...                                          Micro USB   \n3778      5.7 in  ...                                                LTE   \n3796         NaN  ...                                                NaN   \n3876         NaN  ...                                                NaN   \n3939         NaN  ...                                                NaN   \n4065       6.67\"  ...                                                NaN   \n4074        2 in  ...                                          Micro USB   \n4149       6.67\"  ...                                                NaN   \n4287      2.8 in  ...                                                 4G   \n4342         NaN  ...                                                NaN   \n4347        2 in  ...                                          Bluetooth   \n4420        2 in  ...                                          Bluetooth   \n4504         NaN  ...                                                NaN   \n4572         NaN  ...                                                NaN   \n4599         NaN  ...                                                NaN   \n4621        4 in  ...        2G, 3G, 4G, Bluetooth, Dual-Band, GPRS, GPS   \n4721     5.65 in  ...                                            4G, LTE   \n4725         NaN  ...                                                NaN   \n4726      6.58in  ...                                         USB Type-C   \n\n            Style Operating System  \\\n42            NaN              NaN   \n93            NaN              NaN   \n257           NaN          Android   \n520           NaN              NaN   \n843           NaN          Android   \n857           NaN          Android   \n1165          NaN              NaN   \n1332          Bar       Android 12   \n1366          Bar              NaN   \n1553       Slider              NaN   \n2015          NaN              NaN   \n2395          NaN              NaN   \n2424          Bar              NaN   \n2524          NaN          Android   \n2535  Touchscreen          Android   \n2560          Bar      Android One   \n2642          NaN          Android   \n2645          NaN      Android™ 12   \n2713          NaN              NaN   \n2765          Bar          Android   \n2945          NaN          Android   \n3095          NaN          Android   \n3141          NaN              NaN   \n3282          NaN          Symbian   \n3336          NaN          Nokia X   \n3499       Slider              NaN   \n3504          NaN          Symbian   \n3541       Slider        Nokia S40   \n3693          NaN          Android   \n3710          NaN              NaN   \n3778          NaN          Android   \n3796          NaN              NaN   \n3876          NaN          Android   \n3939          NaN          Symbian   \n4065          NaN          Android   \n4074       Slider              NaN   \n4149          NaN          Android   \n4287         Flip            KaiOS   \n4342          NaN              NaN   \n4347       Slider              NaN   \n4420       Slider              NaN   \n4504          NaN          unknown   \n4572          NaN          unknown   \n4599          NaN              NaN   \n4621          Bar          Symbian   \n4721  Touchscreen          Android   \n4725          NaN              NaN   \n4726        Slate          Android   \n\n                                               Features  \\\n42                                                  NaN   \n93                                                  NaN   \n257                                                 NaN   \n520                                                 NaN   \n843                                            Dual SIM   \n857   AMOLED Display, NFC Connectivity, Wi-Fi Capabl...   \n1165                                                NaN   \n1332  Bluetooth Enabled, Fingerprint Sensor, Battery...   \n1366                                                NaN   \n1553                                                NaN   \n2015                                                NaN   \n2395          prototype, Nokia, Unique, Collectors item   \n2424                                                NaN   \n2524                                                NaN   \n2535                                           Sim Free   \n2560  Battery 3320mAh, Five Back Cameras, Accelerome...   \n2642                                           Dual SIM   \n2645  6.43” FHD+ AMOLED PureDisplay with 90 Hz refre...   \n2713                                                NaN   \n2765  Proximity Sensor, Accelerometer, Ambient Light...   \n2945                                                NaN   \n3095                                                NaN   \n3141                                                NaN   \n3282                                                NaN   \n3336                                    3D Depth Camera   \n3499                                                NaN   \n3504                                                NaN   \n3541                                                NaN   \n3693                        Active Edge, AMOLED Display   \n3710                                                NaN   \n3778                                                NaN   \n3796                                                NaN   \n3876                                                NaN   \n3939                                                NaN   \n4065                                                NaN   \n4074                                                NaN   \n4149                                                NaN   \n4287                    Bluetooth Enabled, Color Screen   \n4342                                                NaN   \n4347  Bluetooth Enabled, Speakerphone, Camera, Music...   \n4420  Bluetooth Enabled, Speakerphone, Camera, Music...   \n4504                                                NaN   \n4572                                                NaN   \n4599                                                NaN   \n4621        Accelerometer, Ambient Light Sensor, Camera   \n4721                                           Sim Free   \n4725                                                NaN   \n4726  Snapdragon® 695 5G mobile platform, 50 MP AI t...   \n\n             Storage Capacity          Camera Resolution      RAM  \\\n42                        NaN                        NaN      NaN   \n93                     3.4 MB                        NaN      NaN   \n257                    256 GB             50.0 Megapixel     8 GB   \n520                     32 GB                        NaN      NaN   \n843                    128 GB                    48.0 MP     6 GB   \n857                    256 GB  50.0 MP, 13.0 MP, 16.0 MP     8 GB   \n1165                   128 GB                    12.0 MP     6 GB   \n1332                      NaN                    64.0 MP      NaN   \n1366                   128 MB                     0.3 MP    64 MB   \n1553                    64 MB                        NaN      NaN   \n2015                   128 MB                        2.0    64 MB   \n2395                  Unknown                        NaN      NaN   \n2424                   3.4 MB                        NaN      NaN   \n2524                   128 GB                    12.0 MP     6 GB   \n2535                   128 GB                      50 MP     6 GB   \n2560                   128 GB                    12.0 MP     6 GB   \n2642                   128 GB                    48.0 MP      6GB   \n2645                   256 GB                        NaN     8 GB   \n2713                      NaN                        NaN      NaN   \n2765                   128 GB                    48.0 MP     6 GB   \n2945                   128 GB             50.0 Megapixel     6 GB   \n3095                      NaN                        NaN      NaN   \n3141                    64 MB                        NaN      NaN   \n3282                     4 GB                        NaN      NaN   \n3336                   128 GB                    64.0 MP     6 GB   \n3499                      4gb                     3.0 MP      NaN   \n3504                     4 GB                        NaN      NaN   \n3541                     1 GB                     3.2 MP      NaN   \n3693                   128 GB             50.0 Megapixel     6 GB   \n3710                    50 MB                        NaN      NaN   \n3778                   256 GB             50.0 Megapixel    6.43\"   \n3796                     1 GB                        NaN      NaN   \n3876                     32gb                        NaN      NaN   \n3939                     4 GB                        NaN      NaN   \n4065                   128 GB                    48.0 MP     6 GB   \n4074                     4 GB                     3.2 MP      NaN   \n4149                   128 GB                    48.0 MP     6 GB   \n4287                     4 GB                     2.0 MP  2.32 GB   \n4342                      NaN                        NaN      NaN   \n4347                     1 GB                     3.0 MP      NaN   \n4420                     1 GB                     3.0 MP      NaN   \n4504                      NaN                        NaN      NaN   \n4572                      NaN                        NaN     1 GB   \n4599                     8 GB                        NaN      NaN   \n4621                    16 GB                     41.0MP      NaN   \n4721                    64 GB                    48.0 MP     4 GB   \n4725                      NaN                        NaN      NaN   \n4726  Internal storage:128 GB                        NaN     6 GB   \n\n                                           Seller Notes          Contract  \\\n42                                                  NaN               NaN   \n93                                                  NaN               NaN   \n257                                                 NaN               NaN   \n520       “FOR PARTS ONLY SOLD AS NON WORKING DEVICES!”               NaN   \n843                                                 NaN  Without Contract   \n857                          “New, Open Box Condition.”  Without Contract   \n1165  ““New and unused just without the box. Deliver...               NaN   \n1332                                                NaN  Without Contract   \n1366  “These Phones Are Warranty Returns From A Majo...               NaN   \n1553                                                NaN               NaN   \n2015  ““New and unused  without the box and charger....     With Contract   \n2395                                                NaN               NaN   \n2424                                                NaN               NaN   \n2524                                                NaN  Without Contract   \n2535                                                NaN  Without Contract   \n2560                                                NaN  Without Contract   \n2642                                                NaN  Without Contract   \n2645                                                NaN  Without Contract   \n2713            “5 phones in one bundle.Only for qfasi”  Without Contract   \n2765                                                NaN  Without Contract   \n2945                                                NaN  Without Contract   \n3095  “Samsung, Nokia and Apple - Assorted - Unteste...               NaN   \n3141                                                NaN               NaN   \n3282                                        “Excellent”               NaN   \n3336                                                NaN     With Contract   \n3499    “Fully working.Cosmetic i would rate as 7.5/10”               NaN   \n3504                                        “Excellent”               NaN   \n3541  “Phone has signs of normal use, i would rate i...  Without Contract   \n3693                                                NaN  Without Contract   \n3710  ““New and unused without the box and charger. ...  Without Contract   \n3778                                                NaN               NaN   \n3796                                                NaN               NaN   \n3876                                                NaN               NaN   \n3939                                        “Excellent”               NaN   \n4065                                                NaN               NaN   \n4074                                                NaN               NaN   \n4149                                                NaN               NaN   \n4287  “LOT OF 39 Nokia A-1295 flip phones in used FA...  Without Contract   \n4342  “Lot of 18 Prepaid Tracfone, 2 iPhone prepaid,...               NaN   \n4347                              “excellent condition”  Without Contract   \n4420                                “perfect condition”  Without Contract   \n4504  “A rare prototype with NORMAL condition.Have s...  Without Contract   \n4572  “An extreme rare prototype with normal conditi...  Without Contract   \n4599                                                NaN               NaN   \n4621  “A+ condition, complete with accessories in th...  Without Contract   \n4721                                                NaN  Without Contract   \n4725                                                NaN               NaN   \n4726                                                NaN  Without Contract   \n\n                                                    MPN  \n42                                              TA-1450  \n93                                         76854, 76858  \n257                                                 NaN  \n520                                                 NaN  \n843                                      Does Not Apply  \n857                                             TA-1450  \n1165                                                NaN  \n1332                                                NaN  \n1366                                             TA1282  \n1553  NOKIA8800SAPPHIREARTE, 11052, 11051, 641718203...  \n2015                                                NaN  \n2395                                                NaN  \n2424  N-GAGE QD, NOKQDTMO, N-GAGEQDTMO, 1205, NGAGE ...  \n2524                                                NaN  \n2535                                     Does Not Apply  \n2560                                                NaN  \n2642                                     Does Not Apply  \n2645                                            TA-1450  \n2713                                     Does Not Apply  \n2765                                     VMA750Y9FI1CN0  \n2945                                     Does Not Apply  \n3095                                                NaN  \n3141                                                NaN  \n3282                                                NaN  \n3336                                       101QKSLVH040  \n3499                                                NaN  \n3504                                                NaN  \n3541         11052, 11051, 8800, 2383, 8800ARTESAPHIRRE  \n3693                                          Nokia G60  \n3710                             NOKIAN93IUNLOCKEDBLACK  \n3778                                     Does Not Apply  \n3796                                                NaN  \n3876                                                NaN  \n3939                                                NaN  \n4065                                                NaN  \n4074  11052, 11051, NOKIA8800SAPPHIREARTE, NOKIA8800...  \n4149                                                NaN  \n4287                                             A-1295  \n4342                                                NaN  \n4347                                                NaN  \n4420                                                NaN  \n4504                                     Does Not Apply  \n4572                                     Does Not Apply  \n4599   Porsche,Nokia 8800 Arte Gold,Vertu,Motorola Aura  \n4621                                             RM-807  \n4721                                                NaN  \n4725                                            TA-1341  \n4726                                            TA-1479  \n\n[48 rows x 27 columns]",
      "text/html": "<div>\n<style scoped>\n    .dataframe tbody tr th:only-of-type {\n        vertical-align: middle;\n    }\n\n    .dataframe tbody tr th {\n        vertical-align: top;\n    }\n\n    .dataframe thead th {\n        text-align: right;\n    }\n</style>\n<table border=\"1\" class=\"dataframe\">\n  <thead>\n    <tr style=\"text-align: right;\">\n      <th></th>\n      <th>Title</th>\n      <th>Price</th>\n      <th>Shipping_cost</th>\n      <th>Sales_Count</th>\n      <th>Sales_Value</th>\n      <th>Link</th>\n      <th>Last_Sale</th>\n      <th>Condition</th>\n      <th>Processor</th>\n      <th>Screen Size</th>\n      <th>...</th>\n      <th>Connectivity</th>\n      <th>Style</th>\n      <th>Operating System</th>\n      <th>Features</th>\n      <th>Storage Capacity</th>\n      <th>Camera Resolution</th>\n      <th>RAM</th>\n      <th>Seller Notes</th>\n      <th>Contract</th>\n      <th>MPN</th>\n    </tr>\n  </thead>\n  <tbody>\n    <tr>\n      <th>42</th>\n      <td>Nokia X30 𝟱𝗚 𝑫𝒖𝒂𝒍 𝑺𝑰𝑴 TA-1450 Blue 8+256GB 📡𝐆𝐒...</td>\n      <td>463.99</td>\n      <td>0.00</td>\n      <td>1</td>\n      <td>463.99</td>\n      <td>https://www.ebay.com/itm/225533311171?nordt=tr...</td>\n      <td>Jun 12, 2023</td>\n      <td>New: A brand-new, unused, unopened, undamaged ...</td>\n      <td>NaN</td>\n      <td>NaN</td>\n      <td>...</td>\n      <td>NaN</td>\n      <td>NaN</td>\n      <td>NaN</td>\n      <td>NaN</td>\n      <td>NaN</td>\n      <td>NaN</td>\n      <td>NaN</td>\n      <td>NaN</td>\n      <td>NaN</td>\n      <td>TA-1450</td>\n    </tr>\n    <tr>\n      <th>93</th>\n      <td>Nokia N-Gage Game Deck (Unlocked) Smartphone (...</td>\n      <td>599.00</td>\n      <td>0.00</td>\n      <td>1</td>\n      <td>599.00</td>\n      <td>https://www.ebay.com/itm/225093413880?nordt=tr...</td>\n      <td>Jun 12, 2023</td>\n      <td>Open box: An item in excellent, new condition ...</td>\n      <td>NaN</td>\n      <td>NaN</td>\n      <td>...</td>\n      <td>NaN</td>\n      <td>NaN</td>\n      <td>NaN</td>\n      <td>NaN</td>\n      <td>3.4 MB</td>\n      <td>NaN</td>\n      <td>NaN</td>\n      <td>NaN</td>\n      <td>NaN</td>\n      <td>76854, 76858</td>\n    </tr>\n    <tr>\n      <th>257</th>\n      <td>Nokia X30 TA-1450 256GB 8GB RAM Dual Sim (FACT...</td>\n      <td>495.99</td>\n      <td>27.82</td>\n      <td>16</td>\n      <td>7935.84</td>\n      <td>https://www.ebay.com/itm/225238522190?nordt=tr...</td>\n      <td>Jun 9, 2023</td>\n      <td>New: A brand-new, unused, unopened, undamaged ...</td>\n      <td>Snapdragon 695</td>\n      <td>6.43 \"</td>\n      <td>...</td>\n      <td>NaN</td>\n      <td>NaN</td>\n      <td>Android</td>\n      <td>NaN</td>\n      <td>256 GB</td>\n      <td>50.0 Megapixel</td>\n      <td>8 GB</td>\n      <td>NaN</td>\n      <td>NaN</td>\n      <td>NaN</td>\n    </tr>\n    <tr>\n      <th>520</th>\n      <td>LOT OF 13 PARTS DEVICES STORE DEMOS PARTS APPL...</td>\n      <td>449.99</td>\n      <td>0.00</td>\n      <td>1</td>\n      <td>449.99</td>\n      <td>https://www.ebay.com/itm/125964687630?nordt=tr...</td>\n      <td>Jun 5, 2023</td>\n      <td>For parts or not working</td>\n      <td>NaN</td>\n      <td>NaN</td>\n      <td>...</td>\n      <td>NaN</td>\n      <td>NaN</td>\n      <td>NaN</td>\n      <td>NaN</td>\n      <td>32 GB</td>\n      <td>NaN</td>\n      <td>NaN</td>\n      <td>“FOR PARTS ONLY SOLD AS NON WORKING DEVICES!”</td>\n      <td>NaN</td>\n      <td>NaN</td>\n    </tr>\n    <tr>\n      <th>843</th>\n      <td>Nokia XR20 5G 6.67\" 128GB /6GB RAM 48MP IP68 M...</td>\n      <td>439.82</td>\n      <td>42.00</td>\n      <td>1</td>\n      <td>439.82</td>\n      <td>https://www.ebay.com/itm/224652995068?nordt=tr...</td>\n      <td>May 31, 2023</td>\n      <td>New: A brand-new, unused, unopened, undamaged ...</td>\n      <td>Snapdragon 480</td>\n      <td>6.67in</td>\n      <td>...</td>\n      <td>5G</td>\n      <td>NaN</td>\n      <td>Android</td>\n      <td>Dual SIM</td>\n      <td>128 GB</td>\n      <td>48.0 MP</td>\n      <td>6 GB</td>\n      <td>NaN</td>\n      <td>Without Contract</td>\n      <td>Does Not Apply</td>\n    </tr>\n    <tr>\n      <th>857</th>\n      <td>Nokia X30 TA-1450 DS 256GB 8GB 5G Dual SIM (Gl...</td>\n      <td>449.99</td>\n      <td>0.00</td>\n      <td>1</td>\n      <td>449.99</td>\n      <td>https://www.ebay.com/itm/166127120729?nordt=tr...</td>\n      <td>May 30, 2023</td>\n      <td>Open box</td>\n      <td>Octa Core</td>\n      <td>6.4 in</td>\n      <td>...</td>\n      <td>USB Type-C, 5G, Bluetooth, 4G, 3G, Wi-Fi, 2G, ...</td>\n      <td>NaN</td>\n      <td>Android</td>\n      <td>AMOLED Display, NFC Connectivity, Wi-Fi Capabl...</td>\n      <td>256 GB</td>\n      <td>50.0 MP, 13.0 MP, 16.0 MP</td>\n      <td>8 GB</td>\n      <td>“New, Open Box Condition.”</td>\n      <td>Without Contract</td>\n      <td>TA-1450</td>\n    </tr>\n    <tr>\n      <th>1165</th>\n      <td>Nokia 8 Sirocco  128GB New 5,5\" 6GB RAM  SS 32...</td>\n      <td>350.00</td>\n      <td>0.00</td>\n      <td>1</td>\n      <td>350.00</td>\n      <td>https://www.ebay.com/itm/225331262774?nordt=tr...</td>\n      <td>May 25, 2023</td>\n      <td>Open box</td>\n      <td>NaN</td>\n      <td>5.5 in</td>\n      <td>...</td>\n      <td>NaN</td>\n      <td>NaN</td>\n      <td>NaN</td>\n      <td>NaN</td>\n      <td>128 GB</td>\n      <td>12.0 MP</td>\n      <td>6 GB</td>\n      <td>““New and unused just without the box. Deliver...</td>\n      <td>NaN</td>\n      <td>NaN</td>\n    </tr>\n    <tr>\n      <th>1332</th>\n      <td>NOKIA 8.3 5G 6/64gb 8/128gb Octa-Core 6.81\" Fi...</td>\n      <td>424.99</td>\n      <td>0.00</td>\n      <td>1</td>\n      <td>424.99</td>\n      <td>https://www.ebay.com/itm/285251542690?nordt=tr...</td>\n      <td>May 22, 2023</td>\n      <td>New: A brand-new, unused, unopened, undamaged ...</td>\n      <td>Octa Core</td>\n      <td>6.81\"</td>\n      <td>...</td>\n      <td>2G, 3G, 4G, 5G</td>\n      <td>Bar</td>\n      <td>Android 12</td>\n      <td>Bluetooth Enabled, Fingerprint Sensor, Battery...</td>\n      <td>NaN</td>\n      <td>64.0 MP</td>\n      <td>NaN</td>\n      <td>NaN</td>\n      <td>Without Contract</td>\n      <td>NaN</td>\n    </tr>\n    <tr>\n      <th>1366</th>\n      <td>Lot of 120 Untested Nokia Nokia 225 | GSM Unlo...</td>\n      <td>660.00</td>\n      <td>38.13</td>\n      <td>1</td>\n      <td>660.00</td>\n      <td>https://www.ebay.com/itm/354790195962?nordt=tr...</td>\n      <td>May 21, 2023</td>\n      <td>For parts or not working</td>\n      <td>NaN</td>\n      <td>2.4 in</td>\n      <td>...</td>\n      <td>Bluetooth, 4G, Micro USB</td>\n      <td>Bar</td>\n      <td>NaN</td>\n      <td>NaN</td>\n      <td>128 MB</td>\n      <td>0.3 MP</td>\n      <td>64 MB</td>\n      <td>“These Phones Are Warranty Returns From A Majo...</td>\n      <td>NaN</td>\n      <td>TA1282</td>\n    </tr>\n    <tr>\n      <th>1553</th>\n      <td>NOKIA  8800 ASTON MARTIN  Rare Limited Good Co...</td>\n      <td>430.00</td>\n      <td>23.00</td>\n      <td>1</td>\n      <td>430.00</td>\n      <td>https://www.ebay.com/itm/394459205786?nordt=tr...</td>\n      <td>May 17, 2023</td>\n      <td>Used: An item that has been used previously. T...</td>\n      <td>NaN</td>\n      <td>1.7 in</td>\n      <td>...</td>\n      <td>Micro USB</td>\n      <td>Slider</td>\n      <td>NaN</td>\n      <td>NaN</td>\n      <td>64 MB</td>\n      <td>NaN</td>\n      <td>NaN</td>\n      <td>NaN</td>\n      <td>NaN</td>\n      <td>NOKIA8800SAPPHIREARTE, 11052, 11051, 641718203...</td>\n    </tr>\n    <tr>\n      <th>2015</th>\n      <td>Nokia N91 RETRO BRAND NEW  MADE IN FINLAND Ver...</td>\n      <td>369.00</td>\n      <td>0.00</td>\n      <td>1</td>\n      <td>369.00</td>\n      <td>https://www.ebay.com/itm/225339497299?nordt=tr...</td>\n      <td>May 8, 2023</td>\n      <td>Open box</td>\n      <td>NaN</td>\n      <td>2.1 in</td>\n      <td>...</td>\n      <td>NaN</td>\n      <td>NaN</td>\n      <td>NaN</td>\n      <td>NaN</td>\n      <td>128 MB</td>\n      <td>2.0</td>\n      <td>64 MB</td>\n      <td>““New and unused  without the box and charger....</td>\n      <td>With Contract</td>\n      <td>NaN</td>\n    </tr>\n    <tr>\n      <th>2395</th>\n      <td>Nokia ion Mini White Cellphone Prototype 2013 ...</td>\n      <td>1100.00</td>\n      <td>14.50</td>\n      <td>1</td>\n      <td>1100.00</td>\n      <td>https://www.ebay.com/itm/325637698988?nordt=tr...</td>\n      <td>May 1, 2023</td>\n      <td>For parts or not working: An item that does no...</td>\n      <td>NaN</td>\n      <td>NaN</td>\n      <td>...</td>\n      <td>Micro USB</td>\n      <td>NaN</td>\n      <td>NaN</td>\n      <td>prototype, Nokia, Unique, Collectors item</td>\n      <td>Unknown</td>\n      <td>NaN</td>\n      <td>NaN</td>\n      <td>NaN</td>\n      <td>NaN</td>\n      <td>NaN</td>\n    </tr>\n    <tr>\n      <th>2424</th>\n      <td>Nokia N-Gage QD - Black (T-Mobile) Smartphone</td>\n      <td>350.00</td>\n      <td>15.00</td>\n      <td>1</td>\n      <td>350.00</td>\n      <td>https://www.ebay.com/itm/394532436423?nordt=tr...</td>\n      <td>Apr 30, 2023</td>\n      <td>New: A brand-new, unused, unopened, undamaged ...</td>\n      <td>NaN</td>\n      <td>2.1 in</td>\n      <td>...</td>\n      <td>NaN</td>\n      <td>Bar</td>\n      <td>NaN</td>\n      <td>NaN</td>\n      <td>3.4 MB</td>\n      <td>NaN</td>\n      <td>NaN</td>\n      <td>NaN</td>\n      <td>NaN</td>\n      <td>N-GAGE QD, NOKQDTMO, N-GAGEQDTMO, 1205, NGAGE ...</td>\n    </tr>\n    <tr>\n      <th>2524</th>\n      <td>New Sealed Nokia 9 Pureview 128GB TA-1082 LTE ...</td>\n      <td>531.04</td>\n      <td>0.00</td>\n      <td>1</td>\n      <td>531.04</td>\n      <td>https://www.ebay.com/itm/175245876884?nordt=tr...</td>\n      <td>Apr 28, 2023</td>\n      <td>New: A brand-new, unused, unopened, undamaged ...</td>\n      <td>Octa Core</td>\n      <td>6 in</td>\n      <td>...</td>\n      <td>4G, LTE</td>\n      <td>NaN</td>\n      <td>Android</td>\n      <td>NaN</td>\n      <td>128 GB</td>\n      <td>12.0 MP</td>\n      <td>6 GB</td>\n      <td>NaN</td>\n      <td>Without Contract</td>\n      <td>NaN</td>\n    </tr>\n    <tr>\n      <th>2535</th>\n      <td>Nokia X30 5G Blue 128GB ROM + 6GB RAM Dual-SIM...</td>\n      <td>625.00</td>\n      <td>0.00</td>\n      <td>1</td>\n      <td>625.00</td>\n      <td>https://www.ebay.com/itm/125524509957?nordt=tr...</td>\n      <td>Apr 28, 2023</td>\n      <td>New: A brand-new, unused, unopened, undamaged ...</td>\n      <td>Octa Core</td>\n      <td>6.43 in</td>\n      <td>...</td>\n      <td>2G, 3G, 4G, 5G, LTE</td>\n      <td>Touchscreen</td>\n      <td>Android</td>\n      <td>Sim Free</td>\n      <td>128 GB</td>\n      <td>50 MP</td>\n      <td>6 GB</td>\n      <td>NaN</td>\n      <td>Without Contract</td>\n      <td>Does Not Apply</td>\n    </tr>\n    <tr>\n      <th>2560</th>\n      <td>NOKIA 9 PUREVIEW TA-1082/A-1087 6gb 128gb Five...</td>\n      <td>466.49</td>\n      <td>49.99</td>\n      <td>17</td>\n      <td>7930.33</td>\n      <td>https://www.ebay.com/itm/353648586167?nordt=tr...</td>\n      <td>Apr 28, 2023</td>\n      <td>New: A brand-new, unused, unopened, undamaged ...</td>\n      <td>Octa Core</td>\n      <td>5.99 in</td>\n      <td>...</td>\n      <td>2G, 3G, 4G, Bluetooth, GPS</td>\n      <td>Bar</td>\n      <td>Android One</td>\n      <td>Battery 3320mAh, Five Back Cameras, Accelerome...</td>\n      <td>128 GB</td>\n      <td>12.0 MP</td>\n      <td>6 GB</td>\n      <td>NaN</td>\n      <td>Without Contract</td>\n      <td>NaN</td>\n    </tr>\n    <tr>\n      <th>2642</th>\n      <td>Nokia X10 Dual SIM 6.67\" 128GB 6GB RAM 48MP Sn...</td>\n      <td>358.69</td>\n      <td>42.00</td>\n      <td>4</td>\n      <td>1434.77</td>\n      <td>https://www.ebay.com/itm/224492441143?nordt=tr...</td>\n      <td>Apr 26, 2023</td>\n      <td>New: A brand-new, unused, unopened, undamaged ...</td>\n      <td>Snapdragon 480</td>\n      <td>6.67in</td>\n      <td>...</td>\n      <td>NaN</td>\n      <td>NaN</td>\n      <td>Android</td>\n      <td>Dual SIM</td>\n      <td>128 GB</td>\n      <td>48.0 MP</td>\n      <td>6GB</td>\n      <td>NaN</td>\n      <td>Without Contract</td>\n      <td>Does Not Apply</td>\n    </tr>\n    <tr>\n      <th>2645</th>\n      <td>Original Nokia X30 5G 256GB ROM+8GB RAM Factor...</td>\n      <td>499.49</td>\n      <td>0.00</td>\n      <td>2</td>\n      <td>998.98</td>\n      <td>https://www.ebay.com/itm/204160780323?nordt=tr...</td>\n      <td>Apr 26, 2023</td>\n      <td>New: A brand-new, unused, unopened, undamaged ...</td>\n      <td>NaN</td>\n      <td>6.43 inch</td>\n      <td>...</td>\n      <td>5G</td>\n      <td>NaN</td>\n      <td>Android™ 12</td>\n      <td>6.43” FHD+ AMOLED PureDisplay with 90 Hz refre...</td>\n      <td>256 GB</td>\n      <td>NaN</td>\n      <td>8 GB</td>\n      <td>NaN</td>\n      <td>Without Contract</td>\n      <td>TA-1450</td>\n    </tr>\n    <tr>\n      <th>2713</th>\n      <td>Sony WT23I BLUE+Nokia X5-00+RM806+Nokia 6316s+...</td>\n      <td>1150.00</td>\n      <td>35.00</td>\n      <td>1</td>\n      <td>1150.00</td>\n      <td>https://www.ebay.com/itm/295656698341?nordt=tr...</td>\n      <td>Apr 25, 2023</td>\n      <td>Used</td>\n      <td>NaN</td>\n      <td>NaN</td>\n      <td>...</td>\n      <td>NaN</td>\n      <td>NaN</td>\n      <td>NaN</td>\n      <td>NaN</td>\n      <td>NaN</td>\n      <td>NaN</td>\n      <td>NaN</td>\n      <td>“5 phones in one bundle.Only for qfasi”</td>\n      <td>Without Contract</td>\n      <td>Does Not Apply</td>\n    </tr>\n    <tr>\n      <th>2765</th>\n      <td>BRAND NEW - Nokia XR20 5G 6.67\" Full HD 128GB ...</td>\n      <td>375.00</td>\n      <td>0.00</td>\n      <td>1</td>\n      <td>375.00</td>\n      <td>https://www.ebay.com/itm/166032833426?nordt=tr...</td>\n      <td>Apr 24, 2023</td>\n      <td>New: A brand-new, unused, unopened, undamaged ...</td>\n      <td>Octa Core</td>\n      <td>6.67 in</td>\n      <td>...</td>\n      <td>USB Type-C, 5G, Bluetooth, Wi-Fi, NFC, GPS</td>\n      <td>Bar</td>\n      <td>Android</td>\n      <td>Proximity Sensor, Accelerometer, Ambient Light...</td>\n      <td>128 GB</td>\n      <td>48.0 MP</td>\n      <td>6 GB</td>\n      <td>NaN</td>\n      <td>Without Contract</td>\n      <td>VMA750Y9FI1CN0</td>\n    </tr>\n    <tr>\n      <th>2945</th>\n      <td>Nokia G60 5G 6.58\"IPS 128GB /6GB RAM 50MP Snap...</td>\n      <td>366.39</td>\n      <td>42.00</td>\n      <td>7</td>\n      <td>2564.71</td>\n      <td>https://www.ebay.com/itm/225203732074?nordt=tr...</td>\n      <td>Apr 19, 2023</td>\n      <td>New: A brand-new, unused, unopened, undamaged ...</td>\n      <td>Snapdragon 695 5G</td>\n      <td>6.58\"</td>\n      <td>...</td>\n      <td>5G</td>\n      <td>NaN</td>\n      <td>Android</td>\n      <td>NaN</td>\n      <td>128 GB</td>\n      <td>50.0 Megapixel</td>\n      <td>6 GB</td>\n      <td>NaN</td>\n      <td>Without Contract</td>\n      <td>Does Not Apply</td>\n    </tr>\n    <tr>\n      <th>3095</th>\n      <td>(Lot of 170) Apple, Samsung, Nokia, Cell Phone...</td>\n      <td>499.95</td>\n      <td>25.00</td>\n      <td>1</td>\n      <td>499.95</td>\n      <td>https://www.ebay.com/itm/354721856992?nordt=tr...</td>\n      <td>Apr 16, 2023</td>\n      <td>For parts or not working</td>\n      <td>NaN</td>\n      <td>NaN</td>\n      <td>...</td>\n      <td>NaN</td>\n      <td>NaN</td>\n      <td>Android</td>\n      <td>NaN</td>\n      <td>NaN</td>\n      <td>NaN</td>\n      <td>NaN</td>\n      <td>“Samsung, Nokia and Apple - Assorted - Unteste...</td>\n      <td>NaN</td>\n      <td>NaN</td>\n    </tr>\n    <tr>\n      <th>3141</th>\n      <td>*NEW* ORIGINAL NOKIA 8800 STAINLESS STEEL ***N...</td>\n      <td>405.00</td>\n      <td>9.00</td>\n      <td>1</td>\n      <td>405.00</td>\n      <td>https://www.ebay.com/itm/155489728611?nordt=tr...</td>\n      <td>Apr 15, 2023</td>\n      <td>New: A brand-new, unused, unopened, undamaged ...</td>\n      <td>NaN</td>\n      <td>NaN</td>\n      <td>...</td>\n      <td>NaN</td>\n      <td>NaN</td>\n      <td>NaN</td>\n      <td>NaN</td>\n      <td>64 MB</td>\n      <td>NaN</td>\n      <td>NaN</td>\n      <td>NaN</td>\n      <td>NaN</td>\n      <td>NaN</td>\n    </tr>\n    <tr>\n      <th>3282</th>\n      <td>Nokia 8800 Sirocco Gold 18K Sayn Design  Origi...</td>\n      <td>510.00</td>\n      <td>22.00</td>\n      <td>1</td>\n      <td>510.00</td>\n      <td>https://www.ebay.com/itm/385532610016?nordt=tr...</td>\n      <td>Apr 12, 2023</td>\n      <td>Used</td>\n      <td>NaN</td>\n      <td>NaN</td>\n      <td>...</td>\n      <td>NaN</td>\n      <td>NaN</td>\n      <td>Symbian</td>\n      <td>NaN</td>\n      <td>4 GB</td>\n      <td>NaN</td>\n      <td>NaN</td>\n      <td>“Excellent”</td>\n      <td>NaN</td>\n      <td>NaN</td>\n    </tr>\n    <tr>\n      <th>3336</th>\n      <td>Nokia X20, 128 GB, Dual SIM , 6 GB RAM, 5G, No...</td>\n      <td>429.25</td>\n      <td>16.50</td>\n      <td>1</td>\n      <td>429.25</td>\n      <td>https://www.ebay.com/itm/144461273127?nordt=tr...</td>\n      <td>Apr 11, 2023</td>\n      <td>New: A brand-new, unused, unopened, undamaged ...</td>\n      <td>Octa Core</td>\n      <td>6.67″</td>\n      <td>...</td>\n      <td>5G</td>\n      <td>NaN</td>\n      <td>Nokia X</td>\n      <td>3D Depth Camera</td>\n      <td>128 GB</td>\n      <td>64.0 MP</td>\n      <td>6 GB</td>\n      <td>NaN</td>\n      <td>With Contract</td>\n      <td>101QKSLVH040</td>\n    </tr>\n    <tr>\n      <th>3499</th>\n      <td>Nokia 8800 Arte Gold - Brown (Unlocked) 4GB Ge...</td>\n      <td>595.00</td>\n      <td>20.00</td>\n      <td>1</td>\n      <td>595.00</td>\n      <td>https://www.ebay.com/itm/374602671502?nordt=tr...</td>\n      <td>Apr 8, 2023</td>\n      <td>Used</td>\n      <td>Single Core</td>\n      <td>2 in</td>\n      <td>...</td>\n      <td>Micro USB</td>\n      <td>Slider</td>\n      <td>NaN</td>\n      <td>NaN</td>\n      <td>4gb</td>\n      <td>3.0 MP</td>\n      <td>NaN</td>\n      <td>“Fully working.Cosmetic i would rate as 7.5/10”</td>\n      <td>NaN</td>\n      <td>NaN</td>\n    </tr>\n    <tr>\n      <th>3504</th>\n      <td>Nokia 8800 ARTE CARBON Original Device GSM Fac...</td>\n      <td>410.00</td>\n      <td>22.00</td>\n      <td>1</td>\n      <td>410.00</td>\n      <td>https://www.ebay.com/itm/385521951508?nordt=tr...</td>\n      <td>Apr 8, 2023</td>\n      <td>Used</td>\n      <td>NaN</td>\n      <td>NaN</td>\n      <td>...</td>\n      <td>NaN</td>\n      <td>NaN</td>\n      <td>Symbian</td>\n      <td>NaN</td>\n      <td>4 GB</td>\n      <td>NaN</td>\n      <td>NaN</td>\n      <td>“Excellent”</td>\n      <td>NaN</td>\n      <td>NaN</td>\n    </tr>\n    <tr>\n      <th>3541</th>\n      <td>Nokia 8800  Arte Black 1GB Genuine Made in Kor...</td>\n      <td>360.00</td>\n      <td>20.00</td>\n      <td>1</td>\n      <td>360.00</td>\n      <td>https://www.ebay.com/itm/374604868717?nordt=tr...</td>\n      <td>Apr 7, 2023</td>\n      <td>Used</td>\n      <td>NaN</td>\n      <td>2 in</td>\n      <td>...</td>\n      <td>Bluetooth, 3G, 2G, Micro USB</td>\n      <td>Slider</td>\n      <td>Nokia S40</td>\n      <td>NaN</td>\n      <td>1 GB</td>\n      <td>3.2 MP</td>\n      <td>NaN</td>\n      <td>“Phone has signs of normal use, i would rate i...</td>\n      <td>Without Contract</td>\n      <td>11052, 11051, 8800, 2383, 8800ARTESAPHIRRE</td>\n    </tr>\n    <tr>\n      <th>3693</th>\n      <td>Nokia G60 5G, Dual SIM, 128 GB + 6 GB RAM, 6.5...</td>\n      <td>375.88</td>\n      <td>16.50</td>\n      <td>2</td>\n      <td>751.75</td>\n      <td>https://www.ebay.com/itm/144765532460?nordt=tr...</td>\n      <td>Apr 4, 2023</td>\n      <td>New: A brand-new, unused, unopened, undamaged ...</td>\n      <td>Dual Core</td>\n      <td>6.59</td>\n      <td>...</td>\n      <td>5G</td>\n      <td>NaN</td>\n      <td>Android</td>\n      <td>Active Edge, AMOLED Display</td>\n      <td>128 GB</td>\n      <td>50.0 Megapixel</td>\n      <td>6 GB</td>\n      <td>NaN</td>\n      <td>Without Contract</td>\n      <td>Nokia G60</td>\n    </tr>\n    <tr>\n      <th>3710</th>\n      <td>Nokia N Series N93i -Smartphone MADE IN FINLAN...</td>\n      <td>499.00</td>\n      <td>0.00</td>\n      <td>1</td>\n      <td>499.00</td>\n      <td>https://www.ebay.com/itm/225391935076?nordt=tr...</td>\n      <td>Apr 3, 2023</td>\n      <td>Open box</td>\n      <td>NaN</td>\n      <td>NaN</td>\n      <td>...</td>\n      <td>Micro USB</td>\n      <td>NaN</td>\n      <td>NaN</td>\n      <td>NaN</td>\n      <td>50 MB</td>\n      <td>NaN</td>\n      <td>NaN</td>\n      <td>““New and unused without the box and charger. ...</td>\n      <td>Without Contract</td>\n      <td>NOKIAN93IUNLOCKEDBLACK</td>\n    </tr>\n    <tr>\n      <th>3778</th>\n      <td>Nokia X30 5G DualSIM 6.43\"AMOLED 8/256GB 50MP ...</td>\n      <td>516.96</td>\n      <td>42.00</td>\n      <td>3</td>\n      <td>1550.87</td>\n      <td>https://www.ebay.com/itm/175467635773?nordt=tr...</td>\n      <td>Apr 2, 2023</td>\n      <td>New: A brand-new, unused, unopened, undamaged ...</td>\n      <td>Octa Core</td>\n      <td>5.7 in</td>\n      <td>...</td>\n      <td>LTE</td>\n      <td>NaN</td>\n      <td>Android</td>\n      <td>NaN</td>\n      <td>256 GB</td>\n      <td>50.0 Megapixel</td>\n      <td>6.43\"</td>\n      <td>NaN</td>\n      <td>NaN</td>\n      <td>Does Not Apply</td>\n    </tr>\n    <tr>\n      <th>3796</th>\n      <td>Original Nokia 8800 Sapphire Arte</td>\n      <td>1175.00</td>\n      <td>25.00</td>\n      <td>1</td>\n      <td>1175.00</td>\n      <td>https://www.ebay.com/itm/175599320995?nordt=tr...</td>\n      <td>Apr 1, 2023</td>\n      <td>Used: An item that has been used previously. T...</td>\n      <td>NaN</td>\n      <td>NaN</td>\n      <td>...</td>\n      <td>NaN</td>\n      <td>NaN</td>\n      <td>NaN</td>\n      <td>NaN</td>\n      <td>1 GB</td>\n      <td>NaN</td>\n      <td>NaN</td>\n      <td>NaN</td>\n      <td>NaN</td>\n      <td>NaN</td>\n    </tr>\n    <tr>\n      <th>3876</th>\n      <td>(Lot of 25) NOKIA C100 Cell Phones for Straigh...</td>\n      <td>579.99</td>\n      <td>0.00</td>\n      <td>1</td>\n      <td>579.99</td>\n      <td>https://www.ebay.com/itm/334675380480?nordt=tr...</td>\n      <td>Mar 31, 2023</td>\n      <td>New: A brand-new, unused, unopened, undamaged ...</td>\n      <td>NaN</td>\n      <td>NaN</td>\n      <td>...</td>\n      <td>NaN</td>\n      <td>NaN</td>\n      <td>Android</td>\n      <td>NaN</td>\n      <td>32gb</td>\n      <td>NaN</td>\n      <td>NaN</td>\n      <td>NaN</td>\n      <td>NaN</td>\n      <td>NaN</td>\n    </tr>\n    <tr>\n      <th>3939</th>\n      <td>Nokia 8800 ARTE CARBON Original Device GSM Fac...</td>\n      <td>469.00</td>\n      <td>12.00</td>\n      <td>1</td>\n      <td>469.00</td>\n      <td>https://www.ebay.com/itm/385502471572?nordt=tr...</td>\n      <td>Mar 30, 2023</td>\n      <td>Used</td>\n      <td>NaN</td>\n      <td>NaN</td>\n      <td>...</td>\n      <td>NaN</td>\n      <td>NaN</td>\n      <td>Symbian</td>\n      <td>NaN</td>\n      <td>4 GB</td>\n      <td>NaN</td>\n      <td>NaN</td>\n      <td>“Excellent”</td>\n      <td>NaN</td>\n      <td>NaN</td>\n    </tr>\n    <tr>\n      <th>4065</th>\n      <td>Nokia XR20 TA-1362 128GB 6GB RAM Dual Sim (FAC...</td>\n      <td>439.99</td>\n      <td>19.99</td>\n      <td>1</td>\n      <td>439.99</td>\n      <td>https://www.ebay.com/itm/225497986239?nordt=tr...</td>\n      <td>Mar 27, 2023</td>\n      <td>New: A brand-new, unused, unopened, undamaged ...</td>\n      <td>Snapdragon 480</td>\n      <td>6.67\"</td>\n      <td>...</td>\n      <td>NaN</td>\n      <td>NaN</td>\n      <td>Android</td>\n      <td>NaN</td>\n      <td>128 GB</td>\n      <td>48.0 MP</td>\n      <td>6 GB</td>\n      <td>NaN</td>\n      <td>NaN</td>\n      <td>NaN</td>\n    </tr>\n    <tr>\n      <th>4074</th>\n      <td>Unlocked Authentic Original Nokia 8800 Gold Ar...</td>\n      <td>1789.95</td>\n      <td>0.00</td>\n      <td>1</td>\n      <td>1789.95</td>\n      <td>https://www.ebay.com/itm/265943253685?nordt=tr...</td>\n      <td>Mar 27, 2023</td>\n      <td>New: A brand-new, unused, unopened, undamaged ...</td>\n      <td>NaN</td>\n      <td>2 in</td>\n      <td>...</td>\n      <td>Micro USB</td>\n      <td>Slider</td>\n      <td>NaN</td>\n      <td>NaN</td>\n      <td>4 GB</td>\n      <td>3.2 MP</td>\n      <td>NaN</td>\n      <td>NaN</td>\n      <td>NaN</td>\n      <td>11052, 11051, NOKIA8800SAPPHIREARTE, NOKIA8800...</td>\n    </tr>\n    <tr>\n      <th>4149</th>\n      <td>Nokia XR20 TA-1368 128GB 6GB RAM Dual Sim (FAC...</td>\n      <td>439.99</td>\n      <td>0.00</td>\n      <td>1</td>\n      <td>439.99</td>\n      <td>https://www.ebay.com/itm/195645849546?nordt=tr...</td>\n      <td>Mar 26, 2023</td>\n      <td>New: A brand-new, unused, unopened, undamaged ...</td>\n      <td>Snapdragon 480</td>\n      <td>6.67\"</td>\n      <td>...</td>\n      <td>NaN</td>\n      <td>NaN</td>\n      <td>Android</td>\n      <td>NaN</td>\n      <td>128 GB</td>\n      <td>48.0 MP</td>\n      <td>6 GB</td>\n      <td>NaN</td>\n      <td>NaN</td>\n      <td>NaN</td>\n    </tr>\n    <tr>\n      <th>4287</th>\n      <td>LOT OF 39 Nokia A-1295 Flip Phones With Kai OS...</td>\n      <td>450.00</td>\n      <td>0.00</td>\n      <td>1</td>\n      <td>450.00</td>\n      <td>https://www.ebay.com/itm/295530726008?nordt=tr...</td>\n      <td>Mar 23, 2023</td>\n      <td>Used</td>\n      <td>Qual Comm</td>\n      <td>2.8 in</td>\n      <td>...</td>\n      <td>4G</td>\n      <td>Flip</td>\n      <td>KaiOS</td>\n      <td>Bluetooth Enabled, Color Screen</td>\n      <td>4 GB</td>\n      <td>2.0 MP</td>\n      <td>2.32 GB</td>\n      <td>“LOT OF 39 Nokia A-1295 flip phones in used FA...</td>\n      <td>Without Contract</td>\n      <td>A-1295</td>\n    </tr>\n    <tr>\n      <th>4342</th>\n      <td>LOT OF 18 TRAC PHONES, 2 APPLE, 3 NOKIA SEE DE...</td>\n      <td>660.00</td>\n      <td>0.00</td>\n      <td>1</td>\n      <td>660.00</td>\n      <td>https://www.ebay.com/itm/256011389066?nordt=tr...</td>\n      <td>Mar 22, 2023</td>\n      <td>For parts or not working</td>\n      <td>NaN</td>\n      <td>NaN</td>\n      <td>...</td>\n      <td>NaN</td>\n      <td>NaN</td>\n      <td>NaN</td>\n      <td>NaN</td>\n      <td>NaN</td>\n      <td>NaN</td>\n      <td>NaN</td>\n      <td>“Lot of 18 Prepaid Tracfone, 2 iPhone prepaid,...</td>\n      <td>NaN</td>\n      <td>NaN</td>\n    </tr>\n    <tr>\n      <th>4347</th>\n      <td>Nokia 8800 Arte - Gold (Unlocked) Noblesse Swi...</td>\n      <td>2100.00</td>\n      <td>60.00</td>\n      <td>1</td>\n      <td>2100.00</td>\n      <td>https://www.ebay.com/itm/394525654604?nordt=tr...</td>\n      <td>Mar 22, 2023</td>\n      <td>Used</td>\n      <td>NaN</td>\n      <td>2 in</td>\n      <td>...</td>\n      <td>Bluetooth</td>\n      <td>Slider</td>\n      <td>NaN</td>\n      <td>Bluetooth Enabled, Speakerphone, Camera, Music...</td>\n      <td>1 GB</td>\n      <td>3.0 MP</td>\n      <td>NaN</td>\n      <td>“excellent condition”</td>\n      <td>Without Contract</td>\n      <td>NaN</td>\n    </tr>\n    <tr>\n      <th>4420</th>\n      <td>Nokia 8800 Arte - Gold (Unlocked) Cartier Limi...</td>\n      <td>1200.00</td>\n      <td>60.00</td>\n      <td>1</td>\n      <td>1200.00</td>\n      <td>https://www.ebay.com/itm/394523913982?nordt=tr...</td>\n      <td>Mar 21, 2023</td>\n      <td>Used</td>\n      <td>NaN</td>\n      <td>2 in</td>\n      <td>...</td>\n      <td>Bluetooth</td>\n      <td>Slider</td>\n      <td>NaN</td>\n      <td>Bluetooth Enabled, Speakerphone, Camera, Music...</td>\n      <td>1 GB</td>\n      <td>3.0 MP</td>\n      <td>NaN</td>\n      <td>“perfect condition”</td>\n      <td>Without Contract</td>\n      <td>NaN</td>\n    </tr>\n    <tr>\n      <th>4504</th>\n      <td>Nokia Prototype 1706+N93i+cdma Proto,  Origina...</td>\n      <td>550.00</td>\n      <td>35.00</td>\n      <td>1</td>\n      <td>550.00</td>\n      <td>https://www.ebay.com/itm/295574748982?nordt=tr...</td>\n      <td>Mar 19, 2023</td>\n      <td>Used</td>\n      <td>NaN</td>\n      <td>NaN</td>\n      <td>...</td>\n      <td>NaN</td>\n      <td>NaN</td>\n      <td>unknown</td>\n      <td>NaN</td>\n      <td>NaN</td>\n      <td>NaN</td>\n      <td>NaN</td>\n      <td>“A rare prototype with NORMAL condition.Have s...</td>\n      <td>Without Contract</td>\n      <td>Does Not Apply</td>\n    </tr>\n    <tr>\n      <th>4572</th>\n      <td>Nokia Prototype Microsoft RX-100 Dogphone Orig...</td>\n      <td>600.00</td>\n      <td>35.00</td>\n      <td>1</td>\n      <td>600.00</td>\n      <td>https://www.ebay.com/itm/295572507768?nordt=tr...</td>\n      <td>Mar 18, 2023</td>\n      <td>Used</td>\n      <td>NaN</td>\n      <td>NaN</td>\n      <td>...</td>\n      <td>NaN</td>\n      <td>NaN</td>\n      <td>unknown</td>\n      <td>NaN</td>\n      <td>NaN</td>\n      <td>NaN</td>\n      <td>1 GB</td>\n      <td>“An extreme rare prototype with normal conditi...</td>\n      <td>Without Contract</td>\n      <td>Does Not Apply</td>\n    </tr>\n    <tr>\n      <th>4599</th>\n      <td>BlackBerry Porsche Design P9981 24k GOLD EDITI...</td>\n      <td>924.00</td>\n      <td>0.00</td>\n      <td>2</td>\n      <td>1848.00</td>\n      <td>https://www.ebay.com/itm/354059464749?nordt=tr...</td>\n      <td>Mar 17, 2023</td>\n      <td>Used: An item that has been used previously. T...</td>\n      <td>NaN</td>\n      <td>NaN</td>\n      <td>...</td>\n      <td>NaN</td>\n      <td>NaN</td>\n      <td>NaN</td>\n      <td>NaN</td>\n      <td>8 GB</td>\n      <td>NaN</td>\n      <td>NaN</td>\n      <td>NaN</td>\n      <td>NaN</td>\n      <td>Porsche,Nokia 8800 Arte Gold,Vertu,Motorola Aura</td>\n    </tr>\n    <tr>\n      <th>4621</th>\n      <td>Nokia 808 PureView 16GB (Unlocked) Smartphone ...</td>\n      <td>500.00</td>\n      <td>89.00</td>\n      <td>1</td>\n      <td>500.00</td>\n      <td>https://www.ebay.com/itm/115571350340?nordt=tr...</td>\n      <td>Mar 17, 2023</td>\n      <td>Used</td>\n      <td>Single Core</td>\n      <td>4 in</td>\n      <td>...</td>\n      <td>2G, 3G, 4G, Bluetooth, Dual-Band, GPRS, GPS</td>\n      <td>Bar</td>\n      <td>Symbian</td>\n      <td>Accelerometer, Ambient Light Sensor, Camera</td>\n      <td>16 GB</td>\n      <td>41.0MP</td>\n      <td>NaN</td>\n      <td>“A+ condition, complete with accessories in th...</td>\n      <td>Without Contract</td>\n      <td>RM-807</td>\n    </tr>\n    <tr>\n      <th>4721</th>\n      <td>Fairphone 3+ Factory Unlocked Dual Sim 64GB + ...</td>\n      <td>606.14</td>\n      <td>23.00</td>\n      <td>14</td>\n      <td>8486.00</td>\n      <td>https://www.ebay.com/itm/294184963725?nordt=tr...</td>\n      <td>Mar 11, 2023</td>\n      <td>New: A brand-new, unused, unopened, undamaged ...</td>\n      <td>Octa Core</td>\n      <td>5.65 in</td>\n      <td>...</td>\n      <td>4G, LTE</td>\n      <td>Touchscreen</td>\n      <td>Android</td>\n      <td>Sim Free</td>\n      <td>64 GB</td>\n      <td>48.0 MP</td>\n      <td>4 GB</td>\n      <td>NaN</td>\n      <td>Without Contract</td>\n      <td>NaN</td>\n    </tr>\n    <tr>\n      <th>4725</th>\n      <td>🆕 Nokia X20 𝟱𝗚 𝑫𝒖𝒂𝒍 𝑺𝑰𝑴 TA-1341 Midnight Sun 8...</td>\n      <td>351.99</td>\n      <td>0.00</td>\n      <td>1</td>\n      <td>351.99</td>\n      <td>https://www.ebay.com/itm/225452405101?nordt=tr...</td>\n      <td>Mar 11, 2023</td>\n      <td>New: A brand-new, unused, unopened, undamaged ...</td>\n      <td>NaN</td>\n      <td>NaN</td>\n      <td>...</td>\n      <td>NaN</td>\n      <td>NaN</td>\n      <td>NaN</td>\n      <td>NaN</td>\n      <td>NaN</td>\n      <td>NaN</td>\n      <td>NaN</td>\n      <td>NaN</td>\n      <td>NaN</td>\n      <td>TA-1341</td>\n    </tr>\n    <tr>\n      <th>4726</th>\n      <td>Original Nokia G60 128GB ROM + 6GB RAM Factory...</td>\n      <td>362.99</td>\n      <td>0.00</td>\n      <td>6</td>\n      <td>2177.94</td>\n      <td>https://www.ebay.com/itm/195445851265?nordt=tr...</td>\n      <td>Mar 11, 2023</td>\n      <td>New: A brand-new, unused, unopened, undamaged ...</td>\n      <td>NaN</td>\n      <td>6.58in</td>\n      <td>...</td>\n      <td>USB Type-C</td>\n      <td>Slate</td>\n      <td>Android</td>\n      <td>Snapdragon® 695 5G mobile platform, 50 MP AI t...</td>\n      <td>Internal storage:128 GB</td>\n      <td>NaN</td>\n      <td>6 GB</td>\n      <td>NaN</td>\n      <td>Without Contract</td>\n      <td>TA-1479</td>\n    </tr>\n  </tbody>\n</table>\n<p>48 rows × 27 columns</p>\n</div>"
     },
     "execution_count": 95,
     "metadata": {},
     "output_type": "execute_result"
    }
   ],
   "source": [
    "import numpy as np\n",
    "df[df.Price > np.quantile(df.Price, 0.99)]"
   ],
   "metadata": {
    "collapsed": false,
    "pycharm": {
     "name": "#%%\n"
    }
   }
  },
  {
   "cell_type": "code",
   "execution_count": 96,
   "outputs": [
    {
     "data": {
      "text/plain": "                                                  Title  Price  Shipping_cost  \\\n119   Lot of 3 Nokia Cell Phones -Black/Blue/White -...   2.25          10.95   \n519   Nokia Lumia 635 RM-975 - Black ( AT&T ) - For ...   3.00           5.99   \n539   Nokia Lumia 900 AT&T Blue Cell Phone BROKEN B0433   3.61           0.00   \n546   Lot of 5 Nokia 225 4G Cell Phones - Black - NO...   0.99          14.99   \n607   5x Job Lot Bundle Mobile Phones HTC Nokia Moto...   3.25          13.00   \n611   5x Job Lot Bundle Mobile Phones Nokia Motorola...   2.25          13.00   \n681   Nokia 5165 And 5160i - Cellular Phone Lot (4)....   1.25          12.45   \n880                           Nokia Lumia 635 For Parts   2.00           4.99   \n1442          Nokia 2600 PHONE FOR SPARES REPAIRS PARTS   1.00           9.50   \n1455  JUNK LOT Of #3 Vintage Cellphones Nokia/Motoro...   0.99          10.00   \n1519       Nokia 2610 - Black (Unlocked) Cellular Phone   1.00           5.00   \n1527  Nokia 5165 (CIngular) Cell Phone - Vintage Col...   3.50           0.00   \n1547                            Nokia 1.3 DEFECTIVE #M6   1.00          25.00   \n1562   Nokia 3360  Cell Phone - Vintage Collector Parts   3.00           6.65   \n1610  Nokia 1.4 Android 10 (Go Edition) Unlocked 2/3...   3.25           3.38   \n1750  Nokia Lumia 635 (AT&T) 4G LTE Smartphone Windo...   0.99          11.20   \n1822  Vintage Nokia 6340i blac and gold  Type NPM-10...   3.25           0.00   \n2124  2 Nokia 6010 Cellphones Silver Black Used Unte...   3.95           6.65   \n2145  3x Nokia Lumia 800 - Black Cyan Blue - Used Sm...   3.50           7.50   \n2220  4 x Verizon Old School Vintage Flip Cell Phone...   0.99           8.22   \n2310                      Nokia Lumia 910 Windows Phone   1.00           6.45   \n2349  Nokia Lumia 520 3G GSM Smartphone RM-915 - Bla...   1.20           5.65   \n2385    Nokia 6015i Verizon Gray - ASIS (JX-1444) V2-3B   4.00           0.00   \n2386     Nokia 3589i Verizon Blue- ASIS (JX-1644) V2-5D   4.00           0.00   \n2474  Nokia Lumia 530 / RM-1018 - Black ( Unknown GS...   3.59           5.99   \n2567                 Nokia 1600 - Silver Cellular Phone   2.00           0.00   \n2568       Nokia 3595 - Brown (T-Mobile) Cellular Phone   2.00           0.00   \n2569           Nokia 6133 - Black (T-Mobile) Flip Phone   2.00           0.00   \n2595           Nokia 3555b - Blue (T-Mobile) Flip Phone   2.00           0.00   \n2654  USB-C fast charging cable Type-C data cable 3F...   0.99           0.00   \n2770      Microsoft Nokia Lumia 521 phone- DOESN’T WORK   2.00           5.70   \n2792  Nokia 6085 / 6085h - Black and Silver - ( AT&T...   1.25           0.00   \n3005  Nokia 6200 (AT&T) Vintage Cell Phone *For Part...   3.00           5.60   \n3310  Nokia 1616 Cell Phone  - Black Basic Button Ea...   0.99          11.45   \n3483                  Nokia RM-44 - Gray Cellular Phone   2.00           0.00   \n3722  Used & Untested - Nokia* Model 3560 Type RH-14...   0.99           5.75   \n3742          Nokia 6010 Cell Phone - Vintage Collector   4.00           3.90   \n3868    Nokia Lumia 520 - 8GB - Black (AT&T) Smartphone   0.01          10.20   \n3886                  Nokia 7370 - Black Cellular Phone   3.00           0.00   \n3887            Nokia 5165 - Blue (AT&T) Cellular Phone   3.00           0.00   \n3888                 Nokia 252NC - Green Cellular Phone   3.00           0.00   \n3909                  Nokia 3586i - Blue Cellular Phone   4.00           0.00   \n4043                    Microsoft Nokia Lumia 521 phone   4.00           5.60   \n4210  Nokia 6010 Silver Cell Phone AS IS - Fast Ship...   0.99           5.85   \n4372                           Nokia 6010 - Blue (AT&T)   3.50           3.90   \n4417    Nokia Lumia 900 - 16GB - Cyan (AT&T) Smartphone   2.25           0.00   \n4635  Nokia 6030 b Silver Cellular Phone No Battery ...   3.00           5.50   \n4662  Nokia 6030  x2 Silver Cellular Phone T-mobile ...   2.99           6.40   \n\n      Sales_Count  Sales_Value  \\\n119             1         2.25   \n519             1         3.00   \n539             1         3.61   \n546             1         0.99   \n607             1         3.25   \n611             1         2.25   \n681             1         1.25   \n880             1         2.00   \n1442            1         1.00   \n1455            1         0.99   \n1519            1         1.00   \n1527            1         3.50   \n1547            1         1.00   \n1562            1         3.00   \n1610            1         3.25   \n1750            1         0.99   \n1822            1         3.25   \n2124            1         3.95   \n2145            1         3.50   \n2220            1         0.99   \n2310            1         1.00   \n2349            1         1.20   \n2385            1         4.00   \n2386            1         4.00   \n2474            1         3.59   \n2567            1         2.00   \n2568            1         2.00   \n2569            1         2.00   \n2595            1         2.00   \n2654           22        21.78   \n2770            1         2.00   \n2792            1         1.25   \n3005            1         3.00   \n3310            1         0.99   \n3483            1         2.00   \n3722            1         0.99   \n3742            1         4.00   \n3868            1         0.01   \n3886            1         3.00   \n3887            1         3.00   \n3888            1         3.00   \n3909            1         4.00   \n4043            1         4.00   \n4210            1         0.99   \n4372            1         3.50   \n4417            1         2.25   \n4635            1         3.00   \n4662            1         2.99   \n\n                                                   Link     Last_Sale  \\\n119   https://www.ebay.com/itm/385660232777?nordt=tr...  Jun 11, 2023   \n519   https://www.ebay.com/itm/394528132570?nordt=tr...   Jun 5, 2023   \n539   https://www.ebay.com/itm/125879700948?nordt=tr...   Jun 5, 2023   \n546   https://www.ebay.com/itm/155578160765?nordt=tr...   Jun 5, 2023   \n607   https://www.ebay.com/itm/285300934177?nordt=tr...   Jun 4, 2023   \n611   https://www.ebay.com/itm/285300606332?nordt=tr...   Jun 4, 2023   \n681   https://www.ebay.com/itm/185914780448?nordt=tr...   Jun 2, 2023   \n880   https://www.ebay.com/itm/394433455667?nordt=tr...  May 30, 2023   \n1442  https://www.ebay.com/itm/154596052666?nordt=tr...  May 19, 2023   \n1455  https://www.ebay.com/itm/295695170802?nordt=tr...  May 19, 2023   \n1519  https://www.ebay.com/itm/155480820219?nordt=tr...  May 18, 2023   \n1527  https://www.ebay.com/itm/256072477678?nordt=tr...  May 18, 2023   \n1547  https://www.ebay.com/itm/185887221382?nordt=tr...  May 18, 2023   \n1562  https://www.ebay.com/itm/364165962862?nordt=tr...  May 17, 2023   \n1610  https://www.ebay.com/itm/374687941860?nordt=tr...  May 16, 2023   \n1750  https://www.ebay.com/itm/155469402654?nordt=tr...  May 14, 2023   \n1822  https://www.ebay.com/itm/404276033480?nordt=tr...  May 12, 2023   \n2124  https://www.ebay.com/itm/115791775565?nordt=tr...   May 6, 2023   \n2145  https://www.ebay.com/itm/295613547925?nordt=tr...   May 6, 2023   \n2220  https://www.ebay.com/itm/394593308594?nordt=tr...   May 4, 2023   \n2310  https://www.ebay.com/itm/125903916808?nordt=tr...   May 2, 2023   \n2349  https://www.ebay.com/itm/256045425175?nordt=tr...   May 2, 2023   \n2385  https://www.ebay.com/itm/144888121617?nordt=tr...   May 1, 2023   \n2386  https://www.ebay.com/itm/144893390745?nordt=tr...   May 1, 2023   \n2474  https://www.ebay.com/itm/325477278175?nordt=tr...  Apr 29, 2023   \n2567  https://www.ebay.com/itm/185834273549?nordt=tr...  Apr 27, 2023   \n2568  https://www.ebay.com/itm/185846896677?nordt=tr...  Apr 27, 2023   \n2569  https://www.ebay.com/itm/185834296575?nordt=tr...  Apr 27, 2023   \n2595  https://www.ebay.com/itm/175676148755?nordt=tr...  Apr 27, 2023   \n2654  https://www.ebay.com/itm/314299976248?nordt=tr...  Apr 26, 2023   \n2770  https://www.ebay.com/itm/314488060017?nordt=tr...  Apr 23, 2023   \n2792  https://www.ebay.com/itm/155507913922?nordt=tr...  Apr 23, 2023   \n3005  https://www.ebay.com/itm/165994569814?nordt=tr...  Apr 18, 2023   \n3310  https://www.ebay.com/itm/155473006997?nordt=tr...  Apr 11, 2023   \n3483  https://www.ebay.com/itm/175680869416?nordt=tr...   Apr 8, 2023   \n3722  https://www.ebay.com/itm/313603573658?nordt=tr...   Apr 3, 2023   \n3742  https://www.ebay.com/itm/225501061031?nordt=tr...   Apr 2, 2023   \n3868  https://www.ebay.com/itm/285201927066?nordt=tr...  Mar 31, 2023   \n3886  https://www.ebay.com/itm/185834297338?nordt=tr...  Mar 31, 2023   \n3887  https://www.ebay.com/itm/175669320596?nordt=tr...  Mar 31, 2023   \n3888  https://www.ebay.com/itm/185834277702?nordt=tr...  Mar 31, 2023   \n3909  https://www.ebay.com/itm/175669322888?nordt=tr...  Mar 30, 2023   \n4043  https://www.ebay.com/itm/314408455786?nordt=tr...  Mar 28, 2023   \n4210  https://www.ebay.com/itm/185819429869?nordt=tr...  Mar 25, 2023   \n4372  https://www.ebay.com/itm/225189665801?nordt=tr...  Mar 21, 2023   \n4417  https://www.ebay.com/itm/134489256788?nordt=tr...  Mar 21, 2023   \n4635  https://www.ebay.com/itm/285181972624?nordt=tr...  Mar 16, 2023   \n4662  https://www.ebay.com/itm/185803784565?nordt=tr...  Mar 16, 2023   \n\n                                              Condition    Processor  \\\n119                            For parts or not working          NaN   \n519   For parts or not working: An item that does no...          NaN   \n539                            For parts or not working  Single Core   \n546                            For parts or not working          NaN   \n607                                                Used          NaN   \n611                                                Used          NaN   \n681   For parts or not working: An item that does no...          NaN   \n880   For parts or not working: An item that does no...    Quad Core   \n1442                           For parts or not working          NaN   \n1455  Used: An item that has been used previously. T...          NaN   \n1519  Used: An item that has been used previously. T...          NaN   \n1527  Used: An item that has been used previously. T...          NaN   \n1547                           For parts or not working    Qual Comm   \n1562  For parts or not working: An item that does no...          NaN   \n1610                           For parts or not working          NaN   \n1750                                               Used    Quad Core   \n1822                                               Used          NaN   \n2124  Used: An item that has been used previously. T...  Single Core   \n2145  For parts or not working: An item that does no...  Single Core   \n2220  For parts or not working: An item that does no...    Quad Core   \n2310  For parts or not working: An item that does no...          NaN   \n2349  For parts or not working: An item that does no...          NaN   \n2385  For parts or not working: An item that does no...          NaN   \n2386  For parts or not working: An item that does no...          NaN   \n2474                           For parts or not working          NaN   \n2567                           For parts or not working          NaN   \n2568                           For parts or not working          NaN   \n2569                           For parts or not working          NaN   \n2595                           For parts or not working          NaN   \n2654  New: A brand-new, unused, unopened, undamaged ...    Octa Core   \n2770  For parts or not working: An item that does no...          NaN   \n2792  For parts or not working: An item that does no...          NaN   \n3005  Used: An item that has been used previously. T...          NaN   \n3310  Used: An item that has been used previously. T...          NaN   \n3483                           For parts or not working          NaN   \n3722  For parts or not working: An item that does no...          NaN   \n3742  Used: An item that has been used previously. T...          NaN   \n3868  For parts or not working: An item that does no...    Dual Core   \n3886                           For parts or not working          NaN   \n3887                           For parts or not working          NaN   \n3888                           For parts or not working          NaN   \n3909                           For parts or not working          NaN   \n4043  For parts or not working: An item that does no...          NaN   \n4210  Open box: An item in excellent, new condition ...          NaN   \n4372  Used: An item that has been used previously. T...          NaN   \n4417  Used: An item that has been used previously. T...  Single Core   \n4635                           For parts or not working          NaN   \n4662  For parts or not working: An item that does no...          NaN   \n\n     Screen Size  ...                                       Connectivity  \\\n119          NaN  ...                                                 4G   \n519          NaN  ...                                                NaN   \n539       4.3 in  ...                                                NaN   \n546          NaN  ...                                                 4G   \n607          NaN  ...                                                NaN   \n611          NaN  ...                                                NaN   \n681          NaN  ...                                                NaN   \n880       4.5 in  ...                                          Micro USB   \n1442         NaN  ...                                                NaN   \n1455         NaN  ...                                                NaN   \n1519        1 in  ...                                                NaN   \n1527         NaN  ...                                                NaN   \n1547      5.7 in  ...                                                NaN   \n1562         NaN  ...                                                NaN   \n1610         NaN  ...                                                NaN   \n1750      4.5 in  ...                                   Wi-Fi, Micro USB   \n1822         NaN  ...                                                NaN   \n2124        1 in  ...                                                NaN   \n2145      3.7 in  ...                                          Micro USB   \n2220         NaN  ...                                                NaN   \n2310         NaN  ...                                                NaN   \n2349         NaN  ...                                                 3G   \n2385         NaN  ...                                                NaN   \n2386         NaN  ...                                                NaN   \n2474         NaN  ...                                                NaN   \n2567         NaN  ...                                                NaN   \n2568         NaN  ...                                                NaN   \n2569         NaN  ...                                                NaN   \n2595         NaN  ...                                                NaN   \n2654     5.45 in  ...  2G, 3G, 4G, Bluetooth, GPRS, GPS, LTE, NFC, US...   \n2770         NaN  ...                                          Micro USB   \n2792         NaN  ...                                                NaN   \n3005        6200  ...                                                NaN   \n3310      1.8 in  ...                                                 2G   \n3483         NaN  ...                                                NaN   \n3722         NaN  ...                                                NaN   \n3742         NaN  ...                                                NaN   \n3868        4 in  ...                                                NaN   \n3886         NaN  ...                                                NaN   \n3887         NaN  ...                                                NaN   \n3888         NaN  ...                                                NaN   \n3909         NaN  ...                                                NaN   \n4043         NaN  ...                                          Micro USB   \n4210        6010  ...                                                NaN   \n4372        2 in  ...                                                NaN   \n4417      4.3 in  ...                                                NaN   \n4635     Unknown  ...                                                NaN   \n4662         NaN  ...                                                NaN   \n\n      Style Operating System  \\\n119     NaN              NaN   \n519     NaN              NaN   \n539     Bar              NaN   \n546     NaN              NaN   \n607     NaN              NaN   \n611     NaN              NaN   \n681     NaN              NaN   \n880     NaN              NaN   \n1442    NaN              NaN   \n1455    NaN              NaN   \n1519    NaN              NaN   \n1527    NaN              NaN   \n1547    NaN          Android   \n1562    NaN              NaN   \n1610    NaN              NaN   \n1750    Bar  Windows Phone 8   \n1822    NaN              NaN   \n2124    Bar        Series 40   \n2145    Bar   Windows Mobile   \n2220   Flip          Android   \n2310    NaN              NaN   \n2349    NaN              NaN   \n2385    NaN              NaN   \n2386    NaN              NaN   \n2474    NaN              NaN   \n2567    NaN              NaN   \n2568    NaN              NaN   \n2569   Flip              NaN   \n2595   Flip              NaN   \n2654    Bar          Android   \n2770    NaN   Windows Mobile   \n2792   Flip              NaN   \n3005    NaN              NaN   \n3310    Bar              NaN   \n3483    NaN              NaN   \n3722    Bar              NaN   \n3742    NaN              NaN   \n3868    Bar              NaN   \n3886    NaN              NaN   \n3887    NaN              NaN   \n3888    NaN              NaN   \n3909    NaN              NaN   \n4043    NaN   Windows Mobile   \n4210    NaN              NaN   \n4372    Bar              NaN   \n4417    Bar              NaN   \n4635  Slate              NaN   \n4662    NaN              NaN   \n\n                                               Features Storage Capacity  \\\n119                                                 NaN              NaN   \n519                                                 NaN              NaN   \n539                                                 NaN            16 GB   \n546                                                 NaN              NaN   \n607                                                 NaN             2 GB   \n611                                                 NaN             2 GB   \n681                                                 NaN              NaN   \n880                                                 NaN             8 GB   \n1442                                                NaN             1 MB   \n1455                                                NaN            32 GB   \n1519                                                NaN             3 MB   \n1527                                                NaN   Does Not Apply   \n1547                                                NaN            16 GB   \n1562                                                NaN   Does Not Apply   \n1610                                                NaN            32 GB   \n1750                                      Wi-Fi Capable             9 KB   \n1822                                                NaN          unknown   \n2124                                                NaN              NaN   \n2145                                             Camera            16 GB   \n2220                                                NaN             7 MB   \n2310                                                NaN            16 GB   \n2349                                                NaN              8GB   \n2385                                                NaN              NaN   \n2386                                                NaN              NaN   \n2474                                                NaN              NaN   \n2567                                                NaN             4 MB   \n2568                                                NaN            20 MB   \n2569                                                NaN            11 MB   \n2595                                                NaN            11 MB   \n2654  Dust-Resistant, Nano SIM, Rugged, Water-Resistant            64 GB   \n2770                                                NaN          Unknown   \n2792                                                NaN              NaN   \n3005                                                NaN   Does not apply   \n3310  FM Radio, sms, Exchangeable color covers, Orga...               No   \n3483                                                NaN             9 KB   \n3722                                                NaN           Unkown   \n3742                                                NaN   Does Not Apply   \n3868                                                NaN             8 GB   \n3886                                                NaN            10 MB   \n3887                                                NaN           128 MB   \n3888                                                NaN             2 GB   \n3909                                                NaN            20 KB   \n4043                                                NaN          Unknown   \n4210                                                NaN              NaN   \n4372                                                NaN             9 KB   \n4417                                                NaN            16 GB   \n4635                                                NaN             3 MB   \n4662                                                NaN          Unknown   \n\n     Camera Resolution     RAM  \\\n119                NaN     NaN   \n519                NaN     NaN   \n539             8.0 MP     NaN   \n546                NaN     NaN   \n607                NaN     NaN   \n611                NaN     NaN   \n681                NaN     NaN   \n880             5.0 MP     NaN   \n1442               NaN     NaN   \n1455               NaN     NaN   \n1519               NaN     NaN   \n1527               NaN     NaN   \n1547            8.0 MP    1 GB   \n1562               NaN     NaN   \n1610               NaN     NaN   \n1750            5.0 MP  512 MB   \n1822               NaN     NaN   \n2124    Not Applicable     NaN   \n2145            8.0 MP     NaN   \n2220            2.0 MP     NaN   \n2310               NaN     NaN   \n2349               NaN     NaN   \n2385               NaN     NaN   \n2386               NaN     NaN   \n2474               NaN     NaN   \n2567               NaN     NaN   \n2568               NaN     NaN   \n2569               NaN     NaN   \n2595               NaN     NaN   \n2654           24.0 MP    4 GB   \n2770               NaN     NaN   \n2792               NaN     NaN   \n3005               NaN     NaN   \n3310    Not Applicable     NaN   \n3483               NaN     NaN   \n3722               NaN     NaN   \n3742               NaN     NaN   \n3868            5.0 MP     NaN   \n3886               NaN     NaN   \n3887               NaN     NaN   \n3888               NaN     NaN   \n3909               NaN     NaN   \n4043               NaN     NaN   \n4210               NaN     NaN   \n4372               NaN     NaN   \n4417            8.0 MP     NaN   \n4635               NaN     NaN   \n4662               NaN     NaN   \n\n                                           Seller Notes          Contract  \\\n119   “These 3 phones have functional issues. NONE h...               NaN   \n519                                                 NaN               NaN   \n539   “Device is in POOR used cosmetic condition. De...               NaN   \n546   “These 5 phones have issues.  Several turn on,...               NaN   \n607   “Used mobile phones. UNTESTED! Lot of 5x. Sell...               NaN   \n611   “Used mobile phones. UNTESTED! Lot of 5x. Sell...               NaN   \n681                                                 NaN               NaN   \n880                                                 NaN               NaN   \n1442             “PHONE FOR SPARES REPAIRS PARTS donor”               NaN   \n1455                                                NaN               NaN   \n1519                                                NaN               NaN   \n1527                                                NaN               NaN   \n1547  “☀️SEMI NEW: DEFECTIVE EQUIPMENT: MORE INFORMA...               NaN   \n1562                                                NaN               NaN   \n1610  “HAS POWER. DO NOT TURN ON, STUCK IN LOADING. ...               NaN   \n1750                               “Tested and working”  Without Contract   \n1822  “I dunno if they work they are my parents old ...               NaN   \n2124                                                NaN  Without Contract   \n2145                                                NaN               NaN   \n2220                                                NaN           Prepaid   \n2310                                                NaN               NaN   \n2349                                                NaN               NaN   \n2385                                                NaN               NaN   \n2386                                                NaN               NaN   \n2474  “Does not include battery. Does not include th...               NaN   \n2567  “Untested and unknown if powers on or not. Cle...               NaN   \n2568  “Untested and unknown if powers on or not. Cle...               NaN   \n2569  “Missing battery/back plastic and does not com...               NaN   \n2595  “Missing battery/back plastic and does not com...               NaN   \n2654                                                NaN  Without Contract   \n2770                                                NaN               NaN   \n2792                                                NaN               NaN   \n3005                                                NaN               NaN   \n3310                                                NaN  Without Contract   \n3483  “Untested and unknown if powers on or not. Cle...               NaN   \n3722                                                NaN  Without Contract   \n3742                                                NaN               NaN   \n3868                                                NaN               NaN   \n3886  “Missing battery/back plastic and does not com...               NaN   \n3887  “Untested and unknown if powers on or not. Cle...               NaN   \n3888  “Untested and unknown if powers on or not. Cle...               NaN   \n3909  “Untested and unknown if powers on or not. Cle...               NaN   \n4043                                                NaN               NaN   \n4210                                                NaN               NaN   \n4372                                                NaN               NaN   \n4417                                                NaN               NaN   \n4635  “Please look at pictures for the item's condit...  Without Contract   \n4662                                                NaN               NaN   \n\n                                                    MPN  \n119                                                 NaN  \n519                                                 NaN  \n539            65375, LUMIA900ATT-CYAN, LUMIA900ATTCYAN  \n546                                                 NaN  \n607                                                 NaN  \n611                                                 NaN  \n681                                                5165  \n880                                             CPLS115  \n1442                                                NaN  \n1455                                                NaN  \n1519  2610, 2610BLKTMB, NOKIA 2610, NO_CARRIER26349,...  \n1527                                                NaN  \n1547                                                NaN  \n1562                                                NaN  \n1610                                                NaN  \n1750                                             RM-975  \n1822                                                NaN  \n2124                                             No MPN  \n2145                                                NaN  \n2220                                                NaN  \n2310                                                NaN  \n2349                                                NaN  \n2385                                                NaN  \n2386                                                NaN  \n2474                                                NaN  \n2567                                                NaN  \n2568                                                NaN  \n2569                                                NaN  \n2595                                                NaN  \n2654                         fossibot rugged smartphone  \n2770                                                NaN  \n2792                                                NaN  \n3005                                                NaN  \n3310                                         Nokia 1616  \n3483                                                NaN  \n3722                                     Does not apply  \n3742                                                NaN  \n3868                                                NaN  \n3886                                                NaN  \n3887                                                NaN  \n3888                                                NaN  \n3909                                                NaN  \n4043                                                NaN  \n4210                                                NaN  \n4372                                                NaN  \n4417           65375, LUMIA900ATT-CYAN, LUMIA900ATTCYAN  \n4635                                               6030  \n4662                                                NaN  \n\n[48 rows x 27 columns]",
      "text/html": "<div>\n<style scoped>\n    .dataframe tbody tr th:only-of-type {\n        vertical-align: middle;\n    }\n\n    .dataframe tbody tr th {\n        vertical-align: top;\n    }\n\n    .dataframe thead th {\n        text-align: right;\n    }\n</style>\n<table border=\"1\" class=\"dataframe\">\n  <thead>\n    <tr style=\"text-align: right;\">\n      <th></th>\n      <th>Title</th>\n      <th>Price</th>\n      <th>Shipping_cost</th>\n      <th>Sales_Count</th>\n      <th>Sales_Value</th>\n      <th>Link</th>\n      <th>Last_Sale</th>\n      <th>Condition</th>\n      <th>Processor</th>\n      <th>Screen Size</th>\n      <th>...</th>\n      <th>Connectivity</th>\n      <th>Style</th>\n      <th>Operating System</th>\n      <th>Features</th>\n      <th>Storage Capacity</th>\n      <th>Camera Resolution</th>\n      <th>RAM</th>\n      <th>Seller Notes</th>\n      <th>Contract</th>\n      <th>MPN</th>\n    </tr>\n  </thead>\n  <tbody>\n    <tr>\n      <th>119</th>\n      <td>Lot of 3 Nokia Cell Phones -Black/Blue/White -...</td>\n      <td>2.25</td>\n      <td>10.95</td>\n      <td>1</td>\n      <td>2.25</td>\n      <td>https://www.ebay.com/itm/385660232777?nordt=tr...</td>\n      <td>Jun 11, 2023</td>\n      <td>For parts or not working</td>\n      <td>NaN</td>\n      <td>NaN</td>\n      <td>...</td>\n      <td>4G</td>\n      <td>NaN</td>\n      <td>NaN</td>\n      <td>NaN</td>\n      <td>NaN</td>\n      <td>NaN</td>\n      <td>NaN</td>\n      <td>“These 3 phones have functional issues. NONE h...</td>\n      <td>NaN</td>\n      <td>NaN</td>\n    </tr>\n    <tr>\n      <th>519</th>\n      <td>Nokia Lumia 635 RM-975 - Black ( AT&amp;T ) - For ...</td>\n      <td>3.00</td>\n      <td>5.99</td>\n      <td>1</td>\n      <td>3.00</td>\n      <td>https://www.ebay.com/itm/394528132570?nordt=tr...</td>\n      <td>Jun 5, 2023</td>\n      <td>For parts or not working: An item that does no...</td>\n      <td>NaN</td>\n      <td>NaN</td>\n      <td>...</td>\n      <td>NaN</td>\n      <td>NaN</td>\n      <td>NaN</td>\n      <td>NaN</td>\n      <td>NaN</td>\n      <td>NaN</td>\n      <td>NaN</td>\n      <td>NaN</td>\n      <td>NaN</td>\n      <td>NaN</td>\n    </tr>\n    <tr>\n      <th>539</th>\n      <td>Nokia Lumia 900 AT&amp;T Blue Cell Phone BROKEN B0433</td>\n      <td>3.61</td>\n      <td>0.00</td>\n      <td>1</td>\n      <td>3.61</td>\n      <td>https://www.ebay.com/itm/125879700948?nordt=tr...</td>\n      <td>Jun 5, 2023</td>\n      <td>For parts or not working</td>\n      <td>Single Core</td>\n      <td>4.3 in</td>\n      <td>...</td>\n      <td>NaN</td>\n      <td>Bar</td>\n      <td>NaN</td>\n      <td>NaN</td>\n      <td>16 GB</td>\n      <td>8.0 MP</td>\n      <td>NaN</td>\n      <td>“Device is in POOR used cosmetic condition. De...</td>\n      <td>NaN</td>\n      <td>65375, LUMIA900ATT-CYAN, LUMIA900ATTCYAN</td>\n    </tr>\n    <tr>\n      <th>546</th>\n      <td>Lot of 5 Nokia 225 4G Cell Phones - Black - NO...</td>\n      <td>0.99</td>\n      <td>14.99</td>\n      <td>1</td>\n      <td>0.99</td>\n      <td>https://www.ebay.com/itm/155578160765?nordt=tr...</td>\n      <td>Jun 5, 2023</td>\n      <td>For parts or not working</td>\n      <td>NaN</td>\n      <td>NaN</td>\n      <td>...</td>\n      <td>4G</td>\n      <td>NaN</td>\n      <td>NaN</td>\n      <td>NaN</td>\n      <td>NaN</td>\n      <td>NaN</td>\n      <td>NaN</td>\n      <td>“These 5 phones have issues.  Several turn on,...</td>\n      <td>NaN</td>\n      <td>NaN</td>\n    </tr>\n    <tr>\n      <th>607</th>\n      <td>5x Job Lot Bundle Mobile Phones HTC Nokia Moto...</td>\n      <td>3.25</td>\n      <td>13.00</td>\n      <td>1</td>\n      <td>3.25</td>\n      <td>https://www.ebay.com/itm/285300934177?nordt=tr...</td>\n      <td>Jun 4, 2023</td>\n      <td>Used</td>\n      <td>NaN</td>\n      <td>NaN</td>\n      <td>...</td>\n      <td>NaN</td>\n      <td>NaN</td>\n      <td>NaN</td>\n      <td>NaN</td>\n      <td>2 GB</td>\n      <td>NaN</td>\n      <td>NaN</td>\n      <td>“Used mobile phones. UNTESTED! Lot of 5x. Sell...</td>\n      <td>NaN</td>\n      <td>NaN</td>\n    </tr>\n    <tr>\n      <th>611</th>\n      <td>5x Job Lot Bundle Mobile Phones Nokia Motorola...</td>\n      <td>2.25</td>\n      <td>13.00</td>\n      <td>1</td>\n      <td>2.25</td>\n      <td>https://www.ebay.com/itm/285300606332?nordt=tr...</td>\n      <td>Jun 4, 2023</td>\n      <td>Used</td>\n      <td>NaN</td>\n      <td>NaN</td>\n      <td>...</td>\n      <td>NaN</td>\n      <td>NaN</td>\n      <td>NaN</td>\n      <td>NaN</td>\n      <td>2 GB</td>\n      <td>NaN</td>\n      <td>NaN</td>\n      <td>“Used mobile phones. UNTESTED! Lot of 5x. Sell...</td>\n      <td>NaN</td>\n      <td>NaN</td>\n    </tr>\n    <tr>\n      <th>681</th>\n      <td>Nokia 5165 And 5160i - Cellular Phone Lot (4)....</td>\n      <td>1.25</td>\n      <td>12.45</td>\n      <td>1</td>\n      <td>1.25</td>\n      <td>https://www.ebay.com/itm/185914780448?nordt=tr...</td>\n      <td>Jun 2, 2023</td>\n      <td>For parts or not working: An item that does no...</td>\n      <td>NaN</td>\n      <td>NaN</td>\n      <td>...</td>\n      <td>NaN</td>\n      <td>NaN</td>\n      <td>NaN</td>\n      <td>NaN</td>\n      <td>NaN</td>\n      <td>NaN</td>\n      <td>NaN</td>\n      <td>NaN</td>\n      <td>NaN</td>\n      <td>5165</td>\n    </tr>\n    <tr>\n      <th>880</th>\n      <td>Nokia Lumia 635 For Parts</td>\n      <td>2.00</td>\n      <td>4.99</td>\n      <td>1</td>\n      <td>2.00</td>\n      <td>https://www.ebay.com/itm/394433455667?nordt=tr...</td>\n      <td>May 30, 2023</td>\n      <td>For parts or not working: An item that does no...</td>\n      <td>Quad Core</td>\n      <td>4.5 in</td>\n      <td>...</td>\n      <td>Micro USB</td>\n      <td>NaN</td>\n      <td>NaN</td>\n      <td>NaN</td>\n      <td>8 GB</td>\n      <td>5.0 MP</td>\n      <td>NaN</td>\n      <td>NaN</td>\n      <td>NaN</td>\n      <td>CPLS115</td>\n    </tr>\n    <tr>\n      <th>1442</th>\n      <td>Nokia 2600 PHONE FOR SPARES REPAIRS PARTS</td>\n      <td>1.00</td>\n      <td>9.50</td>\n      <td>1</td>\n      <td>1.00</td>\n      <td>https://www.ebay.com/itm/154596052666?nordt=tr...</td>\n      <td>May 19, 2023</td>\n      <td>For parts or not working</td>\n      <td>NaN</td>\n      <td>NaN</td>\n      <td>...</td>\n      <td>NaN</td>\n      <td>NaN</td>\n      <td>NaN</td>\n      <td>NaN</td>\n      <td>1 MB</td>\n      <td>NaN</td>\n      <td>NaN</td>\n      <td>“PHONE FOR SPARES REPAIRS PARTS donor”</td>\n      <td>NaN</td>\n      <td>NaN</td>\n    </tr>\n    <tr>\n      <th>1455</th>\n      <td>JUNK LOT Of #3 Vintage Cellphones Nokia/Motoro...</td>\n      <td>0.99</td>\n      <td>10.00</td>\n      <td>1</td>\n      <td>0.99</td>\n      <td>https://www.ebay.com/itm/295695170802?nordt=tr...</td>\n      <td>May 19, 2023</td>\n      <td>Used: An item that has been used previously. T...</td>\n      <td>NaN</td>\n      <td>NaN</td>\n      <td>...</td>\n      <td>NaN</td>\n      <td>NaN</td>\n      <td>NaN</td>\n      <td>NaN</td>\n      <td>32 GB</td>\n      <td>NaN</td>\n      <td>NaN</td>\n      <td>NaN</td>\n      <td>NaN</td>\n      <td>NaN</td>\n    </tr>\n    <tr>\n      <th>1519</th>\n      <td>Nokia 2610 - Black (Unlocked) Cellular Phone</td>\n      <td>1.00</td>\n      <td>5.00</td>\n      <td>1</td>\n      <td>1.00</td>\n      <td>https://www.ebay.com/itm/155480820219?nordt=tr...</td>\n      <td>May 18, 2023</td>\n      <td>Used: An item that has been used previously. T...</td>\n      <td>NaN</td>\n      <td>1 in</td>\n      <td>...</td>\n      <td>NaN</td>\n      <td>NaN</td>\n      <td>NaN</td>\n      <td>NaN</td>\n      <td>3 MB</td>\n      <td>NaN</td>\n      <td>NaN</td>\n      <td>NaN</td>\n      <td>NaN</td>\n      <td>2610, 2610BLKTMB, NOKIA 2610, NO_CARRIER26349,...</td>\n    </tr>\n    <tr>\n      <th>1527</th>\n      <td>Nokia 5165 (CIngular) Cell Phone - Vintage Col...</td>\n      <td>3.50</td>\n      <td>0.00</td>\n      <td>1</td>\n      <td>3.50</td>\n      <td>https://www.ebay.com/itm/256072477678?nordt=tr...</td>\n      <td>May 18, 2023</td>\n      <td>Used: An item that has been used previously. T...</td>\n      <td>NaN</td>\n      <td>NaN</td>\n      <td>...</td>\n      <td>NaN</td>\n      <td>NaN</td>\n      <td>NaN</td>\n      <td>NaN</td>\n      <td>Does Not Apply</td>\n      <td>NaN</td>\n      <td>NaN</td>\n      <td>NaN</td>\n      <td>NaN</td>\n      <td>NaN</td>\n    </tr>\n    <tr>\n      <th>1547</th>\n      <td>Nokia 1.3 DEFECTIVE #M6</td>\n      <td>1.00</td>\n      <td>25.00</td>\n      <td>1</td>\n      <td>1.00</td>\n      <td>https://www.ebay.com/itm/185887221382?nordt=tr...</td>\n      <td>May 18, 2023</td>\n      <td>For parts or not working</td>\n      <td>Qual Comm</td>\n      <td>5.7 in</td>\n      <td>...</td>\n      <td>NaN</td>\n      <td>NaN</td>\n      <td>Android</td>\n      <td>NaN</td>\n      <td>16 GB</td>\n      <td>8.0 MP</td>\n      <td>1 GB</td>\n      <td>“☀️SEMI NEW: DEFECTIVE EQUIPMENT: MORE INFORMA...</td>\n      <td>NaN</td>\n      <td>NaN</td>\n    </tr>\n    <tr>\n      <th>1562</th>\n      <td>Nokia 3360  Cell Phone - Vintage Collector Parts</td>\n      <td>3.00</td>\n      <td>6.65</td>\n      <td>1</td>\n      <td>3.00</td>\n      <td>https://www.ebay.com/itm/364165962862?nordt=tr...</td>\n      <td>May 17, 2023</td>\n      <td>For parts or not working: An item that does no...</td>\n      <td>NaN</td>\n      <td>NaN</td>\n      <td>...</td>\n      <td>NaN</td>\n      <td>NaN</td>\n      <td>NaN</td>\n      <td>NaN</td>\n      <td>Does Not Apply</td>\n      <td>NaN</td>\n      <td>NaN</td>\n      <td>NaN</td>\n      <td>NaN</td>\n      <td>NaN</td>\n    </tr>\n    <tr>\n      <th>1610</th>\n      <td>Nokia 1.4 Android 10 (Go Edition) Unlocked 2/3...</td>\n      <td>3.25</td>\n      <td>3.38</td>\n      <td>1</td>\n      <td>3.25</td>\n      <td>https://www.ebay.com/itm/374687941860?nordt=tr...</td>\n      <td>May 16, 2023</td>\n      <td>For parts or not working</td>\n      <td>NaN</td>\n      <td>NaN</td>\n      <td>...</td>\n      <td>NaN</td>\n      <td>NaN</td>\n      <td>NaN</td>\n      <td>NaN</td>\n      <td>32 GB</td>\n      <td>NaN</td>\n      <td>NaN</td>\n      <td>“HAS POWER. DO NOT TURN ON, STUCK IN LOADING. ...</td>\n      <td>NaN</td>\n      <td>NaN</td>\n    </tr>\n    <tr>\n      <th>1750</th>\n      <td>Nokia Lumia 635 (AT&amp;T) 4G LTE Smartphone Windo...</td>\n      <td>0.99</td>\n      <td>11.20</td>\n      <td>1</td>\n      <td>0.99</td>\n      <td>https://www.ebay.com/itm/155469402654?nordt=tr...</td>\n      <td>May 14, 2023</td>\n      <td>Used</td>\n      <td>Quad Core</td>\n      <td>4.5 in</td>\n      <td>...</td>\n      <td>Wi-Fi, Micro USB</td>\n      <td>Bar</td>\n      <td>Windows Phone 8</td>\n      <td>Wi-Fi Capable</td>\n      <td>9 KB</td>\n      <td>5.0 MP</td>\n      <td>512 MB</td>\n      <td>“Tested and working”</td>\n      <td>Without Contract</td>\n      <td>RM-975</td>\n    </tr>\n    <tr>\n      <th>1822</th>\n      <td>Vintage Nokia 6340i blac and gold  Type NPM-10...</td>\n      <td>3.25</td>\n      <td>0.00</td>\n      <td>1</td>\n      <td>3.25</td>\n      <td>https://www.ebay.com/itm/404276033480?nordt=tr...</td>\n      <td>May 12, 2023</td>\n      <td>Used</td>\n      <td>NaN</td>\n      <td>NaN</td>\n      <td>...</td>\n      <td>NaN</td>\n      <td>NaN</td>\n      <td>NaN</td>\n      <td>NaN</td>\n      <td>unknown</td>\n      <td>NaN</td>\n      <td>NaN</td>\n      <td>“I dunno if they work they are my parents old ...</td>\n      <td>NaN</td>\n      <td>NaN</td>\n    </tr>\n    <tr>\n      <th>2124</th>\n      <td>2 Nokia 6010 Cellphones Silver Black Used Unte...</td>\n      <td>3.95</td>\n      <td>6.65</td>\n      <td>1</td>\n      <td>3.95</td>\n      <td>https://www.ebay.com/itm/115791775565?nordt=tr...</td>\n      <td>May 6, 2023</td>\n      <td>Used: An item that has been used previously. T...</td>\n      <td>Single Core</td>\n      <td>1 in</td>\n      <td>...</td>\n      <td>NaN</td>\n      <td>Bar</td>\n      <td>Series 40</td>\n      <td>NaN</td>\n      <td>NaN</td>\n      <td>Not Applicable</td>\n      <td>NaN</td>\n      <td>NaN</td>\n      <td>Without Contract</td>\n      <td>No MPN</td>\n    </tr>\n    <tr>\n      <th>2145</th>\n      <td>3x Nokia Lumia 800 - Black Cyan Blue - Used Sm...</td>\n      <td>3.50</td>\n      <td>7.50</td>\n      <td>1</td>\n      <td>3.50</td>\n      <td>https://www.ebay.com/itm/295613547925?nordt=tr...</td>\n      <td>May 6, 2023</td>\n      <td>For parts or not working: An item that does no...</td>\n      <td>Single Core</td>\n      <td>3.7 in</td>\n      <td>...</td>\n      <td>Micro USB</td>\n      <td>Bar</td>\n      <td>Windows Mobile</td>\n      <td>Camera</td>\n      <td>16 GB</td>\n      <td>8.0 MP</td>\n      <td>NaN</td>\n      <td>NaN</td>\n      <td>NaN</td>\n      <td>NaN</td>\n    </tr>\n    <tr>\n      <th>2220</th>\n      <td>4 x Verizon Old School Vintage Flip Cell Phone...</td>\n      <td>0.99</td>\n      <td>8.22</td>\n      <td>1</td>\n      <td>0.99</td>\n      <td>https://www.ebay.com/itm/394593308594?nordt=tr...</td>\n      <td>May 4, 2023</td>\n      <td>For parts or not working: An item that does no...</td>\n      <td>Quad Core</td>\n      <td>NaN</td>\n      <td>...</td>\n      <td>NaN</td>\n      <td>Flip</td>\n      <td>Android</td>\n      <td>NaN</td>\n      <td>7 MB</td>\n      <td>2.0 MP</td>\n      <td>NaN</td>\n      <td>NaN</td>\n      <td>Prepaid</td>\n      <td>NaN</td>\n    </tr>\n    <tr>\n      <th>2310</th>\n      <td>Nokia Lumia 910 Windows Phone</td>\n      <td>1.00</td>\n      <td>6.45</td>\n      <td>1</td>\n      <td>1.00</td>\n      <td>https://www.ebay.com/itm/125903916808?nordt=tr...</td>\n      <td>May 2, 2023</td>\n      <td>For parts or not working: An item that does no...</td>\n      <td>NaN</td>\n      <td>NaN</td>\n      <td>...</td>\n      <td>NaN</td>\n      <td>NaN</td>\n      <td>NaN</td>\n      <td>NaN</td>\n      <td>16 GB</td>\n      <td>NaN</td>\n      <td>NaN</td>\n      <td>NaN</td>\n      <td>NaN</td>\n      <td>NaN</td>\n    </tr>\n    <tr>\n      <th>2349</th>\n      <td>Nokia Lumia 520 3G GSM Smartphone RM-915 - Bla...</td>\n      <td>1.20</td>\n      <td>5.65</td>\n      <td>1</td>\n      <td>1.20</td>\n      <td>https://www.ebay.com/itm/256045425175?nordt=tr...</td>\n      <td>May 2, 2023</td>\n      <td>For parts or not working: An item that does no...</td>\n      <td>NaN</td>\n      <td>NaN</td>\n      <td>...</td>\n      <td>3G</td>\n      <td>NaN</td>\n      <td>NaN</td>\n      <td>NaN</td>\n      <td>8GB</td>\n      <td>NaN</td>\n      <td>NaN</td>\n      <td>NaN</td>\n      <td>NaN</td>\n      <td>NaN</td>\n    </tr>\n    <tr>\n      <th>2385</th>\n      <td>Nokia 6015i Verizon Gray - ASIS (JX-1444) V2-3B</td>\n      <td>4.00</td>\n      <td>0.00</td>\n      <td>1</td>\n      <td>4.00</td>\n      <td>https://www.ebay.com/itm/144888121617?nordt=tr...</td>\n      <td>May 1, 2023</td>\n      <td>For parts or not working: An item that does no...</td>\n      <td>NaN</td>\n      <td>NaN</td>\n      <td>...</td>\n      <td>NaN</td>\n      <td>NaN</td>\n      <td>NaN</td>\n      <td>NaN</td>\n      <td>NaN</td>\n      <td>NaN</td>\n      <td>NaN</td>\n      <td>NaN</td>\n      <td>NaN</td>\n      <td>NaN</td>\n    </tr>\n    <tr>\n      <th>2386</th>\n      <td>Nokia 3589i Verizon Blue- ASIS (JX-1644) V2-5D</td>\n      <td>4.00</td>\n      <td>0.00</td>\n      <td>1</td>\n      <td>4.00</td>\n      <td>https://www.ebay.com/itm/144893390745?nordt=tr...</td>\n      <td>May 1, 2023</td>\n      <td>For parts or not working: An item that does no...</td>\n      <td>NaN</td>\n      <td>NaN</td>\n      <td>...</td>\n      <td>NaN</td>\n      <td>NaN</td>\n      <td>NaN</td>\n      <td>NaN</td>\n      <td>NaN</td>\n      <td>NaN</td>\n      <td>NaN</td>\n      <td>NaN</td>\n      <td>NaN</td>\n      <td>NaN</td>\n    </tr>\n    <tr>\n      <th>2474</th>\n      <td>Nokia Lumia 530 / RM-1018 - Black ( Unknown GS...</td>\n      <td>3.59</td>\n      <td>5.99</td>\n      <td>1</td>\n      <td>3.59</td>\n      <td>https://www.ebay.com/itm/325477278175?nordt=tr...</td>\n      <td>Apr 29, 2023</td>\n      <td>For parts or not working</td>\n      <td>NaN</td>\n      <td>NaN</td>\n      <td>...</td>\n      <td>NaN</td>\n      <td>NaN</td>\n      <td>NaN</td>\n      <td>NaN</td>\n      <td>NaN</td>\n      <td>NaN</td>\n      <td>NaN</td>\n      <td>“Does not include battery. Does not include th...</td>\n      <td>NaN</td>\n      <td>NaN</td>\n    </tr>\n    <tr>\n      <th>2567</th>\n      <td>Nokia 1600 - Silver Cellular Phone</td>\n      <td>2.00</td>\n      <td>0.00</td>\n      <td>1</td>\n      <td>2.00</td>\n      <td>https://www.ebay.com/itm/185834273549?nordt=tr...</td>\n      <td>Apr 27, 2023</td>\n      <td>For parts or not working</td>\n      <td>NaN</td>\n      <td>NaN</td>\n      <td>...</td>\n      <td>NaN</td>\n      <td>NaN</td>\n      <td>NaN</td>\n      <td>NaN</td>\n      <td>4 MB</td>\n      <td>NaN</td>\n      <td>NaN</td>\n      <td>“Untested and unknown if powers on or not. Cle...</td>\n      <td>NaN</td>\n      <td>NaN</td>\n    </tr>\n    <tr>\n      <th>2568</th>\n      <td>Nokia 3595 - Brown (T-Mobile) Cellular Phone</td>\n      <td>2.00</td>\n      <td>0.00</td>\n      <td>1</td>\n      <td>2.00</td>\n      <td>https://www.ebay.com/itm/185846896677?nordt=tr...</td>\n      <td>Apr 27, 2023</td>\n      <td>For parts or not working</td>\n      <td>NaN</td>\n      <td>NaN</td>\n      <td>...</td>\n      <td>NaN</td>\n      <td>NaN</td>\n      <td>NaN</td>\n      <td>NaN</td>\n      <td>20 MB</td>\n      <td>NaN</td>\n      <td>NaN</td>\n      <td>“Untested and unknown if powers on or not. Cle...</td>\n      <td>NaN</td>\n      <td>NaN</td>\n    </tr>\n    <tr>\n      <th>2569</th>\n      <td>Nokia 6133 - Black (T-Mobile) Flip Phone</td>\n      <td>2.00</td>\n      <td>0.00</td>\n      <td>1</td>\n      <td>2.00</td>\n      <td>https://www.ebay.com/itm/185834296575?nordt=tr...</td>\n      <td>Apr 27, 2023</td>\n      <td>For parts or not working</td>\n      <td>NaN</td>\n      <td>NaN</td>\n      <td>...</td>\n      <td>NaN</td>\n      <td>Flip</td>\n      <td>NaN</td>\n      <td>NaN</td>\n      <td>11 MB</td>\n      <td>NaN</td>\n      <td>NaN</td>\n      <td>“Missing battery/back plastic and does not com...</td>\n      <td>NaN</td>\n      <td>NaN</td>\n    </tr>\n    <tr>\n      <th>2595</th>\n      <td>Nokia 3555b - Blue (T-Mobile) Flip Phone</td>\n      <td>2.00</td>\n      <td>0.00</td>\n      <td>1</td>\n      <td>2.00</td>\n      <td>https://www.ebay.com/itm/175676148755?nordt=tr...</td>\n      <td>Apr 27, 2023</td>\n      <td>For parts or not working</td>\n      <td>NaN</td>\n      <td>NaN</td>\n      <td>...</td>\n      <td>NaN</td>\n      <td>Flip</td>\n      <td>NaN</td>\n      <td>NaN</td>\n      <td>11 MB</td>\n      <td>NaN</td>\n      <td>NaN</td>\n      <td>“Missing battery/back plastic and does not com...</td>\n      <td>NaN</td>\n      <td>NaN</td>\n    </tr>\n    <tr>\n      <th>2654</th>\n      <td>USB-C fast charging cable Type-C data cable 3F...</td>\n      <td>0.99</td>\n      <td>0.00</td>\n      <td>22</td>\n      <td>21.78</td>\n      <td>https://www.ebay.com/itm/314299976248?nordt=tr...</td>\n      <td>Apr 26, 2023</td>\n      <td>New: A brand-new, unused, unopened, undamaged ...</td>\n      <td>Octa Core</td>\n      <td>5.45 in</td>\n      <td>...</td>\n      <td>2G, 3G, 4G, Bluetooth, GPRS, GPS, LTE, NFC, US...</td>\n      <td>Bar</td>\n      <td>Android</td>\n      <td>Dust-Resistant, Nano SIM, Rugged, Water-Resistant</td>\n      <td>64 GB</td>\n      <td>24.0 MP</td>\n      <td>4 GB</td>\n      <td>NaN</td>\n      <td>Without Contract</td>\n      <td>fossibot rugged smartphone</td>\n    </tr>\n    <tr>\n      <th>2770</th>\n      <td>Microsoft Nokia Lumia 521 phone- DOESN’T WORK</td>\n      <td>2.00</td>\n      <td>5.70</td>\n      <td>1</td>\n      <td>2.00</td>\n      <td>https://www.ebay.com/itm/314488060017?nordt=tr...</td>\n      <td>Apr 23, 2023</td>\n      <td>For parts or not working: An item that does no...</td>\n      <td>NaN</td>\n      <td>NaN</td>\n      <td>...</td>\n      <td>Micro USB</td>\n      <td>NaN</td>\n      <td>Windows Mobile</td>\n      <td>NaN</td>\n      <td>Unknown</td>\n      <td>NaN</td>\n      <td>NaN</td>\n      <td>NaN</td>\n      <td>NaN</td>\n      <td>NaN</td>\n    </tr>\n    <tr>\n      <th>2792</th>\n      <td>Nokia 6085 / 6085h - Black and Silver - ( AT&amp;T...</td>\n      <td>1.25</td>\n      <td>0.00</td>\n      <td>1</td>\n      <td>1.25</td>\n      <td>https://www.ebay.com/itm/155507913922?nordt=tr...</td>\n      <td>Apr 23, 2023</td>\n      <td>For parts or not working: An item that does no...</td>\n      <td>NaN</td>\n      <td>NaN</td>\n      <td>...</td>\n      <td>NaN</td>\n      <td>Flip</td>\n      <td>NaN</td>\n      <td>NaN</td>\n      <td>NaN</td>\n      <td>NaN</td>\n      <td>NaN</td>\n      <td>NaN</td>\n      <td>NaN</td>\n      <td>NaN</td>\n    </tr>\n    <tr>\n      <th>3005</th>\n      <td>Nokia 6200 (AT&amp;T) Vintage Cell Phone *For Part...</td>\n      <td>3.00</td>\n      <td>5.60</td>\n      <td>1</td>\n      <td>3.00</td>\n      <td>https://www.ebay.com/itm/165994569814?nordt=tr...</td>\n      <td>Apr 18, 2023</td>\n      <td>Used: An item that has been used previously. T...</td>\n      <td>NaN</td>\n      <td>6200</td>\n      <td>...</td>\n      <td>NaN</td>\n      <td>NaN</td>\n      <td>NaN</td>\n      <td>NaN</td>\n      <td>Does not apply</td>\n      <td>NaN</td>\n      <td>NaN</td>\n      <td>NaN</td>\n      <td>NaN</td>\n      <td>NaN</td>\n    </tr>\n    <tr>\n      <th>3310</th>\n      <td>Nokia 1616 Cell Phone  - Black Basic Button Ea...</td>\n      <td>0.99</td>\n      <td>11.45</td>\n      <td>1</td>\n      <td>0.99</td>\n      <td>https://www.ebay.com/itm/155473006997?nordt=tr...</td>\n      <td>Apr 11, 2023</td>\n      <td>Used: An item that has been used previously. T...</td>\n      <td>NaN</td>\n      <td>1.8 in</td>\n      <td>...</td>\n      <td>2G</td>\n      <td>Bar</td>\n      <td>NaN</td>\n      <td>FM Radio, sms, Exchangeable color covers, Orga...</td>\n      <td>No</td>\n      <td>Not Applicable</td>\n      <td>NaN</td>\n      <td>NaN</td>\n      <td>Without Contract</td>\n      <td>Nokia 1616</td>\n    </tr>\n    <tr>\n      <th>3483</th>\n      <td>Nokia RM-44 - Gray Cellular Phone</td>\n      <td>2.00</td>\n      <td>0.00</td>\n      <td>1</td>\n      <td>2.00</td>\n      <td>https://www.ebay.com/itm/175680869416?nordt=tr...</td>\n      <td>Apr 8, 2023</td>\n      <td>For parts or not working</td>\n      <td>NaN</td>\n      <td>NaN</td>\n      <td>...</td>\n      <td>NaN</td>\n      <td>NaN</td>\n      <td>NaN</td>\n      <td>NaN</td>\n      <td>9 KB</td>\n      <td>NaN</td>\n      <td>NaN</td>\n      <td>“Untested and unknown if powers on or not. Cle...</td>\n      <td>NaN</td>\n      <td>NaN</td>\n    </tr>\n    <tr>\n      <th>3722</th>\n      <td>Used &amp; Untested - Nokia* Model 3560 Type RH-14...</td>\n      <td>0.99</td>\n      <td>5.75</td>\n      <td>1</td>\n      <td>0.99</td>\n      <td>https://www.ebay.com/itm/313603573658?nordt=tr...</td>\n      <td>Apr 3, 2023</td>\n      <td>For parts or not working: An item that does no...</td>\n      <td>NaN</td>\n      <td>NaN</td>\n      <td>...</td>\n      <td>NaN</td>\n      <td>Bar</td>\n      <td>NaN</td>\n      <td>NaN</td>\n      <td>Unkown</td>\n      <td>NaN</td>\n      <td>NaN</td>\n      <td>NaN</td>\n      <td>Without Contract</td>\n      <td>Does not apply</td>\n    </tr>\n    <tr>\n      <th>3742</th>\n      <td>Nokia 6010 Cell Phone - Vintage Collector</td>\n      <td>4.00</td>\n      <td>3.90</td>\n      <td>1</td>\n      <td>4.00</td>\n      <td>https://www.ebay.com/itm/225501061031?nordt=tr...</td>\n      <td>Apr 2, 2023</td>\n      <td>Used: An item that has been used previously. T...</td>\n      <td>NaN</td>\n      <td>NaN</td>\n      <td>...</td>\n      <td>NaN</td>\n      <td>NaN</td>\n      <td>NaN</td>\n      <td>NaN</td>\n      <td>Does Not Apply</td>\n      <td>NaN</td>\n      <td>NaN</td>\n      <td>NaN</td>\n      <td>NaN</td>\n      <td>NaN</td>\n    </tr>\n    <tr>\n      <th>3868</th>\n      <td>Nokia Lumia 520 - 8GB - Black (AT&amp;T) Smartphone</td>\n      <td>0.01</td>\n      <td>10.20</td>\n      <td>1</td>\n      <td>0.01</td>\n      <td>https://www.ebay.com/itm/285201927066?nordt=tr...</td>\n      <td>Mar 31, 2023</td>\n      <td>For parts or not working: An item that does no...</td>\n      <td>Dual Core</td>\n      <td>4 in</td>\n      <td>...</td>\n      <td>NaN</td>\n      <td>Bar</td>\n      <td>NaN</td>\n      <td>NaN</td>\n      <td>8 GB</td>\n      <td>5.0 MP</td>\n      <td>NaN</td>\n      <td>NaN</td>\n      <td>NaN</td>\n      <td>NaN</td>\n    </tr>\n    <tr>\n      <th>3886</th>\n      <td>Nokia 7370 - Black Cellular Phone</td>\n      <td>3.00</td>\n      <td>0.00</td>\n      <td>1</td>\n      <td>3.00</td>\n      <td>https://www.ebay.com/itm/185834297338?nordt=tr...</td>\n      <td>Mar 31, 2023</td>\n      <td>For parts or not working</td>\n      <td>NaN</td>\n      <td>NaN</td>\n      <td>...</td>\n      <td>NaN</td>\n      <td>NaN</td>\n      <td>NaN</td>\n      <td>NaN</td>\n      <td>10 MB</td>\n      <td>NaN</td>\n      <td>NaN</td>\n      <td>“Missing battery/back plastic and does not com...</td>\n      <td>NaN</td>\n      <td>NaN</td>\n    </tr>\n    <tr>\n      <th>3887</th>\n      <td>Nokia 5165 - Blue (AT&amp;T) Cellular Phone</td>\n      <td>3.00</td>\n      <td>0.00</td>\n      <td>1</td>\n      <td>3.00</td>\n      <td>https://www.ebay.com/itm/175669320596?nordt=tr...</td>\n      <td>Mar 31, 2023</td>\n      <td>For parts or not working</td>\n      <td>NaN</td>\n      <td>NaN</td>\n      <td>...</td>\n      <td>NaN</td>\n      <td>NaN</td>\n      <td>NaN</td>\n      <td>NaN</td>\n      <td>128 MB</td>\n      <td>NaN</td>\n      <td>NaN</td>\n      <td>“Untested and unknown if powers on or not. Cle...</td>\n      <td>NaN</td>\n      <td>NaN</td>\n    </tr>\n    <tr>\n      <th>3888</th>\n      <td>Nokia 252NC - Green Cellular Phone</td>\n      <td>3.00</td>\n      <td>0.00</td>\n      <td>1</td>\n      <td>3.00</td>\n      <td>https://www.ebay.com/itm/185834277702?nordt=tr...</td>\n      <td>Mar 31, 2023</td>\n      <td>For parts or not working</td>\n      <td>NaN</td>\n      <td>NaN</td>\n      <td>...</td>\n      <td>NaN</td>\n      <td>NaN</td>\n      <td>NaN</td>\n      <td>NaN</td>\n      <td>2 GB</td>\n      <td>NaN</td>\n      <td>NaN</td>\n      <td>“Untested and unknown if powers on or not. Cle...</td>\n      <td>NaN</td>\n      <td>NaN</td>\n    </tr>\n    <tr>\n      <th>3909</th>\n      <td>Nokia 3586i - Blue Cellular Phone</td>\n      <td>4.00</td>\n      <td>0.00</td>\n      <td>1</td>\n      <td>4.00</td>\n      <td>https://www.ebay.com/itm/175669322888?nordt=tr...</td>\n      <td>Mar 30, 2023</td>\n      <td>For parts or not working</td>\n      <td>NaN</td>\n      <td>NaN</td>\n      <td>...</td>\n      <td>NaN</td>\n      <td>NaN</td>\n      <td>NaN</td>\n      <td>NaN</td>\n      <td>20 KB</td>\n      <td>NaN</td>\n      <td>NaN</td>\n      <td>“Untested and unknown if powers on or not. Cle...</td>\n      <td>NaN</td>\n      <td>NaN</td>\n    </tr>\n    <tr>\n      <th>4043</th>\n      <td>Microsoft Nokia Lumia 521 phone</td>\n      <td>4.00</td>\n      <td>5.60</td>\n      <td>1</td>\n      <td>4.00</td>\n      <td>https://www.ebay.com/itm/314408455786?nordt=tr...</td>\n      <td>Mar 28, 2023</td>\n      <td>For parts or not working: An item that does no...</td>\n      <td>NaN</td>\n      <td>NaN</td>\n      <td>...</td>\n      <td>Micro USB</td>\n      <td>NaN</td>\n      <td>Windows Mobile</td>\n      <td>NaN</td>\n      <td>Unknown</td>\n      <td>NaN</td>\n      <td>NaN</td>\n      <td>NaN</td>\n      <td>NaN</td>\n      <td>NaN</td>\n    </tr>\n    <tr>\n      <th>4210</th>\n      <td>Nokia 6010 Silver Cell Phone AS IS - Fast Ship...</td>\n      <td>0.99</td>\n      <td>5.85</td>\n      <td>1</td>\n      <td>0.99</td>\n      <td>https://www.ebay.com/itm/185819429869?nordt=tr...</td>\n      <td>Mar 25, 2023</td>\n      <td>Open box: An item in excellent, new condition ...</td>\n      <td>NaN</td>\n      <td>6010</td>\n      <td>...</td>\n      <td>NaN</td>\n      <td>NaN</td>\n      <td>NaN</td>\n      <td>NaN</td>\n      <td>NaN</td>\n      <td>NaN</td>\n      <td>NaN</td>\n      <td>NaN</td>\n      <td>NaN</td>\n      <td>NaN</td>\n    </tr>\n    <tr>\n      <th>4372</th>\n      <td>Nokia 6010 - Blue (AT&amp;T)</td>\n      <td>3.50</td>\n      <td>3.90</td>\n      <td>1</td>\n      <td>3.50</td>\n      <td>https://www.ebay.com/itm/225189665801?nordt=tr...</td>\n      <td>Mar 21, 2023</td>\n      <td>Used: An item that has been used previously. T...</td>\n      <td>NaN</td>\n      <td>2 in</td>\n      <td>...</td>\n      <td>NaN</td>\n      <td>Bar</td>\n      <td>NaN</td>\n      <td>NaN</td>\n      <td>9 KB</td>\n      <td>NaN</td>\n      <td>NaN</td>\n      <td>NaN</td>\n      <td>NaN</td>\n      <td>NaN</td>\n    </tr>\n    <tr>\n      <th>4417</th>\n      <td>Nokia Lumia 900 - 16GB - Cyan (AT&amp;T) Smartphone</td>\n      <td>2.25</td>\n      <td>0.00</td>\n      <td>1</td>\n      <td>2.25</td>\n      <td>https://www.ebay.com/itm/134489256788?nordt=tr...</td>\n      <td>Mar 21, 2023</td>\n      <td>Used: An item that has been used previously. T...</td>\n      <td>Single Core</td>\n      <td>4.3 in</td>\n      <td>...</td>\n      <td>NaN</td>\n      <td>Bar</td>\n      <td>NaN</td>\n      <td>NaN</td>\n      <td>16 GB</td>\n      <td>8.0 MP</td>\n      <td>NaN</td>\n      <td>NaN</td>\n      <td>NaN</td>\n      <td>65375, LUMIA900ATT-CYAN, LUMIA900ATTCYAN</td>\n    </tr>\n    <tr>\n      <th>4635</th>\n      <td>Nokia 6030 b Silver Cellular Phone No Battery ...</td>\n      <td>3.00</td>\n      <td>5.50</td>\n      <td>1</td>\n      <td>3.00</td>\n      <td>https://www.ebay.com/itm/285181972624?nordt=tr...</td>\n      <td>Mar 16, 2023</td>\n      <td>For parts or not working</td>\n      <td>NaN</td>\n      <td>Unknown</td>\n      <td>...</td>\n      <td>NaN</td>\n      <td>Slate</td>\n      <td>NaN</td>\n      <td>NaN</td>\n      <td>3 MB</td>\n      <td>NaN</td>\n      <td>NaN</td>\n      <td>“Please look at pictures for the item's condit...</td>\n      <td>Without Contract</td>\n      <td>6030</td>\n    </tr>\n    <tr>\n      <th>4662</th>\n      <td>Nokia 6030  x2 Silver Cellular Phone T-mobile ...</td>\n      <td>2.99</td>\n      <td>6.40</td>\n      <td>1</td>\n      <td>2.99</td>\n      <td>https://www.ebay.com/itm/185803784565?nordt=tr...</td>\n      <td>Mar 16, 2023</td>\n      <td>For parts or not working: An item that does no...</td>\n      <td>NaN</td>\n      <td>NaN</td>\n      <td>...</td>\n      <td>NaN</td>\n      <td>NaN</td>\n      <td>NaN</td>\n      <td>NaN</td>\n      <td>Unknown</td>\n      <td>NaN</td>\n      <td>NaN</td>\n      <td>NaN</td>\n      <td>NaN</td>\n      <td>NaN</td>\n    </tr>\n  </tbody>\n</table>\n<p>48 rows × 27 columns</p>\n</div>"
     },
     "execution_count": 96,
     "metadata": {},
     "output_type": "execute_result"
    }
   ],
   "source": [
    "df[df.Price < np.quantile(df.Price, 0.01)]"
   ],
   "metadata": {
    "collapsed": false,
    "pycharm": {
     "name": "#%%\n"
    }
   }
  },
  {
   "cell_type": "markdown",
   "source": [
    "## Рассматриваем характеристики"
   ],
   "metadata": {
    "collapsed": false
   }
  },
  {
   "cell_type": "markdown",
   "source": [
    "### Состояние устройства"
   ],
   "metadata": {
    "collapsed": false
   }
  },
  {
   "cell_type": "code",
   "execution_count": 97,
   "outputs": [
    {
     "data": {
      "text/plain": "Used                                                                                                                                                                                                                                                                                                                                                                                                                                                                                                                                                        1398\nUsed: An item that has been used previously. The item may have some signs of cosmetic wear, but is ...Read moreabout the conditionUsed: An item that has been used previously. The item may have some signs of cosmetic wear, but is fully operational and functions as intended. This item may be a floor model or store return that has been used. See the seller’s listing for full details and description of any imperfections.See all condition definitionsopens in a new window or tab                                                                962\nNew: A brand-new, unused, unopened, undamaged item in its original packaging (where packaging is ...Read moreabout the conditionNew: A brand-new, unused, unopened, undamaged item in its original packaging (where packaging is applicable). Packaging should be the same as what is found in a retail store, unless the item is handmade or was packaged by the manufacturer in non-retail packaging, such as an unprinted box or plastic bag. See the seller's listing for full details.See all condition definitionsopens in a new window or tab         738\nOpen box                                                                                                                                                                                                                                                                                                                                                                                                                                                                                                                                                     447\nOpen box: An item in excellent, new condition with no wear. The item may be missing the original ...Read moreabout the conditionOpen box: An item in excellent, new condition with no wear. The item may be missing the original packaging or protective wrapping, or may be in the original packaging but not sealed. The item includes original accessories. The item may be a factory second. See the seller's listing for full details and description.See all condition definitionsopens in a new window or tab                                         434\nFor parts or not working                                                                                                                                                                                                                                                                                                                                                                                                                                                                                                                                     381\nFor parts or not working: An item that does not function as intended and is not fully operational. ...Read moreabout the conditionFor parts or not working: An item that does not function as intended and is not fully operational. This includes items that are defective in ways that render them difficult to use, items that require service or repair, or items missing essential components. See the seller’s listing for full details.See all condition definitionsopens in a new window or tab                                                      321\nVery Good - Refurbished                                                                                                                                                                                                                                                                                                                                                                                                                                                                                                                                       24\nExcellent - Refurbished                                                                                                                                                                                                                                                                                                                                                                                                                                                                                                                                        7\nGood - Refurbished                                                                                                                                                                                                                                                                                                                                                                                                                                                                                                                                             7\nVery Good - Refurbished: The item shows minimal wear and is backed by a one year warranty. It is ...Read moreabout the conditionVery Good - Refurbished: The item shows minimal wear and is backed by a one year warranty. It is fully functional and has been professionally refurbished,  inspected and cleaned to very good condition by qualified sellers. The item includes original or new accessories and will come in new generic packaging. See the seller's listing for full details.See all condition definitionsopens in a new window or tab       2\nGood - Refurbished: The item shows moderate wear and is backed by a one year warranty. It is fully ...Read moreabout the conditionGood - Refurbished: The item shows moderate wear and is backed by a one year warranty. It is fully functional and has been professionally refurbished, inspected and cleaned to good condition by qualified sellers. The item includes original or new accessories and will come in a new generic packaging. See the seller's listing for full details.See all condition definitionsopens in a new window or tab             1\nName: Condition, dtype: int64"
     },
     "execution_count": 97,
     "metadata": {},
     "output_type": "execute_result"
    }
   ],
   "source": [
    "df.Condition.value_counts()"
   ],
   "metadata": {
    "collapsed": false,
    "pycharm": {
     "name": "#%%\n"
    }
   }
  },
  {
   "cell_type": "code",
   "execution_count": 98,
   "outputs": [],
   "source": [
    "df['Condition'] = df['Condition'].str.split(':', n=1).str[0]"
   ],
   "metadata": {
    "collapsed": false,
    "pycharm": {
     "name": "#%%\n"
    }
   }
  },
  {
   "cell_type": "code",
   "execution_count": 99,
   "outputs": [
    {
     "data": {
      "text/plain": "Used                        2360\nOpen box                     881\nNew                          738\nFor parts or not working     702\nVery Good - Refurbished       26\nGood - Refurbished             8\nExcellent - Refurbished        7\nName: Condition, dtype: int64"
     },
     "execution_count": 99,
     "metadata": {},
     "output_type": "execute_result"
    }
   ],
   "source": [
    "df.Condition.value_counts()"
   ],
   "metadata": {
    "collapsed": false,
    "pycharm": {
     "name": "#%%\n"
    }
   }
  },
  {
   "cell_type": "markdown",
   "source": [
    "### Бренд"
   ],
   "metadata": {
    "collapsed": false
   }
  },
  {
   "cell_type": "code",
   "execution_count": 100,
   "outputs": [
    {
     "data": {
      "text/plain": "Index(['Nokia', 'NOKIA', 'Samsung', 'Unbranded', 'Microsoft', 'T-Mobile',\n       'Motorola', 'Verizon Wireless', 'Apple', 'TracFone', 'Total Wireless',\n       'Tracfone', 'Nokia X100', 'LUNA', 'Nokia Microsoft', 'nokia',\n       'Total By Verizon', 'LG, Nokia, Motorola', 'LG', 'Does not apply',\n       'Sony Ericsson', 'Verizon', 'Google', 'HTC Nokia Motorola Microsoft',\n       'TCL', 'Multiple', 'Simple Mobile', 'Nokiav', 'HTC Nokia Motorola',\n       'Pantech', 'Samsung Galaxy LG HTC Nokia Motorola', 'sony', 'Unknown',\n       'BlackBerry', 'Unbranded/Generic', 'Kyocera', 'Samsung LG ZTE Nokia',\n       'Alcatel Avalon/Nokia 2V/LG K8+/Moto E4/ZTE ZFive C/Blu View 1', '210',\n       'Nokia 3V', 'Sandata, LG, (V)ortex, Nokia, Apple', 'SANYO', 'unlock',\n       'Straight Talk Wireless', 'Motorola, Nokia, Google, LG', 'Branded',\n       'samsung, lg, nokia', 'Assorted', 'mix', 'NOKIA  G20',\n       'Motorola / Nokia', 'Xiaomi', 'Nokia QD', 'Different',\n       'Samsung, LG, &More', 'Porsche Design', 'Nokia 1.4', 'Alcatel',\n       'FOSSIBOT', 'At&t', 'Samsung/LG/Motorola/Nokia/ZTE/Blackberry', 'Tecno',\n       'Assorted Verizon', 'Cricket', 'multi brand', '6700',\n       'Nokia Motorola Microsoft', '7390', 'Toshiba', 'Nokia G10', 'FAR',\n       'IPhone', '5530', 'Nokia 3.1 A', 'Nikia', 'Samsung, Kyocera, Nokia',\n       'Ubiquiti', 'mixed brands', 'HMD Global Oy', 'N152DL', 'OnePlus',\n       'Nokia 5.4', 'Nokia 3 V', 'Samsung, LG, Alcatel, Nokia, Audiovox',\n       'NOKIA 2.4'],\n      dtype='object')"
     },
     "execution_count": 100,
     "metadata": {},
     "output_type": "execute_result"
    }
   ],
   "source": [
    "df.Brand.value_counts().index"
   ],
   "metadata": {
    "collapsed": false,
    "pycharm": {
     "name": "#%%\n"
    }
   }
  },
  {
   "cell_type": "code",
   "execution_count": 101,
   "outputs": [],
   "source": [
    "df['Brand'] = df['Brand'].str.lower()"
   ],
   "metadata": {
    "collapsed": false,
    "pycharm": {
     "name": "#%%\n"
    }
   }
  },
  {
   "cell_type": "code",
   "execution_count": 102,
   "outputs": [],
   "source": [
    "df.loc[(df['Brand'].str.lower().str.contains(\"nokia\")), 'Brand'] = 'nokia'"
   ],
   "metadata": {
    "collapsed": false,
    "pycharm": {
     "name": "#%%\n"
    }
   }
  },
  {
   "cell_type": "code",
   "execution_count": 103,
   "outputs": [],
   "source": [
    "df = df[df.Brand == 'nokia']"
   ],
   "metadata": {
    "collapsed": false,
    "pycharm": {
     "name": "#%%\n"
    }
   }
  },
  {
   "cell_type": "code",
   "execution_count": 104,
   "outputs": [
    {
     "data": {
      "text/plain": "Index(['nokia'], dtype='object')"
     },
     "execution_count": 104,
     "metadata": {},
     "output_type": "execute_result"
    }
   ],
   "source": [
    "df.Brand.value_counts().index"
   ],
   "metadata": {
    "collapsed": false,
    "pycharm": {
     "name": "#%%\n"
    }
   }
  },
  {
   "cell_type": "markdown",
   "source": [
    "### Модели смартфонов"
   ],
   "metadata": {
    "collapsed": false
   }
  },
  {
   "cell_type": "code",
   "execution_count": 105,
   "outputs": [
    {
     "data": {
      "text/plain": "Index(['Nokia 6300 4G', 'Nokia 225 4G', 'Nokia G50', 'Nokia 3310', 'Nokia 100',\n       'Nokia X100', 'Nokia G20', 'Nokia G10', 'Nokia C100', 'Nokia 2760',\n       ...\n       'Nokia E6-00', '6280', '3100', 'Nokia 3395', 'Nokia Lumia 510', '5170i',\n       'Lumia 720', '108 (RM-945)', 'Nokia 2730c', 'Nokia G60'],\n      dtype='object', length=970)"
     },
     "execution_count": 105,
     "metadata": {},
     "output_type": "execute_result"
    }
   ],
   "source": [
    "df['Model'].value_counts().index"
   ],
   "metadata": {
    "collapsed": false,
    "pycharm": {
     "name": "#%%\n"
    }
   }
  },
  {
   "cell_type": "markdown",
   "source": [
    "### Сети"
   ],
   "metadata": {
    "collapsed": false
   }
  },
  {
   "cell_type": "code",
   "execution_count": 106,
   "outputs": [
    {
     "data": {
      "text/plain": "Micro USB                                          416\n2G                                                 290\n4G                                                 155\nBluetooth, 4G, Wi-Fi, Micro USB                    115\nUSB Type-C, 5G, Bluetooth, Wi-Fi, GPS               86\n                                                  ... \n5G, Bluetooth, GPS, Wi-Fi                            1\n2G, 3G, 4G, Bluetooth, Micro USB, Wi-Fi              1\nQuad-Band, Tri-Band, Dual-Band, LTE, 3G, 4G, 2G      1\nTri-Band                                             1\nBluetooth, Micro USB, 4G                             1\nName: Connectivity, Length: 298, dtype: int64"
     },
     "execution_count": 106,
     "metadata": {},
     "output_type": "execute_result"
    }
   ],
   "source": [
    "df.Connectivity.value_counts()"
   ],
   "metadata": {
    "collapsed": false,
    "pycharm": {
     "name": "#%%\n"
    }
   }
  },
  {
   "cell_type": "code",
   "execution_count": 107,
   "outputs": [],
   "source": [
    "def clear(feat:str):\n",
    "    if type(feat)==str:\n",
    "        feat = re.split(r',\\s*', feat)\n",
    "        for i in range(len(feat)):\n",
    "            feat[i] = feat[i].strip(\" \\'\\'\\\"\\\"\")\n",
    "        feat = ', '.join(feat)\n",
    "    return feat"
   ],
   "metadata": {
    "collapsed": false,
    "pycharm": {
     "name": "#%%\n"
    }
   }
  },
  {
   "cell_type": "code",
   "execution_count": 108,
   "outputs": [],
   "source": [
    "Connectivity = df['Connectivity'].str.strip(\" []\").apply(clear)"
   ],
   "metadata": {
    "collapsed": false,
    "pycharm": {
     "name": "#%%\n"
    }
   }
  },
  {
   "cell_type": "code",
   "execution_count": 109,
   "outputs": [
    {
     "data": {
      "text/plain": "Micro USB                                          416\n2G                                                 290\n4G                                                 155\nBluetooth, 4G, Wi-Fi, Micro USB                    115\nUSB Type-C, 5G, Bluetooth, Wi-Fi, GPS               87\n                                                  ... \n5G, Bluetooth, GPS, Wi-Fi                            1\n2G, 3G, 4G, Bluetooth, Micro USB, Wi-Fi              1\nQuad-Band, Tri-Band, Dual-Band, LTE, 3G, 4G, 2G      1\nTri-Band                                             1\nBluetooth, Micro USB, 4G                             1\nName: Connectivity, Length: 292, dtype: int64"
     },
     "execution_count": 109,
     "metadata": {},
     "output_type": "execute_result"
    }
   ],
   "source": [
    "Connectivity.value_counts()"
   ],
   "metadata": {
    "collapsed": false,
    "pycharm": {
     "name": "#%%\n"
    }
   }
  },
  {
   "cell_type": "code",
   "execution_count": 110,
   "outputs": [],
   "source": [
    "Connectivity = Connectivity.str.get_dummies(', ')"
   ],
   "metadata": {
    "collapsed": false,
    "pycharm": {
     "name": "#%%\n"
    }
   }
  },
  {
   "cell_type": "code",
   "execution_count": 111,
   "outputs": [
    {
     "data": {
      "text/plain": "      2G  3.5 mm earjack  3G  4  4G  4G Bluetooth GPS LTE  4G LTE  \\\n0      0               0   0  0   1                     0       0   \n1      0               0   0  0   1                     0       0   \n2      0               0   0  0   0                     0       0   \n3      0               0   1  0   0                     0       0   \n4      0               0   0  0   0                     0       0   \n...   ..             ...  .. ..  ..                   ...     ...   \n4726   0               0   0  0   0                     0       0   \n4727   1               0   0  0   0                     0       0   \n4728   1               0   0  0   0                     0       0   \n4729   0               0   0  0   0                     0       0   \n4730   1               0   1  0   1                     0       0   \n\n      4G LTE 5G WiFi Bluetooth  4G VOLTE  4G+  ...  WAP  WCDMA  Wi-Fi  WiFi  \\\n0                            0         0    0  ...    0      0      0     0   \n1                            0         0    0  ...    0      0      0     0   \n2                            0         0    0  ...    0      0      0     0   \n3                            0         0    0  ...    0      0      0     0   \n4                            0         0    0  ...    0      0      1     0   \n...                        ...       ...  ...  ...  ...    ...    ...   ...   \n4726                         0         0    0  ...    0      0      0     0   \n4727                         0         0    0  ...    0      0      0     0   \n4728                         0         0    0  ...    0      0      0     0   \n4729                         0         0    0  ...    0      0      0     0   \n4730                         0         0    0  ...    0      0      1     0   \n\n      microUSB  microUSB 1.1 (charging only)  microUSB 2.0  \\\n0            0                             0             0   \n1            0                             0             0   \n2            0                             0             0   \n3            0                             0             0   \n4            0                             0             0   \n...        ...                           ...           ...   \n4726         0                             0             0   \n4727         0                             0             0   \n4728         0                             0             0   \n4729         0                             0             0   \n4730         0                             0             0   \n\n      microUSB 2.0 (charging only)  microUSB v2.0  v2.0 microUSB  \n0                                0              0              0  \n1                                0              0              0  \n2                                0              0              0  \n3                                0              0              0  \n4                                0              0              0  \n...                            ...            ...            ...  \n4726                             0              0              0  \n4727                             0              0              0  \n4728                             0              0              0  \n4729                             0              0              0  \n4730                             0              0              0  \n\n[4467 rows x 59 columns]",
      "text/html": "<div>\n<style scoped>\n    .dataframe tbody tr th:only-of-type {\n        vertical-align: middle;\n    }\n\n    .dataframe tbody tr th {\n        vertical-align: top;\n    }\n\n    .dataframe thead th {\n        text-align: right;\n    }\n</style>\n<table border=\"1\" class=\"dataframe\">\n  <thead>\n    <tr style=\"text-align: right;\">\n      <th></th>\n      <th>2G</th>\n      <th>3.5 mm earjack</th>\n      <th>3G</th>\n      <th>4</th>\n      <th>4G</th>\n      <th>4G Bluetooth GPS LTE</th>\n      <th>4G LTE</th>\n      <th>4G LTE 5G WiFi Bluetooth</th>\n      <th>4G VOLTE</th>\n      <th>4G+</th>\n      <th>...</th>\n      <th>WAP</th>\n      <th>WCDMA</th>\n      <th>Wi-Fi</th>\n      <th>WiFi</th>\n      <th>microUSB</th>\n      <th>microUSB 1.1 (charging only)</th>\n      <th>microUSB 2.0</th>\n      <th>microUSB 2.0 (charging only)</th>\n      <th>microUSB v2.0</th>\n      <th>v2.0 microUSB</th>\n    </tr>\n  </thead>\n  <tbody>\n    <tr>\n      <th>0</th>\n      <td>0</td>\n      <td>0</td>\n      <td>0</td>\n      <td>0</td>\n      <td>1</td>\n      <td>0</td>\n      <td>0</td>\n      <td>0</td>\n      <td>0</td>\n      <td>0</td>\n      <td>...</td>\n      <td>0</td>\n      <td>0</td>\n      <td>0</td>\n      <td>0</td>\n      <td>0</td>\n      <td>0</td>\n      <td>0</td>\n      <td>0</td>\n      <td>0</td>\n      <td>0</td>\n    </tr>\n    <tr>\n      <th>1</th>\n      <td>0</td>\n      <td>0</td>\n      <td>0</td>\n      <td>0</td>\n      <td>1</td>\n      <td>0</td>\n      <td>0</td>\n      <td>0</td>\n      <td>0</td>\n      <td>0</td>\n      <td>...</td>\n      <td>0</td>\n      <td>0</td>\n      <td>0</td>\n      <td>0</td>\n      <td>0</td>\n      <td>0</td>\n      <td>0</td>\n      <td>0</td>\n      <td>0</td>\n      <td>0</td>\n    </tr>\n    <tr>\n      <th>2</th>\n      <td>0</td>\n      <td>0</td>\n      <td>0</td>\n      <td>0</td>\n      <td>0</td>\n      <td>0</td>\n      <td>0</td>\n      <td>0</td>\n      <td>0</td>\n      <td>0</td>\n      <td>...</td>\n      <td>0</td>\n      <td>0</td>\n      <td>0</td>\n      <td>0</td>\n      <td>0</td>\n      <td>0</td>\n      <td>0</td>\n      <td>0</td>\n      <td>0</td>\n      <td>0</td>\n    </tr>\n    <tr>\n      <th>3</th>\n      <td>0</td>\n      <td>0</td>\n      <td>1</td>\n      <td>0</td>\n      <td>0</td>\n      <td>0</td>\n      <td>0</td>\n      <td>0</td>\n      <td>0</td>\n      <td>0</td>\n      <td>...</td>\n      <td>0</td>\n      <td>0</td>\n      <td>0</td>\n      <td>0</td>\n      <td>0</td>\n      <td>0</td>\n      <td>0</td>\n      <td>0</td>\n      <td>0</td>\n      <td>0</td>\n    </tr>\n    <tr>\n      <th>4</th>\n      <td>0</td>\n      <td>0</td>\n      <td>0</td>\n      <td>0</td>\n      <td>0</td>\n      <td>0</td>\n      <td>0</td>\n      <td>0</td>\n      <td>0</td>\n      <td>0</td>\n      <td>...</td>\n      <td>0</td>\n      <td>0</td>\n      <td>1</td>\n      <td>0</td>\n      <td>0</td>\n      <td>0</td>\n      <td>0</td>\n      <td>0</td>\n      <td>0</td>\n      <td>0</td>\n    </tr>\n    <tr>\n      <th>...</th>\n      <td>...</td>\n      <td>...</td>\n      <td>...</td>\n      <td>...</td>\n      <td>...</td>\n      <td>...</td>\n      <td>...</td>\n      <td>...</td>\n      <td>...</td>\n      <td>...</td>\n      <td>...</td>\n      <td>...</td>\n      <td>...</td>\n      <td>...</td>\n      <td>...</td>\n      <td>...</td>\n      <td>...</td>\n      <td>...</td>\n      <td>...</td>\n      <td>...</td>\n      <td>...</td>\n    </tr>\n    <tr>\n      <th>4726</th>\n      <td>0</td>\n      <td>0</td>\n      <td>0</td>\n      <td>0</td>\n      <td>0</td>\n      <td>0</td>\n      <td>0</td>\n      <td>0</td>\n      <td>0</td>\n      <td>0</td>\n      <td>...</td>\n      <td>0</td>\n      <td>0</td>\n      <td>0</td>\n      <td>0</td>\n      <td>0</td>\n      <td>0</td>\n      <td>0</td>\n      <td>0</td>\n      <td>0</td>\n      <td>0</td>\n    </tr>\n    <tr>\n      <th>4727</th>\n      <td>1</td>\n      <td>0</td>\n      <td>0</td>\n      <td>0</td>\n      <td>0</td>\n      <td>0</td>\n      <td>0</td>\n      <td>0</td>\n      <td>0</td>\n      <td>0</td>\n      <td>...</td>\n      <td>0</td>\n      <td>0</td>\n      <td>0</td>\n      <td>0</td>\n      <td>0</td>\n      <td>0</td>\n      <td>0</td>\n      <td>0</td>\n      <td>0</td>\n      <td>0</td>\n    </tr>\n    <tr>\n      <th>4728</th>\n      <td>1</td>\n      <td>0</td>\n      <td>0</td>\n      <td>0</td>\n      <td>0</td>\n      <td>0</td>\n      <td>0</td>\n      <td>0</td>\n      <td>0</td>\n      <td>0</td>\n      <td>...</td>\n      <td>0</td>\n      <td>0</td>\n      <td>0</td>\n      <td>0</td>\n      <td>0</td>\n      <td>0</td>\n      <td>0</td>\n      <td>0</td>\n      <td>0</td>\n      <td>0</td>\n    </tr>\n    <tr>\n      <th>4729</th>\n      <td>0</td>\n      <td>0</td>\n      <td>0</td>\n      <td>0</td>\n      <td>0</td>\n      <td>0</td>\n      <td>0</td>\n      <td>0</td>\n      <td>0</td>\n      <td>0</td>\n      <td>...</td>\n      <td>0</td>\n      <td>0</td>\n      <td>0</td>\n      <td>0</td>\n      <td>0</td>\n      <td>0</td>\n      <td>0</td>\n      <td>0</td>\n      <td>0</td>\n      <td>0</td>\n    </tr>\n    <tr>\n      <th>4730</th>\n      <td>1</td>\n      <td>0</td>\n      <td>1</td>\n      <td>0</td>\n      <td>1</td>\n      <td>0</td>\n      <td>0</td>\n      <td>0</td>\n      <td>0</td>\n      <td>0</td>\n      <td>...</td>\n      <td>0</td>\n      <td>0</td>\n      <td>1</td>\n      <td>0</td>\n      <td>0</td>\n      <td>0</td>\n      <td>0</td>\n      <td>0</td>\n      <td>0</td>\n      <td>0</td>\n    </tr>\n  </tbody>\n</table>\n<p>4467 rows × 59 columns</p>\n</div>"
     },
     "execution_count": 111,
     "metadata": {},
     "output_type": "execute_result"
    }
   ],
   "source": [
    "Connectivity"
   ],
   "metadata": {
    "collapsed": false,
    "pycharm": {
     "name": "#%%\n"
    }
   }
  },
  {
   "cell_type": "code",
   "execution_count": 112,
   "outputs": [
    {
     "data": {
      "text/plain": "Index(['2G', '3.5 mm earjack', '3G', '4', '4G', '4G Bluetooth GPS LTE',\n       '4G LTE', '4G LTE 5G WiFi Bluetooth', '4G VOLTE', '4G+', '5G',\n       '850/1900', 'Bluetooth', 'Bluetooth 4.1', 'Bluetooth 5.0',\n       'Bluetooth: 5.0', 'Bluetooth:5.0', 'DLNA', 'Dual-Band', 'EDGE', 'Email',\n       'FM Radio', 'FM radio', 'GPRS', 'GPS', 'GSM 900 / 1800',\n       'Google Assistant Button', 'HDMI Micro', 'Headphone Jack', 'Infrared',\n       'LTE', 'Lightning', 'MMS', 'Micro USB', 'Micro USB 2.0', 'Micro-USB',\n       'Mini USB', 'NFC', 'No', 'Nokia 216', 'Quad-Band', 'SMS', 'Tri-Band',\n       'USB', 'USB 2.0', 'USB Type-C', 'USB connection: Micro USB (USB 2.0)',\n       'USB microUSB 2.0', 'VOLTE', 'WAP', 'WCDMA', 'Wi-Fi', 'WiFi',\n       'microUSB', 'microUSB 1.1 (charging only)', 'microUSB 2.0',\n       'microUSB 2.0 (charging only)', 'microUSB v2.0', 'v2.0 microUSB'],\n      dtype='object')"
     },
     "execution_count": 112,
     "metadata": {},
     "output_type": "execute_result"
    }
   ],
   "source": [
    "Connectivity.columns"
   ],
   "metadata": {
    "collapsed": false,
    "pycharm": {
     "name": "#%%\n"
    }
   }
  },
  {
   "cell_type": "code",
   "execution_count": 113,
   "outputs": [],
   "source": [
    "Connectivity['Headphone Jack'] = Connectivity['Headphone Jack'] + Connectivity['3.5 mm earjack']\n",
    "\n",
    "Connectivity['4G'] = Connectivity['4G'] + Connectivity['4G Bluetooth GPS LTE'] + Connectivity['4G LTE'] + Connectivity['4G+'] + Connectivity['LTE'] + Connectivity['4G LTE 5G WiFi Bluetooth'] + Connectivity['4G VOLTE'] + Connectivity['LTE'] + Connectivity['VOLTE']\n",
    "\n",
    "Connectivity['5G'] = Connectivity['5G'] + Connectivity['4G LTE 5G WiFi Bluetooth']\n",
    "\n",
    "Connectivity['Bluetooth'] = Connectivity['Bluetooth'] + Connectivity['4G Bluetooth GPS LTE'] + Connectivity['4G LTE 5G WiFi Bluetooth'] + Connectivity['Bluetooth 4.1'] + Connectivity['Bluetooth 5.0'] + Connectivity['Bluetooth: 5.0'] + Connectivity['Bluetooth:5.0']\n",
    "\n",
    "Connectivity['FM'] =Connectivity['FM Radio'] + Connectivity['FM radio'] + Connectivity['Bluetooth 4.1']\n",
    "\n",
    "Connectivity['GPS'] = Connectivity['GPS'] + Connectivity['GPRS']\n",
    "\n",
    "Connectivity['GSM'] = Connectivity['GSM 900 / 1800']\n",
    "\n",
    "Connectivity['Micro USB'] = Connectivity['Micro USB'] + Connectivity['Micro USB 2.0'] + Connectivity['Micro-USB'] + Connectivity['Mini USB'] + Connectivity['USB connection: Micro USB (USB 2.0)'] + Connectivity['USB microUSB 2.0'] + Connectivity['microUSB'] + Connectivity['microUSB 1.1 (charging only)'] + Connectivity['microUSB 2.0'] + Connectivity['microUSB 2.0 (charging only)'] + Connectivity['microUSB v2.0'] + Connectivity['v2.0 microUSB']\n",
    "\n",
    "Connectivity['Type-C'] = Connectivity['USB Type-C']\n",
    "\n",
    "Connectivity['WI-FI'] =  + Connectivity['Wi-Fi'] + Connectivity['WiFi']\n",
    "\n",
    "Connectivity['USB'] = Connectivity['USB'] + Connectivity['USB 2.0']"
   ],
   "metadata": {
    "collapsed": false,
    "pycharm": {
     "name": "#%%\n"
    }
   }
  },
  {
   "cell_type": "code",
   "execution_count": 114,
   "outputs": [],
   "source": [
    "Reasonable = Connectivity[['2G', '3G', '4G', '5G', 'Bluetooth', 'GSM', 'WI-FI', 'Micro USB', 'USB', 'Type-C', 'NFC', 'Dual-Band', 'FM', 'DLNA', 'EDGE', 'GPS', 'HDMI Micro', 'Headphone Jack', 'Infrared', 'Lightning', 'Quad-Band', 'Tri-Band', 'WAP', 'WCDMA']]"
   ],
   "metadata": {
    "collapsed": false,
    "pycharm": {
     "name": "#%%\n"
    }
   }
  },
  {
   "cell_type": "code",
   "execution_count": 115,
   "outputs": [
    {
     "name": "stderr",
     "output_type": "stream",
     "text": [
      "C:\\Users\\druny\\AppData\\Local\\Temp\\ipykernel_29720\\76639661.py:1: SettingWithCopyWarning: \n",
      "A value is trying to be set on a copy of a slice from a DataFrame\n",
      "\n",
      "See the caveats in the documentation: https://pandas.pydata.org/pandas-docs/stable/user_guide/indexing.html#returning-a-view-versus-a-copy\n",
      "  Reasonable.loc[Reasonable.values > 1] = 1\n"
     ]
    }
   ],
   "source": [
    "Reasonable.loc[Reasonable.values > 1] = 1"
   ],
   "metadata": {
    "collapsed": false,
    "pycharm": {
     "name": "#%%\n"
    }
   }
  },
  {
   "cell_type": "code",
   "execution_count": 116,
   "outputs": [
    {
     "data": {
      "text/plain": "0"
     },
     "execution_count": 116,
     "metadata": {},
     "output_type": "execute_result"
    }
   ],
   "source": [
    "(Reasonable.values > 1).sum()"
   ],
   "metadata": {
    "collapsed": false,
    "pycharm": {
     "name": "#%%\n"
    }
   }
  },
  {
   "cell_type": "code",
   "execution_count": 117,
   "outputs": [
    {
     "data": {
      "text/plain": "2G                1107\n3G                 736\n4G                 987\n5G                 636\nBluetooth         1491\nGSM                277\nWI-FI             1048\nMicro USB         1129\nUSB                289\nType-C             713\nNFC                455\nDual-Band          309\nFM                 278\nDLNA               277\nEDGE               279\nGPS                662\nHDMI Micro         277\nHeadphone Jack     306\nInfrared           300\nLightning          277\nQuad-Band          305\nTri-Band           329\nWAP                278\nWCDMA              276\ndtype: int64"
     },
     "execution_count": 117,
     "metadata": {},
     "output_type": "execute_result"
    }
   ],
   "source": [
    "Reasonable.sum()"
   ],
   "metadata": {
    "collapsed": false,
    "pycharm": {
     "name": "#%%\n"
    }
   }
  },
  {
   "cell_type": "markdown",
   "source": [
    "### Объём памяти"
   ],
   "metadata": {
    "collapsed": false
   }
  },
  {
   "cell_type": "code",
   "execution_count": 118,
   "outputs": [
    {
     "data": {
      "text/plain": "32 GB     456\n128 GB    429\n4 GB      260\n512 MB    259\n128 MB    242\n         ... \n2gb         1\n.13GB       1\n46          1\nTESTE       1\n38 MB       1\nName: Storage Capacity, Length: 237, dtype: int64"
     },
     "execution_count": 118,
     "metadata": {},
     "output_type": "execute_result"
    }
   ],
   "source": [
    "df['Storage Capacity'].value_counts()\n",
    "#убираем везде гиги за шаги а дальше развлекаемся"
   ],
   "metadata": {
    "collapsed": false,
    "pycharm": {
     "name": "#%%\n"
    }
   }
  },
  {
   "cell_type": "code",
   "execution_count": 119,
   "outputs": [],
   "source": [
    "df['Storage Capacity'] = df['Storage Capacity'].str.extract(r'(\\d+)')\n",
    "df['Storage Capacity'] = pd.to_numeric(df['Storage Capacity'])"
   ],
   "metadata": {
    "collapsed": false,
    "pycharm": {
     "name": "#%%\n"
    }
   }
  },
  {
   "cell_type": "code",
   "execution_count": 120,
   "outputs": [],
   "source": [
    "df.loc[df['Storage Capacity'] > 512, 'Storage Capacity'] = 32"
   ],
   "metadata": {
    "collapsed": false,
    "pycharm": {
     "name": "#%%\n"
    }
   }
  },
  {
   "cell_type": "code",
   "execution_count": 121,
   "outputs": [
    {
     "data": {
      "text/plain": "128.0    732\n32.0     603\n4.0      396\n64.0     346\n512.0    303\n        ... \n56.0       1\n350.0      1\n280.0      1\n90.0       1\n38.0       1\nName: Storage Capacity, Length: 73, dtype: int64"
     },
     "execution_count": 121,
     "metadata": {},
     "output_type": "execute_result"
    }
   ],
   "source": [
    "df['Storage Capacity'].value_counts()"
   ],
   "metadata": {
    "collapsed": false,
    "pycharm": {
     "name": "#%%\n"
    }
   }
  },
  {
   "cell_type": "markdown",
   "source": [
    "###  Связь"
   ],
   "metadata": {
    "collapsed": false
   }
  },
  {
   "cell_type": "code",
   "execution_count": 122,
   "outputs": [
    {
     "data": {
      "text/plain": "Unlocked                           2443\nAT&T                                161\nVerizon                             151\nT-Mobile                            146\nTracFone                            101\n                                   ... \nTesco Mobile                          1\nTracFone, Walmart Family Mobile       1\nT-Mobile, NA                          1\nusacell                               1\nGSM 4G, Unlocked                      1\nName: Network, Length: 156, dtype: int64"
     },
     "execution_count": 122,
     "metadata": {},
     "output_type": "execute_result"
    }
   ],
   "source": [
    "#тут есть операторские и не операторские телефоны. сразу разделим их и не будем работать с конкретными операторами\n",
    "df['Network'].value_counts()"
   ],
   "metadata": {
    "collapsed": false,
    "pycharm": {
     "name": "#%%\n"
    }
   }
  },
  {
   "cell_type": "code",
   "execution_count": 123,
   "outputs": [],
   "source": [
    "df.loc[(df['Network'].str.lower().str.contains(\"unlocked\")!=True), 'Network'] = 'Operator'\n",
    "df.loc[(df['Network'].str.lower().str.contains(\"unlocked\")), 'Network'] = 'Unlocked'"
   ],
   "metadata": {
    "collapsed": false,
    "pycharm": {
     "name": "#%%\n"
    }
   }
  },
  {
   "cell_type": "code",
   "execution_count": 124,
   "outputs": [
    {
     "data": {
      "text/plain": "Unlocked    2642\nOperator    1825\nName: Network, dtype: int64"
     },
     "execution_count": 124,
     "metadata": {},
     "output_type": "execute_result"
    }
   ],
   "source": [
    "df['Network'].value_counts()"
   ],
   "metadata": {
    "collapsed": false,
    "pycharm": {
     "name": "#%%\n"
    }
   }
  },
  {
   "cell_type": "markdown",
   "source": [
    "### Камеры"
   ],
   "metadata": {
    "collapsed": false
   }
  },
  {
   "cell_type": "code",
   "execution_count": 125,
   "outputs": [
    {
     "data": {
      "text/plain": "2.0 MP                       525\n0.3 MP                       338\n5.0 MP                       288\n48.0 MP                      171\n8.0 MP                       168\n                            ... \n12.0 MP, 13.0 MP, 16.0 MP      1\n8.0 MP + 2.0 MP                1\n20 MP                          1\n16 MP + 5 MP + 2 MP            1\n48MP                           1\nName: Camera Resolution, Length: 130, dtype: int64"
     },
     "execution_count": 125,
     "metadata": {},
     "output_type": "execute_result"
    }
   ],
   "source": [
    "#в камере есть наблюдения с тройными четверными и т.д. камерами, но мы просто вырезаем мегапиксели оттуда :D\n",
    "df['Camera Resolution'].value_counts()"
   ],
   "metadata": {
    "collapsed": false,
    "pycharm": {
     "name": "#%%\n"
    }
   }
  },
  {
   "cell_type": "code",
   "execution_count": 126,
   "outputs": [],
   "source": [
    "df['Camera Resolution'] = df['Camera Resolution'].str.extract(r'(\\d+)')\n",
    "df['Camera Resolution'] = pd.to_numeric(df['Camera Resolution'])"
   ],
   "metadata": {
    "collapsed": false,
    "pycharm": {
     "name": "#%%\n"
    }
   }
  },
  {
   "cell_type": "code",
   "execution_count": 127,
   "outputs": [
    {
     "data": {
      "text/plain": "2.0     626\n5.0     511\n0.0     380\n8.0     263\n48.0    203\n3.0     165\n13.0    135\n1.0      94\n16.0     71\n12.0     68\n20.0     38\n41.0     33\n64.0     19\n50.0     15\n10.0      9\n6.0       5\nName: Camera Resolution, dtype: int64"
     },
     "execution_count": 127,
     "metadata": {},
     "output_type": "execute_result"
    }
   ],
   "source": [
    "#в камере есть наблюдения с тройными четверными и т.д. камерами, но мы просто вырезаем мегапиксели оттуда :D\n",
    "df['Camera Resolution'].value_counts()"
   ],
   "metadata": {
    "collapsed": false,
    "pycharm": {
     "name": "#%%\n"
    }
   }
  },
  {
   "cell_type": "code",
   "execution_count": 128,
   "outputs": [],
   "source": [
    "df.loc[df['Camera Resolution'] > 100, 'Camera Resolution'] = 32"
   ],
   "metadata": {
    "collapsed": false,
    "pycharm": {
     "name": "#%%\n"
    }
   }
  },
  {
   "cell_type": "code",
   "execution_count": 129,
   "outputs": [
    {
     "data": {
      "text/plain": "2.0     626\n5.0     511\n0.0     380\n8.0     263\n48.0    203\n3.0     165\n13.0    135\n1.0      94\n16.0     71\n12.0     68\n20.0     38\n41.0     33\n64.0     19\n50.0     15\n10.0      9\n6.0       5\nName: Camera Resolution, dtype: int64"
     },
     "execution_count": 129,
     "metadata": {},
     "output_type": "execute_result"
    }
   ],
   "source": [
    "df['Camera Resolution'].value_counts()"
   ],
   "metadata": {
    "collapsed": false,
    "pycharm": {
     "name": "#%%\n"
    }
   }
  },
  {
   "cell_type": "markdown",
   "source": [
    "### Разрешение экрана"
   ],
   "metadata": {
    "collapsed": false
   }
  },
  {
   "cell_type": "code",
   "execution_count": 130,
   "outputs": [
    {
     "data": {
      "text/plain": "2.4 in        510\n6.5 in        215\n2.5 in        196\n2.8 in        123\n2 in          106\n             ... \n4.1 in          1\n1.8in           1\n2.40            1\n2.6 inches      1\n6.58in          1\nName: Screen Size, Length: 199, dtype: int64"
     },
     "execution_count": 130,
     "metadata": {},
     "output_type": "execute_result"
    }
   ],
   "source": [
    "#все одно и то же, достаем оттуда все-все-все\n",
    "df['Screen Size'].value_counts()"
   ],
   "metadata": {
    "collapsed": false,
    "pycharm": {
     "name": "#%%\n"
    }
   }
  },
  {
   "cell_type": "code",
   "execution_count": 131,
   "outputs": [],
   "source": [
    "df['Screen Size'] = df['Screen Size'].str.extract(r'(\\d+\\.\\d+)')\n",
    "df['Screen Size'] = pd.to_numeric(df['Screen Size'])"
   ],
   "metadata": {
    "collapsed": false,
    "pycharm": {
     "name": "#%%\n"
    }
   }
  },
  {
   "cell_type": "code",
   "execution_count": 132,
   "outputs": [
    {
     "data": {
      "text/plain": "2.40    603\n6.50    222\n2.50    196\n2.80    151\n1.80    142\n       ... \n7.00      1\n1.45      1\n1.54      1\n1.43      1\n5.65      1\nName: Screen Size, Length: 75, dtype: int64"
     },
     "execution_count": 132,
     "metadata": {},
     "output_type": "execute_result"
    }
   ],
   "source": [
    "df['Screen Size'].value_counts()"
   ],
   "metadata": {
    "collapsed": false,
    "pycharm": {
     "name": "#%%\n"
    }
   }
  },
  {
   "cell_type": "markdown",
   "source": [
    "### Оперативная память"
   ],
   "metadata": {
    "collapsed": false
   }
  },
  {
   "cell_type": "code",
   "execution_count": 133,
   "outputs": [
    {
     "data": {
      "text/plain": "4 GB      359\n512 MB    227\n6 GB      219\n2 GB      212\n64 MB     150\n         ... \n768 MB      1\n725KB       1\n8MB         1\n≤512M       1\n45 MB       1\nName: RAM, Length: 99, dtype: int64"
     },
     "execution_count": 133,
     "metadata": {},
     "output_type": "execute_result"
    }
   ],
   "source": [
    "#все то же самое с оперативкой\n",
    "df['RAM'].value_counts()"
   ],
   "metadata": {
    "collapsed": false,
    "pycharm": {
     "name": "#%%\n"
    }
   }
  },
  {
   "cell_type": "code",
   "execution_count": 134,
   "outputs": [],
   "source": [
    "df['RAM'] = df['RAM'].str.extract(r'(\\d+)')\n",
    "df['RAM'] = pd.to_numeric(df['RAM'])"
   ],
   "metadata": {
    "collapsed": false,
    "pycharm": {
     "name": "#%%\n"
    }
   }
  },
  {
   "cell_type": "code",
   "execution_count": 135,
   "outputs": [
    {
     "data": {
      "text/plain": "4.0      377\n512.0    261\n2.0      237\n6.0      225\n1.0      193\n64.0     183\n128.0    175\n3.0      119\n8.0       30\n256.0     26\n0.0       23\n32.0      19\n16.0      16\n48.0      10\n258.0      7\n30.0       4\n96.0       3\n70.0       3\n100.0      3\n170.0      2\n384.0      2\n5.0        2\n90.0       1\n81.0       1\n60.0       1\n768.0      1\n725.0      1\n80.0       1\n20.0       1\n45.0       1\nName: RAM, dtype: int64"
     },
     "execution_count": 135,
     "metadata": {},
     "output_type": "execute_result"
    }
   ],
   "source": [
    "#все то же самое с оперативкой\n",
    "df['RAM'].value_counts()"
   ],
   "metadata": {
    "collapsed": false,
    "pycharm": {
     "name": "#%%\n"
    }
   }
  },
  {
   "cell_type": "code",
   "execution_count": 136,
   "outputs": [],
   "source": [
    "df.loc[df['RAM'] > 16, 'RAM'] = 8"
   ],
   "metadata": {
    "collapsed": false,
    "pycharm": {
     "name": "#%%\n"
    }
   }
  },
  {
   "cell_type": "code",
   "execution_count": 137,
   "outputs": [
    {
     "data": {
      "text/plain": "8.0     736\n4.0     377\n2.0     237\n6.0     225\n1.0     193\n3.0     119\n0.0      23\n16.0     16\n5.0       2\nName: RAM, dtype: int64"
     },
     "execution_count": 137,
     "metadata": {},
     "output_type": "execute_result"
    }
   ],
   "source": [
    "df['RAM'].value_counts()"
   ],
   "metadata": {
    "collapsed": false,
    "pycharm": {
     "name": "#%%\n"
    }
   }
  },
  {
   "cell_type": "markdown",
   "source": [
    "### Contract"
   ],
   "metadata": {
    "collapsed": false
   }
  },
  {
   "cell_type": "code",
   "execution_count": 138,
   "outputs": [
    {
     "data": {
      "text/plain": "Without Contract            1760\nPrepaid                      132\nWith Contract                 16\nUntested                       6\nWith or without contract       4\n                              1\nuntested                       1\nName: Contract, dtype: int64"
     },
     "execution_count": 138,
     "metadata": {},
     "output_type": "execute_result"
    }
   ],
   "source": [
    "df.Contract.value_counts()"
   ],
   "metadata": {
    "collapsed": false,
    "pycharm": {
     "name": "#%%\n"
    }
   }
  },
  {
   "cell_type": "markdown",
   "source": [
    "### Операционная система"
   ],
   "metadata": {
    "collapsed": false
   }
  },
  {
   "cell_type": "code",
   "execution_count": 139,
   "outputs": [
    {
     "data": {
      "text/plain": "Android                 1002\nSymbian                  657\nKaiOS                    266\nFeature Phone             84\nS30+                      84\n                        ... \nWindows Phone 7.8          1\nAndroid™ 12                1\nMaemo                      1\nAndroid (Go edition)       1\nMicrosoft WIndows          1\nName: Operating System, Length: 100, dtype: int64"
     },
     "execution_count": 139,
     "metadata": {},
     "output_type": "execute_result"
    }
   ],
   "source": [
    "df['Operating System'].value_counts()"
   ],
   "metadata": {
    "collapsed": false,
    "pycharm": {
     "name": "#%%\n"
    }
   }
  },
  {
   "cell_type": "code",
   "execution_count": 140,
   "outputs": [
    {
     "name": "stderr",
     "output_type": "stream",
     "text": [
      "C:\\Users\\druny\\AppData\\Local\\Temp\\ipykernel_29720\\1654794335.py:1: FutureWarning: The default value of regex will change from True to False in a future version.\n",
      "  df['Operating System'] = df['Operating System'].str.replace(r'Android\\b.*', 'Android')\n"
     ]
    }
   ],
   "source": [
    "df['Operating System'] = df['Operating System'].str.replace(r'Android\\b.*', 'Android')"
   ],
   "metadata": {
    "collapsed": false,
    "pycharm": {
     "name": "#%%\n"
    }
   }
  },
  {
   "cell_type": "code",
   "execution_count": 141,
   "outputs": [],
   "source": [
    "df.loc[(df['Operating System'] == 'iOS') | (df['Operating System'] == 'IOS') | (df['Operating System'] == 'iOS - Apple'), 'Operating System'] = 'IOS'"
   ],
   "metadata": {
    "collapsed": false,
    "pycharm": {
     "name": "#%%\n"
    }
   }
  },
  {
   "cell_type": "code",
   "execution_count": 142,
   "outputs": [],
   "source": [
    "df.loc[(df['Operating System'] != 'IOS') & (df['Operating System'] != 'Android'), 'Operating System'] = 'Other'"
   ],
   "metadata": {
    "collapsed": false,
    "pycharm": {
     "name": "#%%\n"
    }
   }
  },
  {
   "cell_type": "code",
   "execution_count": 143,
   "outputs": [
    {
     "data": {
      "text/plain": "Other      3423\nAndroid    1019\nIOS          25\nName: Operating System, dtype: int64"
     },
     "execution_count": 143,
     "metadata": {},
     "output_type": "execute_result"
    }
   ],
   "source": [
    "df['Operating System'].value_counts()"
   ],
   "metadata": {
    "collapsed": false,
    "pycharm": {
     "name": "#%%\n"
    }
   }
  },
  {
   "cell_type": "markdown",
   "source": [
    "### Форм-Фактор"
   ],
   "metadata": {
    "collapsed": false
   }
  },
  {
   "cell_type": "code",
   "execution_count": 144,
   "outputs": [
    {
     "data": {
      "text/plain": "Bar                 2312\nFlip                 205\nSlider               184\nSmartphone            16\nSlate                  9\nTouch Screen           7\nTouchscreen            7\nFoldable               4\nSwivel                 4\nSlide                  4\nMobile Phone           3\nsmartphone             1\nrugged                 1\nVariety                1\nQWERTY                 1\nSolid                  1\nNokia 2220 slide       1\nClamshell              1\nCandy Bar              1\nClassic                1\nName: Style, dtype: int64"
     },
     "execution_count": 144,
     "metadata": {},
     "output_type": "execute_result"
    }
   ],
   "source": [
    "df['Style'].value_counts() #юслесс"
   ],
   "metadata": {
    "collapsed": false,
    "pycharm": {
     "name": "#%%\n"
    }
   }
  },
  {
   "cell_type": "markdown",
   "source": [
    "### Фичи"
   ],
   "metadata": {
    "collapsed": false
   }
  },
  {
   "cell_type": "code",
   "execution_count": 145,
   "outputs": [
    {
     "data": {
      "text/plain": "Internet Connectivity                                                                                                                             117\nCamera                                                                                                                                             94\nProximity Sensor, E-compass, Gyro Sensor, Accelerometer, Ambient Light Sensor, Ultra Wide-Angle Camera, Fingerprint Sensor, Triple Rear Camera     71\nFacial Recognition, Fingerprint Sensor, Fast Charging                                                                                              37\nProximity Sensor, Accelerometer, High Capacity Battery (5000 mAh or More)                                                                          37\n                                                                                                                                                 ... \nCalendar, Text Messaging, Internet Browser, Bluetooth Enabled, Color Screen, Email Access, Speakerphone, Touch Screen                               1\nSMS, MMS, Email, FM Radio                                                                                                                           1\nSingle SIM                                                                                                                                          1\nInternet Browser, 3G Data Capable, Bluetooth Enabled, GPS, Music Player, Speakerphone                                                               1\nSnapdragon® 695 5G mobile platform, 50 MP AI triple camera, 6.58” FHD+ 120 Hz display, Frame: 60% recycled plastic                                  1\nName: Features, Length: 597, dtype: int64"
     },
     "execution_count": 145,
     "metadata": {},
     "output_type": "execute_result"
    }
   ],
   "source": [
    "df['Features'].value_counts() #юзлесс"
   ],
   "metadata": {
    "collapsed": false,
    "pycharm": {
     "name": "#%%\n"
    }
   }
  },
  {
   "cell_type": "code",
   "execution_count": 146,
   "outputs": [],
   "source": [
    "def clear(feat:str):\n",
    "    if type(feat)==str:\n",
    "        feat = re.split(r',\\s*', feat)\n",
    "        for i in range(len(feat)):\n",
    "            feat[i] = feat[i].strip(\" \\'\\'\\\"\\\"\")\n",
    "        feat = ', '.join(feat)\n",
    "    return feat"
   ],
   "metadata": {
    "collapsed": false,
    "pycharm": {
     "name": "#%%\n"
    }
   }
  },
  {
   "cell_type": "code",
   "execution_count": 147,
   "outputs": [],
   "source": [
    "Features = df['Features'].str.strip(\" []\").apply(clear)"
   ],
   "metadata": {
    "collapsed": false,
    "pycharm": {
     "name": "#%%\n"
    }
   }
  },
  {
   "cell_type": "code",
   "execution_count": 148,
   "outputs": [
    {
     "data": {
      "text/plain": "Internet Connectivity                                                                                                                             117\nCamera                                                                                                                                             94\nProximity Sensor, E-compass, Gyro Sensor, Accelerometer, Ambient Light Sensor, Ultra Wide-Angle Camera, Fingerprint Sensor, Triple Rear Camera     71\nFacial Recognition, Fingerprint Sensor, Fast Charging                                                                                              37\nProximity Sensor, Accelerometer, High Capacity Battery (5000 mAh or More)                                                                          37\n                                                                                                                                                 ... \nAccelerometer, SMS, MMS, Email, IM                                                                                                                  1\nCalendar, Text Messaging, Internet Browser, Bluetooth Enabled, Color Screen, Email Access, Speakerphone, Touch Screen                               1\nSMS, MMS, Email, FM Radio                                                                                                                           1\nSingle SIM                                                                                                                                          1\nSnapdragon® 695 5G mobile platform, 50 MP AI triple camera, 6.58” FHD+ 120 Hz display, Frame: 60% recycled plastic                                  1\nName: Features, Length: 595, dtype: int64"
     },
     "execution_count": 148,
     "metadata": {},
     "output_type": "execute_result"
    }
   ],
   "source": [
    "Features.value_counts()"
   ],
   "metadata": {
    "collapsed": false,
    "pycharm": {
     "name": "#%%\n"
    }
   }
  },
  {
   "cell_type": "code",
   "execution_count": 149,
   "outputs": [],
   "source": [
    "Features = Features.str.get_dummies(', ')"
   ],
   "metadata": {
    "collapsed": false,
    "pycharm": {
     "name": "#%%\n"
    }
   }
  },
  {
   "cell_type": "code",
   "execution_count": 150,
   "outputs": [
    {
     "data": {
      "text/plain": "Bluetooth Enabled     815\nCamera                602\nMusic Player          489\nWi-Fi Capable         419\nAccelerometer         412\n                     ... \nJava                    6\nNight Mode              6\nOLED Display            6\nSNS applications        6\nSpeech Recognition      6\nLength: 100, dtype: int64"
     },
     "execution_count": 150,
     "metadata": {},
     "output_type": "execute_result"
    }
   ],
   "source": [
    "Features.sum().nlargest(100)  #выглядит юслесс и дубликатом"
   ],
   "metadata": {
    "collapsed": false,
    "pycharm": {
     "name": "#%%\n"
    }
   }
  },
  {
   "cell_type": "code",
   "execution_count": 151,
   "outputs": [
    {
     "data": {
      "text/plain": "Index(['1 SIM Card', '1.77'' external screen', '1150 mAh1', '128 MB + 64 MB',\n       '13Mp Front Camera', '2.4” QVGA', '2.8'' internal screen', '2G',\n       '2G NOKIA Phone', '2MP Camera with Flash',\n       ...\n       'recording (selected markets)', 'removable (Charging:AC-18)', 'sms',\n       'tou', 'up to 32 GB MicroSD', 'upgradable to Android 9', 'video light',\n       'wi-fi', 'wireless charger', 'xHTML'],\n      dtype='object', length=394)"
     },
     "execution_count": 151,
     "metadata": {},
     "output_type": "execute_result"
    }
   ],
   "source": [
    "Features.columns"
   ],
   "metadata": {
    "collapsed": false,
    "pycharm": {
     "name": "#%%\n"
    }
   }
  },
  {
   "cell_type": "markdown",
   "source": [
    "### SIM-слот"
   ],
   "metadata": {
    "collapsed": false
   }
  },
  {
   "cell_type": "code",
   "execution_count": 152,
   "outputs": [
    {
     "data": {
      "text/plain": "Single SIM                             1696\nDual SIM (SIM + SIM)                    362\nDual SIM (SIM + SIM + Memory Card)      158\nDual SIM (SIM + SIM/Memory Card)         84\nDual SIM                                 35\nDual SIM (SIM + eSIM)                     8\nSingle                                    3\neSIM                                      2\nOne                                       1\nSingle SIM - Standard SiM card size       1\nOne Or two                                1\nName: SIM Card Slot, dtype: int64"
     },
     "execution_count": 152,
     "metadata": {},
     "output_type": "execute_result"
    }
   ],
   "source": [
    "df['SIM Card Slot'].value_counts() #норм"
   ],
   "metadata": {
    "collapsed": false,
    "pycharm": {
     "name": "#%%\n"
    }
   }
  },
  {
   "cell_type": "markdown",
   "source": [
    "### Карта памяти"
   ],
   "metadata": {
    "collapsed": false
   }
  },
  {
   "cell_type": "code",
   "execution_count": 153,
   "outputs": [
    {
     "data": {
      "text/plain": "MicroSD                                       839\nmicroSDXC                                     476\nMicroSDHC                                     372\nno                                             62\nMultiMediaCard (MMC)                           38\nmicroSDHC (dedicated slot)                     28\nmicroSDHC                                      28\nMicroSD, MicroSDHC                             23\nNot Applicable                                 23\nmicroSD                                        18\nNo                                             15\nMicro SD                                       13\neMMC                                           12\nNO                                              9\nmicroSDXC (uses shared SIM slot)                8\nNone                                            8\nMiniSD                                          8\nCompactFlash                                    6\nmicroSD, up to 8GB                              5\nRS-MMC                                          5\nx                                               4\nMicro SDHC                                      3\nBuilt-In Memory                                 3\n32/64GB                                         3\nMMC                                             3\nunknown                                         3\nMicroSD Card Slot supports for up to 32 GB      2\nmicroSD, up to 2GB, hotswap                     2\nNO SD Card Slot                                 2\nup to 32 GB MicroSD                             2\nSD Memory Card                                  2\nNO SD CARD SLOT                                 2\nMicroSD, TransFlash Card                        2\nNO SD Card SLot                                 1\nmicroSDXC (dedicated slot)                      1\n64GB                                            1\nmicroSD, up to 8GB, buy memory                  1\nMEMORY Card slot MMC                            1\nMicroSim                                        1\nSmartChip                                       1\nMiniSDHC                                        1\nUFS Card                                        1\n64gb                                            1\nmicroSD, up to 16GB                             1\nNO SD SLOT                                      1\n?                                               1\nnone                                            1\nblack                                           1\nmicroSD (dedicated slot)                        1\nMicroSD card                                    1\nUnknown                                         1\nName: Memory Card Type, dtype: int64"
     },
     "execution_count": 153,
     "metadata": {},
     "output_type": "execute_result"
    }
   ],
   "source": [
    "#выглядит юзлесс\n",
    "df['Memory Card Type'].value_counts()"
   ],
   "metadata": {
    "collapsed": false,
    "pycharm": {
     "name": "#%%\n"
    }
   }
  },
  {
   "cell_type": "markdown",
   "source": [
    "### Процессор"
   ],
   "metadata": {
    "collapsed": false
   }
  },
  {
   "cell_type": "code",
   "execution_count": 154,
   "outputs": [
    {
     "data": {
      "text/plain": "Octa Core                633\nSingle Core              574\nQuad Core                296\nDual Core                134\nQual Comm                 48\n                        ... \nmix                        1\n104 MHz ARM 9              1\nUnisoc USM9117             1\nunknown                    1\nUnisoc SC9863A (28nm)      1\nName: Processor, Length: 68, dtype: int64"
     },
     "execution_count": 154,
     "metadata": {},
     "output_type": "execute_result"
    }
   ],
   "source": [
    "df['Processor'].value_counts()"
   ],
   "metadata": {
    "collapsed": false,
    "pycharm": {
     "name": "#%%\n"
    }
   }
  },
  {
   "cell_type": "code",
   "execution_count": 155,
   "outputs": [
    {
     "data": {
      "text/plain": "Others       3364\nOcta Core     637\nQuad Core     311\nDual Core     154\nHexa Core       1\nName: Processor, dtype: int64"
     },
     "execution_count": 155,
     "metadata": {},
     "output_type": "execute_result"
    }
   ],
   "source": [
    "def unify_processor(processor):\n",
    "    if type(processor)==str:\n",
    "        processor = processor.lower()\n",
    "        if 'octa' in processor or '8 core' in processor or '8-core' in processor:\n",
    "            return 'Octa Core'\n",
    "        elif 'hexa' in processor or '6 core' in processor or '6-core' in processor:\n",
    "            return 'Hexa Core'\n",
    "        elif 'quad' in processor or '4 core' in processor or '4-core' in processor:\n",
    "            return 'Quad Core'\n",
    "        elif 'dual' in processor or '2 core' in processor or '2-core' in processor:\n",
    "            return 'Dual Core'\n",
    "        else:\n",
    "            return 'Others'\n",
    "    else:\n",
    "        return 'Others'\n",
    "\n",
    "# Применение функции унификации к столбцу \"Processor\"\n",
    "df['Processor'] = df['Processor'].apply(unify_processor)\n",
    "\n",
    "df['Processor'].value_counts()"
   ],
   "metadata": {
    "collapsed": false,
    "pycharm": {
     "name": "#%%\n"
    }
   }
  },
  {
   "cell_type": "markdown",
   "source": [
    "### Объединяем всё вместе"
   ],
   "metadata": {
    "collapsed": false
   }
  },
  {
   "cell_type": "code",
   "execution_count": 156,
   "outputs": [],
   "source": [
    "data = pd.concat([df, Reasonable], axis = 1)"
   ],
   "metadata": {
    "collapsed": false,
    "pycharm": {
     "name": "#%%\n"
    }
   }
  },
  {
   "cell_type": "code",
   "execution_count": 157,
   "outputs": [
    {
     "data": {
      "text/plain": "Index(['Title', 'Price', 'Shipping_cost', 'Sales_Count', 'Sales_Value', 'Link',\n       'Last_Sale', 'Condition', 'Processor', 'Screen Size', 'Color',\n       'Memory Card Type', 'Lock Status', 'SIM Card Slot', 'Brand', 'Network',\n       'Model', 'Connectivity', 'Style', 'Operating System', 'Features',\n       'Storage Capacity', 'Camera Resolution', 'RAM', 'Seller Notes',\n       'Contract', 'MPN', '2G', '3G', '4G', '5G', 'Bluetooth', 'GSM', 'WI-FI',\n       'Micro USB', 'USB', 'Type-C', 'NFC', 'Dual-Band', 'FM', 'DLNA', 'EDGE',\n       'GPS', 'HDMI Micro', 'Headphone Jack', 'Infrared', 'Lightning',\n       'Quad-Band', 'Tri-Band', 'WAP', 'WCDMA'],\n      dtype='object')"
     },
     "execution_count": 157,
     "metadata": {},
     "output_type": "execute_result"
    }
   ],
   "source": [
    "data.columns"
   ],
   "metadata": {
    "collapsed": false,
    "pycharm": {
     "name": "#%%\n"
    }
   }
  },
  {
   "cell_type": "code",
   "execution_count": 158,
   "outputs": [
    {
     "data": {
      "text/plain": "Title                   0\nPrice                   0\nShipping_cost           0\nSales_Count             0\nSales_Value             0\nLink                    0\nLast_Sale               0\nCondition               9\nProcessor               0\nScreen Size          1868\nColor                 736\nMemory Card Type     2420\nLock Status          1975\nSIM Card Slot        2116\nBrand                   0\nNetwork                 0\nModel                 380\nConnectivity         1621\nStyle                1703\nOperating System        0\nFeatures             2289\nStorage Capacity      509\nCamera Resolution    1832\nRAM                  2539\nSeller Notes         2277\nContract             2547\nMPN                  1946\n2G                      0\n3G                      0\n4G                      0\n5G                      0\nBluetooth               0\nGSM                     0\nWI-FI                   0\nMicro USB               0\nUSB                     0\nType-C                  0\nNFC                     0\nDual-Band               0\nFM                      0\nDLNA                    0\nEDGE                    0\nGPS                     0\nHDMI Micro              0\nHeadphone Jack          0\nInfrared                0\nLightning               0\nQuad-Band               0\nTri-Band                0\nWAP                     0\nWCDMA                   0\ndtype: int64"
     },
     "execution_count": 158,
     "metadata": {},
     "output_type": "execute_result"
    }
   ],
   "source": [
    "data.isna().sum()"
   ],
   "metadata": {
    "collapsed": false,
    "pycharm": {
     "name": "#%%\n"
    }
   }
  },
  {
   "cell_type": "code",
   "execution_count": 159,
   "outputs": [],
   "source": [
    "#чистим наны\n",
    "numeric_cols = data.select_dtypes(include=np.number).columns\n",
    "data[numeric_cols] = data[numeric_cols].fillna(data[numeric_cols].mean())\n",
    "\n",
    "categorical_cols = data.select_dtypes(include='object').columns\n",
    "data[categorical_cols] = data[categorical_cols].fillna(data[categorical_cols].mode().iloc[0])"
   ],
   "metadata": {
    "collapsed": false,
    "pycharm": {
     "name": "#%%\n"
    }
   }
  },
  {
   "cell_type": "code",
   "execution_count": 160,
   "outputs": [
    {
     "data": {
      "text/plain": "Title                0\nPrice                0\nShipping_cost        0\nSales_Count          0\nSales_Value          0\nLink                 0\nLast_Sale            0\nCondition            0\nProcessor            0\nScreen Size          0\nColor                0\nMemory Card Type     0\nLock Status          0\nSIM Card Slot        0\nBrand                0\nNetwork              0\nModel                0\nConnectivity         0\nStyle                0\nOperating System     0\nFeatures             0\nStorage Capacity     0\nCamera Resolution    0\nRAM                  0\nSeller Notes         0\nContract             0\nMPN                  0\n2G                   0\n3G                   0\n4G                   0\n5G                   0\nBluetooth            0\nGSM                  0\nWI-FI                0\nMicro USB            0\nUSB                  0\nType-C               0\nNFC                  0\nDual-Band            0\nFM                   0\nDLNA                 0\nEDGE                 0\nGPS                  0\nHDMI Micro           0\nHeadphone Jack       0\nInfrared             0\nLightning            0\nQuad-Band            0\nTri-Band             0\nWAP                  0\nWCDMA                0\ndtype: int64"
     },
     "execution_count": 160,
     "metadata": {},
     "output_type": "execute_result"
    }
   ],
   "source": [
    "data.isna().sum()"
   ],
   "metadata": {
    "collapsed": false,
    "pycharm": {
     "name": "#%%\n"
    }
   }
  },
  {
   "cell_type": "code",
   "execution_count": 164,
   "outputs": [],
   "source": [
    "data[\"Last_Sale\"] = pd.to_datetime(data[\"Last_Sale\"])"
   ],
   "metadata": {
    "collapsed": false,
    "pycharm": {
     "name": "#%%\n"
    }
   }
  },
  {
   "cell_type": "code",
   "execution_count": 165,
   "outputs": [],
   "source": [
    "data.to_csv('Nokia preprocessed.tsv', index = False, sep = '\\t')"
   ],
   "metadata": {
    "collapsed": false,
    "pycharm": {
     "name": "#%%\n"
    }
   }
  },
  {
   "cell_type": "code",
   "execution_count": null,
   "outputs": [],
   "source": [],
   "metadata": {
    "collapsed": false,
    "pycharm": {
     "name": "#%%\n"
    }
   }
  }
 ],
 "metadata": {
  "kernelspec": {
   "display_name": "Python 3",
   "language": "python",
   "name": "python3"
  },
  "language_info": {
   "codemirror_mode": {
    "name": "ipython",
    "version": 2
   },
   "file_extension": ".py",
   "mimetype": "text/x-python",
   "name": "python",
   "nbconvert_exporter": "python",
   "pygments_lexer": "ipython2",
   "version": "2.7.6"
  }
 },
 "nbformat": 4,
 "nbformat_minor": 0
}