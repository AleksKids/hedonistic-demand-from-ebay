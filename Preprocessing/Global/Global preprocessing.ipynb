{
 "cells": [
  {
   "cell_type": "markdown",
   "source": [
    "# Данный файл содержит алгоритм предобработки Global DataFrame - датафрейма, необходимого для построения модели"
   ],
   "metadata": {
    "collapsed": false,
    "id": "7hjImfLiVfxv"
   }
  },
  {
   "cell_type": "markdown",
   "source": [
    "Проанализируйте столбцы. Что в них содержится? Опишите переменные. Есть ли в данных пропуски? Обработайте пропуски. Если в какой-то колонке пропусков большинство, то ее можно удалить. Если их не очень много, можно заполнить их медианой/средним или чем-нибудь еще, напишите почему вы выбрали тот или иной вариант."
   ],
   "metadata": {
    "collapsed": false
   }
  },
  {
   "cell_type": "markdown",
   "source": [
    "## Первичная очистка и объединение"
   ],
   "metadata": {
    "collapsed": false,
    "id": "_bcun9m1Vfx1"
   }
  },
  {
   "cell_type": "code",
   "execution_count": null,
   "outputs": [],
   "source": [
    "import pandas as pd\n",
    "import re\n",
    "import numpy as np"
   ],
   "metadata": {
    "pycharm": {
     "name": "#%%\n"
    },
    "id": "eu7iAu_cVfx2"
   }
  },
  {
   "cell_type": "code",
   "execution_count": null,
   "outputs": [
    {
     "data": {
      "text/plain": "                                               Title    Price Shipping_cost  \\\n0  Apple iPhone 11 64GB Factory Unlocked 4G LTE S...  $337.59         $0.00   \n1  Apple iPhone XR 64GB Factory Unlocked Smartpho...  $266.28         $0.00   \n2  Apple iPhone 11 64GB Unlocked Smartphone - Ver...  $359.11        $16.93   \n3  Apple iPhone X 64GB Factory Unlocked Phone - V...  $231.98        $16.50   \n4  Apple iPhone X 256GB Unlocked Smartphone - Ver...  $263.59        $15.34   \n\n  Sales_Count    Sales_Value  \\\n0      19,787  $6,679,958.00   \n1      12,440  $3,312,560.60   \n2      12,224  $4,389,742.37   \n3      11,781  $2,732,899.88   \n4      10,020  $2,641,203.85   \n\n                                                Link  \n0  https://www.ebay.com/itm/254604777645?nordt=tr...  \n1  https://www.ebay.com/itm/254187678666?nordt=tr...  \n2  https://www.ebay.com/itm/363183815277?nordt=tr...  \n3  https://www.ebay.com/itm/382605209867?nordt=tr...  \n4  https://www.ebay.com/itm/382446518910?nordt=tr...  ",
      "text/html": "<div>\n<style scoped>\n    .dataframe tbody tr th:only-of-type {\n        vertical-align: middle;\n    }\n\n    .dataframe tbody tr th {\n        vertical-align: top;\n    }\n\n    .dataframe thead th {\n        text-align: right;\n    }\n</style>\n<table border=\"1\" class=\"dataframe\">\n  <thead>\n    <tr style=\"text-align: right;\">\n      <th></th>\n      <th>Title</th>\n      <th>Price</th>\n      <th>Shipping_cost</th>\n      <th>Sales_Count</th>\n      <th>Sales_Value</th>\n      <th>Link</th>\n    </tr>\n  </thead>\n  <tbody>\n    <tr>\n      <th>0</th>\n      <td>Apple iPhone 11 64GB Factory Unlocked 4G LTE S...</td>\n      <td>$337.59</td>\n      <td>$0.00</td>\n      <td>19,787</td>\n      <td>$6,679,958.00</td>\n      <td>https://www.ebay.com/itm/254604777645?nordt=tr...</td>\n    </tr>\n    <tr>\n      <th>1</th>\n      <td>Apple iPhone XR 64GB Factory Unlocked Smartpho...</td>\n      <td>$266.28</td>\n      <td>$0.00</td>\n      <td>12,440</td>\n      <td>$3,312,560.60</td>\n      <td>https://www.ebay.com/itm/254187678666?nordt=tr...</td>\n    </tr>\n    <tr>\n      <th>2</th>\n      <td>Apple iPhone 11 64GB Unlocked Smartphone - Ver...</td>\n      <td>$359.11</td>\n      <td>$16.93</td>\n      <td>12,224</td>\n      <td>$4,389,742.37</td>\n      <td>https://www.ebay.com/itm/363183815277?nordt=tr...</td>\n    </tr>\n    <tr>\n      <th>3</th>\n      <td>Apple iPhone X 64GB Factory Unlocked Phone - V...</td>\n      <td>$231.98</td>\n      <td>$16.50</td>\n      <td>11,781</td>\n      <td>$2,732,899.88</td>\n      <td>https://www.ebay.com/itm/382605209867?nordt=tr...</td>\n    </tr>\n    <tr>\n      <th>4</th>\n      <td>Apple iPhone X 256GB Unlocked Smartphone - Ver...</td>\n      <td>$263.59</td>\n      <td>$15.34</td>\n      <td>10,020</td>\n      <td>$2,641,203.85</td>\n      <td>https://www.ebay.com/itm/382446518910?nordt=tr...</td>\n    </tr>\n  </tbody>\n</table>\n</div>"
     },
     "execution_count": 2,
     "metadata": {},
     "output_type": "execute_result"
    }
   ],
   "source": [
    "df_items = pd.read_csv('https://raw.githubusercontent.com/AleksKids/hedonistic-demand-from-ebay/main/Data%20Tables/Global/Sales.tsv', delimiter = \"\\t\")\n",
    "df_items.head()"
   ],
   "metadata": {
    "pycharm": {
     "name": "#%%\n"
    },
    "id": "nngiW-i7Vfx5",
    "outputId": "7f155124-e5ce-435c-b58f-97608526aa7e"
   }
  },
  {
   "cell_type": "code",
   "execution_count": null,
   "outputs": [
    {
     "data": {
      "text/plain": "Title            0\nPrice            0\nShipping_cost    0\nSales_Count      0\nSales_Value      0\nLink             0\ndtype: int64"
     },
     "execution_count": 3,
     "metadata": {},
     "output_type": "execute_result"
    }
   ],
   "source": [
    "df_items.dropna(subset=['Link'], inplace=True)\n",
    "df_items.reset_index(inplace=True)\n",
    "df_items.drop('index', axis=1, inplace = True)\n",
    "df_items.isna().sum()"
   ],
   "metadata": {
    "pycharm": {
     "name": "#%%\n"
    },
    "id": "kERhtL9aVfx-",
    "outputId": "5926c8a8-7b7b-41c1-847c-8b9a41eeab24"
   }
  },
  {
   "cell_type": "code",
   "execution_count": null,
   "outputs": [
    {
     "data": {
      "text/plain": "                                               Title    Price Shipping_cost  \\\n0  Apple iPhone 11 64GB Factory Unlocked 4G LTE S...  $337.59         $0.00   \n1  Apple iPhone XR 64GB Factory Unlocked Smartpho...  $266.28         $0.00   \n2  Apple iPhone 11 64GB Unlocked Smartphone - Ver...  $359.11        $16.93   \n3  Apple iPhone X 64GB Factory Unlocked Phone - V...  $231.98        $16.50   \n4  Apple iPhone X 256GB Unlocked Smartphone - Ver...  $263.59        $15.34   \n\n  Sales_Count    Sales_Value  \\\n0      19,787  $6,679,958.00   \n1      12,440  $3,312,560.60   \n2      12,224  $4,389,742.37   \n3      11,781  $2,732,899.88   \n4      10,020  $2,641,203.85   \n\n                                                Link  \n0  https://www.ebay.com/itm/254604777645?nordt=tr...  \n1  https://www.ebay.com/itm/254187678666?nordt=tr...  \n2  https://www.ebay.com/itm/363183815277?nordt=tr...  \n3  https://www.ebay.com/itm/382605209867?nordt=tr...  \n4  https://www.ebay.com/itm/382446518910?nordt=tr...  ",
      "text/html": "<div>\n<style scoped>\n    .dataframe tbody tr th:only-of-type {\n        vertical-align: middle;\n    }\n\n    .dataframe tbody tr th {\n        vertical-align: top;\n    }\n\n    .dataframe thead th {\n        text-align: right;\n    }\n</style>\n<table border=\"1\" class=\"dataframe\">\n  <thead>\n    <tr style=\"text-align: right;\">\n      <th></th>\n      <th>Title</th>\n      <th>Price</th>\n      <th>Shipping_cost</th>\n      <th>Sales_Count</th>\n      <th>Sales_Value</th>\n      <th>Link</th>\n    </tr>\n  </thead>\n  <tbody>\n    <tr>\n      <th>0</th>\n      <td>Apple iPhone 11 64GB Factory Unlocked 4G LTE S...</td>\n      <td>$337.59</td>\n      <td>$0.00</td>\n      <td>19,787</td>\n      <td>$6,679,958.00</td>\n      <td>https://www.ebay.com/itm/254604777645?nordt=tr...</td>\n    </tr>\n    <tr>\n      <th>1</th>\n      <td>Apple iPhone XR 64GB Factory Unlocked Smartpho...</td>\n      <td>$266.28</td>\n      <td>$0.00</td>\n      <td>12,440</td>\n      <td>$3,312,560.60</td>\n      <td>https://www.ebay.com/itm/254187678666?nordt=tr...</td>\n    </tr>\n    <tr>\n      <th>2</th>\n      <td>Apple iPhone 11 64GB Unlocked Smartphone - Ver...</td>\n      <td>$359.11</td>\n      <td>$16.93</td>\n      <td>12,224</td>\n      <td>$4,389,742.37</td>\n      <td>https://www.ebay.com/itm/363183815277?nordt=tr...</td>\n    </tr>\n    <tr>\n      <th>3</th>\n      <td>Apple iPhone X 64GB Factory Unlocked Phone - V...</td>\n      <td>$231.98</td>\n      <td>$16.50</td>\n      <td>11,781</td>\n      <td>$2,732,899.88</td>\n      <td>https://www.ebay.com/itm/382605209867?nordt=tr...</td>\n    </tr>\n    <tr>\n      <th>4</th>\n      <td>Apple iPhone X 256GB Unlocked Smartphone - Ver...</td>\n      <td>$263.59</td>\n      <td>$15.34</td>\n      <td>10,020</td>\n      <td>$2,641,203.85</td>\n      <td>https://www.ebay.com/itm/382446518910?nordt=tr...</td>\n    </tr>\n  </tbody>\n</table>\n</div>"
     },
     "execution_count": 4,
     "metadata": {},
     "output_type": "execute_result"
    }
   ],
   "source": [
    "df_items.head()"
   ],
   "metadata": {
    "pycharm": {
     "name": "#%%\n"
    },
    "id": "Q728m2fQVfyA",
    "outputId": "3b63ae29-09a2-4abe-849f-c8491e7a05a4"
   }
  },
  {
   "cell_type": "code",
   "execution_count": null,
   "outputs": [],
   "source": [
    "def Sales_Value(value):\n",
    "  pattern = r'\\$|,'\n",
    "  clean_value = re.sub(pattern, '', value)\n",
    "  numeric_value = float(clean_value)\n",
    "  return numeric_value\n",
    "\n",
    "\n",
    "df_items.Price = df_items.Price.apply(lambda x: float(re.sub(r'[^\\d.]', '', x)))\n",
    "df_items.Shipping_cost = df_items.Shipping_cost.apply(lambda x: float(re.sub(r'[^\\d.]', '', x)))\n",
    "df_items.Sales_Count = df_items.Sales_Count.apply(lambda x: float(re.sub(\",\", \"\", x)))\n",
    "df_items.Sales_Value = df_items.Sales_Value.apply(lambda x: Sales_Value(x))"
   ],
   "metadata": {
    "pycharm": {
     "name": "#%%\n"
    },
    "id": "F5Mnyd-GVfyB"
   }
  },
  {
   "cell_type": "code",
   "execution_count": null,
   "outputs": [
    {
     "data": {
      "text/plain": "                                               Title   Price  Shipping_cost  \\\n0  Apple iPhone 11 64GB Factory Unlocked 4G LTE S...  337.59           0.00   \n1  Apple iPhone XR 64GB Factory Unlocked Smartpho...  266.28           0.00   \n2  Apple iPhone 11 64GB Unlocked Smartphone - Ver...  359.11          16.93   \n3  Apple iPhone X 64GB Factory Unlocked Phone - V...  231.98          16.50   \n4  Apple iPhone X 256GB Unlocked Smartphone - Ver...  263.59          15.34   \n\n   Sales_Count  Sales_Value                                               Link  \n0      19787.0   6679958.00  https://www.ebay.com/itm/254604777645?nordt=tr...  \n1      12440.0   3312560.60  https://www.ebay.com/itm/254187678666?nordt=tr...  \n2      12224.0   4389742.37  https://www.ebay.com/itm/363183815277?nordt=tr...  \n3      11781.0   2732899.88  https://www.ebay.com/itm/382605209867?nordt=tr...  \n4      10020.0   2641203.85  https://www.ebay.com/itm/382446518910?nordt=tr...  ",
      "text/html": "<div>\n<style scoped>\n    .dataframe tbody tr th:only-of-type {\n        vertical-align: middle;\n    }\n\n    .dataframe tbody tr th {\n        vertical-align: top;\n    }\n\n    .dataframe thead th {\n        text-align: right;\n    }\n</style>\n<table border=\"1\" class=\"dataframe\">\n  <thead>\n    <tr style=\"text-align: right;\">\n      <th></th>\n      <th>Title</th>\n      <th>Price</th>\n      <th>Shipping_cost</th>\n      <th>Sales_Count</th>\n      <th>Sales_Value</th>\n      <th>Link</th>\n    </tr>\n  </thead>\n  <tbody>\n    <tr>\n      <th>0</th>\n      <td>Apple iPhone 11 64GB Factory Unlocked 4G LTE S...</td>\n      <td>337.59</td>\n      <td>0.00</td>\n      <td>19787.0</td>\n      <td>6679958.00</td>\n      <td>https://www.ebay.com/itm/254604777645?nordt=tr...</td>\n    </tr>\n    <tr>\n      <th>1</th>\n      <td>Apple iPhone XR 64GB Factory Unlocked Smartpho...</td>\n      <td>266.28</td>\n      <td>0.00</td>\n      <td>12440.0</td>\n      <td>3312560.60</td>\n      <td>https://www.ebay.com/itm/254187678666?nordt=tr...</td>\n    </tr>\n    <tr>\n      <th>2</th>\n      <td>Apple iPhone 11 64GB Unlocked Smartphone - Ver...</td>\n      <td>359.11</td>\n      <td>16.93</td>\n      <td>12224.0</td>\n      <td>4389742.37</td>\n      <td>https://www.ebay.com/itm/363183815277?nordt=tr...</td>\n    </tr>\n    <tr>\n      <th>3</th>\n      <td>Apple iPhone X 64GB Factory Unlocked Phone - V...</td>\n      <td>231.98</td>\n      <td>16.50</td>\n      <td>11781.0</td>\n      <td>2732899.88</td>\n      <td>https://www.ebay.com/itm/382605209867?nordt=tr...</td>\n    </tr>\n    <tr>\n      <th>4</th>\n      <td>Apple iPhone X 256GB Unlocked Smartphone - Ver...</td>\n      <td>263.59</td>\n      <td>15.34</td>\n      <td>10020.0</td>\n      <td>2641203.85</td>\n      <td>https://www.ebay.com/itm/382446518910?nordt=tr...</td>\n    </tr>\n  </tbody>\n</table>\n</div>"
     },
     "execution_count": 6,
     "metadata": {},
     "output_type": "execute_result"
    }
   ],
   "source": [
    "df_items.head()"
   ],
   "metadata": {
    "pycharm": {
     "name": "#%%\n"
    },
    "id": "4s9SC-IAVfyC",
    "outputId": "a209f529-fc46-4aa9-ea28-8e3da8d4d888"
   }
  },
  {
   "cell_type": "code",
   "execution_count": null,
   "outputs": [
    {
     "data": {
      "text/plain": "                                               Title   Price  Shipping_cost  \\\n0  Apple iPhone 11 64GB Factory Unlocked 4G LTE S...  337.59           0.00   \n1  Apple iPhone XR 64GB Factory Unlocked Smartpho...  266.28           0.00   \n2  Apple iPhone 11 64GB Unlocked Smartphone - Ver...  359.11          16.93   \n3  Apple iPhone X 64GB Factory Unlocked Phone - V...  231.98          16.50   \n4  Apple iPhone X 256GB Unlocked Smartphone - Ver...  263.59          15.34   \n\n   Sales_Count  Sales_Value  \\\n0      19787.0   6679958.00   \n1      12440.0   3312560.60   \n2      12224.0   4389742.37   \n3      11781.0   2732899.88   \n4      10020.0   2641203.85   \n\n                                                Link  brand  \n0  https://www.ebay.com/itm/254604777645?nordt=tr...  apple  \n1  https://www.ebay.com/itm/254187678666?nordt=tr...  apple  \n2  https://www.ebay.com/itm/363183815277?nordt=tr...  apple  \n3  https://www.ebay.com/itm/382605209867?nordt=tr...  apple  \n4  https://www.ebay.com/itm/382446518910?nordt=tr...  apple  ",
      "text/html": "<div>\n<style scoped>\n    .dataframe tbody tr th:only-of-type {\n        vertical-align: middle;\n    }\n\n    .dataframe tbody tr th {\n        vertical-align: top;\n    }\n\n    .dataframe thead th {\n        text-align: right;\n    }\n</style>\n<table border=\"1\" class=\"dataframe\">\n  <thead>\n    <tr style=\"text-align: right;\">\n      <th></th>\n      <th>Title</th>\n      <th>Price</th>\n      <th>Shipping_cost</th>\n      <th>Sales_Count</th>\n      <th>Sales_Value</th>\n      <th>Link</th>\n      <th>brand</th>\n    </tr>\n  </thead>\n  <tbody>\n    <tr>\n      <th>0</th>\n      <td>Apple iPhone 11 64GB Factory Unlocked 4G LTE S...</td>\n      <td>337.59</td>\n      <td>0.00</td>\n      <td>19787.0</td>\n      <td>6679958.00</td>\n      <td>https://www.ebay.com/itm/254604777645?nordt=tr...</td>\n      <td>apple</td>\n    </tr>\n    <tr>\n      <th>1</th>\n      <td>Apple iPhone XR 64GB Factory Unlocked Smartpho...</td>\n      <td>266.28</td>\n      <td>0.00</td>\n      <td>12440.0</td>\n      <td>3312560.60</td>\n      <td>https://www.ebay.com/itm/254187678666?nordt=tr...</td>\n      <td>apple</td>\n    </tr>\n    <tr>\n      <th>2</th>\n      <td>Apple iPhone 11 64GB Unlocked Smartphone - Ver...</td>\n      <td>359.11</td>\n      <td>16.93</td>\n      <td>12224.0</td>\n      <td>4389742.37</td>\n      <td>https://www.ebay.com/itm/363183815277?nordt=tr...</td>\n      <td>apple</td>\n    </tr>\n    <tr>\n      <th>3</th>\n      <td>Apple iPhone X 64GB Factory Unlocked Phone - V...</td>\n      <td>231.98</td>\n      <td>16.50</td>\n      <td>11781.0</td>\n      <td>2732899.88</td>\n      <td>https://www.ebay.com/itm/382605209867?nordt=tr...</td>\n      <td>apple</td>\n    </tr>\n    <tr>\n      <th>4</th>\n      <td>Apple iPhone X 256GB Unlocked Smartphone - Ver...</td>\n      <td>263.59</td>\n      <td>15.34</td>\n      <td>10020.0</td>\n      <td>2641203.85</td>\n      <td>https://www.ebay.com/itm/382446518910?nordt=tr...</td>\n      <td>apple</td>\n    </tr>\n  </tbody>\n</table>\n</div>"
     },
     "execution_count": 7,
     "metadata": {},
     "output_type": "execute_result"
    }
   ],
   "source": [
    "brands_list = ['Apple', 'Samsung', 'Huawei', 'Xiaomi', 'Oppo', 'OnePlus', 'Google', 'Motorola', 'Sony', 'LG', 'HTC', 'Nokia', 'BlackBerry', 'Lenovo', 'Asus', 'ZTE', 'Alcatel', 'Vivo', 'Realme', 'Honor']\n",
    "brands_regex = re.compile('('+ '|'.join(brands_list) + ')', flags=re.IGNORECASE)\n",
    "\n",
    "df_items['brand'] = df_items['Title'].str.extract(brands_regex)\n",
    "df_items['brand'] = df_items['brand'].apply(lambda x: x.lower() if type(x) == str else x)\n",
    "df_items.head()"
   ],
   "metadata": {
    "pycharm": {
     "name": "#%%\n"
    },
    "id": "K41FQ_C6VfyD",
    "outputId": "faa31f8c-2897-411e-b0cb-ca057a6dd02c"
   }
  },
  {
   "cell_type": "markdown",
   "source": [
    "Здесь мы задаём, какие у нас есть бренды и далее компелируем данные для последующего использования.\n",
    "\n",
    "Далее создаём новый столбик с данными, к какому бренду принадлежит смартфон, чтобы можно было работать с этой информацией."
   ],
   "metadata": {
    "id": "yazUupYnWAUw"
   }
  },
  {
   "cell_type": "code",
   "execution_count": null,
   "outputs": [
    {
     "name": "stderr",
     "output_type": "stream",
     "text": [
      "C:\\Users\\druny\\AppData\\Local\\Temp\\ipykernel_25300\\2426919534.py:1: DtypeWarning: Columns (27,28,32,35,36,39,45,46,55,56,59,65,68,69,70,74,77,78,89,95,99,101,106,107,113,116,122,134,138,139,140,146,152,153,154,156,159,162,163,166,167,168,171,173,175,176,180,181,182,187,188,189,190,192,193,194,198,199,201,202,206,208,209,210,211,212,213,214,215,216,217,218,219,221,222,223,226,229,233,235,236,238,240,241,244,245,246,247,248,251,252,254,257,259,261,265,266,267,272,273,274,276,277,278,279,280,281,282,283,284,285,286,287,288,289,290,291,292,293,294,295,296,297,298,299,300,301,302,303,304,307,314,315,316,317,318,319,320,321,322,323,324,325,326,327,328,329,330,331,332,333,334,335,336,337,338,339,340,341,342,343,345,346,347,348,349,350,351,352) have mixed types. Specify dtype option on import or set low_memory=False.\n",
      "  characteristics_df = pd.read_csv(\"https://raw.githubusercontent.com/AleksKids/hedonistic-demand-from-ebay/main/Data%20Tables/Global/Characteristics.tsv\", delimiter = \"\\t\")\n"
     ]
    }
   ],
   "source": [
    "characteristics_df = pd.read_csv(\"https://raw.githubusercontent.com/AleksKids/hedonistic-demand-from-ebay/main/Data%20Tables/Global/Characteristics.tsv\", delimiter = \"\\t\")"
   ],
   "metadata": {
    "pycharm": {
     "name": "#%%\n"
    },
    "id": "zhuFQr91VfyF",
    "outputId": "a20d4369-5757-4793-93af-51ee27279c98"
   }
  },
  {
   "cell_type": "code",
   "execution_count": null,
   "outputs": [
    {
     "data": {
      "text/plain": "['Link',\n 'Condition',\n 'Seller Notes',\n 'Brand',\n 'Model',\n 'Storage Capacity',\n 'Network',\n 'Camera Resolution',\n 'Screen Size',\n 'Lock Status',\n 'RAM',\n 'Contract',\n 'Operating System',\n 'Model Number',\n 'Style',\n 'MPN',\n 'Connectivity',\n 'Features',\n 'SIM Card Slot',\n 'Memory Card Type',\n 'Processor',\n 'Color']"
     },
     "execution_count": 9,
     "metadata": {},
     "output_type": "execute_result"
    }
   ],
   "source": [
    "cols = list(characteristics_df.count()[(characteristics_df.count()>(1000))].index)\n",
    "cols"
   ],
   "metadata": {
    "pycharm": {
     "name": "#%%\n"
    },
    "id": "CmIEDXirVfyG",
    "outputId": "4133dd8f-fe0d-408e-f60c-e6e5cf7b0e47"
   }
  },
  {
   "cell_type": "code",
   "execution_count": null,
   "outputs": [],
   "source": [
    "characteristics_df = characteristics_df[cols]"
   ],
   "metadata": {
    "pycharm": {
     "name": "#%%\n"
    },
    "id": "kPnH0m4oVfyH"
   }
  },
  {
   "cell_type": "code",
   "execution_count": null,
   "outputs": [
    {
     "data": {
      "text/plain": "Link                    0\nCondition               0\nBrand                  20\nModel                 166\nOperating System      380\nStorage Capacity      425\nNetwork               508\nCamera Resolution     511\nScreen Size           511\nMPN                   685\nProcessor             697\nConnectivity          721\nLock Status           724\nRAM                   726\nContract              758\nFeatures              827\nSeller Notes          853\nStyle                 956\nSIM Card Slot         991\nModel Number         1058\nMemory Card Type     1397\nColor                1787\ndtype: int64"
     },
     "execution_count": 11,
     "metadata": {},
     "output_type": "execute_result"
    }
   ],
   "source": [
    "characteristics_df.isna().sum().sort_values()"
   ],
   "metadata": {
    "pycharm": {
     "name": "#%%\n"
    },
    "id": "drwmA7g-VfyI",
    "outputId": "7f621ed2-1b86-4f29-ebe7-829e3d784e12"
   }
  },
  {
   "cell_type": "code",
   "execution_count": null,
   "outputs": [],
   "source": [
    "merged_df = df_items.merge(characteristics_df, on='Link', how='inner')"
   ],
   "metadata": {
    "pycharm": {
     "name": "#%%\n"
    },
    "id": "QBVJMVsYVfyJ"
   }
  },
  {
   "cell_type": "code",
   "execution_count": null,
   "outputs": [
    {
     "name": "stderr",
     "output_type": "stream",
     "text": [
      "C:\\Users\\druny\\AppData\\Local\\Temp\\ipykernel_25300\\2412579994.py:1: SettingWithCopyWarning: \n",
      "A value is trying to be set on a copy of a slice from a DataFrame\n",
      "\n",
      "See the caveats in the documentation: https://pandas.pydata.org/pandas-docs/stable/user_guide/indexing.html#returning-a-view-versus-a-copy\n",
      "  merged_df[\"Brand\"][merged_df[\"Brand\"].isna()] = merged_df[\"brand\"].apply(lambda x: x.title() if type(x)==str else x)\n"
     ]
    }
   ],
   "source": [
    "merged_df[\"Brand\"][merged_df[\"Brand\"].isna()] = merged_df[\"brand\"].apply(lambda x: x.title() if type(x)==str else x)"
   ],
   "metadata": {
    "pycharm": {
     "name": "#%%\n"
    },
    "id": "WKK7ztx-VfyK",
    "outputId": "026c24af-088d-4004-9133-776638dbab9f"
   }
  },
  {
   "cell_type": "code",
   "execution_count": null,
   "outputs": [
    {
     "data": {
      "text/plain": "Title                3081\nPrice                3081\nShipping_cost        3081\nSales_Count          3081\nSales_Value          3081\nLink                 3081\nbrand                2695\nCondition            3081\nSeller Notes         2200\nBrand                3073\nModel                2911\nStorage Capacity     2630\nNetwork              2541\nCamera Resolution    2560\nScreen Size          2556\nLock Status          2325\nRAM                  2335\nContract             2289\nOperating System     2689\nModel Number         1961\nStyle                2067\nMPN                  2356\nConnectivity         2330\nFeatures             2216\nSIM Card Slot        2044\nMemory Card Type     1612\nProcessor            2358\nColor                1204\ndtype: int64"
     },
     "execution_count": 14,
     "metadata": {},
     "output_type": "execute_result"
    }
   ],
   "source": [
    "(~merged_df.isna()).sum()"
   ],
   "metadata": {
    "pycharm": {
     "name": "#%%\n"
    },
    "id": "CNd7fdVHVfyK",
    "outputId": "6aff6295-829e-4cac-daf2-d90861a64544"
   }
  },
  {
   "cell_type": "markdown",
   "source": [
    "Тут мы смотрим какие данные из датафрейма присутсвуют и отсутствуют и в каком количестве."
   ],
   "metadata": {
    "id": "wXk3FMVeWvHf"
   }
  },
  {
   "cell_type": "code",
   "execution_count": null,
   "outputs": [
    {
     "data": {
      "text/plain": "Title                Motorola Moto G Stylus 5G XT2131-3 GSM Unlocke...\nPrice                                                           199.56\nShipping_cost                                                    10.39\nSales_Count                                                      673.0\nSales_Value                                                  134304.65\nLink                 https://www.ebay.com/itm/203747687712?nordt=tr...\nbrand                                                         motorola\nCondition                                                     Open box\nSeller Notes         “Unlocked and compatible with any GSM Carrier ...\nBrand                                                         Motorola\nModel                                                      G stylus 5G\nStorage Capacity                                                128 GB\nNetwork                                                  AT&T Unlocked\nCamera Resolution                                              48.0 MP\nScreen Size                                                     6.8 in\nLock Status                                           Network Unlocked\nRAM                                                               4 GB\nContract                                              Without Contract\nOperating System                                            Android 11\nModel Number                                                  XT2131-3\nStyle                                                              NaN\nMPN                                                   Moto G Stylus 5G\nConnectivity                                                        5G\nFeatures                                                           NaN\nSIM Card Slot                                               Single SIM\nMemory Card Type                                               MicroSD\nProcessor                                                          NaN\nColor                                           Cosmic Emerald (Green)\nName: 182, dtype: object"
     },
     "execution_count": 15,
     "metadata": {},
     "output_type": "execute_result"
    }
   ],
   "source": [
    "merged_df.iloc[182]"
   ],
   "metadata": {
    "pycharm": {
     "name": "#%%\n"
    },
    "id": "cqNyFNv0VfyM",
    "outputId": "e07235e2-d9ac-4239-efda-d456caef4fdb"
   }
  },
  {
   "cell_type": "code",
   "execution_count": null,
   "outputs": [],
   "source": [
    "merged_df.drop('brand', axis=1, inplace = True)"
   ],
   "metadata": {
    "pycharm": {
     "name": "#%%\n"
    },
    "id": "vHGIPlu_VfyN"
   }
  },
  {
   "cell_type": "code",
   "execution_count": null,
   "outputs": [],
   "source": [
    "merged_df.to_csv(\"Global Merged.tsv\", sep=\"\\t\")"
   ],
   "metadata": {
    "pycharm": {
     "name": "#%%\n"
    },
    "id": "oqjVYC2ZVfyO"
   }
  },
  {
   "cell_type": "code",
   "execution_count": null,
   "outputs": [
    {
     "data": {
      "text/plain": "(3081, 27)"
     },
     "execution_count": 17,
     "metadata": {},
     "output_type": "execute_result"
    }
   ],
   "source": [
    "merged_df.shape"
   ],
   "metadata": {
    "pycharm": {
     "name": "#%%\n"
    },
    "id": "MyCv98XbVfyP",
    "outputId": "f2876200-9dc0-4583-cfb8-530c190b05e1"
   }
  },
  {
   "cell_type": "code",
   "source": [
    "У нас получилась табличка с 27 колонками и данными о смартфонах в количестве 3081."
   ],
   "metadata": {
    "id": "jT6yCdi-W7zm"
   },
   "execution_count": null,
   "outputs": []
  },
  {
   "cell_type": "markdown",
   "source": [
    "## Вторичная предобработка полученных с eBay данных"
   ],
   "metadata": {
    "collapsed": false,
    "id": "aMu2TMUNVfyR"
   }
  },
  {
   "cell_type": "code",
   "execution_count": null,
   "outputs": [],
   "source": [
    "df = pd.read_csv('https://raw.githubusercontent.com/AleksKids/hedonistic-demand-from-ebay/main/Preprocessing/Global/Global Merged.tsv', delimiter = '\\t')"
   ],
   "metadata": {
    "pycharm": {
     "name": "#%%\n"
    },
    "id": "alIvHmEUVfyR"
   }
  },
  {
   "cell_type": "code",
   "execution_count": null,
   "outputs": [
    {
     "data": {
      "text/plain": "   Unnamed: 0                                              Title   Price  \\\n0           0  Apple iPhone 11 64GB Factory Unlocked 4G LTE S...  337.59   \n1           1  Apple iPhone XR 64GB Factory Unlocked Smartpho...  266.28   \n2           2  Apple iPhone 11 64GB Unlocked Smartphone - Ver...  359.11   \n3           3  Apple iPhone X 64GB Factory Unlocked Phone - V...  231.98   \n4           4  Apple iPhone X 256GB Unlocked Smartphone - Ver...  263.59   \n\n   Shipping_cost  Sales_Count  Sales_Value  \\\n0           0.00      19787.0   6679958.00   \n1           0.00      12440.0   3312560.60   \n2          16.93      12224.0   4389742.37   \n3          16.50      11781.0   2732899.88   \n4          15.34      10020.0   2641203.85   \n\n                                                Link                Condition  \\\n0  https://www.ebay.com/itm/254604777645?nordt=tr...  Very Good - Refurbished   \n1  https://www.ebay.com/itm/254187678666?nordt=tr...  Very Good - Refurbished   \n2  https://www.ebay.com/itm/363183815277?nordt=tr...  Very Good - Refurbished   \n3  https://www.ebay.com/itm/382605209867?nordt=tr...  Very Good - Refurbished   \n4  https://www.ebay.com/itm/382446518910?nordt=tr...  Very Good - Refurbished   \n\n                                        Seller Notes  Brand  ...  \\\n0  “This iPhone 11 is in Very Good condition and ...  Apple  ...   \n1  “This Apple iPhone XR 64GB Factory Unlocked Sm...  Apple  ...   \n2  “This is a B+ Stock item, meaning unit is in v...  Apple  ...   \n3  “This is a B+ Stock item, meaning unit is in v...  Apple  ...   \n4  “This is a B+ Stock item, meaning unit is in v...  Apple  ...   \n\n  Operating System        Model Number       Style  \\\n0              iOS               A2111  Smartphone   \n1              iOS               A1984  Smartphone   \n2              iOS  A2111 (CDMA + GSM)         NaN   \n3              iOS               A1901  Smartphone   \n4              iOS               A1901  Smartphone   \n\n                                                 MPN  \\\n0                                                NaN   \n1                                          MRYR2LL/A   \n2  MWLD2LL/A, MWL72LL/A, MWL82LL/A, MWL92LL/A, MW...   \n3                                          MQA62LL/A   \n4                               MQAN2LL/A, MQAM2LL/A   \n\n                             Connectivity  \\\n0                                     NaN   \n1                                     NaN   \n2                      4G, Bluetooth, GPS   \n3  2G, 3G, 4G, Bluetooth, GPS, LTE, Wi-Fi   \n4                      4G, Bluetooth, GPS   \n\n                                            Features SIM Card Slot  \\\n0                                                NaN           NaN   \n1                                                NaN           NaN   \n2  Face ID, Three-axis gyro, 4K Video Recording, ...    Single SIM   \n3  4K Video Recording, Bluetooth Enabled, Email, ...    Single SIM   \n4              4K Video Recording, Bluetooth Enabled    Single SIM   \n\n  Memory Card Type  Processor Color  \n0              NaN        NaN   NaN  \n1              NaN        NaN   NaN  \n2   Not Applicable  Hexa Core   NaN  \n3              NaN  Hexa Core   NaN  \n4              NaN  Hexa Core   NaN  \n\n[5 rows x 28 columns]",
      "text/html": "<div>\n<style scoped>\n    .dataframe tbody tr th:only-of-type {\n        vertical-align: middle;\n    }\n\n    .dataframe tbody tr th {\n        vertical-align: top;\n    }\n\n    .dataframe thead th {\n        text-align: right;\n    }\n</style>\n<table border=\"1\" class=\"dataframe\">\n  <thead>\n    <tr style=\"text-align: right;\">\n      <th></th>\n      <th>Unnamed: 0</th>\n      <th>Title</th>\n      <th>Price</th>\n      <th>Shipping_cost</th>\n      <th>Sales_Count</th>\n      <th>Sales_Value</th>\n      <th>Link</th>\n      <th>Condition</th>\n      <th>Seller Notes</th>\n      <th>Brand</th>\n      <th>...</th>\n      <th>Operating System</th>\n      <th>Model Number</th>\n      <th>Style</th>\n      <th>MPN</th>\n      <th>Connectivity</th>\n      <th>Features</th>\n      <th>SIM Card Slot</th>\n      <th>Memory Card Type</th>\n      <th>Processor</th>\n      <th>Color</th>\n    </tr>\n  </thead>\n  <tbody>\n    <tr>\n      <th>0</th>\n      <td>0</td>\n      <td>Apple iPhone 11 64GB Factory Unlocked 4G LTE S...</td>\n      <td>337.59</td>\n      <td>0.00</td>\n      <td>19787.0</td>\n      <td>6679958.00</td>\n      <td>https://www.ebay.com/itm/254604777645?nordt=tr...</td>\n      <td>Very Good - Refurbished</td>\n      <td>“This iPhone 11 is in Very Good condition and ...</td>\n      <td>Apple</td>\n      <td>...</td>\n      <td>iOS</td>\n      <td>A2111</td>\n      <td>Smartphone</td>\n      <td>NaN</td>\n      <td>NaN</td>\n      <td>NaN</td>\n      <td>NaN</td>\n      <td>NaN</td>\n      <td>NaN</td>\n      <td>NaN</td>\n    </tr>\n    <tr>\n      <th>1</th>\n      <td>1</td>\n      <td>Apple iPhone XR 64GB Factory Unlocked Smartpho...</td>\n      <td>266.28</td>\n      <td>0.00</td>\n      <td>12440.0</td>\n      <td>3312560.60</td>\n      <td>https://www.ebay.com/itm/254187678666?nordt=tr...</td>\n      <td>Very Good - Refurbished</td>\n      <td>“This Apple iPhone XR 64GB Factory Unlocked Sm...</td>\n      <td>Apple</td>\n      <td>...</td>\n      <td>iOS</td>\n      <td>A1984</td>\n      <td>Smartphone</td>\n      <td>MRYR2LL/A</td>\n      <td>NaN</td>\n      <td>NaN</td>\n      <td>NaN</td>\n      <td>NaN</td>\n      <td>NaN</td>\n      <td>NaN</td>\n    </tr>\n    <tr>\n      <th>2</th>\n      <td>2</td>\n      <td>Apple iPhone 11 64GB Unlocked Smartphone - Ver...</td>\n      <td>359.11</td>\n      <td>16.93</td>\n      <td>12224.0</td>\n      <td>4389742.37</td>\n      <td>https://www.ebay.com/itm/363183815277?nordt=tr...</td>\n      <td>Very Good - Refurbished</td>\n      <td>“This is a B+ Stock item, meaning unit is in v...</td>\n      <td>Apple</td>\n      <td>...</td>\n      <td>iOS</td>\n      <td>A2111 (CDMA + GSM)</td>\n      <td>NaN</td>\n      <td>MWLD2LL/A, MWL72LL/A, MWL82LL/A, MWL92LL/A, MW...</td>\n      <td>4G, Bluetooth, GPS</td>\n      <td>Face ID, Three-axis gyro, 4K Video Recording, ...</td>\n      <td>Single SIM</td>\n      <td>Not Applicable</td>\n      <td>Hexa Core</td>\n      <td>NaN</td>\n    </tr>\n    <tr>\n      <th>3</th>\n      <td>3</td>\n      <td>Apple iPhone X 64GB Factory Unlocked Phone - V...</td>\n      <td>231.98</td>\n      <td>16.50</td>\n      <td>11781.0</td>\n      <td>2732899.88</td>\n      <td>https://www.ebay.com/itm/382605209867?nordt=tr...</td>\n      <td>Very Good - Refurbished</td>\n      <td>“This is a B+ Stock item, meaning unit is in v...</td>\n      <td>Apple</td>\n      <td>...</td>\n      <td>iOS</td>\n      <td>A1901</td>\n      <td>Smartphone</td>\n      <td>MQA62LL/A</td>\n      <td>2G, 3G, 4G, Bluetooth, GPS, LTE, Wi-Fi</td>\n      <td>4K Video Recording, Bluetooth Enabled, Email, ...</td>\n      <td>Single SIM</td>\n      <td>NaN</td>\n      <td>Hexa Core</td>\n      <td>NaN</td>\n    </tr>\n    <tr>\n      <th>4</th>\n      <td>4</td>\n      <td>Apple iPhone X 256GB Unlocked Smartphone - Ver...</td>\n      <td>263.59</td>\n      <td>15.34</td>\n      <td>10020.0</td>\n      <td>2641203.85</td>\n      <td>https://www.ebay.com/itm/382446518910?nordt=tr...</td>\n      <td>Very Good - Refurbished</td>\n      <td>“This is a B+ Stock item, meaning unit is in v...</td>\n      <td>Apple</td>\n      <td>...</td>\n      <td>iOS</td>\n      <td>A1901</td>\n      <td>Smartphone</td>\n      <td>MQAN2LL/A, MQAM2LL/A</td>\n      <td>4G, Bluetooth, GPS</td>\n      <td>4K Video Recording, Bluetooth Enabled</td>\n      <td>Single SIM</td>\n      <td>NaN</td>\n      <td>Hexa Core</td>\n      <td>NaN</td>\n    </tr>\n  </tbody>\n</table>\n<p>5 rows × 28 columns</p>\n</div>"
     },
     "execution_count": 3,
     "metadata": {},
     "output_type": "execute_result"
    }
   ],
   "source": [
    "df.head()"
   ],
   "metadata": {
    "pycharm": {
     "name": "#%%\n"
    },
    "id": "IgNW-FLnVfyS",
    "outputId": "8439323a-c7fb-46ec-f458-4143fdcc9e9a"
   }
  },
  {
   "cell_type": "code",
   "execution_count": null,
   "outputs": [
    {
     "data": {
      "text/plain": "Index(['Unnamed: 0', 'Title', 'Price', 'Shipping_cost', 'Sales_Count',\n       'Sales_Value', 'Link', 'Condition', 'Seller Notes', 'Brand', 'Model',\n       'Storage Capacity', 'Network', 'Camera Resolution', 'Screen Size',\n       'Lock Status', 'RAM', 'Contract', 'Operating System', 'Model Number',\n       'Style', 'MPN', 'Connectivity', 'Features', 'SIM Card Slot',\n       'Memory Card Type', 'Processor', 'Color'],\n      dtype='object')"
     },
     "execution_count": 4,
     "metadata": {},
     "output_type": "execute_result"
    }
   ],
   "source": [
    "df.columns"
   ],
   "metadata": {
    "pycharm": {
     "name": "#%%\n"
    },
    "id": "BtAGL0D_VfyT",
    "outputId": "71251db2-4837-4a7f-f189-1798981ec2a5"
   }
  },
  {
   "cell_type": "code",
   "execution_count": null,
   "outputs": [],
   "source": [
    "df.drop(columns = 'Unnamed: 0', inplace = True)"
   ],
   "metadata": {
    "pycharm": {
     "name": "#%%\n"
    },
    "id": "cyjbN8mAVfyT"
   }
  },
  {
   "cell_type": "code",
   "execution_count": null,
   "outputs": [
    {
     "data": {
      "text/plain": "<Axes: >"
     },
     "execution_count": 6,
     "metadata": {},
     "output_type": "execute_result"
    },
    {
     "data": {
      "text/plain": "<Figure size 640x480 with 1 Axes>",
      "image/png": "[encoded data removed]"
     },
     "metadata": {},
     "output_type": "display_data"
    }
   ],
   "source": [
    "import seaborn as sns\n",
    "sns.boxplot(df.Price)"
   ],
   "metadata": {
    "pycharm": {
     "name": "#%%\n"
    },
    "id": "1zM0_MT_VfyU",
    "outputId": "57bf5f25-7886-466e-91ed-0e080a9df2a3"
   }
  },
  {
   "cell_type": "markdown",
   "source": [
    "## Ищем и убираем мусор.\n",
    "\n",
    "Ищем наблюдения, у которых значения больше и меньше 0.01 и 0.099 квантиля соответсвенно, так как данные содержат некоторые выбросы."
   ],
   "metadata": {
    "collapsed": false,
    "id": "-YMqyGg6VfyU"
   }
  },
  {
   "cell_type": "code",
   "execution_count": null,
   "outputs": [
    {
     "data": {
      "text/plain": "                                                  Title    Price  \\\n384   Apple iPhone 14 Pro Max 128GB Space Black - (U...  1045.48   \n672   Apple iPhone 14 Pro 128GB Space Black - (Unloc...   933.62   \n719   Apple iPhone 12 Pro Max 5G 128GB Graphite - (V...   918.07   \n762   Apple iPhone 12 Pro Max 5G 256GB Graphite - (V...   970.09   \n918   SAMSUNG Galaxy S23, S23+, S23Ultra 5G Unlocked...  1229.73   \n930   Apple iPhone 13 Pro Max 5G 128GB Sierra Blue -...   996.42   \n1034  Apple iPhone 13 Pro Max 5G 256GB Graphite MLKR...  1036.79   \n1113  Samsung Galaxy Z Fold 4 F936U1 512GB (Factory ...   958.24   \n1185  Apple iPhone 13 Pro Max 256GB Gold - (Verizon)...  1015.97   \n1255  Apple iPhone 13 Pro Max 5G 256GB Sierra Blue -...   984.53   \n1272  Apple iPhone 13 Pro 256GB Graphite - (Verizon)...   910.99   \n1284  Apple iPhone 13 Pro Max 256GB Graphite Verizon...   964.04   \n1383  New Samsung Galaxy S22 Ultra 5G SM-S908U 256GB...   877.57   \n1491  Apple iPhone 13 Pro 5G 256GB Sierra Blue - (Ve...   932.48   \n1525  Apple iPhone 13 Pro Max 5G 128GB Sierra Blue (...   875.97   \n1668  Apple iPhone 13 Pro Max 256GB Unlocked Smartph...   931.49   \n1734  Samsung Galaxy S21 Ultra 5G 512GB 16GB RAM Sma...  1388.92   \n1776  Apple iPhone 14 Pro 128GB/256GB A2650 Factory ...   972.46   \n1790  Apple iPhone 12 Pro Max Graphite 128GB - (AT&T...   889.98   \n1798  New Samsung Galaxy S22 Ultra 5G SM-S908U 512GB...   974.59   \n1856  SAMSUNG Galaxy Z Fold4 5G SM-F936N 256/512GB/1...  1493.39   \n1858  Apple iPhone 14 Pro Max 256GB Space Black - (U...  1048.22   \n1970  New Samsung Galaxy S21 Ultra 5G 256GB Smartpho...  1078.55   \n2101  Apple iPhone 14 Pro 256GB Space Black - (Unloc...  1029.54   \n2205  Apple iPhone 13 Pro Max 5G 128GB Sierra Blue -...   893.67   \n2314  Apple iPhone 13 Pro Max 5G 256GB Sierra Blue -...   895.08   \n2529  Sony Xperia PRO-I 5G Smartphone 120Hz 6.5\" 21:...   890.04   \n2773  Samsung Galaxy G998U S21 Ultra 5G 512GB Unlock...   985.78   \n2849  Apple iPhone 12 Pro Max 128GB Unlocked Smartph...   921.85   \n2963  Apple iPhone 13 Pro Max 256GB Graphite - (Fact...   899.00   \n3019  Apple iPhone 13 Pro Max 5G 256GB Sierra Blue -...   968.61   \n\n      Shipping_cost  Sales_Count  Sales_Value  \\\n384            0.00        355.0    371146.00   \n672            0.00        234.0    218467.14   \n719            0.00        234.0    214829.32   \n762            0.00        236.0    228940.53   \n918           11.58        159.0    195526.91   \n930            0.00        230.0    229175.70   \n1034           0.00        225.0    233277.96   \n1113          27.06        126.0    120738.74   \n1185           0.00        145.0    147315.00   \n1255           0.00        122.0    120113.00   \n1272           0.00        179.0    163067.44   \n1284           0.00        129.0    124361.00   \n1383          31.87         93.0     81614.07   \n1491           0.00        111.0    103504.84   \n1525           0.00         89.0     77961.00   \n1668          14.99         82.0     76381.90   \n1734           0.00         70.0     97224.60   \n1776          47.40         75.0     72934.25   \n1790           0.00         79.0     70308.26   \n1798          29.99         67.0     65297.33   \n1856          10.96         64.0     95576.97   \n1858           0.00         67.0     70230.55   \n1970           0.00         60.0     64712.99   \n2101           0.00         56.0     57654.10   \n2205           0.00         58.0     51832.99   \n2314           0.00         51.0     45649.00   \n2529           0.00         43.0     38271.80   \n2773           0.00         38.0     37459.62   \n2849          14.99         42.0     38717.65   \n2963           0.00         46.0     41354.00   \n3019           0.00         38.0     36807.00   \n\n                                                   Link  \\\n384   https://www.ebay.com/itm/134281877123?nordt=tr...   \n672   https://www.ebay.com/itm/364016785976?nordt=tr...   \n719   https://www.ebay.com/itm/363276125904?nordt=tr...   \n762   https://www.ebay.com/itm/363276131710?nordt=tr...   \n918   https://www.ebay.com/itm/354557412430?nordt=tr...   \n930   https://www.ebay.com/itm/363687011705?nordt=tr...   \n1034  https://www.ebay.com/itm/363667334620?nordt=tr...   \n1113  https://www.ebay.com/itm/325405959604?nordt=tr...   \n1185  https://www.ebay.com/itm/144475670475?nordt=tr...   \n1255  https://www.ebay.com/itm/363660360454?nordt=tr...   \n1272  https://www.ebay.com/itm/133995139792?nordt=tr...   \n1284  https://www.ebay.com/itm/133967467113?nordt=tr...   \n1383  https://www.ebay.com/itm/204173167214?nordt=tr...   \n1491  https://www.ebay.com/itm/144330181632?nordt=tr...   \n1525  https://www.ebay.com/itm/144299275641?nordt=tr...   \n1668  https://www.ebay.com/itm/364007273533?nordt=tr...   \n1734  https://www.ebay.com/itm/265014799715?nordt=tr...   \n1776  https://www.ebay.com/itm/285069051292?nordt=tr...   \n1790  https://www.ebay.com/itm/133693914838?nordt=tr...   \n1798  https://www.ebay.com/itm/195325130186?nordt=tr...   \n1856  https://www.ebay.com/itm/354292343188?nordt=tr...   \n1858  https://www.ebay.com/itm/364024740214?nordt=tr...   \n1970  https://www.ebay.com/itm/233860240455?nordt=tr...   \n2101  https://www.ebay.com/itm/144768604430?nordt=tr...   \n2205  https://www.ebay.com/itm/144430240280?nordt=tr...   \n2314  https://www.ebay.com/itm/363735459965?nordt=tr...   \n2529  https://www.ebay.com/itm/313895027510?nordt=tr...   \n2773  https://www.ebay.com/itm/254977533321?nordt=tr...   \n2849  https://www.ebay.com/itm/384501272640?nordt=tr...   \n2963  https://www.ebay.com/itm/364016783548?nordt=tr...   \n3019  https://www.ebay.com/itm/363691444540?nordt=tr...   \n\n                                              Condition  \\\n384                                            Open box   \n672                                            Open box   \n719                                            Open box   \n762                                            Open box   \n918   New: A brand-new, unused, unopened, undamaged ...   \n930                                            Open box   \n1034                                           Open box   \n1113                                           Open box   \n1185                                           Open box   \n1255                                           Open box   \n1272                                           Open box   \n1284                                           Open box   \n1383  New: A brand-new, unused, unopened, undamaged ...   \n1491                                           Open box   \n1525                                           Open box   \n1668                            Excellent - Refurbished   \n1734  New: A brand-new, unused, unopened, undamaged ...   \n1776                                           Open box   \n1790                                           Open box   \n1798  New: A brand-new, unused, unopened, undamaged ...   \n1856  New: A brand-new, unused, unopened, undamaged ...   \n1858                                           Open box   \n1970  New: A brand-new, unused, unopened, undamaged ...   \n2101                                           Open box   \n2205                                           Open box   \n2314                                           Open box   \n2529                            Certified - Refurbished   \n2773                            Excellent - Refurbished   \n2849                            Excellent - Refurbished   \n2963                                           Open box   \n3019                                           Open box   \n\n                                           Seller Notes                Brand  \\\n384   “The item in this listing is an Open Box (pack...                Apple   \n672   “The item in this listing is an Open Box (pack...                Apple   \n719   “The item in this listing is an Open Box (pack...                Apple   \n762   “The item in this listing is an Open Box (pack...                Apple   \n918                                                 NaN              Samsung   \n930   “The item in this listing is an Open Box (pack...                Apple   \n1034  “The item in this listing is an Open Box (pack...                Apple   \n1113  “The device will be in excellent condition. Sc...              Samsung   \n1185  “The item in this listing is an Open Box (pack...                Apple   \n1255  “The item in this listing is an Open Box (pack...                Apple   \n1272  “The item in this listing is an Open Box (pack...                Apple   \n1284  “The item in this listing is an Open Box (pack...                Apple   \n1383                                                NaN              Samsung   \n1491  “The item in this listing is an Open Box (pack...                Apple   \n1525  “The item in this listing is an Open Box (pack...                Apple   \n1668  “This is an A Stock item, meaning unit is in e...                Apple   \n1734                                                NaN              Samsung   \n1776  “These items look new and are fully functional...                Apple   \n1790  “The item in this listing is an Open Box (pack...                Apple   \n1798                                                NaN              Samsung   \n1856                                                NaN              Samsung   \n1858  “The item in this listing is an Open Box (pack...                Apple   \n1970                                                NaN              Samsung   \n2101  “The item in this listing is an Open Box (pack...                Apple   \n2205  “The item in this listing is an Open Box (pack...                Apple   \n2314  “The item in this listing is an Open Box (pack...                Apple   \n2529  “This item has been refurbished by the manufac...                 Sony   \n2773  “This Samsung Galaxy S21 Ultra 5G is in Excell...  Samsung Electronics   \n2849  “This is an A Stock item, meaning unit is in e...                Apple   \n2963  “The item in this listing is an Open Box (pack...                Apple   \n3019  “The item in this listing is an Open Box (pack...                Apple   \n\n                                         Model  ... Operating System  \\\n384                    Apple iPhone 14 Pro Max  ...              iOS   \n672                        Apple iPhone 14 Pro  ...              iOS   \n719                    Apple iPhone 12 Pro Max  ...              iOS   \n762                    Apple iPhone 12 Pro Max  ...              iOS   \n918   Samsung Galaxy S23 / S23+ / S23 Ultra 5G  ...          Android   \n930                    Apple iPhone 13 Pro Max  ...              iOS   \n1034                   Apple iPhone 13 Pro Max  ...              iOS   \n1113                    Samsung Galaxy Z Fold4  ...          Android   \n1185                   Apple iPhone 13 Pro Max  ...              iOS   \n1255                   Apple iPhone 13 Pro Max  ...              iOS   \n1272                       Apple iPhone 13 Pro  ...              iOS   \n1284                   Apple iPhone 13 Pro Max  ...              iOS   \n1383                  Samsung Galaxy S22 Ultra  ...          Android   \n1491                       Apple iPhone 13 Pro  ...              iOS   \n1525                       Apple iPhone 13 Pro  ...              iOS   \n1668                   Apple iPhone 13 Pro Max  ...              iOS   \n1734               Samsung Galaxy S21 Ultra 5G  ...          Android   \n1776                             iPhone 14 Pro  ...              iOS   \n1790                   Apple iPhone 12 Pro Max  ...              iOS   \n1798                  Samsung Galaxy S22 Ultra  ...          Android   \n1856           Samsung Galaxy Z Fold4 SM-F936N  ...          Android   \n1858                   Apple iPhone 14 Pro Max  ...              iOS   \n1970               Samsung Galaxy S21 Ultra 5G  ...          Android   \n2101                       Apple iPhone 14 Pro  ...              iOS   \n2205                   Apple iPhone 13 Pro Max  ...              iOS   \n2314                   Apple iPhone 13 Pro Max  ...              iOS   \n2529                         Sony Xperia PRO-I  ...          Android   \n2773               Samsung Galaxy S21 Ultra 5G  ...          Android   \n2849                   Apple iPhone 12 Pro Max  ...              iOS   \n2963                   Apple iPhone 13 Pro Max  ...              iOS   \n3019                   Apple iPhone 13 Pro Max  ...              iOS   \n\n            Model Number       Style  \\\n384                  NaN         Bar   \n672                  NaN         Bar   \n719                  NaN         Bar   \n762                  NaN         Bar   \n918                  NaN  Smartphone   \n930                  NaN         Bar   \n1034                 NaN         Bar   \n1113           SM-F936U1    Foldable   \n1185                 NaN         Bar   \n1255                 NaN         Bar   \n1272                 NaN         Bar   \n1284                 NaN         Bar   \n1383               S908U  Smartphone   \n1491                 NaN         Bar   \n1525                 NaN         Bar   \n1668  A2161 (CDMA + GSM)         NaN   \n1734                 NaN         NaN   \n1776                 NaN         Bar   \n1790                 NaN         Bar   \n1798               S908U  Smartphone   \n1856                 NaN    Foldable   \n1858         A2651 (GSM)         Bar   \n1970                 NaN         NaN   \n2101                 NaN         Bar   \n2205                 NaN         Bar   \n2314                 NaN         Bar   \n2529                 NaN         Bar   \n2773            SM-G998U  Smartphone   \n2849               A2342         NaN   \n2963  A2484 (CDMA + GSM)         Bar   \n3019                 NaN         Bar   \n\n                                                    MPN  \\\n384                                           MQ8N3LL/A   \n672                                           MPXT3LL/A   \n719                                           MG9A3LL/A   \n762                                                 NaN   \n918                        SM-S918N, SM-S916N, SM-S911N   \n930                                           MLKP3LL/A   \n1034                                          MLKR3LL/A   \n1113                     SM-F936UZKEXAA, SM-F936UZKFXAA   \n1185                                          MLKU3LL/A   \n1255                                          MLKV3LL/A   \n1272                                          MLTW3LL/A   \n1284                                          MLKR3LL/A   \n1383                                           SM-S908U   \n1491                                          MLU03LL/A   \n1525                                          MLTT3LL/A   \n1668  MLF63LL/A, MLF93LL/A, MLF73LL/A, MNCF3LL/A, ML...   \n1734                                           SM-G998N   \n1776                                              A2650   \n1790                                          MG8X3LL/A   \n1798                                           SM-S908U   \n1856                                                NaN   \n1858                                          MQ8T3LL/A   \n1970                                           SM-G998N   \n2101                                          MQ0N3LL/A   \n2205                                          MLKP3LL/A   \n2314                                          MLKV3LL/A   \n2529                                           XQBE62/B   \n2773                                                NaN   \n2849         MGCF3LL/A, MGCG3LL/A, MGCH3LL/A, MGCJ3LL/A   \n2963                                MLKR3LL/A, MLKR3LLA   \n3019                                          MLKV3LL/A   \n\n                              Connectivity  \\\n384   5G, Bluetooth, Wi-Fi, Lightning, NFC   \n672   5G, Bluetooth, Wi-Fi, Lightning, NFC   \n719   5G, Bluetooth, Wi-Fi, Lightning, NFC   \n762   5G, Bluetooth, Wi-Fi, Lightning, NFC   \n918                                     5G   \n930   5G, Bluetooth, Wi-Fi, Lightning, NFC   \n1034  5G, Bluetooth, Wi-Fi, Lightning, NFC   \n1113                                    5G   \n1185  5G, Bluetooth, Wi-Fi, Lightning, NFC   \n1255  5G, Bluetooth, Wi-Fi, Lightning, NFC   \n1272  5G, Bluetooth, Wi-Fi, Lightning, NFC   \n1284  5G, Bluetooth, Wi-Fi, Lightning, NFC   \n1383                4G, 5G, Bluetooth, GPS   \n1491  5G, Bluetooth, Wi-Fi, Lightning, NFC   \n1525  5G, Bluetooth, Wi-Fi, Lightning, NFC   \n1668                    4G, Bluetooth, GPS   \n1734                                   NaN   \n1776                                   NaN   \n1790  5G, Bluetooth, Wi-Fi, Lightning, NFC   \n1798                4G, 5G, Bluetooth, GPS   \n1856                                    5G   \n1858  5G, Bluetooth, Wi-Fi, Lightning, NFC   \n1970                                   NaN   \n2101  5G, Bluetooth, Wi-Fi, Lightning, NFC   \n2205  5G, Bluetooth, Wi-Fi, Lightning, NFC   \n2314  5G, Bluetooth, Wi-Fi, Lightning, NFC   \n2529      USB Type-C, 5G, Bluetooth, Wi-Fi   \n2773                                   NaN   \n2849                4G, 5G, Bluetooth, GPS   \n2963  5G, Bluetooth, Wi-Fi, Lightning, NFC   \n3019  5G, Bluetooth, Wi-Fi, Lightning, NFC   \n\n                                               Features  \\\n384   Proximity Sensor, E-compass, Gyro Sensor, Acce...   \n672   Proximity Sensor, E-compass, Gyro Sensor, Acce...   \n719   Proximity Sensor, E-compass, Gyro Sensor, Acce...   \n762   Proximity Sensor, E-compass, Gyro Sensor, Acce...   \n918                                                IP68   \n930   Proximity Sensor, E-compass, Gyro Sensor, Acce...   \n1034  Proximity Sensor, E-compass, Gyro Sensor, Acce...   \n1113                                        Dual Screen   \n1185  Proximity Sensor, E-compass, Gyro Sensor, Acce...   \n1255  Proximity Sensor, E-compass, Gyro Sensor, Acce...   \n1272  Proximity Sensor, E-compass, Gyro Sensor, Acce...   \n1284  Proximity Sensor, E-compass, Gyro Sensor, Acce...   \n1383  Internet Browser, Touchscreen, 4G Data Capable...   \n1491  Proximity Sensor, E-compass, Gyro Sensor, Acce...   \n1525  Proximity Sensor, E-compass, Gyro Sensor, Acce...   \n1668  Face ID, Three-axis gyro, 4K Video Recording, ...   \n1734                                                NaN   \n1776                                                NaN   \n1790  Proximity Sensor, E-compass, Gyro Sensor, Acce...   \n1798  Internet Browser, Touchscreen, 4G Data Capable...   \n1856                                                NaN   \n1858  Proximity Sensor, E-compass, Gyro Sensor, Acce...   \n1970                                                NaN   \n2101  Proximity Sensor, E-compass, Gyro Sensor, Acce...   \n2205  Proximity Sensor, E-compass, Gyro Sensor, Acce...   \n2314  Proximity Sensor, E-compass, Gyro Sensor, Acce...   \n2529  Water-Resistant, 4K Video Recording, Dust-Resi...   \n2773                                                NaN   \n2849  Face ID, Three-axis gyro, 4K Video Recording, ...   \n2963  Proximity Sensor, E-compass, Gyro Sensor, Acce...   \n3019  Proximity Sensor, E-compass, Gyro Sensor, Acce...   \n\n                         SIM Card Slot Memory Card Type         Processor  \\\n384                                NaN              NaN         Hexa Core   \n672                                NaN              NaN         Hexa Core   \n719                                NaN              NaN         Hexa Core   \n762                                NaN              NaN         Hexa Core   \n918                                NaN              NaN               NaN   \n930                                NaN              NaN         Hexa Core   \n1034                               NaN              NaN         Hexa Core   \n1113                        Single SIM              NaN         Octa Core   \n1185                               NaN              NaN         Hexa Core   \n1255                               NaN              NaN         Hexa Core   \n1272                               NaN              NaN         Hexa Core   \n1284                               NaN              NaN         Hexa Core   \n1383                        Single SIM             None         Octa Core   \n1491                               NaN              NaN         Hexa Core   \n1525                               NaN              NaN         Hexa Core   \n1668             Dual SIM (SIM + eSIM)   Not Applicable  Apple A15 Bionic   \n1734                               NaN              NaN               NaN   \n1776                               NaN              NaN               NaN   \n1790                               NaN              NaN         Hexa Core   \n1798                        Single SIM             None         Octa Core   \n1856                               NaN              NaN               NaN   \n1858                              eSIM              NaN         Hexa Core   \n1970                               NaN              NaN               NaN   \n2101                               NaN              NaN         Hexa Core   \n2205                               NaN              NaN         Hexa Core   \n2314                               NaN              NaN         Hexa Core   \n2529  Dual SIM (SIM + SIM/Memory Card)        microSDXC         Octa Core   \n2773                               NaN              NaN               NaN   \n2849             Dual SIM (SIM + eSIM)   Not Applicable         Hexa Core   \n2963             Dual SIM (SIM + eSIM)              NaN         Hexa Core   \n3019                               NaN              NaN         Hexa Core   \n\n      Color  \n384   Black  \n672   Black  \n719    Gray  \n762    Gray  \n918     NaN  \n930    Blue  \n1034   Gray  \n1113    NaN  \n1185   Gold  \n1255   Blue  \n1272   Gray  \n1284   Gray  \n1383    NaN  \n1491   Blue  \n1525   Blue  \n1668    NaN  \n1734    NaN  \n1776    NaN  \n1790   Gray  \n1798    NaN  \n1856    NaN  \n1858  Black  \n1970    NaN  \n2101  Black  \n2205   Blue  \n2314   Blue  \n2529  Black  \n2773    NaN  \n2849    NaN  \n2963   Gray  \n3019   Blue  \n\n[31 rows x 27 columns]",
      "text/html": "<div>\n<style scoped>\n    .dataframe tbody tr th:only-of-type {\n        vertical-align: middle;\n    }\n\n    .dataframe tbody tr th {\n        vertical-align: top;\n    }\n\n    .dataframe thead th {\n        text-align: right;\n    }\n</style>\n<table border=\"1\" class=\"dataframe\">\n  <thead>\n    <tr style=\"text-align: right;\">\n      <th></th>\n      <th>Title</th>\n      <th>Price</th>\n      <th>Shipping_cost</th>\n      <th>Sales_Count</th>\n      <th>Sales_Value</th>\n      <th>Link</th>\n      <th>Condition</th>\n      <th>Seller Notes</th>\n      <th>Brand</th>\n      <th>Model</th>\n      <th>...</th>\n      <th>Operating System</th>\n      <th>Model Number</th>\n      <th>Style</th>\n      <th>MPN</th>\n      <th>Connectivity</th>\n      <th>Features</th>\n      <th>SIM Card Slot</th>\n      <th>Memory Card Type</th>\n      <th>Processor</th>\n      <th>Color</th>\n    </tr>\n  </thead>\n  <tbody>\n    <tr>\n      <th>384</th>\n      <td>Apple iPhone 14 Pro Max 128GB Space Black - (U...</td>\n      <td>1045.48</td>\n      <td>0.00</td>\n      <td>355.0</td>\n      <td>371146.00</td>\n      <td>https://www.ebay.com/itm/134281877123?nordt=tr...</td>\n      <td>Open box</td>\n      <td>“The item in this listing is an Open Box (pack...</td>\n      <td>Apple</td>\n      <td>Apple iPhone 14 Pro Max</td>\n      <td>...</td>\n      <td>iOS</td>\n      <td>NaN</td>\n      <td>Bar</td>\n      <td>MQ8N3LL/A</td>\n      <td>5G, Bluetooth, Wi-Fi, Lightning, NFC</td>\n      <td>Proximity Sensor, E-compass, Gyro Sensor, Acce...</td>\n      <td>NaN</td>\n      <td>NaN</td>\n      <td>Hexa Core</td>\n      <td>Black</td>\n    </tr>\n    <tr>\n      <th>672</th>\n      <td>Apple iPhone 14 Pro 128GB Space Black - (Unloc...</td>\n      <td>933.62</td>\n      <td>0.00</td>\n      <td>234.0</td>\n      <td>218467.14</td>\n      <td>https://www.ebay.com/itm/364016785976?nordt=tr...</td>\n      <td>Open box</td>\n      <td>“The item in this listing is an Open Box (pack...</td>\n      <td>Apple</td>\n      <td>Apple iPhone 14 Pro</td>\n      <td>...</td>\n      <td>iOS</td>\n      <td>NaN</td>\n      <td>Bar</td>\n      <td>MPXT3LL/A</td>\n      <td>5G, Bluetooth, Wi-Fi, Lightning, NFC</td>\n      <td>Proximity Sensor, E-compass, Gyro Sensor, Acce...</td>\n      <td>NaN</td>\n      <td>NaN</td>\n      <td>Hexa Core</td>\n      <td>Black</td>\n    </tr>\n    <tr>\n      <th>719</th>\n      <td>Apple iPhone 12 Pro Max 5G 128GB Graphite - (V...</td>\n      <td>918.07</td>\n      <td>0.00</td>\n      <td>234.0</td>\n      <td>214829.32</td>\n      <td>https://www.ebay.com/itm/363276125904?nordt=tr...</td>\n      <td>Open box</td>\n      <td>“The item in this listing is an Open Box (pack...</td>\n      <td>Apple</td>\n      <td>Apple iPhone 12 Pro Max</td>\n      <td>...</td>\n      <td>iOS</td>\n      <td>NaN</td>\n      <td>Bar</td>\n      <td>MG9A3LL/A</td>\n      <td>5G, Bluetooth, Wi-Fi, Lightning, NFC</td>\n      <td>Proximity Sensor, E-compass, Gyro Sensor, Acce...</td>\n      <td>NaN</td>\n      <td>NaN</td>\n      <td>Hexa Core</td>\n      <td>Gray</td>\n    </tr>\n    <tr>\n      <th>762</th>\n      <td>Apple iPhone 12 Pro Max 5G 256GB Graphite - (V...</td>\n      <td>970.09</td>\n      <td>0.00</td>\n      <td>236.0</td>\n      <td>228940.53</td>\n      <td>https://www.ebay.com/itm/363276131710?nordt=tr...</td>\n      <td>Open box</td>\n      <td>“The item in this listing is an Open Box (pack...</td>\n      <td>Apple</td>\n      <td>Apple iPhone 12 Pro Max</td>\n      <td>...</td>\n      <td>iOS</td>\n      <td>NaN</td>\n      <td>Bar</td>\n      <td>NaN</td>\n      <td>5G, Bluetooth, Wi-Fi, Lightning, NFC</td>\n      <td>Proximity Sensor, E-compass, Gyro Sensor, Acce...</td>\n      <td>NaN</td>\n      <td>NaN</td>\n      <td>Hexa Core</td>\n      <td>Gray</td>\n    </tr>\n    <tr>\n      <th>918</th>\n      <td>SAMSUNG Galaxy S23, S23+, S23Ultra 5G Unlocked...</td>\n      <td>1229.73</td>\n      <td>11.58</td>\n      <td>159.0</td>\n      <td>195526.91</td>\n      <td>https://www.ebay.com/itm/354557412430?nordt=tr...</td>\n      <td>New: A brand-new, unused, unopened, undamaged ...</td>\n      <td>NaN</td>\n      <td>Samsung</td>\n      <td>Samsung Galaxy S23 / S23+ / S23 Ultra 5G</td>\n      <td>...</td>\n      <td>Android</td>\n      <td>NaN</td>\n      <td>Smartphone</td>\n      <td>SM-S918N, SM-S916N, SM-S911N</td>\n      <td>5G</td>\n      <td>IP68</td>\n      <td>NaN</td>\n      <td>NaN</td>\n      <td>NaN</td>\n      <td>NaN</td>\n    </tr>\n    <tr>\n      <th>930</th>\n      <td>Apple iPhone 13 Pro Max 5G 128GB Sierra Blue -...</td>\n      <td>996.42</td>\n      <td>0.00</td>\n      <td>230.0</td>\n      <td>229175.70</td>\n      <td>https://www.ebay.com/itm/363687011705?nordt=tr...</td>\n      <td>Open box</td>\n      <td>“The item in this listing is an Open Box (pack...</td>\n      <td>Apple</td>\n      <td>Apple iPhone 13 Pro Max</td>\n      <td>...</td>\n      <td>iOS</td>\n      <td>NaN</td>\n      <td>Bar</td>\n      <td>MLKP3LL/A</td>\n      <td>5G, Bluetooth, Wi-Fi, Lightning, NFC</td>\n      <td>Proximity Sensor, E-compass, Gyro Sensor, Acce...</td>\n      <td>NaN</td>\n      <td>NaN</td>\n      <td>Hexa Core</td>\n      <td>Blue</td>\n    </tr>\n    <tr>\n      <th>1034</th>\n      <td>Apple iPhone 13 Pro Max 5G 256GB Graphite MLKR...</td>\n      <td>1036.79</td>\n      <td>0.00</td>\n      <td>225.0</td>\n      <td>233277.96</td>\n      <td>https://www.ebay.com/itm/363667334620?nordt=tr...</td>\n      <td>Open box</td>\n      <td>“The item in this listing is an Open Box (pack...</td>\n      <td>Apple</td>\n      <td>Apple iPhone 13 Pro Max</td>\n      <td>...</td>\n      <td>iOS</td>\n      <td>NaN</td>\n      <td>Bar</td>\n      <td>MLKR3LL/A</td>\n      <td>5G, Bluetooth, Wi-Fi, Lightning, NFC</td>\n      <td>Proximity Sensor, E-compass, Gyro Sensor, Acce...</td>\n      <td>NaN</td>\n      <td>NaN</td>\n      <td>Hexa Core</td>\n      <td>Gray</td>\n    </tr>\n    <tr>\n      <th>1113</th>\n      <td>Samsung Galaxy Z Fold 4 F936U1 512GB (Factory ...</td>\n      <td>958.24</td>\n      <td>27.06</td>\n      <td>126.0</td>\n      <td>120738.74</td>\n      <td>https://www.ebay.com/itm/325405959604?nordt=tr...</td>\n      <td>Open box</td>\n      <td>“The device will be in excellent condition. Sc...</td>\n      <td>Samsung</td>\n      <td>Samsung Galaxy Z Fold4</td>\n      <td>...</td>\n      <td>Android</td>\n      <td>SM-F936U1</td>\n      <td>Foldable</td>\n      <td>SM-F936UZKEXAA, SM-F936UZKFXAA</td>\n      <td>5G</td>\n      <td>Dual Screen</td>\n      <td>Single SIM</td>\n      <td>NaN</td>\n      <td>Octa Core</td>\n      <td>NaN</td>\n    </tr>\n    <tr>\n      <th>1185</th>\n      <td>Apple iPhone 13 Pro Max 256GB Gold - (Verizon)...</td>\n      <td>1015.97</td>\n      <td>0.00</td>\n      <td>145.0</td>\n      <td>147315.00</td>\n      <td>https://www.ebay.com/itm/144475670475?nordt=tr...</td>\n      <td>Open box</td>\n      <td>“The item in this listing is an Open Box (pack...</td>\n      <td>Apple</td>\n      <td>Apple iPhone 13 Pro Max</td>\n      <td>...</td>\n      <td>iOS</td>\n      <td>NaN</td>\n      <td>Bar</td>\n      <td>MLKU3LL/A</td>\n      <td>5G, Bluetooth, Wi-Fi, Lightning, NFC</td>\n      <td>Proximity Sensor, E-compass, Gyro Sensor, Acce...</td>\n      <td>NaN</td>\n      <td>NaN</td>\n      <td>Hexa Core</td>\n      <td>Gold</td>\n    </tr>\n    <tr>\n      <th>1255</th>\n      <td>Apple iPhone 13 Pro Max 5G 256GB Sierra Blue -...</td>\n      <td>984.53</td>\n      <td>0.00</td>\n      <td>122.0</td>\n      <td>120113.00</td>\n      <td>https://www.ebay.com/itm/363660360454?nordt=tr...</td>\n      <td>Open box</td>\n      <td>“The item in this listing is an Open Box (pack...</td>\n      <td>Apple</td>\n      <td>Apple iPhone 13 Pro Max</td>\n      <td>...</td>\n      <td>iOS</td>\n      <td>NaN</td>\n      <td>Bar</td>\n      <td>MLKV3LL/A</td>\n      <td>5G, Bluetooth, Wi-Fi, Lightning, NFC</td>\n      <td>Proximity Sensor, E-compass, Gyro Sensor, Acce...</td>\n      <td>NaN</td>\n      <td>NaN</td>\n      <td>Hexa Core</td>\n      <td>Blue</td>\n    </tr>\n    <tr>\n      <th>1272</th>\n      <td>Apple iPhone 13 Pro 256GB Graphite - (Verizon)...</td>\n      <td>910.99</td>\n      <td>0.00</td>\n      <td>179.0</td>\n      <td>163067.44</td>\n      <td>https://www.ebay.com/itm/133995139792?nordt=tr...</td>\n      <td>Open box</td>\n      <td>“The item in this listing is an Open Box (pack...</td>\n      <td>Apple</td>\n      <td>Apple iPhone 13 Pro</td>\n      <td>...</td>\n      <td>iOS</td>\n      <td>NaN</td>\n      <td>Bar</td>\n      <td>MLTW3LL/A</td>\n      <td>5G, Bluetooth, Wi-Fi, Lightning, NFC</td>\n      <td>Proximity Sensor, E-compass, Gyro Sensor, Acce...</td>\n      <td>NaN</td>\n      <td>NaN</td>\n      <td>Hexa Core</td>\n      <td>Gray</td>\n    </tr>\n    <tr>\n      <th>1284</th>\n      <td>Apple iPhone 13 Pro Max 256GB Graphite Verizon...</td>\n      <td>964.04</td>\n      <td>0.00</td>\n      <td>129.0</td>\n      <td>124361.00</td>\n      <td>https://www.ebay.com/itm/133967467113?nordt=tr...</td>\n      <td>Open box</td>\n      <td>“The item in this listing is an Open Box (pack...</td>\n      <td>Apple</td>\n      <td>Apple iPhone 13 Pro Max</td>\n      <td>...</td>\n      <td>iOS</td>\n      <td>NaN</td>\n      <td>Bar</td>\n      <td>MLKR3LL/A</td>\n      <td>5G, Bluetooth, Wi-Fi, Lightning, NFC</td>\n      <td>Proximity Sensor, E-compass, Gyro Sensor, Acce...</td>\n      <td>NaN</td>\n      <td>NaN</td>\n      <td>Hexa Core</td>\n      <td>Gray</td>\n    </tr>\n    <tr>\n      <th>1383</th>\n      <td>New Samsung Galaxy S22 Ultra 5G SM-S908U 256GB...</td>\n      <td>877.57</td>\n      <td>31.87</td>\n      <td>93.0</td>\n      <td>81614.07</td>\n      <td>https://www.ebay.com/itm/204173167214?nordt=tr...</td>\n      <td>New: A brand-new, unused, unopened, undamaged ...</td>\n      <td>NaN</td>\n      <td>Samsung</td>\n      <td>Samsung Galaxy S22 Ultra</td>\n      <td>...</td>\n      <td>Android</td>\n      <td>S908U</td>\n      <td>Smartphone</td>\n      <td>SM-S908U</td>\n      <td>4G, 5G, Bluetooth, GPS</td>\n      <td>Internet Browser, Touchscreen, 4G Data Capable...</td>\n      <td>Single SIM</td>\n      <td>None</td>\n      <td>Octa Core</td>\n      <td>NaN</td>\n    </tr>\n    <tr>\n      <th>1491</th>\n      <td>Apple iPhone 13 Pro 5G 256GB Sierra Blue - (Ve...</td>\n      <td>932.48</td>\n      <td>0.00</td>\n      <td>111.0</td>\n      <td>103504.84</td>\n      <td>https://www.ebay.com/itm/144330181632?nordt=tr...</td>\n      <td>Open box</td>\n      <td>“The item in this listing is an Open Box (pack...</td>\n      <td>Apple</td>\n      <td>Apple iPhone 13 Pro</td>\n      <td>...</td>\n      <td>iOS</td>\n      <td>NaN</td>\n      <td>Bar</td>\n      <td>MLU03LL/A</td>\n      <td>5G, Bluetooth, Wi-Fi, Lightning, NFC</td>\n      <td>Proximity Sensor, E-compass, Gyro Sensor, Acce...</td>\n      <td>NaN</td>\n      <td>NaN</td>\n      <td>Hexa Core</td>\n      <td>Blue</td>\n    </tr>\n    <tr>\n      <th>1525</th>\n      <td>Apple iPhone 13 Pro Max 5G 128GB Sierra Blue (...</td>\n      <td>875.97</td>\n      <td>0.00</td>\n      <td>89.0</td>\n      <td>77961.00</td>\n      <td>https://www.ebay.com/itm/144299275641?nordt=tr...</td>\n      <td>Open box</td>\n      <td>“The item in this listing is an Open Box (pack...</td>\n      <td>Apple</td>\n      <td>Apple iPhone 13 Pro</td>\n      <td>...</td>\n      <td>iOS</td>\n      <td>NaN</td>\n      <td>Bar</td>\n      <td>MLTT3LL/A</td>\n      <td>5G, Bluetooth, Wi-Fi, Lightning, NFC</td>\n      <td>Proximity Sensor, E-compass, Gyro Sensor, Acce...</td>\n      <td>NaN</td>\n      <td>NaN</td>\n      <td>Hexa Core</td>\n      <td>Blue</td>\n    </tr>\n    <tr>\n      <th>1668</th>\n      <td>Apple iPhone 13 Pro Max 256GB Unlocked Smartph...</td>\n      <td>931.49</td>\n      <td>14.99</td>\n      <td>82.0</td>\n      <td>76381.90</td>\n      <td>https://www.ebay.com/itm/364007273533?nordt=tr...</td>\n      <td>Excellent - Refurbished</td>\n      <td>“This is an A Stock item, meaning unit is in e...</td>\n      <td>Apple</td>\n      <td>Apple iPhone 13 Pro Max</td>\n      <td>...</td>\n      <td>iOS</td>\n      <td>A2161 (CDMA + GSM)</td>\n      <td>NaN</td>\n      <td>MLF63LL/A, MLF93LL/A, MLF73LL/A, MNCF3LL/A, ML...</td>\n      <td>4G, Bluetooth, GPS</td>\n      <td>Face ID, Three-axis gyro, 4K Video Recording, ...</td>\n      <td>Dual SIM (SIM + eSIM)</td>\n      <td>Not Applicable</td>\n      <td>Apple A15 Bionic</td>\n      <td>NaN</td>\n    </tr>\n    <tr>\n      <th>1734</th>\n      <td>Samsung Galaxy S21 Ultra 5G 512GB 16GB RAM Sma...</td>\n      <td>1388.92</td>\n      <td>0.00</td>\n      <td>70.0</td>\n      <td>97224.60</td>\n      <td>https://www.ebay.com/itm/265014799715?nordt=tr...</td>\n      <td>New: A brand-new, unused, unopened, undamaged ...</td>\n      <td>NaN</td>\n      <td>Samsung</td>\n      <td>Samsung Galaxy S21 Ultra 5G</td>\n      <td>...</td>\n      <td>Android</td>\n      <td>NaN</td>\n      <td>NaN</td>\n      <td>SM-G998N</td>\n      <td>NaN</td>\n      <td>NaN</td>\n      <td>NaN</td>\n      <td>NaN</td>\n      <td>NaN</td>\n      <td>NaN</td>\n    </tr>\n    <tr>\n      <th>1776</th>\n      <td>Apple iPhone 14 Pro 128GB/256GB A2650 Factory ...</td>\n      <td>972.46</td>\n      <td>47.40</td>\n      <td>75.0</td>\n      <td>72934.25</td>\n      <td>https://www.ebay.com/itm/285069051292?nordt=tr...</td>\n      <td>Open box</td>\n      <td>“These items look new and are fully functional...</td>\n      <td>Apple</td>\n      <td>iPhone 14 Pro</td>\n      <td>...</td>\n      <td>iOS</td>\n      <td>NaN</td>\n      <td>Bar</td>\n      <td>A2650</td>\n      <td>NaN</td>\n      <td>NaN</td>\n      <td>NaN</td>\n      <td>NaN</td>\n      <td>NaN</td>\n      <td>NaN</td>\n    </tr>\n    <tr>\n      <th>1790</th>\n      <td>Apple iPhone 12 Pro Max Graphite 128GB - (AT&amp;T...</td>\n      <td>889.98</td>\n      <td>0.00</td>\n      <td>79.0</td>\n      <td>70308.26</td>\n      <td>https://www.ebay.com/itm/133693914838?nordt=tr...</td>\n      <td>Open box</td>\n      <td>“The item in this listing is an Open Box (pack...</td>\n      <td>Apple</td>\n      <td>Apple iPhone 12 Pro Max</td>\n      <td>...</td>\n      <td>iOS</td>\n      <td>NaN</td>\n      <td>Bar</td>\n      <td>MG8X3LL/A</td>\n      <td>5G, Bluetooth, Wi-Fi, Lightning, NFC</td>\n      <td>Proximity Sensor, E-compass, Gyro Sensor, Acce...</td>\n      <td>NaN</td>\n      <td>NaN</td>\n      <td>Hexa Core</td>\n      <td>Gray</td>\n    </tr>\n    <tr>\n      <th>1798</th>\n      <td>New Samsung Galaxy S22 Ultra 5G SM-S908U 512GB...</td>\n      <td>974.59</td>\n      <td>29.99</td>\n      <td>67.0</td>\n      <td>65297.33</td>\n      <td>https://www.ebay.com/itm/195325130186?nordt=tr...</td>\n      <td>New: A brand-new, unused, unopened, undamaged ...</td>\n      <td>NaN</td>\n      <td>Samsung</td>\n      <td>Samsung Galaxy S22 Ultra</td>\n      <td>...</td>\n      <td>Android</td>\n      <td>S908U</td>\n      <td>Smartphone</td>\n      <td>SM-S908U</td>\n      <td>4G, 5G, Bluetooth, GPS</td>\n      <td>Internet Browser, Touchscreen, 4G Data Capable...</td>\n      <td>Single SIM</td>\n      <td>None</td>\n      <td>Octa Core</td>\n      <td>NaN</td>\n    </tr>\n    <tr>\n      <th>1856</th>\n      <td>SAMSUNG Galaxy Z Fold4 5G SM-F936N 256/512GB/1...</td>\n      <td>1493.39</td>\n      <td>10.96</td>\n      <td>64.0</td>\n      <td>95576.97</td>\n      <td>https://www.ebay.com/itm/354292343188?nordt=tr...</td>\n      <td>New: A brand-new, unused, unopened, undamaged ...</td>\n      <td>NaN</td>\n      <td>Samsung</td>\n      <td>Samsung Galaxy Z Fold4 SM-F936N</td>\n      <td>...</td>\n      <td>Android</td>\n      <td>NaN</td>\n      <td>Foldable</td>\n      <td>NaN</td>\n      <td>5G</td>\n      <td>NaN</td>\n      <td>NaN</td>\n      <td>NaN</td>\n      <td>NaN</td>\n      <td>NaN</td>\n    </tr>\n    <tr>\n      <th>1858</th>\n      <td>Apple iPhone 14 Pro Max 256GB Space Black - (U...</td>\n      <td>1048.22</td>\n      <td>0.00</td>\n      <td>67.0</td>\n      <td>70230.55</td>\n      <td>https://www.ebay.com/itm/364024740214?nordt=tr...</td>\n      <td>Open box</td>\n      <td>“The item in this listing is an Open Box (pack...</td>\n      <td>Apple</td>\n      <td>Apple iPhone 14 Pro Max</td>\n      <td>...</td>\n      <td>iOS</td>\n      <td>A2651 (GSM)</td>\n      <td>Bar</td>\n      <td>MQ8T3LL/A</td>\n      <td>5G, Bluetooth, Wi-Fi, Lightning, NFC</td>\n      <td>Proximity Sensor, E-compass, Gyro Sensor, Acce...</td>\n      <td>eSIM</td>\n      <td>NaN</td>\n      <td>Hexa Core</td>\n      <td>Black</td>\n    </tr>\n    <tr>\n      <th>1970</th>\n      <td>New Samsung Galaxy S21 Ultra 5G 256GB Smartpho...</td>\n      <td>1078.55</td>\n      <td>0.00</td>\n      <td>60.0</td>\n      <td>64712.99</td>\n      <td>https://www.ebay.com/itm/233860240455?nordt=tr...</td>\n      <td>New: A brand-new, unused, unopened, undamaged ...</td>\n      <td>NaN</td>\n      <td>Samsung</td>\n      <td>Samsung Galaxy S21 Ultra 5G</td>\n      <td>...</td>\n      <td>Android</td>\n      <td>NaN</td>\n      <td>NaN</td>\n      <td>SM-G998N</td>\n      <td>NaN</td>\n      <td>NaN</td>\n      <td>NaN</td>\n      <td>NaN</td>\n      <td>NaN</td>\n      <td>NaN</td>\n    </tr>\n    <tr>\n      <th>2101</th>\n      <td>Apple iPhone 14 Pro 256GB Space Black - (Unloc...</td>\n      <td>1029.54</td>\n      <td>0.00</td>\n      <td>56.0</td>\n      <td>57654.10</td>\n      <td>https://www.ebay.com/itm/144768604430?nordt=tr...</td>\n      <td>Open box</td>\n      <td>“The item in this listing is an Open Box (pack...</td>\n      <td>Apple</td>\n      <td>Apple iPhone 14 Pro</td>\n      <td>...</td>\n      <td>iOS</td>\n      <td>NaN</td>\n      <td>Bar</td>\n      <td>MQ0N3LL/A</td>\n      <td>5G, Bluetooth, Wi-Fi, Lightning, NFC</td>\n      <td>Proximity Sensor, E-compass, Gyro Sensor, Acce...</td>\n      <td>NaN</td>\n      <td>NaN</td>\n      <td>Hexa Core</td>\n      <td>Black</td>\n    </tr>\n    <tr>\n      <th>2205</th>\n      <td>Apple iPhone 13 Pro Max 5G 128GB Sierra Blue -...</td>\n      <td>893.67</td>\n      <td>0.00</td>\n      <td>58.0</td>\n      <td>51832.99</td>\n      <td>https://www.ebay.com/itm/144430240280?nordt=tr...</td>\n      <td>Open box</td>\n      <td>“The item in this listing is an Open Box (pack...</td>\n      <td>Apple</td>\n      <td>Apple iPhone 13 Pro Max</td>\n      <td>...</td>\n      <td>iOS</td>\n      <td>NaN</td>\n      <td>Bar</td>\n      <td>MLKP3LL/A</td>\n      <td>5G, Bluetooth, Wi-Fi, Lightning, NFC</td>\n      <td>Proximity Sensor, E-compass, Gyro Sensor, Acce...</td>\n      <td>NaN</td>\n      <td>NaN</td>\n      <td>Hexa Core</td>\n      <td>Blue</td>\n    </tr>\n    <tr>\n      <th>2314</th>\n      <td>Apple iPhone 13 Pro Max 5G 256GB Sierra Blue -...</td>\n      <td>895.08</td>\n      <td>0.00</td>\n      <td>51.0</td>\n      <td>45649.00</td>\n      <td>https://www.ebay.com/itm/363735459965?nordt=tr...</td>\n      <td>Open box</td>\n      <td>“The item in this listing is an Open Box (pack...</td>\n      <td>Apple</td>\n      <td>Apple iPhone 13 Pro Max</td>\n      <td>...</td>\n      <td>iOS</td>\n      <td>NaN</td>\n      <td>Bar</td>\n      <td>MLKV3LL/A</td>\n      <td>5G, Bluetooth, Wi-Fi, Lightning, NFC</td>\n      <td>Proximity Sensor, E-compass, Gyro Sensor, Acce...</td>\n      <td>NaN</td>\n      <td>NaN</td>\n      <td>Hexa Core</td>\n      <td>Blue</td>\n    </tr>\n    <tr>\n      <th>2529</th>\n      <td>Sony Xperia PRO-I 5G Smartphone 120Hz 6.5\" 21:...</td>\n      <td>890.04</td>\n      <td>0.00</td>\n      <td>43.0</td>\n      <td>38271.80</td>\n      <td>https://www.ebay.com/itm/313895027510?nordt=tr...</td>\n      <td>Certified - Refurbished</td>\n      <td>“This item has been refurbished by the manufac...</td>\n      <td>Sony</td>\n      <td>Sony Xperia PRO-I</td>\n      <td>...</td>\n      <td>Android</td>\n      <td>NaN</td>\n      <td>Bar</td>\n      <td>XQBE62/B</td>\n      <td>USB Type-C, 5G, Bluetooth, Wi-Fi</td>\n      <td>Water-Resistant, 4K Video Recording, Dust-Resi...</td>\n      <td>Dual SIM (SIM + SIM/Memory Card)</td>\n      <td>microSDXC</td>\n      <td>Octa Core</td>\n      <td>Black</td>\n    </tr>\n    <tr>\n      <th>2773</th>\n      <td>Samsung Galaxy G998U S21 Ultra 5G 512GB Unlock...</td>\n      <td>985.78</td>\n      <td>0.00</td>\n      <td>38.0</td>\n      <td>37459.62</td>\n      <td>https://www.ebay.com/itm/254977533321?nordt=tr...</td>\n      <td>Excellent - Refurbished</td>\n      <td>“This Samsung Galaxy S21 Ultra 5G is in Excell...</td>\n      <td>Samsung Electronics</td>\n      <td>Samsung Galaxy S21 Ultra 5G</td>\n      <td>...</td>\n      <td>Android</td>\n      <td>SM-G998U</td>\n      <td>Smartphone</td>\n      <td>NaN</td>\n      <td>NaN</td>\n      <td>NaN</td>\n      <td>NaN</td>\n      <td>NaN</td>\n      <td>NaN</td>\n      <td>NaN</td>\n    </tr>\n    <tr>\n      <th>2849</th>\n      <td>Apple iPhone 12 Pro Max 128GB Unlocked Smartph...</td>\n      <td>921.85</td>\n      <td>14.99</td>\n      <td>42.0</td>\n      <td>38717.65</td>\n      <td>https://www.ebay.com/itm/384501272640?nordt=tr...</td>\n      <td>Excellent - Refurbished</td>\n      <td>“This is an A Stock item, meaning unit is in e...</td>\n      <td>Apple</td>\n      <td>Apple iPhone 12 Pro Max</td>\n      <td>...</td>\n      <td>iOS</td>\n      <td>A2342</td>\n      <td>NaN</td>\n      <td>MGCF3LL/A, MGCG3LL/A, MGCH3LL/A, MGCJ3LL/A</td>\n      <td>4G, 5G, Bluetooth, GPS</td>\n      <td>Face ID, Three-axis gyro, 4K Video Recording, ...</td>\n      <td>Dual SIM (SIM + eSIM)</td>\n      <td>Not Applicable</td>\n      <td>Hexa Core</td>\n      <td>NaN</td>\n    </tr>\n    <tr>\n      <th>2963</th>\n      <td>Apple iPhone 13 Pro Max 256GB Graphite - (Fact...</td>\n      <td>899.00</td>\n      <td>0.00</td>\n      <td>46.0</td>\n      <td>41354.00</td>\n      <td>https://www.ebay.com/itm/364016783548?nordt=tr...</td>\n      <td>Open box</td>\n      <td>“The item in this listing is an Open Box (pack...</td>\n      <td>Apple</td>\n      <td>Apple iPhone 13 Pro Max</td>\n      <td>...</td>\n      <td>iOS</td>\n      <td>A2484 (CDMA + GSM)</td>\n      <td>Bar</td>\n      <td>MLKR3LL/A, MLKR3LLA</td>\n      <td>5G, Bluetooth, Wi-Fi, Lightning, NFC</td>\n      <td>Proximity Sensor, E-compass, Gyro Sensor, Acce...</td>\n      <td>Dual SIM (SIM + eSIM)</td>\n      <td>NaN</td>\n      <td>Hexa Core</td>\n      <td>Gray</td>\n    </tr>\n    <tr>\n      <th>3019</th>\n      <td>Apple iPhone 13 Pro Max 5G 256GB Sierra Blue -...</td>\n      <td>968.61</td>\n      <td>0.00</td>\n      <td>38.0</td>\n      <td>36807.00</td>\n      <td>https://www.ebay.com/itm/363691444540?nordt=tr...</td>\n      <td>Open box</td>\n      <td>“The item in this listing is an Open Box (pack...</td>\n      <td>Apple</td>\n      <td>Apple iPhone 13 Pro Max</td>\n      <td>...</td>\n      <td>iOS</td>\n      <td>NaN</td>\n      <td>Bar</td>\n      <td>MLKV3LL/A</td>\n      <td>5G, Bluetooth, Wi-Fi, Lightning, NFC</td>\n      <td>Proximity Sensor, E-compass, Gyro Sensor, Acce...</td>\n      <td>NaN</td>\n      <td>NaN</td>\n      <td>Hexa Core</td>\n      <td>Blue</td>\n    </tr>\n  </tbody>\n</table>\n<p>31 rows × 27 columns</p>\n</div>"
     },
     "execution_count": 7,
     "metadata": {},
     "output_type": "execute_result"
    }
   ],
   "source": [
    "import numpy as np\n",
    "df[df.Price > np.quantile(df.Price, 0.99)]"
   ],
   "metadata": {
    "pycharm": {
     "name": "#%%\n"
    },
    "id": "76B2RQS-VfyV",
    "outputId": "e7974280-8e95-464f-9aa4-caf74db6a142"
   }
  },
  {
   "cell_type": "code",
   "execution_count": null,
   "outputs": [
    {
     "data": {
      "text/plain": "                                                  Title  Price  Shipping_cost  \\\n164   Wall Outlet To Triple USB Power Adapter - Wall...   9.99          12.91   \n339   Apple iPhone 3Gs (AT&T) Smartphone 8GB Black -...  22.71          18.51   \n433   DOOGEE S89 Pro Rugged Smartphone 8+256GB 12000...   7.73           0.00   \n855   DOOGEE S61 Rugged Smartphone Andriod 12 Unlock...  11.24           0.00   \n1266  AT&T Radiant Core U304AA - 16GB - Black (AT&T ...  22.73          18.99   \n1424  Apple iPhone 4s (Verizon) Smartphone (16GB) Bl...  23.49           9.93   \n1460  LG Rebel 4 LML212VL - 16GB - Black (TracFone) ...  23.03           6.16   \n1622  DOOGEE S98 Pro 8+256GB Thermal Imaging/Night v...  10.84           0.00   \n1626  Motorola Droid RAZR MAXX (Verizon) 4G LTE Smar...  14.29           7.50   \n1643  Apple iPhone 4s (AT&T) Smartphone (16GB) Black...  24.37          12.53   \n1842  UScellular HPP-L55B Hot Pepper Serrano Black 5...  15.44           0.00   \n1905  DOOGEE S61 PRO 6GB+128GB Rugged Smartphone And...  14.08           0.00   \n1961  LG K4 (2017) (LG- M151) 8GB Gray GSM Unlocked ...  24.72           0.00   \n2051  Nuu Mobile A6L-C 8GB GSM Unlocked Smartphone E...  22.18           0.00   \n2204  Nokia Lumia 521 (T-Mobile) 3G GSM Smartphone W...  18.87          14.06   \n2265  DOOGEE S61 PRO Night Vision 6GB+128GB Rugged S...   5.15           0.00   \n2293  Motorola STMTXT2005DCPWP Straight Talk Moto e6...  24.45           0.00   \n2319  AT&T Axia QS5509A - 16GB - Dark Blue (AT&T) Sm...  12.34           0.00   \n2378  Alcatel jItterbug (GreatCall) 4G LTE Smartphon...  16.53           5.93   \n2453  Cricket Icon U304AC - 16GB - Black (Cricket Wi...  18.94           0.00   \n2552              HTC EVO 4G (Sprint) Smartphone Black   18.43           5.88   \n2607  ✅Samsung Galaxy S5 - 16GB - (AT&T / Verizon/ T...  17.62           0.00   \n2608  DOOGEE S51 Rugged Smartphone Unlocked 64GB IP6...   8.20           0.00   \n2628  DOOGEE S96 GT Rugged Smartphone 8GB+256GB Unlo...  18.97           0.00   \n2636  DOOGEE S96 Pro Rugged Unlocked Smartphone 8GB ...  15.90           0.00   \n2675  BlackBerry Curve 8900 Smartphone cell phone,  New   9.28           0.00   \n2752  Motorola Droid Bionic (Verizon) 4G LTE Smartph...  18.42           0.00   \n2797  Blackberry Curve 9330 - Black (Verizon) 3G CDM...  22.41           0.00   \n2798  Motorola A956 Droid 2 Verizon Global Android S...  11.89           0.00   \n2859  Nokia Lumia 635 (AT&T) 4G LTE Smartphone Windo...  16.34          10.61   \n2866  Motorola XT1080M Droid Maxx Verizon Smartphone...  24.21           5.99   \n\n      Sales_Count  Sales_Value  \\\n164         940.0      9388.60   \n339         357.0      8107.07   \n433         550.0      4252.25   \n855         298.0      3349.59   \n1266        137.0      3114.03   \n1424         95.0      2231.42   \n1460        115.0      2648.69   \n1622        139.0      1507.06   \n1626        125.0      1786.50   \n1643         75.0      1827.62   \n1842         93.0      1435.96   \n1905        108.0      1520.82   \n1961         97.0      2397.75   \n2051        116.0      2572.84   \n2204         70.0      1320.79   \n2265         52.0       267.82   \n2293        128.0      3130.15   \n2319         70.0       863.99   \n2378         54.0       892.36   \n2453         58.0      1098.59   \n2552         42.0       773.91   \n2607         61.0      1075.00   \n2608         71.0       582.40   \n2628        104.0      1972.95   \n2636         81.0      1288.28   \n2675         41.0       380.48   \n2752         55.0      1013.35   \n2797         38.0       851.62   \n2798         38.0       451.70   \n2859         53.0       865.91   \n2866         48.0      1162.00   \n\n                                                   Link  \\\n164   https://www.ebay.com/itm/363346871915?nordt=tr...   \n339   https://www.ebay.com/itm/133883518502?nordt=tr...   \n433   https://www.ebay.com/itm/353640445665?nordt=tr...   \n855   https://www.ebay.com/itm/363607803077?nordt=tr...   \n1266  https://www.ebay.com/itm/133623095822?nordt=tr...   \n1424  https://www.ebay.com/itm/134141893954?nordt=tr...   \n1460  https://www.ebay.com/itm/255628398548?nordt=tr...   \n1622  https://www.ebay.com/itm/353640377703?nordt=tr...   \n1626  https://www.ebay.com/itm/133885462237?nordt=tr...   \n1643  https://www.ebay.com/itm/133884939196?nordt=tr...   \n1842  https://www.ebay.com/itm/134189162659?nordt=tr...   \n1905  https://www.ebay.com/itm/363595021848?nordt=tr...   \n1961  https://www.ebay.com/itm/184520719508?nordt=tr...   \n2051  https://www.ebay.com/itm/175379524781?nordt=tr...   \n2204  https://www.ebay.com/itm/144268018780?nordt=tr...   \n2265  https://www.ebay.com/itm/175495118001?nordt=tr...   \n2293  https://www.ebay.com/itm/124295287852?nordt=tr...   \n2319  https://www.ebay.com/itm/133555567470?nordt=tr...   \n2378  https://www.ebay.com/itm/144523480409?nordt=tr...   \n2453  https://www.ebay.com/itm/133623106844?nordt=tr...   \n2552  https://www.ebay.com/itm/134097305052?nordt=tr...   \n2607  https://www.ebay.com/itm/225174348858?nordt=tr...   \n2608  https://www.ebay.com/itm/225233700915?nordt=tr...   \n2628  https://www.ebay.com/itm/363590176816?nordt=tr...   \n2636  https://www.ebay.com/itm/363844102944?nordt=tr...   \n2675  https://www.ebay.com/itm/334389598384?nordt=tr...   \n2752  https://www.ebay.com/itm/144524916503?nordt=tr...   \n2797  https://www.ebay.com/itm/403545669803?nordt=tr...   \n2798  https://www.ebay.com/itm/403974851437?nordt=tr...   \n2859  https://www.ebay.com/itm/134098480150?nordt=tr...   \n2866  https://www.ebay.com/itm/174095404688?nordt=tr...   \n\n                                              Condition  \\\n164   New: A brand-new, unused, unopened, undamaged ...   \n339                                                Used   \n433   New: A brand-new, unused, unopened, undamaged ...   \n855                                                Used   \n1266                                               Used   \n1424                                               Used   \n1460                                               Used   \n1622  New: A brand-new, unused, unopened, undamaged ...   \n1626                                               Used   \n1643  Used: An item that has been used previously. T...   \n1842  New: A brand-new, unused, unopened, undamaged ...   \n1905  New: A brand-new, unused, unopened, undamaged ...   \n1961                                               Used   \n2051                                               Used   \n2204                                               Used   \n2265  New: A brand-new, unused, unopened, undamaged ...   \n2293  New: A brand-new, unused, unopened, undamaged ...   \n2319                           For parts or not working   \n2378                                               Used   \n2453                                               Used   \n2552                                               Used   \n2607                           For parts or not working   \n2608  New: A brand-new, unused, unopened, undamaged ...   \n2628  New: A brand-new, unused, unopened, undamaged ...   \n2636  New: A brand-new, unused, unopened, undamaged ...   \n2675  New: A brand-new, unused, unopened, undamaged ...   \n2752                                               Used   \n2797                                               Used   \n2798                                               Used   \n2859                                               Used   \n2866  Used: An item that has been used previously. T...   \n\n                                           Seller Notes       Brand  \\\n164                                                 NaN   Unbranded   \n339                            “Phone Only, No Charger”       Apple   \n433                                                 NaN      DOOGEE   \n855   “99% New. This phone has been used for a short...      DOOGEE   \n1266  “Handset Only: Battery and back cover is NOT i...         NaN   \n1424                “Phone only, Charger not included!”       Apple   \n1460  “Tested for full functions,R2/Ready ready for ...          LG   \n1622                                                NaN      DOOGEE   \n1626                           “Phone Only, No Charger”    Motorola   \n1643                                                NaN       Apple   \n1842                                                NaN  UScellular   \n1905                                                NaN      DOOGEE   \n1961  “LG K4 (2017)(LG- M151) 8GB Gray GSM Unlocked ...          LG   \n2051  “Excellent Condition - These devices will appe...         NUU   \n2204      “Includes Phone, Battery, Cover and Charger.”       Nokia   \n2265                                                NaN      DOOGEE   \n2293                                                NaN    Motorola   \n2319                       “AS IS  - FRP/Google Locked”        AT&T   \n2378             “Phone only, No Charger, No Sim Card.”     Alcatel   \n2453  “Handset Only: Battery and back cover is NOT i...     Cricket   \n2552                 “Includes Phone Only, No Charger.”         HTC   \n2607               “Read the listing carefully PLEASE.”     Samsung   \n2608                                                NaN      DOOGEE   \n2628                                                NaN      DOOGEE   \n2636                                                NaN      DOOGEE   \n2675                                                NaN  BlackBerry   \n2752      “Includes Phone, Battery, Cover. No Charger.”    Motorola   \n2797  “B Grade. Includes device, battery and USB cha...  BlackBerry   \n2798  “Item is previously owned, has been fully test...    Motorola   \n2859      “Includes Phone, Battery, Cover and Charger.”       Nokia   \n2866                                                NaN    Motorola   \n\n                                            Model  ... Operating System  \\\n164   AC Wall To 5V DC USB Charger + USB-C Cables  ...              NaN   \n339                              Apple iPhone 3GS  ...              iOS   \n433                                       S89 Pro  ...          Android   \n855                                           S61  ...       Android 12   \n1266                                 Radiant Core  ...          Android   \n1424                              Apple iPhone 4s  ...              iOS   \n1460                                   LG Rebel 4  ...          Android   \n1622                                      S98 Pro  ...          Android   \n1626                          Motorola Droid Razr  ...          Android   \n1643                              Apple iPhone 4s  ...              iOS   \n1842                                          NaN  ...              NaN   \n1905                                      S61 PRO  ...       Android 12   \n1961                                        LG K4  ...          Android   \n2051                                        A6L-C  ...          Android   \n2204                              Nokia Lumia 521  ...  Windows Phone 8   \n2265                                      S61 Pro  ...       Android 12   \n2293                                          NaN  ...              NaN   \n2319                                         Axia  ...          Android   \n2378                              Jitterbug Smart  ...          Android   \n2453                                         Icon  ...          Android   \n2552                                   HTC EVO 4G  ...          Android   \n2607                            Samsung Galaxy S5  ...          Android   \n2608                                          S51  ...          Android   \n2628                                        S96GT  ...       Android 12   \n2636                                      S89 Pro  ...       Android 12   \n2675                        BlackBerry Curve 8900  ...    BlackBerry OS   \n2752                        Motorola Droid Bionic  ...          Android   \n2797                        BlackBerry Curve 9330  ...   BlackBerry 3-7   \n2798                             Motorola Droid 2  ...              NaN   \n2859                              Nokia Lumia 635  ...  Windows Phone 8   \n2866                          Motorola Droid Maxx  ...          Android   \n\n                        Model Number  \\\n164                              NaN   \n339                      A1303 (GSM)   \n433                              NaN   \n855   DOOGEE S61 Outdoor Cell Phones   \n1266                          U304AA   \n1424              A1387 (CDMA + GSM)   \n1460                             NaN   \n1622       DOOGEE S98 Pro Smartphone   \n1626                           XT912   \n1643              A1387 (CDMA + GSM)   \n1842                             NaN   \n1905       DOOGEE S61PRO Cell Phones   \n1961                             NaN   \n2051                             NaN   \n2204                             NaN   \n2265       DOOGEE S61PRO Cell Phones   \n2293                             NaN   \n2319                             NaN   \n2378                             NaN   \n2453                          U340AC   \n2552                             NaN   \n2607                            G900   \n2608        doogee rugged smartphone   \n2628                   DOOGEE S96 GT   \n2636       DOOGEE S89 Pro Smartphone   \n2675                             NaN   \n2752                           XT875   \n2797                            9330   \n2798                             NaN   \n2859                          RM-975   \n2866                             NaN   \n\n                                                  Style  \\\n164   Wall Outlet To Triple USB Socket Adapter + Cables   \n339                                                 Bar   \n433                       Outdoor Waterproof Smartphone   \n855                      Night Vision Rugged Smartphone   \n1266                                                NaN   \n1424                                                Bar   \n1460                                                NaN   \n1622                              Waterproof Smartphone   \n1626                                                Bar   \n1643                                                Bar   \n1842                                                NaN   \n1905             Outdoor Android 12 Unlocked Smartphone   \n1961                                                NaN   \n2051                                                Bar   \n2204                                                Bar   \n2265                        Material: transparent shell   \n2293                                                NaN   \n2319                                                NaN   \n2378                                                Bar   \n2453                                                NaN   \n2552                                                Bar   \n2607                                                Bar   \n2608                                                Bar   \n2628                    Outdoor Handy Rugged Smartphone   \n2636                    Outdoor Handy Rugged Smartphone   \n2675                                                Bar   \n2752                                                Bar   \n2797                                                Bar   \n2798                                                NaN   \n2859                                                Bar   \n2866                                                Bar   \n\n                                                    MPN  \\\n164   dual-slot-pc-plug-in-mobile-cell-phone-replace...   \n339                                               A1303   \n433                           DOOGEE S89 Pro Smartphone   \n855                        DOOGEE S61 Rugged Smartphone   \n1266                                                NaN   \n1424                                              A1387   \n1460                                                NaN   \n1622                          DOOGEE Outdoor Smartphone   \n1626                                                NaN   \n1643                                              A1387   \n1842                                           HPP-L55B   \n1905                    DOOGEE S61PRO Rugged Smartphone   \n1961                                            LG-M151   \n2051                                                NaN   \n2204                                                521   \n2265                    DOOGEE S61PRO Rugged Smartphone   \n2293                                    STMTXT2005DCPWP   \n2319                                            QS5509A   \n2378                                             A622GL   \n2453                                             U304AC   \n2552                                                NaN   \n2607                                                NaN   \n2608                        outdoor smartphone unlocked   \n2628                    DOOGEE S96 GT Rugged Smartphone   \n2636                   DOOGEE S96 Pro Rugged Smartphone   \n2675        PRD17116003, PRD-17116-003, BLACKBERRY 8900   \n2752                                                NaN   \n2797                                           VZWC9330   \n2798                                              A-956   \n2859                                                NaN   \n2866                                         MOTXT1080M   \n\n                                           Connectivity  \\\n164                                                 USB   \n339                                                  3G   \n433   2G, 3G, 4G, Bluetooth, GPRS, GPS, NFC, USB Typ...   \n855    FM, 2G, 3G, 4G, Bluetooth, GPRS, GPS, NFC, Wi-Fi   \n1266                                          Micro USB   \n1424                                                 3G   \n1460                                                NaN   \n1622  2G, 3G, 4G, Bluetooth, Wi-Fi, GPRS, GPS, NFC, ...   \n1626                                                4G+   \n1643                                                 3G   \n1842                                                NaN   \n1905   FM, 2G, 3G, 4G, Bluetooth, GPRS, GPS, NFC, Wi-Fi   \n1961                                  2G, 3G, Bluetooth   \n2051                                                NaN   \n2204                                                 3G   \n2265                    2G, 3G, 4G, Bluetooth, GPS, NFC   \n2293                                                NaN   \n2319  Bluetooth, Infrared, Wi-Fi, Micro USB, NFC, GP...   \n2378                                                4G+   \n2453                                          Micro USB   \n2552                                                NaN   \n2607                                     4G, 4G+, Wi-Fi   \n2608  2G, 3G, 4G, Bluetooth, GPRS, GPS, NFC, USB Typ...   \n2628  OTG, FM, 2G, 3G, 4G, Bluetooth, GPRS, GPS, NFC...   \n2636  2G, 3G, 4G, Bluetooth, Dual-Band, GPRS, GPS, N...   \n2675                                                 2G   \n2752                                                4G+   \n2797                      2G, 3G, Bluetooth, GPS, Wi-Fi   \n2798                                          3G, Wi-Fi   \n2859                                   Wi-Fi, Micro USB   \n2866  Bluetooth, 4G, 3G, Headphone Jack, Wi-Fi, 2G, ...   \n\n                                               Features  \\\n164                                                 NaN   \n339                                        Color Screen   \n433   Tricolour breathing light, Helio P90/Octa Core...   \n855   Helio G35 / Octa Core / 2.3GHz / 12nm, 6.0\" IP...   \n1266  Camera, Bluetooth Enabled, Wi-Fi Capable, GPS,...   \n1424                                       Color Screen   \n1460                                                NaN   \n1622  Thermal imaging camera, Helio G96/Octa Core/2....   \n1626                                      Wi-Fi Capable   \n1643                                       Color Screen   \n1842                                                NaN   \n1905  Helio G35 / Octa Core / 2.3GHz / 12nm, 6.0\" IP...   \n1961                Accelerometer, Camera, Touch Screen   \n2051                                                NaN   \n2204                                      Wi-Fi Capable   \n2265  16MP Front Camera, 6GB RAM+128GB ROM / EMCP, 5...   \n2293                                                NaN   \n2319  Bluetooth Enabled, Vibration, Front Camera, Gy...   \n2378                                  Bluetooth Enabled   \n2453      Bluetooth Enabled, Wi-Fi Capable, GPS, Camera   \n2552                                                NaN   \n2607                                                NaN   \n2608  Dust-Resistant, Facial Recognition, Fast Charg...   \n2628  Helio G95 / Octa Core / 2.1GHz / 12nm, AI Quad...   \n2636  12000mAh Large battery, 6.3\" LCD FHD+ Waterdro...   \n2675                                               8900   \n2752                                  Bluetooth Enabled   \n2797  Camera, Email, Web, Email Access, Global Ready...   \n2798                                    QWERTY Keyboard   \n2859                                      Wi-Fi Capable   \n2866  AMOLED Display, NFC Connectivity, Wi-Fi Capabl...   \n\n                           SIM Card Slot    Memory Card Type       Processor  \\\n164                                  NaN                 NaN             NaN   \n339                           Single SIM    Built-In Storage             NaN   \n433   Dual SIM (SIM + SIM + Memory Card)              MiniSD       Octa Core   \n855     Dual SIM (SIM + SIM/Memory Card)             MicroSD       Octa Core   \n1266                          Single SIM             MicroSD       Quad Core   \n1424                          Single SIM     Built-In Memory             NaN   \n1460                                 NaN                 NaN             NaN   \n1622  Dual SIM (SIM + SIM + Memory Card)             MicroSD       Octa Core   \n1626                          Single SIM  MicroSD, MicroSDHC       Dual Core   \n1643                          Single SIM     Built-In Memory             NaN   \n1842                                 NaN                 NaN             NaN   \n1905  Dual SIM (SIM + SIM + Memory Card)             MicroSD       Octa Core   \n1961                          Single SIM             MicroSD       Quad Core   \n2051                                 NaN                 NaN             NaN   \n2204                          Single SIM                 NaN             NaN   \n2265  Dual SIM (SIM + SIM + Memory Card)             MicroSD       Octa Core   \n2293                                 NaN                 NaN             NaN   \n2319                          Single SIM             MicroSD  Quad+Quad Core   \n2378                          Single SIM           MicroSDHC             NaN   \n2453                          Single SIM             MicroSD       Quad Core   \n2552                                 NaN                 NaN             NaN   \n2607                          Single SIM             MicroSD       Quad Core   \n2608  Dual SIM (SIM + SIM + Memory Card)             MicroSD       Octa Core   \n2628  Dual SIM (SIM + SIM + Memory Card)             MicroSD       Octa Core   \n2636    Dual SIM (SIM + SIM/Memory Card)             MicroSD       Octa Core   \n2675                                 NaN             MicroSD     Single Core   \n2752                          Single SIM             MicroSD       Dual Core   \n2797                          Single SIM  MicroSD, MicroSDHC             NaN   \n2798                                 NaN                 NaN             NaN   \n2859                          Single SIM             MicroSD       Quad Core   \n2866                          Single SIM             MicroSD       Dual Core   \n\n       Color  \n164      NaN  \n339    Black  \n433   Orange  \n855    Black  \n1266   Black  \n1424   Black  \n1460   Black  \n1622   Black  \n1626  Purple  \n1643   Black  \n1842     NaN  \n1905   Black  \n1961     NaN  \n2051     NaN  \n2204   White  \n2265   Black  \n2293     NaN  \n2319    Blue  \n2378   Black  \n2453   Black  \n2552   Black  \n2607     NaN  \n2608   Black  \n2628   Black  \n2636  Orange  \n2675  Silver  \n2752   Black  \n2797   Black  \n2798    Blue  \n2859   White  \n2866     NaN  \n\n[31 rows x 27 columns]",
      "text/html": "<div>\n<style scoped>\n    .dataframe tbody tr th:only-of-type {\n        vertical-align: middle;\n    }\n\n    .dataframe tbody tr th {\n        vertical-align: top;\n    }\n\n    .dataframe thead th {\n        text-align: right;\n    }\n</style>\n<table border=\"1\" class=\"dataframe\">\n  <thead>\n    <tr style=\"text-align: right;\">\n      <th></th>\n      <th>Title</th>\n      <th>Price</th>\n      <th>Shipping_cost</th>\n      <th>Sales_Count</th>\n      <th>Sales_Value</th>\n      <th>Link</th>\n      <th>Condition</th>\n      <th>Seller Notes</th>\n      <th>Brand</th>\n      <th>Model</th>\n      <th>...</th>\n      <th>Operating System</th>\n      <th>Model Number</th>\n      <th>Style</th>\n      <th>MPN</th>\n      <th>Connectivity</th>\n      <th>Features</th>\n      <th>SIM Card Slot</th>\n      <th>Memory Card Type</th>\n      <th>Processor</th>\n      <th>Color</th>\n    </tr>\n  </thead>\n  <tbody>\n    <tr>\n      <th>164</th>\n      <td>Wall Outlet To Triple USB Power Adapter - Wall...</td>\n      <td>9.99</td>\n      <td>12.91</td>\n      <td>940.0</td>\n      <td>9388.60</td>\n      <td>https://www.ebay.com/itm/363346871915?nordt=tr...</td>\n      <td>New: A brand-new, unused, unopened, undamaged ...</td>\n      <td>NaN</td>\n      <td>Unbranded</td>\n      <td>AC Wall To 5V DC USB Charger + USB-C Cables</td>\n      <td>...</td>\n      <td>NaN</td>\n      <td>NaN</td>\n      <td>Wall Outlet To Triple USB Socket Adapter + Cables</td>\n      <td>dual-slot-pc-plug-in-mobile-cell-phone-replace...</td>\n      <td>USB</td>\n      <td>NaN</td>\n      <td>NaN</td>\n      <td>NaN</td>\n      <td>NaN</td>\n      <td>NaN</td>\n    </tr>\n    <tr>\n      <th>339</th>\n      <td>Apple iPhone 3Gs (AT&amp;T) Smartphone 8GB Black -...</td>\n      <td>22.71</td>\n      <td>18.51</td>\n      <td>357.0</td>\n      <td>8107.07</td>\n      <td>https://www.ebay.com/itm/133883518502?nordt=tr...</td>\n      <td>Used</td>\n      <td>“Phone Only, No Charger”</td>\n      <td>Apple</td>\n      <td>Apple iPhone 3GS</td>\n      <td>...</td>\n      <td>iOS</td>\n      <td>A1303 (GSM)</td>\n      <td>Bar</td>\n      <td>A1303</td>\n      <td>3G</td>\n      <td>Color Screen</td>\n      <td>Single SIM</td>\n      <td>Built-In Storage</td>\n      <td>NaN</td>\n      <td>Black</td>\n    </tr>\n    <tr>\n      <th>433</th>\n      <td>DOOGEE S89 Pro Rugged Smartphone 8+256GB 12000...</td>\n      <td>7.73</td>\n      <td>0.00</td>\n      <td>550.0</td>\n      <td>4252.25</td>\n      <td>https://www.ebay.com/itm/353640445665?nordt=tr...</td>\n      <td>New: A brand-new, unused, unopened, undamaged ...</td>\n      <td>NaN</td>\n      <td>DOOGEE</td>\n      <td>S89 Pro</td>\n      <td>...</td>\n      <td>Android</td>\n      <td>NaN</td>\n      <td>Outdoor Waterproof Smartphone</td>\n      <td>DOOGEE S89 Pro Smartphone</td>\n      <td>2G, 3G, 4G, Bluetooth, GPRS, GPS, NFC, USB Typ...</td>\n      <td>Tricolour breathing light, Helio P90/Octa Core...</td>\n      <td>Dual SIM (SIM + SIM + Memory Card)</td>\n      <td>MiniSD</td>\n      <td>Octa Core</td>\n      <td>Orange</td>\n    </tr>\n    <tr>\n      <th>855</th>\n      <td>DOOGEE S61 Rugged Smartphone Andriod 12 Unlock...</td>\n      <td>11.24</td>\n      <td>0.00</td>\n      <td>298.0</td>\n      <td>3349.59</td>\n      <td>https://www.ebay.com/itm/363607803077?nordt=tr...</td>\n      <td>Used</td>\n      <td>“99% New. This phone has been used for a short...</td>\n      <td>DOOGEE</td>\n      <td>S61</td>\n      <td>...</td>\n      <td>Android 12</td>\n      <td>DOOGEE S61 Outdoor Cell Phones</td>\n      <td>Night Vision Rugged Smartphone</td>\n      <td>DOOGEE S61 Rugged Smartphone</td>\n      <td>FM, 2G, 3G, 4G, Bluetooth, GPRS, GPS, NFC, Wi-Fi</td>\n      <td>Helio G35 / Octa Core / 2.3GHz / 12nm, 6.0\" IP...</td>\n      <td>Dual SIM (SIM + SIM/Memory Card)</td>\n      <td>MicroSD</td>\n      <td>Octa Core</td>\n      <td>Black</td>\n    </tr>\n    <tr>\n      <th>1266</th>\n      <td>AT&amp;T Radiant Core U304AA - 16GB - Black (AT&amp;T ...</td>\n      <td>22.73</td>\n      <td>18.99</td>\n      <td>137.0</td>\n      <td>3114.03</td>\n      <td>https://www.ebay.com/itm/133623095822?nordt=tr...</td>\n      <td>Used</td>\n      <td>“Handset Only: Battery and back cover is NOT i...</td>\n      <td>NaN</td>\n      <td>Radiant Core</td>\n      <td>...</td>\n      <td>Android</td>\n      <td>U304AA</td>\n      <td>NaN</td>\n      <td>NaN</td>\n      <td>Micro USB</td>\n      <td>Camera, Bluetooth Enabled, Wi-Fi Capable, GPS,...</td>\n      <td>Single SIM</td>\n      <td>MicroSD</td>\n      <td>Quad Core</td>\n      <td>Black</td>\n    </tr>\n    <tr>\n      <th>1424</th>\n      <td>Apple iPhone 4s (Verizon) Smartphone (16GB) Bl...</td>\n      <td>23.49</td>\n      <td>9.93</td>\n      <td>95.0</td>\n      <td>2231.42</td>\n      <td>https://www.ebay.com/itm/134141893954?nordt=tr...</td>\n      <td>Used</td>\n      <td>“Phone only, Charger not included!”</td>\n      <td>Apple</td>\n      <td>Apple iPhone 4s</td>\n      <td>...</td>\n      <td>iOS</td>\n      <td>A1387 (CDMA + GSM)</td>\n      <td>Bar</td>\n      <td>A1387</td>\n      <td>3G</td>\n      <td>Color Screen</td>\n      <td>Single SIM</td>\n      <td>Built-In Memory</td>\n      <td>NaN</td>\n      <td>Black</td>\n    </tr>\n    <tr>\n      <th>1460</th>\n      <td>LG Rebel 4 LML212VL - 16GB - Black (TracFone) ...</td>\n      <td>23.03</td>\n      <td>6.16</td>\n      <td>115.0</td>\n      <td>2648.69</td>\n      <td>https://www.ebay.com/itm/255628398548?nordt=tr...</td>\n      <td>Used</td>\n      <td>“Tested for full functions,R2/Ready ready for ...</td>\n      <td>LG</td>\n      <td>LG Rebel 4</td>\n      <td>...</td>\n      <td>Android</td>\n      <td>NaN</td>\n      <td>NaN</td>\n      <td>NaN</td>\n      <td>NaN</td>\n      <td>NaN</td>\n      <td>NaN</td>\n      <td>NaN</td>\n      <td>NaN</td>\n      <td>Black</td>\n    </tr>\n    <tr>\n      <th>1622</th>\n      <td>DOOGEE S98 Pro 8+256GB Thermal Imaging/Night v...</td>\n      <td>10.84</td>\n      <td>0.00</td>\n      <td>139.0</td>\n      <td>1507.06</td>\n      <td>https://www.ebay.com/itm/353640377703?nordt=tr...</td>\n      <td>New: A brand-new, unused, unopened, undamaged ...</td>\n      <td>NaN</td>\n      <td>DOOGEE</td>\n      <td>S98 Pro</td>\n      <td>...</td>\n      <td>Android</td>\n      <td>DOOGEE S98 Pro Smartphone</td>\n      <td>Waterproof Smartphone</td>\n      <td>DOOGEE Outdoor Smartphone</td>\n      <td>2G, 3G, 4G, Bluetooth, Wi-Fi, GPRS, GPS, NFC, ...</td>\n      <td>Thermal imaging camera, Helio G96/Octa Core/2....</td>\n      <td>Dual SIM (SIM + SIM + Memory Card)</td>\n      <td>MicroSD</td>\n      <td>Octa Core</td>\n      <td>Black</td>\n    </tr>\n    <tr>\n      <th>1626</th>\n      <td>Motorola Droid RAZR MAXX (Verizon) 4G LTE Smar...</td>\n      <td>14.29</td>\n      <td>7.50</td>\n      <td>125.0</td>\n      <td>1786.50</td>\n      <td>https://www.ebay.com/itm/133885462237?nordt=tr...</td>\n      <td>Used</td>\n      <td>“Phone Only, No Charger”</td>\n      <td>Motorola</td>\n      <td>Motorola Droid Razr</td>\n      <td>...</td>\n      <td>Android</td>\n      <td>XT912</td>\n      <td>Bar</td>\n      <td>NaN</td>\n      <td>4G+</td>\n      <td>Wi-Fi Capable</td>\n      <td>Single SIM</td>\n      <td>MicroSD, MicroSDHC</td>\n      <td>Dual Core</td>\n      <td>Purple</td>\n    </tr>\n    <tr>\n      <th>1643</th>\n      <td>Apple iPhone 4s (AT&amp;T) Smartphone (16GB) Black...</td>\n      <td>24.37</td>\n      <td>12.53</td>\n      <td>75.0</td>\n      <td>1827.62</td>\n      <td>https://www.ebay.com/itm/133884939196?nordt=tr...</td>\n      <td>Used: An item that has been used previously. T...</td>\n      <td>NaN</td>\n      <td>Apple</td>\n      <td>Apple iPhone 4s</td>\n      <td>...</td>\n      <td>iOS</td>\n      <td>A1387 (CDMA + GSM)</td>\n      <td>Bar</td>\n      <td>A1387</td>\n      <td>3G</td>\n      <td>Color Screen</td>\n      <td>Single SIM</td>\n      <td>Built-In Memory</td>\n      <td>NaN</td>\n      <td>Black</td>\n    </tr>\n    <tr>\n      <th>1842</th>\n      <td>UScellular HPP-L55B Hot Pepper Serrano Black 5...</td>\n      <td>15.44</td>\n      <td>0.00</td>\n      <td>93.0</td>\n      <td>1435.96</td>\n      <td>https://www.ebay.com/itm/134189162659?nordt=tr...</td>\n      <td>New: A brand-new, unused, unopened, undamaged ...</td>\n      <td>NaN</td>\n      <td>UScellular</td>\n      <td>NaN</td>\n      <td>...</td>\n      <td>NaN</td>\n      <td>NaN</td>\n      <td>NaN</td>\n      <td>HPP-L55B</td>\n      <td>NaN</td>\n      <td>NaN</td>\n      <td>NaN</td>\n      <td>NaN</td>\n      <td>NaN</td>\n      <td>NaN</td>\n    </tr>\n    <tr>\n      <th>1905</th>\n      <td>DOOGEE S61 PRO 6GB+128GB Rugged Smartphone And...</td>\n      <td>14.08</td>\n      <td>0.00</td>\n      <td>108.0</td>\n      <td>1520.82</td>\n      <td>https://www.ebay.com/itm/363595021848?nordt=tr...</td>\n      <td>New: A brand-new, unused, unopened, undamaged ...</td>\n      <td>NaN</td>\n      <td>DOOGEE</td>\n      <td>S61 PRO</td>\n      <td>...</td>\n      <td>Android 12</td>\n      <td>DOOGEE S61PRO Cell Phones</td>\n      <td>Outdoor Android 12 Unlocked Smartphone</td>\n      <td>DOOGEE S61PRO Rugged Smartphone</td>\n      <td>FM, 2G, 3G, 4G, Bluetooth, GPRS, GPS, NFC, Wi-Fi</td>\n      <td>Helio G35 / Octa Core / 2.3GHz / 12nm, 6.0\" IP...</td>\n      <td>Dual SIM (SIM + SIM + Memory Card)</td>\n      <td>MicroSD</td>\n      <td>Octa Core</td>\n      <td>Black</td>\n    </tr>\n    <tr>\n      <th>1961</th>\n      <td>LG K4 (2017) (LG- M151) 8GB Gray GSM Unlocked ...</td>\n      <td>24.72</td>\n      <td>0.00</td>\n      <td>97.0</td>\n      <td>2397.75</td>\n      <td>https://www.ebay.com/itm/184520719508?nordt=tr...</td>\n      <td>Used</td>\n      <td>“LG K4 (2017)(LG- M151) 8GB Gray GSM Unlocked ...</td>\n      <td>LG</td>\n      <td>LG K4</td>\n      <td>...</td>\n      <td>Android</td>\n      <td>NaN</td>\n      <td>NaN</td>\n      <td>LG-M151</td>\n      <td>2G, 3G, Bluetooth</td>\n      <td>Accelerometer, Camera, Touch Screen</td>\n      <td>Single SIM</td>\n      <td>MicroSD</td>\n      <td>Quad Core</td>\n      <td>NaN</td>\n    </tr>\n    <tr>\n      <th>2051</th>\n      <td>Nuu Mobile A6L-C 8GB GSM Unlocked Smartphone E...</td>\n      <td>22.18</td>\n      <td>0.00</td>\n      <td>116.0</td>\n      <td>2572.84</td>\n      <td>https://www.ebay.com/itm/175379524781?nordt=tr...</td>\n      <td>Used</td>\n      <td>“Excellent Condition - These devices will appe...</td>\n      <td>NUU</td>\n      <td>A6L-C</td>\n      <td>...</td>\n      <td>Android</td>\n      <td>NaN</td>\n      <td>Bar</td>\n      <td>NaN</td>\n      <td>NaN</td>\n      <td>NaN</td>\n      <td>NaN</td>\n      <td>NaN</td>\n      <td>NaN</td>\n      <td>NaN</td>\n    </tr>\n    <tr>\n      <th>2204</th>\n      <td>Nokia Lumia 521 (T-Mobile) 3G GSM Smartphone W...</td>\n      <td>18.87</td>\n      <td>14.06</td>\n      <td>70.0</td>\n      <td>1320.79</td>\n      <td>https://www.ebay.com/itm/144268018780?nordt=tr...</td>\n      <td>Used</td>\n      <td>“Includes Phone, Battery, Cover and Charger.”</td>\n      <td>Nokia</td>\n      <td>Nokia Lumia 521</td>\n      <td>...</td>\n      <td>Windows Phone 8</td>\n      <td>NaN</td>\n      <td>Bar</td>\n      <td>521</td>\n      <td>3G</td>\n      <td>Wi-Fi Capable</td>\n      <td>Single SIM</td>\n      <td>NaN</td>\n      <td>NaN</td>\n      <td>White</td>\n    </tr>\n    <tr>\n      <th>2265</th>\n      <td>DOOGEE S61 PRO Night Vision 6GB+128GB Rugged S...</td>\n      <td>5.15</td>\n      <td>0.00</td>\n      <td>52.0</td>\n      <td>267.82</td>\n      <td>https://www.ebay.com/itm/175495118001?nordt=tr...</td>\n      <td>New: A brand-new, unused, unopened, undamaged ...</td>\n      <td>NaN</td>\n      <td>DOOGEE</td>\n      <td>S61 Pro</td>\n      <td>...</td>\n      <td>Android 12</td>\n      <td>DOOGEE S61PRO Cell Phones</td>\n      <td>Material: transparent shell</td>\n      <td>DOOGEE S61PRO Rugged Smartphone</td>\n      <td>2G, 3G, 4G, Bluetooth, GPS, NFC</td>\n      <td>16MP Front Camera, 6GB RAM+128GB ROM / EMCP, 5...</td>\n      <td>Dual SIM (SIM + SIM + Memory Card)</td>\n      <td>MicroSD</td>\n      <td>Octa Core</td>\n      <td>Black</td>\n    </tr>\n    <tr>\n      <th>2293</th>\n      <td>Motorola STMTXT2005DCPWP Straight Talk Moto e6...</td>\n      <td>24.45</td>\n      <td>0.00</td>\n      <td>128.0</td>\n      <td>3130.15</td>\n      <td>https://www.ebay.com/itm/124295287852?nordt=tr...</td>\n      <td>New: A brand-new, unused, unopened, undamaged ...</td>\n      <td>NaN</td>\n      <td>Motorola</td>\n      <td>NaN</td>\n      <td>...</td>\n      <td>NaN</td>\n      <td>NaN</td>\n      <td>NaN</td>\n      <td>STMTXT2005DCPWP</td>\n      <td>NaN</td>\n      <td>NaN</td>\n      <td>NaN</td>\n      <td>NaN</td>\n      <td>NaN</td>\n      <td>NaN</td>\n    </tr>\n    <tr>\n      <th>2319</th>\n      <td>AT&amp;T Axia QS5509A - 16GB - Dark Blue (AT&amp;T) Sm...</td>\n      <td>12.34</td>\n      <td>0.00</td>\n      <td>70.0</td>\n      <td>863.99</td>\n      <td>https://www.ebay.com/itm/133555567470?nordt=tr...</td>\n      <td>For parts or not working</td>\n      <td>“AS IS  - FRP/Google Locked”</td>\n      <td>AT&amp;T</td>\n      <td>Axia</td>\n      <td>...</td>\n      <td>Android</td>\n      <td>NaN</td>\n      <td>NaN</td>\n      <td>QS5509A</td>\n      <td>Bluetooth, Infrared, Wi-Fi, Micro USB, NFC, GP...</td>\n      <td>Bluetooth Enabled, Vibration, Front Camera, Gy...</td>\n      <td>Single SIM</td>\n      <td>MicroSD</td>\n      <td>Quad+Quad Core</td>\n      <td>Blue</td>\n    </tr>\n    <tr>\n      <th>2378</th>\n      <td>Alcatel jItterbug (GreatCall) 4G LTE Smartphon...</td>\n      <td>16.53</td>\n      <td>5.93</td>\n      <td>54.0</td>\n      <td>892.36</td>\n      <td>https://www.ebay.com/itm/144523480409?nordt=tr...</td>\n      <td>Used</td>\n      <td>“Phone only, No Charger, No Sim Card.”</td>\n      <td>Alcatel</td>\n      <td>Jitterbug Smart</td>\n      <td>...</td>\n      <td>Android</td>\n      <td>NaN</td>\n      <td>Bar</td>\n      <td>A622GL</td>\n      <td>4G+</td>\n      <td>Bluetooth Enabled</td>\n      <td>Single SIM</td>\n      <td>MicroSDHC</td>\n      <td>NaN</td>\n      <td>Black</td>\n    </tr>\n    <tr>\n      <th>2453</th>\n      <td>Cricket Icon U304AC - 16GB - Black (Cricket Wi...</td>\n      <td>18.94</td>\n      <td>0.00</td>\n      <td>58.0</td>\n      <td>1098.59</td>\n      <td>https://www.ebay.com/itm/133623106844?nordt=tr...</td>\n      <td>Used</td>\n      <td>“Handset Only: Battery and back cover is NOT i...</td>\n      <td>Cricket</td>\n      <td>Icon</td>\n      <td>...</td>\n      <td>Android</td>\n      <td>U340AC</td>\n      <td>NaN</td>\n      <td>U304AC</td>\n      <td>Micro USB</td>\n      <td>Bluetooth Enabled, Wi-Fi Capable, GPS, Camera</td>\n      <td>Single SIM</td>\n      <td>MicroSD</td>\n      <td>Quad Core</td>\n      <td>Black</td>\n    </tr>\n    <tr>\n      <th>2552</th>\n      <td>HTC EVO 4G (Sprint) Smartphone Black</td>\n      <td>18.43</td>\n      <td>5.88</td>\n      <td>42.0</td>\n      <td>773.91</td>\n      <td>https://www.ebay.com/itm/134097305052?nordt=tr...</td>\n      <td>Used</td>\n      <td>“Includes Phone Only, No Charger.”</td>\n      <td>HTC</td>\n      <td>HTC EVO 4G</td>\n      <td>...</td>\n      <td>Android</td>\n      <td>NaN</td>\n      <td>Bar</td>\n      <td>NaN</td>\n      <td>NaN</td>\n      <td>NaN</td>\n      <td>NaN</td>\n      <td>NaN</td>\n      <td>NaN</td>\n      <td>Black</td>\n    </tr>\n    <tr>\n      <th>2607</th>\n      <td>✅Samsung Galaxy S5 - 16GB - (AT&amp;T / Verizon/ T...</td>\n      <td>17.62</td>\n      <td>0.00</td>\n      <td>61.0</td>\n      <td>1075.00</td>\n      <td>https://www.ebay.com/itm/225174348858?nordt=tr...</td>\n      <td>For parts or not working</td>\n      <td>“Read the listing carefully PLEASE.”</td>\n      <td>Samsung</td>\n      <td>Samsung Galaxy S5</td>\n      <td>...</td>\n      <td>Android</td>\n      <td>G900</td>\n      <td>Bar</td>\n      <td>NaN</td>\n      <td>4G, 4G+, Wi-Fi</td>\n      <td>NaN</td>\n      <td>Single SIM</td>\n      <td>MicroSD</td>\n      <td>Quad Core</td>\n      <td>NaN</td>\n    </tr>\n    <tr>\n      <th>2608</th>\n      <td>DOOGEE S51 Rugged Smartphone Unlocked 64GB IP6...</td>\n      <td>8.20</td>\n      <td>0.00</td>\n      <td>71.0</td>\n      <td>582.40</td>\n      <td>https://www.ebay.com/itm/225233700915?nordt=tr...</td>\n      <td>New: A brand-new, unused, unopened, undamaged ...</td>\n      <td>NaN</td>\n      <td>DOOGEE</td>\n      <td>S51</td>\n      <td>...</td>\n      <td>Android</td>\n      <td>doogee rugged smartphone</td>\n      <td>Bar</td>\n      <td>outdoor smartphone unlocked</td>\n      <td>2G, 3G, 4G, Bluetooth, GPRS, GPS, NFC, USB Typ...</td>\n      <td>Dust-Resistant, Facial Recognition, Fast Charg...</td>\n      <td>Dual SIM (SIM + SIM + Memory Card)</td>\n      <td>MicroSD</td>\n      <td>Octa Core</td>\n      <td>Black</td>\n    </tr>\n    <tr>\n      <th>2628</th>\n      <td>DOOGEE S96 GT Rugged Smartphone 8GB+256GB Unlo...</td>\n      <td>18.97</td>\n      <td>0.00</td>\n      <td>104.0</td>\n      <td>1972.95</td>\n      <td>https://www.ebay.com/itm/363590176816?nordt=tr...</td>\n      <td>New: A brand-new, unused, unopened, undamaged ...</td>\n      <td>NaN</td>\n      <td>DOOGEE</td>\n      <td>S96GT</td>\n      <td>...</td>\n      <td>Android 12</td>\n      <td>DOOGEE S96 GT</td>\n      <td>Outdoor Handy Rugged Smartphone</td>\n      <td>DOOGEE S96 GT Rugged Smartphone</td>\n      <td>OTG, FM, 2G, 3G, 4G, Bluetooth, GPRS, GPS, NFC...</td>\n      <td>Helio G95 / Octa Core / 2.1GHz / 12nm, AI Quad...</td>\n      <td>Dual SIM (SIM + SIM + Memory Card)</td>\n      <td>MicroSD</td>\n      <td>Octa Core</td>\n      <td>Black</td>\n    </tr>\n    <tr>\n      <th>2636</th>\n      <td>DOOGEE S96 Pro Rugged Unlocked Smartphone 8GB ...</td>\n      <td>15.90</td>\n      <td>0.00</td>\n      <td>81.0</td>\n      <td>1288.28</td>\n      <td>https://www.ebay.com/itm/363844102944?nordt=tr...</td>\n      <td>New: A brand-new, unused, unopened, undamaged ...</td>\n      <td>NaN</td>\n      <td>DOOGEE</td>\n      <td>S89 Pro</td>\n      <td>...</td>\n      <td>Android 12</td>\n      <td>DOOGEE S89 Pro Smartphone</td>\n      <td>Outdoor Handy Rugged Smartphone</td>\n      <td>DOOGEE S96 Pro Rugged Smartphone</td>\n      <td>2G, 3G, 4G, Bluetooth, Dual-Band, GPRS, GPS, N...</td>\n      <td>12000mAh Large battery, 6.3\" LCD FHD+ Waterdro...</td>\n      <td>Dual SIM (SIM + SIM/Memory Card)</td>\n      <td>MicroSD</td>\n      <td>Octa Core</td>\n      <td>Orange</td>\n    </tr>\n    <tr>\n      <th>2675</th>\n      <td>BlackBerry Curve 8900 Smartphone cell phone,  New</td>\n      <td>9.28</td>\n      <td>0.00</td>\n      <td>41.0</td>\n      <td>380.48</td>\n      <td>https://www.ebay.com/itm/334389598384?nordt=tr...</td>\n      <td>New: A brand-new, unused, unopened, undamaged ...</td>\n      <td>NaN</td>\n      <td>BlackBerry</td>\n      <td>BlackBerry Curve 8900</td>\n      <td>...</td>\n      <td>BlackBerry OS</td>\n      <td>NaN</td>\n      <td>Bar</td>\n      <td>PRD17116003, PRD-17116-003, BLACKBERRY 8900</td>\n      <td>2G</td>\n      <td>8900</td>\n      <td>NaN</td>\n      <td>MicroSD</td>\n      <td>Single Core</td>\n      <td>Silver</td>\n    </tr>\n    <tr>\n      <th>2752</th>\n      <td>Motorola Droid Bionic (Verizon) 4G LTE Smartph...</td>\n      <td>18.42</td>\n      <td>0.00</td>\n      <td>55.0</td>\n      <td>1013.35</td>\n      <td>https://www.ebay.com/itm/144524916503?nordt=tr...</td>\n      <td>Used</td>\n      <td>“Includes Phone, Battery, Cover. No Charger.”</td>\n      <td>Motorola</td>\n      <td>Motorola Droid Bionic</td>\n      <td>...</td>\n      <td>Android</td>\n      <td>XT875</td>\n      <td>Bar</td>\n      <td>NaN</td>\n      <td>4G+</td>\n      <td>Bluetooth Enabled</td>\n      <td>Single SIM</td>\n      <td>MicroSD</td>\n      <td>Dual Core</td>\n      <td>Black</td>\n    </tr>\n    <tr>\n      <th>2797</th>\n      <td>Blackberry Curve 9330 - Black (Verizon) 3G CDM...</td>\n      <td>22.41</td>\n      <td>0.00</td>\n      <td>38.0</td>\n      <td>851.62</td>\n      <td>https://www.ebay.com/itm/403545669803?nordt=tr...</td>\n      <td>Used</td>\n      <td>“B Grade. Includes device, battery and USB cha...</td>\n      <td>BlackBerry</td>\n      <td>BlackBerry Curve 9330</td>\n      <td>...</td>\n      <td>BlackBerry 3-7</td>\n      <td>9330</td>\n      <td>Bar</td>\n      <td>VZWC9330</td>\n      <td>2G, 3G, Bluetooth, GPS, Wi-Fi</td>\n      <td>Camera, Email, Web, Email Access, Global Ready...</td>\n      <td>Single SIM</td>\n      <td>MicroSD, MicroSDHC</td>\n      <td>NaN</td>\n      <td>Black</td>\n    </tr>\n    <tr>\n      <th>2798</th>\n      <td>Motorola A956 Droid 2 Verizon Global Android S...</td>\n      <td>11.89</td>\n      <td>0.00</td>\n      <td>38.0</td>\n      <td>451.70</td>\n      <td>https://www.ebay.com/itm/403974851437?nordt=tr...</td>\n      <td>Used</td>\n      <td>“Item is previously owned, has been fully test...</td>\n      <td>Motorola</td>\n      <td>Motorola Droid 2</td>\n      <td>...</td>\n      <td>NaN</td>\n      <td>NaN</td>\n      <td>NaN</td>\n      <td>A-956</td>\n      <td>3G, Wi-Fi</td>\n      <td>QWERTY Keyboard</td>\n      <td>NaN</td>\n      <td>NaN</td>\n      <td>NaN</td>\n      <td>Blue</td>\n    </tr>\n    <tr>\n      <th>2859</th>\n      <td>Nokia Lumia 635 (AT&amp;T) 4G LTE Smartphone Windo...</td>\n      <td>16.34</td>\n      <td>10.61</td>\n      <td>53.0</td>\n      <td>865.91</td>\n      <td>https://www.ebay.com/itm/134098480150?nordt=tr...</td>\n      <td>Used</td>\n      <td>“Includes Phone, Battery, Cover and Charger.”</td>\n      <td>Nokia</td>\n      <td>Nokia Lumia 635</td>\n      <td>...</td>\n      <td>Windows Phone 8</td>\n      <td>RM-975</td>\n      <td>Bar</td>\n      <td>NaN</td>\n      <td>Wi-Fi, Micro USB</td>\n      <td>Wi-Fi Capable</td>\n      <td>Single SIM</td>\n      <td>MicroSD</td>\n      <td>Quad Core</td>\n      <td>White</td>\n    </tr>\n    <tr>\n      <th>2866</th>\n      <td>Motorola XT1080M Droid Maxx Verizon Smartphone...</td>\n      <td>24.21</td>\n      <td>5.99</td>\n      <td>48.0</td>\n      <td>1162.00</td>\n      <td>https://www.ebay.com/itm/174095404688?nordt=tr...</td>\n      <td>Used: An item that has been used previously. T...</td>\n      <td>NaN</td>\n      <td>Motorola</td>\n      <td>Motorola Droid Maxx</td>\n      <td>...</td>\n      <td>Android</td>\n      <td>NaN</td>\n      <td>Bar</td>\n      <td>MOTXT1080M</td>\n      <td>Bluetooth, 4G, 3G, Headphone Jack, Wi-Fi, 2G, ...</td>\n      <td>AMOLED Display, NFC Connectivity, Wi-Fi Capabl...</td>\n      <td>Single SIM</td>\n      <td>MicroSD</td>\n      <td>Dual Core</td>\n      <td>NaN</td>\n    </tr>\n  </tbody>\n</table>\n<p>31 rows × 27 columns</p>\n</div>"
     },
     "execution_count": 8,
     "metadata": {},
     "output_type": "execute_result"
    }
   ],
   "source": [
    "df[df.Price < np.quantile(df.Price, 0.01)]"
   ],
   "metadata": {
    "pycharm": {
     "name": "#%%\n"
    },
    "id": "qOndgyihVfyV",
    "outputId": "dc819379-4d3f-4278-f041-8b5139b0186b"
   }
  },
  {
   "cell_type": "code",
   "execution_count": null,
   "outputs": [],
   "source": [
    "df = df.drop(df[df['Title'].str.lower().str.contains(\"charger\")].index)"
   ],
   "metadata": {
    "pycharm": {
     "name": "#%%\n"
    },
    "id": "k3Q1LxrMVfyW"
   }
  },
  {
   "cell_type": "code",
   "execution_count": null,
   "outputs": [
    {
     "data": {
      "text/plain": "Empty DataFrame\nColumns: [Title, Price, Shipping_cost, Sales_Count, Sales_Value, Link, Condition, Seller Notes, Brand, Model, Storage Capacity, Network, Camera Resolution, Screen Size, Lock Status, RAM, Contract, Operating System, Model Number, Style, MPN, Connectivity, Features, SIM Card Slot, Memory Card Type, Processor, Color]\nIndex: []\n\n[0 rows x 27 columns]",
      "text/html": "<div>\n<style scoped>\n    .dataframe tbody tr th:only-of-type {\n        vertical-align: middle;\n    }\n\n    .dataframe tbody tr th {\n        vertical-align: top;\n    }\n\n    .dataframe thead th {\n        text-align: right;\n    }\n</style>\n<table border=\"1\" class=\"dataframe\">\n  <thead>\n    <tr style=\"text-align: right;\">\n      <th></th>\n      <th>Title</th>\n      <th>Price</th>\n      <th>Shipping_cost</th>\n      <th>Sales_Count</th>\n      <th>Sales_Value</th>\n      <th>Link</th>\n      <th>Condition</th>\n      <th>Seller Notes</th>\n      <th>Brand</th>\n      <th>Model</th>\n      <th>...</th>\n      <th>Operating System</th>\n      <th>Model Number</th>\n      <th>Style</th>\n      <th>MPN</th>\n      <th>Connectivity</th>\n      <th>Features</th>\n      <th>SIM Card Slot</th>\n      <th>Memory Card Type</th>\n      <th>Processor</th>\n      <th>Color</th>\n    </tr>\n  </thead>\n  <tbody>\n  </tbody>\n</table>\n<p>0 rows × 27 columns</p>\n</div>"
     },
     "execution_count": 10,
     "metadata": {},
     "output_type": "execute_result"
    }
   ],
   "source": [
    "df[df['Title'].str.lower().str.contains(\"charger\")]"
   ],
   "metadata": {
    "pycharm": {
     "name": "#%%\n"
    },
    "id": "iq-4LUNcVfyX",
    "outputId": "b7a96471-db66-43b9-9818-da6bcf430d4a"
   }
  },
  {
   "cell_type": "markdown",
   "source": [
    "## Рассматриваем характеристики"
   ],
   "metadata": {
    "collapsed": false,
    "id": "JOazwPESVfyX"
   }
  },
  {
   "cell_type": "markdown",
   "source": [
    "### Состояние устройства"
   ],
   "metadata": {
    "collapsed": false,
    "id": "n83PJcyuVfya"
   }
  },
  {
   "cell_type": "code",
   "execution_count": null,
   "outputs": [
    {
     "data": {
      "text/plain": "Used                                                                                                                                                                                                                                                                                                                                                                                                                                                                                                                                                        886\nNew: A brand-new, unused, unopened, undamaged item in its original packaging (where packaging is ...Read moreabout the conditionNew: A brand-new, unused, unopened, undamaged item in its original packaging (where packaging is applicable). Packaging should be the same as what is found in a retail store, unless the item is handmade or was packaged by the manufacturer in non-retail packaging, such as an unprinted box or plastic bag. See the seller's listing for full details.See all condition definitionsopens in a new window or tab        688\nOpen box                                                                                                                                                                                                                                                                                                                                                                                                                                                                                                                                                    443\nGood - Refurbished                                                                                                                                                                                                                                                                                                                                                                                                                                                                                                                                          377\nVery Good - Refurbished                                                                                                                                                                                                                                                                                                                                                                                                                                                                                                                                     288\nExcellent - Refurbished                                                                                                                                                                                                                                                                                                                                                                                                                                                                                                                                     163\nUsed: An item that has been used previously. The item may have some signs of cosmetic wear, but is ...Read moreabout the conditionUsed: An item that has been used previously. The item may have some signs of cosmetic wear, but is fully operational and functions as intended. This item may be a floor model or store return that has been used. See the seller’s listing for full details and description of any imperfections.See all condition definitionsopens in a new window or tab                                                               114\nOpen box: An item in excellent, new condition with no wear. The item may be missing the original ...Read moreabout the conditionOpen box: An item in excellent, new condition with no wear. The item may be missing the original packaging or protective wrapping, or may be in the original packaging but not sealed. The item includes original accessories. The item may be a factory second. See the seller's listing for full details and description.See all condition definitionsopens in a new window or tab                                         56\nFor parts or not working                                                                                                                                                                                                                                                                                                                                                                                                                                                                                                                                     26\nCertified - Refurbished                                                                                                                                                                                                                                                                                                                                                                                                                                                                                                                                      17\nExcellent - Refurbished: The item is in like-new condition, backed by a one year warranty. It has ...Read moreabout the conditionExcellent - Refurbished: The item is in like-new condition, backed by a one year warranty. It has been professionally refurbished, inspected and cleaned to excellent condition by qualified sellers. The item includes original or new accessories and will come in new generic packaging. See the seller's listing for full details.See all condition definitionsopens in a new window or tab                              9\nVery Good - Refurbished: The item shows minimal wear and is backed by a one year warranty. It is ...Read moreabout the conditionVery Good - Refurbished: The item shows minimal wear and is backed by a one year warranty. It is fully functional and has been professionally refurbished,  inspected and cleaned to very good condition by qualified sellers. The item includes original or new accessories and will come in new generic packaging. See the seller's listing for full details.See all condition definitionsopens in a new window or tab      9\nGood - Refurbished: The item shows moderate wear and is backed by a one year warranty. It is fully ...Read moreabout the conditionGood - Refurbished: The item shows moderate wear and is backed by a one year warranty. It is fully functional and has been professionally refurbished, inspected and cleaned to good condition by qualified sellers. The item includes original or new accessories and will come in a new generic packaging. See the seller's listing for full details.See all condition definitionsopens in a new window or tab            4\nName: Condition, dtype: int64"
     },
     "execution_count": 11,
     "metadata": {},
     "output_type": "execute_result"
    }
   ],
   "source": [
    "df.Condition.value_counts()"
   ],
   "metadata": {
    "pycharm": {
     "name": "#%%\n"
    },
    "id": "JP9RuyemVfyb",
    "outputId": "d2c8156f-d399-4df2-a511-5f2490214043"
   }
  },
  {
   "cell_type": "code",
   "execution_count": null,
   "outputs": [],
   "source": [
    "df['Condition'] = df['Condition'].str.split(':', n=1).str[0]"
   ],
   "metadata": {
    "pycharm": {
     "name": "#%%\n"
    },
    "id": "cRdbIwtqVfyd"
   }
  },
  {
   "cell_type": "code",
   "execution_count": null,
   "outputs": [
    {
     "data": {
      "text/plain": "Used                        1000\nNew                          688\nOpen box                     499\nGood - Refurbished           381\nVery Good - Refurbished      297\nExcellent - Refurbished      172\nFor parts or not working      26\nCertified - Refurbished       17\nName: Condition, dtype: int64"
     },
     "execution_count": 13,
     "metadata": {},
     "output_type": "execute_result"
    }
   ],
   "source": [
    "df.Condition.value_counts()"
   ],
   "metadata": {
    "pycharm": {
     "name": "#%%\n"
    },
    "id": "e7GtSH1NVfyf",
    "outputId": "6376535e-d133-4942-e8f7-bcc34f68f2b7"
   }
  },
  {
   "cell_type": "markdown",
   "source": [
    "### Бренд\n",
    "\n",
    "В списке названий брендов сейчас содержаться дубликаты, мы это устраняем"
   ],
   "metadata": {
    "collapsed": false,
    "id": "F5cQpqvNVfyf"
   }
  },
  {
   "cell_type": "code",
   "execution_count": null,
   "outputs": [
    {
     "data": {
      "text/plain": "Index(['Samsung', 'Apple', 'LG', 'Google', 'Motorola', 'Samsung Electronics',\n       'UMIDIGI', 'Unbranded', 'CAT', 'Kyocera', 'BlackBerry', 'Sonim', 'TCL',\n       'BLU', 'DOOGEE', 'Nokia', 'Xiaomi', 'OnePlus', 'XGODY', 'T-Mobile',\n       'Alcatel', 'AGM', 'Unihertz', 'ZTE', 'Tracfone', 'Microsoft', 'Palm',\n       'OUKITEL', 'Blackview', 'Lively', 'HTC', 'Huawei', 'Verizon Wireless',\n       'Lg', 'GOOGLE', 'Ulefone', 'Sony', 'MOTOROLA', 'TracFone',\n       'Total By Verizon', 'Verizon', 'Visible', 'APPLE', 'oneplus',\n       'Simple Mobile', 'Cricket', 'AT&T', 'Gotake', 'SOYES', 'Maxwest',\n       'ASUS', 'Melrose', 'Sky Devices', 'Orbic', 'invisibleSHIELD',\n       'Boost Mobile', 'UMX', 'Lanchaung', 'Cellution', 'Cubot', 'mophie',\n       'M12', 'Consumer Priority Services', 'SAMSUNG', 'Honor', 'Schok',\n       'UMIDGI', 'Satrend', 'Amazon', 'ULEFONE', 'NUU', 'no brand',\n       'Wingtech Technology', 'UScellular', 'WingTech', 'Essential', 'OPPO'],\n      dtype='object')"
     },
     "execution_count": 14,
     "metadata": {},
     "output_type": "execute_result"
    }
   ],
   "source": [
    "df.Brand.value_counts().index"
   ],
   "metadata": {
    "pycharm": {
     "name": "#%%\n"
    },
    "id": "2XFrdYRvVfyg",
    "outputId": "73e8798c-31fe-4e2a-bca8-0ede0f47c8fb"
   }
  },
  {
   "cell_type": "code",
   "execution_count": null,
   "outputs": [],
   "source": [
    "df['Brand'] = df['Brand'].str.lower()"
   ],
   "metadata": {
    "pycharm": {
     "name": "#%%\n"
    },
    "id": "7zPWFo2MVfyh"
   }
  },
  {
   "cell_type": "code",
   "execution_count": null,
   "outputs": [],
   "source": [
    "df.loc[df['Brand'] == 'samsung electronics', 'Brand'] = 'samsung'"
   ],
   "metadata": {
    "pycharm": {
     "name": "#%%\n"
    },
    "id": "PuBkIph3Vfyj"
   }
  },
  {
   "cell_type": "code",
   "execution_count": null,
   "outputs": [],
   "source": [
    "df.loc[df['Brand'] == 'verizon wireless', 'Brand'] = 'verizon'"
   ],
   "metadata": {
    "pycharm": {
     "name": "#%%\n"
    },
    "id": "phEJpvsuVfyk"
   }
  },
  {
   "cell_type": "code",
   "execution_count": null,
   "outputs": [
    {
     "data": {
      "text/plain": "Index(['samsung', 'apple', 'lg', 'google', 'motorola', 'umidigi', 'unbranded',\n       'cat', 'kyocera', 'blackberry', 'sonim', 'blu', 'tcl', 'doogee',\n       'oneplus', 'nokia', 'xgody', 'xiaomi', 't-mobile', 'alcatel',\n       'tracfone', 'agm', 'verizon', 'unihertz', 'zte', 'microsoft', 'palm',\n       'ulefone', 'blackview', 'htc', 'lively', 'oukitel', 'huawei', 'sony',\n       'total by verizon', 'visible', 'at&t', 'cricket', 'simple mobile',\n       'asus', 'soyes', 'maxwest', 'sky devices', 'melrose', 'gotake',\n       'mophie', 'consumer priority services', 'm12', 'cellution', 'cubot',\n       'lanchaung', 'boost mobile', 'invisibleshield', 'schok', 'umx',\n       'satrend', 'amazon', 'nuu', 'uscellular', 'wingtech', 'essential',\n       'umidgi', 'orbic', 'wingtech technology', 'no brand', 'honor', 'oppo'],\n      dtype='object')"
     },
     "execution_count": 18,
     "metadata": {},
     "output_type": "execute_result"
    }
   ],
   "source": [
    "df.Brand.value_counts().index"
   ],
   "metadata": {
    "pycharm": {
     "name": "#%%\n"
    },
    "id": "UzolahODVfyl",
    "outputId": "bd19cac3-587b-41d3-8ab5-e9d71e7b21ce"
   }
  },
  {
   "cell_type": "markdown",
   "source": [
    "### Модели смартфонов"
   ],
   "metadata": {
    "collapsed": false,
    "id": "Hc9n-JAfVfym"
   }
  },
  {
   "cell_type": "code",
   "execution_count": null,
   "outputs": [
    {
     "data": {
      "text/plain": "Index(['Apple iPhone 11', 'Apple iPhone 8', 'Apple iPhone X',\n       'Apple iPhone XR', 'Samsung Galaxy S7', 'Apple iPhone 11 Pro',\n       'Samsung Galaxy S10+', 'Samsung Galaxy S9', 'Samsung Galaxy S9+',\n       'Apple iPhone 11 Pro Max',\n       ...\n       'SAMSUNG GALAXY A136U', 'BlackBerry Curve 9360', 'S96 GT',\n       'BlackBerry Curve 9380', '13 pro', 'Samsung Galaxy Note 3',\n       'Kyocera DuraXV Extreme', 'Razr 5G', 'PH-1', 'S5 Active G870A 16GB'],\n      dtype='object', length=709)"
     },
     "execution_count": 19,
     "metadata": {},
     "output_type": "execute_result"
    }
   ],
   "source": [
    "df['Model'].value_counts().index"
   ],
   "metadata": {
    "pycharm": {
     "name": "#%%\n"
    },
    "id": "55be8Rd3Vfyo",
    "outputId": "7fc62708-0327-4f04-bc51-da036b96554c"
   }
  },
  {
   "cell_type": "markdown",
   "source": [
    "### Сети"
   ],
   "metadata": {
    "collapsed": false,
    "id": "Df1fDIkSVfyq"
   }
  },
  {
   "cell_type": "code",
   "execution_count": null,
   "outputs": [
    {
     "data": {
      "text/plain": "Bluetooth, 4G, Wi-Fi, Lightning, NFC                                 122\n4G, Bluetooth, GPS                                                    95\n5G, Bluetooth, Wi-Fi, Lightning, NFC                                  91\n5G                                                                    77\n4G, Bluetooth, GPS, LTE                                               64\n                                                                    ... \n3G, 4G, GPS, LTE, NFC, Wi-Fi                                           1\n4G, 4G+, Bluetooth, GPRS, GPS                                          1\nUSB, 2G, 3G, 4G, Bluetooth, Dual-Band, GPS, Lightning, NFC, Wi-Fi      1\n4G, 3G, 2G, GPS                                                        1\n2G, 3G, 4G, Bluetooth, Wi-Fi, USB Type-C                               1\nName: Connectivity, Length: 507, dtype: int64"
     },
     "execution_count": 20,
     "metadata": {},
     "output_type": "execute_result"
    }
   ],
   "source": [
    "df.Connectivity.value_counts()"
   ],
   "metadata": {
    "pycharm": {
     "name": "#%%\n"
    },
    "id": "3a8f3oMiVfyq",
    "outputId": "16bfc06c-5c9a-4c3b-b1ec-f4a27a37374c"
   }
  },
  {
   "cell_type": "code",
   "execution_count": null,
   "outputs": [],
   "source": [
    "def clear(feat:str):\n",
    "    if type(feat)==str:\n",
    "        feat = re.split(r',\\s*', feat)\n",
    "        for i in range(len(feat)):\n",
    "            feat[i] = feat[i].strip(\" \\'\\'\\\"\\\"\")\n",
    "        feat = ', '.join(feat)\n",
    "    return feat"
   ],
   "metadata": {
    "pycharm": {
     "name": "#%%\n"
    },
    "id": "-p9n26OzVfyr"
   }
  },
  {
   "cell_type": "code",
   "execution_count": null,
   "outputs": [],
   "source": [
    "Connectivity = df['Connectivity'].str.strip(\" []\").apply(clear)"
   ],
   "metadata": {
    "pycharm": {
     "name": "#%%\n"
    },
    "id": "8HeTnbObVfyr"
   }
  },
  {
   "cell_type": "code",
   "execution_count": null,
   "outputs": [
    {
     "data": {
      "text/plain": "Bluetooth, 4G, Wi-Fi, Lightning, NFC                     122\n4G, Bluetooth, GPS                                        95\n5G, Bluetooth, Wi-Fi, Lightning, NFC                      91\n5G                                                        77\n4G, Bluetooth, GPS, LTE                                   64\n                                                        ... \n2G, 3G, 4G, Bluetooth, Dual-Band, GPS, Lightning, LTE      1\nUSB Type-C, Bluetooth, 4G, Wi-Fi, NFC, LTE                 1\n3G, 4G, Bluetooth, GPS, Micro USB, USB Type-C, Wi-Fi       1\n2G, 3G, 4G, Bluetooth, GPS, LTE, USB Type-C, Wi-Fi         1\n2G, 3G, 4G, Bluetooth, Wi-Fi, USB Type-C                   1\nName: Connectivity, Length: 503, dtype: int64"
     },
     "execution_count": 23,
     "metadata": {},
     "output_type": "execute_result"
    }
   ],
   "source": [
    "Connectivity.value_counts()"
   ],
   "metadata": {
    "pycharm": {
     "name": "#%%\n"
    },
    "id": "rms-g8X9Vfyu",
    "outputId": "9f4c92f9-01e9-40da-8425-32fe90927606"
   }
  },
  {
   "cell_type": "code",
   "execution_count": null,
   "outputs": [],
   "source": [
    "Connectivity = Connectivity.str.get_dummies(', ')"
   ],
   "metadata": {
    "pycharm": {
     "name": "#%%\n"
    },
    "id": "OBrSyT0WVfyv"
   }
  },
  {
   "cell_type": "code",
   "execution_count": null,
   "outputs": [
    {
     "data": {
      "text/plain": "      2G  3G  4G  4G Bluetooth GPS LTE  4G LTE  4G+  5G  \\\n0      0   0   0                     0       0    0   0   \n1      0   0   0                     0       0    0   0   \n2      0   0   1                     0       0    0   0   \n3      1   1   1                     0       0    0   0   \n4      0   0   1                     0       0    0   0   \n...   ..  ..  ..                   ...     ...  ...  ..   \n3076   0   0   1                     0       0    0   0   \n3077   0   0   0                     0       0    0   0   \n3078   0   0   0                     0       0    0   1   \n3079   0   0   0                     0       0    0   1   \n3080   0   0   0                     0       0    0   0   \n\n      5G (A32 5G Models ONLY)  5G (Galaxy A51 5G Only)  5G (Pixel 4A 5G Only)  \\\n0                           0                        0                      0   \n1                           0                        0                      0   \n2                           0                        0                      0   \n3                           0                        0                      0   \n4                           0                        0                      0   \n...                       ...                      ...                    ...   \n3076                        0                        0                      0   \n3077                        0                        0                      0   \n3078                        0                        0                      0   \n3079                        0                        0                      0   \n3080                        0                        0                      0   \n\n      ...  WAP  WCDMA  WI-FI  WIFI  WIFI: 2.4G/5G  Wi-Fi  WiFi  Wifi  \\\n0     ...    0      0      0     0              0      0     0     0   \n1     ...    0      0      0     0              0      0     0     0   \n2     ...    0      0      0     0              0      0     0     0   \n3     ...    0      0      0     0              0      1     0     0   \n4     ...    0      0      0     0              0      0     0     0   \n...   ...  ...    ...    ...   ...            ...    ...   ...   ...   \n3076  ...    0      0      0     0              0      0     0     0   \n3077  ...    0      0      0     0              0      0     0     0   \n3078  ...    0      0      0     0              0      1     0     0   \n3079  ...    0      0      0     0              0      0     0     0   \n3080  ...    0      0      0     0              0      0     0     0   \n\n      Wireless charging  microUSB 2.0  \n0                     0             0  \n1                     0             0  \n2                     0             0  \n3                     0             0  \n4                     0             0  \n...                 ...           ...  \n3076                  0             0  \n3077                  0             0  \n3078                  0             0  \n3079                  0             0  \n3080                  0             0  \n\n[3080 rows x 60 columns]",
      "text/html": "<div>\n<style scoped>\n    .dataframe tbody tr th:only-of-type {\n        vertical-align: middle;\n    }\n\n    .dataframe tbody tr th {\n        vertical-align: top;\n    }\n\n    .dataframe thead th {\n        text-align: right;\n    }\n</style>\n<table border=\"1\" class=\"dataframe\">\n  <thead>\n    <tr style=\"text-align: right;\">\n      <th></th>\n      <th>2G</th>\n      <th>3G</th>\n      <th>4G</th>\n      <th>4G Bluetooth GPS LTE</th>\n      <th>4G LTE</th>\n      <th>4G+</th>\n      <th>5G</th>\n      <th>5G (A32 5G Models ONLY)</th>\n      <th>5G (Galaxy A51 5G Only)</th>\n      <th>5G (Pixel 4A 5G Only)</th>\n      <th>...</th>\n      <th>WAP</th>\n      <th>WCDMA</th>\n      <th>WI-FI</th>\n      <th>WIFI</th>\n      <th>WIFI: 2.4G/5G</th>\n      <th>Wi-Fi</th>\n      <th>WiFi</th>\n      <th>Wifi</th>\n      <th>Wireless charging</th>\n      <th>microUSB 2.0</th>\n    </tr>\n  </thead>\n  <tbody>\n    <tr>\n      <th>0</th>\n      <td>0</td>\n      <td>0</td>\n      <td>0</td>\n      <td>0</td>\n      <td>0</td>\n      <td>0</td>\n      <td>0</td>\n      <td>0</td>\n      <td>0</td>\n      <td>0</td>\n      <td>...</td>\n      <td>0</td>\n      <td>0</td>\n      <td>0</td>\n      <td>0</td>\n      <td>0</td>\n      <td>0</td>\n      <td>0</td>\n      <td>0</td>\n      <td>0</td>\n      <td>0</td>\n    </tr>\n    <tr>\n      <th>1</th>\n      <td>0</td>\n      <td>0</td>\n      <td>0</td>\n      <td>0</td>\n      <td>0</td>\n      <td>0</td>\n      <td>0</td>\n      <td>0</td>\n      <td>0</td>\n      <td>0</td>\n      <td>...</td>\n      <td>0</td>\n      <td>0</td>\n      <td>0</td>\n      <td>0</td>\n      <td>0</td>\n      <td>0</td>\n      <td>0</td>\n      <td>0</td>\n      <td>0</td>\n      <td>0</td>\n    </tr>\n    <tr>\n      <th>2</th>\n      <td>0</td>\n      <td>0</td>\n      <td>1</td>\n      <td>0</td>\n      <td>0</td>\n      <td>0</td>\n      <td>0</td>\n      <td>0</td>\n      <td>0</td>\n      <td>0</td>\n      <td>...</td>\n      <td>0</td>\n      <td>0</td>\n      <td>0</td>\n      <td>0</td>\n      <td>0</td>\n      <td>0</td>\n      <td>0</td>\n      <td>0</td>\n      <td>0</td>\n      <td>0</td>\n    </tr>\n    <tr>\n      <th>3</th>\n      <td>1</td>\n      <td>1</td>\n      <td>1</td>\n      <td>0</td>\n      <td>0</td>\n      <td>0</td>\n      <td>0</td>\n      <td>0</td>\n      <td>0</td>\n      <td>0</td>\n      <td>...</td>\n      <td>0</td>\n      <td>0</td>\n      <td>0</td>\n      <td>0</td>\n      <td>0</td>\n      <td>1</td>\n      <td>0</td>\n      <td>0</td>\n      <td>0</td>\n      <td>0</td>\n    </tr>\n    <tr>\n      <th>4</th>\n      <td>0</td>\n      <td>0</td>\n      <td>1</td>\n      <td>0</td>\n      <td>0</td>\n      <td>0</td>\n      <td>0</td>\n      <td>0</td>\n      <td>0</td>\n      <td>0</td>\n      <td>...</td>\n      <td>0</td>\n      <td>0</td>\n      <td>0</td>\n      <td>0</td>\n      <td>0</td>\n      <td>0</td>\n      <td>0</td>\n      <td>0</td>\n      <td>0</td>\n      <td>0</td>\n    </tr>\n    <tr>\n      <th>...</th>\n      <td>...</td>\n      <td>...</td>\n      <td>...</td>\n      <td>...</td>\n      <td>...</td>\n      <td>...</td>\n      <td>...</td>\n      <td>...</td>\n      <td>...</td>\n      <td>...</td>\n      <td>...</td>\n      <td>...</td>\n      <td>...</td>\n      <td>...</td>\n      <td>...</td>\n      <td>...</td>\n      <td>...</td>\n      <td>...</td>\n      <td>...</td>\n      <td>...</td>\n      <td>...</td>\n    </tr>\n    <tr>\n      <th>3076</th>\n      <td>0</td>\n      <td>0</td>\n      <td>1</td>\n      <td>0</td>\n      <td>0</td>\n      <td>0</td>\n      <td>0</td>\n      <td>0</td>\n      <td>0</td>\n      <td>0</td>\n      <td>...</td>\n      <td>0</td>\n      <td>0</td>\n      <td>0</td>\n      <td>0</td>\n      <td>0</td>\n      <td>0</td>\n      <td>0</td>\n      <td>0</td>\n      <td>0</td>\n      <td>0</td>\n    </tr>\n    <tr>\n      <th>3077</th>\n      <td>0</td>\n      <td>0</td>\n      <td>0</td>\n      <td>0</td>\n      <td>0</td>\n      <td>0</td>\n      <td>0</td>\n      <td>0</td>\n      <td>0</td>\n      <td>0</td>\n      <td>...</td>\n      <td>0</td>\n      <td>0</td>\n      <td>0</td>\n      <td>0</td>\n      <td>0</td>\n      <td>0</td>\n      <td>0</td>\n      <td>0</td>\n      <td>0</td>\n      <td>0</td>\n    </tr>\n    <tr>\n      <th>3078</th>\n      <td>0</td>\n      <td>0</td>\n      <td>0</td>\n      <td>0</td>\n      <td>0</td>\n      <td>0</td>\n      <td>1</td>\n      <td>0</td>\n      <td>0</td>\n      <td>0</td>\n      <td>...</td>\n      <td>0</td>\n      <td>0</td>\n      <td>0</td>\n      <td>0</td>\n      <td>0</td>\n      <td>1</td>\n      <td>0</td>\n      <td>0</td>\n      <td>0</td>\n      <td>0</td>\n    </tr>\n    <tr>\n      <th>3079</th>\n      <td>0</td>\n      <td>0</td>\n      <td>0</td>\n      <td>0</td>\n      <td>0</td>\n      <td>0</td>\n      <td>1</td>\n      <td>0</td>\n      <td>0</td>\n      <td>0</td>\n      <td>...</td>\n      <td>0</td>\n      <td>0</td>\n      <td>0</td>\n      <td>0</td>\n      <td>0</td>\n      <td>0</td>\n      <td>0</td>\n      <td>0</td>\n      <td>0</td>\n      <td>0</td>\n    </tr>\n    <tr>\n      <th>3080</th>\n      <td>0</td>\n      <td>0</td>\n      <td>0</td>\n      <td>0</td>\n      <td>0</td>\n      <td>0</td>\n      <td>0</td>\n      <td>0</td>\n      <td>0</td>\n      <td>0</td>\n      <td>...</td>\n      <td>0</td>\n      <td>0</td>\n      <td>0</td>\n      <td>0</td>\n      <td>0</td>\n      <td>0</td>\n      <td>0</td>\n      <td>0</td>\n      <td>0</td>\n      <td>0</td>\n    </tr>\n  </tbody>\n</table>\n<p>3080 rows × 60 columns</p>\n</div>"
     },
     "execution_count": 25,
     "metadata": {},
     "output_type": "execute_result"
    }
   ],
   "source": [
    "Connectivity"
   ],
   "metadata": {
    "pycharm": {
     "name": "#%%\n"
    },
    "id": "CrWw9aRaVfyw",
    "outputId": "5fea9043-7767-4981-8e5e-610112ed342c"
   }
  },
  {
   "cell_type": "code",
   "execution_count": null,
   "outputs": [
    {
     "data": {
      "text/plain": "Index(['2G', '3G', '4G', '4G Bluetooth GPS LTE', '4G LTE', '4G+', '5G',\n       '5G (A32 5G Models ONLY)', '5G (Galaxy A51 5G Only)',\n       '5G (Pixel 4A 5G Only)', '5G (Pixel 4a 5G ONLY)', '5G Bluetooth GPS',\n       '5G+', '5g capable', 'ANT+', 'Android Beam', 'Beidou', 'Bluetooth',\n       'Cellular', 'DLNA', 'Dual-Band', 'EDGE', 'FM', 'Fast Charge', 'GPRS',\n       'GPS', 'GSM', 'GSM Unlocked', 'Galileo', 'Global Version', 'Glonass',\n       'HDMI Micro', 'Headphone Jack', 'Infrared', 'LTE', 'Lightning',\n       'Micro USB', 'Micro USB 2.0', 'NFC', 'OTA', 'OTG', 'Quad-Band',\n       'Tri-Band', 'Type-C', 'Type-C port', 'USB', 'USB 2.0', 'USB 3.1',\n       'USB Type-C', 'USB Type-C 3.1', 'WAP', 'WCDMA', 'WI-FI', 'WIFI',\n       'WIFI: 2.4G/5G', 'Wi-Fi', 'WiFi', 'Wifi', 'Wireless charging',\n       'microUSB 2.0'],\n      dtype='object')"
     },
     "execution_count": 26,
     "metadata": {},
     "output_type": "execute_result"
    }
   ],
   "source": [
    "Connectivity.columns"
   ],
   "metadata": {
    "pycharm": {
     "name": "#%%\n"
    },
    "id": "yb5S1DVGVfyy",
    "outputId": "340bdc0f-b0f9-4651-a720-c3af5e34e57f"
   }
  },
  {
   "cell_type": "markdown",
   "source": [
    "Опять же, сейчас в сетях есть дубоикаты, мы их устраняем"
   ],
   "metadata": {
    "id": "ltRTbjOgYrdm"
   }
  },
  {
   "cell_type": "code",
   "execution_count": null,
   "outputs": [],
   "source": [
    "Connectivity['4G'] = Connectivity['4G'] + Connectivity['4G Bluetooth GPS LTE'] + Connectivity['4G LTE'] + Connectivity['4G+'] + Connectivity['LTE']\n",
    "Connectivity['5G'] = Connectivity['5G'] + Connectivity['5G (A32 5G Models ONLY)'] + Connectivity['5G (Galaxy A51 5G Only)'] + Connectivity['5G (Pixel 4A 5G Only)'] + Connectivity['5G (Pixel 4a 5G ONLY)'] + Connectivity['5G Bluetooth GPS'] + Connectivity['5G+'] + Connectivity['5g capable']\n",
    "Connectivity['Bluetooth'] = Connectivity['Bluetooth'] + Connectivity['5G Bluetooth GPS']\n",
    "Connectivity['GSM'] = Connectivity['GSM'] + Connectivity['GSM Unlocked']\n",
    "Connectivity['GPS'] = Connectivity['GPS'] + Connectivity['GPRS']\n",
    "Connectivity['WI-FI'] = Connectivity['WI-FI'] + Connectivity['WIFI'] + Connectivity['WIFI: 2.4G/5G'] + Connectivity['Wi-Fi'] + Connectivity['WiFi'] + Connectivity['Wifi']\n",
    "Connectivity['Micro USB'] = Connectivity['Micro USB'] + Connectivity['Micro USB 2.0'] + Connectivity['microUSB 2.0']\n",
    "Connectivity['USB'] = Connectivity['USB'] + Connectivity['USB 2.0']\n",
    "Connectivity['Type-C'] = Connectivity['Type-C'] + Connectivity['Type-C port'] + Connectivity['USB Type-C']\n",
    "Connectivity['Fast_usb'] = Connectivity['USB Type-C 3.1'] + Connectivity['USB 3.1']"
   ],
   "metadata": {
    "pycharm": {
     "name": "#%%\n"
    },
    "id": "livcElPqVfyz"
   }
  },
  {
   "cell_type": "code",
   "execution_count": null,
   "outputs": [],
   "source": [
    "Reasonable = Connectivity[['2G', '3G', '4G', '5G', 'Bluetooth', 'GSM', 'WI-FI', 'Micro USB', 'USB', 'Type-C', 'Fast_usb', 'NFC', 'Dual-Band', 'ANT+', 'Android Beam', 'Beidou', 'Cellular', 'FM', 'DLNA', 'EDGE', 'Fast Charge', 'GPS', 'Galileo', 'Global Version', 'HDMI Micro', 'Glonass', 'Headphone Jack', 'OTA', 'OTG', 'Infrared', 'Lightning', 'Quad-Band', 'Tri-Band', 'Wireless charging', 'WAP', 'WCDMA']]"
   ],
   "metadata": {
    "pycharm": {
     "name": "#%%\n"
    },
    "id": "2DTgqLukVfy0"
   }
  },
  {
   "cell_type": "code",
   "execution_count": null,
   "outputs": [
    {
     "name": "stderr",
     "output_type": "stream",
     "text": [
      "C:\\Users\\druny\\AppData\\Local\\Temp\\ipykernel_18072\\76639661.py:1: SettingWithCopyWarning: \n",
      "A value is trying to be set on a copy of a slice from a DataFrame\n",
      "\n",
      "See the caveats in the documentation: https://pandas.pydata.org/pandas-docs/stable/user_guide/indexing.html#returning-a-view-versus-a-copy\n",
      "  Reasonable.loc[Reasonable.values > 1] = 1\n"
     ]
    }
   ],
   "source": [
    "Reasonable.loc[Reasonable.values > 1] = 1"
   ],
   "metadata": {
    "pycharm": {
     "name": "#%%\n"
    },
    "id": "UxghFT0HVfy1",
    "outputId": "8f8e7238-2986-4e48-fefa-be5acb424b43"
   }
  },
  {
   "cell_type": "code",
   "execution_count": null,
   "outputs": [
    {
     "data": {
      "text/plain": "0"
     },
     "execution_count": 31,
     "metadata": {},
     "output_type": "execute_result"
    }
   ],
   "source": [
    "(Reasonable.values > 1).sum()"
   ],
   "metadata": {
    "pycharm": {
     "name": "#%%\n"
    },
    "id": "DpwioYtoVfy2",
    "outputId": "508c9e18-a1e9-4898-8824-a474bbbea48c"
   }
  },
  {
   "cell_type": "code",
   "execution_count": null,
   "outputs": [
    {
     "data": {
      "text/plain": "2G                   1162\n3G                   1279\n4G                   1865\n5G                   1302\nBluetooth            2083\nGSM                   908\nWI-FI                1805\nMicro USB             988\nUSB                   943\nType-C               1222\nFast_usb              909\nNFC                  1478\nDual-Band             939\nANT+                  913\nAndroid Beam          909\nBeidou                910\nCellular              916\nFM                    908\nDLNA                  911\nEDGE                  907\nFast Charge           907\nGPS                  1536\nGalileo               907\nGlobal Version        908\nHDMI Micro            908\nGlonass               910\nHeadphone Jack        908\nOTA                   908\nOTG                   908\nInfrared              912\nLightning            1155\nQuad-Band             914\nTri-Band              908\nWireless charging     907\nWAP                   912\nWCDMA                 907\ndtype: int64"
     },
     "execution_count": 32,
     "metadata": {},
     "output_type": "execute_result"
    }
   ],
   "source": [
    "Reasonable.sum()"
   ],
   "metadata": {
    "pycharm": {
     "name": "#%%\n"
    },
    "id": "boRx8eAbVfy3",
    "outputId": "3f9d1cf7-5057-4135-9dbb-b0f2db443f00"
   }
  },
  {
   "cell_type": "markdown",
   "source": [
    "### Объём памяти"
   ],
   "metadata": {
    "collapsed": false,
    "id": "iJYBJOsCVfy5"
   }
  },
  {
   "cell_type": "code",
   "execution_count": null,
   "outputs": [
    {
     "data": {
      "text/plain": "128 GB           645\n64 GB            588\n32 GB            273\n256 GB           176\n16 GB            162\n                ... \n128GB 256GB        1\n64 / 128 GB        1\n256 GB, 512GB      1\n64GB, 128GB        1\n64 GB 256GB        1\nName: Storage Capacity, Length: 122, dtype: int64"
     },
     "execution_count": 33,
     "metadata": {},
     "output_type": "execute_result"
    }
   ],
   "source": [
    "df['Storage Capacity'].value_counts()\n",
    "#убираем везде гиги за шаги а дальше развлекаемся"
   ],
   "metadata": {
    "pycharm": {
     "name": "#%%\n"
    },
    "id": "8qRFqrNjVfy6",
    "outputId": "9f09560e-1395-4bc4-9dba-08b4ab3ca71c"
   }
  },
  {
   "cell_type": "code",
   "execution_count": null,
   "outputs": [],
   "source": [
    "df['Storage Capacity'] = df['Storage Capacity'].str.extract(r'(\\d+)')\n",
    "df['Storage Capacity'] = pd.to_numeric(df['Storage Capacity'])"
   ],
   "metadata": {
    "pycharm": {
     "name": "#%%\n"
    },
    "id": "L_MCUYu0VfzB"
   }
  },
  {
   "cell_type": "code",
   "execution_count": null,
   "outputs": [
    {
     "data": {
      "text/plain": "128.0    817\n64.0     764\n32.0     350\n256.0    274\n16.0     205\n512.0     60\n8.0       53\n4.0       27\n1.0        9\n2.0        3\n23.0       1\n440.0      1\n12.0       1\nName: Storage Capacity, dtype: int64"
     },
     "execution_count": 35,
     "metadata": {},
     "output_type": "execute_result"
    }
   ],
   "source": [
    "df['Storage Capacity'].value_counts()"
   ],
   "metadata": {
    "pycharm": {
     "name": "#%%\n"
    },
    "id": "gY4b3COtVfzH",
    "outputId": "5ed85bb7-b410-4c3c-9817-3135eb5713c2"
   }
  },
  {
   "cell_type": "markdown",
   "source": [
    "###  Связь\n",
    "\n",
    "Здесь есть операторские и не операторские телефоны. Мы разделим их на эти группы и не будем работать с конкретными операторами"
   ],
   "metadata": {
    "collapsed": false,
    "id": "YYDKDglwVfzJ"
   }
  },
  {
   "cell_type": "code",
   "execution_count": null,
   "outputs": [
    {
     "data": {
      "text/plain": "Unlocked                                                                                                                                                    1163\nVerizon                                                                                                                                                      257\nFactory Unlocked                                                                                                                                             118\nT-Mobile                                                                                                                                                     115\nAT&T                                                                                                                                                          93\n                                                                                                                                                            ... \nAT&T, T-Mobile, Most GSM Netwowks                                                                                                                              1\nFactory Unlocked, AT&T, Claro, Cricket Wireless, Metro, Straight Talk, Telcel, T-Mobile, TracFone, Unlocked                                                    1\nUnlocked, GSM, CDMA, WCDMA, FDD, TDD                                                                                                                           1\nAT&T, Consumer Cellular, Cricket Wireless, h2o, Metro, Rogers Wireless, SIMPLE Mobile, Sprint, Straight Talk, T-Mobile, U.S. Cellular, Unlocked, Verizon       1\nAT&T, Cricket Wireless, Metro, T-Mobile, Verizon, GSM Unlocked                                                                                                 1\nName: Network, Length: 264, dtype: int64"
     },
     "execution_count": 36,
     "metadata": {},
     "output_type": "execute_result"
    }
   ],
   "source": [
    "df['Network'].value_counts()"
   ],
   "metadata": {
    "pycharm": {
     "name": "#%%\n"
    },
    "id": "g24nnrknVfzK",
    "outputId": "cc22f725-882d-4a87-d703-ed510fc82763"
   }
  },
  {
   "cell_type": "code",
   "execution_count": null,
   "outputs": [],
   "source": [
    "df.loc[(df['Network'].str.lower().str.contains(\"unlocked\")!=True), 'Network'] = 'Operator'\n",
    "df.loc[(df['Network'].str.lower().str.contains(\"unlocked\")), 'Network'] = 'Unlocked'"
   ],
   "metadata": {
    "pycharm": {
     "name": "#%%\n"
    },
    "id": "vk-zq5ekVfzK"
   }
  },
  {
   "cell_type": "code",
   "execution_count": null,
   "outputs": [
    {
     "data": {
      "text/plain": "Unlocked    1894\nOperator    1186\nName: Network, dtype: int64"
     },
     "execution_count": 38,
     "metadata": {},
     "output_type": "execute_result"
    }
   ],
   "source": [
    "df['Network'].value_counts()"
   ],
   "metadata": {
    "pycharm": {
     "name": "#%%\n"
    },
    "id": "sYCzvhQhVfzL",
    "outputId": "616c7dff-2bdc-4e2e-e733-9af0ff88fe43"
   }
  },
  {
   "cell_type": "markdown",
   "source": [
    "### Камеры\n",
    "\n",
    "В камере есть наблюдения с тройными четверными и т.д. камерами, но мы просто вырезаем мегапиксели оттуда"
   ],
   "metadata": {
    "collapsed": false,
    "id": "z4FfpxQZVfzS"
   }
  },
  {
   "cell_type": "code",
   "execution_count": null,
   "outputs": [
    {
     "data": {
      "text/plain": "12.0 MP                       951\n12.0MP                        202\n16.0 MP                       156\n8.0 MP                        109\n13.0 MP                       107\n                             ... \nTriple 48 MP + 8 MP + 5 MP      1\n8.0 MP, 16.0MP, 48.0 MP         1\n108 MP                          1\n50 MP                           1\n32 megapixels                   1\nName: Camera Resolution, Length: 157, dtype: int64"
     },
     "execution_count": 39,
     "metadata": {},
     "output_type": "execute_result"
    }
   ],
   "source": [
    "df['Camera Resolution'].value_counts()"
   ],
   "metadata": {
    "pycharm": {
     "name": "#%%\n"
    },
    "id": "27Ik3ziKVfzT",
    "outputId": "50a10445-089d-4ef4-bfe8-1badb5351087"
   }
  },
  {
   "cell_type": "code",
   "execution_count": null,
   "outputs": [],
   "source": [
    "df['Camera Resolution'] = df['Camera Resolution'].str.extract(r'(\\d+)')\n",
    "df['Camera Resolution'] = pd.to_numeric(df['Camera Resolution'])"
   ],
   "metadata": {
    "pycharm": {
     "name": "#%%\n"
    },
    "id": "TCAej41jVfzT"
   }
  },
  {
   "cell_type": "code",
   "execution_count": null,
   "outputs": [
    {
     "data": {
      "text/plain": "12.0      1429\n16.0       292\n8.0        146\n48.0       134\n13.0       130\n5.0         93\n64.0        92\n108.0       60\n50.0        42\n2.0         19\n32.0        15\n24.0        13\n25.0        11\n750.0        9\n3200.0       9\n20.0         9\n40.0         8\n100.0        7\n21.0         7\n3.0          6\n11.0         6\n1.0          4\n10.0         3\n1334.0       3\n0.0          3\n7.0          2\n72.0         2\n14.0         1\n6.0          1\n1080.0       1\n200.0        1\n19.0         1\n41.0         1\nName: Camera Resolution, dtype: int64"
     },
     "execution_count": 41,
     "metadata": {},
     "output_type": "execute_result"
    }
   ],
   "source": [
    "df['Camera Resolution'].value_counts()"
   ],
   "metadata": {
    "pycharm": {
     "name": "#%%\n"
    },
    "id": "wry0e6KJVfzU",
    "outputId": "11b819b7-f007-4230-cda3-226f680eff98"
   }
  },
  {
   "cell_type": "code",
   "execution_count": null,
   "outputs": [],
   "source": [
    "df.loc[df['Camera Resolution'] > 100, 'Camera Resolution'] = 32"
   ],
   "metadata": {
    "pycharm": {
     "name": "#%%\n"
    },
    "id": "77YuVllNVfzU"
   }
  },
  {
   "cell_type": "markdown",
   "source": [
    "Убираем камеры, у которых мегапикселей больше 100, так как это большая редкость и высока вероятность мусора"
   ],
   "metadata": {
    "id": "0z98G9pNajCE"
   }
  },
  {
   "cell_type": "code",
   "execution_count": null,
   "outputs": [
    {
     "data": {
      "text/plain": "12.0     1429\n16.0      292\n8.0       146\n48.0      134\n13.0      130\n32.0       98\n5.0        93\n64.0       92\n50.0       42\n2.0        19\n24.0       13\n25.0       11\n20.0        9\n40.0        8\n100.0       7\n21.0        7\n11.0        6\n3.0         6\n1.0         4\n10.0        3\n0.0         3\n7.0         2\n72.0        2\n14.0        1\n6.0         1\n19.0        1\n41.0        1\nName: Camera Resolution, dtype: int64"
     },
     "execution_count": 43,
     "metadata": {},
     "output_type": "execute_result"
    }
   ],
   "source": [
    "df['Camera Resolution'].value_counts()"
   ],
   "metadata": {
    "pycharm": {
     "name": "#%%\n"
    },
    "id": "WpkW10f6VfzW",
    "outputId": "5c2d7f90-a413-4e20-8402-4e3b4b4cf5b8"
   }
  },
  {
   "cell_type": "markdown",
   "source": [
    "### Разрешение экрана"
   ],
   "metadata": {
    "collapsed": false,
    "id": "u3ZThBqGVfzX"
   }
  },
  {
   "cell_type": "code",
   "execution_count": null,
   "outputs": [
    {
     "data": {
      "text/plain": "6.1 in                               294\n5.8 in                               257\n6.5 in                               182\n4.7 in                               157\n6.4 in                               128\n                                    ... \n6.517 in                               1\nPixel 3 5.5 in, Pixel 3 XL 6.3 In      1\n6.82 in                                1\n6.52\"                                  1\n6.78''                                 1\nName: Screen Size, Length: 149, dtype: int64"
     },
     "execution_count": 44,
     "metadata": {},
     "output_type": "execute_result"
    }
   ],
   "source": [
    "#все одно и то же, достаем оттуда все-все-все\n",
    "df['Screen Size'].value_counts()"
   ],
   "metadata": {
    "pycharm": {
     "name": "#%%\n"
    },
    "id": "H6Ezm2k9VfzY",
    "outputId": "9de4ef6a-b25b-416a-87af-bf28d4dcbbdd"
   }
  },
  {
   "cell_type": "code",
   "execution_count": null,
   "outputs": [],
   "source": [
    "df['Screen Size'] = df['Screen Size'].str.extract(r'(\\d+\\.\\d+)')\n",
    "df['Screen Size'] = pd.to_numeric(df['Screen Size'])"
   ],
   "metadata": {
    "pycharm": {
     "name": "#%%\n"
    },
    "id": "3xAE6W8zVfzY"
   }
  },
  {
   "cell_type": "code",
   "execution_count": null,
   "outputs": [
    {
     "data": {
      "text/plain": "6.10    339\n5.80    309\n4.70    216\n6.50    193\n5.50    153\n       ... \n4.95      1\n3.70      1\n3.22      1\n7.00      1\n6.78      1\nName: Screen Size, Length: 70, dtype: int64"
     },
     "execution_count": 46,
     "metadata": {},
     "output_type": "execute_result"
    }
   ],
   "source": [
    "df['Screen Size'].value_counts()"
   ],
   "metadata": {
    "pycharm": {
     "name": "#%%\n"
    },
    "id": "b1h2dqIPVfzZ",
    "outputId": "f0addc96-137f-4261-c7dc-1ef74fe340da"
   }
  },
  {
   "cell_type": "markdown",
   "source": [
    "### Оперативная память"
   ],
   "metadata": {
    "collapsed": false,
    "id": "OzfXgICQVfzZ"
   }
  },
  {
   "cell_type": "code",
   "execution_count": null,
   "outputs": [
    {
     "data": {
      "text/plain": "4 GB                                      612\n6 GB                                      321\n2 GB                                      310\n8 GB                                      279\n3 GB                                      268\n12 GB                                     118\n4GB                                        80\n3GB                                        50\n2GB                                        49\n1 GB                                       43\n12GB                                       41\n8GB                                        41\n16 GB                                      15\n6GB                                        14\n1.5GB                                      12\n4GB/6GB                                    10\n1.5 GB                                      8\n4GB/8GB                                     7\n512 MB                                      6\n8GB, 12GB, 16GB                             5\n512MB                                       5\n1GB                                         4\n4GB/6GB/8GB                                 3\n3GB/4GB                                     2\n6GB/8GB                                     2\n256MB                                       2\n6GB, LPDDR4x dual-channel                   2\n1.5                                         2\n4 GB 6GB                                    1\n256 MB                                      1\n8/12/16GB                                   1\n32MB                                        1\n32GB                                        1\n512mb                                       1\n&lt;1GB                                     1\n64 MB                                       1\n2GB RAM                                     1\n768M                                        1\n6 GB | 8GB                                  1\n4-6GB (Varies by model & storage)           1\n768MB                                       1\n1                                           1\n8 GB, 12 GB                                 1\n4 / 6GB                                     1\n768 MB                                      1\n8 GB / 6 GB                                 1\n128GB Models: 8GB | 256GB Models: 12GB      1\n0.7 GB                                      1\nGalaxy A51: 4GB | Galaxy A51 5G: 6GB        1\n32GB Models: 3 GB | 128GB Models: 4 GB      1\n3GB LPDDR3                                  1\n8GB/ 12GB /16GB                             1\nName: RAM, dtype: int64"
     },
     "execution_count": 47,
     "metadata": {},
     "output_type": "execute_result"
    }
   ],
   "source": [
    "#все то же самое с оперативкой\n",
    "df['RAM'].value_counts()"
   ],
   "metadata": {
    "pycharm": {
     "name": "#%%\n"
    },
    "id": "nz69yoPVVfza",
    "outputId": "f1195f01-d161-442f-81b0-c6d61912d65a"
   }
  },
  {
   "cell_type": "code",
   "execution_count": null,
   "outputs": [],
   "source": [
    "df['RAM'] = df['RAM'].str.extract(r'(\\d+)')\n",
    "df['RAM'] = pd.to_numeric(df['RAM'])"
   ],
   "metadata": {
    "pycharm": {
     "name": "#%%\n"
    },
    "id": "qyHrSA9lVfza"
   }
  },
  {
   "cell_type": "code",
   "execution_count": null,
   "outputs": [
    {
     "data": {
      "text/plain": "4.0      715\n2.0      360\n6.0      340\n8.0      329\n3.0      321\n12.0     159\n1.0       71\n16.0      15\n512.0     12\n32.0       3\n256.0      3\n768.0      3\n51.0       1\n0.0        1\n128.0      1\n64.0       1\nName: RAM, dtype: int64"
     },
     "execution_count": 49,
     "metadata": {},
     "output_type": "execute_result"
    }
   ],
   "source": [
    "#все то же самое с оперативкой\n",
    "df['RAM'].value_counts()"
   ],
   "metadata": {
    "pycharm": {
     "name": "#%%\n"
    },
    "id": "530TB4oYVfza",
    "outputId": "72fb217c-03ad-4b59-dfee-a575555c21c6"
   }
  },
  {
   "cell_type": "code",
   "execution_count": null,
   "outputs": [],
   "source": [
    "df.loc[df['RAM'] > 16, 'RAM'] = 8"
   ],
   "metadata": {
    "pycharm": {
     "name": "#%%\n"
    },
    "id": "nbCEVOV4Vfzb"
   }
  },
  {
   "cell_type": "markdown",
   "source": [
    "Убираем оперативную память, у которых ГБ больше 16, так как это большая редкость и высока вероятность мусора"
   ],
   "metadata": {
    "id": "LGyHWINca4ar"
   }
  },
  {
   "cell_type": "code",
   "execution_count": null,
   "outputs": [
    {
     "data": {
      "text/plain": "4.0     715\n2.0     360\n8.0     353\n6.0     340\n3.0     321\n12.0    159\n1.0      71\n16.0     15\n0.0       1\nName: RAM, dtype: int64"
     },
     "execution_count": 51,
     "metadata": {},
     "output_type": "execute_result"
    }
   ],
   "source": [
    "df['RAM'].value_counts()"
   ],
   "metadata": {
    "pycharm": {
     "name": "#%%\n"
    },
    "id": "viT-z-ytVfzb",
    "outputId": "7af18a88-d1ed-4e22-d007-b056495665ff"
   }
  },
  {
   "cell_type": "markdown",
   "source": [
    "### Contract"
   ],
   "metadata": {
    "collapsed": false,
    "id": "it6o2BX7Vfzc"
   }
  },
  {
   "cell_type": "code",
   "execution_count": null,
   "outputs": [
    {
     "data": {
      "text/plain": "Without Contract                          2172\nPrepaid                                     50\nunlocked                                    27\nWith Contract                               26\nGoogle Fi Network                            3\nUnlocked                                     2\nSprint Bad ESN NOT for carrier unlock        2\nWithout Contract AT&T With Unlock Code       2\nlocked                                       2\nUnlocked Smartphone                          1\nLocked                                       1\nna                                           1\nName: Contract, dtype: int64"
     },
     "execution_count": 52,
     "metadata": {},
     "output_type": "execute_result"
    }
   ],
   "source": [
    "df.Contract.value_counts()"
   ],
   "metadata": {
    "pycharm": {
     "name": "#%%\n"
    },
    "id": "lez3wOT7Vfzc",
    "outputId": "ad82916b-da03-4a8b-8e0d-d908990224ea"
   }
  },
  {
   "cell_type": "markdown",
   "source": [
    "### Операционная система\n",
    "\n",
    "Убираем дубликаты"
   ],
   "metadata": {
    "collapsed": false,
    "id": "4JgbaBL6Vfzd"
   }
  },
  {
   "cell_type": "code",
   "execution_count": null,
   "outputs": [
    {
     "data": {
      "text/plain": "Android                                             1627\niOS                                                  781\niOS - Apple                                           80\nIOS                                                   37\nAndroid 11                                            31\nAndroid 10                                            19\nAndroid 12                                            16\nBlackBerry OS                                         11\nAndroid OS                                             9\nBlackBerry 3-7                                         9\nANDROID                                                6\nKaiOS                                                  6\nOxygenOS                                               5\nAndroid OS 12 system                                   5\nAndroid 10.0                                           5\nAndroid 11.0                                           4\nAndroid 9                                              4\nWindows Mobile                                         4\nAndroid 10 Go                                          3\nBlackBerry 10                                          2\nAndroid 9.0                                            2\nMicrosoft mobile OS which is no longer supported       2\nAndroid 8.1 (Oreo)                                     2\nWindows Phone 8                                        2\nAndroid 12 ( Snow Cone)                                1\nMicrosoft Windows Phone                                1\nAndroid (Marshmallow)                                  1\nfor  4.4.2                                             1\nAliyun OS                                              1\nS30+                                                   1\nUbuntu                                                 1\nAndroid 6.0                                            1\nFire OS                                                1\nBlackBerry OS 5                                        1\nAndroid 10, MIUI 12                                    1\nAndroid 12.0                                           1\nHybrid                                                 1\nAndroid 7.0                                            1\nfor Android  4.4.2                                     1\nProprietary                                            1\nMeego                                                  1\nName: Operating System, dtype: int64"
     },
     "execution_count": 53,
     "metadata": {},
     "output_type": "execute_result"
    }
   ],
   "source": [
    "df['Operating System'].value_counts()"
   ],
   "metadata": {
    "pycharm": {
     "name": "#%%\n"
    },
    "id": "JeTbH9jXVfzd",
    "outputId": "a1ef62b3-041c-4c94-cd2c-e5be738eb068"
   }
  },
  {
   "cell_type": "code",
   "execution_count": null,
   "outputs": [
    {
     "name": "stderr",
     "output_type": "stream",
     "text": [
      "C:\\Users\\druny\\AppData\\Local\\Temp\\ipykernel_18072\\1654794335.py:1: FutureWarning: The default value of regex will change from True to False in a future version.\n",
      "  df['Operating System'] = df['Operating System'].str.replace(r'Android\\b.*', 'Android')\n"
     ]
    }
   ],
   "source": [
    "df['Operating System'] = df['Operating System'].str.replace(r'Android\\b.*', 'Android')"
   ],
   "metadata": {
    "pycharm": {
     "name": "#%%\n"
    },
    "id": "JZlkcjA4Vfze",
    "outputId": "2922b41e-54e3-449c-a72a-2daf67f4490e"
   }
  },
  {
   "cell_type": "code",
   "execution_count": null,
   "outputs": [],
   "source": [
    "df.loc[(df['Operating System'] == 'iOS') | (df['Operating System'] == 'IOS') | (df['Operating System'] == 'iOS - Apple'), 'Operating System'] = 'IOS'"
   ],
   "metadata": {
    "pycharm": {
     "name": "#%%\n"
    },
    "id": "8U-EoD3JVfze"
   }
  },
  {
   "cell_type": "code",
   "execution_count": null,
   "outputs": [],
   "source": [
    "df.loc[(df['Operating System'] != 'IOS') & (df['Operating System'] != 'Android'), 'Operating System'] = 'Other'"
   ],
   "metadata": {
    "pycharm": {
     "name": "#%%\n"
    },
    "id": "QYH671ILVfzh"
   }
  },
  {
   "cell_type": "code",
   "execution_count": null,
   "outputs": [
    {
     "data": {
      "text/plain": "Android    1733\nIOS         898\nOther       449\nName: Operating System, dtype: int64"
     },
     "execution_count": 57,
     "metadata": {},
     "output_type": "execute_result"
    }
   ],
   "source": [
    "df['Operating System'].value_counts()"
   ],
   "metadata": {
    "pycharm": {
     "name": "#%%\n"
    },
    "id": "HIGi-ocjVfzi",
    "outputId": "ba1dc67f-986f-4116-863f-e2d79977d51d"
   }
  },
  {
   "cell_type": "markdown",
   "source": [
    "### Форм-Фактор"
   ],
   "metadata": {
    "collapsed": false,
    "id": "G9b9--z4Vfzi"
   }
  },
  {
   "cell_type": "code",
   "execution_count": null,
   "outputs": [
    {
     "data": {
      "text/plain": "Bar                                       1692\nSmartphone                                 279\nFlip                                        17\nSlate                                       15\nFoldable                                    13\nRugged                                       6\nTouch Screen                                 6\nSmart Phone                                  6\nOutdoor Smartphone Unlocked                  4\nOutdoor Handy Rugged Smartphone              3\nSwivel                                       3\nSlider                                       3\nDoes not apply                               2\nOutdoor Unlocked Rugged Smartphone           2\nBar / Smart Phone                            2\nUnlocked 5G Rugged Smartphones               1\nCell Phone                                   1\nDOSE NOT APPLY                               1\nMaterial: transparent shell                  1\nWaterproof Smartphone                        1\n5G Rugged Smartphones                        1\nOutdoor Android 12 Unlocked Smartphone       1\nSmartPhone                                   1\nAndroid                                      1\nOutdoor Smartphone                           1\nNight Vision Rugged Smartphone               1\nOutdoor Waterproof Smartphone                1\nPhone Only                                   1\nName: Style, dtype: int64"
     },
     "execution_count": 58,
     "metadata": {},
     "output_type": "execute_result"
    }
   ],
   "source": [
    "df['Style'].value_counts() #юслесс"
   ],
   "metadata": {
    "pycharm": {
     "name": "#%%\n"
    },
    "id": "kJHLZbCHVfzj",
    "outputId": "ca6fa901-8733-4b71-e46b-267e9578a3ab"
   }
  },
  {
   "cell_type": "markdown",
   "source": [
    "### Фичи"
   ],
   "metadata": {
    "collapsed": false,
    "id": "lGcHOY7QVfzk"
   }
  },
  {
   "cell_type": "code",
   "execution_count": null,
   "outputs": [
    {
     "data": {
      "text/plain": "Internet Browser, Near Field Communication, Touchscreen, 3G Data Capable, 4G Data Capable, Bluetooth Enabled, Global Ready, GPS, Music Player, Speakerphone, TTY Compatible, Voice-Activated Dialing, Wi-Fi Capable                                                                                            58\n4K Video Recording, AMOLED Display                                                                                                                                                                                                                                                                             35\nSuper Retina Xdr Display, Fast Wireless Charging, Dust-Resistant, OLED Display, Telephoto Lens, Water-Resistant, 4K Video Recording, Facial Recognition, Wide-Angle Camera, Ultra Wide-Angle Camera, HDR Display, eSIM, Fast Charging, Triple Rear Camera                                                      34\nLiquid Retina HD Display, Water-Resistant, Facial Recognition, 4K Video Recording, Wide-Angle Camera, Fast Wireless Charging, Dust-Resistant, Ultra Wide-Angle Camera, Dual Rear Cameras, eSIM, Fast Charging                                                                                                  31\nRugged                                                                                                                                                                                                                                                                                                         30\n                                                                                                                                                                                                                                                                                                               ..\n3G Data Capable, 4G Data Capable, 4K Video Recording, Accelerometer, Barometer, Bluetooth Enabled, Camera, Fingerprint Sensor, Global Ready, NFC Connectivity                                                                                                                                                   1\nRGB Light Sensor, Accelerometer, AMOLED Display, Barometer, Fast Wireless Charging, Fingerprint Sensor, Geomagnetic sensor, Gyro Sensor, Hall Effect Sensor, Proximity Sensor, Wide-Angle Camera                                                                                                                1\n3D Depth Camera, 3D Depth Sensor, 3D Face Recognition, 4K Video Recording, Accelerometer, Active Edge, Ambient Light Sensor, AMOLED Display, ANT+, Barometer, Bluetooth Enabled, Facial Recognition, Fast Wireless Charging, Fingerprint Sensor, GPS, Gyro Sensor, Nano SIM, Water-Resistant, Wi-Fi Capable     1\n3D Depth Camera, 3D Depth Sensor, 3D Face Recognition, 4K Video Recording, 8K Video Recording, Accelerometer, Ambient Light Sensor, AMOLED Display, Barometer                                                                                                                                                   1\nAccelerometer, Active Edge, Ambient Light Sensor, AMOLED Display, Bluetooth Enabled                                                                                                                                                                                                                             1\nName: Features, Length: 851, dtype: int64"
     },
     "execution_count": 59,
     "metadata": {},
     "output_type": "execute_result"
    }
   ],
   "source": [
    "df['Features'].value_counts() #юзлесс"
   ],
   "metadata": {
    "pycharm": {
     "name": "#%%\n"
    },
    "id": "5INN4Sc3Vfzk",
    "outputId": "a3ae2360-d3f3-4836-8017-a8602f061a71"
   }
  },
  {
   "cell_type": "code",
   "execution_count": null,
   "outputs": [],
   "source": [
    "def clear(feat:str):\n",
    "    if type(feat)==str:\n",
    "        feat = re.split(r',\\s*', feat)\n",
    "        for i in range(len(feat)):\n",
    "            feat[i] = feat[i].strip(\" \\'\\'\\\"\\\"\")\n",
    "        feat = ', '.join(feat)\n",
    "    return feat"
   ],
   "metadata": {
    "pycharm": {
     "name": "#%%\n"
    },
    "id": "lAHMTMWGVfzk"
   }
  },
  {
   "cell_type": "code",
   "execution_count": null,
   "outputs": [],
   "source": [
    "Features = df['Features'].str.strip(\" []\").apply(clear)"
   ],
   "metadata": {
    "pycharm": {
     "name": "#%%\n"
    },
    "id": "dVryGkI1Vfzl"
   }
  },
  {
   "cell_type": "code",
   "execution_count": null,
   "outputs": [
    {
     "data": {
      "text/plain": "Internet Browser, Near Field Communication, Touchscreen, 3G Data Capable, 4G Data Capable, Bluetooth Enabled, Global Ready, GPS, Music Player, Speakerphone, TTY Compatible, Voice-Activated Dialing, Wi-Fi Capable                                                                                            58\n4K Video Recording, AMOLED Display                                                                                                                                                                                                                                                                             35\nSuper Retina Xdr Display, Fast Wireless Charging, Dust-Resistant, OLED Display, Telephoto Lens, Water-Resistant, 4K Video Recording, Facial Recognition, Wide-Angle Camera, Ultra Wide-Angle Camera, HDR Display, eSIM, Fast Charging, Triple Rear Camera                                                      34\nLiquid Retina HD Display, Water-Resistant, Facial Recognition, 4K Video Recording, Wide-Angle Camera, Fast Wireless Charging, Dust-Resistant, Ultra Wide-Angle Camera, Dual Rear Cameras, eSIM, Fast Charging                                                                                                  31\nRugged                                                                                                                                                                                                                                                                                                         30\n                                                                                                                                                                                                                                                                                                               ..\n3G Data Capable, 4G Data Capable, 4K Video Recording, Accelerometer, Barometer, Bluetooth Enabled, Camera, Fingerprint Sensor, Global Ready, NFC Connectivity                                                                                                                                                   1\nRGB Light Sensor, Accelerometer, AMOLED Display, Barometer, Fast Wireless Charging, Fingerprint Sensor, Geomagnetic sensor, Gyro Sensor, Hall Effect Sensor, Proximity Sensor, Wide-Angle Camera                                                                                                                1\n3D Depth Camera, 3D Depth Sensor, 3D Face Recognition, 4K Video Recording, Accelerometer, Active Edge, Ambient Light Sensor, AMOLED Display, ANT+, Barometer, Bluetooth Enabled, Facial Recognition, Fast Wireless Charging, Fingerprint Sensor, GPS, Gyro Sensor, Nano SIM, Water-Resistant, Wi-Fi Capable     1\n3D Depth Camera, 3D Depth Sensor, 3D Face Recognition, 4K Video Recording, 8K Video Recording, Accelerometer, Ambient Light Sensor, AMOLED Display, Barometer                                                                                                                                                   1\nAccelerometer, Active Edge, Ambient Light Sensor, AMOLED Display, Bluetooth Enabled                                                                                                                                                                                                                             1\nName: Features, Length: 851, dtype: int64"
     },
     "execution_count": 73,
     "metadata": {},
     "output_type": "execute_result"
    }
   ],
   "source": [
    "Features.value_counts()"
   ],
   "metadata": {
    "pycharm": {
     "name": "#%%\n"
    },
    "id": "Zzec94_nVfzl",
    "outputId": "015c23fe-e81d-489c-9fcc-2dd684bb1ec3"
   }
  },
  {
   "cell_type": "code",
   "execution_count": null,
   "outputs": [],
   "source": [
    "Features = Features.str.get_dummies(', ')"
   ],
   "metadata": {
    "pycharm": {
     "name": "#%%\n"
    },
    "id": "EXqy2q3qVfzl"
   }
  },
  {
   "cell_type": "code",
   "execution_count": null,
   "outputs": [
    {
     "data": {
      "text/plain": "Bluetooth Enabled              957\nAccelerometer                  935\nGPS                            783\nCamera                         729\n4K Video Recording             725\n                              ... \nTruedepth Camera                17\nReverse Wireless Charging       15\nMMS (Multimedia messaging)      14\nDouble Lens Camera              13\nIP68 / IP69K / MIL-STD-810H     12\nLength: 100, dtype: int64"
     },
     "execution_count": 75,
     "metadata": {},
     "output_type": "execute_result"
    }
   ],
   "source": [
    "Features.sum().nlargest(100)  #выглядит юслесс и дубликатом"
   ],
   "metadata": {
    "pycharm": {
     "name": "#%%\n"
    },
    "id": "PRvTF4KeVfzm",
    "outputId": "34c4cf80-08d6-4430-f03f-e25e5567a058"
   }
  },
  {
   "cell_type": "code",
   "execution_count": null,
   "outputs": [
    {
     "data": {
      "text/plain": "Index(['10000mAh Super Battery',\n       '10800mAh Large battery / Support 66W fast charging',\n       '12.3MP Rear Camera + 8MP Front', '12000mAh Large battery',\n       '120Hz Reality Display Screen Size',\n       '128GB ROM / T-Flash Card up to 1TB', '16MP Front Camera',\n       '16Mp Front Camera', '2.15 GHz Snapdragon 821 Quad-Core CPU',\n       '2412*1080（FHD+） Screen-to-body Ratio',\n       ...\n       'iMessage', 'non-removable', 'octa-core', 'optical)', 'panorama',\n       'proxim', 'proximity', 'shockproof', 'voice control',\n       'world's smallest'],\n      dtype='object', length=362)"
     },
     "execution_count": 69,
     "metadata": {},
     "output_type": "execute_result"
    }
   ],
   "source": [
    "Features.columns"
   ],
   "metadata": {
    "pycharm": {
     "name": "#%%\n"
    },
    "id": "HJ4QY12wVfzm",
    "outputId": "59932830-99e8-49e7-a2f4-2a04c05ba8a3"
   }
  },
  {
   "cell_type": "markdown",
   "source": [
    "### SIM-слот"
   ],
   "metadata": {
    "collapsed": false,
    "id": "FUhz-yBEVfzn"
   }
  },
  {
   "cell_type": "code",
   "execution_count": null,
   "outputs": [
    {
     "data": {
      "text/plain": "Single SIM                            1707\nDual SIM                                83\nDual SIM (SIM + SIM)                    71\nDual SIM (SIM + eSIM)                   63\nDual SIM (SIM + SIM + Memory Card)      61\nDual SIM (SIM + SIM/Memory Card)        50\nNano-SIM                                 6\neSIM                                     2\nDual Nano SIM                            1\nName: SIM Card Slot, dtype: int64"
     },
     "execution_count": 76,
     "metadata": {},
     "output_type": "execute_result"
    }
   ],
   "source": [
    "df['SIM Card Slot'].value_counts() #норм"
   ],
   "metadata": {
    "pycharm": {
     "name": "#%%\n"
    },
    "id": "-LDc7bLnVfzn",
    "outputId": "5812148e-6585-4b80-806f-8384e80ae9ac"
   }
  },
  {
   "cell_type": "markdown",
   "source": [
    "### Карта памяти"
   ],
   "metadata": {
    "collapsed": false,
    "id": "q59efEY3Vfzo"
   }
  },
  {
   "cell_type": "code",
   "execution_count": null,
   "outputs": [
    {
     "data": {
      "text/plain": [
       "MicroSD                                        930\n",
       "microSDXC                                      187\n",
       "Not Applicable                                 131\n",
       "Built-In Memory                                 88\n",
       "None                                            65\n",
       "CompactFlash                                    49\n",
       "MicroSDHC                                       18\n",
       "MicroSDXC                                       13\n",
       "Internal                                        10\n",
       "MicroSD, MicroSDHC                               9\n",
       "TransFlash Card                                  8\n",
       "Not Applicabe                                    8\n",
       "microSDXC (uses shared SIM slot)                 6\n",
       "MiniSD                                           5\n",
       "microSDXC (dedicated slot)                       5\n",
       "MicroSD, MicroSDHC, MicroSDXC                    5\n",
       "In-Build                                         5\n",
       "microSDXC (dedicated slot), 2 GB included        4\n",
       "microSD, up to 400 GB                            4\n",
       "TF CARD                                          4\n",
       "microSDXC, microsSDHC, microsSD                  4\n",
       "NM Card                                          4\n",
       "SD Memory Card                                   4\n",
       "TF CARD （Up to 256GB）                            4\n",
       "Not Available                                    4\n",
       "Built in Memory                                  3\n",
       "microSD                                          3\n",
       "No                                               3\n",
       "Does Not Apply                                   3\n",
       "Micro SD                                         2\n",
       "No Applicable                                    2\n",
       "eMMC                                             2\n",
       "Does not apply                                   2\n",
       "n/A                                              1\n",
       "MicroSD | Micro SDHC | Micro SDXC | TF Card      1\n",
       "Support Extra Memory Card 32GB At Max            1\n",
       "Support 64GB TF Card At Max                      1\n",
       "inbuild                                          1\n",
       "x                                                1\n",
       "Non Expandable Memory                            1\n",
       "Internal memory                                  1\n",
       "NOT APPLICABLE                                   1\n",
       "In-Built                                         1\n",
       "Micro Sd                                         1\n",
       "Built in                                         1\n",
       "No Memory Card                                   1\n",
       "no sd card                                       1\n",
       "Built-In Storage                                 1\n",
       "non expndable memory                             1\n",
       "No Slot                                          1\n",
       "MicroSD, microSDXC                               1\n",
       "Name: Memory Card Type, dtype: int64"
      ]
     },
     "execution_count": 335,
     "metadata": {},
     "output_type": "execute_result"
    }
   ],
   "source": [
    "#выглядит юзлесс\n",
    "df['Memory Card Type'].value_counts()"
   ],
   "metadata": {
    "pycharm": {
     "name": "#%%\n"
    },
    "id": "7FUJv38VVfzo",
    "outputId": "48892471-42e9-4bf2-e8a3-f64eab729f98"
   }
  },
  {
   "cell_type": "markdown",
   "source": [
    "### Процессор"
   ],
   "metadata": {
    "collapsed": false,
    "id": "I5BeojMVVfzp"
   }
  },
  {
   "cell_type": "code",
   "execution_count": null,
   "outputs": [
    {
     "data": {
      "text/plain": "Octa Core                                1227\nHexa Core                                 534\nQuad Core                                 269\nDual Core                                 116\nOcta-core                                  25\n                                         ... \n1.5Ghz                                      1\nA15 Bionic chip                             1\nQualcomm Snapdragon™ 855 Octa-core          1\nMediatek MT6765 Helio P35 (Octa-Core)       1\nGoogle Tensor G2 (5 nm)                     1\nName: Processor, Length: 70, dtype: int64"
     },
     "execution_count": 77,
     "metadata": {},
     "output_type": "execute_result"
    }
   ],
   "source": [
    "df['Processor'].value_counts()"
   ],
   "metadata": {
    "pycharm": {
     "name": "#%%\n"
    },
    "id": "dZRNSa-FVfzp",
    "outputId": "8e4c27c8-21f0-4b01-9795-53a6bdf6e58c"
   }
  },
  {
   "cell_type": "code",
   "execution_count": null,
   "outputs": [
    {
     "data": {
      "text/plain": "Octa Core    1271\nOthers        857\nHexa Core     537\nQuad Core     294\nDual Core     121\nName: Processor, dtype: int64"
     },
     "execution_count": 83,
     "metadata": {},
     "output_type": "execute_result"
    }
   ],
   "source": [
    "def unify_processor(processor):\n",
    "    if type(processor)==str:\n",
    "        processor = processor.lower()\n",
    "        if 'octa' in processor or '8 core' in processor or '8-core' in processor:\n",
    "            return 'Octa Core'\n",
    "        elif 'hexa' in processor or '6 core' in processor or '6-core' in processor:\n",
    "            return 'Hexa Core'\n",
    "        elif 'quad' in processor or '4 core' in processor or '4-core' in processor:\n",
    "            return 'Quad Core'\n",
    "        elif 'dual' in processor or '2 core' in processor or '2-core' in processor:\n",
    "            return 'Dual Core'\n",
    "        else:\n",
    "            return 'Others'\n",
    "    else:\n",
    "        return 'Others'\n",
    "\n",
    "# Применение функции унификации к столбцу \"Processor\"\n",
    "df['Processor'] = df['Processor'].apply(unify_processor)\n",
    "\n",
    "df['Processor'].value_counts()"
   ],
   "metadata": {
    "pycharm": {
     "name": "#%%\n"
    },
    "id": "wSlmoCDiVfzq",
    "outputId": "cca55a4c-b893-46c7-c958-261d2a429571"
   }
  },
  {
   "cell_type": "markdown",
   "source": [
    "### Объединяем всё вместе"
   ],
   "metadata": {
    "collapsed": false,
    "id": "Pe4FYhM-Vfzq"
   }
  },
  {
   "cell_type": "code",
   "execution_count": null,
   "outputs": [],
   "source": [
    "data = pd.concat([df, Reasonable], axis = 1)"
   ],
   "metadata": {
    "pycharm": {
     "name": "#%%\n"
    },
    "id": "EX2o3wCPVfzq"
   }
  },
  {
   "cell_type": "code",
   "execution_count": null,
   "outputs": [
    {
     "data": {
      "text/plain": "Index(['Title', 'Price', 'Shipping_cost', 'Sales_Count', 'Sales_Value', 'Link',\n       'Condition', 'Seller Notes', 'Brand', 'Model', 'Storage Capacity',\n       'Network', 'Camera Resolution', 'Screen Size', 'Lock Status', 'RAM',\n       'Contract', 'Operating System', 'Model Number', 'Style', 'MPN',\n       'Connectivity', 'Features', 'SIM Card Slot', 'Memory Card Type',\n       'Processor', 'Color', '2G', '3G', '4G', '5G', 'Bluetooth', 'GSM',\n       'WI-FI', 'Micro USB', 'USB', 'Type-C', 'Fast_usb', 'NFC', 'Dual-Band',\n       'ANT+', 'Android Beam', 'Beidou', 'Cellular', 'FM', 'DLNA', 'EDGE',\n       'Fast Charge', 'GPS', 'Galileo', 'Global Version', 'HDMI Micro',\n       'Glonass', 'Headphone Jack', 'OTA', 'OTG', 'Infrared', 'Lightning',\n       'Quad-Band', 'Tri-Band', 'Wireless charging', 'WAP', 'WCDMA'],\n      dtype='object')"
     },
     "execution_count": 85,
     "metadata": {},
     "output_type": "execute_result"
    }
   ],
   "source": [
    "data.columns"
   ],
   "metadata": {
    "pycharm": {
     "name": "#%%\n"
    },
    "id": "eMdyZ-OQVfzr",
    "outputId": "48522510-a920-48d3-993d-e153f6009e4f"
   }
  },
  {
   "cell_type": "code",
   "execution_count": null,
   "outputs": [
    {
     "data": {
      "text/plain": "Title                0\nPrice                0\nShipping_cost        0\nSales_Count          0\nSales_Value          0\n                    ..\nQuad-Band            0\nTri-Band             0\nWireless charging    0\nWAP                  0\nWCDMA                0\nLength: 63, dtype: int64"
     },
     "execution_count": 86,
     "metadata": {},
     "output_type": "execute_result"
    }
   ],
   "source": [
    "data.isna().sum()"
   ],
   "metadata": {
    "pycharm": {
     "name": "#%%\n"
    },
    "id": "GtRJWju_Vfzr",
    "outputId": "428a82c9-9302-4f64-a241-419c48094641"
   }
  },
  {
   "cell_type": "markdown",
   "source": [
    "Чистим наны"
   ],
   "metadata": {
    "id": "2sINV-RDcc-N"
   }
  },
  {
   "cell_type": "code",
   "execution_count": null,
   "outputs": [],
   "source": [
    "numeric_cols = data.select_dtypes(include=np.number).columns\n",
    "data[numeric_cols] = data[numeric_cols].fillna(data[numeric_cols].mean())\n",
    "\n",
    "categorical_cols = data.select_dtypes(include='object').columns\n",
    "data[categorical_cols] = data[categorical_cols].fillna(data[categorical_cols].mode().iloc[0])"
   ],
   "metadata": {
    "pycharm": {
     "name": "#%%\n"
    },
    "id": "sVGmVNKUVfzs"
   }
  },
  {
   "cell_type": "code",
   "execution_count": null,
   "outputs": [
    {
     "data": {
      "text/plain": "Title                0\nPrice                0\nShipping_cost        0\nSales_Count          0\nSales_Value          0\n                    ..\nQuad-Band            0\nTri-Band             0\nWireless charging    0\nWAP                  0\nWCDMA                0\nLength: 63, dtype: int64"
     },
     "execution_count": 88,
     "metadata": {},
     "output_type": "execute_result"
    }
   ],
   "source": [
    "data.isna().sum()"
   ],
   "metadata": {
    "pycharm": {
     "name": "#%%\n"
    },
    "id": "fh_7MD97Vfzs",
    "outputId": "857ba84e-bab3-4c63-b451-752854b6a30d"
   }
  },
  {
   "cell_type": "code",
   "execution_count": null,
   "outputs": [],
   "source": [
    "data.to_csv('preprocessed.tsv', index = False, sep = '\\t')"
   ],
   "metadata": {
    "pycharm": {
     "name": "#%%\n"
    },
    "id": "mVRhsKTgVfzs"
   }
  },
  {
   "cell_type": "markdown",
   "source": [
    "Ура, идеальные данные готовы к визуализации!"
   ],
   "metadata": {
    "id": "31zxbkfxcmYR"
   }
  }
 ],
 "metadata": {
  "kernelspec": {
   "display_name": "Python 3",
   "language": "python",
   "name": "python3"
  },
  "language_info": {
   "codemirror_mode": {
    "name": "ipython",
    "version": 2
   },
   "file_extension": ".py",
   "mimetype": "text/x-python",
   "name": "python",
   "nbconvert_exporter": "python",
   "pygments_lexer": "ipython2",
   "version": "2.7.6"
  },
  "colab": {
   "provenance": []
  }
 },
 "nbformat": 4,
 "nbformat_minor": 0
}