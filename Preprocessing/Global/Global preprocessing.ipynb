{
 "cells": [
  {
   "cell_type": "markdown",
   "source": [
    "# Данный файл содержит алгоритм предобработки Global DataFrame - датафрейма, необходимого для построения модели"
   ],
   "metadata": {
    "collapsed": false
   }
  },
  {
   "cell_type": "markdown",
   "source": [
    "## Первичная очистка и объединение"
   ],
   "metadata": {
    "collapsed": false
   }
  },
  {
   "cell_type": "code",
   "execution_count": null,
   "outputs": [],
   "source": [
    "import pandas as pd"
   ],
   "metadata": {
    "collapsed": false,
    "pycharm": {
     "name": "#%%\n"
    }
   }
  },
  {
   "cell_type": "code",
   "execution_count": null,
   "outputs": [],
   "source": [
    "df_items = pd.read_csv('https://raw.githubusercontent.com/AleksKids/hedonistic-demand-from-ebay/main/Data%20Tables/Global/Sales.tsv', delimiter = \"\\t\")\n",
    "df_items.head()"
   ],
   "metadata": {
    "collapsed": false,
    "pycharm": {
     "name": "#%%\n"
    }
   }
  },
  {
   "cell_type": "code",
   "execution_count": null,
   "outputs": [],
   "source": [
    "df_items.dropna(subset=['Link'], inplace=True)\n",
    "df_items.reset_index(inplace=True)\n",
    "df_items.drop('index', axis=1, inplace = True)\n",
    "df_items.isna().sum()"
   ],
   "metadata": {
    "collapsed": false,
    "pycharm": {
     "name": "#%%\n"
    }
   }
  },
  {
   "cell_type": "code",
   "execution_count": null,
   "outputs": [],
   "source": [
    "df_items.head()"
   ],
   "metadata": {
    "collapsed": false,
    "pycharm": {
     "name": "#%%\n"
    }
   }
  },
  {
   "cell_type": "code",
   "execution_count": null,
   "outputs": [],
   "source": [
    "import re\n",
    "\n",
    "def Sales_Value(value):\n",
    "  pattern = r'\\$|,'\n",
    "  clean_value = re.sub(pattern, '', value)\n",
    "  numeric_value = float(clean_value)\n",
    "  return numeric_value\n",
    "\n",
    "\n",
    "df_items.Price = df_items.Price.apply(lambda x: float(re.sub(r'[^\\d.]', '', x)))\n",
    "df_items.Shipping_cost = df_items.Shipping_cost.apply(lambda x: float(re.sub(r'[^\\d.]', '', x)))\n",
    "df_items.Sales_Count = df_items.Sales_Count.apply(lambda x: float(re.sub(\",\", \"\", x)))\n",
    "df_items.Sales_Value = df_items.Sales_Value.apply(lambda x: Sales_Value(x))"
   ],
   "metadata": {
    "collapsed": false,
    "pycharm": {
     "name": "#%%\n"
    }
   }
  },
  {
   "cell_type": "code",
   "execution_count": null,
   "outputs": [],
   "source": [
    "df_items.head()"
   ],
   "metadata": {
    "collapsed": false,
    "pycharm": {
     "name": "#%%\n"
    }
   }
  },
  {
   "cell_type": "code",
   "execution_count": null,
   "outputs": [],
   "source": [
    "brands_list = ['Apple', 'Samsung', 'Huawei', 'Xiaomi', 'Oppo', 'OnePlus', 'Google', 'Motorola', 'Sony', 'LG', 'HTC', 'Nokia', 'BlackBerry', 'Lenovo', 'Asus', 'ZTE', 'Alcatel', 'Vivo', 'Realme', 'Honor']\n",
    "brands_regex = re.compile('('+ '|'.join(brands_list) + ')', flags=re.IGNORECASE)\n",
    "\n",
    "df_items['brand'] = df_items['Title'].str.extract(brands_regex)\n",
    "df_items['brand'] = df_items['brand'].apply(lambda x: x.lower() if type(x) == str else x)\n",
    "df_items.head()"
   ],
   "metadata": {
    "collapsed": false,
    "pycharm": {
     "name": "#%%\n"
    }
   }
  },
  {
   "cell_type": "code",
   "execution_count": null,
   "outputs": [],
   "source": [
    "characteristics_df = pd.read_csv(\"https://raw.githubusercontent.com/AleksKids/hedonistic-demand-from-ebay/main/Data%20Tables/Global/Characteristics.tsv\", delimiter = \"\\t\")"
   ],
   "metadata": {
    "collapsed": false,
    "pycharm": {
     "name": "#%%\n"
    }
   }
  },
  {
   "cell_type": "code",
   "execution_count": null,
   "outputs": [],
   "source": [
    "cols = list(characteristics_df.count()[(characteristics_df.count()>(1000))].index)\n",
    "cols"
   ],
   "metadata": {
    "collapsed": false,
    "pycharm": {
     "name": "#%%\n"
    }
   }
  },
  {
   "cell_type": "code",
   "execution_count": null,
   "outputs": [],
   "source": [
    "characteristics_df = characteristics_df[cols]"
   ],
   "metadata": {
    "collapsed": false,
    "pycharm": {
     "name": "#%%\n"
    }
   }
  },
  {
   "cell_type": "code",
   "execution_count": null,
   "outputs": [],
   "source": [
    "characteristics_df.isna().sum().sort_values()"
   ],
   "metadata": {
    "collapsed": false,
    "pycharm": {
     "name": "#%%\n"
    }
   }
  },
  {
   "cell_type": "code",
   "execution_count": null,
   "outputs": [],
   "source": [
    "merged_df = df_items.merge(characteristics_df, on='Link', how='inner')"
   ],
   "metadata": {
    "collapsed": false,
    "pycharm": {
     "name": "#%%\n"
    }
   }
  },
  {
   "cell_type": "code",
   "execution_count": null,
   "outputs": [],
   "source": [
    "merged_df[\"Brand\"][merged_df[\"Brand\"].isna()] = merged_df[\"brand\"].apply(lambda x: x.title() if type(x)==str else x)"
   ],
   "metadata": {
    "collapsed": false,
    "pycharm": {
     "name": "#%%\n"
    }
   }
  },
  {
   "cell_type": "code",
   "execution_count": null,
   "outputs": [],
   "source": [
    "(~merged_df.isna()).sum()"
   ],
   "metadata": {
    "collapsed": false,
    "pycharm": {
     "name": "#%%\n"
    }
   }
  },
  {
   "cell_type": "code",
   "execution_count": null,
   "outputs": [],
   "source": [
    "merged_df.iloc[182]"
   ],
   "metadata": {
    "collapsed": false,
    "pycharm": {
     "name": "#%%\n"
    }
   }
  },
  {
   "cell_type": "code",
   "execution_count": null,
   "outputs": [],
   "source": [
    "merged_df.drop('brand', axis=1, inplace = True)"
   ],
   "metadata": {
    "collapsed": false,
    "pycharm": {
     "name": "#%%\n"
    }
   }
  },
  {
   "cell_type": "code",
   "execution_count": null,
   "outputs": [],
   "source": [
    "merged_df.to_csv(\"great_bd.tsv\", sep=\"\\t\")"
   ],
   "metadata": {
    "collapsed": false,
    "pycharm": {
     "name": "#%%\n"
    }
   }
  },
  {
   "cell_type": "code",
   "execution_count": null,
   "outputs": [],
   "source": [
    "merged_df.shape"
   ],
   "metadata": {
    "collapsed": false,
    "pycharm": {
     "name": "#%%\n"
    }
   }
  },
  {
   "cell_type": "markdown",
   "source": [
    "## Вторичная предобработка полученных с eBay данных"
   ],
   "metadata": {
    "collapsed": false
   }
  },
  {
   "cell_type": "code",
   "execution_count": 2,
   "outputs": [],
   "source": [
    "df = pd.read_csv('https://raw.githubusercontent.com/AleksKids/hedonistic-demand-from-ebay/main/Preprocessing/Global/great_bd.tsv', delimiter = '\\t')"
   ],
   "metadata": {
    "collapsed": false,
    "pycharm": {
     "name": "#%%\n"
    }
   }
  },
  {
   "cell_type": "code",
   "execution_count": 3,
   "outputs": [
    {
     "data": {
      "text/plain": "   Unnamed: 0                                              Title   Price  \\\n0           0  Apple iPhone 11 64GB Factory Unlocked 4G LTE S...  337.59   \n1           1  Apple iPhone XR 64GB Factory Unlocked Smartpho...  266.28   \n2           2  Apple iPhone 11 64GB Unlocked Smartphone - Ver...  359.11   \n3           3  Apple iPhone X 64GB Factory Unlocked Phone - V...  231.98   \n4           4  Apple iPhone X 256GB Unlocked Smartphone - Ver...  263.59   \n\n   Shipping_cost  Sales_Count  Sales_Value  \\\n0           0.00      19787.0   6679958.00   \n1           0.00      12440.0   3312560.60   \n2          16.93      12224.0   4389742.37   \n3          16.50      11781.0   2732899.88   \n4          15.34      10020.0   2641203.85   \n\n                                                Link                Condition  \\\n0  https://www.ebay.com/itm/254604777645?nordt=tr...  Very Good - Refurbished   \n1  https://www.ebay.com/itm/254187678666?nordt=tr...  Very Good - Refurbished   \n2  https://www.ebay.com/itm/363183815277?nordt=tr...  Very Good - Refurbished   \n3  https://www.ebay.com/itm/382605209867?nordt=tr...  Very Good - Refurbished   \n4  https://www.ebay.com/itm/382446518910?nordt=tr...  Very Good - Refurbished   \n\n                                        Seller Notes  Brand  ...  \\\n0  “This iPhone 11 is in Very Good condition and ...  Apple  ...   \n1  “This Apple iPhone XR 64GB Factory Unlocked Sm...  Apple  ...   \n2  “This is a B+ Stock item, meaning unit is in v...  Apple  ...   \n3  “This is a B+ Stock item, meaning unit is in v...  Apple  ...   \n4  “This is a B+ Stock item, meaning unit is in v...  Apple  ...   \n\n  Operating System        Model Number       Style  \\\n0              iOS               A2111  Smartphone   \n1              iOS               A1984  Smartphone   \n2              iOS  A2111 (CDMA + GSM)         NaN   \n3              iOS               A1901  Smartphone   \n4              iOS               A1901  Smartphone   \n\n                                                 MPN  \\\n0                                                NaN   \n1                                          MRYR2LL/A   \n2  MWLD2LL/A, MWL72LL/A, MWL82LL/A, MWL92LL/A, MW...   \n3                                          MQA62LL/A   \n4                               MQAN2LL/A, MQAM2LL/A   \n\n                             Connectivity  \\\n0                                     NaN   \n1                                     NaN   \n2                      4G, Bluetooth, GPS   \n3  2G, 3G, 4G, Bluetooth, GPS, LTE, Wi-Fi   \n4                      4G, Bluetooth, GPS   \n\n                                            Features SIM Card Slot  \\\n0                                                NaN           NaN   \n1                                                NaN           NaN   \n2  Face ID, Three-axis gyro, 4K Video Recording, ...    Single SIM   \n3  4K Video Recording, Bluetooth Enabled, Email, ...    Single SIM   \n4              4K Video Recording, Bluetooth Enabled    Single SIM   \n\n  Memory Card Type  Processor Color  \n0              NaN        NaN   NaN  \n1              NaN        NaN   NaN  \n2   Not Applicable  Hexa Core   NaN  \n3              NaN  Hexa Core   NaN  \n4              NaN  Hexa Core   NaN  \n\n[5 rows x 28 columns]",
      "text/html": "<div>\n<style scoped>\n    .dataframe tbody tr th:only-of-type {\n        vertical-align: middle;\n    }\n\n    .dataframe tbody tr th {\n        vertical-align: top;\n    }\n\n    .dataframe thead th {\n        text-align: right;\n    }\n</style>\n<table border=\"1\" class=\"dataframe\">\n  <thead>\n    <tr style=\"text-align: right;\">\n      <th></th>\n      <th>Unnamed: 0</th>\n      <th>Title</th>\n      <th>Price</th>\n      <th>Shipping_cost</th>\n      <th>Sales_Count</th>\n      <th>Sales_Value</th>\n      <th>Link</th>\n      <th>Condition</th>\n      <th>Seller Notes</th>\n      <th>Brand</th>\n      <th>...</th>\n      <th>Operating System</th>\n      <th>Model Number</th>\n      <th>Style</th>\n      <th>MPN</th>\n      <th>Connectivity</th>\n      <th>Features</th>\n      <th>SIM Card Slot</th>\n      <th>Memory Card Type</th>\n      <th>Processor</th>\n      <th>Color</th>\n    </tr>\n  </thead>\n  <tbody>\n    <tr>\n      <th>0</th>\n      <td>0</td>\n      <td>Apple iPhone 11 64GB Factory Unlocked 4G LTE S...</td>\n      <td>337.59</td>\n      <td>0.00</td>\n      <td>19787.0</td>\n      <td>6679958.00</td>\n      <td>https://www.ebay.com/itm/254604777645?nordt=tr...</td>\n      <td>Very Good - Refurbished</td>\n      <td>“This iPhone 11 is in Very Good condition and ...</td>\n      <td>Apple</td>\n      <td>...</td>\n      <td>iOS</td>\n      <td>A2111</td>\n      <td>Smartphone</td>\n      <td>NaN</td>\n      <td>NaN</td>\n      <td>NaN</td>\n      <td>NaN</td>\n      <td>NaN</td>\n      <td>NaN</td>\n      <td>NaN</td>\n    </tr>\n    <tr>\n      <th>1</th>\n      <td>1</td>\n      <td>Apple iPhone XR 64GB Factory Unlocked Smartpho...</td>\n      <td>266.28</td>\n      <td>0.00</td>\n      <td>12440.0</td>\n      <td>3312560.60</td>\n      <td>https://www.ebay.com/itm/254187678666?nordt=tr...</td>\n      <td>Very Good - Refurbished</td>\n      <td>“This Apple iPhone XR 64GB Factory Unlocked Sm...</td>\n      <td>Apple</td>\n      <td>...</td>\n      <td>iOS</td>\n      <td>A1984</td>\n      <td>Smartphone</td>\n      <td>MRYR2LL/A</td>\n      <td>NaN</td>\n      <td>NaN</td>\n      <td>NaN</td>\n      <td>NaN</td>\n      <td>NaN</td>\n      <td>NaN</td>\n    </tr>\n    <tr>\n      <th>2</th>\n      <td>2</td>\n      <td>Apple iPhone 11 64GB Unlocked Smartphone - Ver...</td>\n      <td>359.11</td>\n      <td>16.93</td>\n      <td>12224.0</td>\n      <td>4389742.37</td>\n      <td>https://www.ebay.com/itm/363183815277?nordt=tr...</td>\n      <td>Very Good - Refurbished</td>\n      <td>“This is a B+ Stock item, meaning unit is in v...</td>\n      <td>Apple</td>\n      <td>...</td>\n      <td>iOS</td>\n      <td>A2111 (CDMA + GSM)</td>\n      <td>NaN</td>\n      <td>MWLD2LL/A, MWL72LL/A, MWL82LL/A, MWL92LL/A, MW...</td>\n      <td>4G, Bluetooth, GPS</td>\n      <td>Face ID, Three-axis gyro, 4K Video Recording, ...</td>\n      <td>Single SIM</td>\n      <td>Not Applicable</td>\n      <td>Hexa Core</td>\n      <td>NaN</td>\n    </tr>\n    <tr>\n      <th>3</th>\n      <td>3</td>\n      <td>Apple iPhone X 64GB Factory Unlocked Phone - V...</td>\n      <td>231.98</td>\n      <td>16.50</td>\n      <td>11781.0</td>\n      <td>2732899.88</td>\n      <td>https://www.ebay.com/itm/382605209867?nordt=tr...</td>\n      <td>Very Good - Refurbished</td>\n      <td>“This is a B+ Stock item, meaning unit is in v...</td>\n      <td>Apple</td>\n      <td>...</td>\n      <td>iOS</td>\n      <td>A1901</td>\n      <td>Smartphone</td>\n      <td>MQA62LL/A</td>\n      <td>2G, 3G, 4G, Bluetooth, GPS, LTE, Wi-Fi</td>\n      <td>4K Video Recording, Bluetooth Enabled, Email, ...</td>\n      <td>Single SIM</td>\n      <td>NaN</td>\n      <td>Hexa Core</td>\n      <td>NaN</td>\n    </tr>\n    <tr>\n      <th>4</th>\n      <td>4</td>\n      <td>Apple iPhone X 256GB Unlocked Smartphone - Ver...</td>\n      <td>263.59</td>\n      <td>15.34</td>\n      <td>10020.0</td>\n      <td>2641203.85</td>\n      <td>https://www.ebay.com/itm/382446518910?nordt=tr...</td>\n      <td>Very Good - Refurbished</td>\n      <td>“This is a B+ Stock item, meaning unit is in v...</td>\n      <td>Apple</td>\n      <td>...</td>\n      <td>iOS</td>\n      <td>A1901</td>\n      <td>Smartphone</td>\n      <td>MQAN2LL/A, MQAM2LL/A</td>\n      <td>4G, Bluetooth, GPS</td>\n      <td>4K Video Recording, Bluetooth Enabled</td>\n      <td>Single SIM</td>\n      <td>NaN</td>\n      <td>Hexa Core</td>\n      <td>NaN</td>\n    </tr>\n  </tbody>\n</table>\n<p>5 rows × 28 columns</p>\n</div>"
     },
     "execution_count": 3,
     "metadata": {},
     "output_type": "execute_result"
    }
   ],
   "source": [
    "df.head()"
   ],
   "metadata": {
    "collapsed": false,
    "pycharm": {
     "name": "#%%\n"
    }
   }
  },
  {
   "cell_type": "code",
   "execution_count": 4,
   "outputs": [
    {
     "data": {
      "text/plain": "Index(['Unnamed: 0', 'Title', 'Price', 'Shipping_cost', 'Sales_Count',\n       'Sales_Value', 'Link', 'Condition', 'Seller Notes', 'Brand', 'Model',\n       'Storage Capacity', 'Network', 'Camera Resolution', 'Screen Size',\n       'Lock Status', 'RAM', 'Contract', 'Operating System', 'Model Number',\n       'Style', 'MPN', 'Connectivity', 'Features', 'SIM Card Slot',\n       'Memory Card Type', 'Processor', 'Color'],\n      dtype='object')"
     },
     "execution_count": 4,
     "metadata": {},
     "output_type": "execute_result"
    }
   ],
   "source": [
    "df.columns"
   ],
   "metadata": {
    "collapsed": false,
    "pycharm": {
     "name": "#%%\n"
    }
   }
  },
  {
   "cell_type": "code",
   "execution_count": 5,
   "outputs": [],
   "source": [
    "df.drop(columns = 'Unnamed: 0', inplace = True)"
   ],
   "metadata": {
    "collapsed": false,
    "pycharm": {
     "name": "#%%\n"
    }
   }
  },
  {
   "cell_type": "code",
   "execution_count": 6,
   "outputs": [
    {
     "data": {
      "text/plain": "<Axes: >"
     },
     "execution_count": 6,
     "metadata": {},
     "output_type": "execute_result"
    },
    {
     "data": {
      "text/plain": "<Figure size 640x480 with 1 Axes>",
      "image/png": "[encoded data removed]"
     },
     "metadata": {},
     "output_type": "display_data"
    }
   ],
   "source": [
    "import seaborn as sns\n",
    "sns.boxplot(df.Price)"
   ],
   "metadata": {
    "collapsed": false,
    "pycharm": {
     "name": "#%%\n"
    }
   }
  },
  {
   "cell_type": "code",
   "execution_count": 7,
   "outputs": [
    {
     "data": {
      "text/plain": "                                                  Title    Price  \\\n384   Apple iPhone 14 Pro Max 128GB Space Black - (U...  1045.48   \n672   Apple iPhone 14 Pro 128GB Space Black - (Unloc...   933.62   \n719   Apple iPhone 12 Pro Max 5G 128GB Graphite - (V...   918.07   \n762   Apple iPhone 12 Pro Max 5G 256GB Graphite - (V...   970.09   \n918   SAMSUNG Galaxy S23, S23+, S23Ultra 5G Unlocked...  1229.73   \n930   Apple iPhone 13 Pro Max 5G 128GB Sierra Blue -...   996.42   \n1034  Apple iPhone 13 Pro Max 5G 256GB Graphite MLKR...  1036.79   \n1113  Samsung Galaxy Z Fold 4 F936U1 512GB (Factory ...   958.24   \n1185  Apple iPhone 13 Pro Max 256GB Gold - (Verizon)...  1015.97   \n1255  Apple iPhone 13 Pro Max 5G 256GB Sierra Blue -...   984.53   \n1272  Apple iPhone 13 Pro 256GB Graphite - (Verizon)...   910.99   \n1284  Apple iPhone 13 Pro Max 256GB Graphite Verizon...   964.04   \n1383  New Samsung Galaxy S22 Ultra 5G SM-S908U 256GB...   877.57   \n1491  Apple iPhone 13 Pro 5G 256GB Sierra Blue - (Ve...   932.48   \n1525  Apple iPhone 13 Pro Max 5G 128GB Sierra Blue (...   875.97   \n1668  Apple iPhone 13 Pro Max 256GB Unlocked Smartph...   931.49   \n1734  Samsung Galaxy S21 Ultra 5G 512GB 16GB RAM Sma...  1388.92   \n1776  Apple iPhone 14 Pro 128GB/256GB A2650 Factory ...   972.46   \n1790  Apple iPhone 12 Pro Max Graphite 128GB - (AT&T...   889.98   \n1798  New Samsung Galaxy S22 Ultra 5G SM-S908U 512GB...   974.59   \n1856  SAMSUNG Galaxy Z Fold4 5G SM-F936N 256/512GB/1...  1493.39   \n1858  Apple iPhone 14 Pro Max 256GB Space Black - (U...  1048.22   \n1970  New Samsung Galaxy S21 Ultra 5G 256GB Smartpho...  1078.55   \n2101  Apple iPhone 14 Pro 256GB Space Black - (Unloc...  1029.54   \n2205  Apple iPhone 13 Pro Max 5G 128GB Sierra Blue -...   893.67   \n2314  Apple iPhone 13 Pro Max 5G 256GB Sierra Blue -...   895.08   \n2529  Sony Xperia PRO-I 5G Smartphone 120Hz 6.5\" 21:...   890.04   \n2773  Samsung Galaxy G998U S21 Ultra 5G 512GB Unlock...   985.78   \n2849  Apple iPhone 12 Pro Max 128GB Unlocked Smartph...   921.85   \n2963  Apple iPhone 13 Pro Max 256GB Graphite - (Fact...   899.00   \n3019  Apple iPhone 13 Pro Max 5G 256GB Sierra Blue -...   968.61   \n\n      Shipping_cost  Sales_Count  Sales_Value  \\\n384            0.00        355.0    371146.00   \n672            0.00        234.0    218467.14   \n719            0.00        234.0    214829.32   \n762            0.00        236.0    228940.53   \n918           11.58        159.0    195526.91   \n930            0.00        230.0    229175.70   \n1034           0.00        225.0    233277.96   \n1113          27.06        126.0    120738.74   \n1185           0.00        145.0    147315.00   \n1255           0.00        122.0    120113.00   \n1272           0.00        179.0    163067.44   \n1284           0.00        129.0    124361.00   \n1383          31.87         93.0     81614.07   \n1491           0.00        111.0    103504.84   \n1525           0.00         89.0     77961.00   \n1668          14.99         82.0     76381.90   \n1734           0.00         70.0     97224.60   \n1776          47.40         75.0     72934.25   \n1790           0.00         79.0     70308.26   \n1798          29.99         67.0     65297.33   \n1856          10.96         64.0     95576.97   \n1858           0.00         67.0     70230.55   \n1970           0.00         60.0     64712.99   \n2101           0.00         56.0     57654.10   \n2205           0.00         58.0     51832.99   \n2314           0.00         51.0     45649.00   \n2529           0.00         43.0     38271.80   \n2773           0.00         38.0     37459.62   \n2849          14.99         42.0     38717.65   \n2963           0.00         46.0     41354.00   \n3019           0.00         38.0     36807.00   \n\n                                                   Link  \\\n384   https://www.ebay.com/itm/134281877123?nordt=tr...   \n672   https://www.ebay.com/itm/364016785976?nordt=tr...   \n719   https://www.ebay.com/itm/363276125904?nordt=tr...   \n762   https://www.ebay.com/itm/363276131710?nordt=tr...   \n918   https://www.ebay.com/itm/354557412430?nordt=tr...   \n930   https://www.ebay.com/itm/363687011705?nordt=tr...   \n1034  https://www.ebay.com/itm/363667334620?nordt=tr...   \n1113  https://www.ebay.com/itm/325405959604?nordt=tr...   \n1185  https://www.ebay.com/itm/144475670475?nordt=tr...   \n1255  https://www.ebay.com/itm/363660360454?nordt=tr...   \n1272  https://www.ebay.com/itm/133995139792?nordt=tr...   \n1284  https://www.ebay.com/itm/133967467113?nordt=tr...   \n1383  https://www.ebay.com/itm/204173167214?nordt=tr...   \n1491  https://www.ebay.com/itm/144330181632?nordt=tr...   \n1525  https://www.ebay.com/itm/144299275641?nordt=tr...   \n1668  https://www.ebay.com/itm/364007273533?nordt=tr...   \n1734  https://www.ebay.com/itm/265014799715?nordt=tr...   \n1776  https://www.ebay.com/itm/285069051292?nordt=tr...   \n1790  https://www.ebay.com/itm/133693914838?nordt=tr...   \n1798  https://www.ebay.com/itm/195325130186?nordt=tr...   \n1856  https://www.ebay.com/itm/354292343188?nordt=tr...   \n1858  https://www.ebay.com/itm/364024740214?nordt=tr...   \n1970  https://www.ebay.com/itm/233860240455?nordt=tr...   \n2101  https://www.ebay.com/itm/144768604430?nordt=tr...   \n2205  https://www.ebay.com/itm/144430240280?nordt=tr...   \n2314  https://www.ebay.com/itm/363735459965?nordt=tr...   \n2529  https://www.ebay.com/itm/313895027510?nordt=tr...   \n2773  https://www.ebay.com/itm/254977533321?nordt=tr...   \n2849  https://www.ebay.com/itm/384501272640?nordt=tr...   \n2963  https://www.ebay.com/itm/364016783548?nordt=tr...   \n3019  https://www.ebay.com/itm/363691444540?nordt=tr...   \n\n                                              Condition  \\\n384                                            Open box   \n672                                            Open box   \n719                                            Open box   \n762                                            Open box   \n918   New: A brand-new, unused, unopened, undamaged ...   \n930                                            Open box   \n1034                                           Open box   \n1113                                           Open box   \n1185                                           Open box   \n1255                                           Open box   \n1272                                           Open box   \n1284                                           Open box   \n1383  New: A brand-new, unused, unopened, undamaged ...   \n1491                                           Open box   \n1525                                           Open box   \n1668                            Excellent - Refurbished   \n1734  New: A brand-new, unused, unopened, undamaged ...   \n1776                                           Open box   \n1790                                           Open box   \n1798  New: A brand-new, unused, unopened, undamaged ...   \n1856  New: A brand-new, unused, unopened, undamaged ...   \n1858                                           Open box   \n1970  New: A brand-new, unused, unopened, undamaged ...   \n2101                                           Open box   \n2205                                           Open box   \n2314                                           Open box   \n2529                            Certified - Refurbished   \n2773                            Excellent - Refurbished   \n2849                            Excellent - Refurbished   \n2963                                           Open box   \n3019                                           Open box   \n\n                                           Seller Notes                Brand  \\\n384   “The item in this listing is an Open Box (pack...                Apple   \n672   “The item in this listing is an Open Box (pack...                Apple   \n719   “The item in this listing is an Open Box (pack...                Apple   \n762   “The item in this listing is an Open Box (pack...                Apple   \n918                                                 NaN              Samsung   \n930   “The item in this listing is an Open Box (pack...                Apple   \n1034  “The item in this listing is an Open Box (pack...                Apple   \n1113  “The device will be in excellent condition. Sc...              Samsung   \n1185  “The item in this listing is an Open Box (pack...                Apple   \n1255  “The item in this listing is an Open Box (pack...                Apple   \n1272  “The item in this listing is an Open Box (pack...                Apple   \n1284  “The item in this listing is an Open Box (pack...                Apple   \n1383                                                NaN              Samsung   \n1491  “The item in this listing is an Open Box (pack...                Apple   \n1525  “The item in this listing is an Open Box (pack...                Apple   \n1668  “This is an A Stock item, meaning unit is in e...                Apple   \n1734                                                NaN              Samsung   \n1776  “These items look new and are fully functional...                Apple   \n1790  “The item in this listing is an Open Box (pack...                Apple   \n1798                                                NaN              Samsung   \n1856                                                NaN              Samsung   \n1858  “The item in this listing is an Open Box (pack...                Apple   \n1970                                                NaN              Samsung   \n2101  “The item in this listing is an Open Box (pack...                Apple   \n2205  “The item in this listing is an Open Box (pack...                Apple   \n2314  “The item in this listing is an Open Box (pack...                Apple   \n2529  “This item has been refurbished by the manufac...                 Sony   \n2773  “This Samsung Galaxy S21 Ultra 5G is in Excell...  Samsung Electronics   \n2849  “This is an A Stock item, meaning unit is in e...                Apple   \n2963  “The item in this listing is an Open Box (pack...                Apple   \n3019  “The item in this listing is an Open Box (pack...                Apple   \n\n                                         Model  ... Operating System  \\\n384                    Apple iPhone 14 Pro Max  ...              iOS   \n672                        Apple iPhone 14 Pro  ...              iOS   \n719                    Apple iPhone 12 Pro Max  ...              iOS   \n762                    Apple iPhone 12 Pro Max  ...              iOS   \n918   Samsung Galaxy S23 / S23+ / S23 Ultra 5G  ...          Android   \n930                    Apple iPhone 13 Pro Max  ...              iOS   \n1034                   Apple iPhone 13 Pro Max  ...              iOS   \n1113                    Samsung Galaxy Z Fold4  ...          Android   \n1185                   Apple iPhone 13 Pro Max  ...              iOS   \n1255                   Apple iPhone 13 Pro Max  ...              iOS   \n1272                       Apple iPhone 13 Pro  ...              iOS   \n1284                   Apple iPhone 13 Pro Max  ...              iOS   \n1383                  Samsung Galaxy S22 Ultra  ...          Android   \n1491                       Apple iPhone 13 Pro  ...              iOS   \n1525                       Apple iPhone 13 Pro  ...              iOS   \n1668                   Apple iPhone 13 Pro Max  ...              iOS   \n1734               Samsung Galaxy S21 Ultra 5G  ...          Android   \n1776                             iPhone 14 Pro  ...              iOS   \n1790                   Apple iPhone 12 Pro Max  ...              iOS   \n1798                  Samsung Galaxy S22 Ultra  ...          Android   \n1856           Samsung Galaxy Z Fold4 SM-F936N  ...          Android   \n1858                   Apple iPhone 14 Pro Max  ...              iOS   \n1970               Samsung Galaxy S21 Ultra 5G  ...          Android   \n2101                       Apple iPhone 14 Pro  ...              iOS   \n2205                   Apple iPhone 13 Pro Max  ...              iOS   \n2314                   Apple iPhone 13 Pro Max  ...              iOS   \n2529                         Sony Xperia PRO-I  ...          Android   \n2773               Samsung Galaxy S21 Ultra 5G  ...          Android   \n2849                   Apple iPhone 12 Pro Max  ...              iOS   \n2963                   Apple iPhone 13 Pro Max  ...              iOS   \n3019                   Apple iPhone 13 Pro Max  ...              iOS   \n\n            Model Number       Style  \\\n384                  NaN         Bar   \n672                  NaN         Bar   \n719                  NaN         Bar   \n762                  NaN         Bar   \n918                  NaN  Smartphone   \n930                  NaN         Bar   \n1034                 NaN         Bar   \n1113           SM-F936U1    Foldable   \n1185                 NaN         Bar   \n1255                 NaN         Bar   \n1272                 NaN         Bar   \n1284                 NaN         Bar   \n1383               S908U  Smartphone   \n1491                 NaN         Bar   \n1525                 NaN         Bar   \n1668  A2161 (CDMA + GSM)         NaN   \n1734                 NaN         NaN   \n1776                 NaN         Bar   \n1790                 NaN         Bar   \n1798               S908U  Smartphone   \n1856                 NaN    Foldable   \n1858         A2651 (GSM)         Bar   \n1970                 NaN         NaN   \n2101                 NaN         Bar   \n2205                 NaN         Bar   \n2314                 NaN         Bar   \n2529                 NaN         Bar   \n2773            SM-G998U  Smartphone   \n2849               A2342         NaN   \n2963  A2484 (CDMA + GSM)         Bar   \n3019                 NaN         Bar   \n\n                                                    MPN  \\\n384                                           MQ8N3LL/A   \n672                                           MPXT3LL/A   \n719                                           MG9A3LL/A   \n762                                                 NaN   \n918                        SM-S918N, SM-S916N, SM-S911N   \n930                                           MLKP3LL/A   \n1034                                          MLKR3LL/A   \n1113                     SM-F936UZKEXAA, SM-F936UZKFXAA   \n1185                                          MLKU3LL/A   \n1255                                          MLKV3LL/A   \n1272                                          MLTW3LL/A   \n1284                                          MLKR3LL/A   \n1383                                           SM-S908U   \n1491                                          MLU03LL/A   \n1525                                          MLTT3LL/A   \n1668  MLF63LL/A, MLF93LL/A, MLF73LL/A, MNCF3LL/A, ML...   \n1734                                           SM-G998N   \n1776                                              A2650   \n1790                                          MG8X3LL/A   \n1798                                           SM-S908U   \n1856                                                NaN   \n1858                                          MQ8T3LL/A   \n1970                                           SM-G998N   \n2101                                          MQ0N3LL/A   \n2205                                          MLKP3LL/A   \n2314                                          MLKV3LL/A   \n2529                                           XQBE62/B   \n2773                                                NaN   \n2849         MGCF3LL/A, MGCG3LL/A, MGCH3LL/A, MGCJ3LL/A   \n2963                                MLKR3LL/A, MLKR3LLA   \n3019                                          MLKV3LL/A   \n\n                              Connectivity  \\\n384   5G, Bluetooth, Wi-Fi, Lightning, NFC   \n672   5G, Bluetooth, Wi-Fi, Lightning, NFC   \n719   5G, Bluetooth, Wi-Fi, Lightning, NFC   \n762   5G, Bluetooth, Wi-Fi, Lightning, NFC   \n918                                     5G   \n930   5G, Bluetooth, Wi-Fi, Lightning, NFC   \n1034  5G, Bluetooth, Wi-Fi, Lightning, NFC   \n1113                                    5G   \n1185  5G, Bluetooth, Wi-Fi, Lightning, NFC   \n1255  5G, Bluetooth, Wi-Fi, Lightning, NFC   \n1272  5G, Bluetooth, Wi-Fi, Lightning, NFC   \n1284  5G, Bluetooth, Wi-Fi, Lightning, NFC   \n1383                4G, 5G, Bluetooth, GPS   \n1491  5G, Bluetooth, Wi-Fi, Lightning, NFC   \n1525  5G, Bluetooth, Wi-Fi, Lightning, NFC   \n1668                    4G, Bluetooth, GPS   \n1734                                   NaN   \n1776                                   NaN   \n1790  5G, Bluetooth, Wi-Fi, Lightning, NFC   \n1798                4G, 5G, Bluetooth, GPS   \n1856                                    5G   \n1858  5G, Bluetooth, Wi-Fi, Lightning, NFC   \n1970                                   NaN   \n2101  5G, Bluetooth, Wi-Fi, Lightning, NFC   \n2205  5G, Bluetooth, Wi-Fi, Lightning, NFC   \n2314  5G, Bluetooth, Wi-Fi, Lightning, NFC   \n2529      USB Type-C, 5G, Bluetooth, Wi-Fi   \n2773                                   NaN   \n2849                4G, 5G, Bluetooth, GPS   \n2963  5G, Bluetooth, Wi-Fi, Lightning, NFC   \n3019  5G, Bluetooth, Wi-Fi, Lightning, NFC   \n\n                                               Features  \\\n384   Proximity Sensor, E-compass, Gyro Sensor, Acce...   \n672   Proximity Sensor, E-compass, Gyro Sensor, Acce...   \n719   Proximity Sensor, E-compass, Gyro Sensor, Acce...   \n762   Proximity Sensor, E-compass, Gyro Sensor, Acce...   \n918                                                IP68   \n930   Proximity Sensor, E-compass, Gyro Sensor, Acce...   \n1034  Proximity Sensor, E-compass, Gyro Sensor, Acce...   \n1113                                        Dual Screen   \n1185  Proximity Sensor, E-compass, Gyro Sensor, Acce...   \n1255  Proximity Sensor, E-compass, Gyro Sensor, Acce...   \n1272  Proximity Sensor, E-compass, Gyro Sensor, Acce...   \n1284  Proximity Sensor, E-compass, Gyro Sensor, Acce...   \n1383  Internet Browser, Touchscreen, 4G Data Capable...   \n1491  Proximity Sensor, E-compass, Gyro Sensor, Acce...   \n1525  Proximity Sensor, E-compass, Gyro Sensor, Acce...   \n1668  Face ID, Three-axis gyro, 4K Video Recording, ...   \n1734                                                NaN   \n1776                                                NaN   \n1790  Proximity Sensor, E-compass, Gyro Sensor, Acce...   \n1798  Internet Browser, Touchscreen, 4G Data Capable...   \n1856                                                NaN   \n1858  Proximity Sensor, E-compass, Gyro Sensor, Acce...   \n1970                                                NaN   \n2101  Proximity Sensor, E-compass, Gyro Sensor, Acce...   \n2205  Proximity Sensor, E-compass, Gyro Sensor, Acce...   \n2314  Proximity Sensor, E-compass, Gyro Sensor, Acce...   \n2529  Water-Resistant, 4K Video Recording, Dust-Resi...   \n2773                                                NaN   \n2849  Face ID, Three-axis gyro, 4K Video Recording, ...   \n2963  Proximity Sensor, E-compass, Gyro Sensor, Acce...   \n3019  Proximity Sensor, E-compass, Gyro Sensor, Acce...   \n\n                         SIM Card Slot Memory Card Type         Processor  \\\n384                                NaN              NaN         Hexa Core   \n672                                NaN              NaN         Hexa Core   \n719                                NaN              NaN         Hexa Core   \n762                                NaN              NaN         Hexa Core   \n918                                NaN              NaN               NaN   \n930                                NaN              NaN         Hexa Core   \n1034                               NaN              NaN         Hexa Core   \n1113                        Single SIM              NaN         Octa Core   \n1185                               NaN              NaN         Hexa Core   \n1255                               NaN              NaN         Hexa Core   \n1272                               NaN              NaN         Hexa Core   \n1284                               NaN              NaN         Hexa Core   \n1383                        Single SIM             None         Octa Core   \n1491                               NaN              NaN         Hexa Core   \n1525                               NaN              NaN         Hexa Core   \n1668             Dual SIM (SIM + eSIM)   Not Applicable  Apple A15 Bionic   \n1734                               NaN              NaN               NaN   \n1776                               NaN              NaN               NaN   \n1790                               NaN              NaN         Hexa Core   \n1798                        Single SIM             None         Octa Core   \n1856                               NaN              NaN               NaN   \n1858                              eSIM              NaN         Hexa Core   \n1970                               NaN              NaN               NaN   \n2101                               NaN              NaN         Hexa Core   \n2205                               NaN              NaN         Hexa Core   \n2314                               NaN              NaN         Hexa Core   \n2529  Dual SIM (SIM + SIM/Memory Card)        microSDXC         Octa Core   \n2773                               NaN              NaN               NaN   \n2849             Dual SIM (SIM + eSIM)   Not Applicable         Hexa Core   \n2963             Dual SIM (SIM + eSIM)              NaN         Hexa Core   \n3019                               NaN              NaN         Hexa Core   \n\n      Color  \n384   Black  \n672   Black  \n719    Gray  \n762    Gray  \n918     NaN  \n930    Blue  \n1034   Gray  \n1113    NaN  \n1185   Gold  \n1255   Blue  \n1272   Gray  \n1284   Gray  \n1383    NaN  \n1491   Blue  \n1525   Blue  \n1668    NaN  \n1734    NaN  \n1776    NaN  \n1790   Gray  \n1798    NaN  \n1856    NaN  \n1858  Black  \n1970    NaN  \n2101  Black  \n2205   Blue  \n2314   Blue  \n2529  Black  \n2773    NaN  \n2849    NaN  \n2963   Gray  \n3019   Blue  \n\n[31 rows x 27 columns]",
      "text/html": "<div>\n<style scoped>\n    .dataframe tbody tr th:only-of-type {\n        vertical-align: middle;\n    }\n\n    .dataframe tbody tr th {\n        vertical-align: top;\n    }\n\n    .dataframe thead th {\n        text-align: right;\n    }\n</style>\n<table border=\"1\" class=\"dataframe\">\n  <thead>\n    <tr style=\"text-align: right;\">\n      <th></th>\n      <th>Title</th>\n      <th>Price</th>\n      <th>Shipping_cost</th>\n      <th>Sales_Count</th>\n      <th>Sales_Value</th>\n      <th>Link</th>\n      <th>Condition</th>\n      <th>Seller Notes</th>\n      <th>Brand</th>\n      <th>Model</th>\n      <th>...</th>\n      <th>Operating System</th>\n      <th>Model Number</th>\n      <th>Style</th>\n      <th>MPN</th>\n      <th>Connectivity</th>\n      <th>Features</th>\n      <th>SIM Card Slot</th>\n      <th>Memory Card Type</th>\n      <th>Processor</th>\n      <th>Color</th>\n    </tr>\n  </thead>\n  <tbody>\n    <tr>\n      <th>384</th>\n      <td>Apple iPhone 14 Pro Max 128GB Space Black - (U...</td>\n      <td>1045.48</td>\n      <td>0.00</td>\n      <td>355.0</td>\n      <td>371146.00</td>\n      <td>https://www.ebay.com/itm/134281877123?nordt=tr...</td>\n      <td>Open box</td>\n      <td>“The item in this listing is an Open Box (pack...</td>\n      <td>Apple</td>\n      <td>Apple iPhone 14 Pro Max</td>\n      <td>...</td>\n      <td>iOS</td>\n      <td>NaN</td>\n      <td>Bar</td>\n      <td>MQ8N3LL/A</td>\n      <td>5G, Bluetooth, Wi-Fi, Lightning, NFC</td>\n      <td>Proximity Sensor, E-compass, Gyro Sensor, Acce...</td>\n      <td>NaN</td>\n      <td>NaN</td>\n      <td>Hexa Core</td>\n      <td>Black</td>\n    </tr>\n    <tr>\n      <th>672</th>\n      <td>Apple iPhone 14 Pro 128GB Space Black - (Unloc...</td>\n      <td>933.62</td>\n      <td>0.00</td>\n      <td>234.0</td>\n      <td>218467.14</td>\n      <td>https://www.ebay.com/itm/364016785976?nordt=tr...</td>\n      <td>Open box</td>\n      <td>“The item in this listing is an Open Box (pack...</td>\n      <td>Apple</td>\n      <td>Apple iPhone 14 Pro</td>\n      <td>...</td>\n      <td>iOS</td>\n      <td>NaN</td>\n      <td>Bar</td>\n      <td>MPXT3LL/A</td>\n      <td>5G, Bluetooth, Wi-Fi, Lightning, NFC</td>\n      <td>Proximity Sensor, E-compass, Gyro Sensor, Acce...</td>\n      <td>NaN</td>\n      <td>NaN</td>\n      <td>Hexa Core</td>\n      <td>Black</td>\n    </tr>\n    <tr>\n      <th>719</th>\n      <td>Apple iPhone 12 Pro Max 5G 128GB Graphite - (V...</td>\n      <td>918.07</td>\n      <td>0.00</td>\n      <td>234.0</td>\n      <td>214829.32</td>\n      <td>https://www.ebay.com/itm/363276125904?nordt=tr...</td>\n      <td>Open box</td>\n      <td>“The item in this listing is an Open Box (pack...</td>\n      <td>Apple</td>\n      <td>Apple iPhone 12 Pro Max</td>\n      <td>...</td>\n      <td>iOS</td>\n      <td>NaN</td>\n      <td>Bar</td>\n      <td>MG9A3LL/A</td>\n      <td>5G, Bluetooth, Wi-Fi, Lightning, NFC</td>\n      <td>Proximity Sensor, E-compass, Gyro Sensor, Acce...</td>\n      <td>NaN</td>\n      <td>NaN</td>\n      <td>Hexa Core</td>\n      <td>Gray</td>\n    </tr>\n    <tr>\n      <th>762</th>\n      <td>Apple iPhone 12 Pro Max 5G 256GB Graphite - (V...</td>\n      <td>970.09</td>\n      <td>0.00</td>\n      <td>236.0</td>\n      <td>228940.53</td>\n      <td>https://www.ebay.com/itm/363276131710?nordt=tr...</td>\n      <td>Open box</td>\n      <td>“The item in this listing is an Open Box (pack...</td>\n      <td>Apple</td>\n      <td>Apple iPhone 12 Pro Max</td>\n      <td>...</td>\n      <td>iOS</td>\n      <td>NaN</td>\n      <td>Bar</td>\n      <td>NaN</td>\n      <td>5G, Bluetooth, Wi-Fi, Lightning, NFC</td>\n      <td>Proximity Sensor, E-compass, Gyro Sensor, Acce...</td>\n      <td>NaN</td>\n      <td>NaN</td>\n      <td>Hexa Core</td>\n      <td>Gray</td>\n    </tr>\n    <tr>\n      <th>918</th>\n      <td>SAMSUNG Galaxy S23, S23+, S23Ultra 5G Unlocked...</td>\n      <td>1229.73</td>\n      <td>11.58</td>\n      <td>159.0</td>\n      <td>195526.91</td>\n      <td>https://www.ebay.com/itm/354557412430?nordt=tr...</td>\n      <td>New: A brand-new, unused, unopened, undamaged ...</td>\n      <td>NaN</td>\n      <td>Samsung</td>\n      <td>Samsung Galaxy S23 / S23+ / S23 Ultra 5G</td>\n      <td>...</td>\n      <td>Android</td>\n      <td>NaN</td>\n      <td>Smartphone</td>\n      <td>SM-S918N, SM-S916N, SM-S911N</td>\n      <td>5G</td>\n      <td>IP68</td>\n      <td>NaN</td>\n      <td>NaN</td>\n      <td>NaN</td>\n      <td>NaN</td>\n    </tr>\n    <tr>\n      <th>930</th>\n      <td>Apple iPhone 13 Pro Max 5G 128GB Sierra Blue -...</td>\n      <td>996.42</td>\n      <td>0.00</td>\n      <td>230.0</td>\n      <td>229175.70</td>\n      <td>https://www.ebay.com/itm/363687011705?nordt=tr...</td>\n      <td>Open box</td>\n      <td>“The item in this listing is an Open Box (pack...</td>\n      <td>Apple</td>\n      <td>Apple iPhone 13 Pro Max</td>\n      <td>...</td>\n      <td>iOS</td>\n      <td>NaN</td>\n      <td>Bar</td>\n      <td>MLKP3LL/A</td>\n      <td>5G, Bluetooth, Wi-Fi, Lightning, NFC</td>\n      <td>Proximity Sensor, E-compass, Gyro Sensor, Acce...</td>\n      <td>NaN</td>\n      <td>NaN</td>\n      <td>Hexa Core</td>\n      <td>Blue</td>\n    </tr>\n    <tr>\n      <th>1034</th>\n      <td>Apple iPhone 13 Pro Max 5G 256GB Graphite MLKR...</td>\n      <td>1036.79</td>\n      <td>0.00</td>\n      <td>225.0</td>\n      <td>233277.96</td>\n      <td>https://www.ebay.com/itm/363667334620?nordt=tr...</td>\n      <td>Open box</td>\n      <td>“The item in this listing is an Open Box (pack...</td>\n      <td>Apple</td>\n      <td>Apple iPhone 13 Pro Max</td>\n      <td>...</td>\n      <td>iOS</td>\n      <td>NaN</td>\n      <td>Bar</td>\n      <td>MLKR3LL/A</td>\n      <td>5G, Bluetooth, Wi-Fi, Lightning, NFC</td>\n      <td>Proximity Sensor, E-compass, Gyro Sensor, Acce...</td>\n      <td>NaN</td>\n      <td>NaN</td>\n      <td>Hexa Core</td>\n      <td>Gray</td>\n    </tr>\n    <tr>\n      <th>1113</th>\n      <td>Samsung Galaxy Z Fold 4 F936U1 512GB (Factory ...</td>\n      <td>958.24</td>\n      <td>27.06</td>\n      <td>126.0</td>\n      <td>120738.74</td>\n      <td>https://www.ebay.com/itm/325405959604?nordt=tr...</td>\n      <td>Open box</td>\n      <td>“The device will be in excellent condition. Sc...</td>\n      <td>Samsung</td>\n      <td>Samsung Galaxy Z Fold4</td>\n      <td>...</td>\n      <td>Android</td>\n      <td>SM-F936U1</td>\n      <td>Foldable</td>\n      <td>SM-F936UZKEXAA, SM-F936UZKFXAA</td>\n      <td>5G</td>\n      <td>Dual Screen</td>\n      <td>Single SIM</td>\n      <td>NaN</td>\n      <td>Octa Core</td>\n      <td>NaN</td>\n    </tr>\n    <tr>\n      <th>1185</th>\n      <td>Apple iPhone 13 Pro Max 256GB Gold - (Verizon)...</td>\n      <td>1015.97</td>\n      <td>0.00</td>\n      <td>145.0</td>\n      <td>147315.00</td>\n      <td>https://www.ebay.com/itm/144475670475?nordt=tr...</td>\n      <td>Open box</td>\n      <td>“The item in this listing is an Open Box (pack...</td>\n      <td>Apple</td>\n      <td>Apple iPhone 13 Pro Max</td>\n      <td>...</td>\n      <td>iOS</td>\n      <td>NaN</td>\n      <td>Bar</td>\n      <td>MLKU3LL/A</td>\n      <td>5G, Bluetooth, Wi-Fi, Lightning, NFC</td>\n      <td>Proximity Sensor, E-compass, Gyro Sensor, Acce...</td>\n      <td>NaN</td>\n      <td>NaN</td>\n      <td>Hexa Core</td>\n      <td>Gold</td>\n    </tr>\n    <tr>\n      <th>1255</th>\n      <td>Apple iPhone 13 Pro Max 5G 256GB Sierra Blue -...</td>\n      <td>984.53</td>\n      <td>0.00</td>\n      <td>122.0</td>\n      <td>120113.00</td>\n      <td>https://www.ebay.com/itm/363660360454?nordt=tr...</td>\n      <td>Open box</td>\n      <td>“The item in this listing is an Open Box (pack...</td>\n      <td>Apple</td>\n      <td>Apple iPhone 13 Pro Max</td>\n      <td>...</td>\n      <td>iOS</td>\n      <td>NaN</td>\n      <td>Bar</td>\n      <td>MLKV3LL/A</td>\n      <td>5G, Bluetooth, Wi-Fi, Lightning, NFC</td>\n      <td>Proximity Sensor, E-compass, Gyro Sensor, Acce...</td>\n      <td>NaN</td>\n      <td>NaN</td>\n      <td>Hexa Core</td>\n      <td>Blue</td>\n    </tr>\n    <tr>\n      <th>1272</th>\n      <td>Apple iPhone 13 Pro 256GB Graphite - (Verizon)...</td>\n      <td>910.99</td>\n      <td>0.00</td>\n      <td>179.0</td>\n      <td>163067.44</td>\n      <td>https://www.ebay.com/itm/133995139792?nordt=tr...</td>\n      <td>Open box</td>\n      <td>“The item in this listing is an Open Box (pack...</td>\n      <td>Apple</td>\n      <td>Apple iPhone 13 Pro</td>\n      <td>...</td>\n      <td>iOS</td>\n      <td>NaN</td>\n      <td>Bar</td>\n      <td>MLTW3LL/A</td>\n      <td>5G, Bluetooth, Wi-Fi, Lightning, NFC</td>\n      <td>Proximity Sensor, E-compass, Gyro Sensor, Acce...</td>\n      <td>NaN</td>\n      <td>NaN</td>\n      <td>Hexa Core</td>\n      <td>Gray</td>\n    </tr>\n    <tr>\n      <th>1284</th>\n      <td>Apple iPhone 13 Pro Max 256GB Graphite Verizon...</td>\n      <td>964.04</td>\n      <td>0.00</td>\n      <td>129.0</td>\n      <td>124361.00</td>\n      <td>https://www.ebay.com/itm/133967467113?nordt=tr...</td>\n      <td>Open box</td>\n      <td>“The item in this listing is an Open Box (pack...</td>\n      <td>Apple</td>\n      <td>Apple iPhone 13 Pro Max</td>\n      <td>...</td>\n      <td>iOS</td>\n      <td>NaN</td>\n      <td>Bar</td>\n      <td>MLKR3LL/A</td>\n      <td>5G, Bluetooth, Wi-Fi, Lightning, NFC</td>\n      <td>Proximity Sensor, E-compass, Gyro Sensor, Acce...</td>\n      <td>NaN</td>\n      <td>NaN</td>\n      <td>Hexa Core</td>\n      <td>Gray</td>\n    </tr>\n    <tr>\n      <th>1383</th>\n      <td>New Samsung Galaxy S22 Ultra 5G SM-S908U 256GB...</td>\n      <td>877.57</td>\n      <td>31.87</td>\n      <td>93.0</td>\n      <td>81614.07</td>\n      <td>https://www.ebay.com/itm/204173167214?nordt=tr...</td>\n      <td>New: A brand-new, unused, unopened, undamaged ...</td>\n      <td>NaN</td>\n      <td>Samsung</td>\n      <td>Samsung Galaxy S22 Ultra</td>\n      <td>...</td>\n      <td>Android</td>\n      <td>S908U</td>\n      <td>Smartphone</td>\n      <td>SM-S908U</td>\n      <td>4G, 5G, Bluetooth, GPS</td>\n      <td>Internet Browser, Touchscreen, 4G Data Capable...</td>\n      <td>Single SIM</td>\n      <td>None</td>\n      <td>Octa Core</td>\n      <td>NaN</td>\n    </tr>\n    <tr>\n      <th>1491</th>\n      <td>Apple iPhone 13 Pro 5G 256GB Sierra Blue - (Ve...</td>\n      <td>932.48</td>\n      <td>0.00</td>\n      <td>111.0</td>\n      <td>103504.84</td>\n      <td>https://www.ebay.com/itm/144330181632?nordt=tr...</td>\n      <td>Open box</td>\n      <td>“The item in this listing is an Open Box (pack...</td>\n      <td>Apple</td>\n      <td>Apple iPhone 13 Pro</td>\n      <td>...</td>\n      <td>iOS</td>\n      <td>NaN</td>\n      <td>Bar</td>\n      <td>MLU03LL/A</td>\n      <td>5G, Bluetooth, Wi-Fi, Lightning, NFC</td>\n      <td>Proximity Sensor, E-compass, Gyro Sensor, Acce...</td>\n      <td>NaN</td>\n      <td>NaN</td>\n      <td>Hexa Core</td>\n      <td>Blue</td>\n    </tr>\n    <tr>\n      <th>1525</th>\n      <td>Apple iPhone 13 Pro Max 5G 128GB Sierra Blue (...</td>\n      <td>875.97</td>\n      <td>0.00</td>\n      <td>89.0</td>\n      <td>77961.00</td>\n      <td>https://www.ebay.com/itm/144299275641?nordt=tr...</td>\n      <td>Open box</td>\n      <td>“The item in this listing is an Open Box (pack...</td>\n      <td>Apple</td>\n      <td>Apple iPhone 13 Pro</td>\n      <td>...</td>\n      <td>iOS</td>\n      <td>NaN</td>\n      <td>Bar</td>\n      <td>MLTT3LL/A</td>\n      <td>5G, Bluetooth, Wi-Fi, Lightning, NFC</td>\n      <td>Proximity Sensor, E-compass, Gyro Sensor, Acce...</td>\n      <td>NaN</td>\n      <td>NaN</td>\n      <td>Hexa Core</td>\n      <td>Blue</td>\n    </tr>\n    <tr>\n      <th>1668</th>\n      <td>Apple iPhone 13 Pro Max 256GB Unlocked Smartph...</td>\n      <td>931.49</td>\n      <td>14.99</td>\n      <td>82.0</td>\n      <td>76381.90</td>\n      <td>https://www.ebay.com/itm/364007273533?nordt=tr...</td>\n      <td>Excellent - Refurbished</td>\n      <td>“This is an A Stock item, meaning unit is in e...</td>\n      <td>Apple</td>\n      <td>Apple iPhone 13 Pro Max</td>\n      <td>...</td>\n      <td>iOS</td>\n      <td>A2161 (CDMA + GSM)</td>\n      <td>NaN</td>\n      <td>MLF63LL/A, MLF93LL/A, MLF73LL/A, MNCF3LL/A, ML...</td>\n      <td>4G, Bluetooth, GPS</td>\n      <td>Face ID, Three-axis gyro, 4K Video Recording, ...</td>\n      <td>Dual SIM (SIM + eSIM)</td>\n      <td>Not Applicable</td>\n      <td>Apple A15 Bionic</td>\n      <td>NaN</td>\n    </tr>\n    <tr>\n      <th>1734</th>\n      <td>Samsung Galaxy S21 Ultra 5G 512GB 16GB RAM Sma...</td>\n      <td>1388.92</td>\n      <td>0.00</td>\n      <td>70.0</td>\n      <td>97224.60</td>\n      <td>https://www.ebay.com/itm/265014799715?nordt=tr...</td>\n      <td>New: A brand-new, unused, unopened, undamaged ...</td>\n      <td>NaN</td>\n      <td>Samsung</td>\n      <td>Samsung Galaxy S21 Ultra 5G</td>\n      <td>...</td>\n      <td>Android</td>\n      <td>NaN</td>\n      <td>NaN</td>\n      <td>SM-G998N</td>\n      <td>NaN</td>\n      <td>NaN</td>\n      <td>NaN</td>\n      <td>NaN</td>\n      <td>NaN</td>\n      <td>NaN</td>\n    </tr>\n    <tr>\n      <th>1776</th>\n      <td>Apple iPhone 14 Pro 128GB/256GB A2650 Factory ...</td>\n      <td>972.46</td>\n      <td>47.40</td>\n      <td>75.0</td>\n      <td>72934.25</td>\n      <td>https://www.ebay.com/itm/285069051292?nordt=tr...</td>\n      <td>Open box</td>\n      <td>“These items look new and are fully functional...</td>\n      <td>Apple</td>\n      <td>iPhone 14 Pro</td>\n      <td>...</td>\n      <td>iOS</td>\n      <td>NaN</td>\n      <td>Bar</td>\n      <td>A2650</td>\n      <td>NaN</td>\n      <td>NaN</td>\n      <td>NaN</td>\n      <td>NaN</td>\n      <td>NaN</td>\n      <td>NaN</td>\n    </tr>\n    <tr>\n      <th>1790</th>\n      <td>Apple iPhone 12 Pro Max Graphite 128GB - (AT&amp;T...</td>\n      <td>889.98</td>\n      <td>0.00</td>\n      <td>79.0</td>\n      <td>70308.26</td>\n      <td>https://www.ebay.com/itm/133693914838?nordt=tr...</td>\n      <td>Open box</td>\n      <td>“The item in this listing is an Open Box (pack...</td>\n      <td>Apple</td>\n      <td>Apple iPhone 12 Pro Max</td>\n      <td>...</td>\n      <td>iOS</td>\n      <td>NaN</td>\n      <td>Bar</td>\n      <td>MG8X3LL/A</td>\n      <td>5G, Bluetooth, Wi-Fi, Lightning, NFC</td>\n      <td>Proximity Sensor, E-compass, Gyro Sensor, Acce...</td>\n      <td>NaN</td>\n      <td>NaN</td>\n      <td>Hexa Core</td>\n      <td>Gray</td>\n    </tr>\n    <tr>\n      <th>1798</th>\n      <td>New Samsung Galaxy S22 Ultra 5G SM-S908U 512GB...</td>\n      <td>974.59</td>\n      <td>29.99</td>\n      <td>67.0</td>\n      <td>65297.33</td>\n      <td>https://www.ebay.com/itm/195325130186?nordt=tr...</td>\n      <td>New: A brand-new, unused, unopened, undamaged ...</td>\n      <td>NaN</td>\n      <td>Samsung</td>\n      <td>Samsung Galaxy S22 Ultra</td>\n      <td>...</td>\n      <td>Android</td>\n      <td>S908U</td>\n      <td>Smartphone</td>\n      <td>SM-S908U</td>\n      <td>4G, 5G, Bluetooth, GPS</td>\n      <td>Internet Browser, Touchscreen, 4G Data Capable...</td>\n      <td>Single SIM</td>\n      <td>None</td>\n      <td>Octa Core</td>\n      <td>NaN</td>\n    </tr>\n    <tr>\n      <th>1856</th>\n      <td>SAMSUNG Galaxy Z Fold4 5G SM-F936N 256/512GB/1...</td>\n      <td>1493.39</td>\n      <td>10.96</td>\n      <td>64.0</td>\n      <td>95576.97</td>\n      <td>https://www.ebay.com/itm/354292343188?nordt=tr...</td>\n      <td>New: A brand-new, unused, unopened, undamaged ...</td>\n      <td>NaN</td>\n      <td>Samsung</td>\n      <td>Samsung Galaxy Z Fold4 SM-F936N</td>\n      <td>...</td>\n      <td>Android</td>\n      <td>NaN</td>\n      <td>Foldable</td>\n      <td>NaN</td>\n      <td>5G</td>\n      <td>NaN</td>\n      <td>NaN</td>\n      <td>NaN</td>\n      <td>NaN</td>\n      <td>NaN</td>\n    </tr>\n    <tr>\n      <th>1858</th>\n      <td>Apple iPhone 14 Pro Max 256GB Space Black - (U...</td>\n      <td>1048.22</td>\n      <td>0.00</td>\n      <td>67.0</td>\n      <td>70230.55</td>\n      <td>https://www.ebay.com/itm/364024740214?nordt=tr...</td>\n      <td>Open box</td>\n      <td>“The item in this listing is an Open Box (pack...</td>\n      <td>Apple</td>\n      <td>Apple iPhone 14 Pro Max</td>\n      <td>...</td>\n      <td>iOS</td>\n      <td>A2651 (GSM)</td>\n      <td>Bar</td>\n      <td>MQ8T3LL/A</td>\n      <td>5G, Bluetooth, Wi-Fi, Lightning, NFC</td>\n      <td>Proximity Sensor, E-compass, Gyro Sensor, Acce...</td>\n      <td>eSIM</td>\n      <td>NaN</td>\n      <td>Hexa Core</td>\n      <td>Black</td>\n    </tr>\n    <tr>\n      <th>1970</th>\n      <td>New Samsung Galaxy S21 Ultra 5G 256GB Smartpho...</td>\n      <td>1078.55</td>\n      <td>0.00</td>\n      <td>60.0</td>\n      <td>64712.99</td>\n      <td>https://www.ebay.com/itm/233860240455?nordt=tr...</td>\n      <td>New: A brand-new, unused, unopened, undamaged ...</td>\n      <td>NaN</td>\n      <td>Samsung</td>\n      <td>Samsung Galaxy S21 Ultra 5G</td>\n      <td>...</td>\n      <td>Android</td>\n      <td>NaN</td>\n      <td>NaN</td>\n      <td>SM-G998N</td>\n      <td>NaN</td>\n      <td>NaN</td>\n      <td>NaN</td>\n      <td>NaN</td>\n      <td>NaN</td>\n      <td>NaN</td>\n    </tr>\n    <tr>\n      <th>2101</th>\n      <td>Apple iPhone 14 Pro 256GB Space Black - (Unloc...</td>\n      <td>1029.54</td>\n      <td>0.00</td>\n      <td>56.0</td>\n      <td>57654.10</td>\n      <td>https://www.ebay.com/itm/144768604430?nordt=tr...</td>\n      <td>Open box</td>\n      <td>“The item in this listing is an Open Box (pack...</td>\n      <td>Apple</td>\n      <td>Apple iPhone 14 Pro</td>\n      <td>...</td>\n      <td>iOS</td>\n      <td>NaN</td>\n      <td>Bar</td>\n      <td>MQ0N3LL/A</td>\n      <td>5G, Bluetooth, Wi-Fi, Lightning, NFC</td>\n      <td>Proximity Sensor, E-compass, Gyro Sensor, Acce...</td>\n      <td>NaN</td>\n      <td>NaN</td>\n      <td>Hexa Core</td>\n      <td>Black</td>\n    </tr>\n    <tr>\n      <th>2205</th>\n      <td>Apple iPhone 13 Pro Max 5G 128GB Sierra Blue -...</td>\n      <td>893.67</td>\n      <td>0.00</td>\n      <td>58.0</td>\n      <td>51832.99</td>\n      <td>https://www.ebay.com/itm/144430240280?nordt=tr...</td>\n      <td>Open box</td>\n      <td>“The item in this listing is an Open Box (pack...</td>\n      <td>Apple</td>\n      <td>Apple iPhone 13 Pro Max</td>\n      <td>...</td>\n      <td>iOS</td>\n      <td>NaN</td>\n      <td>Bar</td>\n      <td>MLKP3LL/A</td>\n      <td>5G, Bluetooth, Wi-Fi, Lightning, NFC</td>\n      <td>Proximity Sensor, E-compass, Gyro Sensor, Acce...</td>\n      <td>NaN</td>\n      <td>NaN</td>\n      <td>Hexa Core</td>\n      <td>Blue</td>\n    </tr>\n    <tr>\n      <th>2314</th>\n      <td>Apple iPhone 13 Pro Max 5G 256GB Sierra Blue -...</td>\n      <td>895.08</td>\n      <td>0.00</td>\n      <td>51.0</td>\n      <td>45649.00</td>\n      <td>https://www.ebay.com/itm/363735459965?nordt=tr...</td>\n      <td>Open box</td>\n      <td>“The item in this listing is an Open Box (pack...</td>\n      <td>Apple</td>\n      <td>Apple iPhone 13 Pro Max</td>\n      <td>...</td>\n      <td>iOS</td>\n      <td>NaN</td>\n      <td>Bar</td>\n      <td>MLKV3LL/A</td>\n      <td>5G, Bluetooth, Wi-Fi, Lightning, NFC</td>\n      <td>Proximity Sensor, E-compass, Gyro Sensor, Acce...</td>\n      <td>NaN</td>\n      <td>NaN</td>\n      <td>Hexa Core</td>\n      <td>Blue</td>\n    </tr>\n    <tr>\n      <th>2529</th>\n      <td>Sony Xperia PRO-I 5G Smartphone 120Hz 6.5\" 21:...</td>\n      <td>890.04</td>\n      <td>0.00</td>\n      <td>43.0</td>\n      <td>38271.80</td>\n      <td>https://www.ebay.com/itm/313895027510?nordt=tr...</td>\n      <td>Certified - Refurbished</td>\n      <td>“This item has been refurbished by the manufac...</td>\n      <td>Sony</td>\n      <td>Sony Xperia PRO-I</td>\n      <td>...</td>\n      <td>Android</td>\n      <td>NaN</td>\n      <td>Bar</td>\n      <td>XQBE62/B</td>\n      <td>USB Type-C, 5G, Bluetooth, Wi-Fi</td>\n      <td>Water-Resistant, 4K Video Recording, Dust-Resi...</td>\n      <td>Dual SIM (SIM + SIM/Memory Card)</td>\n      <td>microSDXC</td>\n      <td>Octa Core</td>\n      <td>Black</td>\n    </tr>\n    <tr>\n      <th>2773</th>\n      <td>Samsung Galaxy G998U S21 Ultra 5G 512GB Unlock...</td>\n      <td>985.78</td>\n      <td>0.00</td>\n      <td>38.0</td>\n      <td>37459.62</td>\n      <td>https://www.ebay.com/itm/254977533321?nordt=tr...</td>\n      <td>Excellent - Refurbished</td>\n      <td>“This Samsung Galaxy S21 Ultra 5G is in Excell...</td>\n      <td>Samsung Electronics</td>\n      <td>Samsung Galaxy S21 Ultra 5G</td>\n      <td>...</td>\n      <td>Android</td>\n      <td>SM-G998U</td>\n      <td>Smartphone</td>\n      <td>NaN</td>\n      <td>NaN</td>\n      <td>NaN</td>\n      <td>NaN</td>\n      <td>NaN</td>\n      <td>NaN</td>\n      <td>NaN</td>\n    </tr>\n    <tr>\n      <th>2849</th>\n      <td>Apple iPhone 12 Pro Max 128GB Unlocked Smartph...</td>\n      <td>921.85</td>\n      <td>14.99</td>\n      <td>42.0</td>\n      <td>38717.65</td>\n      <td>https://www.ebay.com/itm/384501272640?nordt=tr...</td>\n      <td>Excellent - Refurbished</td>\n      <td>“This is an A Stock item, meaning unit is in e...</td>\n      <td>Apple</td>\n      <td>Apple iPhone 12 Pro Max</td>\n      <td>...</td>\n      <td>iOS</td>\n      <td>A2342</td>\n      <td>NaN</td>\n      <td>MGCF3LL/A, MGCG3LL/A, MGCH3LL/A, MGCJ3LL/A</td>\n      <td>4G, 5G, Bluetooth, GPS</td>\n      <td>Face ID, Three-axis gyro, 4K Video Recording, ...</td>\n      <td>Dual SIM (SIM + eSIM)</td>\n      <td>Not Applicable</td>\n      <td>Hexa Core</td>\n      <td>NaN</td>\n    </tr>\n    <tr>\n      <th>2963</th>\n      <td>Apple iPhone 13 Pro Max 256GB Graphite - (Fact...</td>\n      <td>899.00</td>\n      <td>0.00</td>\n      <td>46.0</td>\n      <td>41354.00</td>\n      <td>https://www.ebay.com/itm/364016783548?nordt=tr...</td>\n      <td>Open box</td>\n      <td>“The item in this listing is an Open Box (pack...</td>\n      <td>Apple</td>\n      <td>Apple iPhone 13 Pro Max</td>\n      <td>...</td>\n      <td>iOS</td>\n      <td>A2484 (CDMA + GSM)</td>\n      <td>Bar</td>\n      <td>MLKR3LL/A, MLKR3LLA</td>\n      <td>5G, Bluetooth, Wi-Fi, Lightning, NFC</td>\n      <td>Proximity Sensor, E-compass, Gyro Sensor, Acce...</td>\n      <td>Dual SIM (SIM + eSIM)</td>\n      <td>NaN</td>\n      <td>Hexa Core</td>\n      <td>Gray</td>\n    </tr>\n    <tr>\n      <th>3019</th>\n      <td>Apple iPhone 13 Pro Max 5G 256GB Sierra Blue -...</td>\n      <td>968.61</td>\n      <td>0.00</td>\n      <td>38.0</td>\n      <td>36807.00</td>\n      <td>https://www.ebay.com/itm/363691444540?nordt=tr...</td>\n      <td>Open box</td>\n      <td>“The item in this listing is an Open Box (pack...</td>\n      <td>Apple</td>\n      <td>Apple iPhone 13 Pro Max</td>\n      <td>...</td>\n      <td>iOS</td>\n      <td>NaN</td>\n      <td>Bar</td>\n      <td>MLKV3LL/A</td>\n      <td>5G, Bluetooth, Wi-Fi, Lightning, NFC</td>\n      <td>Proximity Sensor, E-compass, Gyro Sensor, Acce...</td>\n      <td>NaN</td>\n      <td>NaN</td>\n      <td>Hexa Core</td>\n      <td>Blue</td>\n    </tr>\n  </tbody>\n</table>\n<p>31 rows × 27 columns</p>\n</div>"
     },
     "execution_count": 7,
     "metadata": {},
     "output_type": "execute_result"
    }
   ],
   "source": [
    "import numpy as np\n",
    "df[df.Price > np.quantile(df.Price, 0.99)]"
   ],
   "metadata": {
    "collapsed": false,
    "pycharm": {
     "name": "#%%\n"
    }
   }
  },
  {
   "cell_type": "code",
   "execution_count": 8,
   "outputs": [
    {
     "data": {
      "text/plain": "Used                                                                                                                                                                                                                                                                                                                                                                                                                                                                                                                                                        886\nNew: A brand-new, unused, unopened, undamaged item in its original packaging (where packaging is ...Read moreabout the conditionNew: A brand-new, unused, unopened, undamaged item in its original packaging (where packaging is applicable). Packaging should be the same as what is found in a retail store, unless the item is handmade or was packaged by the manufacturer in non-retail packaging, such as an unprinted box or plastic bag. See the seller's listing for full details.See all condition definitionsopens in a new window or tab        689\nOpen box                                                                                                                                                                                                                                                                                                                                                                                                                                                                                                                                                    443\nGood - Refurbished                                                                                                                                                                                                                                                                                                                                                                                                                                                                                                                                          377\nVery Good - Refurbished                                                                                                                                                                                                                                                                                                                                                                                                                                                                                                                                     288\nExcellent - Refurbished                                                                                                                                                                                                                                                                                                                                                                                                                                                                                                                                     163\nUsed: An item that has been used previously. The item may have some signs of cosmetic wear, but is ...Read moreabout the conditionUsed: An item that has been used previously. The item may have some signs of cosmetic wear, but is fully operational and functions as intended. This item may be a floor model or store return that has been used. See the seller’s listing for full details and description of any imperfections.See all condition definitionsopens in a new window or tab                                                               114\nOpen box: An item in excellent, new condition with no wear. The item may be missing the original ...Read moreabout the conditionOpen box: An item in excellent, new condition with no wear. The item may be missing the original packaging or protective wrapping, or may be in the original packaging but not sealed. The item includes original accessories. The item may be a factory second. See the seller's listing for full details and description.See all condition definitionsopens in a new window or tab                                         56\nFor parts or not working                                                                                                                                                                                                                                                                                                                                                                                                                                                                                                                                     26\nCertified - Refurbished                                                                                                                                                                                                                                                                                                                                                                                                                                                                                                                                      17\nExcellent - Refurbished: The item is in like-new condition, backed by a one year warranty. It has ...Read moreabout the conditionExcellent - Refurbished: The item is in like-new condition, backed by a one year warranty. It has been professionally refurbished, inspected and cleaned to excellent condition by qualified sellers. The item includes original or new accessories and will come in new generic packaging. See the seller's listing for full details.See all condition definitionsopens in a new window or tab                              9\nVery Good - Refurbished: The item shows minimal wear and is backed by a one year warranty. It is ...Read moreabout the conditionVery Good - Refurbished: The item shows minimal wear and is backed by a one year warranty. It is fully functional and has been professionally refurbished,  inspected and cleaned to very good condition by qualified sellers. The item includes original or new accessories and will come in new generic packaging. See the seller's listing for full details.See all condition definitionsopens in a new window or tab      9\nGood - Refurbished: The item shows moderate wear and is backed by a one year warranty. It is fully ...Read moreabout the conditionGood - Refurbished: The item shows moderate wear and is backed by a one year warranty. It is fully functional and has been professionally refurbished, inspected and cleaned to good condition by qualified sellers. The item includes original or new accessories and will come in a new generic packaging. See the seller's listing for full details.See all condition definitionsopens in a new window or tab            4\nName: Condition, dtype: int64"
     },
     "execution_count": 8,
     "metadata": {},
     "output_type": "execute_result"
    }
   ],
   "source": [
    "df.Condition.value_counts()"
   ],
   "metadata": {
    "collapsed": false,
    "pycharm": {
     "name": "#%%\n"
    }
   }
  },
  {
   "cell_type": "code",
   "execution_count": 9,
   "outputs": [],
   "source": [
    "df['Condition'] = df['Condition'].str.split(':', n=1).str[0]"
   ],
   "metadata": {
    "collapsed": false,
    "pycharm": {
     "name": "#%%\n"
    }
   }
  },
  {
   "cell_type": "code",
   "execution_count": 10,
   "outputs": [
    {
     "data": {
      "text/plain": "Used                        1000\nNew                          689\nOpen box                     499\nGood - Refurbished           381\nVery Good - Refurbished      297\nExcellent - Refurbished      172\nFor parts or not working      26\nCertified - Refurbished       17\nName: Condition, dtype: int64"
     },
     "execution_count": 10,
     "metadata": {},
     "output_type": "execute_result"
    }
   ],
   "source": [
    "df.Condition.value_counts()"
   ],
   "metadata": {
    "collapsed": false,
    "pycharm": {
     "name": "#%%\n"
    }
   }
  },
  {
   "cell_type": "code",
   "execution_count": 11,
   "outputs": [
    {
     "data": {
      "text/plain": "Index(['Samsung', 'Apple', 'LG', 'Google', 'Motorola', 'Samsung Electronics',\n       'UMIDIGI', 'Unbranded', 'CAT', 'Kyocera', 'BlackBerry', 'Sonim', 'TCL',\n       'BLU', 'DOOGEE', 'Nokia', 'Xiaomi', 'OnePlus', 'XGODY', 'T-Mobile',\n       'Alcatel', 'AGM', 'Unihertz', 'ZTE', 'Tracfone', 'Microsoft', 'Palm',\n       'OUKITEL', 'Blackview', 'Lively', 'HTC', 'Huawei', 'Verizon Wireless',\n       'Lg', 'GOOGLE', 'Ulefone', 'Sony', 'MOTOROLA', 'TracFone',\n       'Total By Verizon', 'Verizon', 'Visible', 'APPLE', 'oneplus',\n       'Simple Mobile', 'Cricket', 'AT&T', 'Gotake', 'SOYES', 'Maxwest',\n       'ASUS', 'Melrose', 'Sky Devices', 'Orbic', 'invisibleSHIELD',\n       'Boost Mobile', 'UMX', 'Lanchaung', 'Cellution', 'Cubot', 'mophie',\n       'M12', 'Consumer Priority Services', 'SAMSUNG', 'Honor', 'Schok',\n       'UMIDGI', 'Satrend', 'Amazon', 'ULEFONE', 'NUU', 'no brand',\n       'Wingtech Technology', 'UScellular', 'WingTech', 'Essential', 'OPPO'],\n      dtype='object')"
     },
     "execution_count": 11,
     "metadata": {},
     "output_type": "execute_result"
    }
   ],
   "source": [
    "df.Brand.value_counts().index"
   ],
   "metadata": {
    "collapsed": false,
    "pycharm": {
     "name": "#%%\n"
    }
   }
  },
  {
   "cell_type": "code",
   "execution_count": 13,
   "outputs": [],
   "source": [
    "df['Brand'] = df['Brand'].str.lower()"
   ],
   "metadata": {
    "collapsed": false,
    "pycharm": {
     "name": "#%%\n"
    }
   }
  },
  {
   "cell_type": "code",
   "execution_count": 14,
   "outputs": [],
   "source": [
    "df.loc[df['Brand'] == 'samsung electronics', 'Brand'] = 'samsung'"
   ],
   "metadata": {
    "collapsed": false,
    "pycharm": {
     "name": "#%%\n"
    }
   }
  },
  {
   "cell_type": "code",
   "execution_count": 15,
   "outputs": [
    {
     "data": {
      "text/plain": "Index(['samsung', 'apple', 'lg', 'google', 'motorola', 'umidigi', 'unbranded',\n       'cat', 'kyocera', 'blackberry', 'sonim', 'blu', 'tcl', 'doogee',\n       'oneplus', 'nokia', 'xgody', 'xiaomi', 'alcatel', 't-mobile',\n       'tracfone', 'agm', 'unihertz', 'zte', 'palm', 'microsoft', 'oukitel',\n       'lively', 'htc', 'ulefone', 'blackview', 'huawei', 'verizon wireless',\n       'total by verizon', 'sony', 'verizon', 'visible', 'cricket', 'at&t',\n       'simple mobile', 'soyes', 'melrose', 'asus', 'sky devices', 'maxwest',\n       'gotake', 'lanchaung', 'cellution', 'boost mobile', 'invisibleshield',\n       'cubot', 'mophie', 'm12', 'consumer priority services', 'schok', 'umx',\n       'satrend', 'amazon', 'nuu', 'uscellular', 'wingtech', 'essential',\n       'umidgi', 'orbic', 'wingtech technology', 'no brand', 'honor', 'oppo'],\n      dtype='object')"
     },
     "execution_count": 15,
     "metadata": {},
     "output_type": "execute_result"
    }
   ],
   "source": [
    "df.Brand.value_counts().index"
   ],
   "metadata": {
    "collapsed": false,
    "pycharm": {
     "name": "#%%\n"
    }
   }
  },
  {
   "cell_type": "code",
   "execution_count": 16,
   "outputs": [
    {
     "data": {
      "text/plain": "Index(['Apple iPhone 11', 'Apple iPhone 8', 'Apple iPhone X',\n       'Apple iPhone XR', 'Samsung Galaxy S7', 'Apple iPhone 11 Pro',\n       'Samsung Galaxy S10+', 'Samsung Galaxy S9+', 'Samsung Galaxy S9',\n       'Apple iPhone 12',\n       ...\n       'SAMSUNG GALAXY A136U', 'BlackBerry Curve 9360', 'S96 GT',\n       'BlackBerry Curve 9380', '13 pro', 'Samsung Galaxy Note 3',\n       'Kyocera DuraXV Extreme', 'Razr 5G', 'PH-1', 'S5 Active G870A 16GB'],\n      dtype='object', length=710)"
     },
     "execution_count": 16,
     "metadata": {},
     "output_type": "execute_result"
    }
   ],
   "source": [
    "df['Model'].value_counts().index"
   ],
   "metadata": {
    "collapsed": false,
    "pycharm": {
     "name": "#%%\n"
    }
   }
  },
  {
   "cell_type": "code",
   "execution_count": 297,
   "outputs": [
    {
     "data": {
      "text/plain": [
       "Bluetooth, 4G, Wi-Fi, Lightning, NFC                                 122\n",
       "4G, Bluetooth, GPS                                                    95\n",
       "5G, Bluetooth, Wi-Fi, Lightning, NFC                                  91\n",
       "5G                                                                    77\n",
       "4G, Bluetooth, GPS, LTE                                               64\n",
       "                                                                    ... \n",
       "3G, 4G, GPS, LTE, NFC, Wi-Fi                                           1\n",
       "USB, 2G, 3G, 4G, Bluetooth, Dual-Band, GPS, Lightning, NFC, Wi-Fi      1\n",
       "4G, 3G, 2G, GPS                                                        1\n",
       "4G, GPS, LTE, Wi-Fi                                                    1\n",
       "2G, 3G, 4G, Bluetooth, Wi-Fi, USB Type-C                               1\n",
       "Name: Connectivity, Length: 508, dtype: int64"
      ]
     },
     "execution_count": 297,
     "metadata": {},
     "output_type": "execute_result"
    }
   ],
   "source": [
    "df.Connectivity.value_counts()"
   ],
   "metadata": {
    "collapsed": false,
    "pycharm": {
     "name": "#%%\n"
    }
   }
  },
  {
   "cell_type": "code",
   "execution_count": 298,
   "outputs": [],
   "source": [
    "Features = df['Connectivity'].str.get_dummies(', ')"
   ],
   "metadata": {
    "collapsed": false,
    "pycharm": {
     "name": "#%%\n"
    }
   }
  },
  {
   "cell_type": "code",
   "execution_count": 299,
   "outputs": [
    {
     "data": {
      "text/html": [
       "<div>\n",
       "<style scoped>\n",
       "    .dataframe tbody tr th:only-of-type {\n",
       "        vertical-align: middle;\n",
       "    }\n",
       "\n",
       "    .dataframe tbody tr th {\n",
       "        vertical-align: top;\n",
       "    }\n",
       "\n",
       "    .dataframe thead th {\n",
       "        text-align: right;\n",
       "    }\n",
       "</style>\n",
       "<table border=\"1\" class=\"dataframe\">\n",
       "  <thead>\n",
       "    <tr style=\"text-align: right;\">\n",
       "      <th></th>\n",
       "      <th>\"3G\"</th>\n",
       "      <th>\"4G\"</th>\n",
       "      <th>\"Bluetooth\"</th>\n",
       "      <th>\"GPS\"]</th>\n",
       "      <th>2G</th>\n",
       "      <th>3G</th>\n",
       "      <th>4G</th>\n",
       "      <th>4G Bluetooth GPS LTE</th>\n",
       "      <th>4G LTE</th>\n",
       "      <th>4G+</th>\n",
       "      <th>...</th>\n",
       "      <th>WCDMA</th>\n",
       "      <th>WI-FI</th>\n",
       "      <th>WIFI</th>\n",
       "      <th>WIFI: 2.4G/5G</th>\n",
       "      <th>Wi-Fi</th>\n",
       "      <th>WiFi</th>\n",
       "      <th>Wifi</th>\n",
       "      <th>Wireless charging</th>\n",
       "      <th>[\"2G\"</th>\n",
       "      <th>microUSB 2.0</th>\n",
       "    </tr>\n",
       "  </thead>\n",
       "  <tbody>\n",
       "    <tr>\n",
       "      <th>0</th>\n",
       "      <td>0</td>\n",
       "      <td>0</td>\n",
       "      <td>0</td>\n",
       "      <td>0</td>\n",
       "      <td>0</td>\n",
       "      <td>0</td>\n",
       "      <td>0</td>\n",
       "      <td>0</td>\n",
       "      <td>0</td>\n",
       "      <td>0</td>\n",
       "      <td>...</td>\n",
       "      <td>0</td>\n",
       "      <td>0</td>\n",
       "      <td>0</td>\n",
       "      <td>0</td>\n",
       "      <td>0</td>\n",
       "      <td>0</td>\n",
       "      <td>0</td>\n",
       "      <td>0</td>\n",
       "      <td>0</td>\n",
       "      <td>0</td>\n",
       "    </tr>\n",
       "    <tr>\n",
       "      <th>1</th>\n",
       "      <td>0</td>\n",
       "      <td>0</td>\n",
       "      <td>0</td>\n",
       "      <td>0</td>\n",
       "      <td>0</td>\n",
       "      <td>0</td>\n",
       "      <td>0</td>\n",
       "      <td>0</td>\n",
       "      <td>0</td>\n",
       "      <td>0</td>\n",
       "      <td>...</td>\n",
       "      <td>0</td>\n",
       "      <td>0</td>\n",
       "      <td>0</td>\n",
       "      <td>0</td>\n",
       "      <td>0</td>\n",
       "      <td>0</td>\n",
       "      <td>0</td>\n",
       "      <td>0</td>\n",
       "      <td>0</td>\n",
       "      <td>0</td>\n",
       "    </tr>\n",
       "    <tr>\n",
       "      <th>2</th>\n",
       "      <td>0</td>\n",
       "      <td>0</td>\n",
       "      <td>0</td>\n",
       "      <td>0</td>\n",
       "      <td>0</td>\n",
       "      <td>0</td>\n",
       "      <td>1</td>\n",
       "      <td>0</td>\n",
       "      <td>0</td>\n",
       "      <td>0</td>\n",
       "      <td>...</td>\n",
       "      <td>0</td>\n",
       "      <td>0</td>\n",
       "      <td>0</td>\n",
       "      <td>0</td>\n",
       "      <td>0</td>\n",
       "      <td>0</td>\n",
       "      <td>0</td>\n",
       "      <td>0</td>\n",
       "      <td>0</td>\n",
       "      <td>0</td>\n",
       "    </tr>\n",
       "    <tr>\n",
       "      <th>3</th>\n",
       "      <td>0</td>\n",
       "      <td>0</td>\n",
       "      <td>0</td>\n",
       "      <td>0</td>\n",
       "      <td>1</td>\n",
       "      <td>1</td>\n",
       "      <td>1</td>\n",
       "      <td>0</td>\n",
       "      <td>0</td>\n",
       "      <td>0</td>\n",
       "      <td>...</td>\n",
       "      <td>0</td>\n",
       "      <td>0</td>\n",
       "      <td>0</td>\n",
       "      <td>0</td>\n",
       "      <td>1</td>\n",
       "      <td>0</td>\n",
       "      <td>0</td>\n",
       "      <td>0</td>\n",
       "      <td>0</td>\n",
       "      <td>0</td>\n",
       "    </tr>\n",
       "    <tr>\n",
       "      <th>4</th>\n",
       "      <td>0</td>\n",
       "      <td>0</td>\n",
       "      <td>0</td>\n",
       "      <td>0</td>\n",
       "      <td>0</td>\n",
       "      <td>0</td>\n",
       "      <td>1</td>\n",
       "      <td>0</td>\n",
       "      <td>0</td>\n",
       "      <td>0</td>\n",
       "      <td>...</td>\n",
       "      <td>0</td>\n",
       "      <td>0</td>\n",
       "      <td>0</td>\n",
       "      <td>0</td>\n",
       "      <td>0</td>\n",
       "      <td>0</td>\n",
       "      <td>0</td>\n",
       "      <td>0</td>\n",
       "      <td>0</td>\n",
       "      <td>0</td>\n",
       "    </tr>\n",
       "    <tr>\n",
       "      <th>...</th>\n",
       "      <td>...</td>\n",
       "      <td>...</td>\n",
       "      <td>...</td>\n",
       "      <td>...</td>\n",
       "      <td>...</td>\n",
       "      <td>...</td>\n",
       "      <td>...</td>\n",
       "      <td>...</td>\n",
       "      <td>...</td>\n",
       "      <td>...</td>\n",
       "      <td>...</td>\n",
       "      <td>...</td>\n",
       "      <td>...</td>\n",
       "      <td>...</td>\n",
       "      <td>...</td>\n",
       "      <td>...</td>\n",
       "      <td>...</td>\n",
       "      <td>...</td>\n",
       "      <td>...</td>\n",
       "      <td>...</td>\n",
       "      <td>...</td>\n",
       "    </tr>\n",
       "    <tr>\n",
       "      <th>3076</th>\n",
       "      <td>0</td>\n",
       "      <td>0</td>\n",
       "      <td>0</td>\n",
       "      <td>0</td>\n",
       "      <td>0</td>\n",
       "      <td>0</td>\n",
       "      <td>1</td>\n",
       "      <td>0</td>\n",
       "      <td>0</td>\n",
       "      <td>0</td>\n",
       "      <td>...</td>\n",
       "      <td>0</td>\n",
       "      <td>0</td>\n",
       "      <td>0</td>\n",
       "      <td>0</td>\n",
       "      <td>0</td>\n",
       "      <td>0</td>\n",
       "      <td>0</td>\n",
       "      <td>0</td>\n",
       "      <td>0</td>\n",
       "      <td>0</td>\n",
       "    </tr>\n",
       "    <tr>\n",
       "      <th>3077</th>\n",
       "      <td>0</td>\n",
       "      <td>0</td>\n",
       "      <td>0</td>\n",
       "      <td>0</td>\n",
       "      <td>0</td>\n",
       "      <td>0</td>\n",
       "      <td>0</td>\n",
       "      <td>0</td>\n",
       "      <td>0</td>\n",
       "      <td>0</td>\n",
       "      <td>...</td>\n",
       "      <td>0</td>\n",
       "      <td>0</td>\n",
       "      <td>0</td>\n",
       "      <td>0</td>\n",
       "      <td>0</td>\n",
       "      <td>0</td>\n",
       "      <td>0</td>\n",
       "      <td>0</td>\n",
       "      <td>0</td>\n",
       "      <td>0</td>\n",
       "    </tr>\n",
       "    <tr>\n",
       "      <th>3078</th>\n",
       "      <td>0</td>\n",
       "      <td>0</td>\n",
       "      <td>0</td>\n",
       "      <td>0</td>\n",
       "      <td>0</td>\n",
       "      <td>0</td>\n",
       "      <td>0</td>\n",
       "      <td>0</td>\n",
       "      <td>0</td>\n",
       "      <td>0</td>\n",
       "      <td>...</td>\n",
       "      <td>0</td>\n",
       "      <td>0</td>\n",
       "      <td>0</td>\n",
       "      <td>0</td>\n",
       "      <td>1</td>\n",
       "      <td>0</td>\n",
       "      <td>0</td>\n",
       "      <td>0</td>\n",
       "      <td>0</td>\n",
       "      <td>0</td>\n",
       "    </tr>\n",
       "    <tr>\n",
       "      <th>3079</th>\n",
       "      <td>0</td>\n",
       "      <td>0</td>\n",
       "      <td>0</td>\n",
       "      <td>0</td>\n",
       "      <td>0</td>\n",
       "      <td>0</td>\n",
       "      <td>0</td>\n",
       "      <td>0</td>\n",
       "      <td>0</td>\n",
       "      <td>0</td>\n",
       "      <td>...</td>\n",
       "      <td>0</td>\n",
       "      <td>0</td>\n",
       "      <td>0</td>\n",
       "      <td>0</td>\n",
       "      <td>0</td>\n",
       "      <td>0</td>\n",
       "      <td>0</td>\n",
       "      <td>0</td>\n",
       "      <td>0</td>\n",
       "      <td>0</td>\n",
       "    </tr>\n",
       "    <tr>\n",
       "      <th>3080</th>\n",
       "      <td>0</td>\n",
       "      <td>0</td>\n",
       "      <td>0</td>\n",
       "      <td>0</td>\n",
       "      <td>0</td>\n",
       "      <td>0</td>\n",
       "      <td>0</td>\n",
       "      <td>0</td>\n",
       "      <td>0</td>\n",
       "      <td>0</td>\n",
       "      <td>...</td>\n",
       "      <td>0</td>\n",
       "      <td>0</td>\n",
       "      <td>0</td>\n",
       "      <td>0</td>\n",
       "      <td>0</td>\n",
       "      <td>0</td>\n",
       "      <td>0</td>\n",
       "      <td>0</td>\n",
       "      <td>0</td>\n",
       "      <td>0</td>\n",
       "    </tr>\n",
       "  </tbody>\n",
       "</table>\n",
       "<p>3081 rows × 70 columns</p>\n",
       "</div>"
      ],
      "text/plain": [
       "      \"3G\"  \"4G\"  \"Bluetooth\"  \"GPS\"]  2G  3G  4G  4G Bluetooth GPS LTE  \\\n",
       "0        0     0            0       0   0   0   0                     0   \n",
       "1        0     0            0       0   0   0   0                     0   \n",
       "2        0     0            0       0   0   0   1                     0   \n",
       "3        0     0            0       0   1   1   1                     0   \n",
       "4        0     0            0       0   0   0   1                     0   \n",
       "...    ...   ...          ...     ...  ..  ..  ..                   ...   \n",
       "3076     0     0            0       0   0   0   1                     0   \n",
       "3077     0     0            0       0   0   0   0                     0   \n",
       "3078     0     0            0       0   0   0   0                     0   \n",
       "3079     0     0            0       0   0   0   0                     0   \n",
       "3080     0     0            0       0   0   0   0                     0   \n",
       "\n",
       "      4G LTE  4G+  ...  WCDMA  WI-FI  WIFI  WIFI: 2.4G/5G  Wi-Fi  WiFi  Wifi  \\\n",
       "0          0    0  ...      0      0     0              0      0     0     0   \n",
       "1          0    0  ...      0      0     0              0      0     0     0   \n",
       "2          0    0  ...      0      0     0              0      0     0     0   \n",
       "3          0    0  ...      0      0     0              0      1     0     0   \n",
       "4          0    0  ...      0      0     0              0      0     0     0   \n",
       "...      ...  ...  ...    ...    ...   ...            ...    ...   ...   ...   \n",
       "3076       0    0  ...      0      0     0              0      0     0     0   \n",
       "3077       0    0  ...      0      0     0              0      0     0     0   \n",
       "3078       0    0  ...      0      0     0              0      1     0     0   \n",
       "3079       0    0  ...      0      0     0              0      0     0     0   \n",
       "3080       0    0  ...      0      0     0              0      0     0     0   \n",
       "\n",
       "      Wireless charging  [\"2G\"  microUSB 2.0  \n",
       "0                     0      0             0  \n",
       "1                     0      0             0  \n",
       "2                     0      0             0  \n",
       "3                     0      0             0  \n",
       "4                     0      0             0  \n",
       "...                 ...    ...           ...  \n",
       "3076                  0      0             0  \n",
       "3077                  0      0             0  \n",
       "3078                  0      0             0  \n",
       "3079                  0      0             0  \n",
       "3080                  0      0             0  \n",
       "\n",
       "[3081 rows x 70 columns]"
      ]
     },
     "execution_count": 299,
     "metadata": {},
     "output_type": "execute_result"
    }
   ],
   "source": [
    "Features"
   ],
   "metadata": {
    "collapsed": false,
    "pycharm": {
     "name": "#%%\n"
    }
   }
  },
  {
   "cell_type": "code",
   "execution_count": 300,
   "outputs": [
    {
     "data": {
      "text/plain": [
       "Index(['\"3G\"', '\"4G\"', '\"Bluetooth\"', '\"GPS\"]', '2G', '3G', '4G',\n",
       "       '4G Bluetooth GPS LTE', '4G LTE', '4G+',\n",
       "       '4G+,5G,Bluetooth,GPS,LTE,NFC,USB Type-C,Wi-Fi',\n",
       "       '4G,Bluetooth,GPS,Lightning,LTE,NFC,Wi-Fi', '4G,LTE', '5G',\n",
       "       '5G (A32 5G Models ONLY)', '5G (Galaxy A51 5G Only)',\n",
       "       '5G (Pixel 4A 5G Only)', '5G (Pixel 4a 5G ONLY)', '5G Bluetooth GPS',\n",
       "       '5G+', '5g capable', 'ANT+', 'Android Beam', 'Beidou', 'Bluetooth',\n",
       "       'Cellular', 'DLNA', 'Dual-Band', 'EDGE', 'FM', 'Fast Charge', 'GPRS',\n",
       "       'GPS', 'GSM', 'GSM Unlocked', 'Galileo', 'Global Version', 'Glonass',\n",
       "       'HDMI Micro', 'Headphone Jack', 'Infrared', 'LTE', 'Lightning',\n",
       "       'Micro USB', 'Micro USB 2.0', 'NFC', 'OTA', 'OTG', 'Quad-Band',\n",
       "       'Tri-Band', 'Type-C', 'Type-C port', 'USB', 'USB 2.0', 'USB 3.1',\n",
       "       'USB Type-C', 'USB Type-C 3.1', 'USB Type-C,5G,Bluetooth,Wi-Fi,NFC',\n",
       "       'USB Type-C,Bluetooth,Wi-Fi,NFC', 'WAP', 'WCDMA', 'WI-FI', 'WIFI',\n",
       "       'WIFI: 2.4G/5G', 'Wi-Fi', 'WiFi', 'Wifi', 'Wireless charging', '[\"2G\"',\n",
       "       'microUSB 2.0'],\n",
       "      dtype='object')"
      ]
     },
     "execution_count": 300,
     "metadata": {},
     "output_type": "execute_result"
    }
   ],
   "source": [
    "Features.columns"
   ],
   "metadata": {
    "collapsed": false,
    "pycharm": {
     "name": "#%%\n"
    }
   }
  },
  {
   "cell_type": "code",
   "execution_count": 301,
   "outputs": [],
   "source": [
    "#идея в том, что блютуз, wifi и 3g ессть практически во всех телефонах, поэтому выделять их в отдельную колонку не имеет смысла\n",
    "Features['4G'] = Features['4G'] + Features['\"4G\"'] + Features['4G Bluetooth GPS LTE'] + Features['4G LTE'] + Features['4G+'] + Features['4G+,5G,Bluetooth,GPS,LTE,NFC,USB Type-C,Wi-Fi'] + Features['4G,Bluetooth,GPS,Lightning,LTE,NFC,Wi-Fi'] + Features['4G,LTE'] + Features['LTE']\n",
    "Features['5G'] = Features['5G'] + Features['5G (A32 5G Models ONLY)'] + Features['5G (Galaxy A51 5G Only)'] + Features['5G (Pixel 4A 5G Only)'] + Features['5G (Pixel 4a 5G ONLY)'] + Features['5G Bluetooth GPS'] + Features['5G+'] + Features['5g capable'] + Features['USB Type-C,5G,Bluetooth,Wi-Fi,NFC']\n",
    "Features['Type-c'] = Features['Type-C'] + Features['Type-C port'] + Features['USB Type-C'] + Features['USB Type-C 3.1'] + Features['USB Type-C,5G,Bluetooth,Wi-Fi,NFC'] + Features['USB Type-C,Bluetooth,Wi-Fi,NFC']\n",
    "Features['Fast_usb'] = Features['USB Type-C 3.1'] + Features['USB 3.1']\n",
    "Features['NFC'] = Features['NFC'] + Features['USB Type-C,5G,Bluetooth,Wi-Fi,NFC'] + Features['4G+,5G,Bluetooth,GPS,LTE,NFC,USB Type-C,Wi-Fi'] + Features['4G,Bluetooth,GPS,Lightning,LTE,NFC,Wi-Fi']"
   ],
   "metadata": {
    "collapsed": false,
    "pycharm": {
     "name": "#%%\n"
    }
   }
  },
  {
   "cell_type": "code",
   "execution_count": 302,
   "outputs": [],
   "source": [
    "Reasonable = Features[['4G', '5G', 'Type-c', 'Fast_usb', 'NFC', 'Dual-Band', 'FM', 'Global Version', 'HDMI Micro',\n",
    "                       'Headphone Jack', 'Infrared', 'Lightning', 'Quad-Band', 'Tri-Band', 'Wireless charging']]"
   ],
   "metadata": {
    "collapsed": false,
    "pycharm": {
     "name": "#%%\n"
    }
   }
  },
  {
   "cell_type": "code",
   "execution_count": 303,
   "outputs": [
    {
     "name": "stderr",
     "output_type": "stream",
     "text": [
      "C:\\Users\\Luka\\AppData\\Local\\Temp\\ipykernel_724\\2077285632.py:1: SettingWithCopyWarning: \n",
      "A value is trying to be set on a copy of a slice from a DataFrame\n",
      "\n",
      "See the caveats in the documentation: https://pandas.pydata.org/pandas-docs/stable/user_guide/indexing.html#returning-a-view-versus-a-copy\n",
      "  Reasonable.loc[Reasonable.values > 1] = 1\n"
     ]
    }
   ],
   "source": [
    "Reasonable.loc[Reasonable.values > 1] = 1"
   ],
   "metadata": {
    "collapsed": false,
    "pycharm": {
     "name": "#%%\n"
    }
   }
  },
  {
   "cell_type": "code",
   "execution_count": 304,
   "outputs": [
    {
     "data": {
      "text/plain": [
       "0"
      ]
     },
     "execution_count": 304,
     "metadata": {},
     "output_type": "execute_result"
    }
   ],
   "source": [
    "(Reasonable.values > 1).sum()"
   ],
   "metadata": {
    "collapsed": false,
    "pycharm": {
     "name": "#%%\n"
    }
   }
  },
  {
   "cell_type": "code",
   "execution_count": 305,
   "outputs": [
    {
     "data": {
      "text/plain": [
       "128 GB           645\n",
       "64 GB            588\n",
       "32 GB            273\n",
       "256 GB           176\n",
       "16 GB            162\n",
       "                ... \n",
       "128GB 256GB        1\n",
       "64 / 128 GB        1\n",
       "256 GB, 512GB      1\n",
       "64GB, 128GB        1\n",
       "64 GB 256GB        1\n",
       "Name: Storage Capacity, Length: 122, dtype: int64"
      ]
     },
     "execution_count": 305,
     "metadata": {},
     "output_type": "execute_result"
    }
   ],
   "source": [
    "df['Storage Capacity'].value_counts()\n",
    "#убираем везде гиги за шаги а дальше развлекаемся"
   ],
   "metadata": {
    "collapsed": false,
    "pycharm": {
     "name": "#%%\n"
    }
   }
  },
  {
   "cell_type": "code",
   "execution_count": 306,
   "outputs": [],
   "source": [
    "df['Storage Capacity'] = df['Storage Capacity'].str.extract(r'(\\d+)')\n",
    "df['Storage Capacity'] = pd.to_numeric(df['Storage Capacity'])"
   ],
   "metadata": {
    "collapsed": false,
    "pycharm": {
     "name": "#%%\n"
    }
   }
  },
  {
   "cell_type": "code",
   "execution_count": 307,
   "outputs": [
    {
     "data": {
      "text/plain": [
       "128.0    817\n",
       "64.0     764\n",
       "32.0     350\n",
       "256.0    274\n",
       "16.0     205\n",
       "512.0     60\n",
       "8.0       53\n",
       "4.0       27\n",
       "1.0        9\n",
       "2.0        3\n",
       "23.0       1\n",
       "440.0      1\n",
       "12.0       1\n",
       "Name: Storage Capacity, dtype: int64"
      ]
     },
     "execution_count": 307,
     "metadata": {},
     "output_type": "execute_result"
    }
   ],
   "source": [
    "df['Storage Capacity'].value_counts()"
   ],
   "metadata": {
    "collapsed": false,
    "pycharm": {
     "name": "#%%\n"
    }
   }
  },
  {
   "cell_type": "code",
   "execution_count": 308,
   "outputs": [
    {
     "data": {
      "text/plain": [
       "Index(['Title', 'Price', 'Shipping_cost', 'Sales_Count', 'Sales_Value', 'Link',\n",
       "       'Condition', 'Seller Notes', 'Brand', 'Model', 'Storage Capacity',\n",
       "       'Network', 'Camera Resolution', 'Screen Size', 'Lock Status', 'RAM',\n",
       "       'Contract', 'Operating System', 'Model Number', 'Style', 'MPN',\n",
       "       'Connectivity', 'Features', 'SIM Card Slot', 'Memory Card Type',\n",
       "       'Processor', 'Color'],\n",
       "      dtype='object')"
      ]
     },
     "execution_count": 308,
     "metadata": {},
     "output_type": "execute_result"
    }
   ],
   "source": [
    "df.columns"
   ],
   "metadata": {
    "collapsed": false,
    "pycharm": {
     "name": "#%%\n"
    }
   }
  },
  {
   "cell_type": "code",
   "execution_count": 309,
   "outputs": [
    {
     "data": {
      "text/plain": [
       "Unlocked                                                                                                                                                    1163\n",
       "Verizon                                                                                                                                                      257\n",
       "Factory Unlocked                                                                                                                                             118\n",
       "T-Mobile                                                                                                                                                     115\n",
       "AT&T                                                                                                                                                          93\n",
       "                                                                                                                                                            ... \n",
       "AT&T, T-Mobile, Most GSM Netwowks                                                                                                                              1\n",
       "Factory Unlocked, AT&T, Claro, Cricket Wireless, Metro, Straight Talk, Telcel, T-Mobile, TracFone, Unlocked                                                    1\n",
       "Unlocked, GSM, CDMA, WCDMA, FDD, TDD                                                                                                                           1\n",
       "AT&T, Consumer Cellular, Cricket Wireless, h2o, Metro, Rogers Wireless, SIMPLE Mobile, Sprint, Straight Talk, T-Mobile, U.S. Cellular, Unlocked, Verizon       1\n",
       "AT&T, Cricket Wireless, Metro, T-Mobile, Verizon, GSM Unlocked                                                                                                 1\n",
       "Name: Network, Length: 264, dtype: int64"
      ]
     },
     "execution_count": 309,
     "metadata": {},
     "output_type": "execute_result"
    }
   ],
   "source": [
    "#тут есть операторские и не операторские телефоны. сразу разделим их и не будем работать с конкретными операторами\n",
    "df['Network'].value_counts()"
   ],
   "metadata": {
    "collapsed": false,
    "pycharm": {
     "name": "#%%\n"
    }
   }
  },
  {
   "cell_type": "code",
   "execution_count": 310,
   "outputs": [],
   "source": [
    "df.loc[df['Network'] != 'Unlocked', 'Network'] = 'Operator'"
   ],
   "metadata": {
    "collapsed": false,
    "pycharm": {
     "name": "#%%\n"
    }
   }
  },
  {
   "cell_type": "code",
   "execution_count": 311,
   "outputs": [
    {
     "data": {
      "text/plain": [
       "Operator    1918\n",
       "Unlocked    1163\n",
       "Name: Network, dtype: int64"
      ]
     },
     "execution_count": 311,
     "metadata": {},
     "output_type": "execute_result"
    }
   ],
   "source": [
    "df['Network'].value_counts()"
   ],
   "metadata": {
    "collapsed": false,
    "pycharm": {
     "name": "#%%\n"
    }
   }
  },
  {
   "cell_type": "code",
   "execution_count": 312,
   "outputs": [
    {
     "data": {
      "text/plain": [
       "12.0 MP                       951\n",
       "12.0MP                        202\n",
       "16.0 MP                       156\n",
       "8.0 MP                        109\n",
       "13.0 MP                       107\n",
       "                             ... \n",
       "Triple 48 MP + 8 MP + 5 MP      1\n",
       "8.0 MP, 16.0MP, 48.0 MP         1\n",
       "108 MP                          1\n",
       "50 MP                           1\n",
       "32 megapixels                   1\n",
       "Name: Camera Resolution, Length: 157, dtype: int64"
      ]
     },
     "execution_count": 312,
     "metadata": {},
     "output_type": "execute_result"
    }
   ],
   "source": [
    "#в камере есть наблюдения с тройными четверными и т.д. камерами, но мы просто вырезаем мегапиксели оттуда :D\n",
    "df['Camera Resolution'].value_counts()"
   ],
   "metadata": {
    "collapsed": false,
    "pycharm": {
     "name": "#%%\n"
    }
   }
  },
  {
   "cell_type": "code",
   "execution_count": 313,
   "outputs": [],
   "source": [
    "df['Camera Resolution'] = df['Camera Resolution'].str.extract(r'(\\d+)')\n",
    "df['Camera Resolution'] = pd.to_numeric(df['Camera Resolution'])"
   ],
   "metadata": {
    "collapsed": false,
    "pycharm": {
     "name": "#%%\n"
    }
   }
  },
  {
   "cell_type": "code",
   "execution_count": 314,
   "outputs": [
    {
     "data": {
      "text/plain": [
       "12.0      1429\n",
       "16.0       292\n",
       "8.0        146\n",
       "48.0       134\n",
       "13.0       130\n",
       "5.0         93\n",
       "64.0        92\n",
       "108.0       60\n",
       "50.0        42\n",
       "2.0         19\n",
       "32.0        15\n",
       "24.0        13\n",
       "25.0        11\n",
       "750.0        9\n",
       "3200.0       9\n",
       "20.0         9\n",
       "40.0         8\n",
       "100.0        7\n",
       "21.0         7\n",
       "3.0          6\n",
       "11.0         6\n",
       "1.0          4\n",
       "10.0         3\n",
       "1334.0       3\n",
       "0.0          3\n",
       "7.0          2\n",
       "72.0         2\n",
       "14.0         1\n",
       "6.0          1\n",
       "1080.0       1\n",
       "200.0        1\n",
       "19.0         1\n",
       "41.0         1\n",
       "Name: Camera Resolution, dtype: int64"
      ]
     },
     "execution_count": 314,
     "metadata": {},
     "output_type": "execute_result"
    }
   ],
   "source": [
    "#в камере есть наблюдения с тройными четверными и т.д. камерами, но мы просто вырезаем мегапиксели оттуда :D\n",
    "df['Camera Resolution'].value_counts()"
   ],
   "metadata": {
    "collapsed": false,
    "pycharm": {
     "name": "#%%\n"
    }
   }
  },
  {
   "cell_type": "code",
   "execution_count": 315,
   "outputs": [],
   "source": [
    "df.loc[df['Camera Resolution'] > 100, 'Camera Resolution'] = 32"
   ],
   "metadata": {
    "collapsed": false,
    "pycharm": {
     "name": "#%%\n"
    }
   }
  },
  {
   "cell_type": "code",
   "execution_count": 316,
   "outputs": [
    {
     "data": {
      "text/plain": [
       "6.1 in                               294\n",
       "5.8 in                               257\n",
       "6.5 in                               182\n",
       "4.7 in                               157\n",
       "6.4 in                               128\n",
       "                                    ... \n",
       "6.517 in                               1\n",
       "Pixel 3 5.5 in, Pixel 3 XL 6.3 In      1\n",
       "6.82 in                                1\n",
       "6.52\"                                  1\n",
       "6.78''                                 1\n",
       "Name: Screen Size, Length: 149, dtype: int64"
      ]
     },
     "execution_count": 316,
     "metadata": {},
     "output_type": "execute_result"
    }
   ],
   "source": [
    "#все одно и то же, достаем оттуда все-все-все\n",
    "df['Screen Size'].value_counts()"
   ],
   "metadata": {
    "collapsed": false,
    "pycharm": {
     "name": "#%%\n"
    }
   }
  },
  {
   "cell_type": "code",
   "execution_count": 317,
   "outputs": [],
   "source": [
    "df['Screen Size'] = df['Screen Size'].str.extract(r'(\\d+\\.\\d+)')\n",
    "df['Screen Size'] = pd.to_numeric(df['Screen Size'])"
   ],
   "metadata": {
    "collapsed": false,
    "pycharm": {
     "name": "#%%\n"
    }
   }
  },
  {
   "cell_type": "code",
   "execution_count": 318,
   "outputs": [
    {
     "data": {
      "text/plain": [
       "6.10    339\n",
       "5.80    309\n",
       "4.70    216\n",
       "6.50    193\n",
       "5.50    153\n",
       "       ... \n",
       "4.95      1\n",
       "3.70      1\n",
       "3.22      1\n",
       "7.00      1\n",
       "6.78      1\n",
       "Name: Screen Size, Length: 70, dtype: int64"
      ]
     },
     "execution_count": 318,
     "metadata": {},
     "output_type": "execute_result"
    }
   ],
   "source": [
    "#все одно и то же, достаем оттуда все-все-все\n",
    "df['Screen Size'].value_counts()"
   ],
   "metadata": {
    "collapsed": false,
    "pycharm": {
     "name": "#%%\n"
    }
   }
  },
  {
   "cell_type": "code",
   "execution_count": 319,
   "outputs": [
    {
     "data": {
      "text/plain": [
       "4 GB                                      612\n",
       "6 GB                                      321\n",
       "2 GB                                      310\n",
       "8 GB                                      279\n",
       "3 GB                                      268\n",
       "12 GB                                     118\n",
       "4GB                                        80\n",
       "3GB                                        50\n",
       "2GB                                        49\n",
       "1 GB                                       43\n",
       "12GB                                       41\n",
       "8GB                                        41\n",
       "16 GB                                      15\n",
       "6GB                                        14\n",
       "1.5GB                                      12\n",
       "4GB/6GB                                    10\n",
       "1.5 GB                                      8\n",
       "4GB/8GB                                     7\n",
       "512 MB                                      6\n",
       "8GB, 12GB, 16GB                             5\n",
       "512MB                                       5\n",
       "1GB                                         4\n",
       "4GB/6GB/8GB                                 3\n",
       "3GB/4GB                                     2\n",
       "6GB/8GB                                     2\n",
       "256MB                                       2\n",
       "6GB, LPDDR4x dual-channel                   2\n",
       "1.5                                         2\n",
       "4 GB 6GB                                    1\n",
       "256 MB                                      1\n",
       "8/12/16GB                                   1\n",
       "32MB                                        1\n",
       "32GB                                        1\n",
       "512mb                                       1\n",
       "&lt;1GB                                     1\n",
       "64 MB                                       1\n",
       "2GB RAM                                     1\n",
       "768M                                        1\n",
       "6 GB | 8GB                                  1\n",
       "4-6GB (Varies by model & storage)           1\n",
       "768MB                                       1\n",
       "1                                           1\n",
       "8 GB, 12 GB                                 1\n",
       "4 / 6GB                                     1\n",
       "768 MB                                      1\n",
       "8 GB / 6 GB                                 1\n",
       "128GB Models: 8GB | 256GB Models: 12GB      1\n",
       "0.7 GB                                      1\n",
       "Galaxy A51: 4GB | Galaxy A51 5G: 6GB        1\n",
       "32GB Models: 3 GB | 128GB Models: 4 GB      1\n",
       "3GB LPDDR3                                  1\n",
       "8GB/ 12GB /16GB                             1\n",
       "Name: RAM, dtype: int64"
      ]
     },
     "execution_count": 319,
     "metadata": {},
     "output_type": "execute_result"
    }
   ],
   "source": [
    "#все то же самое с оперативкой\n",
    "df['RAM'].value_counts()"
   ],
   "metadata": {
    "collapsed": false,
    "pycharm": {
     "name": "#%%\n"
    }
   }
  },
  {
   "cell_type": "code",
   "execution_count": 320,
   "outputs": [],
   "source": [
    "df['RAM'] = df['RAM'].str.extract(r'(\\d+)')\n",
    "df['RAM'] = pd.to_numeric(df['RAM'])"
   ],
   "metadata": {
    "collapsed": false,
    "pycharm": {
     "name": "#%%\n"
    }
   }
  },
  {
   "cell_type": "code",
   "execution_count": 321,
   "outputs": [
    {
     "data": {
      "text/plain": [
       "4.0      715\n",
       "2.0      360\n",
       "6.0      340\n",
       "8.0      329\n",
       "3.0      321\n",
       "12.0     159\n",
       "1.0       71\n",
       "16.0      15\n",
       "512.0     12\n",
       "32.0       3\n",
       "256.0      3\n",
       "768.0      3\n",
       "51.0       1\n",
       "0.0        1\n",
       "128.0      1\n",
       "64.0       1\n",
       "Name: RAM, dtype: int64"
      ]
     },
     "execution_count": 321,
     "metadata": {},
     "output_type": "execute_result"
    }
   ],
   "source": [
    "#все то же самое с оперативкой\n",
    "df['RAM'].value_counts()"
   ],
   "metadata": {
    "collapsed": false,
    "pycharm": {
     "name": "#%%\n"
    }
   }
  },
  {
   "cell_type": "code",
   "execution_count": 322,
   "outputs": [],
   "source": [
    "df.loc[df['RAM'] > 16, 'RAM'] = 8"
   ],
   "metadata": {
    "collapsed": false,
    "pycharm": {
     "name": "#%%\n"
    }
   }
  },
  {
   "cell_type": "code",
   "execution_count": 323,
   "outputs": [
    {
     "data": {
      "text/plain": [
       "Without Contract                          2172\n",
       "Prepaid                                     50\n",
       "unlocked                                    27\n",
       "With Contract                               26\n",
       "Google Fi Network                            3\n",
       "Unlocked                                     2\n",
       "Sprint Bad ESN NOT for carrier unlock        2\n",
       "Without Contract AT&T With Unlock Code       2\n",
       "locked                                       2\n",
       "Unlocked Smartphone                          1\n",
       "Locked                                       1\n",
       "na                                           1\n",
       "Name: Contract, dtype: int64"
      ]
     },
     "execution_count": 323,
     "metadata": {},
     "output_type": "execute_result"
    }
   ],
   "source": [
    "df.Contract.value_counts()"
   ],
   "metadata": {
    "collapsed": false,
    "pycharm": {
     "name": "#%%\n"
    }
   }
  },
  {
   "cell_type": "code",
   "execution_count": 324,
   "outputs": [
    {
     "data": {
      "text/plain": [
       "Android                                             1627\n",
       "iOS                                                  781\n",
       "iOS - Apple                                           80\n",
       "IOS                                                   37\n",
       "Android 11                                            31\n",
       "Android 10                                            19\n",
       "Android 12                                            16\n",
       "BlackBerry OS                                         11\n",
       "Android OS                                             9\n",
       "BlackBerry 3-7                                         9\n",
       "ANDROID                                                6\n",
       "KaiOS                                                  6\n",
       "OxygenOS                                               5\n",
       "Android OS 12 system                                   5\n",
       "Android 10.0                                           5\n",
       "Android 11.0                                           4\n",
       "Android 9                                              4\n",
       "Windows Mobile                                         4\n",
       "Android 10 Go                                          3\n",
       "BlackBerry 10                                          2\n",
       "Android 9.0                                            2\n",
       "Microsoft mobile OS which is no longer supported       2\n",
       "Android 8.1 (Oreo)                                     2\n",
       "Windows Phone 8                                        2\n",
       "Android 12 ( Snow Cone)                                1\n",
       "Microsoft Windows Phone                                1\n",
       "Android (Marshmallow)                                  1\n",
       "for  4.4.2                                             1\n",
       "Aliyun OS                                              1\n",
       "S30+                                                   1\n",
       "Ubuntu                                                 1\n",
       "Android 6.0                                            1\n",
       "Fire OS                                                1\n",
       "BlackBerry OS 5                                        1\n",
       "Android 10, MIUI 12                                    1\n",
       "Android 12.0                                           1\n",
       "Hybrid                                                 1\n",
       "Android 7.0                                            1\n",
       "for Android  4.4.2                                     1\n",
       "Proprietary                                            1\n",
       "Meego                                                  1\n",
       "Name: Operating System, dtype: int64"
      ]
     },
     "execution_count": 324,
     "metadata": {},
     "output_type": "execute_result"
    }
   ],
   "source": [
    "df['Operating System'].value_counts()"
   ],
   "metadata": {
    "collapsed": false,
    "pycharm": {
     "name": "#%%\n"
    }
   }
  },
  {
   "cell_type": "code",
   "execution_count": 325,
   "outputs": [
    {
     "name": "stderr",
     "output_type": "stream",
     "text": [
      "C:\\Users\\Luka\\AppData\\Local\\Temp\\ipykernel_724\\3613456212.py:1: FutureWarning: The default value of regex will change from True to False in a future version.\n",
      "  df['Operating System'] = df['Operating System'].str.replace(r'Android\\b.*', 'Android')\n"
     ]
    }
   ],
   "source": [
    "df['Operating System'] = df['Operating System'].str.replace(r'Android\\b.*', 'Android')"
   ],
   "metadata": {
    "collapsed": false,
    "pycharm": {
     "name": "#%%\n"
    }
   }
  },
  {
   "cell_type": "code",
   "execution_count": 326,
   "outputs": [],
   "source": [
    "df.loc[(df['Operating System'] == 'iOS') | (df['Operating System'] == 'IOS') | (df['Operating System'] == 'iOS - Apple'), 'Operating System'] = 'IOS'"
   ],
   "metadata": {
    "collapsed": false,
    "pycharm": {
     "name": "#%%\n"
    }
   }
  },
  {
   "cell_type": "code",
   "execution_count": 327,
   "outputs": [],
   "source": [
    "df.loc[(df['Operating System'] != 'IOS') & (df['Operating System'] != 'Android'), 'Operating System'] = 'Other'"
   ],
   "metadata": {
    "collapsed": false,
    "pycharm": {
     "name": "#%%\n"
    }
   }
  },
  {
   "cell_type": "code",
   "execution_count": 328,
   "outputs": [
    {
     "data": {
      "text/plain": [
       "Android    1733\n",
       "IOS         898\n",
       "Other       450\n",
       "Name: Operating System, dtype: int64"
      ]
     },
     "execution_count": 328,
     "metadata": {},
     "output_type": "execute_result"
    }
   ],
   "source": [
    "df['Operating System'].value_counts()"
   ],
   "metadata": {
    "collapsed": false,
    "pycharm": {
     "name": "#%%\n"
    }
   }
  },
  {
   "cell_type": "code",
   "execution_count": 329,
   "outputs": [
    {
     "data": {
      "text/plain": [
       "Bar                                                  1692\n",
       "Smartphone                                            279\n",
       "Flip                                                   17\n",
       "Slate                                                  15\n",
       "Foldable                                               13\n",
       "Smart Phone                                             6\n",
       "Rugged                                                  6\n",
       "Touch Screen                                            6\n",
       "Outdoor Smartphone Unlocked                             4\n",
       "Outdoor Handy Rugged Smartphone                         3\n",
       "Swivel                                                  3\n",
       "Slider                                                  3\n",
       "Does not apply                                          2\n",
       "Outdoor Unlocked Rugged Smartphone                      2\n",
       "Bar / Smart Phone                                       2\n",
       "5G Rugged Smartphones                                   1\n",
       "DOSE NOT APPLY                                          1\n",
       "Unlocked 5G Rugged Smartphones                          1\n",
       "Cell Phone                                              1\n",
       "Material: transparent shell                             1\n",
       "Night Vision Rugged Smartphone                          1\n",
       "Outdoor Android 12 Unlocked Smartphone                  1\n",
       "SmartPhone                                              1\n",
       "Waterproof Smartphone                                   1\n",
       "Android                                                 1\n",
       "Wall Outlet To Triple USB Socket Adapter + Cables       1\n",
       "Outdoor Smartphone                                      1\n",
       "Outdoor Waterproof Smartphone                           1\n",
       "Phone Only                                              1\n",
       "Name: Style, dtype: int64"
      ]
     },
     "execution_count": 329,
     "metadata": {},
     "output_type": "execute_result"
    }
   ],
   "source": [
    "df['Style'].value_counts()"
   ],
   "metadata": {
    "collapsed": false,
    "pycharm": {
     "name": "#%%\n"
    }
   }
  },
  {
   "cell_type": "code",
   "execution_count": 331,
   "outputs": [
    {
     "data": {
      "text/plain": [
       "Internet Browser, Near Field Communication, Touchscreen, 3G Data Capable, 4G Data Capable, Bluetooth Enabled, Global Ready, GPS, Music Player, Speakerphone, TTY Compatible, Voice-Activated Dialing, Wi-Fi Capable                                                                                            58\n",
       "4K Video Recording, AMOLED Display                                                                                                                                                                                                                                                                             35\n",
       "Super Retina Xdr Display, Fast Wireless Charging, Dust-Resistant, OLED Display, Telephoto Lens, Water-Resistant, 4K Video Recording, Facial Recognition, Wide-Angle Camera, Ultra Wide-Angle Camera, HDR Display, eSIM, Fast Charging, Triple Rear Camera                                                      34\n",
       "Liquid Retina HD Display, Water-Resistant, Facial Recognition, 4K Video Recording, Wide-Angle Camera, Fast Wireless Charging, Dust-Resistant, Ultra Wide-Angle Camera, Dual Rear Cameras, eSIM, Fast Charging                                                                                                  31\n",
       "Rugged                                                                                                                                                                                                                                                                                                         30\n",
       "                                                                                                                                                                                                                                                                                                               ..\n",
       "3G Data Capable, 4G Data Capable, 4K Video Recording, Accelerometer, Barometer, Bluetooth Enabled, Camera, Fingerprint Sensor, Global Ready, NFC Connectivity                                                                                                                                                   1\n",
       "RGB Light Sensor, Accelerometer, AMOLED Display, Barometer, Fast Wireless Charging, Fingerprint Sensor, Geomagnetic sensor, Gyro Sensor, Hall Effect Sensor, Proximity Sensor, Wide-Angle Camera                                                                                                                1\n",
       "3D Depth Camera, 3D Depth Sensor, 3D Face Recognition, 4K Video Recording, Accelerometer, Active Edge, Ambient Light Sensor, AMOLED Display, ANT+, Barometer, Bluetooth Enabled, Facial Recognition, Fast Wireless Charging, Fingerprint Sensor, GPS, Gyro Sensor, Nano SIM, Water-Resistant, Wi-Fi Capable     1\n",
       "3D Depth Camera, 3D Depth Sensor, 3D Face Recognition, 4K Video Recording, 8K Video Recording, Accelerometer, Ambient Light Sensor, AMOLED Display, Barometer                                                                                                                                                   1\n",
       "Accelerometer, Active Edge, Ambient Light Sensor, AMOLED Display, Bluetooth Enabled                                                                                                                                                                                                                             1\n",
       "Name: Features, Length: 851, dtype: int64"
      ]
     },
     "execution_count": 331,
     "metadata": {},
     "output_type": "execute_result"
    }
   ],
   "source": [
    "df['Features'].value_counts() #юзлесс"
   ],
   "metadata": {
    "collapsed": false,
    "pycharm": {
     "name": "#%%\n"
    }
   }
  },
  {
   "cell_type": "code",
   "execution_count": 333,
   "outputs": [
    {
     "data": {
      "text/plain": [
       "Single SIM                            1707\n",
       "Dual SIM                                83\n",
       "Dual SIM (SIM + SIM)                    71\n",
       "Dual SIM (SIM + eSIM)                   63\n",
       "Dual SIM (SIM + SIM + Memory Card)      61\n",
       "Dual SIM (SIM + SIM/Memory Card)        50\n",
       "Nano-SIM                                 6\n",
       "eSIM                                     2\n",
       "Dual Nano SIM                            1\n",
       "Name: SIM Card Slot, dtype: int64"
      ]
     },
     "execution_count": 333,
     "metadata": {},
     "output_type": "execute_result"
    }
   ],
   "source": [
    "df['SIM Card Slot'].value_counts() #норм"
   ],
   "metadata": {
    "collapsed": false,
    "pycharm": {
     "name": "#%%\n"
    }
   }
  },
  {
   "cell_type": "code",
   "execution_count": 335,
   "outputs": [
    {
     "data": {
      "text/plain": [
       "MicroSD                                        930\n",
       "microSDXC                                      187\n",
       "Not Applicable                                 131\n",
       "Built-In Memory                                 88\n",
       "None                                            65\n",
       "CompactFlash                                    49\n",
       "MicroSDHC                                       18\n",
       "MicroSDXC                                       13\n",
       "Internal                                        10\n",
       "MicroSD, MicroSDHC                               9\n",
       "TransFlash Card                                  8\n",
       "Not Applicabe                                    8\n",
       "microSDXC (uses shared SIM slot)                 6\n",
       "MiniSD                                           5\n",
       "microSDXC (dedicated slot)                       5\n",
       "MicroSD, MicroSDHC, MicroSDXC                    5\n",
       "In-Build                                         5\n",
       "microSDXC (dedicated slot), 2 GB included        4\n",
       "microSD, up to 400 GB                            4\n",
       "TF CARD                                          4\n",
       "microSDXC, microsSDHC, microsSD                  4\n",
       "NM Card                                          4\n",
       "SD Memory Card                                   4\n",
       "TF CARD （Up to 256GB）                            4\n",
       "Not Available                                    4\n",
       "Built in Memory                                  3\n",
       "microSD                                          3\n",
       "No                                               3\n",
       "Does Not Apply                                   3\n",
       "Micro SD                                         2\n",
       "No Applicable                                    2\n",
       "eMMC                                             2\n",
       "Does not apply                                   2\n",
       "n/A                                              1\n",
       "MicroSD | Micro SDHC | Micro SDXC | TF Card      1\n",
       "Support Extra Memory Card 32GB At Max            1\n",
       "Support 64GB TF Card At Max                      1\n",
       "inbuild                                          1\n",
       "x                                                1\n",
       "Non Expandable Memory                            1\n",
       "Internal memory                                  1\n",
       "NOT APPLICABLE                                   1\n",
       "In-Built                                         1\n",
       "Micro Sd                                         1\n",
       "Built in                                         1\n",
       "No Memory Card                                   1\n",
       "no sd card                                       1\n",
       "Built-In Storage                                 1\n",
       "non expndable memory                             1\n",
       "No Slot                                          1\n",
       "MicroSD, microSDXC                               1\n",
       "Name: Memory Card Type, dtype: int64"
      ]
     },
     "execution_count": 335,
     "metadata": {},
     "output_type": "execute_result"
    }
   ],
   "source": [
    "#выглядит юзлесс\n",
    "df['Memory Card Type'].value_counts()"
   ],
   "metadata": {
    "collapsed": false,
    "pycharm": {
     "name": "#%%\n"
    }
   }
  },
  {
   "cell_type": "code",
   "execution_count": 336,
   "outputs": [
    {
     "data": {
      "text/plain": [
       "Octa Core                                1227\n",
       "Hexa Core                                 534\n",
       "Quad Core                                 269\n",
       "Dual Core                                 116\n",
       "Octa-core                                  25\n",
       "                                         ... \n",
       "1.5Ghz                                      1\n",
       "A15 Bionic chip                             1\n",
       "Qualcomm Snapdragon™ 855 Octa-core          1\n",
       "Mediatek MT6765 Helio P35 (Octa-Core)       1\n",
       "Google Tensor G2 (5 nm)                     1\n",
       "Name: Processor, Length: 70, dtype: int64"
      ]
     },
     "execution_count": 336,
     "metadata": {},
     "output_type": "execute_result"
    }
   ],
   "source": [
    "df['Processor'].value_counts() #тоже юзлесс, т.к.есть много мусорных признаков"
   ],
   "metadata": {
    "collapsed": false,
    "pycharm": {
     "name": "#%%\n"
    }
   }
  },
  {
   "cell_type": "code",
   "execution_count": 337,
   "outputs": [],
   "source": [
    "data = pd.concat([df, Reasonable], axis = 1)"
   ],
   "metadata": {
    "collapsed": false,
    "pycharm": {
     "name": "#%%\n"
    }
   }
  },
  {
   "cell_type": "code",
   "execution_count": 339,
   "outputs": [
    {
     "data": {
      "text/plain": [
       "Index(['Title', 'Price', 'Shipping_cost', 'Sales_Count', 'Sales_Value', 'Link',\n",
       "       'Condition', 'Seller Notes', 'Brand', 'Model', 'Storage Capacity',\n",
       "       'Network', 'Camera Resolution', 'Screen Size', 'Lock Status', 'RAM',\n",
       "       'Contract', 'Operating System', 'Model Number', 'Style', 'MPN',\n",
       "       'Connectivity', 'Features', 'SIM Card Slot', 'Memory Card Type',\n",
       "       'Processor', 'Color', '4G', '5G', 'Type-c', 'Fast_usb', 'NFC',\n",
       "       'Dual-Band', 'FM', 'Global Version', 'HDMI Micro', 'Headphone Jack',\n",
       "       'Infrared', 'Lightning', 'Quad-Band', 'Tri-Band', 'Wireless charging'],\n",
       "      dtype='object')"
      ]
     },
     "execution_count": 339,
     "metadata": {},
     "output_type": "execute_result"
    }
   ],
   "source": [
    "data.columns"
   ],
   "metadata": {
    "collapsed": false,
    "pycharm": {
     "name": "#%%\n"
    }
   }
  },
  {
   "cell_type": "code",
   "execution_count": 350,
   "outputs": [
    {
     "data": {
      "text/plain": [
       "Title                   0\n",
       "Price                   0\n",
       "Shipping_cost           0\n",
       "Sales_Count             0\n",
       "Sales_Value             0\n",
       "Link                    0\n",
       "Condition               0\n",
       "Seller Notes          881\n",
       "Brand                   8\n",
       "Model                 170\n",
       "Storage Capacity      516\n",
       "Network                 0\n",
       "Camera Resolution     521\n",
       "Screen Size           703\n",
       "Lock Status           756\n",
       "RAM                   746\n",
       "Contract              792\n",
       "Operating System        0\n",
       "Model Number         1120\n",
       "Style                1014\n",
       "MPN                   725\n",
       "Connectivity          751\n",
       "Features              865\n",
       "SIM Card Slot        1037\n",
       "Memory Card Type     1469\n",
       "Processor             723\n",
       "Color                1877\n",
       "4G                      0\n",
       "5G                      0\n",
       "Type-c                  0\n",
       "Fast_usb                0\n",
       "NFC                     0\n",
       "Dual-Band               0\n",
       "FM                      0\n",
       "Global Version          0\n",
       "HDMI Micro              0\n",
       "Headphone Jack          0\n",
       "Infrared                0\n",
       "Lightning               0\n",
       "Quad-Band               0\n",
       "Tri-Band                0\n",
       "Wireless charging       0\n",
       "dtype: int64"
      ]
     },
     "execution_count": 350,
     "metadata": {},
     "output_type": "execute_result"
    }
   ],
   "source": [
    "data.isna().sum()"
   ],
   "metadata": {
    "collapsed": false,
    "pycharm": {
     "name": "#%%\n"
    }
   }
  },
  {
   "cell_type": "code",
   "execution_count": 352,
   "outputs": [],
   "source": [
    "#чистим наны\n",
    "numeric_cols = data.select_dtypes(include=np.number).columns\n",
    "data[numeric_cols] = data[numeric_cols].fillna(data[numeric_cols].mean())\n",
    "\n",
    "categorical_cols = data.select_dtypes(include='object').columns\n",
    "data[categorical_cols] = data[categorical_cols].fillna(data[categorical_cols].mode().iloc[0])"
   ],
   "metadata": {
    "collapsed": false,
    "pycharm": {
     "name": "#%%\n"
    }
   }
  },
  {
   "cell_type": "code",
   "execution_count": 353,
   "outputs": [
    {
     "data": {
      "text/plain": [
       "Title                0\n",
       "Price                0\n",
       "Shipping_cost        0\n",
       "Sales_Count          0\n",
       "Sales_Value          0\n",
       "Link                 0\n",
       "Condition            0\n",
       "Seller Notes         0\n",
       "Brand                0\n",
       "Model                0\n",
       "Storage Capacity     0\n",
       "Network              0\n",
       "Camera Resolution    0\n",
       "Screen Size          0\n",
       "Lock Status          0\n",
       "RAM                  0\n",
       "Contract             0\n",
       "Operating System     0\n",
       "Model Number         0\n",
       "Style                0\n",
       "MPN                  0\n",
       "Connectivity         0\n",
       "Features             0\n",
       "SIM Card Slot        0\n",
       "Memory Card Type     0\n",
       "Processor            0\n",
       "Color                0\n",
       "4G                   0\n",
       "5G                   0\n",
       "Type-c               0\n",
       "Fast_usb             0\n",
       "NFC                  0\n",
       "Dual-Band            0\n",
       "FM                   0\n",
       "Global Version       0\n",
       "HDMI Micro           0\n",
       "Headphone Jack       0\n",
       "Infrared             0\n",
       "Lightning            0\n",
       "Quad-Band            0\n",
       "Tri-Band             0\n",
       "Wireless charging    0\n",
       "dtype: int64"
      ]
     },
     "execution_count": 353,
     "metadata": {},
     "output_type": "execute_result"
    }
   ],
   "source": [
    "data.isna().sum()"
   ],
   "metadata": {
    "collapsed": false,
    "pycharm": {
     "name": "#%%\n"
    }
   }
  },
  {
   "cell_type": "code",
   "execution_count": null,
   "outputs": [],
   "source": [
    "data.to_csv('preprocessed.tsv', index = False, sep = '\\t')"
   ],
   "metadata": {
    "collapsed": false,
    "pycharm": {
     "name": "#%%\n"
    }
   }
  }
 ],
 "metadata": {
  "kernelspec": {
   "display_name": "Python 3",
   "language": "python",
   "name": "python3"
  },
  "language_info": {
   "codemirror_mode": {
    "name": "ipython",
    "version": 2
   },
   "file_extension": ".py",
   "mimetype": "text/x-python",
   "name": "python",
   "nbconvert_exporter": "python",
   "pygments_lexer": "ipython2",
   "version": "2.7.6"
  }
 },
 "nbformat": 4,
 "nbformat_minor": 0
}